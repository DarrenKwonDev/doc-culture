{
 "cells": [
  {
   "cell_type": "code",
   "execution_count": 1,
   "metadata": {},
   "outputs": [
    {
     "name": "stdout",
     "output_type": "stream",
     "text": [
      "/Users/darrenkwon/statistics-and-data-driven/.venv/bin/python\n"
     ]
    }
   ],
   "source": [
    "!which python"
   ]
  },
  {
   "cell_type": "code",
   "execution_count": 2,
   "metadata": {},
   "outputs": [],
   "source": [
    "import numpy as np\n",
    "import pandas as pd\n",
    "import scipy as sp\n",
    "import matplotlib.pylab as plt"
   ]
  },
  {
   "cell_type": "code",
   "execution_count": 3,
   "metadata": {},
   "outputs": [
    {
     "data": {
      "text/html": [
       "<div>\n",
       "<style scoped>\n",
       "    .dataframe tbody tr th:only-of-type {\n",
       "        vertical-align: middle;\n",
       "    }\n",
       "\n",
       "    .dataframe tbody tr th {\n",
       "        vertical-align: top;\n",
       "    }\n",
       "\n",
       "    .dataframe thead th {\n",
       "        text-align: right;\n",
       "    }\n",
       "</style>\n",
       "<table border=\"1\" class=\"dataframe\">\n",
       "  <thead>\n",
       "    <tr style=\"text-align: right;\">\n",
       "      <th></th>\n",
       "      <th>year</th>\n",
       "      <th>age</th>\n",
       "      <th>sex</th>\n",
       "      <th>polviews</th>\n",
       "      <th>partyid</th>\n",
       "      <th>indus10</th>\n",
       "    </tr>\n",
       "    <tr>\n",
       "      <th>caseid</th>\n",
       "      <th></th>\n",
       "      <th></th>\n",
       "      <th></th>\n",
       "      <th></th>\n",
       "      <th></th>\n",
       "      <th></th>\n",
       "    </tr>\n",
       "  </thead>\n",
       "  <tbody>\n",
       "    <tr>\n",
       "      <th>1</th>\n",
       "      <td>1974</td>\n",
       "      <td>21.0</td>\n",
       "      <td>1</td>\n",
       "      <td>4.0</td>\n",
       "      <td>2.0</td>\n",
       "      <td>4970.0</td>\n",
       "    </tr>\n",
       "    <tr>\n",
       "      <th>2</th>\n",
       "      <td>1974</td>\n",
       "      <td>41.0</td>\n",
       "      <td>1</td>\n",
       "      <td>5.0</td>\n",
       "      <td>0.0</td>\n",
       "      <td>9160.0</td>\n",
       "    </tr>\n",
       "  </tbody>\n",
       "</table>\n",
       "</div>"
      ],
      "text/plain": [
       "        year   age  sex  polviews  partyid  indus10\n",
       "caseid                                             \n",
       "1       1974  21.0    1       4.0      2.0   4970.0\n",
       "2       1974  41.0    1       5.0      0.0   9160.0"
      ]
     },
     "execution_count": 3,
     "metadata": {},
     "output_type": "execute_result"
    }
   ],
   "source": [
    "gss_df = pd.read_csv(\"../../data/gss_bayes.csv\", index_col=0)\n",
    "gss_df.head(2)"
   ]
  },
  {
   "attachments": {},
   "cell_type": "markdown",
   "metadata": {},
   "source": [
    "## 확률  \n",
    "\n",
    "boolean series면 이거 평균 내면 그게 확률이잖아!"
   ]
  },
  {
   "cell_type": "code",
   "execution_count": 4,
   "metadata": {},
   "outputs": [
    {
     "data": {
      "text/plain": [
       "0.014769730168391155"
      ]
     },
     "execution_count": 4,
     "metadata": {},
     "output_type": "execute_result"
    }
   ],
   "source": [
    "BANKER_INDUS10 = 6870\n",
    "banker_ser = gss_df[\"indus10\"] == BANKER_INDUS10\n",
    "\n",
    "banker_ser.sum() # 은행원의 숫자\n",
    "banker_ser.mean() # 은행원의 비율 "
   ]
  },
  {
   "cell_type": "code",
   "execution_count": 7,
   "metadata": {},
   "outputs": [],
   "source": [
    "def prob(A):\n",
    "    \"\"\"A should be a boolean series or array.\"\"\"\n",
    "    return A.mean()"
   ]
  },
  {
   "cell_type": "code",
   "execution_count": 8,
   "metadata": {},
   "outputs": [
    {
     "data": {
      "text/plain": [
       "0.3662609048488537"
      ]
     },
     "execution_count": 8,
     "metadata": {},
     "output_type": "execute_result"
    }
   ],
   "source": [
    "prob(banker_ser) # 은행원의 비율. 0.014\n",
    "\n",
    "gss_df[\"sex\"].value_counts() # only 1 and 2\n",
    "female_ser = gss_df[\"sex\"] == 2\n",
    "prob(female_ser) # 여성 비율이 0.53 정도\n",
    "\n",
    "liberal_ser = gss_df[\"polviews\"] <= 3\n",
    "prob(liberal_ser) # 0.27\n",
    "\n",
    "democrat_ser = gss_df[\"partyid\"] <= 1\n",
    "prob(democrat_ser) # 0.366"
   ]
  },
  {
   "cell_type": "code",
   "execution_count": 9,
   "metadata": {},
   "outputs": [
    {
     "data": {
      "text/plain": [
       "0.004686548995739501"
      ]
     },
     "execution_count": 9,
     "metadata": {},
     "output_type": "execute_result"
    }
   ],
   "source": [
    "# 은행원이고 민주당일 확률 (AND 조건. P(A and B))\n",
    "prob(banker_ser & democrat_ser) # 0.004. 거의 0.4%"
   ]
  },
  {
   "attachments": {},
   "cell_type": "markdown",
   "metadata": {},
   "source": [
    "## 조건부 확률\n",
    "\n",
    "$P(\\theta \\mid D)$\n",
    "\n",
    "- boolean 형의 series일 때, $\\theta[D]$"
   ]
  },
  {
   "cell_type": "code",
   "execution_count": 10,
   "metadata": {},
   "outputs": [
    {
     "data": {
      "text/plain": [
       "0.27581004111500884"
      ]
     },
     "execution_count": 10,
     "metadata": {},
     "output_type": "execute_result"
    }
   ],
   "source": [
    "# liberal 성향을 가진 사람을 한 명 골랐을 때 민주당원일 확률\n",
    "prob(democrat_ser[liberal_ser]) # 0.52 \n",
    "\n",
    "# 은행원을 한 명 골랐을 때 그게 여자일 확률\n",
    "prob(female_ser[banker_ser]) # 77%\n",
    "\n",
    "def conditional(proposition, given):\n",
    "    \"\"\"proposition, given should be boolean series or array.\"\"\"\n",
    "    return prob(proposition[given])\n",
    "\n",
    "conditional(liberal_ser, female_ser) # 27%"
   ]
  },
  {
   "cell_type": "code",
   "execution_count": 13,
   "metadata": {},
   "outputs": [
    {
     "data": {
      "text/plain": [
       "0.17307692307692307"
      ]
     },
     "execution_count": 13,
     "metadata": {},
     "output_type": "execute_result"
    }
   ],
   "source": [
    "# 민주 성향이고 민주당원인 사람을 뽑았을 때 여성일 확률\n",
    "conditional(female_ser, given=liberal_ser & democrat_ser) # 0.57\n",
    "\n",
    "# 은행원일 때, 자유 성향인 여성일 확률\n",
    "conditional(liberal_ser & female_ser, given=banker_ser)"
   ]
  },
  {
   "attachments": {},
   "cell_type": "markdown",
   "metadata": {},
   "source": [
    "## bayes's theorem\n",
    "\n",
    "- $ P(A \\mid B) = P(A) \\frac{P(B \\mid A)}{P(B)} $  \n",
    "- 사후확률 = 사전확률 * likelihood(우도) / evidence\n",
    "\n",
    "### 전체 확률의 법칙\n",
    "\n",
    "\n",
    "- $B_1, B_2$가 전체 포괄적이며 상호 배제적일 때(MECE), \n",
    "  - $P(A) = P(B_1 \\cap A) + P(B_2 \\cap A)$\n",
    "  - 여기서 $P(A) = P(B_1)P(A \\mid B_1) + P(B_2)P(A \\mid B_2) $\n",
    "  - 최종적으로 다음과 같다. $P(A) = \\sum{P(B_i)P(A \\mid B_i)}$"
   ]
  },
  {
   "cell_type": "code",
   "execution_count": 30,
   "metadata": {},
   "outputs": [
    {
     "data": {
      "text/plain": [
       "(0.014769730168391155, 0.014769730168391155)"
      ]
     },
     "execution_count": 30,
     "metadata": {},
     "output_type": "execute_result"
    }
   ],
   "source": [
    "# P(은행) = P(은행 and 남성) + P(은행 and 여성) 일 것이란 계산.\n",
    "# 이는 모든 성이 남성, 여성으로 MECE하기 때문\n",
    "\n",
    "prob(banker_ser), prob(banker_ser & (gss_df[\"sex\"] == 1)) + prob(banker_ser & (gss_df[\"sex\"] == 2))"
   ]
  },
  {
   "cell_type": "code",
   "execution_count": 34,
   "metadata": {},
   "outputs": [
    {
     "data": {
      "text/plain": [
       "1.0     1442\n",
       "2.0     5808\n",
       "3.0     6243\n",
       "4.0    18943\n",
       "5.0     7940\n",
       "6.0     7319\n",
       "7.0     1595\n",
       "Name: polviews, dtype: int64"
      ]
     },
     "execution_count": 34,
     "metadata": {},
     "output_type": "execute_result"
    }
   ],
   "source": [
    "B = gss_df[\"polviews\"]\n",
    "gss_df[\"polviews\"].value_counts().sort_index()"
   ]
  },
  {
   "cell_type": "code",
   "execution_count": 38,
   "metadata": {},
   "outputs": [
    {
     "data": {
      "text/plain": [
       "0.014769730168391157"
      ]
     },
     "execution_count": 38,
     "metadata": {},
     "output_type": "execute_result"
    }
   ],
   "source": [
    "NEUTRAL = 4\n",
    "\n",
    "# P(은행원 and 중도) = P(중도) * P(은행원 | 중도)\n",
    "prob(B == NEUTRAL) * conditional(banker_ser, given=(B == NEUTRAL))\n",
    "\n",
    "# 전체확률의 법칙 적용. 정치 성향 1 ~ 7에 대해\n",
    "sum(prob(B == i) * conditional(banker_ser, given=(B == i)) for i in range(1, 8))"
   ]
  }
 ],
 "metadata": {
  "kernelspec": {
   "display_name": ".venv",
   "language": "python",
   "name": "python3"
  },
  "language_info": {
   "codemirror_mode": {
    "name": "ipython",
    "version": 3
   },
   "file_extension": ".py",
   "mimetype": "text/x-python",
   "name": "python",
   "nbconvert_exporter": "python",
   "pygments_lexer": "ipython3",
   "version": "3.10.6"
  },
  "orig_nbformat": 4,
  "vscode": {
   "interpreter": {
    "hash": "ab75e66f68e79a3186cf2454b6e5a8950ab3b526308e1b387d2eb8fdeb6fd15a"
   }
  }
 },
 "nbformat": 4,
 "nbformat_minor": 2
}
