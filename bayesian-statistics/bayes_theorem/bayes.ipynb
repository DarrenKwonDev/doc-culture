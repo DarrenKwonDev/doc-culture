{
 "cells": [
  {
   "cell_type": "code",
   "execution_count": 2,
   "metadata": {},
   "outputs": [],
   "source": [
    "import numpy as np\n",
    "import pandas as pd\n",
    "import scipy as sp\n",
    "import matplotlib.pylab as plt"
   ]
  },
  {
   "attachments": {},
   "cell_type": "markdown",
   "metadata": {},
   "source": [
    "## 베이즈 테이블\n",
    "\n",
    "- 베이즈 갱신(bayesian update) : 본래의 베이즈 공식에 증거가 추가될 때마다 확률을 재계산할 수 있다.  \n",
    "- 베이즈 테이블 : bayesian update를 편리하게 하기 위한 도구. 베이즈 공식을 그냥 테이블로 만들어서 풀어낸 것에 불과함.  \n",
    "\n",
    "- 아직 P(B)로 나누지 않은 P(A)P(B|A)을 표준화되지 않은 사후확률이라 함."
   ]
  },
  {
   "cell_type": "code",
   "execution_count": 15,
   "metadata": {},
   "outputs": [
    {
     "data": {
      "text/html": [
       "<div>\n",
       "<style scoped>\n",
       "    .dataframe tbody tr th:only-of-type {\n",
       "        vertical-align: middle;\n",
       "    }\n",
       "\n",
       "    .dataframe tbody tr th {\n",
       "        vertical-align: top;\n",
       "    }\n",
       "\n",
       "    .dataframe thead th {\n",
       "        text-align: right;\n",
       "    }\n",
       "</style>\n",
       "<table border=\"1\" class=\"dataframe\">\n",
       "  <thead>\n",
       "    <tr style=\"text-align: right;\">\n",
       "      <th></th>\n",
       "      <th>prior</th>\n",
       "      <th>likelihood</th>\n",
       "      <th>unnorm</th>\n",
       "      <th>posterior</th>\n",
       "    </tr>\n",
       "  </thead>\n",
       "  <tbody>\n",
       "    <tr>\n",
       "      <th>Bowl 1</th>\n",
       "      <td>0.5</td>\n",
       "      <td>0.75</td>\n",
       "      <td>0.375</td>\n",
       "      <td>0.6</td>\n",
       "    </tr>\n",
       "    <tr>\n",
       "      <th>Bowl 2</th>\n",
       "      <td>0.5</td>\n",
       "      <td>0.50</td>\n",
       "      <td>0.250</td>\n",
       "      <td>0.4</td>\n",
       "    </tr>\n",
       "  </tbody>\n",
       "</table>\n",
       "</div>"
      ],
      "text/plain": [
       "        prior  likelihood  unnorm  posterior\n",
       "Bowl 1    0.5        0.75   0.375        0.6\n",
       "Bowl 2    0.5        0.50   0.250        0.4"
      ]
     },
     "execution_count": 15,
     "metadata": {},
     "output_type": "execute_result"
    }
   ],
   "source": [
    "# 항아리 문제\n",
    "\n",
    "table = pd.DataFrame(index=[\"Bowl 1\", \"Bowl 2\"])\n",
    "table[\"prior\"] = 1/2, 1/2 # 사전 확률\n",
    "table[\"likelihood\"] = 3/4, 1/2 # 가능도 P(B | A)\n",
    "table[\"unnorm\"] = table[\"prior\"] * table[\"likelihood\"] # unnormalize. 사후 확률의 분자\n",
    "prob_data = np.sum(table[\"unnorm\"]) # 사후 확률의 분모 P(B), evidence\n",
    "table[\"posterior\"] = table[\"unnorm\"] / prob_data # 사후 확률\n",
    "\n",
    "# 위 과정은 반복되므로 함수로.\n",
    "def update(table):\n",
    "    \"\"\"prior와 likelihood를 활용하여 posterior를 만들어냅니다.\"\"\"\n",
    "    table[\"unnorm\"] = table[\"prior\"] * table[\"likelihood\"]\n",
    "    prob_data = np.sum(table[\"unnorm\"]) # evidence\n",
    "    table[\"posterior\"] = table[\"unnorm\"] / prob_data\n",
    "    return prob_data\n",
    "\n",
    "table # posterior의 합이 1이 됨."
   ]
  },
  {
   "cell_type": "code",
   "execution_count": 19,
   "metadata": {},
   "outputs": [
    {
     "data": {
      "text/html": [
       "<div>\n",
       "<style scoped>\n",
       "    .dataframe tbody tr th:only-of-type {\n",
       "        vertical-align: middle;\n",
       "    }\n",
       "\n",
       "    .dataframe tbody tr th {\n",
       "        vertical-align: top;\n",
       "    }\n",
       "\n",
       "    .dataframe thead th {\n",
       "        text-align: right;\n",
       "    }\n",
       "</style>\n",
       "<table border=\"1\" class=\"dataframe\">\n",
       "  <thead>\n",
       "    <tr style=\"text-align: right;\">\n",
       "      <th></th>\n",
       "      <th>prior</th>\n",
       "      <th>likelihood</th>\n",
       "      <th>unnorm</th>\n",
       "      <th>posterior</th>\n",
       "    </tr>\n",
       "  </thead>\n",
       "  <tbody>\n",
       "    <tr>\n",
       "      <th>6</th>\n",
       "      <td>1/3</td>\n",
       "      <td>1/6</td>\n",
       "      <td>1/18</td>\n",
       "      <td>4/9</td>\n",
       "    </tr>\n",
       "    <tr>\n",
       "      <th>8</th>\n",
       "      <td>1/3</td>\n",
       "      <td>1/8</td>\n",
       "      <td>1/24</td>\n",
       "      <td>1/3</td>\n",
       "    </tr>\n",
       "    <tr>\n",
       "      <th>12</th>\n",
       "      <td>1/3</td>\n",
       "      <td>1/12</td>\n",
       "      <td>1/36</td>\n",
       "      <td>2/9</td>\n",
       "    </tr>\n",
       "  </tbody>\n",
       "</table>\n",
       "</div>"
      ],
      "text/plain": [
       "   prior likelihood unnorm posterior\n",
       "6    1/3        1/6   1/18       4/9\n",
       "8    1/3        1/8   1/24       1/3\n",
       "12   1/3       1/12   1/36       2/9"
      ]
     },
     "execution_count": 19,
     "metadata": {},
     "output_type": "execute_result"
    }
   ],
   "source": [
    "# 주사위 문제\n",
    "from fractions import Fraction as F\n",
    "\n",
    "# A : 육면체 주사위를 뽑았음\n",
    "# B : 1을 뽑았음\n",
    "# P(A | B) = P(A) * P(B | A) / P(B)\n",
    "\n",
    "table2 = pd.DataFrame(index=[6, 8, 12])\n",
    "table2['prior'] = F(1, 3) # 6, 8, 12면체 주사위가 등장할 확률\n",
    "table2['likelihood'] = [F(1, 6), F(1, 8), F(1, 12)] # 6, 8, 12면체 주사위에서 1이 나올 확률\n",
    "\n",
    "prob_data = update(table2)\n",
    "prob_data\n",
    "table2"
   ]
  },
  {
   "cell_type": "code",
   "execution_count": 23,
   "metadata": {},
   "outputs": [
    {
     "data": {
      "text/html": [
       "<div>\n",
       "<style scoped>\n",
       "    .dataframe tbody tr th:only-of-type {\n",
       "        vertical-align: middle;\n",
       "    }\n",
       "\n",
       "    .dataframe tbody tr th {\n",
       "        vertical-align: top;\n",
       "    }\n",
       "\n",
       "    .dataframe thead th {\n",
       "        text-align: right;\n",
       "    }\n",
       "</style>\n",
       "<table border=\"1\" class=\"dataframe\">\n",
       "  <thead>\n",
       "    <tr style=\"text-align: right;\">\n",
       "      <th></th>\n",
       "      <th>prior</th>\n",
       "      <th>likelihood</th>\n",
       "      <th>unnorm</th>\n",
       "      <th>posterior</th>\n",
       "    </tr>\n",
       "  </thead>\n",
       "  <tbody>\n",
       "    <tr>\n",
       "      <th>Door 1</th>\n",
       "      <td>1/3</td>\n",
       "      <td>1/2</td>\n",
       "      <td>1/6</td>\n",
       "      <td>1/3</td>\n",
       "    </tr>\n",
       "    <tr>\n",
       "      <th>Door 2</th>\n",
       "      <td>1/3</td>\n",
       "      <td>1</td>\n",
       "      <td>1/3</td>\n",
       "      <td>2/3</td>\n",
       "    </tr>\n",
       "    <tr>\n",
       "      <th>Door 3</th>\n",
       "      <td>1/3</td>\n",
       "      <td>0</td>\n",
       "      <td>0</td>\n",
       "      <td>0</td>\n",
       "    </tr>\n",
       "  </tbody>\n",
       "</table>\n",
       "</div>"
      ],
      "text/plain": [
       "       prior likelihood unnorm posterior\n",
       "Door 1   1/3        1/2    1/6       1/3\n",
       "Door 2   1/3          1    1/3       2/3\n",
       "Door 3   1/3          0      0         0"
      ]
     },
     "execution_count": 23,
     "metadata": {},
     "output_type": "execute_result"
    }
   ],
   "source": [
    "# 몬티홀 문제\n",
    "\n",
    "table3 = pd.DataFrame(index=[\"Door 1\", \"Door 2\", \"Door 3\"])\n",
    "\n",
    "# P(A | B) = P(A) * P(B | A) / P(B)\n",
    "# A : 문을 고른다.\n",
    "# B : 문을 열었을 때 자동차가 있다.\n",
    "\n",
    "table3[\"prior\"] = F(1, 3)\n",
    "table3[\"likelihood\"] = [F(1, 2), 1, 0]\n",
    "evidence = update(table3)\n",
    "table3"
   ]
  }
 ],
 "metadata": {
  "kernelspec": {
   "display_name": ".venv",
   "language": "python",
   "name": "python3"
  },
  "language_info": {
   "codemirror_mode": {
    "name": "ipython",
    "version": 3
   },
   "file_extension": ".py",
   "mimetype": "text/x-python",
   "name": "python",
   "nbconvert_exporter": "python",
   "pygments_lexer": "ipython3",
   "version": "3.10.6"
  },
  "orig_nbformat": 4,
  "vscode": {
   "interpreter": {
    "hash": "ab75e66f68e79a3186cf2454b6e5a8950ab3b526308e1b387d2eb8fdeb6fd15a"
   }
  }
 },
 "nbformat": 4,
 "nbformat_minor": 2
}
