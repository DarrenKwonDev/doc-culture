{
  "cells": [
    {
      "cell_type": "markdown",
      "metadata": {
        "id": "9Rpbp0MWyrfr"
      },
      "source": [
        "## [0] 실습 소개\n",
        "\n",
        "이번 실습에서 해볼 내용\n",
        "- Context-Aware Recommender System (CARS)\n",
        "  - FM (Factorization Machine)\n",
        "  - FFM (Field-Aware Factorization Machine)\n",
        "- Deep Learning Recommender System\n",
        "  - NCF (Neural Collaborative Filtering)\n",
        "  - AutoRec\n",
        "  - WDN (Wide & Deep Network)\n",
        "  - DCN (Deep & Cross Network)"
      ]
    },
    {
      "cell_type": "markdown",
      "metadata": {
        "id": "tTYHHhYjRrDx"
      },
      "source": [
        "RecSys 기초 대회 강의에서는 Book Crossing 데이터를 사용하여, 모든 실습 및 미션, 대회를 진행합니다. [Kaggle Book-Crossing](https://www.kaggle.com/datasets/ruchi798/bookcrossing-dataset) 을 출처로 하며, 데이터는 재구성되어 제공되었습니다. 해당 데이터는 CC0: Public Domain 라이센스임을 밝힙니다."
      ]
    },
    {
      "cell_type": "code",
      "execution_count": null,
      "metadata": {
        "id": "7GiAQgsQvnlp"
      },
      "outputs": [],
      "source": [
        "import torch\n",
        "import torch.nn as nn\n",
        "import torch.nn.functional as F\n",
        "from torch.utils.data import TensorDataset, DataLoader, Dataset\n",
        "from torch.autograd import Variable\n",
        "import numpy as np\n",
        "import math\n",
        "import tqdm\n",
        "import pdb\n",
        "import pandas as pd\n",
        "from sklearn.model_selection import train_test_split\n",
        "from sklearn.metrics import roc_auc_score\n",
        "import warnings\n",
        "\n",
        "warnings.filterwarnings(action='ignore')"
      ]
    },
    {
      "cell_type": "markdown",
      "metadata": {
        "id": "ItbOzkRN2kxZ"
      },
      "source": [
        "# [1] 데이터 불러오기\n",
        "book data를 이용합니다. 4강 실습용으로 샘플링된 데이터를 이용하며, 아래 코드를 통해 불러올 수 있습니다."
      ]
    },
    {
      "cell_type": "code",
      "execution_count": null,
      "metadata": {
        "colab": {
          "base_uri": "https://localhost:8080/"
        },
        "id": "tkXM6iNZ2mfG",
        "outputId": "9502d1f2-6fae-4ab4-d3d1-9e30cb8c54e3"
      },
      "outputs": [
        {
          "name": "stdout",
          "output_type": "stream",
          "text": [
            "--2022-10-12 14:49:31--  https://docs.google.com/uc?export=download&confirm=&id=1jdLFf4JyfWo1406LJ2f8no67YPf15X3f\n",
            "Resolving docs.google.com (docs.google.com)... 142.251.31.113, 142.251.31.138, 142.251.31.101, ...\n",
            "Connecting to docs.google.com (docs.google.com)|142.251.31.113|:443... connected.\n",
            "HTTP request sent, awaiting response... 303 See Other\n",
            "Location: https://doc-00-94-docs.googleusercontent.com/docs/securesc/ha0ro937gcuc7l7deffksulhg5h7mbp1/ls1nnfsjjjfitbnm8f98qok0trmnrcsi/1665586125000/15943349948421319767/*/1jdLFf4JyfWo1406LJ2f8no67YPf15X3f?e=download&uuid=a32042a3-947f-4255-848f-ff4ce906bf06 [following]\n",
            "Warning: wildcards not supported in HTTP.\n",
            "--2022-10-12 14:49:32--  https://doc-00-94-docs.googleusercontent.com/docs/securesc/ha0ro937gcuc7l7deffksulhg5h7mbp1/ls1nnfsjjjfitbnm8f98qok0trmnrcsi/1665586125000/15943349948421319767/*/1jdLFf4JyfWo1406LJ2f8no67YPf15X3f?e=download&uuid=a32042a3-947f-4255-848f-ff4ce906bf06\n",
            "Resolving doc-00-94-docs.googleusercontent.com (doc-00-94-docs.googleusercontent.com)... 74.125.143.132, 2a00:1450:4013:c03::84\n",
            "Connecting to doc-00-94-docs.googleusercontent.com (doc-00-94-docs.googleusercontent.com)|74.125.143.132|:443... connected.\n",
            "HTTP request sent, awaiting response... 200 OK\n",
            "Length: 8438 (8.2K) [text/csv]\n",
            "Saving to: ‘users.csv’\n",
            "\n",
            "users.csv           100%[===================>]   8.24K  --.-KB/s    in 0s      \n",
            "\n",
            "2022-10-12 14:49:32 (48.4 MB/s) - ‘users.csv’ saved [8438/8438]\n",
            "\n",
            "--2022-10-12 14:49:34--  https://docs.google.com/uc?export=download&confirm=&id=1-EZ2fFCA5RNoqlyM69NeN-L4Y6qTLnQN\n",
            "Resolving docs.google.com (docs.google.com)... 142.251.31.113, 142.251.31.138, 142.251.31.101, ...\n",
            "Connecting to docs.google.com (docs.google.com)|142.251.31.113|:443... connected.\n",
            "HTTP request sent, awaiting response... 303 See Other\n",
            "Location: https://doc-14-94-docs.googleusercontent.com/docs/securesc/ha0ro937gcuc7l7deffksulhg5h7mbp1/65a3me4ev8vj8912tof7am5im5ntu140/1665586125000/15943349948421319767/*/1-EZ2fFCA5RNoqlyM69NeN-L4Y6qTLnQN?e=download&uuid=a5ef8f23-8be7-498f-8305-33dd07c7508e [following]\n",
            "Warning: wildcards not supported in HTTP.\n",
            "--2022-10-12 14:49:35--  https://doc-14-94-docs.googleusercontent.com/docs/securesc/ha0ro937gcuc7l7deffksulhg5h7mbp1/65a3me4ev8vj8912tof7am5im5ntu140/1665586125000/15943349948421319767/*/1-EZ2fFCA5RNoqlyM69NeN-L4Y6qTLnQN?e=download&uuid=a5ef8f23-8be7-498f-8305-33dd07c7508e\n",
            "Resolving doc-14-94-docs.googleusercontent.com (doc-14-94-docs.googleusercontent.com)... 74.125.143.132, 2a00:1450:4013:c03::84\n",
            "Connecting to doc-14-94-docs.googleusercontent.com (doc-14-94-docs.googleusercontent.com)|74.125.143.132|:443... connected.\n",
            "HTTP request sent, awaiting response... 200 OK\n",
            "Length: 1510106 (1.4M) [text/csv]\n",
            "Saving to: ‘books.csv’\n",
            "\n",
            "books.csv           100%[===================>]   1.44M  --.-KB/s    in 0.01s   \n",
            "\n",
            "2022-10-12 14:49:35 (108 MB/s) - ‘books.csv’ saved [1510106/1510106]\n",
            "\n",
            "--2022-10-12 14:49:36--  https://docs.google.com/uc?export=download&confirm=&id=1-I3YKtaJb5IPvOOFqkonQj5ikJQHfoUC\n",
            "Resolving docs.google.com (docs.google.com)... 142.251.31.113, 142.251.31.138, 142.251.31.101, ...\n",
            "Connecting to docs.google.com (docs.google.com)|142.251.31.113|:443... connected.\n",
            "HTTP request sent, awaiting response... 303 See Other\n",
            "Location: https://doc-00-94-docs.googleusercontent.com/docs/securesc/ha0ro937gcuc7l7deffksulhg5h7mbp1/fip94073m896di4o93lop4eg42g9g8mo/1665586125000/15943349948421319767/*/1-I3YKtaJb5IPvOOFqkonQj5ikJQHfoUC?e=download&uuid=15d30dee-14ab-41df-b302-b12843f69f0f [following]\n",
            "Warning: wildcards not supported in HTTP.\n",
            "--2022-10-12 14:49:37--  https://doc-00-94-docs.googleusercontent.com/docs/securesc/ha0ro937gcuc7l7deffksulhg5h7mbp1/fip94073m896di4o93lop4eg42g9g8mo/1665586125000/15943349948421319767/*/1-I3YKtaJb5IPvOOFqkonQj5ikJQHfoUC?e=download&uuid=15d30dee-14ab-41df-b302-b12843f69f0f\n",
            "Resolving doc-00-94-docs.googleusercontent.com (doc-00-94-docs.googleusercontent.com)... 74.125.143.132, 2a00:1450:4013:c03::84\n",
            "Connecting to doc-00-94-docs.googleusercontent.com (doc-00-94-docs.googleusercontent.com)|74.125.143.132|:443... connected.\n",
            "HTTP request sent, awaiting response... 200 OK\n",
            "Length: 331578 (324K) [text/csv]\n",
            "Saving to: ‘ratings.csv’\n",
            "\n",
            "ratings.csv         100%[===================>] 323.81K  --.-KB/s    in 0.003s  \n",
            "\n",
            "2022-10-12 14:49:37 (91.3 MB/s) - ‘ratings.csv’ saved [331578/331578]\n",
            "\n"
          ]
        }
      ],
      "source": [
        "!wget --load-cookies ~/cookies.txt \"https://docs.google.com/uc?export=download&confirm=$(wget --quiet --save-cookies ~/cookies.txt --keep-session-cookies --no-check-certificate 'https://docs.google.com/uc?export=download&id=1jdLFf4JyfWo1406LJ2f8no67YPf15X3f' -O- | sed -rn 's/.*confirm=([0-9A-Za-z_]+).*/\\1\\n/p')&id=1jdLFf4JyfWo1406LJ2f8no67YPf15X3f\" -O users.csv && rm -rf ~/cookies.txt\n",
        "!wget --load-cookies ~/cookies.txt \"https://docs.google.com/uc?export=download&confirm=$(wget --quiet --save-cookies ~/cookies.txt --keep-session-cookies --no-check-certificate 'https://docs.google.com/uc?export=download&id=1-EZ2fFCA5RNoqlyM69NeN-L4Y6qTLnQN' -O- | sed -rn 's/.*confirm=([0-9A-Za-z_]+).*/\\1\\n/p')&id=1-EZ2fFCA5RNoqlyM69NeN-L4Y6qTLnQN\" -O books.csv && rm -rf ~/cookies.txt\n",
        "!wget --load-cookies ~/cookies.txt \"https://docs.google.com/uc?export=download&confirm=$(wget --quiet --save-cookies ~/cookies.txt --keep-session-cookies --no-check-certificate 'https://docs.google.com/uc?export=download&id=1-I3YKtaJb5IPvOOFqkonQj5ikJQHfoUC' -O- | sed -rn 's/.*confirm=([0-9A-Za-z_]+).*/\\1\\n/p')&id=1-I3YKtaJb5IPvOOFqkonQj5ikJQHfoUC\" -O ratings.csv && rm -rf ~/cookies.txt"
      ]
    },
    {
      "cell_type": "code",
      "execution_count": null,
      "metadata": {
        "id": "wClJnRjDdlZ7"
      },
      "outputs": [],
      "source": [
        "books = pd.read_csv('./books.csv')\n",
        "users = pd.read_csv('./users.csv')\n",
        "ratings = pd.read_csv('./ratings.csv')"
      ]
    },
    {
      "cell_type": "markdown",
      "metadata": {
        "id": "muab-Zfi5b4-"
      },
      "source": [
        "해당 데이터셋에서는 isbn을 item_id로 볼 수 있으며, user_id가 users_id로 볼 수 있습니다."
      ]
    },
    {
      "cell_type": "markdown",
      "metadata": {
        "id": "8LLvSfFP541I"
      },
      "source": [
        "implicit 형태로 0/1 문제로 변경하여 진행합니다"
      ]
    },
    {
      "cell_type": "code",
      "execution_count": null,
      "metadata": {
        "id": "FKUwPdeDUzoX"
      },
      "outputs": [],
      "source": [
        "ratings['rating'] = [int(i/7) for i in ratings['rating']]"
      ]
    },
    {
      "cell_type": "markdown",
      "metadata": {
        "id": "eIugyMOsiZO8"
      },
      "source": [
        "하이퍼 파라미터를 포함한 미리 정의할 내용들을 미리 선언하겠습니다"
      ]
    },
    {
      "cell_type": "code",
      "execution_count": null,
      "metadata": {
        "colab": {
          "base_uri": "https://localhost:8080/"
        },
        "id": "9h_wXfFic8-B",
        "outputId": "d27aab99-cfb0-4410-d00e-1665bc15071e"
      },
      "outputs": [
        {
          "name": "stdout",
          "output_type": "stream",
          "text": [
            "cpu\n"
          ]
        }
      ],
      "source": [
        "######## Hyperparameter ########\n",
        "batch_size = 256 # 배치 사이즈\n",
        "data_shuffle = True\n",
        "embed_dim = 8 # embed feature의 dimension\n",
        "epochs = 100 # epoch 돌릴 횟수\n",
        "learning_rate = 0.001 # 학습이 반영되는 정도를 나타내는 파라미터\n",
        "weight_decay=1e-6 # 정규화를 위한 파라미터\n",
        "gpu_idx = 0\n",
        "\n",
        "seed=42\n",
        "\n",
        "torch.manual_seed(seed)\n",
        "if torch.cuda.is_available():\n",
        "    torch.cuda.manual_seed_all(seed)\n",
        "    torch.backends.cudnn.deterministic = True\n",
        "\n",
        "device = torch.device(\"cuda:{}\".format(gpu_idx) if torch.cuda.is_available() else \"cpu\")\n",
        "print(device)"
      ]
    },
    {
      "cell_type": "markdown",
      "metadata": {
        "id": "64yUdn3p6KXz"
      },
      "source": [
        "## train, test 데이터로 split 해줍니다"
      ]
    },
    {
      "cell_type": "markdown",
      "metadata": {
        "id": "HxgWZwcBfvfK"
      },
      "source": [
        "FM/FFM에 필요한 데이터셋"
      ]
    },
    {
      "cell_type": "code",
      "execution_count": null,
      "metadata": {
        "id": "s17Cfc8KfxS_"
      },
      "outputs": [],
      "source": [
        "def age_map(x: int) -> int:\n",
        "    x = int(x)\n",
        "    if x < 20:\n",
        "        return 1\n",
        "    elif x >= 20 and x < 30:\n",
        "        return 2\n",
        "    elif x >= 30 and x < 40:\n",
        "        return 3\n",
        "    elif x >= 40 and x < 50:\n",
        "        return 4\n",
        "    elif x >= 50 and x < 60:\n",
        "        return 5\n",
        "    else:\n",
        "        return 6"
      ]
    },
    {
      "cell_type": "markdown",
      "metadata": {
        "id": "Pp_3lufk6KCN"
      },
      "source": [
        "user_id와 isbn 정보에 대해 값을 직접 사용하는 대신 인덱스화 하여 인덱스된 값을 사용합니다"
      ]
    },
    {
      "cell_type": "code",
      "execution_count": null,
      "metadata": {
        "id": "juhGk8rg6I6g"
      },
      "outputs": [],
      "source": [
        "user2idx = {v:k for k,v in enumerate(ratings['user_id'].unique())}\n",
        "book2idx = {v:k for k,v in enumerate(ratings['isbn'].unique())}"
      ]
    },
    {
      "cell_type": "code",
      "execution_count": null,
      "metadata": {
        "colab": {
          "base_uri": "https://localhost:8080/",
          "height": 424
        },
        "id": "NM1BBY5hNEog",
        "outputId": "41cbea59-c760-46ce-9eea-242de7de2677"
      },
      "outputs": [
        {
          "data": {
            "text/html": [
              "\n",
              "  <div id=\"df-eb29ad2b-3d48-4568-8b0b-7392f994fcb0\">\n",
              "    <div class=\"colab-df-container\">\n",
              "      <div>\n",
              "<style scoped>\n",
              "    .dataframe tbody tr th:only-of-type {\n",
              "        vertical-align: middle;\n",
              "    }\n",
              "\n",
              "    .dataframe tbody tr th {\n",
              "        vertical-align: top;\n",
              "    }\n",
              "\n",
              "    .dataframe thead th {\n",
              "        text-align: right;\n",
              "    }\n",
              "</style>\n",
              "<table border=\"1\" class=\"dataframe\">\n",
              "  <thead>\n",
              "    <tr style=\"text-align: right;\">\n",
              "      <th></th>\n",
              "      <th>user_id</th>\n",
              "      <th>isbn</th>\n",
              "      <th>rating</th>\n",
              "      <th>age</th>\n",
              "      <th>location_country</th>\n",
              "      <th>location_state</th>\n",
              "      <th>location_city</th>\n",
              "      <th>category</th>\n",
              "      <th>publisher</th>\n",
              "      <th>language</th>\n",
              "    </tr>\n",
              "  </thead>\n",
              "  <tbody>\n",
              "    <tr>\n",
              "      <th>0</th>\n",
              "      <td>0</td>\n",
              "      <td>0</td>\n",
              "      <td>1</td>\n",
              "      <td>2</td>\n",
              "      <td>0</td>\n",
              "      <td>0</td>\n",
              "      <td>0</td>\n",
              "      <td>0</td>\n",
              "      <td>0</td>\n",
              "      <td>0</td>\n",
              "    </tr>\n",
              "    <tr>\n",
              "      <th>1</th>\n",
              "      <td>61</td>\n",
              "      <td>0</td>\n",
              "      <td>1</td>\n",
              "      <td>4</td>\n",
              "      <td>0</td>\n",
              "      <td>1</td>\n",
              "      <td>1</td>\n",
              "      <td>0</td>\n",
              "      <td>0</td>\n",
              "      <td>0</td>\n",
              "    </tr>\n",
              "    <tr>\n",
              "      <th>2</th>\n",
              "      <td>76</td>\n",
              "      <td>0</td>\n",
              "      <td>1</td>\n",
              "      <td>3</td>\n",
              "      <td>0</td>\n",
              "      <td>2</td>\n",
              "      <td>2</td>\n",
              "      <td>0</td>\n",
              "      <td>0</td>\n",
              "      <td>0</td>\n",
              "    </tr>\n",
              "    <tr>\n",
              "      <th>3</th>\n",
              "      <td>103</td>\n",
              "      <td>0</td>\n",
              "      <td>1</td>\n",
              "      <td>3</td>\n",
              "      <td>0</td>\n",
              "      <td>3</td>\n",
              "      <td>3</td>\n",
              "      <td>0</td>\n",
              "      <td>0</td>\n",
              "      <td>0</td>\n",
              "    </tr>\n",
              "    <tr>\n",
              "      <th>4</th>\n",
              "      <td>130</td>\n",
              "      <td>0</td>\n",
              "      <td>0</td>\n",
              "      <td>3</td>\n",
              "      <td>0</td>\n",
              "      <td>0</td>\n",
              "      <td>0</td>\n",
              "      <td>0</td>\n",
              "      <td>0</td>\n",
              "      <td>0</td>\n",
              "    </tr>\n",
              "    <tr>\n",
              "      <th>...</th>\n",
              "      <td>...</td>\n",
              "      <td>...</td>\n",
              "      <td>...</td>\n",
              "      <td>...</td>\n",
              "      <td>...</td>\n",
              "      <td>...</td>\n",
              "      <td>...</td>\n",
              "      <td>...</td>\n",
              "      <td>...</td>\n",
              "      <td>...</td>\n",
              "    </tr>\n",
              "    <tr>\n",
              "      <th>16760</th>\n",
              "      <td>246</td>\n",
              "      <td>12507</td>\n",
              "      <td>0</td>\n",
              "      <td>3</td>\n",
              "      <td>0</td>\n",
              "      <td>11</td>\n",
              "      <td>135</td>\n",
              "      <td>377</td>\n",
              "      <td>39</td>\n",
              "      <td>0</td>\n",
              "    </tr>\n",
              "    <tr>\n",
              "      <th>16761</th>\n",
              "      <td>246</td>\n",
              "      <td>12508</td>\n",
              "      <td>1</td>\n",
              "      <td>3</td>\n",
              "      <td>0</td>\n",
              "      <td>11</td>\n",
              "      <td>135</td>\n",
              "      <td>0</td>\n",
              "      <td>643</td>\n",
              "      <td>0</td>\n",
              "    </tr>\n",
              "    <tr>\n",
              "      <th>16762</th>\n",
              "      <td>246</td>\n",
              "      <td>12509</td>\n",
              "      <td>0</td>\n",
              "      <td>3</td>\n",
              "      <td>0</td>\n",
              "      <td>11</td>\n",
              "      <td>135</td>\n",
              "      <td>4</td>\n",
              "      <td>560</td>\n",
              "      <td>0</td>\n",
              "    </tr>\n",
              "    <tr>\n",
              "      <th>16763</th>\n",
              "      <td>246</td>\n",
              "      <td>12510</td>\n",
              "      <td>1</td>\n",
              "      <td>3</td>\n",
              "      <td>0</td>\n",
              "      <td>11</td>\n",
              "      <td>135</td>\n",
              "      <td>17</td>\n",
              "      <td>730</td>\n",
              "      <td>0</td>\n",
              "    </tr>\n",
              "    <tr>\n",
              "      <th>16764</th>\n",
              "      <td>246</td>\n",
              "      <td>12511</td>\n",
              "      <td>1</td>\n",
              "      <td>3</td>\n",
              "      <td>0</td>\n",
              "      <td>11</td>\n",
              "      <td>135</td>\n",
              "      <td>0</td>\n",
              "      <td>643</td>\n",
              "      <td>0</td>\n",
              "    </tr>\n",
              "  </tbody>\n",
              "</table>\n",
              "<p>16765 rows × 10 columns</p>\n",
              "</div>\n",
              "      <button class=\"colab-df-convert\" onclick=\"convertToInteractive('df-eb29ad2b-3d48-4568-8b0b-7392f994fcb0')\"\n",
              "              title=\"Convert this dataframe to an interactive table.\"\n",
              "              style=\"display:none;\">\n",
              "        \n",
              "  <svg xmlns=\"http://www.w3.org/2000/svg\" height=\"24px\"viewBox=\"0 0 24 24\"\n",
              "       width=\"24px\">\n",
              "    <path d=\"M0 0h24v24H0V0z\" fill=\"none\"/>\n",
              "    <path d=\"M18.56 5.44l.94 2.06.94-2.06 2.06-.94-2.06-.94-.94-2.06-.94 2.06-2.06.94zm-11 1L8.5 8.5l.94-2.06 2.06-.94-2.06-.94L8.5 2.5l-.94 2.06-2.06.94zm10 10l.94 2.06.94-2.06 2.06-.94-2.06-.94-.94-2.06-.94 2.06-2.06.94z\"/><path d=\"M17.41 7.96l-1.37-1.37c-.4-.4-.92-.59-1.43-.59-.52 0-1.04.2-1.43.59L10.3 9.45l-7.72 7.72c-.78.78-.78 2.05 0 2.83L4 21.41c.39.39.9.59 1.41.59.51 0 1.02-.2 1.41-.59l7.78-7.78 2.81-2.81c.8-.78.8-2.07 0-2.86zM5.41 20L4 18.59l7.72-7.72 1.47 1.35L5.41 20z\"/>\n",
              "  </svg>\n",
              "      </button>\n",
              "      \n",
              "  <style>\n",
              "    .colab-df-container {\n",
              "      display:flex;\n",
              "      flex-wrap:wrap;\n",
              "      gap: 12px;\n",
              "    }\n",
              "\n",
              "    .colab-df-convert {\n",
              "      background-color: #E8F0FE;\n",
              "      border: none;\n",
              "      border-radius: 50%;\n",
              "      cursor: pointer;\n",
              "      display: none;\n",
              "      fill: #1967D2;\n",
              "      height: 32px;\n",
              "      padding: 0 0 0 0;\n",
              "      width: 32px;\n",
              "    }\n",
              "\n",
              "    .colab-df-convert:hover {\n",
              "      background-color: #E2EBFA;\n",
              "      box-shadow: 0px 1px 2px rgba(60, 64, 67, 0.3), 0px 1px 3px 1px rgba(60, 64, 67, 0.15);\n",
              "      fill: #174EA6;\n",
              "    }\n",
              "\n",
              "    [theme=dark] .colab-df-convert {\n",
              "      background-color: #3B4455;\n",
              "      fill: #D2E3FC;\n",
              "    }\n",
              "\n",
              "    [theme=dark] .colab-df-convert:hover {\n",
              "      background-color: #434B5C;\n",
              "      box-shadow: 0px 1px 3px 1px rgba(0, 0, 0, 0.15);\n",
              "      filter: drop-shadow(0px 1px 2px rgba(0, 0, 0, 0.3));\n",
              "      fill: #FFFFFF;\n",
              "    }\n",
              "  </style>\n",
              "\n",
              "      <script>\n",
              "        const buttonEl =\n",
              "          document.querySelector('#df-eb29ad2b-3d48-4568-8b0b-7392f994fcb0 button.colab-df-convert');\n",
              "        buttonEl.style.display =\n",
              "          google.colab.kernel.accessAllowed ? 'block' : 'none';\n",
              "\n",
              "        async function convertToInteractive(key) {\n",
              "          const element = document.querySelector('#df-eb29ad2b-3d48-4568-8b0b-7392f994fcb0');\n",
              "          const dataTable =\n",
              "            await google.colab.kernel.invokeFunction('convertToInteractive',\n",
              "                                                     [key], {});\n",
              "          if (!dataTable) return;\n",
              "\n",
              "          const docLinkHtml = 'Like what you see? Visit the ' +\n",
              "            '<a target=\"_blank\" href=https://colab.research.google.com/notebooks/data_table.ipynb>data table notebook</a>'\n",
              "            + ' to learn more about interactive tables.';\n",
              "          element.innerHTML = '';\n",
              "          dataTable['output_type'] = 'display_data';\n",
              "          await google.colab.output.renderOutput(dataTable, element);\n",
              "          const docLink = document.createElement('div');\n",
              "          docLink.innerHTML = docLinkHtml;\n",
              "          element.appendChild(docLink);\n",
              "        }\n",
              "      </script>\n",
              "    </div>\n",
              "  </div>\n",
              "  "
            ],
            "text/plain": [
              "       user_id   isbn  rating  age  location_country  location_state  \\\n",
              "0            0      0       1    2                 0               0   \n",
              "1           61      0       1    4                 0               1   \n",
              "2           76      0       1    3                 0               2   \n",
              "3          103      0       1    3                 0               3   \n",
              "4          130      0       0    3                 0               0   \n",
              "...        ...    ...     ...  ...               ...             ...   \n",
              "16760      246  12507       0    3                 0              11   \n",
              "16761      246  12508       1    3                 0              11   \n",
              "16762      246  12509       0    3                 0              11   \n",
              "16763      246  12510       1    3                 0              11   \n",
              "16764      246  12511       1    3                 0              11   \n",
              "\n",
              "       location_city  category  publisher  language  \n",
              "0                  0         0          0         0  \n",
              "1                  1         0          0         0  \n",
              "2                  2         0          0         0  \n",
              "3                  3         0          0         0  \n",
              "4                  0         0          0         0  \n",
              "...              ...       ...        ...       ...  \n",
              "16760            135       377         39         0  \n",
              "16761            135         0        643         0  \n",
              "16762            135         4        560         0  \n",
              "16763            135        17        730         0  \n",
              "16764            135         0        643         0  \n",
              "\n",
              "[16765 rows x 10 columns]"
            ]
          },
          "execution_count": 8,
          "metadata": {},
          "output_type": "execute_result"
        }
      ],
      "source": [
        "users_context = users.copy()\n",
        "books_context = books.copy()\n",
        "\n",
        "# 인덱싱 처리된 데이터 조인\n",
        "context_df = ratings.merge(users_context, on='user_id', how='inner').merge(books_context[['isbn', 'category', 'publisher', 'language']], on='isbn', how='inner')\n",
        "\n",
        "# 인덱싱 처리합니다\n",
        "context_df['user_id'] = context_df['user_id'].map(user2idx)\n",
        "context_df['isbn'] = context_df['isbn'].map(book2idx)\n",
        "\n",
        "# user 파트 인덱싱\n",
        "loc_city2idx = {v:k for k,v in enumerate(context_df['location_city'].unique())}\n",
        "loc_state2idx = {v:k for k,v in enumerate(context_df['location_state'].unique())}\n",
        "loc_country2idx = {v:k for k,v in enumerate(context_df['location_country'].unique())}\n",
        "context_df['location_city'] = context_df['location_city'].map(loc_city2idx)\n",
        "context_df['location_state'] = context_df['location_state'].map(loc_state2idx)\n",
        "context_df['location_country'] = context_df['location_country'].map(loc_country2idx)\n",
        "context_df['age'] = context_df['age'].apply(age_map)\n",
        "\n",
        "# book 파트 인덱싱\n",
        "category2idx = {v:k for k,v in enumerate(context_df['category'].unique())}\n",
        "publisher2idx = {v:k for k,v in enumerate(context_df['publisher'].unique())}\n",
        "language2idx = {v:k for k,v in enumerate(context_df['language'].unique())}\n",
        "context_df['category'] = context_df['category'].map(category2idx)\n",
        "context_df['publisher'] = context_df['publisher'].map(publisher2idx)\n",
        "context_df['language'] = context_df['language'].map(language2idx)\n",
        "\n",
        "context_df"
      ]
    },
    {
      "cell_type": "code",
      "execution_count": null,
      "metadata": {
        "id": "rHc-JrQ5tH9n"
      },
      "outputs": [],
      "source": [
        "# fm/ffm에 사용할 데이터셋\n",
        "X_train_context, X_test_context, y_train_context, y_test_context = train_test_split(\n",
        "  context_df.drop(['rating'], axis=1), context_df['rating'], test_size=0.2, random_state=seed)\n",
        "\n",
        "# PyTorch의 DataLoader에서 사용할 수 있도록 변환 \n",
        "train_dataset_context = TensorDataset(torch.IntTensor(X_train_context.values), torch.IntTensor(y_train_context.values))\n",
        "test_dataset_context = TensorDataset(torch.IntTensor(X_test_context.values), torch.IntTensor(y_test_context.values))\n",
        "\n",
        "# DataLoader로 변환\n",
        "train_dataloader_context = DataLoader(train_dataset_context, batch_size=batch_size, shuffle=data_shuffle)\n",
        "test_dataloader_context = DataLoader(test_dataset_context, batch_size=batch_size, shuffle=False)"
      ]
    },
    {
      "cell_type": "code",
      "execution_count": null,
      "metadata": {
        "colab": {
          "base_uri": "https://localhost:8080/"
        },
        "id": "as-qxP3_6c1R",
        "outputId": "aeb57fbb-b5a6-49a9-a82c-35582446edb3"
      },
      "outputs": [
        {
          "name": "stdout",
          "output_type": "stream",
          "text": [
            "학습 데이터 크기: (13412, 2) (13412,)\n",
            "테스트 데이터 크기: (3353, 2) (3353,)\n"
          ]
        }
      ],
      "source": [
        "# user_id, isbn, rating만 있는 데이터\n",
        "ratings['user_id'] = ratings['user_id'].map(user2idx)\n",
        "ratings['isbn'] = ratings['isbn'].map(book2idx)\n",
        "\n",
        "r_train_X, r_test_X, r_train_y, r_test_y = train_test_split(\n",
        "    ratings[['user_id', 'isbn']], ratings['rating'], test_size=0.2, random_state=seed)\n",
        "print('학습 데이터 크기:', r_train_X.shape, r_train_y.shape)\n",
        "print('테스트 데이터 크기:', r_test_X.shape, r_test_y.shape)\n",
        "\n",
        "# PyTorch의 DataLoader에서 사용할 수 있도록 변환 \n",
        "r_train_dataset = TensorDataset(torch.IntTensor(r_train_X.values), torch.IntTensor(r_train_y.values))\n",
        "r_test_dataset = TensorDataset(torch.IntTensor(r_test_X.values), torch.IntTensor(r_test_y.values))\n",
        "\n",
        "# DataLoader로 변환\n",
        "r_train_dataloader = DataLoader(r_train_dataset, batch_size=batch_size, shuffle=data_shuffle)\n",
        "r_test_dataloader = DataLoader(r_test_dataset, batch_size=batch_size, shuffle=False)"
      ]
    },
    {
      "cell_type": "code",
      "execution_count": null,
      "metadata": {
        "colab": {
          "base_uri": "https://localhost:8080/"
        },
        "id": "7Ib0u1gRchn_",
        "outputId": "4a58fa2c-4b99-4906-ceb8-bda75d15a77f"
      },
      "outputs": [
        {
          "name": "stdout",
          "output_type": "stream",
          "text": [
            "학습 데이터 크기: (13412, 3)\n",
            "테스트 데이터 크기: (3353, 3)\n"
          ]
        }
      ],
      "source": [
        "# autoencoder에 사용할 \bX, y 구분 없이 나누는 데이터\n",
        "ae_train, ae_test = train_test_split(\n",
        "    ratings[['user_id', 'isbn', 'rating']], test_size=0.2, random_state=seed)\n",
        "\n",
        "print('학습 데이터 크기:', ae_train.shape)\n",
        "print('테스트 데이터 크기:', ae_test.shape)"
      ]
    },
    {
      "cell_type": "markdown",
      "metadata": {
        "id": "nsmi3xETN85v"
      },
      "source": [
        "# [2] 학습 함수"
      ]
    },
    {
      "cell_type": "markdown",
      "metadata": {
        "id": "VuZrsxlbiMAE"
      },
      "source": [
        "본 실습에서는 rmse를 사용하지 않지만 아래 코드를 활용하여 필요시 사용하시면 되겠습니다"
      ]
    },
    {
      "cell_type": "code",
      "execution_count": null,
      "metadata": {
        "id": "r7XhrcXt9MCm"
      },
      "outputs": [],
      "source": [
        "from sklearn.metrics import mean_squared_error\n",
        "def rmse(true: list, pred: list) -> float:\n",
        "    return np.sqrt(mean_squared_error(true, pred))"
      ]
    },
    {
      "cell_type": "code",
      "execution_count": null,
      "metadata": {
        "id": "YFR0VB01ang6"
      },
      "outputs": [],
      "source": [
        "def train(model: type, optimizer: torch.optim, data_loader: DataLoader, criterion: torch.nn, device: str, log_interval: int=100) -> None:\n",
        "    model.train()\n",
        "    total_loss = 0\n",
        "    tk0 = tqdm.tqdm(data_loader, smoothing=0, mininterval=1.0)\n",
        "    for i, (fields, target) in enumerate(tk0):\n",
        "        fields, target = fields.to(device), target.to(device)\n",
        "        y = model(fields)\n",
        "        loss = criterion(y, target.float())\n",
        "        model.zero_grad()\n",
        "        loss.backward()\n",
        "        optimizer.step()\n",
        "        total_loss += loss.item()\n",
        "        if (i + 1) % log_interval == 0:\n",
        "            tk0.set_postfix(loss=total_loss / log_interval)\n",
        "            total_loss = 0\n",
        "\n",
        "def test(model: type, data_loader: DataLoader, device: str) -> float:\n",
        "    model.eval()\n",
        "    targets, predicts = list(), list()\n",
        "    with torch.no_grad():\n",
        "        for fields, target in tqdm.tqdm(data_loader, smoothing=0, mininterval=1.0):\n",
        "            fields, target = fields.to(device), target.to(device)\n",
        "            y = model(fields)\n",
        "            targets.extend(target.tolist())\n",
        "            predicts.extend(y.tolist())\n",
        "    return roc_auc_score(targets, predicts)"
      ]
    },
    {
      "cell_type": "markdown",
      "metadata": {
        "id": "b5MEBHOHxm77"
      },
      "source": [
        "# [3] Context-Aware Recommender System (CARS)"
      ]
    },
    {
      "cell_type": "code",
      "execution_count": null,
      "metadata": {
        "id": "wHPN_PmE6Q5y"
      },
      "outputs": [],
      "source": [
        "class FactorizationMachine(nn.Module):\n",
        "\n",
        "    def __init__(self, reduce_sum:bool=True):\n",
        "        super().__init__()\n",
        "        self.reduce_sum = reduce_sum\n",
        "\n",
        "    def forward(self, x: torch.Tensor):\n",
        "        \"\"\"\n",
        "        :param x: Float tensor of size ``(batch_size, num_fields, embed_dim)``\n",
        "        \"\"\"\n",
        "        square_of_sum = torch.sum(x, dim=1) ** 2\n",
        "        sum_of_square = torch.sum(x ** 2, dim=1)\n",
        "        ix = square_of_sum - sum_of_square\n",
        "        if self.reduce_sum:\n",
        "            ix = torch.sum(ix, dim=1, keepdim=True)\n",
        "        return 0.5 * ix"
      ]
    },
    {
      "cell_type": "code",
      "execution_count": null,
      "metadata": {
        "id": "qdaomOKZ6iBQ"
      },
      "outputs": [],
      "source": [
        "class FeaturesEmbedding(nn.Module):\n",
        "\n",
        "    def __init__(self, field_dims: np.ndarray, embed_dim: int):\n",
        "        super().__init__()\n",
        "        self.embedding = torch.nn.Embedding(sum(field_dims), embed_dim)\n",
        "        self.offsets = np.array((0, *np.cumsum(field_dims)[:-1]), dtype=np.long)\n",
        "        torch.nn.init.xavier_uniform_(self.embedding.weight.data)\n",
        "\n",
        "    def forward(self, x: torch.Tensor):\n",
        "        \"\"\"\n",
        "        :param x: Long tensor of size ``(batch_size, num_fields)``\n",
        "        \"\"\"\n",
        "        x = x + x.new_tensor(self.offsets).unsqueeze(0)\n",
        "        return self.embedding(x)"
      ]
    },
    {
      "cell_type": "code",
      "execution_count": null,
      "metadata": {
        "id": "Yah9llDg6nkD"
      },
      "outputs": [],
      "source": [
        "class FeaturesLinear(nn.Module):\n",
        "\n",
        "    def __init__(self, field_dims: np.ndarray, output_dim: int=1):\n",
        "        super().__init__()\n",
        "        self.fc = torch.nn.Embedding(sum(field_dims), output_dim)\n",
        "        self.bias = torch.nn.Parameter(torch.zeros((output_dim,)))\n",
        "        self.offsets = np.array((0, *np.cumsum(field_dims)[:-1]), dtype=np.long)\n",
        "\n",
        "    def forward(self, x: torch.Tensor):\n",
        "        \"\"\"\n",
        "        :param x: Long tensor of size ``(batch_size, num_fields)``\n",
        "        \"\"\"\n",
        "        x = x + x.new_tensor(self.offsets).unsqueeze(0)\n",
        "        return torch.sum(self.fc(x), dim=1) + self.bias"
      ]
    },
    {
      "cell_type": "markdown",
      "metadata": {
        "id": "OZQCqIBtxQWw"
      },
      "source": [
        "## FM"
      ]
    },
    {
      "cell_type": "code",
      "execution_count": null,
      "metadata": {
        "id": "6Cxl3qF1xUxi"
      },
      "outputs": [],
      "source": [
        "class FactorizationMachineModel(nn.Module):\n",
        "\n",
        "    def __init__(self, field_dims: np.ndarray, embed_dim: int):\n",
        "        super().__init__()\n",
        "        self.embedding = FeaturesEmbedding(field_dims, embed_dim)\n",
        "        self.linear = FeaturesLinear(field_dims)\n",
        "        self.fm = FactorizationMachine(reduce_sum=True)\n",
        "\n",
        "    def forward(self, x: torch.Tensor):\n",
        "        \"\"\"\n",
        "        :param x: Long tensor of size ``(batch_size, num_fields)``\n",
        "        \"\"\"\n",
        "        x = self.linear(x) + self.fm(self.embedding(x))\n",
        "        return torch.sigmoid(x.squeeze(1))"
      ]
    },
    {
      "cell_type": "code",
      "execution_count": null,
      "metadata": {
        "id": "3HOwBuatbViM"
      },
      "outputs": [],
      "source": [
        "fm_field_dims = np.array([len(user2idx), len(book2idx), 6, len(loc_city2idx), len(loc_state2idx), len(loc_country2idx), \n",
        "                          len(category2idx), len(publisher2idx), len(language2idx)], dtype=np.uint32)"
      ]
    },
    {
      "cell_type": "code",
      "execution_count": null,
      "metadata": {
        "colab": {
          "base_uri": "https://localhost:8080/"
        },
        "id": "PZMiA7qcanb-",
        "outputId": "d63be8e5-7ec7-4431-f271-46cdb58332c3"
      },
      "outputs": [
        {
          "name": "stderr",
          "output_type": "stream",
          "text": [
            "100%|██████████| 53/53 [00:00<00:00, 177.04it/s]\n",
            "100%|██████████| 53/53 [00:00<00:00, 301.77it/s]\n"
          ]
        },
        {
          "name": "stdout",
          "output_type": "stream",
          "text": [
            "epoch: 0 validation: roc_auc_score: 0.5129181284386842\n"
          ]
        },
        {
          "name": "stderr",
          "output_type": "stream",
          "text": [
            "100%|██████████| 53/53 [00:00<00:00, 287.96it/s]\n",
            "100%|██████████| 53/53 [00:00<00:00, 549.01it/s]\n"
          ]
        },
        {
          "name": "stdout",
          "output_type": "stream",
          "text": [
            "epoch: 1 validation: roc_auc_score: 0.6025077477322605\n"
          ]
        },
        {
          "name": "stderr",
          "output_type": "stream",
          "text": [
            "100%|██████████| 53/53 [00:00<00:00, 264.55it/s]\n",
            "100%|██████████| 53/53 [00:00<00:00, 532.90it/s]\n"
          ]
        },
        {
          "name": "stdout",
          "output_type": "stream",
          "text": [
            "epoch: 2 validation: roc_auc_score: 0.6862601144540433\n"
          ]
        },
        {
          "name": "stderr",
          "output_type": "stream",
          "text": [
            "100%|██████████| 53/53 [00:00<00:00, 165.62it/s]\n",
            "100%|██████████| 53/53 [00:00<00:00, 534.38it/s]\n"
          ]
        },
        {
          "name": "stdout",
          "output_type": "stream",
          "text": [
            "epoch: 3 validation: roc_auc_score: 0.7363705337058742\n"
          ]
        },
        {
          "name": "stderr",
          "output_type": "stream",
          "text": [
            "100%|██████████| 53/53 [00:00<00:00, 256.35it/s]\n",
            "100%|██████████| 53/53 [00:00<00:00, 521.54it/s]\n"
          ]
        },
        {
          "name": "stdout",
          "output_type": "stream",
          "text": [
            "epoch: 4 validation: roc_auc_score: 0.7697201846986792\n"
          ]
        },
        {
          "name": "stderr",
          "output_type": "stream",
          "text": [
            "100%|██████████| 53/53 [00:00<00:00, 158.15it/s]\n",
            "100%|██████████| 53/53 [00:00<00:00, 546.01it/s]\n"
          ]
        },
        {
          "name": "stdout",
          "output_type": "stream",
          "text": [
            "epoch: 5 validation: roc_auc_score: 0.7979880548788224\n"
          ]
        },
        {
          "name": "stderr",
          "output_type": "stream",
          "text": [
            "100%|██████████| 53/53 [00:00<00:00, 280.79it/s]\n",
            "100%|██████████| 53/53 [00:00<00:00, 547.31it/s]\n"
          ]
        },
        {
          "name": "stdout",
          "output_type": "stream",
          "text": [
            "epoch: 6 validation: roc_auc_score: 0.8203885188139386\n"
          ]
        },
        {
          "name": "stderr",
          "output_type": "stream",
          "text": [
            "100%|██████████| 53/53 [00:00<00:00, 252.53it/s]\n",
            "100%|██████████| 53/53 [00:00<00:00, 480.04it/s]\n"
          ]
        },
        {
          "name": "stdout",
          "output_type": "stream",
          "text": [
            "epoch: 7 validation: roc_auc_score: 0.840886353082687\n"
          ]
        },
        {
          "name": "stderr",
          "output_type": "stream",
          "text": [
            "100%|██████████| 53/53 [00:00<00:00, 254.65it/s]\n",
            "100%|██████████| 53/53 [00:00<00:00, 271.79it/s]\n"
          ]
        },
        {
          "name": "stdout",
          "output_type": "stream",
          "text": [
            "epoch: 8 validation: roc_auc_score: 0.8600595470328629\n"
          ]
        },
        {
          "name": "stderr",
          "output_type": "stream",
          "text": [
            "100%|██████████| 53/53 [00:00<00:00, 269.12it/s]\n",
            "100%|██████████| 53/53 [00:00<00:00, 525.93it/s]\n"
          ]
        },
        {
          "name": "stdout",
          "output_type": "stream",
          "text": [
            "epoch: 9 validation: roc_auc_score: 0.8747169287970863\n"
          ]
        },
        {
          "name": "stderr",
          "output_type": "stream",
          "text": [
            "100%|██████████| 53/53 [00:00<00:00, 258.15it/s]\n",
            "100%|██████████| 53/53 [00:00<00:00, 521.07it/s]\n"
          ]
        },
        {
          "name": "stdout",
          "output_type": "stream",
          "text": [
            "epoch: 10 validation: roc_auc_score: 0.8866949241899981\n"
          ]
        },
        {
          "name": "stderr",
          "output_type": "stream",
          "text": [
            "100%|██████████| 53/53 [00:00<00:00, 245.69it/s]\n",
            "100%|██████████| 53/53 [00:00<00:00, 508.77it/s]\n"
          ]
        },
        {
          "name": "stdout",
          "output_type": "stream",
          "text": [
            "epoch: 11 validation: roc_auc_score: 0.9006999750980514\n"
          ]
        },
        {
          "name": "stderr",
          "output_type": "stream",
          "text": [
            "100%|██████████| 53/53 [00:00<00:00, 260.82it/s]\n",
            "100%|██████████| 53/53 [00:00<00:00, 503.00it/s]\n"
          ]
        },
        {
          "name": "stdout",
          "output_type": "stream",
          "text": [
            "epoch: 12 validation: roc_auc_score: 0.911020441290139\n"
          ]
        },
        {
          "name": "stderr",
          "output_type": "stream",
          "text": [
            "100%|██████████| 53/53 [00:00<00:00, 281.30it/s]\n",
            "100%|██████████| 53/53 [00:00<00:00, 539.70it/s]\n"
          ]
        },
        {
          "name": "stdout",
          "output_type": "stream",
          "text": [
            "epoch: 13 validation: roc_auc_score: 0.9220426275623222\n"
          ]
        },
        {
          "name": "stderr",
          "output_type": "stream",
          "text": [
            "100%|██████████| 53/53 [00:00<00:00, 239.06it/s]\n",
            "100%|██████████| 53/53 [00:00<00:00, 507.53it/s]\n"
          ]
        },
        {
          "name": "stdout",
          "output_type": "stream",
          "text": [
            "epoch: 14 validation: roc_auc_score: 0.9306081643539144\n"
          ]
        },
        {
          "name": "stderr",
          "output_type": "stream",
          "text": [
            "100%|██████████| 53/53 [00:00<00:00, 266.17it/s]\n",
            "100%|██████████| 53/53 [00:00<00:00, 507.64it/s]\n"
          ]
        },
        {
          "name": "stdout",
          "output_type": "stream",
          "text": [
            "epoch: 15 validation: roc_auc_score: 0.9394423516777846\n"
          ]
        },
        {
          "name": "stderr",
          "output_type": "stream",
          "text": [
            "100%|██████████| 53/53 [00:00<00:00, 189.26it/s]\n",
            "100%|██████████| 53/53 [00:00<00:00, 518.52it/s]\n"
          ]
        },
        {
          "name": "stdout",
          "output_type": "stream",
          "text": [
            "epoch: 16 validation: roc_auc_score: 0.9463106297666564\n"
          ]
        },
        {
          "name": "stderr",
          "output_type": "stream",
          "text": [
            "100%|██████████| 53/53 [00:00<00:00, 267.00it/s]\n",
            "100%|██████████| 53/53 [00:00<00:00, 526.55it/s]\n"
          ]
        },
        {
          "name": "stdout",
          "output_type": "stream",
          "text": [
            "epoch: 17 validation: roc_auc_score: 0.95248599657902\n"
          ]
        },
        {
          "name": "stderr",
          "output_type": "stream",
          "text": [
            "100%|██████████| 53/53 [00:00<00:00, 256.68it/s]\n",
            "100%|██████████| 53/53 [00:00<00:00, 539.73it/s]\n"
          ]
        },
        {
          "name": "stdout",
          "output_type": "stream",
          "text": [
            "epoch: 18 validation: roc_auc_score: 0.9584664431443741\n"
          ]
        },
        {
          "name": "stderr",
          "output_type": "stream",
          "text": [
            "100%|██████████| 53/53 [00:00<00:00, 252.94it/s]\n",
            "100%|██████████| 53/53 [00:00<00:00, 500.50it/s]\n"
          ]
        },
        {
          "name": "stdout",
          "output_type": "stream",
          "text": [
            "epoch: 19 validation: roc_auc_score: 0.9632222622699862\n"
          ]
        },
        {
          "name": "stderr",
          "output_type": "stream",
          "text": [
            "100%|██████████| 53/53 [00:00<00:00, 246.62it/s]\n",
            "100%|██████████| 53/53 [00:00<00:00, 502.59it/s]\n"
          ]
        },
        {
          "name": "stdout",
          "output_type": "stream",
          "text": [
            "epoch: 20 validation: roc_auc_score: 0.9669359699692426\n"
          ]
        },
        {
          "name": "stderr",
          "output_type": "stream",
          "text": [
            "100%|██████████| 53/53 [00:00<00:00, 255.13it/s]\n",
            "100%|██████████| 53/53 [00:00<00:00, 541.63it/s]\n"
          ]
        },
        {
          "name": "stdout",
          "output_type": "stream",
          "text": [
            "epoch: 21 validation: roc_auc_score: 0.9711603246117229\n"
          ]
        },
        {
          "name": "stderr",
          "output_type": "stream",
          "text": [
            "100%|██████████| 53/53 [00:00<00:00, 266.10it/s]\n",
            "100%|██████████| 53/53 [00:00<00:00, 529.61it/s]\n"
          ]
        },
        {
          "name": "stdout",
          "output_type": "stream",
          "text": [
            "epoch: 22 validation: roc_auc_score: 0.9741528010305557\n"
          ]
        },
        {
          "name": "stderr",
          "output_type": "stream",
          "text": [
            "100%|██████████| 53/53 [00:00<00:00, 261.58it/s]\n",
            "100%|██████████| 53/53 [00:00<00:00, 305.32it/s]\n"
          ]
        },
        {
          "name": "stdout",
          "output_type": "stream",
          "text": [
            "epoch: 23 validation: roc_auc_score: 0.9767916189662962\n"
          ]
        },
        {
          "name": "stderr",
          "output_type": "stream",
          "text": [
            "100%|██████████| 53/53 [00:00<00:00, 247.71it/s]\n",
            "100%|██████████| 53/53 [00:00<00:00, 575.77it/s]\n"
          ]
        },
        {
          "name": "stdout",
          "output_type": "stream",
          "text": [
            "epoch: 24 validation: roc_auc_score: 0.9793253664516224\n"
          ]
        },
        {
          "name": "stderr",
          "output_type": "stream",
          "text": [
            "100%|██████████| 53/53 [00:00<00:00, 274.72it/s]\n",
            "100%|██████████| 53/53 [00:00<00:00, 546.00it/s]\n"
          ]
        },
        {
          "name": "stdout",
          "output_type": "stream",
          "text": [
            "epoch: 25 validation: roc_auc_score: 0.981097769642092\n"
          ]
        },
        {
          "name": "stderr",
          "output_type": "stream",
          "text": [
            "100%|██████████| 53/53 [00:00<00:00, 256.54it/s]\n",
            "100%|██████████| 53/53 [00:00<00:00, 452.74it/s]\n"
          ]
        },
        {
          "name": "stdout",
          "output_type": "stream",
          "text": [
            "epoch: 26 validation: roc_auc_score: 0.9830956422501094\n"
          ]
        },
        {
          "name": "stderr",
          "output_type": "stream",
          "text": [
            "100%|██████████| 53/53 [00:00<00:00, 205.61it/s]\n",
            "100%|██████████| 53/53 [00:00<00:00, 552.72it/s]\n"
          ]
        },
        {
          "name": "stdout",
          "output_type": "stream",
          "text": [
            "epoch: 27 validation: roc_auc_score: 0.9846435228196072\n"
          ]
        },
        {
          "name": "stderr",
          "output_type": "stream",
          "text": [
            "100%|██████████| 53/53 [00:00<00:00, 264.13it/s]\n",
            "100%|██████████| 53/53 [00:00<00:00, 565.69it/s]\n"
          ]
        },
        {
          "name": "stdout",
          "output_type": "stream",
          "text": [
            "epoch: 28 validation: roc_auc_score: 0.985966796874766\n"
          ]
        },
        {
          "name": "stderr",
          "output_type": "stream",
          "text": [
            "100%|██████████| 53/53 [00:00<00:00, 287.42it/s]\n",
            "100%|██████████| 53/53 [00:00<00:00, 558.40it/s]\n"
          ]
        },
        {
          "name": "stdout",
          "output_type": "stream",
          "text": [
            "epoch: 29 validation: roc_auc_score: 0.9871234347325303\n"
          ]
        },
        {
          "name": "stderr",
          "output_type": "stream",
          "text": [
            "100%|██████████| 53/53 [00:00<00:00, 287.40it/s]\n",
            "100%|██████████| 53/53 [00:00<00:00, 545.27it/s]\n"
          ]
        },
        {
          "name": "stdout",
          "output_type": "stream",
          "text": [
            "epoch: 30 validation: roc_auc_score: 0.9880008155394102\n"
          ]
        },
        {
          "name": "stderr",
          "output_type": "stream",
          "text": [
            "100%|██████████| 53/53 [00:00<00:00, 185.25it/s]\n",
            "100%|██████████| 53/53 [00:00<00:00, 547.41it/s]\n"
          ]
        },
        {
          "name": "stdout",
          "output_type": "stream",
          "text": [
            "epoch: 31 validation: roc_auc_score: 0.9887923494618013\n"
          ]
        },
        {
          "name": "stderr",
          "output_type": "stream",
          "text": [
            "100%|██████████| 53/53 [00:00<00:00, 283.63it/s]\n",
            "100%|██████████| 53/53 [00:00<00:00, 563.78it/s]\n"
          ]
        },
        {
          "name": "stdout",
          "output_type": "stream",
          "text": [
            "epoch: 32 validation: roc_auc_score: 0.9894593976115846\n"
          ]
        },
        {
          "name": "stderr",
          "output_type": "stream",
          "text": [
            "100%|██████████| 53/53 [00:00<00:00, 268.39it/s]\n",
            "100%|██████████| 53/53 [00:00<00:00, 559.84it/s]\n"
          ]
        },
        {
          "name": "stdout",
          "output_type": "stream",
          "text": [
            "epoch: 33 validation: roc_auc_score: 0.9901454775710242\n"
          ]
        },
        {
          "name": "stderr",
          "output_type": "stream",
          "text": [
            "100%|██████████| 53/53 [00:00<00:00, 293.68it/s]\n",
            "100%|██████████| 53/53 [00:00<00:00, 596.01it/s]\n"
          ]
        },
        {
          "name": "stdout",
          "output_type": "stream",
          "text": [
            "epoch: 34 validation: roc_auc_score: 0.9906718724978053\n"
          ]
        },
        {
          "name": "stderr",
          "output_type": "stream",
          "text": [
            "100%|██████████| 53/53 [00:00<00:00, 266.32it/s]\n",
            "100%|██████████| 53/53 [00:00<00:00, 538.82it/s]\n"
          ]
        },
        {
          "name": "stdout",
          "output_type": "stream",
          "text": [
            "epoch: 35 validation: roc_auc_score: 0.9911526054631314\n"
          ]
        },
        {
          "name": "stderr",
          "output_type": "stream",
          "text": [
            "100%|██████████| 53/53 [00:00<00:00, 270.96it/s]\n",
            "100%|██████████| 53/53 [00:00<00:00, 492.33it/s]\n"
          ]
        },
        {
          "name": "stdout",
          "output_type": "stream",
          "text": [
            "epoch: 36 validation: roc_auc_score: 0.9915211849808725\n"
          ]
        },
        {
          "name": "stderr",
          "output_type": "stream",
          "text": [
            "100%|██████████| 53/53 [00:00<00:00, 198.52it/s]\n",
            "100%|██████████| 53/53 [00:00<00:00, 559.12it/s]\n"
          ]
        },
        {
          "name": "stdout",
          "output_type": "stream",
          "text": [
            "epoch: 37 validation: roc_auc_score: 0.99192919438134\n"
          ]
        },
        {
          "name": "stderr",
          "output_type": "stream",
          "text": [
            "100%|██████████| 53/53 [00:00<00:00, 265.19it/s]\n",
            "100%|██████████| 53/53 [00:00<00:00, 561.23it/s]\n"
          ]
        },
        {
          "name": "stdout",
          "output_type": "stream",
          "text": [
            "epoch: 38 validation: roc_auc_score: 0.9922131854151045\n"
          ]
        },
        {
          "name": "stderr",
          "output_type": "stream",
          "text": [
            "100%|██████████| 53/53 [00:00<00:00, 135.46it/s]\n",
            "100%|██████████| 53/53 [00:00<00:00, 563.62it/s]\n"
          ]
        },
        {
          "name": "stdout",
          "output_type": "stream",
          "text": [
            "epoch: 39 validation: roc_auc_score: 0.9924743814224417\n"
          ]
        },
        {
          "name": "stderr",
          "output_type": "stream",
          "text": [
            "100%|██████████| 53/53 [00:00<00:00, 258.95it/s]\n",
            "100%|██████████| 53/53 [00:00<00:00, 580.46it/s]\n"
          ]
        },
        {
          "name": "stdout",
          "output_type": "stream",
          "text": [
            "epoch: 40 validation: roc_auc_score: 0.992711919500143\n"
          ]
        },
        {
          "name": "stderr",
          "output_type": "stream",
          "text": [
            "100%|██████████| 53/53 [00:00<00:00, 161.36it/s]\n",
            "100%|██████████| 53/53 [00:00<00:00, 529.48it/s]\n"
          ]
        },
        {
          "name": "stdout",
          "output_type": "stream",
          "text": [
            "epoch: 41 validation: roc_auc_score: 0.992892889478614\n"
          ]
        },
        {
          "name": "stderr",
          "output_type": "stream",
          "text": [
            "100%|██████████| 53/53 [00:00<00:00, 263.17it/s]\n",
            "100%|██████████| 53/53 [00:00<00:00, 517.45it/s]\n"
          ]
        },
        {
          "name": "stdout",
          "output_type": "stream",
          "text": [
            "epoch: 42 validation: roc_auc_score: 0.9931229011227738\n"
          ]
        },
        {
          "name": "stderr",
          "output_type": "stream",
          "text": [
            "100%|██████████| 53/53 [00:00<00:00, 261.41it/s]\n",
            "100%|██████████| 53/53 [00:00<00:00, 571.29it/s]\n"
          ]
        },
        {
          "name": "stdout",
          "output_type": "stream",
          "text": [
            "epoch: 43 validation: roc_auc_score: 0.9933429893800344\n"
          ]
        },
        {
          "name": "stderr",
          "output_type": "stream",
          "text": [
            "100%|██████████| 53/53 [00:00<00:00, 286.59it/s]\n",
            "100%|██████████| 53/53 [00:00<00:00, 548.03it/s]\n"
          ]
        },
        {
          "name": "stdout",
          "output_type": "stream",
          "text": [
            "epoch: 44 validation: roc_auc_score: 0.9935082233597151\n"
          ]
        },
        {
          "name": "stderr",
          "output_type": "stream",
          "text": [
            "100%|██████████| 53/53 [00:00<00:00, 263.75it/s]\n",
            "100%|██████████| 53/53 [00:00<00:00, 507.93it/s]\n"
          ]
        },
        {
          "name": "stdout",
          "output_type": "stream",
          "text": [
            "epoch: 45 validation: roc_auc_score: 0.9936464556598265\n"
          ]
        },
        {
          "name": "stderr",
          "output_type": "stream",
          "text": [
            "100%|██████████| 53/53 [00:00<00:00, 254.70it/s]\n",
            "100%|██████████| 53/53 [00:00<00:00, 323.35it/s]\n"
          ]
        },
        {
          "name": "stdout",
          "output_type": "stream",
          "text": [
            "epoch: 46 validation: roc_auc_score: 0.9937852033049098\n"
          ]
        },
        {
          "name": "stderr",
          "output_type": "stream",
          "text": [
            "100%|██████████| 53/53 [00:00<00:00, 258.94it/s]\n",
            "100%|██████████| 53/53 [00:00<00:00, 502.84it/s]\n"
          ]
        },
        {
          "name": "stdout",
          "output_type": "stream",
          "text": [
            "epoch: 47 validation: roc_auc_score: 0.9939110912952314\n"
          ]
        },
        {
          "name": "stderr",
          "output_type": "stream",
          "text": [
            "100%|██████████| 53/53 [00:00<00:00, 256.82it/s]\n",
            "100%|██████████| 53/53 [00:00<00:00, 514.63it/s]\n"
          ]
        },
        {
          "name": "stdout",
          "output_type": "stream",
          "text": [
            "epoch: 48 validation: roc_auc_score: 0.9940341508805915\n"
          ]
        },
        {
          "name": "stderr",
          "output_type": "stream",
          "text": [
            "100%|██████████| 53/53 [00:00<00:00, 243.80it/s]\n",
            "100%|██████████| 53/53 [00:00<00:00, 518.40it/s]\n"
          ]
        },
        {
          "name": "stdout",
          "output_type": "stream",
          "text": [
            "epoch: 49 validation: roc_auc_score: 0.9941474308962541\n"
          ]
        },
        {
          "name": "stderr",
          "output_type": "stream",
          "text": [
            "100%|██████████| 53/53 [00:00<00:00, 266.85it/s]\n",
            "100%|██████████| 53/53 [00:00<00:00, 533.42it/s]\n"
          ]
        },
        {
          "name": "stdout",
          "output_type": "stream",
          "text": [
            "epoch: 50 validation: roc_auc_score: 0.994244004147017\n"
          ]
        },
        {
          "name": "stderr",
          "output_type": "stream",
          "text": [
            "100%|██████████| 53/53 [00:00<00:00, 301.51it/s]\n",
            "100%|██████████| 53/53 [00:00<00:00, 564.28it/s]\n"
          ]
        },
        {
          "name": "stdout",
          "output_type": "stream",
          "text": [
            "epoch: 51 validation: roc_auc_score: 0.9943513397183537\n"
          ]
        },
        {
          "name": "stderr",
          "output_type": "stream",
          "text": [
            "100%|██████████| 53/53 [00:00<00:00, 252.45it/s]\n",
            "100%|██████████| 53/53 [00:00<00:00, 521.53it/s]\n"
          ]
        },
        {
          "name": "stdout",
          "output_type": "stream",
          "text": [
            "epoch: 52 validation: roc_auc_score: 0.9944203959445754\n"
          ]
        },
        {
          "name": "stderr",
          "output_type": "stream",
          "text": [
            "100%|██████████| 53/53 [00:00<00:00, 242.45it/s]\n",
            "100%|██████████| 53/53 [00:00<00:00, 516.87it/s]\n"
          ]
        },
        {
          "name": "stdout",
          "output_type": "stream",
          "text": [
            "epoch: 53 validation: roc_auc_score: 0.9945275876987107\n"
          ]
        },
        {
          "name": "stderr",
          "output_type": "stream",
          "text": [
            "100%|██████████| 53/53 [00:00<00:00, 186.99it/s]\n",
            "100%|██████████| 53/53 [00:00<00:00, 492.08it/s]\n"
          ]
        },
        {
          "name": "stdout",
          "output_type": "stream",
          "text": [
            "epoch: 54 validation: roc_auc_score: 0.9945785229575518\n"
          ]
        },
        {
          "name": "stderr",
          "output_type": "stream",
          "text": [
            "100%|██████████| 53/53 [00:00<00:00, 243.50it/s]\n",
            "100%|██████████| 53/53 [00:00<00:00, 561.83it/s]\n"
          ]
        },
        {
          "name": "stdout",
          "output_type": "stream",
          "text": [
            "epoch: 55 validation: roc_auc_score: 0.994694080078904\n"
          ]
        },
        {
          "name": "stderr",
          "output_type": "stream",
          "text": [
            "100%|██████████| 53/53 [00:00<00:00, 260.52it/s]\n",
            "100%|██████████| 53/53 [00:00<00:00, 554.44it/s]\n"
          ]
        },
        {
          "name": "stdout",
          "output_type": "stream",
          "text": [
            "epoch: 56 validation: roc_auc_score: 0.9947670912781651\n"
          ]
        },
        {
          "name": "stderr",
          "output_type": "stream",
          "text": [
            "100%|██████████| 53/53 [00:00<00:00, 252.87it/s]\n",
            "100%|██████████| 53/53 [00:00<00:00, 533.85it/s]\n"
          ]
        },
        {
          "name": "stdout",
          "output_type": "stream",
          "text": [
            "epoch: 57 validation: roc_auc_score: 0.994830250999128\n"
          ]
        },
        {
          "name": "stderr",
          "output_type": "stream",
          "text": [
            "100%|██████████| 53/53 [00:00<00:00, 251.37it/s]\n",
            "100%|██████████| 53/53 [00:00<00:00, 553.87it/s]\n"
          ]
        },
        {
          "name": "stdout",
          "output_type": "stream",
          "text": [
            "epoch: 58 validation: roc_auc_score: 0.9948849974138071\n"
          ]
        },
        {
          "name": "stderr",
          "output_type": "stream",
          "text": [
            "100%|██████████| 53/53 [00:00<00:00, 285.18it/s]\n",
            "100%|██████████| 53/53 [00:00<00:00, 509.33it/s]\n"
          ]
        },
        {
          "name": "stdout",
          "output_type": "stream",
          "text": [
            "epoch: 59 validation: roc_auc_score: 0.9949527832547496\n"
          ]
        },
        {
          "name": "stderr",
          "output_type": "stream",
          "text": [
            "100%|██████████| 53/53 [00:00<00:00, 261.40it/s]\n",
            "100%|██████████| 53/53 [00:00<00:00, 575.11it/s]\n"
          ]
        },
        {
          "name": "stdout",
          "output_type": "stream",
          "text": [
            "epoch: 60 validation: roc_auc_score: 0.9950241405561944\n"
          ]
        },
        {
          "name": "stderr",
          "output_type": "stream",
          "text": [
            "100%|██████████| 53/53 [00:00<00:00, 260.29it/s]\n",
            "100%|██████████| 53/53 [00:00<00:00, 297.67it/s]\n"
          ]
        },
        {
          "name": "stdout",
          "output_type": "stream",
          "text": [
            "epoch: 61 validation: roc_auc_score: 0.9950678609854302\n"
          ]
        },
        {
          "name": "stderr",
          "output_type": "stream",
          "text": [
            "100%|██████████| 53/53 [00:00<00:00, 283.40it/s]\n",
            "100%|██████████| 53/53 [00:00<00:00, 499.73it/s]\n"
          ]
        },
        {
          "name": "stdout",
          "output_type": "stream",
          "text": [
            "epoch: 62 validation: roc_auc_score: 0.9951311165845275\n"
          ]
        },
        {
          "name": "stderr",
          "output_type": "stream",
          "text": [
            "100%|██████████| 53/53 [00:00<00:00, 277.46it/s]\n",
            "100%|██████████| 53/53 [00:00<00:00, 542.64it/s]\n"
          ]
        },
        {
          "name": "stdout",
          "output_type": "stream",
          "text": [
            "epoch: 63 validation: roc_auc_score: 0.9952041038142551\n"
          ]
        },
        {
          "name": "stderr",
          "output_type": "stream",
          "text": [
            "100%|██████████| 53/53 [00:00<00:00, 260.28it/s]\n",
            "100%|██████████| 53/53 [00:00<00:00, 491.42it/s]\n"
          ]
        },
        {
          "name": "stdout",
          "output_type": "stream",
          "text": [
            "epoch: 64 validation: roc_auc_score: 0.9952328432850083\n"
          ]
        },
        {
          "name": "stderr",
          "output_type": "stream",
          "text": [
            "100%|██████████| 53/53 [00:00<00:00, 257.91it/s]\n",
            "100%|██████████| 53/53 [00:00<00:00, 504.45it/s]\n"
          ]
        },
        {
          "name": "stdout",
          "output_type": "stream",
          "text": [
            "epoch: 65 validation: roc_auc_score: 0.9953062140272732\n"
          ]
        },
        {
          "name": "stderr",
          "output_type": "stream",
          "text": [
            "100%|██████████| 53/53 [00:00<00:00, 273.35it/s]\n",
            "100%|██████████| 53/53 [00:00<00:00, 525.12it/s]\n"
          ]
        },
        {
          "name": "stdout",
          "output_type": "stream",
          "text": [
            "epoch: 66 validation: roc_auc_score: 0.9953588990620651\n"
          ]
        },
        {
          "name": "stderr",
          "output_type": "stream",
          "text": [
            "100%|██████████| 53/53 [00:00<00:00, 250.11it/s]\n",
            "100%|██████████| 53/53 [00:00<00:00, 525.80it/s]\n"
          ]
        },
        {
          "name": "stdout",
          "output_type": "stream",
          "text": [
            "epoch: 67 validation: roc_auc_score: 0.9953873389136485\n"
          ]
        },
        {
          "name": "stderr",
          "output_type": "stream",
          "text": [
            "100%|██████████| 53/53 [00:00<00:00, 271.29it/s]\n",
            "100%|██████████| 53/53 [00:00<00:00, 508.86it/s]\n"
          ]
        },
        {
          "name": "stdout",
          "output_type": "stream",
          "text": [
            "epoch: 68 validation: roc_auc_score: 0.9954294413993682\n"
          ]
        },
        {
          "name": "stderr",
          "output_type": "stream",
          "text": [
            "100%|██████████| 53/53 [00:00<00:00, 260.61it/s]\n",
            "100%|██████████| 53/53 [00:00<00:00, 308.74it/s]\n"
          ]
        },
        {
          "name": "stdout",
          "output_type": "stream",
          "text": [
            "epoch: 69 validation: roc_auc_score: 0.9954934160844725\n"
          ]
        },
        {
          "name": "stderr",
          "output_type": "stream",
          "text": [
            "100%|██████████| 53/53 [00:00<00:00, 245.66it/s]\n",
            "100%|██████████| 53/53 [00:00<00:00, 503.33it/s]\n"
          ]
        },
        {
          "name": "stdout",
          "output_type": "stream",
          "text": [
            "epoch: 70 validation: roc_auc_score: 0.9955345238345492\n"
          ]
        },
        {
          "name": "stderr",
          "output_type": "stream",
          "text": [
            "100%|██████████| 53/53 [00:00<00:00, 266.59it/s]\n",
            "100%|██████████| 53/53 [00:00<00:00, 544.42it/s]\n"
          ]
        },
        {
          "name": "stdout",
          "output_type": "stream",
          "text": [
            "epoch: 71 validation: roc_auc_score: 0.9955757754018271\n"
          ]
        },
        {
          "name": "stderr",
          "output_type": "stream",
          "text": [
            "100%|██████████| 53/53 [00:00<00:00, 254.61it/s]\n",
            "100%|██████████| 53/53 [00:00<00:00, 553.75it/s]\n"
          ]
        },
        {
          "name": "stdout",
          "output_type": "stream",
          "text": [
            "epoch: 72 validation: roc_auc_score: 0.9956396422240306\n"
          ]
        },
        {
          "name": "stderr",
          "output_type": "stream",
          "text": [
            "100%|██████████| 53/53 [00:00<00:00, 271.35it/s]\n",
            "100%|██████████| 53/53 [00:00<00:00, 593.82it/s]\n"
          ]
        },
        {
          "name": "stdout",
          "output_type": "stream",
          "text": [
            "epoch: 73 validation: roc_auc_score: 0.995682871277828\n"
          ]
        },
        {
          "name": "stderr",
          "output_type": "stream",
          "text": [
            "100%|██████████| 53/53 [00:00<00:00, 263.91it/s]\n",
            "100%|██████████| 53/53 [00:00<00:00, 559.48it/s]\n"
          ]
        },
        {
          "name": "stdout",
          "output_type": "stream",
          "text": [
            "epoch: 74 validation: roc_auc_score: 0.9957380731136452\n"
          ]
        },
        {
          "name": "stderr",
          "output_type": "stream",
          "text": [
            "100%|██████████| 53/53 [00:00<00:00, 264.31it/s]\n",
            "100%|██████████| 53/53 [00:00<00:00, 535.28it/s]\n"
          ]
        },
        {
          "name": "stdout",
          "output_type": "stream",
          "text": [
            "epoch: 75 validation: roc_auc_score: 0.9957823088878528\n"
          ]
        },
        {
          "name": "stderr",
          "output_type": "stream",
          "text": [
            "100%|██████████| 53/53 [00:00<00:00, 261.29it/s]\n",
            "100%|██████████| 53/53 [00:00<00:00, 570.71it/s]\n"
          ]
        },
        {
          "name": "stdout",
          "output_type": "stream",
          "text": [
            "epoch: 76 validation: roc_auc_score: 0.9958212713646745\n"
          ]
        },
        {
          "name": "stderr",
          "output_type": "stream",
          "text": [
            "100%|██████████| 53/53 [00:00<00:00, 198.48it/s]\n",
            "100%|██████████| 53/53 [00:00<00:00, 527.04it/s]\n"
          ]
        },
        {
          "name": "stdout",
          "output_type": "stream",
          "text": [
            "epoch: 77 validation: roc_auc_score: 0.9958561470360222\n"
          ]
        },
        {
          "name": "stderr",
          "output_type": "stream",
          "text": [
            "100%|██████████| 53/53 [00:00<00:00, 257.32it/s]\n",
            "100%|██████████| 53/53 [00:00<00:00, 541.62it/s]\n"
          ]
        },
        {
          "name": "stdout",
          "output_type": "stream",
          "text": [
            "epoch: 78 validation: roc_auc_score: 0.9959165502606243\n"
          ]
        },
        {
          "name": "stderr",
          "output_type": "stream",
          "text": [
            "100%|██████████| 53/53 [00:00<00:00, 257.36it/s]\n",
            "100%|██████████| 53/53 [00:00<00:00, 563.52it/s]\n"
          ]
        },
        {
          "name": "stdout",
          "output_type": "stream",
          "text": [
            "epoch: 79 validation: roc_auc_score: 0.9959521929570463\n"
          ]
        },
        {
          "name": "stderr",
          "output_type": "stream",
          "text": [
            "100%|██████████| 53/53 [00:00<00:00, 265.64it/s]\n",
            "100%|██████████| 53/53 [00:00<00:00, 559.08it/s]\n"
          ]
        },
        {
          "name": "stdout",
          "output_type": "stream",
          "text": [
            "epoch: 80 validation: roc_auc_score: 0.9960073708233297\n"
          ]
        },
        {
          "name": "stderr",
          "output_type": "stream",
          "text": [
            "100%|██████████| 53/53 [00:00<00:00, 276.31it/s]\n",
            "100%|██████████| 53/53 [00:00<00:00, 550.48it/s]\n"
          ]
        },
        {
          "name": "stdout",
          "output_type": "stream",
          "text": [
            "epoch: 81 validation: roc_auc_score: 0.9960434210018225\n"
          ]
        },
        {
          "name": "stderr",
          "output_type": "stream",
          "text": [
            "100%|██████████| 53/53 [00:00<00:00, 274.26it/s]\n",
            "100%|██████████| 53/53 [00:00<00:00, 555.89it/s]\n"
          ]
        },
        {
          "name": "stdout",
          "output_type": "stream",
          "text": [
            "epoch: 82 validation: roc_auc_score: 0.9960975921476959\n"
          ]
        },
        {
          "name": "stderr",
          "output_type": "stream",
          "text": [
            "100%|██████████| 53/53 [00:00<00:00, 319.14it/s]\n",
            "100%|██████████| 53/53 [00:00<00:00, 596.08it/s]\n"
          ]
        },
        {
          "name": "stdout",
          "output_type": "stream",
          "text": [
            "epoch: 83 validation: roc_auc_score: 0.9961444525858297\n"
          ]
        },
        {
          "name": "stderr",
          "output_type": "stream",
          "text": [
            "100%|██████████| 53/53 [00:00<00:00, 306.28it/s]\n",
            "100%|██████████| 53/53 [00:00<00:00, 318.15it/s]\n"
          ]
        },
        {
          "name": "stdout",
          "output_type": "stream",
          "text": [
            "epoch: 84 validation: roc_auc_score: 0.9961850569757011\n"
          ]
        },
        {
          "name": "stderr",
          "output_type": "stream",
          "text": [
            "100%|██████████| 53/53 [00:00<00:00, 266.24it/s]\n",
            "100%|██████████| 53/53 [00:00<00:00, 573.22it/s]\n"
          ]
        },
        {
          "name": "stdout",
          "output_type": "stream",
          "text": [
            "epoch: 85 validation: roc_auc_score: 0.9962333795553828\n"
          ]
        },
        {
          "name": "stderr",
          "output_type": "stream",
          "text": [
            "100%|██████████| 53/53 [00:00<00:00, 275.18it/s]\n",
            "100%|██████████| 53/53 [00:00<00:00, 557.38it/s]\n"
          ]
        },
        {
          "name": "stdout",
          "output_type": "stream",
          "text": [
            "epoch: 86 validation: roc_auc_score: 0.996278490217566\n"
          ]
        },
        {
          "name": "stderr",
          "output_type": "stream",
          "text": [
            "100%|██████████| 53/53 [00:00<00:00, 311.77it/s]\n",
            "100%|██████████| 53/53 [00:00<00:00, 616.87it/s]\n"
          ]
        },
        {
          "name": "stdout",
          "output_type": "stream",
          "text": [
            "epoch: 87 validation: roc_auc_score: 0.9963403316141826\n"
          ]
        },
        {
          "name": "stderr",
          "output_type": "stream",
          "text": [
            "100%|██████████| 53/53 [00:00<00:00, 270.51it/s]\n",
            "100%|██████████| 53/53 [00:00<00:00, 534.30it/s]\n"
          ]
        },
        {
          "name": "stdout",
          "output_type": "stream",
          "text": [
            "epoch: 88 validation: roc_auc_score: 0.9963733256771447\n"
          ]
        },
        {
          "name": "stderr",
          "output_type": "stream",
          "text": [
            "100%|██████████| 53/53 [00:00<00:00, 279.04it/s]\n",
            "100%|██████████| 53/53 [00:00<00:00, 526.03it/s]\n"
          ]
        },
        {
          "name": "stdout",
          "output_type": "stream",
          "text": [
            "epoch: 89 validation: roc_auc_score: 0.9964112095249557\n"
          ]
        },
        {
          "name": "stderr",
          "output_type": "stream",
          "text": [
            "100%|██████████| 53/53 [00:00<00:00, 269.56it/s]\n",
            "100%|██████████| 53/53 [00:00<00:00, 570.58it/s]\n"
          ]
        },
        {
          "name": "stdout",
          "output_type": "stream",
          "text": [
            "epoch: 90 validation: roc_auc_score: 0.9964784920056932\n"
          ]
        },
        {
          "name": "stderr",
          "output_type": "stream",
          "text": [
            "100%|██████████| 53/53 [00:00<00:00, 293.83it/s]\n",
            "100%|██████████| 53/53 [00:00<00:00, 563.09it/s]\n"
          ]
        },
        {
          "name": "stdout",
          "output_type": "stream",
          "text": [
            "epoch: 91 validation: roc_auc_score: 0.9965248490836218\n"
          ]
        },
        {
          "name": "stderr",
          "output_type": "stream",
          "text": [
            "100%|██████████| 53/53 [00:00<00:00, 204.39it/s]\n",
            "100%|██████████| 53/53 [00:00<00:00, 574.50it/s]\n"
          ]
        },
        {
          "name": "stdout",
          "output_type": "stream",
          "text": [
            "epoch: 92 validation: roc_auc_score: 0.9965722368514944\n"
          ]
        },
        {
          "name": "stderr",
          "output_type": "stream",
          "text": [
            "100%|██████████| 53/53 [00:00<00:00, 281.05it/s]\n",
            "100%|██████████| 53/53 [00:00<00:00, 573.67it/s]\n"
          ]
        },
        {
          "name": "stdout",
          "output_type": "stream",
          "text": [
            "epoch: 93 validation: roc_auc_score: 0.9966133446015708\n"
          ]
        },
        {
          "name": "stderr",
          "output_type": "stream",
          "text": [
            "100%|██████████| 53/53 [00:00<00:00, 264.94it/s]\n",
            "100%|██████████| 53/53 [00:00<00:00, 566.08it/s]\n"
          ]
        },
        {
          "name": "stdout",
          "output_type": "stream",
          "text": [
            "epoch: 94 validation: roc_auc_score: 0.9966452720202892\n"
          ]
        },
        {
          "name": "stderr",
          "output_type": "stream",
          "text": [
            "100%|██████████| 53/53 [00:00<00:00, 268.61it/s]\n",
            "100%|██████████| 53/53 [00:00<00:00, 512.20it/s]\n"
          ]
        },
        {
          "name": "stdout",
          "output_type": "stream",
          "text": [
            "epoch: 95 validation: roc_auc_score: 0.9966953683454552\n"
          ]
        },
        {
          "name": "stderr",
          "output_type": "stream",
          "text": [
            "100%|██████████| 53/53 [00:00<00:00, 262.45it/s]\n",
            "100%|██████████| 53/53 [00:00<00:00, 530.85it/s]\n"
          ]
        },
        {
          "name": "stdout",
          "output_type": "stream",
          "text": [
            "epoch: 96 validation: roc_auc_score: 0.9967620036487862\n"
          ]
        },
        {
          "name": "stderr",
          "output_type": "stream",
          "text": [
            "100%|██████████| 53/53 [00:00<00:00, 269.29it/s]\n",
            "100%|██████████| 53/53 [00:00<00:00, 570.22it/s]\n"
          ]
        },
        {
          "name": "stdout",
          "output_type": "stream",
          "text": [
            "epoch: 97 validation: roc_auc_score: 0.9968108775277401\n"
          ]
        },
        {
          "name": "stderr",
          "output_type": "stream",
          "text": [
            "100%|██████████| 53/53 [00:00<00:00, 253.48it/s]\n",
            "100%|██████████| 53/53 [00:00<00:00, 572.41it/s]\n"
          ]
        },
        {
          "name": "stdout",
          "output_type": "stream",
          "text": [
            "epoch: 98 validation: roc_auc_score: 0.9968634307300974\n"
          ]
        },
        {
          "name": "stderr",
          "output_type": "stream",
          "text": [
            "100%|██████████| 53/53 [00:00<00:00, 266.65it/s]\n",
            "100%|██████████| 53/53 [00:00<00:00, 536.02it/s]"
          ]
        },
        {
          "name": "stdout",
          "output_type": "stream",
          "text": [
            "epoch: 99 validation: roc_auc_score: 0.9968954300574162\n"
          ]
        },
        {
          "name": "stderr",
          "output_type": "stream",
          "text": [
            "\n"
          ]
        }
      ],
      "source": [
        "criterion = torch.nn.BCELoss()\n",
        "model = FactorizationMachineModel(fm_field_dims, embed_dim).to(device)\n",
        "optimizer = torch.optim.Adam(params=model.parameters(), lr=learning_rate, amsgrad=True, weight_decay=weight_decay)\n",
        "\n",
        "for epoch in range(epochs):\n",
        "    train(model, optimizer, train_dataloader_context, criterion, device)\n",
        "    auc_score = test(model, train_dataloader_context, device)\n",
        "    print('epoch:', epoch, 'validation: roc_auc_score:', auc_score)"
      ]
    },
    {
      "cell_type": "code",
      "execution_count": null,
      "metadata": {
        "colab": {
          "base_uri": "https://localhost:8080/"
        },
        "id": "xSxVNG7Ztp-h",
        "outputId": "b606a1b6-0682-44ec-98c2-a768c4ea568d"
      },
      "outputs": [
        {
          "name": "stderr",
          "output_type": "stream",
          "text": [
            "100%|██████████| 14/14 [00:00<00:00, 143.90it/s]\n"
          ]
        },
        {
          "data": {
            "text/plain": [
              "0.7134581442838162"
            ]
          },
          "execution_count": 20,
          "metadata": {},
          "output_type": "execute_result"
        }
      ],
      "source": [
        "test(model, test_dataloader_context, device)"
      ]
    },
    {
      "cell_type": "markdown",
      "metadata": {
        "id": "aTIRlzQ_xR9Y"
      },
      "source": [
        "## FFM"
      ]
    },
    {
      "cell_type": "code",
      "execution_count": null,
      "metadata": {
        "id": "GJLH1SkWxVFw"
      },
      "outputs": [],
      "source": [
        "class FieldAwareFactorizationMachine(nn.Module):\n",
        "\n",
        "    def __init__(self, field_dims: np.ndarray, embed_dim: int):\n",
        "        super().__init__()\n",
        "        self.num_fields = len(field_dims)\n",
        "        self.embeddings = torch.nn.ModuleList([\n",
        "            torch.nn.Embedding(sum(field_dims), embed_dim) for _ in range(self.num_fields)\n",
        "        ])\n",
        "        self.offsets = np.array((0, *np.cumsum(field_dims)[:-1]), dtype=np.long)\n",
        "        for embedding in self.embeddings:\n",
        "            torch.nn.init.xavier_uniform_(embedding.weight.data)\n",
        "\n",
        "    def forward(self, x: torch.Tensor):\n",
        "        \"\"\"\n",
        "        :param x: Long tensor of size ``(batch_size, num_fields)``\n",
        "        \"\"\"\n",
        "        x = x + x.new_tensor(self.offsets).unsqueeze(0)\n",
        "        xs = [self.embeddings[i](x) for i in range(self.num_fields)]\n",
        "        ix = list()\n",
        "        for i in range(self.num_fields - 1):\n",
        "            for j in range(i + 1, self.num_fields):\n",
        "                ix.append(xs[j][:, i] * xs[i][:, j])\n",
        "        ix = torch.stack(ix, dim=1)\n",
        "        return ix"
      ]
    },
    {
      "cell_type": "code",
      "execution_count": null,
      "metadata": {
        "id": "C5QRc7NKvxpO"
      },
      "outputs": [],
      "source": [
        "class FieldAwareFactorizationMachineModel(nn.Module):\n",
        "\n",
        "    def __init__(self, field_dims: np.ndarray, embed_dim: int):\n",
        "        super().__init__()\n",
        "        self.linear = FeaturesLinear(field_dims)\n",
        "        self.ffm = FieldAwareFactorizationMachine(field_dims, embed_dim)\n",
        "\n",
        "    def forward(self, x: torch.Tensor):\n",
        "        \"\"\"\n",
        "        :param x: Long tensor of size ``(batch_size, num_fields)``\n",
        "        \"\"\"\n",
        "        ffm_term = torch.sum(torch.sum(self.ffm(x), dim=1), dim=1, keepdim=True)\n",
        "        x = self.linear(x) + ffm_term\n",
        "        return torch.sigmoid(x.squeeze(1))"
      ]
    },
    {
      "cell_type": "markdown",
      "metadata": {
        "id": "RTEpPoL1oNGN"
      },
      "source": [
        "각 필드의 아이템 수만큼 field_dims 선언해주겠습니다"
      ]
    },
    {
      "cell_type": "code",
      "execution_count": null,
      "metadata": {
        "id": "lDasUXJAnhKj"
      },
      "outputs": [],
      "source": [
        "ffm_field_dims = np.array([len(user2idx), len(book2idx), 6, len(loc_country2idx), len(loc_state2idx), len(loc_city2idx), \n",
        "                      len(category2idx), len(publisher2idx), len(language2idx)], \n",
        "                      dtype=np.uint32)"
      ]
    },
    {
      "cell_type": "code",
      "execution_count": null,
      "metadata": {
        "colab": {
          "base_uri": "https://localhost:8080/"
        },
        "id": "vcXXMmrSvxjQ",
        "outputId": "249998df-287a-4d1d-c547-5bf800459512"
      },
      "outputs": [
        {
          "name": "stderr",
          "output_type": "stream",
          "text": [
            "100%|██████████| 53/53 [00:00<00:00, 72.40it/s]\n",
            "100%|██████████| 53/53 [00:00<00:00, 330.43it/s]\n"
          ]
        },
        {
          "name": "stdout",
          "output_type": "stream",
          "text": [
            "epoch: 0 validation: roc_auc_score: 0.557266163956835\n"
          ]
        },
        {
          "name": "stderr",
          "output_type": "stream",
          "text": [
            "100%|██████████| 53/53 [00:00<00:00, 77.45it/s]\n",
            "100%|██████████| 53/53 [00:00<00:00, 345.55it/s]\n"
          ]
        },
        {
          "name": "stdout",
          "output_type": "stream",
          "text": [
            "epoch: 1 validation: roc_auc_score: 0.6594477822153109\n"
          ]
        },
        {
          "name": "stderr",
          "output_type": "stream",
          "text": [
            "100%|██████████| 53/53 [00:00<00:00, 74.79it/s]\n",
            "100%|██████████| 53/53 [00:00<00:00, 335.79it/s]\n"
          ]
        },
        {
          "name": "stdout",
          "output_type": "stream",
          "text": [
            "epoch: 2 validation: roc_auc_score: 0.7526527382423625\n"
          ]
        },
        {
          "name": "stderr",
          "output_type": "stream",
          "text": [
            "100%|██████████| 53/53 [00:00<00:00, 77.37it/s]\n",
            "100%|██████████| 53/53 [00:00<00:00, 323.93it/s]\n"
          ]
        },
        {
          "name": "stdout",
          "output_type": "stream",
          "text": [
            "epoch: 3 validation: roc_auc_score: 0.8292837685245844\n"
          ]
        },
        {
          "name": "stderr",
          "output_type": "stream",
          "text": [
            "100%|██████████| 53/53 [00:00<00:00, 78.96it/s]\n",
            "100%|██████████| 53/53 [00:00<00:00, 322.48it/s]\n"
          ]
        },
        {
          "name": "stdout",
          "output_type": "stream",
          "text": [
            "epoch: 4 validation: roc_auc_score: 0.8989592596309646\n"
          ]
        },
        {
          "name": "stderr",
          "output_type": "stream",
          "text": [
            "100%|██████████| 53/53 [00:00<00:00, 79.06it/s]\n",
            "100%|██████████| 53/53 [00:00<00:00, 340.13it/s]\n"
          ]
        },
        {
          "name": "stdout",
          "output_type": "stream",
          "text": [
            "epoch: 5 validation: roc_auc_score: 0.9502039531657365\n"
          ]
        },
        {
          "name": "stderr",
          "output_type": "stream",
          "text": [
            "100%|██████████| 53/53 [00:00<00:00, 75.88it/s]\n",
            "100%|██████████| 53/53 [00:00<00:00, 356.18it/s]\n"
          ]
        },
        {
          "name": "stdout",
          "output_type": "stream",
          "text": [
            "epoch: 6 validation: roc_auc_score: 0.9796748901901735\n"
          ]
        },
        {
          "name": "stderr",
          "output_type": "stream",
          "text": [
            "100%|██████████| 53/53 [00:00<00:00, 71.31it/s]\n",
            "100%|██████████| 53/53 [00:00<00:00, 323.83it/s]\n"
          ]
        },
        {
          "name": "stdout",
          "output_type": "stream",
          "text": [
            "epoch: 7 validation: roc_auc_score: 0.9924191076780241\n"
          ]
        },
        {
          "name": "stderr",
          "output_type": "stream",
          "text": [
            "100%|██████████| 53/53 [00:00<00:00, 77.23it/s]\n",
            "100%|██████████| 53/53 [00:00<00:00, 338.64it/s]\n"
          ]
        },
        {
          "name": "stdout",
          "output_type": "stream",
          "text": [
            "epoch: 8 validation: roc_auc_score: 0.9971211152007664\n"
          ]
        },
        {
          "name": "stderr",
          "output_type": "stream",
          "text": [
            "100%|██████████| 53/53 [00:00<00:00, 75.90it/s]\n",
            "100%|██████████| 53/53 [00:00<00:00, 316.47it/s]\n"
          ]
        },
        {
          "name": "stdout",
          "output_type": "stream",
          "text": [
            "epoch: 9 validation: roc_auc_score: 0.9988817972893189\n"
          ]
        },
        {
          "name": "stderr",
          "output_type": "stream",
          "text": [
            "100%|██████████| 53/53 [00:00<00:00, 76.85it/s]\n",
            "100%|██████████| 53/53 [00:00<00:00, 341.27it/s]\n"
          ]
        },
        {
          "name": "stdout",
          "output_type": "stream",
          "text": [
            "epoch: 10 validation: roc_auc_score: 0.9995443391667908\n"
          ]
        },
        {
          "name": "stderr",
          "output_type": "stream",
          "text": [
            "100%|██████████| 53/53 [00:00<00:00, 79.06it/s]\n",
            "100%|██████████| 53/53 [00:00<00:00, 331.46it/s]\n"
          ]
        },
        {
          "name": "stdout",
          "output_type": "stream",
          "text": [
            "epoch: 11 validation: roc_auc_score: 0.9997805589201457\n"
          ]
        },
        {
          "name": "stderr",
          "output_type": "stream",
          "text": [
            "100%|██████████| 53/53 [00:00<00:00, 77.44it/s]\n",
            "100%|██████████| 53/53 [00:00<00:00, 343.00it/s]\n"
          ]
        },
        {
          "name": "stdout",
          "output_type": "stream",
          "text": [
            "epoch: 12 validation: roc_auc_score: 0.9998990882636607\n"
          ]
        },
        {
          "name": "stderr",
          "output_type": "stream",
          "text": [
            "100%|██████████| 53/53 [00:00<00:00, 76.99it/s]\n",
            "100%|██████████| 53/53 [00:00<00:00, 366.99it/s]\n"
          ]
        },
        {
          "name": "stdout",
          "output_type": "stream",
          "text": [
            "epoch: 13 validation: roc_auc_score: 0.9999473868738089\n"
          ]
        },
        {
          "name": "stderr",
          "output_type": "stream",
          "text": [
            "100%|██████████| 53/53 [00:00<00:00, 77.75it/s]\n",
            "100%|██████████| 53/53 [00:00<00:00, 334.30it/s]\n"
          ]
        },
        {
          "name": "stdout",
          "output_type": "stream",
          "text": [
            "epoch: 14 validation: roc_auc_score: 0.9999705654127732\n"
          ]
        },
        {
          "name": "stderr",
          "output_type": "stream",
          "text": [
            "100%|██████████| 53/53 [00:00<00:00, 68.37it/s]\n",
            "100%|██████████| 53/53 [00:00<00:00, 331.50it/s]\n"
          ]
        },
        {
          "name": "stdout",
          "output_type": "stream",
          "text": [
            "epoch: 15 validation: roc_auc_score: 0.9999876317206767\n"
          ]
        },
        {
          "name": "stderr",
          "output_type": "stream",
          "text": [
            "100%|██████████| 53/53 [00:00<00:00, 78.29it/s]\n",
            "100%|██████████| 53/53 [00:00<00:00, 365.19it/s]\n"
          ]
        },
        {
          "name": "stdout",
          "output_type": "stream",
          "text": [
            "epoch: 16 validation: roc_auc_score: 0.9999937439517377\n"
          ]
        },
        {
          "name": "stderr",
          "output_type": "stream",
          "text": [
            "100%|██████████| 53/53 [00:00<00:00, 77.48it/s]\n",
            "100%|██████████| 53/53 [00:00<00:00, 343.83it/s]\n"
          ]
        },
        {
          "name": "stdout",
          "output_type": "stream",
          "text": [
            "epoch: 17 validation: roc_auc_score: 0.9999973633513071\n"
          ]
        },
        {
          "name": "stderr",
          "output_type": "stream",
          "text": [
            "100%|██████████| 53/53 [00:00<00:00, 79.76it/s]\n",
            "100%|██████████| 53/53 [00:00<00:00, 331.77it/s]\n"
          ]
        },
        {
          "name": "stdout",
          "output_type": "stream",
          "text": [
            "epoch: 18 validation: roc_auc_score: 0.9999988734319222\n"
          ]
        },
        {
          "name": "stderr",
          "output_type": "stream",
          "text": [
            "100%|██████████| 53/53 [00:00<00:00, 78.58it/s]\n",
            "100%|██████████| 53/53 [00:00<00:00, 324.75it/s]\n"
          ]
        },
        {
          "name": "stdout",
          "output_type": "stream",
          "text": [
            "epoch: 19 validation: roc_auc_score: 0.99999932885306\n"
          ]
        },
        {
          "name": "stderr",
          "output_type": "stream",
          "text": [
            "100%|██████████| 53/53 [00:00<00:00, 78.50it/s]\n",
            "100%|██████████| 53/53 [00:00<00:00, 364.51it/s]\n"
          ]
        },
        {
          "name": "stdout",
          "output_type": "stream",
          "text": [
            "epoch: 20 validation: roc_auc_score: 0.9999998801523322\n"
          ]
        },
        {
          "name": "stderr",
          "output_type": "stream",
          "text": [
            "100%|██████████| 53/53 [00:00<00:00, 76.21it/s]\n",
            "100%|██████████| 53/53 [00:00<00:00, 363.02it/s]\n"
          ]
        },
        {
          "name": "stdout",
          "output_type": "stream",
          "text": [
            "epoch: 21 validation: roc_auc_score: 1.0\n"
          ]
        },
        {
          "name": "stderr",
          "output_type": "stream",
          "text": [
            "100%|██████████| 53/53 [00:00<00:00, 75.95it/s]\n",
            "100%|██████████| 53/53 [00:00<00:00, 226.22it/s]\n"
          ]
        },
        {
          "name": "stdout",
          "output_type": "stream",
          "text": [
            "epoch: 22 validation: roc_auc_score: 1.0\n"
          ]
        },
        {
          "name": "stderr",
          "output_type": "stream",
          "text": [
            "100%|██████████| 53/53 [00:00<00:00, 77.72it/s]\n",
            "100%|██████████| 53/53 [00:00<00:00, 330.20it/s]\n"
          ]
        },
        {
          "name": "stdout",
          "output_type": "stream",
          "text": [
            "epoch: 23 validation: roc_auc_score: 1.0\n"
          ]
        },
        {
          "name": "stderr",
          "output_type": "stream",
          "text": [
            "100%|██████████| 53/53 [00:00<00:00, 74.63it/s]\n",
            "100%|██████████| 53/53 [00:00<00:00, 327.88it/s]\n"
          ]
        },
        {
          "name": "stdout",
          "output_type": "stream",
          "text": [
            "epoch: 24 validation: roc_auc_score: 1.0\n"
          ]
        },
        {
          "name": "stderr",
          "output_type": "stream",
          "text": [
            "100%|██████████| 53/53 [00:00<00:00, 75.84it/s]\n",
            "100%|██████████| 53/53 [00:00<00:00, 322.17it/s]\n"
          ]
        },
        {
          "name": "stdout",
          "output_type": "stream",
          "text": [
            "epoch: 25 validation: roc_auc_score: 1.0\n"
          ]
        },
        {
          "name": "stderr",
          "output_type": "stream",
          "text": [
            "100%|██████████| 53/53 [00:00<00:00, 75.25it/s]\n",
            "100%|██████████| 53/53 [00:00<00:00, 320.84it/s]\n"
          ]
        },
        {
          "name": "stdout",
          "output_type": "stream",
          "text": [
            "epoch: 26 validation: roc_auc_score: 1.0\n"
          ]
        },
        {
          "name": "stderr",
          "output_type": "stream",
          "text": [
            "100%|██████████| 53/53 [00:00<00:00, 77.51it/s]\n",
            "100%|██████████| 53/53 [00:00<00:00, 348.37it/s]\n"
          ]
        },
        {
          "name": "stdout",
          "output_type": "stream",
          "text": [
            "epoch: 27 validation: roc_auc_score: 1.0\n"
          ]
        },
        {
          "name": "stderr",
          "output_type": "stream",
          "text": [
            "100%|██████████| 53/53 [00:00<00:00, 75.81it/s]\n",
            "100%|██████████| 53/53 [00:00<00:00, 364.23it/s]\n"
          ]
        },
        {
          "name": "stdout",
          "output_type": "stream",
          "text": [
            "epoch: 28 validation: roc_auc_score: 1.0\n"
          ]
        },
        {
          "name": "stderr",
          "output_type": "stream",
          "text": [
            "100%|██████████| 53/53 [00:00<00:00, 78.71it/s]\n",
            "100%|██████████| 53/53 [00:00<00:00, 361.29it/s]\n"
          ]
        },
        {
          "name": "stdout",
          "output_type": "stream",
          "text": [
            "epoch: 29 validation: roc_auc_score: 1.0\n"
          ]
        },
        {
          "name": "stderr",
          "output_type": "stream",
          "text": [
            "100%|██████████| 53/53 [00:00<00:00, 67.41it/s]\n",
            "100%|██████████| 53/53 [00:00<00:00, 353.40it/s]\n"
          ]
        },
        {
          "name": "stdout",
          "output_type": "stream",
          "text": [
            "epoch: 30 validation: roc_auc_score: 1.0\n"
          ]
        },
        {
          "name": "stderr",
          "output_type": "stream",
          "text": [
            "100%|██████████| 53/53 [00:00<00:00, 77.36it/s]\n",
            "100%|██████████| 53/53 [00:00<00:00, 319.20it/s]\n"
          ]
        },
        {
          "name": "stdout",
          "output_type": "stream",
          "text": [
            "epoch: 31 validation: roc_auc_score: 1.0\n"
          ]
        },
        {
          "name": "stderr",
          "output_type": "stream",
          "text": [
            "100%|██████████| 53/53 [00:00<00:00, 74.87it/s]\n",
            "100%|██████████| 53/53 [00:00<00:00, 333.35it/s]\n"
          ]
        },
        {
          "name": "stdout",
          "output_type": "stream",
          "text": [
            "epoch: 32 validation: roc_auc_score: 1.0\n"
          ]
        },
        {
          "name": "stderr",
          "output_type": "stream",
          "text": [
            "100%|██████████| 53/53 [00:00<00:00, 78.26it/s]\n",
            "100%|██████████| 53/53 [00:00<00:00, 351.10it/s]\n"
          ]
        },
        {
          "name": "stdout",
          "output_type": "stream",
          "text": [
            "epoch: 33 validation: roc_auc_score: 1.0\n"
          ]
        },
        {
          "name": "stderr",
          "output_type": "stream",
          "text": [
            "100%|██████████| 53/53 [00:00<00:00, 77.39it/s]\n",
            "100%|██████████| 53/53 [00:00<00:00, 298.95it/s]\n"
          ]
        },
        {
          "name": "stdout",
          "output_type": "stream",
          "text": [
            "epoch: 34 validation: roc_auc_score: 1.0\n"
          ]
        },
        {
          "name": "stderr",
          "output_type": "stream",
          "text": [
            "100%|██████████| 53/53 [00:00<00:00, 76.65it/s]\n",
            "100%|██████████| 53/53 [00:00<00:00, 339.98it/s]\n"
          ]
        },
        {
          "name": "stdout",
          "output_type": "stream",
          "text": [
            "epoch: 35 validation: roc_auc_score: 1.0\n"
          ]
        },
        {
          "name": "stderr",
          "output_type": "stream",
          "text": [
            "100%|██████████| 53/53 [00:00<00:00, 75.29it/s]\n",
            "100%|██████████| 53/53 [00:00<00:00, 329.89it/s]\n"
          ]
        },
        {
          "name": "stdout",
          "output_type": "stream",
          "text": [
            "epoch: 36 validation: roc_auc_score: 1.0\n"
          ]
        },
        {
          "name": "stderr",
          "output_type": "stream",
          "text": [
            "100%|██████████| 53/53 [00:00<00:00, 76.66it/s]\n",
            "100%|██████████| 53/53 [00:00<00:00, 221.77it/s]\n"
          ]
        },
        {
          "name": "stdout",
          "output_type": "stream",
          "text": [
            "epoch: 37 validation: roc_auc_score: 1.0\n"
          ]
        },
        {
          "name": "stderr",
          "output_type": "stream",
          "text": [
            "100%|██████████| 53/53 [00:00<00:00, 75.46it/s]\n",
            "100%|██████████| 53/53 [00:00<00:00, 317.76it/s]\n"
          ]
        },
        {
          "name": "stdout",
          "output_type": "stream",
          "text": [
            "epoch: 38 validation: roc_auc_score: 1.0\n"
          ]
        },
        {
          "name": "stderr",
          "output_type": "stream",
          "text": [
            "100%|██████████| 53/53 [00:00<00:00, 75.93it/s]\n",
            "100%|██████████| 53/53 [00:00<00:00, 363.90it/s]\n"
          ]
        },
        {
          "name": "stdout",
          "output_type": "stream",
          "text": [
            "epoch: 39 validation: roc_auc_score: 1.0\n"
          ]
        },
        {
          "name": "stderr",
          "output_type": "stream",
          "text": [
            "100%|██████████| 53/53 [00:00<00:00, 76.24it/s]\n",
            "100%|██████████| 53/53 [00:00<00:00, 354.71it/s]\n"
          ]
        },
        {
          "name": "stdout",
          "output_type": "stream",
          "text": [
            "epoch: 40 validation: roc_auc_score: 1.0\n"
          ]
        },
        {
          "name": "stderr",
          "output_type": "stream",
          "text": [
            "100%|██████████| 53/53 [00:00<00:00, 78.24it/s]\n",
            "100%|██████████| 53/53 [00:00<00:00, 338.78it/s]\n"
          ]
        },
        {
          "name": "stdout",
          "output_type": "stream",
          "text": [
            "epoch: 41 validation: roc_auc_score: 1.0\n"
          ]
        },
        {
          "name": "stderr",
          "output_type": "stream",
          "text": [
            "100%|██████████| 53/53 [00:00<00:00, 76.67it/s]\n",
            "100%|██████████| 53/53 [00:00<00:00, 318.25it/s]\n"
          ]
        },
        {
          "name": "stdout",
          "output_type": "stream",
          "text": [
            "epoch: 42 validation: roc_auc_score: 1.0\n"
          ]
        },
        {
          "name": "stderr",
          "output_type": "stream",
          "text": [
            "100%|██████████| 53/53 [00:00<00:00, 77.83it/s]\n",
            "100%|██████████| 53/53 [00:00<00:00, 323.76it/s]\n"
          ]
        },
        {
          "name": "stdout",
          "output_type": "stream",
          "text": [
            "epoch: 43 validation: roc_auc_score: 1.0\n"
          ]
        },
        {
          "name": "stderr",
          "output_type": "stream",
          "text": [
            "100%|██████████| 53/53 [00:00<00:00, 77.12it/s]\n",
            "100%|██████████| 53/53 [00:00<00:00, 331.56it/s]\n"
          ]
        },
        {
          "name": "stdout",
          "output_type": "stream",
          "text": [
            "epoch: 44 validation: roc_auc_score: 1.0\n"
          ]
        },
        {
          "name": "stderr",
          "output_type": "stream",
          "text": [
            "100%|██████████| 53/53 [00:00<00:00, 74.99it/s]\n",
            "100%|██████████| 53/53 [00:00<00:00, 235.43it/s]\n"
          ]
        },
        {
          "name": "stdout",
          "output_type": "stream",
          "text": [
            "epoch: 45 validation: roc_auc_score: 1.0\n"
          ]
        },
        {
          "name": "stderr",
          "output_type": "stream",
          "text": [
            "100%|██████████| 53/53 [00:00<00:00, 74.85it/s]\n",
            "100%|██████████| 53/53 [00:00<00:00, 311.24it/s]\n"
          ]
        },
        {
          "name": "stdout",
          "output_type": "stream",
          "text": [
            "epoch: 46 validation: roc_auc_score: 1.0\n"
          ]
        },
        {
          "name": "stderr",
          "output_type": "stream",
          "text": [
            "100%|██████████| 53/53 [00:00<00:00, 74.69it/s]\n",
            "100%|██████████| 53/53 [00:00<00:00, 325.71it/s]\n"
          ]
        },
        {
          "name": "stdout",
          "output_type": "stream",
          "text": [
            "epoch: 47 validation: roc_auc_score: 1.0\n"
          ]
        },
        {
          "name": "stderr",
          "output_type": "stream",
          "text": [
            "100%|██████████| 53/53 [00:00<00:00, 71.99it/s]\n",
            "100%|██████████| 53/53 [00:00<00:00, 350.78it/s]\n"
          ]
        },
        {
          "name": "stdout",
          "output_type": "stream",
          "text": [
            "epoch: 48 validation: roc_auc_score: 1.0\n"
          ]
        },
        {
          "name": "stderr",
          "output_type": "stream",
          "text": [
            "100%|██████████| 53/53 [00:00<00:00, 77.63it/s]\n",
            "100%|██████████| 53/53 [00:00<00:00, 318.84it/s]\n"
          ]
        },
        {
          "name": "stdout",
          "output_type": "stream",
          "text": [
            "epoch: 49 validation: roc_auc_score: 1.0\n"
          ]
        },
        {
          "name": "stderr",
          "output_type": "stream",
          "text": [
            "100%|██████████| 53/53 [00:00<00:00, 76.00it/s]\n",
            "100%|██████████| 53/53 [00:00<00:00, 334.41it/s]\n"
          ]
        },
        {
          "name": "stdout",
          "output_type": "stream",
          "text": [
            "epoch: 50 validation: roc_auc_score: 0.9999999999999999\n"
          ]
        },
        {
          "name": "stderr",
          "output_type": "stream",
          "text": [
            "100%|██████████| 53/53 [00:00<00:00, 74.63it/s]\n",
            "100%|██████████| 53/53 [00:00<00:00, 326.69it/s]\n"
          ]
        },
        {
          "name": "stdout",
          "output_type": "stream",
          "text": [
            "epoch: 51 validation: roc_auc_score: 1.0\n"
          ]
        },
        {
          "name": "stderr",
          "output_type": "stream",
          "text": [
            "100%|██████████| 53/53 [00:00<00:00, 75.75it/s]\n",
            "100%|██████████| 53/53 [00:00<00:00, 310.54it/s]\n"
          ]
        },
        {
          "name": "stdout",
          "output_type": "stream",
          "text": [
            "epoch: 52 validation: roc_auc_score: 1.0\n"
          ]
        },
        {
          "name": "stderr",
          "output_type": "stream",
          "text": [
            "100%|██████████| 53/53 [00:00<00:00, 68.14it/s]\n",
            "100%|██████████| 53/53 [00:00<00:00, 348.76it/s]\n"
          ]
        },
        {
          "name": "stdout",
          "output_type": "stream",
          "text": [
            "epoch: 53 validation: roc_auc_score: 1.0\n"
          ]
        },
        {
          "name": "stderr",
          "output_type": "stream",
          "text": [
            "100%|██████████| 53/53 [00:00<00:00, 74.07it/s]\n",
            "100%|██████████| 53/53 [00:00<00:00, 306.54it/s]\n"
          ]
        },
        {
          "name": "stdout",
          "output_type": "stream",
          "text": [
            "epoch: 54 validation: roc_auc_score: 1.0\n"
          ]
        },
        {
          "name": "stderr",
          "output_type": "stream",
          "text": [
            "100%|██████████| 53/53 [00:00<00:00, 73.27it/s]\n",
            "100%|██████████| 53/53 [00:00<00:00, 328.20it/s]\n"
          ]
        },
        {
          "name": "stdout",
          "output_type": "stream",
          "text": [
            "epoch: 55 validation: roc_auc_score: 1.0\n"
          ]
        },
        {
          "name": "stderr",
          "output_type": "stream",
          "text": [
            "100%|██████████| 53/53 [00:00<00:00, 74.45it/s]\n",
            "100%|██████████| 53/53 [00:00<00:00, 343.30it/s]\n"
          ]
        },
        {
          "name": "stdout",
          "output_type": "stream",
          "text": [
            "epoch: 56 validation: roc_auc_score: 1.0\n"
          ]
        },
        {
          "name": "stderr",
          "output_type": "stream",
          "text": [
            "100%|██████████| 53/53 [00:00<00:00, 74.82it/s]\n",
            "100%|██████████| 53/53 [00:00<00:00, 308.56it/s]\n"
          ]
        },
        {
          "name": "stdout",
          "output_type": "stream",
          "text": [
            "epoch: 57 validation: roc_auc_score: 1.0\n"
          ]
        },
        {
          "name": "stderr",
          "output_type": "stream",
          "text": [
            "100%|██████████| 53/53 [00:00<00:00, 73.50it/s]\n",
            "100%|██████████| 53/53 [00:00<00:00, 318.94it/s]\n"
          ]
        },
        {
          "name": "stdout",
          "output_type": "stream",
          "text": [
            "epoch: 58 validation: roc_auc_score: 1.0\n"
          ]
        },
        {
          "name": "stderr",
          "output_type": "stream",
          "text": [
            "100%|██████████| 53/53 [00:00<00:00, 73.55it/s]\n",
            "100%|██████████| 53/53 [00:00<00:00, 308.76it/s]\n"
          ]
        },
        {
          "name": "stdout",
          "output_type": "stream",
          "text": [
            "epoch: 59 validation: roc_auc_score: 1.0\n"
          ]
        },
        {
          "name": "stderr",
          "output_type": "stream",
          "text": [
            "100%|██████████| 53/53 [00:00<00:00, 74.33it/s]\n",
            "100%|██████████| 53/53 [00:00<00:00, 215.04it/s]\n"
          ]
        },
        {
          "name": "stdout",
          "output_type": "stream",
          "text": [
            "epoch: 60 validation: roc_auc_score: 1.0\n"
          ]
        },
        {
          "name": "stderr",
          "output_type": "stream",
          "text": [
            "100%|██████████| 53/53 [00:00<00:00, 76.99it/s]\n",
            "100%|██████████| 53/53 [00:00<00:00, 316.54it/s]\n"
          ]
        },
        {
          "name": "stdout",
          "output_type": "stream",
          "text": [
            "epoch: 61 validation: roc_auc_score: 1.0\n"
          ]
        },
        {
          "name": "stderr",
          "output_type": "stream",
          "text": [
            "100%|██████████| 53/53 [00:00<00:00, 75.79it/s]\n",
            "100%|██████████| 53/53 [00:00<00:00, 326.94it/s]\n"
          ]
        },
        {
          "name": "stdout",
          "output_type": "stream",
          "text": [
            "epoch: 62 validation: roc_auc_score: 1.0\n"
          ]
        },
        {
          "name": "stderr",
          "output_type": "stream",
          "text": [
            "100%|██████████| 53/53 [00:00<00:00, 74.35it/s]\n",
            "100%|██████████| 53/53 [00:00<00:00, 310.51it/s]\n"
          ]
        },
        {
          "name": "stdout",
          "output_type": "stream",
          "text": [
            "epoch: 63 validation: roc_auc_score: 1.0\n"
          ]
        },
        {
          "name": "stderr",
          "output_type": "stream",
          "text": [
            "100%|██████████| 53/53 [00:00<00:00, 74.15it/s]\n",
            "100%|██████████| 53/53 [00:00<00:00, 314.87it/s]\n"
          ]
        },
        {
          "name": "stdout",
          "output_type": "stream",
          "text": [
            "epoch: 64 validation: roc_auc_score: 1.0\n"
          ]
        },
        {
          "name": "stderr",
          "output_type": "stream",
          "text": [
            "100%|██████████| 53/53 [00:00<00:00, 74.14it/s]\n",
            "100%|██████████| 53/53 [00:00<00:00, 323.78it/s]\n"
          ]
        },
        {
          "name": "stdout",
          "output_type": "stream",
          "text": [
            "epoch: 65 validation: roc_auc_score: 1.0\n"
          ]
        },
        {
          "name": "stderr",
          "output_type": "stream",
          "text": [
            "100%|██████████| 53/53 [00:00<00:00, 72.96it/s]\n",
            "100%|██████████| 53/53 [00:00<00:00, 342.87it/s]\n"
          ]
        },
        {
          "name": "stdout",
          "output_type": "stream",
          "text": [
            "epoch: 66 validation: roc_auc_score: 1.0\n"
          ]
        },
        {
          "name": "stderr",
          "output_type": "stream",
          "text": [
            "100%|██████████| 53/53 [00:00<00:00, 75.17it/s]\n",
            "100%|██████████| 53/53 [00:00<00:00, 356.62it/s]\n"
          ]
        },
        {
          "name": "stdout",
          "output_type": "stream",
          "text": [
            "epoch: 67 validation: roc_auc_score: 1.0\n"
          ]
        },
        {
          "name": "stderr",
          "output_type": "stream",
          "text": [
            "100%|██████████| 53/53 [00:00<00:00, 68.58it/s]\n",
            "100%|██████████| 53/53 [00:00<00:00, 345.32it/s]\n"
          ]
        },
        {
          "name": "stdout",
          "output_type": "stream",
          "text": [
            "epoch: 68 validation: roc_auc_score: 1.0\n"
          ]
        },
        {
          "name": "stderr",
          "output_type": "stream",
          "text": [
            "100%|██████████| 53/53 [00:00<00:00, 78.53it/s]\n",
            "100%|██████████| 53/53 [00:00<00:00, 326.85it/s]\n"
          ]
        },
        {
          "name": "stdout",
          "output_type": "stream",
          "text": [
            "epoch: 69 validation: roc_auc_score: 1.0\n"
          ]
        },
        {
          "name": "stderr",
          "output_type": "stream",
          "text": [
            "100%|██████████| 53/53 [00:00<00:00, 75.96it/s]\n",
            "100%|██████████| 53/53 [00:00<00:00, 323.16it/s]\n"
          ]
        },
        {
          "name": "stdout",
          "output_type": "stream",
          "text": [
            "epoch: 70 validation: roc_auc_score: 1.0\n"
          ]
        },
        {
          "name": "stderr",
          "output_type": "stream",
          "text": [
            "100%|██████████| 53/53 [00:00<00:00, 77.24it/s]\n",
            "100%|██████████| 53/53 [00:00<00:00, 330.37it/s]\n"
          ]
        },
        {
          "name": "stdout",
          "output_type": "stream",
          "text": [
            "epoch: 71 validation: roc_auc_score: 1.0\n"
          ]
        },
        {
          "name": "stderr",
          "output_type": "stream",
          "text": [
            "100%|██████████| 53/53 [00:00<00:00, 76.54it/s]\n",
            "100%|██████████| 53/53 [00:00<00:00, 349.22it/s]\n"
          ]
        },
        {
          "name": "stdout",
          "output_type": "stream",
          "text": [
            "epoch: 72 validation: roc_auc_score: 1.0\n"
          ]
        },
        {
          "name": "stderr",
          "output_type": "stream",
          "text": [
            "100%|██████████| 53/53 [00:00<00:00, 78.22it/s]\n",
            "100%|██████████| 53/53 [00:00<00:00, 350.45it/s]\n"
          ]
        },
        {
          "name": "stdout",
          "output_type": "stream",
          "text": [
            "epoch: 73 validation: roc_auc_score: 1.0\n"
          ]
        },
        {
          "name": "stderr",
          "output_type": "stream",
          "text": [
            "100%|██████████| 53/53 [00:00<00:00, 75.74it/s]\n",
            "100%|██████████| 53/53 [00:00<00:00, 319.03it/s]\n"
          ]
        },
        {
          "name": "stdout",
          "output_type": "stream",
          "text": [
            "epoch: 74 validation: roc_auc_score: 1.0\n"
          ]
        },
        {
          "name": "stderr",
          "output_type": "stream",
          "text": [
            "100%|██████████| 53/53 [00:00<00:00, 75.22it/s]\n",
            "100%|██████████| 53/53 [00:00<00:00, 310.10it/s]\n"
          ]
        },
        {
          "name": "stdout",
          "output_type": "stream",
          "text": [
            "epoch: 75 validation: roc_auc_score: 1.0\n"
          ]
        },
        {
          "name": "stderr",
          "output_type": "stream",
          "text": [
            "100%|██████████| 53/53 [00:00<00:00, 67.76it/s]\n",
            "100%|██████████| 53/53 [00:00<00:00, 305.19it/s]\n"
          ]
        },
        {
          "name": "stdout",
          "output_type": "stream",
          "text": [
            "epoch: 76 validation: roc_auc_score: 1.0\n"
          ]
        },
        {
          "name": "stderr",
          "output_type": "stream",
          "text": [
            "100%|██████████| 53/53 [00:00<00:00, 74.08it/s]\n",
            "100%|██████████| 53/53 [00:00<00:00, 332.04it/s]\n"
          ]
        },
        {
          "name": "stdout",
          "output_type": "stream",
          "text": [
            "epoch: 77 validation: roc_auc_score: 1.0\n"
          ]
        },
        {
          "name": "stderr",
          "output_type": "stream",
          "text": [
            "100%|██████████| 53/53 [00:00<00:00, 79.12it/s]\n",
            "100%|██████████| 53/53 [00:00<00:00, 342.40it/s]\n"
          ]
        },
        {
          "name": "stdout",
          "output_type": "stream",
          "text": [
            "epoch: 78 validation: roc_auc_score: 1.0\n"
          ]
        },
        {
          "name": "stderr",
          "output_type": "stream",
          "text": [
            "100%|██████████| 53/53 [00:00<00:00, 79.17it/s]\n",
            "100%|██████████| 53/53 [00:00<00:00, 355.27it/s]\n"
          ]
        },
        {
          "name": "stdout",
          "output_type": "stream",
          "text": [
            "epoch: 79 validation: roc_auc_score: 1.0\n"
          ]
        },
        {
          "name": "stderr",
          "output_type": "stream",
          "text": [
            "100%|██████████| 53/53 [00:00<00:00, 77.12it/s]\n",
            "100%|██████████| 53/53 [00:00<00:00, 326.21it/s]\n"
          ]
        },
        {
          "name": "stdout",
          "output_type": "stream",
          "text": [
            "epoch: 80 validation: roc_auc_score: 1.0\n"
          ]
        },
        {
          "name": "stderr",
          "output_type": "stream",
          "text": [
            "100%|██████████| 53/53 [00:00<00:00, 75.03it/s]\n",
            "100%|██████████| 53/53 [00:00<00:00, 318.45it/s]\n"
          ]
        },
        {
          "name": "stdout",
          "output_type": "stream",
          "text": [
            "epoch: 81 validation: roc_auc_score: 1.0\n"
          ]
        },
        {
          "name": "stderr",
          "output_type": "stream",
          "text": [
            "100%|██████████| 53/53 [00:00<00:00, 74.26it/s]\n",
            "100%|██████████| 53/53 [00:00<00:00, 325.61it/s]\n"
          ]
        },
        {
          "name": "stdout",
          "output_type": "stream",
          "text": [
            "epoch: 82 validation: roc_auc_score: 1.0\n"
          ]
        },
        {
          "name": "stderr",
          "output_type": "stream",
          "text": [
            "100%|██████████| 53/53 [00:00<00:00, 74.94it/s]\n",
            "100%|██████████| 53/53 [00:00<00:00, 219.73it/s]\n"
          ]
        },
        {
          "name": "stdout",
          "output_type": "stream",
          "text": [
            "epoch: 83 validation: roc_auc_score: 1.0\n"
          ]
        },
        {
          "name": "stderr",
          "output_type": "stream",
          "text": [
            "100%|██████████| 53/53 [00:00<00:00, 76.61it/s]\n",
            "100%|██████████| 53/53 [00:00<00:00, 324.80it/s]\n"
          ]
        },
        {
          "name": "stdout",
          "output_type": "stream",
          "text": [
            "epoch: 84 validation: roc_auc_score: 1.0\n"
          ]
        },
        {
          "name": "stderr",
          "output_type": "stream",
          "text": [
            "100%|██████████| 53/53 [00:00<00:00, 75.08it/s]\n",
            "100%|██████████| 53/53 [00:00<00:00, 310.53it/s]\n"
          ]
        },
        {
          "name": "stdout",
          "output_type": "stream",
          "text": [
            "epoch: 85 validation: roc_auc_score: 1.0\n"
          ]
        },
        {
          "name": "stderr",
          "output_type": "stream",
          "text": [
            "100%|██████████| 53/53 [00:00<00:00, 77.38it/s]\n",
            "100%|██████████| 53/53 [00:00<00:00, 328.14it/s]\n"
          ]
        },
        {
          "name": "stdout",
          "output_type": "stream",
          "text": [
            "epoch: 86 validation: roc_auc_score: 1.0\n"
          ]
        },
        {
          "name": "stderr",
          "output_type": "stream",
          "text": [
            "100%|██████████| 53/53 [00:00<00:00, 76.35it/s]\n",
            "100%|██████████| 53/53 [00:00<00:00, 334.93it/s]\n"
          ]
        },
        {
          "name": "stdout",
          "output_type": "stream",
          "text": [
            "epoch: 87 validation: roc_auc_score: 1.0\n"
          ]
        },
        {
          "name": "stderr",
          "output_type": "stream",
          "text": [
            "100%|██████████| 53/53 [00:00<00:00, 78.47it/s]\n",
            "100%|██████████| 53/53 [00:00<00:00, 320.31it/s]\n"
          ]
        },
        {
          "name": "stdout",
          "output_type": "stream",
          "text": [
            "epoch: 88 validation: roc_auc_score: 1.0\n"
          ]
        },
        {
          "name": "stderr",
          "output_type": "stream",
          "text": [
            "100%|██████████| 53/53 [00:00<00:00, 75.80it/s]\n",
            "100%|██████████| 53/53 [00:00<00:00, 332.48it/s]\n"
          ]
        },
        {
          "name": "stdout",
          "output_type": "stream",
          "text": [
            "epoch: 89 validation: roc_auc_score: 1.0\n"
          ]
        },
        {
          "name": "stderr",
          "output_type": "stream",
          "text": [
            "100%|██████████| 53/53 [00:00<00:00, 74.43it/s]\n",
            "100%|██████████| 53/53 [00:00<00:00, 355.65it/s]\n"
          ]
        },
        {
          "name": "stdout",
          "output_type": "stream",
          "text": [
            "epoch: 90 validation: roc_auc_score: 1.0\n"
          ]
        },
        {
          "name": "stderr",
          "output_type": "stream",
          "text": [
            "100%|██████████| 53/53 [00:00<00:00, 70.68it/s]\n",
            "100%|██████████| 53/53 [00:00<00:00, 309.04it/s]\n"
          ]
        },
        {
          "name": "stdout",
          "output_type": "stream",
          "text": [
            "epoch: 91 validation: roc_auc_score: 1.0\n"
          ]
        },
        {
          "name": "stderr",
          "output_type": "stream",
          "text": [
            "100%|██████████| 53/53 [00:00<00:00, 76.49it/s]\n",
            "100%|██████████| 53/53 [00:00<00:00, 307.50it/s]\n"
          ]
        },
        {
          "name": "stdout",
          "output_type": "stream",
          "text": [
            "epoch: 92 validation: roc_auc_score: 1.0\n"
          ]
        },
        {
          "name": "stderr",
          "output_type": "stream",
          "text": [
            "100%|██████████| 53/53 [00:00<00:00, 75.31it/s]\n",
            "100%|██████████| 53/53 [00:00<00:00, 325.90it/s]\n"
          ]
        },
        {
          "name": "stdout",
          "output_type": "stream",
          "text": [
            "epoch: 93 validation: roc_auc_score: 1.0\n"
          ]
        },
        {
          "name": "stderr",
          "output_type": "stream",
          "text": [
            "100%|██████████| 53/53 [00:00<00:00, 76.75it/s]\n",
            "100%|██████████| 53/53 [00:00<00:00, 339.45it/s]\n"
          ]
        },
        {
          "name": "stdout",
          "output_type": "stream",
          "text": [
            "epoch: 94 validation: roc_auc_score: 1.0\n"
          ]
        },
        {
          "name": "stderr",
          "output_type": "stream",
          "text": [
            "100%|██████████| 53/53 [00:00<00:00, 78.70it/s]\n",
            "100%|██████████| 53/53 [00:00<00:00, 343.08it/s]\n"
          ]
        },
        {
          "name": "stdout",
          "output_type": "stream",
          "text": [
            "epoch: 95 validation: roc_auc_score: 1.0\n"
          ]
        },
        {
          "name": "stderr",
          "output_type": "stream",
          "text": [
            "100%|██████████| 53/53 [00:00<00:00, 77.96it/s]\n",
            "100%|██████████| 53/53 [00:00<00:00, 347.39it/s]\n"
          ]
        },
        {
          "name": "stdout",
          "output_type": "stream",
          "text": [
            "epoch: 96 validation: roc_auc_score: 1.0\n"
          ]
        },
        {
          "name": "stderr",
          "output_type": "stream",
          "text": [
            "100%|██████████| 53/53 [00:00<00:00, 75.16it/s]\n",
            "100%|██████████| 53/53 [00:00<00:00, 327.75it/s]\n"
          ]
        },
        {
          "name": "stdout",
          "output_type": "stream",
          "text": [
            "epoch: 97 validation: roc_auc_score: 1.0\n"
          ]
        },
        {
          "name": "stderr",
          "output_type": "stream",
          "text": [
            "100%|██████████| 53/53 [00:00<00:00, 77.43it/s]\n",
            "100%|██████████| 53/53 [00:00<00:00, 228.63it/s]\n"
          ]
        },
        {
          "name": "stdout",
          "output_type": "stream",
          "text": [
            "epoch: 98 validation: roc_auc_score: 1.0\n"
          ]
        },
        {
          "name": "stderr",
          "output_type": "stream",
          "text": [
            "100%|██████████| 53/53 [00:00<00:00, 73.48it/s]\n",
            "100%|██████████| 53/53 [00:00<00:00, 315.13it/s]"
          ]
        },
        {
          "name": "stdout",
          "output_type": "stream",
          "text": [
            "epoch: 99 validation: roc_auc_score: 1.0\n"
          ]
        },
        {
          "name": "stderr",
          "output_type": "stream",
          "text": [
            "\n"
          ]
        }
      ],
      "source": [
        "criterion = torch.nn.BCELoss()\n",
        "model = FieldAwareFactorizationMachineModel(ffm_field_dims, embed_dim).to(device)\n",
        "optimizer = torch.optim.Adam(params=model.parameters(), lr=learning_rate, amsgrad=True, weight_decay=weight_decay)\n",
        "\n",
        "for epoch in range(epochs):\n",
        "    train(model, optimizer, train_dataloader_context, criterion, device)\n",
        "    auc_score = test(model, train_dataloader_context, device)\n",
        "    print('epoch:', epoch, 'validation: roc_auc_score:', auc_score)"
      ]
    },
    {
      "cell_type": "code",
      "execution_count": null,
      "metadata": {
        "colab": {
          "base_uri": "https://localhost:8080/"
        },
        "id": "qIkGLWSUnSa1",
        "outputId": "79a5e030-2711-4b60-ffd1-e2f306145ffd"
      },
      "outputs": [
        {
          "name": "stderr",
          "output_type": "stream",
          "text": [
            "100%|██████████| 14/14 [00:00<00:00, 300.55it/s]\n"
          ]
        },
        {
          "data": {
            "text/plain": [
              "0.7365658121934642"
            ]
          },
          "execution_count": 25,
          "metadata": {},
          "output_type": "execute_result"
        }
      ],
      "source": [
        "test(model, test_dataloader_context, device)"
      ]
    },
    {
      "cell_type": "markdown",
      "metadata": {
        "id": "0Tb4upuvxqix"
      },
      "source": [
        "# [4] Deep Learning Recommender System"
      ]
    },
    {
      "cell_type": "markdown",
      "metadata": {
        "id": "vPkRE9rIxVfZ"
      },
      "source": [
        "## NCF"
      ]
    },
    {
      "cell_type": "code",
      "execution_count": null,
      "metadata": {
        "id": "-DION_WZYjrB"
      },
      "outputs": [],
      "source": [
        "class MultiLayerPerceptron(nn.Module):\n",
        "\n",
        "    def __init__(self, input_dim, embed_dims, dropout, output_layer=True):\n",
        "        super().__init__()\n",
        "        layers = list()\n",
        "        for embed_dim in embed_dims:\n",
        "            layers.append(torch.nn.Linear(input_dim, embed_dim))\n",
        "            layers.append(torch.nn.BatchNorm1d(embed_dim))\n",
        "            layers.append(torch.nn.ReLU())\n",
        "            layers.append(torch.nn.Dropout(p=dropout))\n",
        "            input_dim = embed_dim\n",
        "        if output_layer:\n",
        "            layers.append(torch.nn.Linear(input_dim, 1))\n",
        "        self.mlp = torch.nn.Sequential(*layers)\n",
        "\n",
        "    def forward(self, x):\n",
        "        \"\"\"\n",
        "        :param x: Float tensor of size ``(batch_size, embed_dim)``\n",
        "        \"\"\"\n",
        "        return self.mlp(x)"
      ]
    },
    {
      "cell_type": "code",
      "execution_count": null,
      "metadata": {
        "id": "mcYNy6Fcxc5l"
      },
      "outputs": [],
      "source": [
        "class NeuralCollaborativeFiltering(nn.Module):\n",
        "\n",
        "    def __init__(self, field_dims, user_field_idx, item_field_idx, embed_dim, mlp_dims, dropout):\n",
        "        super().__init__()\n",
        "        self.user_field_idx = user_field_idx\n",
        "        self.item_field_idx = item_field_idx\n",
        "        self.embedding = FeaturesEmbedding(field_dims, embed_dim)\n",
        "        self.embed_output_dim = len(field_dims) * embed_dim\n",
        "        self.mlp = MultiLayerPerceptron(self.embed_output_dim, mlp_dims, dropout, output_layer=False)\n",
        "        self.fc = torch.nn.Linear(mlp_dims[-1] + embed_dim, 1)\n",
        "\n",
        "    def forward(self, x):\n",
        "        \"\"\"\n",
        "        :param x: Long tensor of size ``(batch_size, num_user_fields)``\n",
        "        \"\"\"\n",
        "        x = self.embedding(x)\n",
        "        user_x = x[:, self.user_field_idx].squeeze(1)\n",
        "        item_x = x[:, self.item_field_idx].squeeze(1)\n",
        "        gmf = user_x * item_x\n",
        "        x = self.mlp(x.view(-1, self.embed_output_dim))\n",
        "        x = torch.cat([gmf, x], dim=1)\n",
        "        x = self.fc(x).squeeze(1)\n",
        "        return torch.sigmoid(x)"
      ]
    },
    {
      "cell_type": "code",
      "execution_count": null,
      "metadata": {
        "id": "Vnf1nOCtp1X-"
      },
      "outputs": [],
      "source": [
        "field_dims = np.array([len(user2idx), len(book2idx)], dtype=np.uint32)"
      ]
    },
    {
      "cell_type": "code",
      "execution_count": null,
      "metadata": {
        "colab": {
          "base_uri": "https://localhost:8080/"
        },
        "id": "HnsSq2Vy_6-l",
        "outputId": "9bddb13d-3fa0-4692-ca4a-4d64038e0900"
      },
      "outputs": [
        {
          "name": "stderr",
          "output_type": "stream",
          "text": [
            "100%|██████████| 53/53 [00:00<00:00, 202.65it/s]\n",
            "100%|██████████| 53/53 [00:00<00:00, 540.15it/s]\n"
          ]
        },
        {
          "name": "stdout",
          "output_type": "stream",
          "text": [
            "epoch: 0 validation: roc_auc_score: 0.8140286883653547\n"
          ]
        },
        {
          "name": "stderr",
          "output_type": "stream",
          "text": [
            "100%|██████████| 53/53 [00:00<00:00, 227.83it/s]\n",
            "100%|██████████| 53/53 [00:00<00:00, 541.48it/s]\n"
          ]
        },
        {
          "name": "stdout",
          "output_type": "stream",
          "text": [
            "epoch: 1 validation: roc_auc_score: 0.9395223867979836\n"
          ]
        },
        {
          "name": "stderr",
          "output_type": "stream",
          "text": [
            "100%|██████████| 53/53 [00:00<00:00, 229.72it/s]\n",
            "100%|██████████| 53/53 [00:00<00:00, 519.93it/s]\n"
          ]
        },
        {
          "name": "stdout",
          "output_type": "stream",
          "text": [
            "epoch: 2 validation: roc_auc_score: 0.9839747566081632\n"
          ]
        },
        {
          "name": "stderr",
          "output_type": "stream",
          "text": [
            "100%|██████████| 53/53 [00:00<00:00, 230.12it/s]\n",
            "100%|██████████| 53/53 [00:00<00:00, 566.54it/s]\n"
          ]
        },
        {
          "name": "stdout",
          "output_type": "stream",
          "text": [
            "epoch: 3 validation: roc_auc_score: 0.9921353507889173\n"
          ]
        },
        {
          "name": "stderr",
          "output_type": "stream",
          "text": [
            "100%|██████████| 53/53 [00:00<00:00, 249.39it/s]\n",
            "100%|██████████| 53/53 [00:00<00:00, 526.46it/s]\n"
          ]
        },
        {
          "name": "stdout",
          "output_type": "stream",
          "text": [
            "epoch: 4 validation: roc_auc_score: 0.9947879400056625\n"
          ]
        },
        {
          "name": "stderr",
          "output_type": "stream",
          "text": [
            "100%|██████████| 53/53 [00:00<00:00, 241.95it/s]\n",
            "100%|██████████| 53/53 [00:00<00:00, 315.33it/s]\n"
          ]
        },
        {
          "name": "stdout",
          "output_type": "stream",
          "text": [
            "epoch: 5 validation: roc_auc_score: 0.996450391458089\n"
          ]
        },
        {
          "name": "stderr",
          "output_type": "stream",
          "text": [
            "100%|██████████| 53/53 [00:00<00:00, 242.73it/s]\n",
            "100%|██████████| 53/53 [00:00<00:00, 532.83it/s]\n"
          ]
        },
        {
          "name": "stdout",
          "output_type": "stream",
          "text": [
            "epoch: 6 validation: roc_auc_score: 0.9977929511385215\n"
          ]
        },
        {
          "name": "stderr",
          "output_type": "stream",
          "text": [
            "100%|██████████| 53/53 [00:00<00:00, 229.72it/s]\n",
            "100%|██████████| 53/53 [00:00<00:00, 555.63it/s]\n"
          ]
        },
        {
          "name": "stdout",
          "output_type": "stream",
          "text": [
            "epoch: 7 validation: roc_auc_score: 0.9983755845327892\n"
          ]
        },
        {
          "name": "stderr",
          "output_type": "stream",
          "text": [
            "100%|██████████| 53/53 [00:00<00:00, 234.59it/s]\n",
            "100%|██████████| 53/53 [00:00<00:00, 539.30it/s]\n"
          ]
        },
        {
          "name": "stdout",
          "output_type": "stream",
          "text": [
            "epoch: 8 validation: roc_auc_score: 0.998843244424338\n"
          ]
        },
        {
          "name": "stderr",
          "output_type": "stream",
          "text": [
            "100%|██████████| 53/53 [00:00<00:00, 226.62it/s]\n",
            "100%|██████████| 53/53 [00:00<00:00, 530.21it/s]\n"
          ]
        },
        {
          "name": "stdout",
          "output_type": "stream",
          "text": [
            "epoch: 9 validation: roc_auc_score: 0.999203360092202\n"
          ]
        },
        {
          "name": "stderr",
          "output_type": "stream",
          "text": [
            "100%|██████████| 53/53 [00:00<00:00, 234.13it/s]\n",
            "100%|██████████| 53/53 [00:00<00:00, 485.74it/s]\n"
          ]
        },
        {
          "name": "stdout",
          "output_type": "stream",
          "text": [
            "epoch: 10 validation: roc_auc_score: 0.99944316471707\n"
          ]
        },
        {
          "name": "stderr",
          "output_type": "stream",
          "text": [
            "100%|██████████| 53/53 [00:00<00:00, 228.38it/s]\n",
            "100%|██████████| 53/53 [00:00<00:00, 580.82it/s]\n"
          ]
        },
        {
          "name": "stdout",
          "output_type": "stream",
          "text": [
            "epoch: 11 validation: roc_auc_score: 0.9995279642871432\n"
          ]
        },
        {
          "name": "stderr",
          "output_type": "stream",
          "text": [
            "100%|██████████| 53/53 [00:00<00:00, 259.91it/s]\n",
            "100%|██████████| 53/53 [00:00<00:00, 579.85it/s]\n"
          ]
        },
        {
          "name": "stdout",
          "output_type": "stream",
          "text": [
            "epoch: 12 validation: roc_auc_score: 0.9996742657852705\n"
          ]
        },
        {
          "name": "stderr",
          "output_type": "stream",
          "text": [
            "100%|██████████| 53/53 [00:00<00:00, 253.94it/s]\n",
            "100%|██████████| 53/53 [00:00<00:00, 321.16it/s]\n"
          ]
        },
        {
          "name": "stdout",
          "output_type": "stream",
          "text": [
            "epoch: 13 validation: roc_auc_score: 0.9997183365570153\n"
          ]
        },
        {
          "name": "stderr",
          "output_type": "stream",
          "text": [
            "100%|██████████| 53/53 [00:00<00:00, 239.82it/s]\n",
            "100%|██████████| 53/53 [00:00<00:00, 503.53it/s]\n"
          ]
        },
        {
          "name": "stdout",
          "output_type": "stream",
          "text": [
            "epoch: 14 validation: roc_auc_score: 0.9997883256549691\n"
          ]
        },
        {
          "name": "stderr",
          "output_type": "stream",
          "text": [
            "100%|██████████| 53/53 [00:00<00:00, 248.69it/s]\n",
            "100%|██████████| 53/53 [00:00<00:00, 534.91it/s]\n"
          ]
        },
        {
          "name": "stdout",
          "output_type": "stream",
          "text": [
            "epoch: 15 validation: roc_auc_score: 0.9998528329548007\n"
          ]
        },
        {
          "name": "stderr",
          "output_type": "stream",
          "text": [
            "100%|██████████| 53/53 [00:00<00:00, 250.11it/s]\n",
            "100%|██████████| 53/53 [00:00<00:00, 411.35it/s]\n"
          ]
        },
        {
          "name": "stdout",
          "output_type": "stream",
          "text": [
            "epoch: 16 validation: roc_auc_score: 0.9998862767319404\n"
          ]
        },
        {
          "name": "stderr",
          "output_type": "stream",
          "text": [
            "100%|██████████| 53/53 [00:00<00:00, 224.45it/s]\n",
            "100%|██████████| 53/53 [00:00<00:00, 557.20it/s]\n"
          ]
        },
        {
          "name": "stdout",
          "output_type": "stream",
          "text": [
            "epoch: 17 validation: roc_auc_score: 0.999887767396342\n"
          ]
        },
        {
          "name": "stderr",
          "output_type": "stream",
          "text": [
            "100%|██████████| 53/53 [00:00<00:00, 234.18it/s]\n",
            "100%|██████████| 53/53 [00:00<00:00, 552.69it/s]\n"
          ]
        },
        {
          "name": "stdout",
          "output_type": "stream",
          "text": [
            "epoch: 18 validation: roc_auc_score: 0.9999337135200761\n"
          ]
        },
        {
          "name": "stderr",
          "output_type": "stream",
          "text": [
            "100%|██████████| 53/53 [00:00<00:00, 219.29it/s]\n",
            "100%|██████████| 53/53 [00:00<00:00, 518.48it/s]\n"
          ]
        },
        {
          "name": "stdout",
          "output_type": "stream",
          "text": [
            "epoch: 19 validation: roc_auc_score: 0.9999389789314302\n"
          ]
        },
        {
          "name": "stderr",
          "output_type": "stream",
          "text": [
            "100%|██████████| 53/53 [00:00<00:00, 236.80it/s]\n",
            "100%|██████████| 53/53 [00:00<00:00, 468.89it/s]\n"
          ]
        },
        {
          "name": "stdout",
          "output_type": "stream",
          "text": [
            "epoch: 20 validation: roc_auc_score: 0.9999422006899757\n"
          ]
        },
        {
          "name": "stderr",
          "output_type": "stream",
          "text": [
            "100%|██████████| 53/53 [00:00<00:00, 149.88it/s]\n",
            "100%|██████████| 53/53 [00:00<00:00, 376.17it/s]\n"
          ]
        },
        {
          "name": "stdout",
          "output_type": "stream",
          "text": [
            "epoch: 21 validation: roc_auc_score: 0.9999723505796473\n"
          ]
        },
        {
          "name": "stderr",
          "output_type": "stream",
          "text": [
            "100%|██████████| 53/53 [00:00<00:00, 160.36it/s]\n",
            "100%|██████████| 53/53 [00:00<00:00, 509.87it/s]\n"
          ]
        },
        {
          "name": "stdout",
          "output_type": "stream",
          "text": [
            "epoch: 22 validation: roc_auc_score: 0.9999710041730909\n"
          ]
        },
        {
          "name": "stderr",
          "output_type": "stream",
          "text": [
            "100%|██████████| 53/53 [00:00<00:00, 233.42it/s]\n",
            "100%|██████████| 53/53 [00:00<00:00, 534.95it/s]\n"
          ]
        },
        {
          "name": "stdout",
          "output_type": "stream",
          "text": [
            "epoch: 23 validation: roc_auc_score: 0.9999721822788277\n"
          ]
        },
        {
          "name": "stderr",
          "output_type": "stream",
          "text": [
            "100%|██████████| 53/53 [00:00<00:00, 211.53it/s]\n",
            "100%|██████████| 53/53 [00:00<00:00, 519.70it/s]\n"
          ]
        },
        {
          "name": "stdout",
          "output_type": "stream",
          "text": [
            "epoch: 24 validation: roc_auc_score: 0.9999759329828061\n"
          ]
        },
        {
          "name": "stderr",
          "output_type": "stream",
          "text": [
            "100%|██████████| 53/53 [00:00<00:00, 226.48it/s]\n",
            "100%|██████████| 53/53 [00:00<00:00, 546.07it/s]\n"
          ]
        },
        {
          "name": "stdout",
          "output_type": "stream",
          "text": [
            "epoch: 25 validation: roc_auc_score: 0.999972759310209\n"
          ]
        },
        {
          "name": "stderr",
          "output_type": "stream",
          "text": [
            "100%|██████████| 53/53 [00:00<00:00, 216.24it/s]\n",
            "100%|██████████| 53/53 [00:00<00:00, 550.38it/s]\n"
          ]
        },
        {
          "name": "stdout",
          "output_type": "stream",
          "text": [
            "epoch: 26 validation: roc_auc_score: 0.9999749712638373\n"
          ]
        },
        {
          "name": "stderr",
          "output_type": "stream",
          "text": [
            "100%|██████████| 53/53 [00:00<00:00, 208.22it/s]\n",
            "100%|██████████| 53/53 [00:00<00:00, 489.43it/s]\n"
          ]
        },
        {
          "name": "stdout",
          "output_type": "stream",
          "text": [
            "epoch: 27 validation: roc_auc_score: 0.9999772553463881\n"
          ]
        },
        {
          "name": "stderr",
          "output_type": "stream",
          "text": [
            "100%|██████████| 53/53 [00:00<00:00, 232.29it/s]\n",
            "100%|██████████| 53/53 [00:00<00:00, 328.73it/s]\n"
          ]
        },
        {
          "name": "stdout",
          "output_type": "stream",
          "text": [
            "epoch: 28 validation: roc_auc_score: 0.999986992750947\n"
          ]
        },
        {
          "name": "stderr",
          "output_type": "stream",
          "text": [
            "100%|██████████| 53/53 [00:00<00:00, 229.31it/s]\n",
            "100%|██████████| 53/53 [00:00<00:00, 507.50it/s]\n"
          ]
        },
        {
          "name": "stdout",
          "output_type": "stream",
          "text": [
            "epoch: 29 validation: roc_auc_score: 0.9999830497031751\n"
          ]
        },
        {
          "name": "stderr",
          "output_type": "stream",
          "text": [
            "100%|██████████| 53/53 [00:00<00:00, 240.55it/s]\n",
            "100%|██████████| 53/53 [00:00<00:00, 553.10it/s]\n"
          ]
        },
        {
          "name": "stdout",
          "output_type": "stream",
          "text": [
            "epoch: 30 validation: roc_auc_score: 0.9999928111507084\n"
          ]
        },
        {
          "name": "stderr",
          "output_type": "stream",
          "text": [
            "100%|██████████| 53/53 [00:00<00:00, 235.13it/s]\n",
            "100%|██████████| 53/53 [00:00<00:00, 524.67it/s]\n"
          ]
        },
        {
          "name": "stdout",
          "output_type": "stream",
          "text": [
            "epoch: 31 validation: roc_auc_score: 0.9999905511111317\n"
          ]
        },
        {
          "name": "stderr",
          "output_type": "stream",
          "text": [
            "100%|██████████| 53/53 [00:00<00:00, 231.63it/s]\n",
            "100%|██████████| 53/53 [00:00<00:00, 531.29it/s]\n"
          ]
        },
        {
          "name": "stdout",
          "output_type": "stream",
          "text": [
            "epoch: 32 validation: roc_auc_score: 0.999990478982209\n"
          ]
        },
        {
          "name": "stderr",
          "output_type": "stream",
          "text": [
            "100%|██████████| 53/53 [00:00<00:00, 218.80it/s]\n",
            "100%|██████████| 53/53 [00:00<00:00, 516.27it/s]\n"
          ]
        },
        {
          "name": "stdout",
          "output_type": "stream",
          "text": [
            "epoch: 33 validation: roc_auc_score: 0.9999874976534058\n"
          ]
        },
        {
          "name": "stderr",
          "output_type": "stream",
          "text": [
            "100%|██████████| 53/53 [00:00<00:00, 223.65it/s]\n",
            "100%|██████████| 53/53 [00:00<00:00, 541.97it/s]\n"
          ]
        },
        {
          "name": "stdout",
          "output_type": "stream",
          "text": [
            "epoch: 34 validation: roc_auc_score: 0.9999863916765915\n"
          ]
        },
        {
          "name": "stderr",
          "output_type": "stream",
          "text": [
            "100%|██████████| 53/53 [00:00<00:00, 249.16it/s]\n",
            "100%|██████████| 53/53 [00:00<00:00, 530.92it/s]\n"
          ]
        },
        {
          "name": "stdout",
          "output_type": "stream",
          "text": [
            "epoch: 35 validation: roc_auc_score: 0.9999807656206243\n"
          ]
        },
        {
          "name": "stderr",
          "output_type": "stream",
          "text": [
            "100%|██████████| 53/53 [00:00<00:00, 238.46it/s]\n",
            "100%|██████████| 53/53 [00:00<00:00, 317.11it/s]\n"
          ]
        },
        {
          "name": "stdout",
          "output_type": "stream",
          "text": [
            "epoch: 36 validation: roc_auc_score: 0.9999904068532863\n"
          ]
        },
        {
          "name": "stderr",
          "output_type": "stream",
          "text": [
            "100%|██████████| 53/53 [00:00<00:00, 231.02it/s]\n",
            "100%|██████████| 53/53 [00:00<00:00, 525.79it/s]\n"
          ]
        },
        {
          "name": "stdout",
          "output_type": "stream",
          "text": [
            "epoch: 37 validation: roc_auc_score: 0.9999867042352565\n"
          ]
        },
        {
          "name": "stderr",
          "output_type": "stream",
          "text": [
            "100%|██████████| 53/53 [00:00<00:00, 242.37it/s]\n",
            "100%|██████████| 53/53 [00:00<00:00, 524.94it/s]\n"
          ]
        },
        {
          "name": "stdout",
          "output_type": "stream",
          "text": [
            "epoch: 38 validation: roc_auc_score: 0.9999944941589036\n"
          ]
        },
        {
          "name": "stderr",
          "output_type": "stream",
          "text": [
            "100%|██████████| 53/53 [00:00<00:00, 237.15it/s]\n",
            "100%|██████████| 53/53 [00:00<00:00, 541.22it/s]\n"
          ]
        },
        {
          "name": "stdout",
          "output_type": "stream",
          "text": [
            "epoch: 39 validation: roc_auc_score: 0.9999943258580841\n"
          ]
        },
        {
          "name": "stderr",
          "output_type": "stream",
          "text": [
            "100%|██████████| 53/53 [00:00<00:00, 235.27it/s]\n",
            "100%|██████████| 53/53 [00:00<00:00, 529.84it/s]\n"
          ]
        },
        {
          "name": "stdout",
          "output_type": "stream",
          "text": [
            "epoch: 40 validation: roc_auc_score: 0.9999940613853677\n"
          ]
        },
        {
          "name": "stderr",
          "output_type": "stream",
          "text": [
            "100%|██████████| 53/53 [00:00<00:00, 217.69it/s]\n",
            "100%|██████████| 53/53 [00:00<00:00, 489.94it/s]\n"
          ]
        },
        {
          "name": "stdout",
          "output_type": "stream",
          "text": [
            "epoch: 41 validation: roc_auc_score: 0.9999924264631207\n"
          ]
        },
        {
          "name": "stderr",
          "output_type": "stream",
          "text": [
            "100%|██████████| 53/53 [00:00<00:00, 232.88it/s]\n",
            "100%|██████████| 53/53 [00:00<00:00, 546.34it/s]\n"
          ]
        },
        {
          "name": "stdout",
          "output_type": "stream",
          "text": [
            "epoch: 42 validation: roc_auc_score: 0.9999957684365373\n"
          ]
        },
        {
          "name": "stderr",
          "output_type": "stream",
          "text": [
            "100%|██████████| 53/53 [00:00<00:00, 239.26it/s]\n",
            "100%|██████████| 53/53 [00:00<00:00, 499.02it/s]\n"
          ]
        },
        {
          "name": "stdout",
          "output_type": "stream",
          "text": [
            "epoch: 43 validation: roc_auc_score: 0.9999941816002388\n"
          ]
        },
        {
          "name": "stderr",
          "output_type": "stream",
          "text": [
            "100%|██████████| 53/53 [00:00<00:00, 173.41it/s]\n",
            "100%|██████████| 53/53 [00:00<00:00, 523.15it/s]\n"
          ]
        },
        {
          "name": "stdout",
          "output_type": "stream",
          "text": [
            "epoch: 44 validation: roc_auc_score: 0.9999958886514084\n"
          ]
        },
        {
          "name": "stderr",
          "output_type": "stream",
          "text": [
            "100%|██████████| 53/53 [00:00<00:00, 254.68it/s]\n",
            "100%|██████████| 53/53 [00:00<00:00, 511.33it/s]\n"
          ]
        },
        {
          "name": "stdout",
          "output_type": "stream",
          "text": [
            "epoch: 45 validation: roc_auc_score: 0.999995407791924\n"
          ]
        },
        {
          "name": "stderr",
          "output_type": "stream",
          "text": [
            "100%|██████████| 53/53 [00:00<00:00, 224.44it/s]\n",
            "100%|██████████| 53/53 [00:00<00:00, 518.90it/s]\n"
          ]
        },
        {
          "name": "stdout",
          "output_type": "stream",
          "text": [
            "epoch: 46 validation: roc_auc_score: 0.9999869206220245\n"
          ]
        },
        {
          "name": "stderr",
          "output_type": "stream",
          "text": [
            "100%|██████████| 53/53 [00:00<00:00, 232.08it/s]\n",
            "100%|██████████| 53/53 [00:00<00:00, 521.63it/s]\n"
          ]
        },
        {
          "name": "stdout",
          "output_type": "stream",
          "text": [
            "epoch: 47 validation: roc_auc_score: 0.9999941575572646\n"
          ]
        },
        {
          "name": "stderr",
          "output_type": "stream",
          "text": [
            "100%|██████████| 53/53 [00:00<00:00, 234.91it/s]\n",
            "100%|██████████| 53/53 [00:00<00:00, 499.00it/s]\n"
          ]
        },
        {
          "name": "stdout",
          "output_type": "stream",
          "text": [
            "epoch: 48 validation: roc_auc_score: 0.9999946624597232\n"
          ]
        },
        {
          "name": "stderr",
          "output_type": "stream",
          "text": [
            "100%|██████████| 53/53 [00:00<00:00, 230.80it/s]\n",
            "100%|██████████| 53/53 [00:00<00:00, 506.56it/s]\n"
          ]
        },
        {
          "name": "stdout",
          "output_type": "stream",
          "text": [
            "epoch: 49 validation: roc_auc_score: 0.9999948067175686\n"
          ]
        },
        {
          "name": "stderr",
          "output_type": "stream",
          "text": [
            "100%|██████████| 53/53 [00:00<00:00, 220.85it/s]\n",
            "100%|██████████| 53/53 [00:00<00:00, 563.69it/s]\n"
          ]
        },
        {
          "name": "stdout",
          "output_type": "stream",
          "text": [
            "epoch: 50 validation: roc_auc_score: 0.999987641911251\n"
          ]
        },
        {
          "name": "stderr",
          "output_type": "stream",
          "text": [
            "100%|██████████| 53/53 [00:00<00:00, 232.25it/s]\n",
            "100%|██████████| 53/53 [00:00<00:00, 530.08it/s]\n"
          ]
        },
        {
          "name": "stdout",
          "output_type": "stream",
          "text": [
            "epoch: 51 validation: roc_auc_score: 0.999991464744152\n"
          ]
        },
        {
          "name": "stderr",
          "output_type": "stream",
          "text": [
            "100%|██████████| 53/53 [00:00<00:00, 170.96it/s]\n",
            "100%|██████████| 53/53 [00:00<00:00, 543.12it/s]\n"
          ]
        },
        {
          "name": "stdout",
          "output_type": "stream",
          "text": [
            "epoch: 52 validation: roc_auc_score: 0.9999855261295197\n"
          ]
        },
        {
          "name": "stderr",
          "output_type": "stream",
          "text": [
            "100%|██████████| 53/53 [00:00<00:00, 242.18it/s]\n",
            "100%|██████████| 53/53 [00:00<00:00, 564.93it/s]\n"
          ]
        },
        {
          "name": "stdout",
          "output_type": "stream",
          "text": [
            "epoch: 53 validation: roc_auc_score: 0.999986992750947\n"
          ]
        },
        {
          "name": "stderr",
          "output_type": "stream",
          "text": [
            "100%|██████████| 53/53 [00:00<00:00, 232.01it/s]\n",
            "100%|██████████| 53/53 [00:00<00:00, 531.35it/s]\n"
          ]
        },
        {
          "name": "stdout",
          "output_type": "stream",
          "text": [
            "epoch: 54 validation: roc_auc_score: 0.9999950231043364\n"
          ]
        },
        {
          "name": "stderr",
          "output_type": "stream",
          "text": [
            "100%|██████████| 53/53 [00:00<00:00, 235.82it/s]\n",
            "100%|██████████| 53/53 [00:00<00:00, 550.46it/s]\n"
          ]
        },
        {
          "name": "stdout",
          "output_type": "stream",
          "text": [
            "epoch: 55 validation: roc_auc_score: 0.9999951192762334\n"
          ]
        },
        {
          "name": "stderr",
          "output_type": "stream",
          "text": [
            "100%|██████████| 53/53 [00:00<00:00, 242.89it/s]\n",
            "100%|██████████| 53/53 [00:00<00:00, 545.00it/s]\n"
          ]
        },
        {
          "name": "stdout",
          "output_type": "stream",
          "text": [
            "epoch: 56 validation: roc_auc_score: 0.9999915609160489\n"
          ]
        },
        {
          "name": "stderr",
          "output_type": "stream",
          "text": [
            "100%|██████████| 53/53 [00:00<00:00, 234.07it/s]\n",
            "100%|██████████| 53/53 [00:00<00:00, 527.05it/s]\n"
          ]
        },
        {
          "name": "stdout",
          "output_type": "stream",
          "text": [
            "epoch: 57 validation: roc_auc_score: 0.9999926428498888\n"
          ]
        },
        {
          "name": "stderr",
          "output_type": "stream",
          "text": [
            "100%|██████████| 53/53 [00:00<00:00, 220.16it/s]\n",
            "100%|██████████| 53/53 [00:00<00:00, 535.79it/s]\n"
          ]
        },
        {
          "name": "stdout",
          "output_type": "stream",
          "text": [
            "epoch: 58 validation: roc_auc_score: 0.9999945422448521\n"
          ]
        },
        {
          "name": "stderr",
          "output_type": "stream",
          "text": [
            "100%|██████████| 53/53 [00:00<00:00, 237.05it/s]\n",
            "100%|██████████| 53/53 [00:00<00:00, 318.58it/s]\n"
          ]
        },
        {
          "name": "stdout",
          "output_type": "stream",
          "text": [
            "epoch: 59 validation: roc_auc_score: 0.9999847086683963\n"
          ]
        },
        {
          "name": "stderr",
          "output_type": "stream",
          "text": [
            "100%|██████████| 53/53 [00:00<00:00, 242.38it/s]\n",
            "100%|██████████| 53/53 [00:00<00:00, 516.77it/s]\n"
          ]
        },
        {
          "name": "stdout",
          "output_type": "stream",
          "text": [
            "epoch: 60 validation: roc_auc_score: 0.9999953356630014\n"
          ]
        },
        {
          "name": "stderr",
          "output_type": "stream",
          "text": [
            "100%|██████████| 53/53 [00:00<00:00, 251.08it/s]\n",
            "100%|██████████| 53/53 [00:00<00:00, 541.62it/s]\n"
          ]
        },
        {
          "name": "stdout",
          "output_type": "stream",
          "text": [
            "epoch: 61 validation: roc_auc_score: 0.999996393553867\n"
          ]
        },
        {
          "name": "stderr",
          "output_type": "stream",
          "text": [
            "100%|██████████| 53/53 [00:00<00:00, 217.04it/s]\n",
            "100%|██████████| 53/53 [00:00<00:00, 543.65it/s]\n"
          ]
        },
        {
          "name": "stdout",
          "output_type": "stream",
          "text": [
            "epoch: 62 validation: roc_auc_score: 0.999997042714171\n"
          ]
        },
        {
          "name": "stderr",
          "output_type": "stream",
          "text": [
            "100%|██████████| 53/53 [00:00<00:00, 227.58it/s]\n",
            "100%|██████████| 53/53 [00:00<00:00, 515.78it/s]\n"
          ]
        },
        {
          "name": "stdout",
          "output_type": "stream",
          "text": [
            "epoch: 63 validation: roc_auc_score: 0.9999949509754139\n"
          ]
        },
        {
          "name": "stderr",
          "output_type": "stream",
          "text": [
            "100%|██████████| 53/53 [00:00<00:00, 225.92it/s]\n",
            "100%|██████████| 53/53 [00:00<00:00, 549.37it/s]\n"
          ]
        },
        {
          "name": "stdout",
          "output_type": "stream",
          "text": [
            "epoch: 64 validation: roc_auc_score: 0.9999960088662795\n"
          ]
        },
        {
          "name": "stderr",
          "output_type": "stream",
          "text": [
            "100%|██████████| 53/53 [00:00<00:00, 238.70it/s]\n",
            "100%|██████████| 53/53 [00:00<00:00, 551.96it/s]\n"
          ]
        },
        {
          "name": "stdout",
          "output_type": "stream",
          "text": [
            "epoch: 65 validation: roc_auc_score: 0.9999954318348981\n"
          ]
        },
        {
          "name": "stderr",
          "output_type": "stream",
          "text": [
            "100%|██████████| 53/53 [00:00<00:00, 252.75it/s]\n",
            "100%|██████████| 53/53 [00:00<00:00, 518.97it/s]\n"
          ]
        },
        {
          "name": "stdout",
          "output_type": "stream",
          "text": [
            "epoch: 66 validation: roc_auc_score: 0.9999949990613622\n"
          ]
        },
        {
          "name": "stderr",
          "output_type": "stream",
          "text": [
            "100%|██████████| 53/53 [00:00<00:00, 186.06it/s]\n",
            "100%|██████████| 53/53 [00:00<00:00, 542.81it/s]\n"
          ]
        },
        {
          "name": "stdout",
          "output_type": "stream",
          "text": [
            "epoch: 67 validation: roc_auc_score: 0.9999969946282224\n"
          ]
        },
        {
          "name": "stderr",
          "output_type": "stream",
          "text": [
            "100%|██████████| 53/53 [00:00<00:00, 242.53it/s]\n",
            "100%|██████████| 53/53 [00:00<00:00, 546.03it/s]\n"
          ]
        },
        {
          "name": "stdout",
          "output_type": "stream",
          "text": [
            "epoch: 68 validation: roc_auc_score: 0.9999971869720163\n"
          ]
        },
        {
          "name": "stderr",
          "output_type": "stream",
          "text": [
            "100%|██████████| 53/53 [00:00<00:00, 228.26it/s]\n",
            "100%|██████████| 53/53 [00:00<00:00, 570.64it/s]\n"
          ]
        },
        {
          "name": "stdout",
          "output_type": "stream",
          "text": [
            "epoch: 69 validation: roc_auc_score: 0.9999949509754139\n"
          ]
        },
        {
          "name": "stderr",
          "output_type": "stream",
          "text": [
            "100%|██████████| 53/53 [00:00<00:00, 249.28it/s]\n",
            "100%|██████████| 53/53 [00:00<00:00, 541.09it/s]\n"
          ]
        },
        {
          "name": "stdout",
          "output_type": "stream",
          "text": [
            "epoch: 70 validation: roc_auc_score: 0.9999960329092538\n"
          ]
        },
        {
          "name": "stderr",
          "output_type": "stream",
          "text": [
            "100%|██████████| 53/53 [00:00<00:00, 219.62it/s]\n",
            "100%|██████████| 53/53 [00:00<00:00, 501.14it/s]\n"
          ]
        },
        {
          "name": "stdout",
          "output_type": "stream",
          "text": [
            "epoch: 71 validation: roc_auc_score: 0.9999958886514084\n"
          ]
        },
        {
          "name": "stderr",
          "output_type": "stream",
          "text": [
            "100%|██████████| 53/53 [00:00<00:00, 244.12it/s]\n",
            "100%|██████████| 53/53 [00:00<00:00, 529.16it/s]\n"
          ]
        },
        {
          "name": "stdout",
          "output_type": "stream",
          "text": [
            "epoch: 72 validation: roc_auc_score: 0.9999969224993\n"
          ]
        },
        {
          "name": "stderr",
          "output_type": "stream",
          "text": [
            "100%|██████████| 53/53 [00:00<00:00, 243.84it/s]\n",
            "100%|██████████| 53/53 [00:00<00:00, 562.59it/s]\n"
          ]
        },
        {
          "name": "stdout",
          "output_type": "stream",
          "text": [
            "epoch: 73 validation: roc_auc_score: 0.9999972591009388\n"
          ]
        },
        {
          "name": "stderr",
          "output_type": "stream",
          "text": [
            "100%|██████████| 53/53 [00:00<00:00, 241.37it/s]\n",
            "100%|██████████| 53/53 [00:00<00:00, 530.58it/s]\n"
          ]
        },
        {
          "name": "stdout",
          "output_type": "stream",
          "text": [
            "epoch: 74 validation: roc_auc_score: 0.9999968503703772\n"
          ]
        },
        {
          "name": "stderr",
          "output_type": "stream",
          "text": [
            "100%|██████████| 53/53 [00:00<00:00, 182.41it/s]\n",
            "100%|██████████| 53/53 [00:00<00:00, 521.58it/s]\n"
          ]
        },
        {
          "name": "stdout",
          "output_type": "stream",
          "text": [
            "epoch: 75 validation: roc_auc_score: 0.99999737931581\n"
          ]
        },
        {
          "name": "stderr",
          "output_type": "stream",
          "text": [
            "100%|██████████| 53/53 [00:00<00:00, 226.50it/s]\n",
            "100%|██████████| 53/53 [00:00<00:00, 515.86it/s]\n"
          ]
        },
        {
          "name": "stdout",
          "output_type": "stream",
          "text": [
            "epoch: 76 validation: roc_auc_score: 0.9999973552728358\n"
          ]
        },
        {
          "name": "stderr",
          "output_type": "stream",
          "text": [
            "100%|██████████| 53/53 [00:00<00:00, 248.59it/s]\n",
            "100%|██████████| 53/53 [00:00<00:00, 556.79it/s]\n"
          ]
        },
        {
          "name": "stdout",
          "output_type": "stream",
          "text": [
            "epoch: 77 validation: roc_auc_score: 0.9999937728696771\n"
          ]
        },
        {
          "name": "stderr",
          "output_type": "stream",
          "text": [
            "100%|██████████| 53/53 [00:00<00:00, 233.26it/s]\n",
            "100%|██████████| 53/53 [00:00<00:00, 534.45it/s]\n"
          ]
        },
        {
          "name": "stdout",
          "output_type": "stream",
          "text": [
            "epoch: 78 validation: roc_auc_score: 0.9999892047045754\n"
          ]
        },
        {
          "name": "stderr",
          "output_type": "stream",
          "text": [
            "100%|██████████| 53/53 [00:00<00:00, 250.24it/s]\n",
            "100%|██████████| 53/53 [00:00<00:00, 521.39it/s]\n"
          ]
        },
        {
          "name": "stdout",
          "output_type": "stream",
          "text": [
            "epoch: 79 validation: roc_auc_score: 0.9999956001357178\n"
          ]
        },
        {
          "name": "stderr",
          "output_type": "stream",
          "text": [
            "100%|██████████| 53/53 [00:00<00:00, 243.28it/s]\n",
            "100%|██████████| 53/53 [00:00<00:00, 540.70it/s]\n"
          ]
        },
        {
          "name": "stdout",
          "output_type": "stream",
          "text": [
            "epoch: 80 validation: roc_auc_score: 0.9999956001357178\n"
          ]
        },
        {
          "name": "stderr",
          "output_type": "stream",
          "text": [
            "100%|██████████| 53/53 [00:00<00:00, 251.95it/s]\n",
            "100%|██████████| 53/53 [00:00<00:00, 549.00it/s]\n"
          ]
        },
        {
          "name": "stdout",
          "output_type": "stream",
          "text": [
            "epoch: 81 validation: roc_auc_score: 0.9999974274017585\n"
          ]
        },
        {
          "name": "stderr",
          "output_type": "stream",
          "text": [
            "100%|██████████| 53/53 [00:00<00:00, 237.37it/s]\n",
            "100%|██████████| 53/53 [00:00<00:00, 320.19it/s]\n"
          ]
        },
        {
          "name": "stdout",
          "output_type": "stream",
          "text": [
            "epoch: 82 validation: roc_auc_score: 0.9999908396268222\n"
          ]
        },
        {
          "name": "stderr",
          "output_type": "stream",
          "text": [
            "100%|██████████| 53/53 [00:00<00:00, 224.80it/s]\n",
            "100%|██████████| 53/53 [00:00<00:00, 478.36it/s]\n"
          ]
        },
        {
          "name": "stdout",
          "output_type": "stream",
          "text": [
            "epoch: 83 validation: roc_auc_score: 0.9999935564829091\n"
          ]
        },
        {
          "name": "stderr",
          "output_type": "stream",
          "text": [
            "100%|██████████| 53/53 [00:00<00:00, 222.80it/s]\n",
            "100%|██████████| 53/53 [00:00<00:00, 541.60it/s]\n"
          ]
        },
        {
          "name": "stdout",
          "output_type": "stream",
          "text": [
            "epoch: 84 validation: roc_auc_score: 0.9999945662878263\n"
          ]
        },
        {
          "name": "stderr",
          "output_type": "stream",
          "text": [
            "100%|██████████| 53/53 [00:00<00:00, 243.31it/s]\n",
            "100%|██████████| 53/53 [00:00<00:00, 524.57it/s]\n"
          ]
        },
        {
          "name": "stdout",
          "output_type": "stream",
          "text": [
            "epoch: 85 validation: roc_auc_score: 0.9999972350579647\n"
          ]
        },
        {
          "name": "stderr",
          "output_type": "stream",
          "text": [
            "100%|██████████| 53/53 [00:00<00:00, 223.41it/s]\n",
            "100%|██████████| 53/53 [00:00<00:00, 538.07it/s]\n"
          ]
        },
        {
          "name": "stdout",
          "output_type": "stream",
          "text": [
            "epoch: 86 validation: roc_auc_score: 0.9999964656827897\n"
          ]
        },
        {
          "name": "stderr",
          "output_type": "stream",
          "text": [
            "100%|██████████| 53/53 [00:00<00:00, 229.99it/s]\n",
            "100%|██████████| 53/53 [00:00<00:00, 496.61it/s]\n"
          ]
        },
        {
          "name": "stdout",
          "output_type": "stream",
          "text": [
            "epoch: 87 validation: roc_auc_score: 0.9999967061125319\n"
          ]
        },
        {
          "name": "stderr",
          "output_type": "stream",
          "text": [
            "100%|██████████| 53/53 [00:00<00:00, 234.18it/s]\n",
            "100%|██████████| 53/53 [00:00<00:00, 532.55it/s]\n"
          ]
        },
        {
          "name": "stdout",
          "output_type": "stream",
          "text": [
            "epoch: 88 validation: roc_auc_score: 0.9999972350579647\n"
          ]
        },
        {
          "name": "stderr",
          "output_type": "stream",
          "text": [
            "100%|██████████| 53/53 [00:00<00:00, 227.96it/s]\n",
            "100%|██████████| 53/53 [00:00<00:00, 542.60it/s]\n"
          ]
        },
        {
          "name": "stdout",
          "output_type": "stream",
          "text": [
            "epoch: 89 validation: roc_auc_score: 0.9999952875770529\n"
          ]
        },
        {
          "name": "stderr",
          "output_type": "stream",
          "text": [
            "100%|██████████| 53/53 [00:00<00:00, 183.86it/s]\n",
            "100%|██████████| 53/53 [00:00<00:00, 500.31it/s]\n"
          ]
        },
        {
          "name": "stdout",
          "output_type": "stream",
          "text": [
            "epoch: 90 validation: roc_auc_score: 0.9999970427141709\n"
          ]
        },
        {
          "name": "stderr",
          "output_type": "stream",
          "text": [
            "100%|██████████| 53/53 [00:00<00:00, 245.45it/s]\n",
            "100%|██████████| 53/53 [00:00<00:00, 525.92it/s]\n"
          ]
        },
        {
          "name": "stdout",
          "output_type": "stream",
          "text": [
            "epoch: 91 validation: roc_auc_score: 0.9999964175968412\n"
          ]
        },
        {
          "name": "stderr",
          "output_type": "stream",
          "text": [
            "100%|██████████| 53/53 [00:00<00:00, 224.47it/s]\n",
            "100%|██████████| 53/53 [00:00<00:00, 442.55it/s]\n"
          ]
        },
        {
          "name": "stdout",
          "output_type": "stream",
          "text": [
            "epoch: 92 validation: roc_auc_score: 0.9999969946282224\n"
          ]
        },
        {
          "name": "stderr",
          "output_type": "stream",
          "text": [
            "100%|██████████| 53/53 [00:00<00:00, 230.63it/s]\n",
            "100%|██████████| 53/53 [00:00<00:00, 536.16it/s]\n"
          ]
        },
        {
          "name": "stdout",
          "output_type": "stream",
          "text": [
            "epoch: 93 validation: roc_auc_score: 0.9999965858976608\n"
          ]
        },
        {
          "name": "stderr",
          "output_type": "stream",
          "text": [
            "100%|██████████| 53/53 [00:00<00:00, 232.73it/s]\n",
            "100%|██████████| 53/53 [00:00<00:00, 484.18it/s]\n"
          ]
        },
        {
          "name": "stdout",
          "output_type": "stream",
          "text": [
            "epoch: 94 validation: roc_auc_score: 0.9999971869720163\n"
          ]
        },
        {
          "name": "stderr",
          "output_type": "stream",
          "text": [
            "100%|██████████| 53/53 [00:00<00:00, 241.19it/s]\n",
            "100%|██████████| 53/53 [00:00<00:00, 570.44it/s]\n"
          ]
        },
        {
          "name": "stdout",
          "output_type": "stream",
          "text": [
            "epoch: 95 validation: roc_auc_score: 0.9999976918744748\n"
          ]
        },
        {
          "name": "stderr",
          "output_type": "stream",
          "text": [
            "100%|██████████| 53/53 [00:00<00:00, 233.90it/s]\n",
            "100%|██████████| 53/53 [00:00<00:00, 533.67it/s]\n"
          ]
        },
        {
          "name": "stdout",
          "output_type": "stream",
          "text": [
            "epoch: 96 validation: roc_auc_score: 0.9999957924795115\n"
          ]
        },
        {
          "name": "stderr",
          "output_type": "stream",
          "text": [
            "100%|██████████| 53/53 [00:00<00:00, 249.09it/s]\n",
            "100%|██████████| 53/53 [00:00<00:00, 525.08it/s]\n"
          ]
        },
        {
          "name": "stdout",
          "output_type": "stream",
          "text": [
            "epoch: 97 validation: roc_auc_score: 0.999997475487707\n"
          ]
        },
        {
          "name": "stderr",
          "output_type": "stream",
          "text": [
            "100%|██████████| 53/53 [00:00<00:00, 181.42it/s]\n",
            "100%|██████████| 53/53 [00:00<00:00, 572.42it/s]\n"
          ]
        },
        {
          "name": "stdout",
          "output_type": "stream",
          "text": [
            "epoch: 98 validation: roc_auc_score: 0.9999977399604232\n"
          ]
        },
        {
          "name": "stderr",
          "output_type": "stream",
          "text": [
            "100%|██████████| 53/53 [00:00<00:00, 245.14it/s]\n",
            "100%|██████████| 53/53 [00:00<00:00, 541.93it/s]"
          ]
        },
        {
          "name": "stdout",
          "output_type": "stream",
          "text": [
            "epoch: 99 validation: roc_auc_score: 0.999998028476114\n"
          ]
        },
        {
          "name": "stderr",
          "output_type": "stream",
          "text": [
            "\n"
          ]
        }
      ],
      "source": [
        "criterion = torch.nn.BCELoss()\n",
        "model = NeuralCollaborativeFiltering(field_dims=field_dims, \n",
        "                                    user_field_idx=np.array((0, ), dtype=np.long), item_field_idx=np.array((1, ), dtype=np.long), \n",
        "                                    embed_dim=embed_dim, mlp_dims=(16, 16), dropout=0.2).to(device)\n",
        "optimizer = torch.optim.Adam(params=model.parameters(), lr=learning_rate, amsgrad=True, weight_decay=weight_decay)\n",
        "\n",
        "for epoch in range(epochs):\n",
        "    train(model, optimizer, r_train_dataloader, criterion, device)\n",
        "    auc_score = test(model, r_train_dataloader, device)\n",
        "    print('epoch:', epoch, 'validation: roc_auc_score:', auc_score)"
      ]
    },
    {
      "cell_type": "code",
      "execution_count": null,
      "metadata": {
        "colab": {
          "base_uri": "https://localhost:8080/"
        },
        "id": "97kOf58aptWM",
        "outputId": "855405cf-1e8e-47e5-e0e8-e8e06a97b400"
      },
      "outputs": [
        {
          "name": "stderr",
          "output_type": "stream",
          "text": [
            "100%|██████████| 14/14 [00:00<00:00, 485.36it/s]\n"
          ]
        },
        {
          "data": {
            "text/plain": [
              "0.7097445971603072"
            ]
          },
          "execution_count": 43,
          "metadata": {},
          "output_type": "execute_result"
        }
      ],
      "source": [
        "test(model, r_test_dataloader, device)"
      ]
    },
    {
      "cell_type": "markdown",
      "metadata": {
        "id": "h8NcyHcqxa_2"
      },
      "source": [
        "## AutoRec"
      ]
    },
    {
      "cell_type": "code",
      "execution_count": null,
      "metadata": {
        "id": "mU_6HmFmYwl7"
      },
      "outputs": [],
      "source": [
        "# AutoRec에 맞는 형태로 데이터 변형해주기 위한 클래스\n",
        "class RecDataset(Dataset):\n",
        "    def __init__(self, n_user, n_item, list_user, list_item, data):\n",
        "        self.n_user = n_user\n",
        "        self.n_item = n_item\n",
        "        self.list_user = list_user\n",
        "        self.list_item = list_item\n",
        "        \n",
        "        rating = torch.tensor(data.rating.values)\n",
        "        user_id = data.user_id\n",
        "        item_id = data.isbn\n",
        "        indices = torch.tensor(list(zip(user_id, item_id))).t()\n",
        "\n",
        "        self.X = (\n",
        "            torch.sparse_coo_tensor(indices, rating, (n_user, n_item))\n",
        "            .to_dense()\n",
        "            .to(dtype=torch.float)\n",
        "        )\n",
        "\n",
        "        ones = torch.ones_like(rating)\n",
        "        self.mask = (\n",
        "            torch.sparse_coo_tensor(indices, ones, (n_user, n_item))\n",
        "            .to_dense()\n",
        "            .to(dtype=torch.float)\n",
        "        )\n",
        "\n",
        "\n",
        "    def __getitem__(self, index):\n",
        "        return self.X[index], self.mask[index]\n",
        "\n",
        "    def __len__(self):\n",
        "        return self.n_user\n",
        "\n",
        "    def get_mat(self):\n",
        "        return self.X, self.mask"
      ]
    },
    {
      "cell_type": "code",
      "execution_count": null,
      "metadata": {
        "id": "gi6Ff05qYwfw"
      },
      "outputs": [],
      "source": [
        "class AutoEncoder(nn.Module):\n",
        "    def __init__(self, d, k, dropout=0.1):\n",
        "        super(AutoEncoder, self).__init__()\n",
        "        self.encoder = nn.Sequential(\n",
        "            nn.Linear(d, k),\n",
        "            nn.Dropout(dropout),\n",
        "            nn.ReLU()\n",
        "        )\n",
        "        self.decoder = nn.Sequential(\n",
        "            nn.Linear(k, d),\n",
        "            nn.Dropout(dropout),\n",
        "            nn.Sigmoid()\n",
        "        )\n",
        "\n",
        "    def forward(self, x):\n",
        "        return self.decoder(self.encoder(x))"
      ]
    },
    {
      "cell_type": "code",
      "execution_count": null,
      "metadata": {
        "id": "91N4_cweYwbg"
      },
      "outputs": [],
      "source": [
        "class AutoRec(nn.Module):\n",
        "    def __init__(self, d, k, learning_rate, batch_size):\n",
        "        super(AutoRec, self).__init__()\n",
        "        self.batch_size = batch_size\n",
        "        self.device = 'cuda' if torch.cuda.is_available() else 'cpu'\n",
        "        self.model = AutoEncoder(d, k).to(self.device)\n",
        "        self.optimizer = torch.optim.SGD(self.model.parameters(), learning_rate, momentum=0.9, weight_decay=1e-4)\n",
        "        self.feature_size = d # n_user/n_item\n",
        "\n",
        "    def run(self, trainset, testlist, num_epoch):\n",
        "        for epoch in range(1, num_epoch + 1):\n",
        "            train_loader = DataLoader(trainset, self.batch_size, shuffle=True, pin_memory=True)\n",
        "            self.train(train_loader, epoch)\n",
        "            self.test(trainset, testlist)\n",
        "            \n",
        "    def train(self, train_loader, epoch):\n",
        "        self.model.train()\n",
        "        features = Variable(torch.FloatTensor(self.batch_size, self.feature_size))\n",
        "        masks = Variable(torch.FloatTensor(self.batch_size, self.feature_size))\n",
        "\n",
        "        for bid, (feature, mask) in enumerate(train_loader):\n",
        "            if mask.shape[0] == self.batch_size:\n",
        "                features.data.copy_(feature)\n",
        "                masks.data.copy_(mask)\n",
        "            else:\n",
        "                features = Variable(feature)\n",
        "                masks = Variable(mask)\n",
        "            features, masks = features.to(self.device), masks.to(self.device)\n",
        "            self.optimizer.zero_grad()\n",
        "            output = self.model(features)\n",
        "            loss = F.mse_loss(output * masks, features * masks)\n",
        "            loss.backward()\n",
        "            self.optimizer.step()\n",
        "\n",
        "        print (\"Epoch %d, train end.\" % epoch)\n",
        "\n",
        "    def test(self, trainset, testlist):\n",
        "        self.model.eval()\n",
        "        with torch.no_grad():\n",
        "            x_mat, mask = trainset.get_mat()\n",
        "            features = Variable(x_mat).to(self.device)\n",
        "            xc = self.model(features)\n",
        "            xc = xc.cpu().data.numpy()\n",
        "\n",
        "            rmse = 0.0\n",
        "            for idx, (i, j, r) in testlist.iterrows():\n",
        "                i, j = int(i), int(j)\n",
        "                rmse += (xc[i][j]-r)*(xc[i][j]-r)\n",
        "            rmse = math.sqrt(rmse / len(testlist))\n",
        "\n",
        "        print (\" Test RMSE = %f\" % rmse)"
      ]
    },
    {
      "cell_type": "code",
      "execution_count": null,
      "metadata": {
        "id": "rYpQGF6Vbrqh"
      },
      "outputs": [],
      "source": [
        "train_set = RecDataset(len(user2idx), len(book2idx), ratings['user_id'].unique(), ratings['isbn'].unique(), ae_train)"
      ]
    },
    {
      "cell_type": "code",
      "execution_count": null,
      "metadata": {
        "colab": {
          "base_uri": "https://localhost:8080/"
        },
        "id": "cK-SQhxYddff",
        "outputId": "630bc1f5-7634-4fff-b0ea-0abf59c303c1"
      },
      "outputs": [
        {
          "name": "stdout",
          "output_type": "stream",
          "text": [
            "Epoch 1, train end.\n",
            " Test RMSE = 0.504176\n",
            "Epoch 2, train end.\n",
            " Test RMSE = 0.504176\n",
            "Epoch 3, train end.\n",
            " Test RMSE = 0.504176\n",
            "Epoch 4, train end.\n",
            " Test RMSE = 0.504176\n",
            "Epoch 5, train end.\n",
            " Test RMSE = 0.504176\n",
            "Epoch 6, train end.\n",
            " Test RMSE = 0.504176\n",
            "Epoch 7, train end.\n",
            " Test RMSE = 0.504176\n",
            "Epoch 8, train end.\n",
            " Test RMSE = 0.504176\n",
            "Epoch 9, train end.\n",
            " Test RMSE = 0.504176\n",
            "Epoch 10, train end.\n",
            " Test RMSE = 0.504176\n",
            "Epoch 11, train end.\n",
            " Test RMSE = 0.504176\n",
            "Epoch 12, train end.\n",
            " Test RMSE = 0.504176\n",
            "Epoch 13, train end.\n",
            " Test RMSE = 0.504176\n",
            "Epoch 14, train end.\n",
            " Test RMSE = 0.504176\n",
            "Epoch 15, train end.\n",
            " Test RMSE = 0.504176\n",
            "Epoch 16, train end.\n",
            " Test RMSE = 0.504176\n",
            "Epoch 17, train end.\n",
            " Test RMSE = 0.504176\n",
            "Epoch 18, train end.\n",
            " Test RMSE = 0.504176\n",
            "Epoch 19, train end.\n",
            " Test RMSE = 0.504176\n",
            "Epoch 20, train end.\n",
            " Test RMSE = 0.504176\n",
            "Epoch 21, train end.\n",
            " Test RMSE = 0.504176\n",
            "Epoch 22, train end.\n",
            " Test RMSE = 0.504176\n",
            "Epoch 23, train end.\n",
            " Test RMSE = 0.504176\n",
            "Epoch 24, train end.\n",
            " Test RMSE = 0.504176\n",
            "Epoch 25, train end.\n",
            " Test RMSE = 0.504176\n",
            "Epoch 26, train end.\n",
            " Test RMSE = 0.504176\n",
            "Epoch 27, train end.\n",
            " Test RMSE = 0.504176\n",
            "Epoch 28, train end.\n",
            " Test RMSE = 0.504176\n",
            "Epoch 29, train end.\n",
            " Test RMSE = 0.504176\n",
            "Epoch 30, train end.\n",
            " Test RMSE = 0.504176\n",
            "Epoch 31, train end.\n",
            " Test RMSE = 0.504176\n",
            "Epoch 32, train end.\n",
            " Test RMSE = 0.504176\n",
            "Epoch 33, train end.\n",
            " Test RMSE = 0.504176\n",
            "Epoch 34, train end.\n",
            " Test RMSE = 0.504176\n",
            "Epoch 35, train end.\n",
            " Test RMSE = 0.504176\n",
            "Epoch 36, train end.\n",
            " Test RMSE = 0.504176\n",
            "Epoch 37, train end.\n",
            " Test RMSE = 0.504176\n",
            "Epoch 38, train end.\n",
            " Test RMSE = 0.504176\n",
            "Epoch 39, train end.\n",
            " Test RMSE = 0.504176\n",
            "Epoch 40, train end.\n",
            " Test RMSE = 0.504176\n",
            "Epoch 41, train end.\n",
            " Test RMSE = 0.504176\n",
            "Epoch 42, train end.\n",
            " Test RMSE = 0.504176\n",
            "Epoch 43, train end.\n",
            " Test RMSE = 0.504176\n",
            "Epoch 44, train end.\n",
            " Test RMSE = 0.504176\n",
            "Epoch 45, train end.\n",
            " Test RMSE = 0.504176\n",
            "Epoch 46, train end.\n",
            " Test RMSE = 0.504176\n",
            "Epoch 47, train end.\n",
            " Test RMSE = 0.504176\n",
            "Epoch 48, train end.\n",
            " Test RMSE = 0.504176\n",
            "Epoch 49, train end.\n",
            " Test RMSE = 0.504176\n",
            "Epoch 50, train end.\n",
            " Test RMSE = 0.504176\n",
            "Epoch 51, train end.\n",
            " Test RMSE = 0.504176\n",
            "Epoch 52, train end.\n",
            " Test RMSE = 0.504176\n",
            "Epoch 53, train end.\n",
            " Test RMSE = 0.504176\n",
            "Epoch 54, train end.\n",
            " Test RMSE = 0.504176\n",
            "Epoch 55, train end.\n",
            " Test RMSE = 0.504176\n",
            "Epoch 56, train end.\n",
            " Test RMSE = 0.504176\n",
            "Epoch 57, train end.\n",
            " Test RMSE = 0.504176\n",
            "Epoch 58, train end.\n",
            " Test RMSE = 0.504176\n",
            "Epoch 59, train end.\n",
            " Test RMSE = 0.504176\n",
            "Epoch 60, train end.\n",
            " Test RMSE = 0.504176\n",
            "Epoch 61, train end.\n",
            " Test RMSE = 0.504176\n",
            "Epoch 62, train end.\n",
            " Test RMSE = 0.504176\n",
            "Epoch 63, train end.\n",
            " Test RMSE = 0.504176\n",
            "Epoch 64, train end.\n",
            " Test RMSE = 0.504176\n",
            "Epoch 65, train end.\n",
            " Test RMSE = 0.504176\n",
            "Epoch 66, train end.\n",
            " Test RMSE = 0.504176\n",
            "Epoch 67, train end.\n",
            " Test RMSE = 0.504176\n",
            "Epoch 68, train end.\n",
            " Test RMSE = 0.504176\n",
            "Epoch 69, train end.\n",
            " Test RMSE = 0.504176\n",
            "Epoch 70, train end.\n",
            " Test RMSE = 0.504176\n",
            "Epoch 71, train end.\n",
            " Test RMSE = 0.504176\n",
            "Epoch 72, train end.\n",
            " Test RMSE = 0.504176\n",
            "Epoch 73, train end.\n",
            " Test RMSE = 0.504176\n",
            "Epoch 74, train end.\n",
            " Test RMSE = 0.504176\n",
            "Epoch 75, train end.\n",
            " Test RMSE = 0.504176\n",
            "Epoch 76, train end.\n",
            " Test RMSE = 0.504176\n",
            "Epoch 77, train end.\n",
            " Test RMSE = 0.504176\n",
            "Epoch 78, train end.\n",
            " Test RMSE = 0.504176\n",
            "Epoch 79, train end.\n",
            " Test RMSE = 0.504176\n",
            "Epoch 80, train end.\n",
            " Test RMSE = 0.504176\n",
            "Epoch 81, train end.\n",
            " Test RMSE = 0.504176\n",
            "Epoch 82, train end.\n",
            " Test RMSE = 0.504176\n",
            "Epoch 83, train end.\n",
            " Test RMSE = 0.504176\n",
            "Epoch 84, train end.\n",
            " Test RMSE = 0.504176\n",
            "Epoch 85, train end.\n",
            " Test RMSE = 0.504176\n",
            "Epoch 86, train end.\n",
            " Test RMSE = 0.504176\n",
            "Epoch 87, train end.\n",
            " Test RMSE = 0.504176\n",
            "Epoch 88, train end.\n",
            " Test RMSE = 0.504176\n",
            "Epoch 89, train end.\n",
            " Test RMSE = 0.504176\n",
            "Epoch 90, train end.\n",
            " Test RMSE = 0.504176\n",
            "Epoch 91, train end.\n",
            " Test RMSE = 0.504176\n",
            "Epoch 92, train end.\n",
            " Test RMSE = 0.504176\n",
            "Epoch 93, train end.\n",
            " Test RMSE = 0.504176\n",
            "Epoch 94, train end.\n",
            " Test RMSE = 0.504176\n",
            "Epoch 95, train end.\n",
            " Test RMSE = 0.504176\n",
            "Epoch 96, train end.\n",
            " Test RMSE = 0.504176\n",
            "Epoch 97, train end.\n",
            " Test RMSE = 0.504176\n",
            "Epoch 98, train end.\n",
            " Test RMSE = 0.504176\n",
            "Epoch 99, train end.\n",
            " Test RMSE = 0.504176\n",
            "Epoch 100, train end.\n",
            " Test RMSE = 0.504176\n"
          ]
        }
      ],
      "source": [
        "d = len(book2idx)\n",
        "mod = AutoRec(d=d, k=embed_dim,\n",
        "          learning_rate = learning_rate,\n",
        "          batch_size=batch_size)\n",
        "\n",
        "mod.run(train_set, ae_test, num_epoch=epochs)"
      ]
    },
    {
      "cell_type": "markdown",
      "metadata": {
        "id": "ohWWewgUxdrl"
      },
      "source": [
        "## WDN"
      ]
    },
    {
      "cell_type": "code",
      "execution_count": null,
      "metadata": {
        "id": "GXs2U1UKxhwg"
      },
      "outputs": [],
      "source": [
        "class WideAndDeepModel(nn.Module):\n",
        "\n",
        "    def __init__(self, field_dims: np.ndarray, embed_dim: int, mlp_dims: tuple, dropout: float):\n",
        "        super().__init__()\n",
        "        self.linear = FeaturesLinear(field_dims)\n",
        "        self.embedding = FeaturesEmbedding(field_dims, embed_dim)\n",
        "        self.embed_output_dim = len(field_dims) * embed_dim\n",
        "        self.mlp = MultiLayerPerceptron(self.embed_output_dim, mlp_dims, dropout)\n",
        "\n",
        "    def forward(self, x: torch.Tensor):\n",
        "        \"\"\"\n",
        "        :param x: Long tensor of size ``(batch_size, num_fields)``\n",
        "        \"\"\"\n",
        "        embed_x = self.embedding(x)\n",
        "        x = self.linear(x) + self.mlp(embed_x.view(-1, self.embed_output_dim))\n",
        "        return torch.sigmoid(x.squeeze(1))"
      ]
    },
    {
      "cell_type": "code",
      "execution_count": null,
      "metadata": {
        "id": "Iyeu_60aq0ly"
      },
      "outputs": [],
      "source": [
        "field_dims = np.array([len(user2idx), len(book2idx)], dtype=np.uint32)"
      ]
    },
    {
      "cell_type": "code",
      "execution_count": null,
      "metadata": {
        "colab": {
          "base_uri": "https://localhost:8080/"
        },
        "id": "XrtZUfwlz7Yv",
        "outputId": "f152309b-c2ed-4d0e-a9ab-f3a30b7f7de8"
      },
      "outputs": [
        {
          "name": "stderr",
          "output_type": "stream",
          "text": [
            "100%|██████████| 53/53 [00:00<00:00, 227.84it/s]\n",
            "100%|██████████| 53/53 [00:00<00:00, 523.17it/s]\n"
          ]
        },
        {
          "name": "stdout",
          "output_type": "stream",
          "text": [
            "epoch: 0 validation: roc_auc_score: 0.5627054832791694\n"
          ]
        },
        {
          "name": "stderr",
          "output_type": "stream",
          "text": [
            "100%|██████████| 53/53 [00:00<00:00, 225.66it/s]\n",
            "100%|██████████| 53/53 [00:00<00:00, 467.24it/s]\n"
          ]
        },
        {
          "name": "stdout",
          "output_type": "stream",
          "text": [
            "epoch: 1 validation: roc_auc_score: 0.8867796508536988\n"
          ]
        },
        {
          "name": "stderr",
          "output_type": "stream",
          "text": [
            "100%|██████████| 53/53 [00:00<00:00, 218.96it/s]\n",
            "100%|██████████| 53/53 [00:00<00:00, 509.78it/s]\n"
          ]
        },
        {
          "name": "stdout",
          "output_type": "stream",
          "text": [
            "epoch: 2 validation: roc_auc_score: 0.9799546871682069\n"
          ]
        },
        {
          "name": "stderr",
          "output_type": "stream",
          "text": [
            "100%|██████████| 53/53 [00:00<00:00, 210.09it/s]\n",
            "100%|██████████| 53/53 [00:00<00:00, 310.95it/s]\n"
          ]
        },
        {
          "name": "stdout",
          "output_type": "stream",
          "text": [
            "epoch: 3 validation: roc_auc_score: 0.9918841257512949\n"
          ]
        },
        {
          "name": "stderr",
          "output_type": "stream",
          "text": [
            "100%|██████████| 53/53 [00:00<00:00, 216.15it/s]\n",
            "100%|██████████| 53/53 [00:00<00:00, 505.47it/s]\n"
          ]
        },
        {
          "name": "stdout",
          "output_type": "stream",
          "text": [
            "epoch: 4 validation: roc_auc_score: 0.9956686101083588\n"
          ]
        },
        {
          "name": "stderr",
          "output_type": "stream",
          "text": [
            "100%|██████████| 53/53 [00:00<00:00, 246.08it/s]\n",
            "100%|██████████| 53/53 [00:00<00:00, 499.89it/s]\n"
          ]
        },
        {
          "name": "stdout",
          "output_type": "stream",
          "text": [
            "epoch: 5 validation: roc_auc_score: 0.997316587690305\n"
          ]
        },
        {
          "name": "stderr",
          "output_type": "stream",
          "text": [
            "100%|██████████| 53/53 [00:00<00:00, 231.67it/s]\n",
            "100%|██████████| 53/53 [00:00<00:00, 565.83it/s]\n"
          ]
        },
        {
          "name": "stdout",
          "output_type": "stream",
          "text": [
            "epoch: 6 validation: roc_auc_score: 0.998158404346662\n"
          ]
        },
        {
          "name": "stderr",
          "output_type": "stream",
          "text": [
            "100%|██████████| 53/53 [00:00<00:00, 246.82it/s]\n",
            "100%|██████████| 53/53 [00:00<00:00, 556.65it/s]\n"
          ]
        },
        {
          "name": "stdout",
          "output_type": "stream",
          "text": [
            "epoch: 7 validation: roc_auc_score: 0.9985812481342652\n"
          ]
        },
        {
          "name": "stderr",
          "output_type": "stream",
          "text": [
            "100%|██████████| 53/53 [00:00<00:00, 224.27it/s]\n",
            "100%|██████████| 53/53 [00:00<00:00, 473.08it/s]\n"
          ]
        },
        {
          "name": "stdout",
          "output_type": "stream",
          "text": [
            "epoch: 8 validation: roc_auc_score: 0.9990423923798004\n"
          ]
        },
        {
          "name": "stderr",
          "output_type": "stream",
          "text": [
            "100%|██████████| 53/53 [00:00<00:00, 231.46it/s]\n",
            "100%|██████████| 53/53 [00:00<00:00, 534.08it/s]\n"
          ]
        },
        {
          "name": "stdout",
          "output_type": "stream",
          "text": [
            "epoch: 9 validation: roc_auc_score: 0.9991933341719522\n"
          ]
        },
        {
          "name": "stderr",
          "output_type": "stream",
          "text": [
            "100%|██████████| 53/53 [00:00<00:00, 232.17it/s]\n",
            "100%|██████████| 53/53 [00:00<00:00, 478.19it/s]\n"
          ]
        },
        {
          "name": "stdout",
          "output_type": "stream",
          "text": [
            "epoch: 10 validation: roc_auc_score: 0.999398973730454\n"
          ]
        },
        {
          "name": "stderr",
          "output_type": "stream",
          "text": [
            "100%|██████████| 53/53 [00:00<00:00, 211.19it/s]\n",
            "100%|██████████| 53/53 [00:00<00:00, 295.38it/s]\n"
          ]
        },
        {
          "name": "stdout",
          "output_type": "stream",
          "text": [
            "epoch: 11 validation: roc_auc_score: 0.9996233668088471\n"
          ]
        },
        {
          "name": "stderr",
          "output_type": "stream",
          "text": [
            "100%|██████████| 53/53 [00:00<00:00, 215.31it/s]\n",
            "100%|██████████| 53/53 [00:00<00:00, 506.02it/s]\n"
          ]
        },
        {
          "name": "stdout",
          "output_type": "stream",
          "text": [
            "epoch: 12 validation: roc_auc_score: 0.9997358157992731\n"
          ]
        },
        {
          "name": "stderr",
          "output_type": "stream",
          "text": [
            "100%|██████████| 53/53 [00:00<00:00, 223.98it/s]\n",
            "100%|██████████| 53/53 [00:00<00:00, 505.47it/s]\n"
          ]
        },
        {
          "name": "stdout",
          "output_type": "stream",
          "text": [
            "epoch: 13 validation: roc_auc_score: 0.9997284105632134\n"
          ]
        },
        {
          "name": "stderr",
          "output_type": "stream",
          "text": [
            "100%|██████████| 53/53 [00:00<00:00, 200.60it/s]\n",
            "100%|██████████| 53/53 [00:00<00:00, 531.68it/s]\n"
          ]
        },
        {
          "name": "stdout",
          "output_type": "stream",
          "text": [
            "epoch: 14 validation: roc_auc_score: 0.9997822187395172\n"
          ]
        },
        {
          "name": "stderr",
          "output_type": "stream",
          "text": [
            "100%|██████████| 53/53 [00:00<00:00, 224.29it/s]\n",
            "100%|██████████| 53/53 [00:00<00:00, 559.54it/s]\n"
          ]
        },
        {
          "name": "stdout",
          "output_type": "stream",
          "text": [
            "epoch: 15 validation: roc_auc_score: 0.9998168887083422\n"
          ]
        },
        {
          "name": "stderr",
          "output_type": "stream",
          "text": [
            "100%|██████████| 53/53 [00:00<00:00, 223.30it/s]\n",
            "100%|██████████| 53/53 [00:00<00:00, 528.32it/s]\n"
          ]
        },
        {
          "name": "stdout",
          "output_type": "stream",
          "text": [
            "epoch: 16 validation: roc_auc_score: 0.9999188790049824\n"
          ]
        },
        {
          "name": "stderr",
          "output_type": "stream",
          "text": [
            "100%|██████████| 53/53 [00:00<00:00, 225.28it/s]\n",
            "100%|██████████| 53/53 [00:00<00:00, 484.89it/s]\n"
          ]
        },
        {
          "name": "stdout",
          "output_type": "stream",
          "text": [
            "epoch: 17 validation: roc_auc_score: 0.999909742674779\n"
          ]
        },
        {
          "name": "stderr",
          "output_type": "stream",
          "text": [
            "100%|██████████| 53/53 [00:00<00:00, 218.34it/s]\n",
            "100%|██████████| 53/53 [00:00<00:00, 523.11it/s]\n"
          ]
        },
        {
          "name": "stdout",
          "output_type": "stream",
          "text": [
            "epoch: 18 validation: roc_auc_score: 0.9999235433419811\n"
          ]
        },
        {
          "name": "stderr",
          "output_type": "stream",
          "text": [
            "100%|██████████| 53/53 [00:00<00:00, 167.63it/s]\n",
            "100%|██████████| 53/53 [00:00<00:00, 522.32it/s]\n"
          ]
        },
        {
          "name": "stdout",
          "output_type": "stream",
          "text": [
            "epoch: 19 validation: roc_auc_score: 0.9999265487137586\n"
          ]
        },
        {
          "name": "stderr",
          "output_type": "stream",
          "text": [
            "100%|██████████| 53/53 [00:00<00:00, 221.36it/s]\n",
            "100%|██████████| 53/53 [00:00<00:00, 510.98it/s]\n"
          ]
        },
        {
          "name": "stdout",
          "output_type": "stream",
          "text": [
            "epoch: 20 validation: roc_auc_score: 0.999932727758133\n"
          ]
        },
        {
          "name": "stderr",
          "output_type": "stream",
          "text": [
            "100%|██████████| 53/53 [00:00<00:00, 230.05it/s]\n",
            "100%|██████████| 53/53 [00:00<00:00, 493.33it/s]\n"
          ]
        },
        {
          "name": "stdout",
          "output_type": "stream",
          "text": [
            "epoch: 21 validation: roc_auc_score: 0.9999431864519186\n"
          ]
        },
        {
          "name": "stderr",
          "output_type": "stream",
          "text": [
            "100%|██████████| 53/53 [00:00<00:00, 213.33it/s]\n",
            "100%|██████████| 53/53 [00:00<00:00, 535.14it/s]\n"
          ]
        },
        {
          "name": "stdout",
          "output_type": "stream",
          "text": [
            "epoch: 22 validation: roc_auc_score: 0.9999626372180624\n"
          ]
        },
        {
          "name": "stderr",
          "output_type": "stream",
          "text": [
            "100%|██████████| 53/53 [00:00<00:00, 219.76it/s]\n",
            "100%|██████████| 53/53 [00:00<00:00, 528.42it/s]\n"
          ]
        },
        {
          "name": "stdout",
          "output_type": "stream",
          "text": [
            "epoch: 23 validation: roc_auc_score: 0.9999588384281357\n"
          ]
        },
        {
          "name": "stderr",
          "output_type": "stream",
          "text": [
            "100%|██████████| 53/53 [00:00<00:00, 225.64it/s]\n",
            "100%|██████████| 53/53 [00:00<00:00, 493.42it/s]\n"
          ]
        },
        {
          "name": "stdout",
          "output_type": "stream",
          "text": [
            "epoch: 24 validation: roc_auc_score: 0.9999591269438264\n"
          ]
        },
        {
          "name": "stderr",
          "output_type": "stream",
          "text": [
            "100%|██████████| 53/53 [00:00<00:00, 224.98it/s]\n",
            "100%|██████████| 53/53 [00:00<00:00, 502.40it/s]\n"
          ]
        },
        {
          "name": "stdout",
          "output_type": "stream",
          "text": [
            "epoch: 25 validation: roc_auc_score: 0.9999685037037721\n"
          ]
        },
        {
          "name": "stderr",
          "output_type": "stream",
          "text": [
            "100%|██████████| 53/53 [00:00<00:00, 240.15it/s]\n",
            "100%|██████████| 53/53 [00:00<00:00, 514.96it/s]\n"
          ]
        },
        {
          "name": "stdout",
          "output_type": "stream",
          "text": [
            "epoch: 26 validation: roc_auc_score: 0.9999817513825672\n"
          ]
        },
        {
          "name": "stderr",
          "output_type": "stream",
          "text": [
            "100%|██████████| 53/53 [00:00<00:00, 177.79it/s]\n",
            "100%|██████████| 53/53 [00:00<00:00, 508.93it/s]\n"
          ]
        },
        {
          "name": "stdout",
          "output_type": "stream",
          "text": [
            "epoch: 27 validation: roc_auc_score: 0.9999823764998969\n"
          ]
        },
        {
          "name": "stderr",
          "output_type": "stream",
          "text": [
            "100%|██████████| 53/53 [00:00<00:00, 226.12it/s]\n",
            "100%|██████████| 53/53 [00:00<00:00, 516.70it/s]\n"
          ]
        },
        {
          "name": "stdout",
          "output_type": "stream",
          "text": [
            "epoch: 28 validation: roc_auc_score: 0.9999713648177042\n"
          ]
        },
        {
          "name": "stderr",
          "output_type": "stream",
          "text": [
            "100%|██████████| 53/53 [00:00<00:00, 205.83it/s]\n",
            "100%|██████████| 53/53 [00:00<00:00, 507.49it/s]\n"
          ]
        },
        {
          "name": "stdout",
          "output_type": "stream",
          "text": [
            "epoch: 29 validation: roc_auc_score: 0.9999788902686351\n"
          ]
        },
        {
          "name": "stderr",
          "output_type": "stream",
          "text": [
            "100%|██████████| 53/53 [00:00<00:00, 228.61it/s]\n",
            "100%|██████████| 53/53 [00:00<00:00, 545.07it/s]\n"
          ]
        },
        {
          "name": "stdout",
          "output_type": "stream",
          "text": [
            "epoch: 30 validation: roc_auc_score: 0.9999872812666377\n"
          ]
        },
        {
          "name": "stderr",
          "output_type": "stream",
          "text": [
            "100%|██████████| 53/53 [00:00<00:00, 211.39it/s]\n",
            "100%|██████████| 53/53 [00:00<00:00, 563.89it/s]\n"
          ]
        },
        {
          "name": "stdout",
          "output_type": "stream",
          "text": [
            "epoch: 31 validation: roc_auc_score: 0.9999730959118481\n"
          ]
        },
        {
          "name": "stderr",
          "output_type": "stream",
          "text": [
            "100%|██████████| 53/53 [00:00<00:00, 233.62it/s]\n",
            "100%|██████████| 53/53 [00:00<00:00, 531.78it/s]\n"
          ]
        },
        {
          "name": "stdout",
          "output_type": "stream",
          "text": [
            "epoch: 32 validation: roc_auc_score: 0.9999890364037558\n"
          ]
        },
        {
          "name": "stderr",
          "output_type": "stream",
          "text": [
            "100%|██████████| 53/53 [00:00<00:00, 206.48it/s]\n",
            "100%|██████████| 53/53 [00:00<00:00, 336.60it/s]\n"
          ]
        },
        {
          "name": "stdout",
          "output_type": "stream",
          "text": [
            "epoch: 33 validation: roc_auc_score: 0.9999789864405318\n"
          ]
        },
        {
          "name": "stderr",
          "output_type": "stream",
          "text": [
            "100%|██████████| 53/53 [00:00<00:00, 109.28it/s]\n",
            "100%|██████████| 53/53 [00:00<00:00, 310.56it/s]\n"
          ]
        },
        {
          "name": "stdout",
          "output_type": "stream",
          "text": [
            "epoch: 34 validation: roc_auc_score: 0.9999884593723745\n"
          ]
        },
        {
          "name": "stderr",
          "output_type": "stream",
          "text": [
            "100%|██████████| 53/53 [00:00<00:00, 145.78it/s]\n",
            "100%|██████████| 53/53 [00:00<00:00, 496.48it/s]\n"
          ]
        },
        {
          "name": "stdout",
          "output_type": "stream",
          "text": [
            "epoch: 35 validation: roc_auc_score: 0.9999943979870068\n"
          ]
        },
        {
          "name": "stderr",
          "output_type": "stream",
          "text": [
            "100%|██████████| 53/53 [00:00<00:00, 192.23it/s]\n",
            "100%|██████████| 53/53 [00:00<00:00, 511.57it/s]\n"
          ]
        },
        {
          "name": "stdout",
          "output_type": "stream",
          "text": [
            "epoch: 36 validation: roc_auc_score: 0.9999795153859647\n"
          ]
        },
        {
          "name": "stderr",
          "output_type": "stream",
          "text": [
            "100%|██████████| 53/53 [00:00<00:00, 135.25it/s]\n",
            "100%|██████████| 53/53 [00:00<00:00, 518.58it/s]\n"
          ]
        },
        {
          "name": "stdout",
          "output_type": "stream",
          "text": [
            "epoch: 37 validation: roc_auc_score: 0.999994638416749\n"
          ]
        },
        {
          "name": "stderr",
          "output_type": "stream",
          "text": [
            "100%|██████████| 53/53 [00:00<00:00, 232.37it/s]\n",
            "100%|██████████| 53/53 [00:00<00:00, 558.68it/s]\n"
          ]
        },
        {
          "name": "stdout",
          "output_type": "stream",
          "text": [
            "epoch: 38 validation: roc_auc_score: 0.9999905270681574\n"
          ]
        },
        {
          "name": "stderr",
          "output_type": "stream",
          "text": [
            "100%|██████████| 53/53 [00:00<00:00, 208.30it/s]\n",
            "100%|██████████| 53/53 [00:00<00:00, 534.52it/s]\n"
          ]
        },
        {
          "name": "stdout",
          "output_type": "stream",
          "text": [
            "epoch: 39 validation: roc_auc_score: 0.9999943979870068\n"
          ]
        },
        {
          "name": "stderr",
          "output_type": "stream",
          "text": [
            "100%|██████████| 53/53 [00:00<00:00, 213.71it/s]\n",
            "100%|██████████| 53/53 [00:00<00:00, 496.22it/s]\n"
          ]
        },
        {
          "name": "stdout",
          "output_type": "stream",
          "text": [
            "epoch: 40 validation: roc_auc_score: 0.9999892527905238\n"
          ]
        },
        {
          "name": "stderr",
          "output_type": "stream",
          "text": [
            "100%|██████████| 53/53 [00:00<00:00, 211.22it/s]\n",
            "100%|██████████| 53/53 [00:00<00:00, 487.84it/s]\n"
          ]
        },
        {
          "name": "stdout",
          "output_type": "stream",
          "text": [
            "epoch: 41 validation: roc_auc_score: 0.9999918975176879\n"
          ]
        },
        {
          "name": "stderr",
          "output_type": "stream",
          "text": [
            "100%|██████████| 53/53 [00:00<00:00, 224.42it/s]\n",
            "100%|██████████| 53/53 [00:00<00:00, 311.32it/s]\n"
          ]
        },
        {
          "name": "stdout",
          "output_type": "stream",
          "text": [
            "epoch: 42 validation: roc_auc_score: 0.9999805492338563\n"
          ]
        },
        {
          "name": "stderr",
          "output_type": "stream",
          "text": [
            "100%|██████████| 53/53 [00:00<00:00, 247.89it/s]\n",
            "100%|██████████| 53/53 [00:00<00:00, 546.32it/s]\n"
          ]
        },
        {
          "name": "stdout",
          "output_type": "stream",
          "text": [
            "epoch: 43 validation: roc_auc_score: 0.9999883632004776\n"
          ]
        },
        {
          "name": "stderr",
          "output_type": "stream",
          "text": [
            "100%|██████████| 53/53 [00:00<00:00, 221.44it/s]\n",
            "100%|██████████| 53/53 [00:00<00:00, 514.60it/s]\n"
          ]
        },
        {
          "name": "stdout",
          "output_type": "stream",
          "text": [
            "epoch: 44 validation: roc_auc_score: 0.9999991104099538\n"
          ]
        },
        {
          "name": "stderr",
          "output_type": "stream",
          "text": [
            "100%|██████████| 53/53 [00:00<00:00, 219.24it/s]\n",
            "100%|██████████| 53/53 [00:00<00:00, 530.76it/s]\n"
          ]
        },
        {
          "name": "stdout",
          "output_type": "stream",
          "text": [
            "epoch: 45 validation: roc_auc_score: 0.9999631902064695\n"
          ]
        },
        {
          "name": "stderr",
          "output_type": "stream",
          "text": [
            "100%|██████████| 53/53 [00:00<00:00, 231.59it/s]\n",
            "100%|██████████| 53/53 [00:00<00:00, 512.17it/s]\n"
          ]
        },
        {
          "name": "stdout",
          "output_type": "stream",
          "text": [
            "epoch: 46 validation: roc_auc_score: 0.9999970908001193\n"
          ]
        },
        {
          "name": "stderr",
          "output_type": "stream",
          "text": [
            "100%|██████████| 53/53 [00:00<00:00, 225.61it/s]\n",
            "100%|██████████| 53/53 [00:00<00:00, 529.70it/s]\n"
          ]
        },
        {
          "name": "stdout",
          "output_type": "stream",
          "text": [
            "epoch: 47 validation: roc_auc_score: 0.999997259100939\n"
          ]
        },
        {
          "name": "stderr",
          "output_type": "stream",
          "text": [
            "100%|██████████| 53/53 [00:00<00:00, 240.23it/s]\n",
            "100%|██████████| 53/53 [00:00<00:00, 559.42it/s]\n"
          ]
        },
        {
          "name": "stdout",
          "output_type": "stream",
          "text": [
            "epoch: 48 validation: roc_auc_score: 0.9999982929488304\n"
          ]
        },
        {
          "name": "stderr",
          "output_type": "stream",
          "text": [
            "100%|██████████| 53/53 [00:00<00:00, 216.44it/s]\n",
            "100%|██████████| 53/53 [00:00<00:00, 445.00it/s]\n"
          ]
        },
        {
          "name": "stdout",
          "output_type": "stream",
          "text": [
            "epoch: 49 validation: roc_auc_score: 0.9999980525190881\n"
          ]
        },
        {
          "name": "stderr",
          "output_type": "stream",
          "text": [
            "100%|██████████| 53/53 [00:00<00:00, 167.79it/s]\n",
            "100%|██████████| 53/53 [00:00<00:00, 545.72it/s]\n"
          ]
        },
        {
          "name": "stdout",
          "output_type": "stream",
          "text": [
            "epoch: 50 validation: roc_auc_score: 0.9999953597059756\n"
          ]
        },
        {
          "name": "stderr",
          "output_type": "stream",
          "text": [
            "100%|██████████| 53/53 [00:00<00:00, 218.67it/s]\n",
            "100%|██████████| 53/53 [00:00<00:00, 556.54it/s]\n"
          ]
        },
        {
          "name": "stdout",
          "output_type": "stream",
          "text": [
            "epoch: 51 validation: roc_auc_score: 0.9999982689058562\n"
          ]
        },
        {
          "name": "stderr",
          "output_type": "stream",
          "text": [
            "100%|██████████| 53/53 [00:00<00:00, 215.90it/s]\n",
            "100%|██████████| 53/53 [00:00<00:00, 529.64it/s]\n"
          ]
        },
        {
          "name": "stdout",
          "output_type": "stream",
          "text": [
            "epoch: 52 validation: roc_auc_score: 0.9999979563471914\n"
          ]
        },
        {
          "name": "stderr",
          "output_type": "stream",
          "text": [
            "100%|██████████| 53/53 [00:00<00:00, 245.95it/s]\n",
            "100%|██████████| 53/53 [00:00<00:00, 517.75it/s]\n"
          ]
        },
        {
          "name": "stdout",
          "output_type": "stream",
          "text": [
            "epoch: 53 validation: roc_auc_score: 0.9999911762284613\n"
          ]
        },
        {
          "name": "stderr",
          "output_type": "stream",
          "text": [
            "100%|██████████| 53/53 [00:00<00:00, 215.16it/s]\n",
            "100%|██████████| 53/53 [00:00<00:00, 514.77it/s]\n"
          ]
        },
        {
          "name": "stdout",
          "output_type": "stream",
          "text": [
            "epoch: 54 validation: roc_auc_score: 0.9999971388860679\n"
          ]
        },
        {
          "name": "stderr",
          "output_type": "stream",
          "text": [
            "100%|██████████| 53/53 [00:00<00:00, 232.34it/s]\n",
            "100%|██████████| 53/53 [00:00<00:00, 546.86it/s]\n"
          ]
        },
        {
          "name": "stdout",
          "output_type": "stream",
          "text": [
            "epoch: 55 validation: roc_auc_score: 0.9999994229686189\n"
          ]
        },
        {
          "name": "stderr",
          "output_type": "stream",
          "text": [
            "100%|██████████| 53/53 [00:00<00:00, 221.23it/s]\n",
            "100%|██████████| 53/53 [00:00<00:00, 514.05it/s]\n"
          ]
        },
        {
          "name": "stdout",
          "output_type": "stream",
          "text": [
            "epoch: 56 validation: roc_auc_score: 0.9999974514447327\n"
          ]
        },
        {
          "name": "stderr",
          "output_type": "stream",
          "text": [
            "100%|██████████| 53/53 [00:00<00:00, 225.22it/s]\n",
            "100%|██████████| 53/53 [00:00<00:00, 298.69it/s]\n"
          ]
        },
        {
          "name": "stdout",
          "output_type": "stream",
          "text": [
            "epoch: 57 validation: roc_auc_score: 0.9999884834153486\n"
          ]
        },
        {
          "name": "stderr",
          "output_type": "stream",
          "text": [
            "100%|██████████| 53/53 [00:00<00:00, 224.73it/s]\n",
            "100%|██████████| 53/53 [00:00<00:00, 501.66it/s]\n"
          ]
        },
        {
          "name": "stdout",
          "output_type": "stream",
          "text": [
            "epoch: 58 validation: roc_auc_score: 0.999999567226464\n"
          ]
        },
        {
          "name": "stderr",
          "output_type": "stream",
          "text": [
            "100%|██████████| 53/53 [00:00<00:00, 219.18it/s]\n",
            "100%|██████████| 53/53 [00:00<00:00, 537.54it/s]\n"
          ]
        },
        {
          "name": "stdout",
          "output_type": "stream",
          "text": [
            "epoch: 59 validation: roc_auc_score: 0.9999974754877069\n"
          ]
        },
        {
          "name": "stderr",
          "output_type": "stream",
          "text": [
            "100%|██████████| 53/53 [00:00<00:00, 229.52it/s]\n",
            "100%|██████████| 53/53 [00:00<00:00, 516.01it/s]\n"
          ]
        },
        {
          "name": "stdout",
          "output_type": "stream",
          "text": [
            "epoch: 60 validation: roc_auc_score: 0.9999929554085536\n"
          ]
        },
        {
          "name": "stderr",
          "output_type": "stream",
          "text": [
            "100%|██████████| 53/53 [00:00<00:00, 223.73it/s]\n",
            "100%|██████████| 53/53 [00:00<00:00, 522.63it/s]\n"
          ]
        },
        {
          "name": "stdout",
          "output_type": "stream",
          "text": [
            "epoch: 61 validation: roc_auc_score: 0.9999962973819702\n"
          ]
        },
        {
          "name": "stderr",
          "output_type": "stream",
          "text": [
            "100%|██████████| 53/53 [00:00<00:00, 232.82it/s]\n",
            "100%|██████████| 53/53 [00:00<00:00, 537.99it/s]\n"
          ]
        },
        {
          "name": "stdout",
          "output_type": "stream",
          "text": [
            "epoch: 62 validation: roc_auc_score: 0.999997812089346\n"
          ]
        },
        {
          "name": "stderr",
          "output_type": "stream",
          "text": [
            "100%|██████████| 53/53 [00:00<00:00, 233.53it/s]\n",
            "100%|██████████| 53/53 [00:00<00:00, 495.46it/s]\n"
          ]
        },
        {
          "name": "stdout",
          "output_type": "stream",
          "text": [
            "epoch: 63 validation: roc_auc_score: 0.9999944941589036\n"
          ]
        },
        {
          "name": "stderr",
          "output_type": "stream",
          "text": [
            "100%|██████████| 53/53 [00:00<00:00, 215.11it/s]\n",
            "100%|██████████| 53/53 [00:00<00:00, 546.42it/s]\n"
          ]
        },
        {
          "name": "stdout",
          "output_type": "stream",
          "text": [
            "epoch: 64 validation: roc_auc_score: 0.9999978842182687\n"
          ]
        },
        {
          "name": "stderr",
          "output_type": "stream",
          "text": [
            "100%|██████████| 53/53 [00:00<00:00, 231.48it/s]\n",
            "100%|██████████| 53/53 [00:00<00:00, 312.31it/s]\n"
          ]
        },
        {
          "name": "stdout",
          "output_type": "stream",
          "text": [
            "epoch: 65 validation: roc_auc_score: 0.9999997595702578\n"
          ]
        },
        {
          "name": "stderr",
          "output_type": "stream",
          "text": [
            "100%|██████████| 53/53 [00:00<00:00, 244.81it/s]\n",
            "100%|██████████| 53/53 [00:00<00:00, 541.78it/s]\n"
          ]
        },
        {
          "name": "stdout",
          "output_type": "stream",
          "text": [
            "epoch: 66 validation: roc_auc_score: 0.999999687441335\n"
          ]
        },
        {
          "name": "stderr",
          "output_type": "stream",
          "text": [
            "100%|██████████| 53/53 [00:00<00:00, 232.11it/s]\n",
            "100%|██████████| 53/53 [00:00<00:00, 527.99it/s]\n"
          ]
        },
        {
          "name": "stdout",
          "output_type": "stream",
          "text": [
            "epoch: 67 validation: roc_auc_score: 0.9999899019508277\n"
          ]
        },
        {
          "name": "stderr",
          "output_type": "stream",
          "text": [
            "100%|██████████| 53/53 [00:00<00:00, 216.57it/s]\n",
            "100%|██████████| 53/53 [00:00<00:00, 541.92it/s]\n"
          ]
        },
        {
          "name": "stdout",
          "output_type": "stream",
          "text": [
            "epoch: 68 validation: roc_auc_score: 0.9999998797851288\n"
          ]
        },
        {
          "name": "stderr",
          "output_type": "stream",
          "text": [
            "100%|██████████| 53/53 [00:00<00:00, 227.46it/s]\n",
            "100%|██████████| 53/53 [00:00<00:00, 522.24it/s]\n"
          ]
        },
        {
          "name": "stdout",
          "output_type": "stream",
          "text": [
            "epoch: 69 validation: roc_auc_score: 0.9999996393553868\n"
          ]
        },
        {
          "name": "stderr",
          "output_type": "stream",
          "text": [
            "100%|██████████| 53/53 [00:00<00:00, 228.92it/s]\n",
            "100%|██████████| 53/53 [00:00<00:00, 560.33it/s]\n"
          ]
        },
        {
          "name": "stdout",
          "output_type": "stream",
          "text": [
            "epoch: 70 validation: roc_auc_score: 0.9999999519140516\n"
          ]
        },
        {
          "name": "stderr",
          "output_type": "stream",
          "text": [
            "100%|██████████| 53/53 [00:00<00:00, 220.59it/s]\n",
            "100%|██████████| 53/53 [00:00<00:00, 548.59it/s]\n"
          ]
        },
        {
          "name": "stdout",
          "output_type": "stream",
          "text": [
            "epoch: 71 validation: roc_auc_score: 0.9999973552728358\n"
          ]
        },
        {
          "name": "stderr",
          "output_type": "stream",
          "text": [
            "100%|██████████| 53/53 [00:00<00:00, 227.43it/s]\n",
            "100%|██████████| 53/53 [00:00<00:00, 556.99it/s]\n"
          ]
        },
        {
          "name": "stdout",
          "output_type": "stream",
          "text": [
            "epoch: 72 validation: roc_auc_score: 0.9999986776364178\n"
          ]
        },
        {
          "name": "stderr",
          "output_type": "stream",
          "text": [
            "100%|██████████| 53/53 [00:00<00:00, 178.44it/s]\n",
            "100%|██████████| 53/53 [00:00<00:00, 520.63it/s]\n"
          ]
        },
        {
          "name": "stdout",
          "output_type": "stream",
          "text": [
            "epoch: 73 validation: roc_auc_score: 0.9999867763641791\n"
          ]
        },
        {
          "name": "stderr",
          "output_type": "stream",
          "text": [
            "100%|██████████| 53/53 [00:00<00:00, 246.25it/s]\n",
            "100%|██████████| 53/53 [00:00<00:00, 575.35it/s]\n"
          ]
        },
        {
          "name": "stdout",
          "output_type": "stream",
          "text": [
            "epoch: 74 validation: roc_auc_score: 0.999999687441335\n"
          ]
        },
        {
          "name": "stderr",
          "output_type": "stream",
          "text": [
            "100%|██████████| 53/53 [00:00<00:00, 228.62it/s]\n",
            "100%|██████████| 53/53 [00:00<00:00, 531.66it/s]\n"
          ]
        },
        {
          "name": "stdout",
          "output_type": "stream",
          "text": [
            "epoch: 75 validation: roc_auc_score: 0.9999993027537477\n"
          ]
        },
        {
          "name": "stderr",
          "output_type": "stream",
          "text": [
            "100%|██████████| 53/53 [00:00<00:00, 218.13it/s]\n",
            "100%|██████████| 53/53 [00:00<00:00, 506.31it/s]\n"
          ]
        },
        {
          "name": "stdout",
          "output_type": "stream",
          "text": [
            "epoch: 76 validation: roc_auc_score: 0.9999870167939213\n"
          ]
        },
        {
          "name": "stderr",
          "output_type": "stream",
          "text": [
            "100%|██████████| 53/53 [00:00<00:00, 215.55it/s]\n",
            "100%|██████████| 53/53 [00:00<00:00, 514.41it/s]\n"
          ]
        },
        {
          "name": "stdout",
          "output_type": "stream",
          "text": [
            "epoch: 77 validation: roc_auc_score: 0.9999992546677992\n"
          ]
        },
        {
          "name": "stderr",
          "output_type": "stream",
          "text": [
            "100%|██████████| 53/53 [00:00<00:00, 213.30it/s]\n",
            "100%|██████████| 53/53 [00:00<00:00, 539.40it/s]\n"
          ]
        },
        {
          "name": "stdout",
          "output_type": "stream",
          "text": [
            "epoch: 78 validation: roc_auc_score: 0.9999999759570257\n"
          ]
        },
        {
          "name": "stderr",
          "output_type": "stream",
          "text": [
            "100%|██████████| 53/53 [00:00<00:00, 230.22it/s]\n",
            "100%|██████████| 53/53 [00:00<00:00, 497.72it/s]\n"
          ]
        },
        {
          "name": "stdout",
          "output_type": "stream",
          "text": [
            "epoch: 79 validation: roc_auc_score: 0.9999958646084343\n"
          ]
        },
        {
          "name": "stderr",
          "output_type": "stream",
          "text": [
            "100%|██████████| 53/53 [00:00<00:00, 232.20it/s]\n",
            "100%|██████████| 53/53 [00:00<00:00, 495.33it/s]\n"
          ]
        },
        {
          "name": "stdout",
          "output_type": "stream",
          "text": [
            "epoch: 80 validation: roc_auc_score: 0.9999998076562062\n"
          ]
        },
        {
          "name": "stderr",
          "output_type": "stream",
          "text": [
            "100%|██████████| 53/53 [00:00<00:00, 164.56it/s]\n",
            "100%|██████████| 53/53 [00:00<00:00, 531.94it/s]\n"
          ]
        },
        {
          "name": "stdout",
          "output_type": "stream",
          "text": [
            "epoch: 81 validation: roc_auc_score: 0.9999948307605427\n"
          ]
        },
        {
          "name": "stderr",
          "output_type": "stream",
          "text": [
            "100%|██████████| 53/53 [00:00<00:00, 226.43it/s]\n",
            "100%|██████████| 53/53 [00:00<00:00, 542.55it/s]\n"
          ]
        },
        {
          "name": "stdout",
          "output_type": "stream",
          "text": [
            "epoch: 82 validation: roc_auc_score: 0.9999784094091506\n"
          ]
        },
        {
          "name": "stderr",
          "output_type": "stream",
          "text": [
            "100%|██████████| 53/53 [00:00<00:00, 218.29it/s]\n",
            "100%|██████████| 53/53 [00:00<00:00, 508.12it/s]\n"
          ]
        },
        {
          "name": "stdout",
          "output_type": "stream",
          "text": [
            "epoch: 83 validation: roc_auc_score: 0.9999997355272836\n"
          ]
        },
        {
          "name": "stderr",
          "output_type": "stream",
          "text": [
            "100%|██████████| 53/53 [00:00<00:00, 240.73it/s]\n",
            "100%|██████████| 53/53 [00:00<00:00, 552.61it/s]\n"
          ]
        },
        {
          "name": "stdout",
          "output_type": "stream",
          "text": [
            "epoch: 84 validation: roc_auc_score: 0.9999999278710773\n"
          ]
        },
        {
          "name": "stderr",
          "output_type": "stream",
          "text": [
            "100%|██████████| 53/53 [00:00<00:00, 235.32it/s]\n",
            "100%|██████████| 53/53 [00:00<00:00, 535.79it/s]\n"
          ]
        },
        {
          "name": "stdout",
          "output_type": "stream",
          "text": [
            "epoch: 85 validation: roc_auc_score: 0.9999998797851289\n"
          ]
        },
        {
          "name": "stderr",
          "output_type": "stream",
          "text": [
            "100%|██████████| 53/53 [00:00<00:00, 234.10it/s]\n",
            "100%|██████████| 53/53 [00:00<00:00, 565.06it/s]\n"
          ]
        },
        {
          "name": "stdout",
          "output_type": "stream",
          "text": [
            "epoch: 86 validation: roc_auc_score: 0.9999998076562062\n"
          ]
        },
        {
          "name": "stderr",
          "output_type": "stream",
          "text": [
            "100%|██████████| 53/53 [00:00<00:00, 221.16it/s]\n",
            "100%|██████████| 53/53 [00:00<00:00, 522.22it/s]\n"
          ]
        },
        {
          "name": "stdout",
          "output_type": "stream",
          "text": [
            "epoch: 87 validation: roc_auc_score: 0.9999979803901655\n"
          ]
        },
        {
          "name": "stderr",
          "output_type": "stream",
          "text": [
            "100%|██████████| 53/53 [00:00<00:00, 224.71it/s]\n",
            "100%|██████████| 53/53 [00:00<00:00, 303.06it/s]\n"
          ]
        },
        {
          "name": "stdout",
          "output_type": "stream",
          "text": [
            "epoch: 88 validation: roc_auc_score: 0.9999998797851288\n"
          ]
        },
        {
          "name": "stderr",
          "output_type": "stream",
          "text": [
            "100%|██████████| 53/53 [00:00<00:00, 230.79it/s]\n",
            "100%|██████████| 53/53 [00:00<00:00, 521.87it/s]\n"
          ]
        },
        {
          "name": "stdout",
          "output_type": "stream",
          "text": [
            "epoch: 89 validation: roc_auc_score: 0.9999996153124125\n"
          ]
        },
        {
          "name": "stderr",
          "output_type": "stream",
          "text": [
            "100%|██████████| 53/53 [00:00<00:00, 216.99it/s]\n",
            "100%|██████████| 53/53 [00:00<00:00, 556.77it/s]\n"
          ]
        },
        {
          "name": "stdout",
          "output_type": "stream",
          "text": [
            "epoch: 90 validation: roc_auc_score: 0.9999999519140516\n"
          ]
        },
        {
          "name": "stderr",
          "output_type": "stream",
          "text": [
            "100%|██████████| 53/53 [00:00<00:00, 232.63it/s]\n",
            "100%|██████████| 53/53 [00:00<00:00, 522.01it/s]\n"
          ]
        },
        {
          "name": "stdout",
          "output_type": "stream",
          "text": [
            "epoch: 91 validation: roc_auc_score: 1.0\n"
          ]
        },
        {
          "name": "stderr",
          "output_type": "stream",
          "text": [
            "100%|██████████| 53/53 [00:00<00:00, 215.84it/s]\n",
            "100%|██████████| 53/53 [00:00<00:00, 530.61it/s]\n"
          ]
        },
        {
          "name": "stdout",
          "output_type": "stream",
          "text": [
            "epoch: 92 validation: roc_auc_score: 0.9999994710545672\n"
          ]
        },
        {
          "name": "stderr",
          "output_type": "stream",
          "text": [
            "100%|██████████| 53/53 [00:00<00:00, 241.46it/s]\n",
            "100%|██████████| 53/53 [00:00<00:00, 493.83it/s]\n"
          ]
        },
        {
          "name": "stdout",
          "output_type": "stream",
          "text": [
            "epoch: 93 validation: roc_auc_score: 0.9999999038281031\n"
          ]
        },
        {
          "name": "stderr",
          "output_type": "stream",
          "text": [
            "100%|██████████| 53/53 [00:00<00:00, 217.06it/s]\n",
            "100%|██████████| 53/53 [00:00<00:00, 522.80it/s]\n"
          ]
        },
        {
          "name": "stdout",
          "output_type": "stream",
          "text": [
            "epoch: 94 validation: roc_auc_score: 0.9999999759570257\n"
          ]
        },
        {
          "name": "stderr",
          "output_type": "stream",
          "text": [
            "100%|██████████| 53/53 [00:00<00:00, 226.98it/s]\n",
            "100%|██████████| 53/53 [00:00<00:00, 535.43it/s]\n"
          ]
        },
        {
          "name": "stdout",
          "output_type": "stream",
          "text": [
            "epoch: 95 validation: roc_auc_score: 0.9999998557421547\n"
          ]
        },
        {
          "name": "stderr",
          "output_type": "stream",
          "text": [
            "100%|██████████| 53/53 [00:00<00:00, 246.90it/s]\n",
            "100%|██████████| 53/53 [00:00<00:00, 316.06it/s]\n"
          ]
        },
        {
          "name": "stdout",
          "output_type": "stream",
          "text": [
            "epoch: 96 validation: roc_auc_score: 0.999999350839696\n"
          ]
        },
        {
          "name": "stderr",
          "output_type": "stream",
          "text": [
            "100%|██████████| 53/53 [00:00<00:00, 229.44it/s]\n",
            "100%|██████████| 53/53 [00:00<00:00, 481.26it/s]\n"
          ]
        },
        {
          "name": "stdout",
          "output_type": "stream",
          "text": [
            "epoch: 97 validation: roc_auc_score: 0.9999986535934438\n"
          ]
        },
        {
          "name": "stderr",
          "output_type": "stream",
          "text": [
            "100%|██████████| 53/53 [00:00<00:00, 213.82it/s]\n",
            "100%|██████████| 53/53 [00:00<00:00, 535.46it/s]\n"
          ]
        },
        {
          "name": "stdout",
          "output_type": "stream",
          "text": [
            "epoch: 98 validation: roc_auc_score: 0.9999998316991805\n"
          ]
        },
        {
          "name": "stderr",
          "output_type": "stream",
          "text": [
            "100%|██████████| 53/53 [00:00<00:00, 231.57it/s]\n",
            "100%|██████████| 53/53 [00:00<00:00, 578.72it/s]"
          ]
        },
        {
          "name": "stdout",
          "output_type": "stream",
          "text": [
            "epoch: 99 validation: roc_auc_score: 0.9999998076562062\n"
          ]
        },
        {
          "name": "stderr",
          "output_type": "stream",
          "text": [
            "\n"
          ]
        }
      ],
      "source": [
        "criterion = torch.nn.BCELoss()\n",
        "model = WideAndDeepModel(field_dims, embed_dim, mlp_dims=(16, 16), dropout=0.2).to(device)\n",
        "optimizer = torch.optim.Adam(params=model.parameters(), lr=learning_rate, amsgrad=True, weight_decay=weight_decay)\n",
        "\n",
        "for epoch in range(epochs):\n",
        "    train(model, optimizer, r_train_dataloader, criterion, device)\n",
        "    auc_score = test(model, r_train_dataloader, device)\n",
        "    print('epoch:', epoch, 'validation: roc_auc_score:', auc_score)"
      ]
    },
    {
      "cell_type": "code",
      "execution_count": null,
      "metadata": {
        "colab": {
          "base_uri": "https://localhost:8080/"
        },
        "id": "WEkh4kxy1Fv3",
        "outputId": "8f278a2b-31be-425d-e81f-b25029dd9b96"
      },
      "outputs": [
        {
          "name": "stderr",
          "output_type": "stream",
          "text": [
            "100%|██████████| 14/14 [00:00<00:00, 560.21it/s]\n"
          ]
        },
        {
          "data": {
            "text/plain": [
              "0.7172484886275323"
            ]
          },
          "execution_count": 61,
          "metadata": {},
          "output_type": "execute_result"
        }
      ],
      "source": [
        "test(model, r_test_dataloader, device)"
      ]
    },
    {
      "cell_type": "markdown",
      "metadata": {
        "id": "c1Siqdn4xiAz"
      },
      "source": [
        "## DCN"
      ]
    },
    {
      "cell_type": "code",
      "execution_count": null,
      "metadata": {
        "id": "HCf6-mWpZpAF"
      },
      "outputs": [],
      "source": [
        "class CrossNetwork(nn.Module):\n",
        "\n",
        "    def __init__(self, input_dim: int, num_layers: int):\n",
        "        super().__init__()\n",
        "        self.num_layers = num_layers\n",
        "        self.w = torch.nn.ModuleList([\n",
        "            torch.nn.Linear(input_dim, 1, bias=False) for _ in range(num_layers)\n",
        "        ])\n",
        "        self.b = torch.nn.ParameterList([\n",
        "            torch.nn.Parameter(torch.zeros((input_dim,))) for _ in range(num_layers)\n",
        "        ])\n",
        "\n",
        "    def forward(self, x: torch.Tensor):\n",
        "        \"\"\"\n",
        "        :param x: Float tensor of size ``(batch_size, num_fields, embed_dim)``\n",
        "        \"\"\"\n",
        "        x0 = x\n",
        "        for i in range(self.num_layers):\n",
        "            xw = self.w[i](x)\n",
        "            x = x0 * xw + self.b[i] + x\n",
        "        return x"
      ]
    },
    {
      "cell_type": "markdown",
      "metadata": {
        "id": "W9WBMO1KueDr"
      },
      "source": [
        "Stacked DCN 모델 구조입니다"
      ]
    },
    {
      "cell_type": "code",
      "execution_count": null,
      "metadata": {
        "id": "TisnseeWZhr4"
      },
      "outputs": [],
      "source": [
        "class StackedDeepCrossNetworkModel(nn.Module):\n",
        "  \n",
        "    def __init__(self, field_dims: np.ndarray, embed_dim: int, num_layers: int, mlp_dims: tuple, dropout: float):\n",
        "        super().__init__()\n",
        "        self.embedding = FeaturesEmbedding(field_dims, embed_dim)\n",
        "        self.embed_output_dim = len(field_dims) * embed_dim\n",
        "        self.cn = CrossNetwork(self.embed_output_dim, num_layers)\n",
        "        self.mlp = MultiLayerPerceptron(self.embed_output_dim, mlp_dims, dropout, output_layer=False)\n",
        "        self.linear = torch.nn.Linear(self.embed_output_dim, 1, bias=False)\n",
        "\n",
        "    def forward(self, x: torch.Tensor):\n",
        "        \"\"\"\n",
        "        :param x: Long tensor of size ``(batch_size, num_fields)``\n",
        "        \"\"\"\n",
        "        embed_x = self.embedding(x).view(-1, self.embed_output_dim)\n",
        "        x_l1 = self.cn(embed_x)\n",
        "        x_out = self.mlp(x_l1)\n",
        "        p = self.linear(x_out)\n",
        "        return torch.sigmoid(p.squeeze(1))"
      ]
    },
    {
      "cell_type": "markdown",
      "metadata": {
        "id": "jT7bVCEauiSI"
      },
      "source": [
        "Parallel DCN 구조입니다"
      ]
    },
    {
      "cell_type": "code",
      "execution_count": null,
      "metadata": {
        "id": "SioVf6Ibbx-V"
      },
      "outputs": [],
      "source": [
        "class ParallelDeepCrossNetworkModel(nn.Module):\n",
        "\n",
        "    def __init__(self, field_dims: np.ndarray, embed_dim: int, num_layers: int, mlp_dims: tuple, dropout: float):\n",
        "        super().__init__()\n",
        "        self.embedding = FeaturesEmbedding(field_dims, embed_dim)\n",
        "        self.embed_output_dim = len(field_dims) * embed_dim\n",
        "        self.cn = CrossNetwork(self.embed_output_dim, num_layers)\n",
        "        self.mlp = MultiLayerPerceptron(self.embed_output_dim, mlp_dims, dropout, output_layer=False)\n",
        "        self.linear = torch.nn.Linear(mlp_dims[-1] + self.embed_output_dim, 1)\n",
        "\n",
        "    def forward(self, x):\n",
        "        \"\"\"\n",
        "        :param x: Long tensor of size ``(batch_size, num_fields)``\n",
        "        \"\"\"\n",
        "        embed_x = self.embedding(x).view(-1, self.embed_output_dim)\n",
        "        x_l1 = self.cn(embed_x)\n",
        "        h_l2 = self.mlp(embed_x)\n",
        "        x_stack = torch.cat([x_l1, h_l2], dim=1)\n",
        "        p = self.linear(x_stack)\n",
        "        return torch.sigmoid(p.squeeze(1))"
      ]
    },
    {
      "cell_type": "code",
      "execution_count": null,
      "metadata": {
        "id": "yCyMtO2lp5LK"
      },
      "outputs": [],
      "source": [
        "field_dims = np.array([len(user2idx), len(book2idx)], dtype=np.uint32)"
      ]
    },
    {
      "cell_type": "code",
      "execution_count": null,
      "metadata": {
        "colab": {
          "base_uri": "https://localhost:8080/"
        },
        "id": "YziafW092X88",
        "outputId": "6547d75b-6245-4da8-8504-2900df17f581"
      },
      "outputs": [
        {
          "name": "stderr",
          "output_type": "stream",
          "text": [
            "100%|██████████| 53/53 [00:00<00:00, 192.59it/s]\n",
            "100%|██████████| 53/53 [00:00<00:00, 489.58it/s]\n"
          ]
        },
        {
          "name": "stdout",
          "output_type": "stream",
          "text": [
            "epoch: 0 validation: roc_auc_score: 0.7537203737663069\n"
          ]
        },
        {
          "name": "stderr",
          "output_type": "stream",
          "text": [
            "100%|██████████| 53/53 [00:00<00:00, 196.11it/s]\n",
            "100%|██████████| 53/53 [00:00<00:00, 466.85it/s]\n"
          ]
        },
        {
          "name": "stdout",
          "output_type": "stream",
          "text": [
            "epoch: 1 validation: roc_auc_score: 0.8838325472242482\n"
          ]
        },
        {
          "name": "stderr",
          "output_type": "stream",
          "text": [
            "100%|██████████| 53/53 [00:00<00:00, 196.07it/s]\n",
            "100%|██████████| 53/53 [00:00<00:00, 447.68it/s]\n"
          ]
        },
        {
          "name": "stdout",
          "output_type": "stream",
          "text": [
            "epoch: 2 validation: roc_auc_score: 0.941011993308744\n"
          ]
        },
        {
          "name": "stderr",
          "output_type": "stream",
          "text": [
            "100%|██████████| 53/53 [00:00<00:00, 188.92it/s]\n",
            "100%|██████████| 53/53 [00:00<00:00, 482.99it/s]\n"
          ]
        },
        {
          "name": "stdout",
          "output_type": "stream",
          "text": [
            "epoch: 3 validation: roc_auc_score: 0.9485112494191217\n"
          ]
        },
        {
          "name": "stderr",
          "output_type": "stream",
          "text": [
            "100%|██████████| 53/53 [00:00<00:00, 188.23it/s]\n",
            "100%|██████████| 53/53 [00:00<00:00, 499.05it/s]\n"
          ]
        },
        {
          "name": "stdout",
          "output_type": "stream",
          "text": [
            "epoch: 4 validation: roc_auc_score: 0.9535469181330958\n"
          ]
        },
        {
          "name": "stderr",
          "output_type": "stream",
          "text": [
            "100%|██████████| 53/53 [00:00<00:00, 182.48it/s]\n",
            "100%|██████████| 53/53 [00:00<00:00, 454.50it/s]\n"
          ]
        },
        {
          "name": "stdout",
          "output_type": "stream",
          "text": [
            "epoch: 5 validation: roc_auc_score: 0.9498224450396843\n"
          ]
        },
        {
          "name": "stderr",
          "output_type": "stream",
          "text": [
            "100%|██████████| 53/53 [00:00<00:00, 146.67it/s]\n",
            "100%|██████████| 53/53 [00:00<00:00, 462.75it/s]\n"
          ]
        },
        {
          "name": "stdout",
          "output_type": "stream",
          "text": [
            "epoch: 6 validation: roc_auc_score: 0.920663654851372\n"
          ]
        },
        {
          "name": "stderr",
          "output_type": "stream",
          "text": [
            "100%|██████████| 53/53 [00:00<00:00, 185.95it/s]\n",
            "100%|██████████| 53/53 [00:00<00:00, 491.06it/s]\n"
          ]
        },
        {
          "name": "stdout",
          "output_type": "stream",
          "text": [
            "epoch: 7 validation: roc_auc_score: 0.9632434977218799\n"
          ]
        },
        {
          "name": "stderr",
          "output_type": "stream",
          "text": [
            "100%|██████████| 53/53 [00:00<00:00, 192.97it/s]\n",
            "100%|██████████| 53/53 [00:00<00:00, 470.99it/s]\n"
          ]
        },
        {
          "name": "stdout",
          "output_type": "stream",
          "text": [
            "epoch: 8 validation: roc_auc_score: 0.9885386420605099\n"
          ]
        },
        {
          "name": "stderr",
          "output_type": "stream",
          "text": [
            "100%|██████████| 53/53 [00:00<00:00, 193.29it/s]\n",
            "100%|██████████| 53/53 [00:00<00:00, 447.79it/s]\n"
          ]
        },
        {
          "name": "stdout",
          "output_type": "stream",
          "text": [
            "epoch: 9 validation: roc_auc_score: 0.8804176154024295\n"
          ]
        },
        {
          "name": "stderr",
          "output_type": "stream",
          "text": [
            "100%|██████████| 53/53 [00:00<00:00, 187.77it/s]\n",
            "100%|██████████| 53/53 [00:00<00:00, 492.24it/s]\n"
          ]
        },
        {
          "name": "stdout",
          "output_type": "stream",
          "text": [
            "epoch: 10 validation: roc_auc_score: 0.9400714201357793\n"
          ]
        },
        {
          "name": "stderr",
          "output_type": "stream",
          "text": [
            "100%|██████████| 53/53 [00:00<00:00, 197.21it/s]\n",
            "100%|██████████| 53/53 [00:00<00:00, 483.00it/s]\n"
          ]
        },
        {
          "name": "stdout",
          "output_type": "stream",
          "text": [
            "epoch: 11 validation: roc_auc_score: 0.9000836863803667\n"
          ]
        },
        {
          "name": "stderr",
          "output_type": "stream",
          "text": [
            "100%|██████████| 53/53 [00:00<00:00, 178.89it/s]\n",
            "100%|██████████| 53/53 [00:00<00:00, 471.04it/s]\n"
          ]
        },
        {
          "name": "stdout",
          "output_type": "stream",
          "text": [
            "epoch: 12 validation: roc_auc_score: 0.9326806579465684\n"
          ]
        },
        {
          "name": "stderr",
          "output_type": "stream",
          "text": [
            "100%|██████████| 53/53 [00:00<00:00, 189.39it/s]\n",
            "100%|██████████| 53/53 [00:00<00:00, 270.79it/s]\n"
          ]
        },
        {
          "name": "stdout",
          "output_type": "stream",
          "text": [
            "epoch: 13 validation: roc_auc_score: 0.9446809992606303\n"
          ]
        },
        {
          "name": "stderr",
          "output_type": "stream",
          "text": [
            "100%|██████████| 53/53 [00:00<00:00, 184.29it/s]\n",
            "100%|██████████| 53/53 [00:00<00:00, 478.30it/s]\n"
          ]
        },
        {
          "name": "stdout",
          "output_type": "stream",
          "text": [
            "epoch: 14 validation: roc_auc_score: 0.941896113578241\n"
          ]
        },
        {
          "name": "stderr",
          "output_type": "stream",
          "text": [
            "100%|██████████| 53/53 [00:00<00:00, 195.14it/s]\n",
            "100%|██████████| 53/53 [00:00<00:00, 436.45it/s]\n"
          ]
        },
        {
          "name": "stdout",
          "output_type": "stream",
          "text": [
            "epoch: 15 validation: roc_auc_score: 0.9850383937446722\n"
          ]
        },
        {
          "name": "stderr",
          "output_type": "stream",
          "text": [
            "100%|██████████| 53/53 [00:00<00:00, 195.59it/s]\n",
            "100%|██████████| 53/53 [00:00<00:00, 461.79it/s]\n"
          ]
        },
        {
          "name": "stdout",
          "output_type": "stream",
          "text": [
            "epoch: 16 validation: roc_auc_score: 0.9901906949265863\n"
          ]
        },
        {
          "name": "stderr",
          "output_type": "stream",
          "text": [
            "100%|██████████| 53/53 [00:00<00:00, 189.22it/s]\n",
            "100%|██████████| 53/53 [00:00<00:00, 493.28it/s]\n"
          ]
        },
        {
          "name": "stdout",
          "output_type": "stream",
          "text": [
            "epoch: 17 validation: roc_auc_score: 0.9138350414423937\n"
          ]
        },
        {
          "name": "stderr",
          "output_type": "stream",
          "text": [
            "100%|██████████| 53/53 [00:00<00:00, 189.85it/s]\n",
            "100%|██████████| 53/53 [00:00<00:00, 192.01it/s]\n"
          ]
        },
        {
          "name": "stdout",
          "output_type": "stream",
          "text": [
            "epoch: 18 validation: roc_auc_score: 0.976070532661515\n"
          ]
        },
        {
          "name": "stderr",
          "output_type": "stream",
          "text": [
            "100%|██████████| 53/53 [00:00<00:00, 188.16it/s]\n",
            "100%|██████████| 53/53 [00:00<00:00, 481.15it/s]\n"
          ]
        },
        {
          "name": "stdout",
          "output_type": "stream",
          "text": [
            "epoch: 19 validation: roc_auc_score: 0.9872957405082186\n"
          ]
        },
        {
          "name": "stderr",
          "output_type": "stream",
          "text": [
            "100%|██████████| 53/53 [00:00<00:00, 111.04it/s]\n",
            "100%|██████████| 53/53 [00:00<00:00, 452.00it/s]\n"
          ]
        },
        {
          "name": "stdout",
          "output_type": "stream",
          "text": [
            "epoch: 20 validation: roc_auc_score: 0.9874212568551328\n"
          ]
        },
        {
          "name": "stderr",
          "output_type": "stream",
          "text": [
            "100%|██████████| 53/53 [00:00<00:00, 121.86it/s]\n",
            "100%|██████████| 53/53 [00:00<00:00, 266.42it/s]\n"
          ]
        },
        {
          "name": "stdout",
          "output_type": "stream",
          "text": [
            "epoch: 21 validation: roc_auc_score: 0.9888732601542137\n"
          ]
        },
        {
          "name": "stderr",
          "output_type": "stream",
          "text": [
            "100%|██████████| 53/53 [00:00<00:00, 165.81it/s]\n",
            "100%|██████████| 53/53 [00:00<00:00, 473.62it/s]\n"
          ]
        },
        {
          "name": "stdout",
          "output_type": "stream",
          "text": [
            "epoch: 22 validation: roc_auc_score: 0.9942794431224016\n"
          ]
        },
        {
          "name": "stderr",
          "output_type": "stream",
          "text": [
            "100%|██████████| 53/53 [00:00<00:00, 171.07it/s]\n",
            "100%|██████████| 53/53 [00:00<00:00, 467.96it/s]\n"
          ]
        },
        {
          "name": "stdout",
          "output_type": "stream",
          "text": [
            "epoch: 23 validation: roc_auc_score: 0.9882770304580245\n"
          ]
        },
        {
          "name": "stderr",
          "output_type": "stream",
          "text": [
            "100%|██████████| 53/53 [00:00<00:00, 164.36it/s]\n",
            "100%|██████████| 53/53 [00:00<00:00, 463.69it/s]\n"
          ]
        },
        {
          "name": "stdout",
          "output_type": "stream",
          "text": [
            "epoch: 24 validation: roc_auc_score: 0.9881299595847219\n"
          ]
        },
        {
          "name": "stderr",
          "output_type": "stream",
          "text": [
            "100%|██████████| 53/53 [00:00<00:00, 165.26it/s]\n",
            "100%|██████████| 53/53 [00:00<00:00, 467.29it/s]\n"
          ]
        },
        {
          "name": "stdout",
          "output_type": "stream",
          "text": [
            "epoch: 25 validation: roc_auc_score: 0.9716457358150298\n"
          ]
        },
        {
          "name": "stderr",
          "output_type": "stream",
          "text": [
            "100%|██████████| 53/53 [00:00<00:00, 163.70it/s]\n",
            "100%|██████████| 53/53 [00:00<00:00, 476.77it/s]\n"
          ]
        },
        {
          "name": "stdout",
          "output_type": "stream",
          "text": [
            "epoch: 26 validation: roc_auc_score: 0.9568515888751428\n"
          ]
        },
        {
          "name": "stderr",
          "output_type": "stream",
          "text": [
            "100%|██████████| 53/53 [00:00<00:00, 159.40it/s]\n",
            "100%|██████████| 53/53 [00:00<00:00, 468.51it/s]\n"
          ]
        },
        {
          "name": "stdout",
          "output_type": "stream",
          "text": [
            "epoch: 27 validation: roc_auc_score: 0.9871623500872471\n"
          ]
        },
        {
          "name": "stderr",
          "output_type": "stream",
          "text": [
            "100%|██████████| 53/53 [00:00<00:00, 173.54it/s]\n",
            "100%|██████████| 53/53 [00:00<00:00, 449.32it/s]\n"
          ]
        },
        {
          "name": "stdout",
          "output_type": "stream",
          "text": [
            "epoch: 28 validation: roc_auc_score: 0.9934857484789452\n"
          ]
        },
        {
          "name": "stderr",
          "output_type": "stream",
          "text": [
            "100%|██████████| 53/53 [00:00<00:00, 136.76it/s]\n",
            "100%|██████████| 53/53 [00:00<00:00, 475.71it/s]\n"
          ]
        },
        {
          "name": "stdout",
          "output_type": "stream",
          "text": [
            "epoch: 29 validation: roc_auc_score: 0.9923969022839672\n"
          ]
        },
        {
          "name": "stderr",
          "output_type": "stream",
          "text": [
            "100%|██████████| 53/53 [00:00<00:00, 157.03it/s]\n",
            "100%|██████████| 53/53 [00:00<00:00, 467.58it/s]\n"
          ]
        },
        {
          "name": "stdout",
          "output_type": "stream",
          "text": [
            "epoch: 30 validation: roc_auc_score: 0.9937591892247468\n"
          ]
        },
        {
          "name": "stderr",
          "output_type": "stream",
          "text": [
            "100%|██████████| 53/53 [00:00<00:00, 164.91it/s]\n",
            "100%|██████████| 53/53 [00:00<00:00, 468.23it/s]\n"
          ]
        },
        {
          "name": "stdout",
          "output_type": "stream",
          "text": [
            "epoch: 31 validation: roc_auc_score: 0.996088712996901\n"
          ]
        },
        {
          "name": "stderr",
          "output_type": "stream",
          "text": [
            "100%|██████████| 53/53 [00:00<00:00, 164.88it/s]\n",
            "100%|██████████| 53/53 [00:00<00:00, 457.52it/s]\n"
          ]
        },
        {
          "name": "stdout",
          "output_type": "stream",
          "text": [
            "epoch: 32 validation: roc_auc_score: 0.9933339531612088\n"
          ]
        },
        {
          "name": "stderr",
          "output_type": "stream",
          "text": [
            "100%|██████████| 53/53 [00:00<00:00, 168.78it/s]\n",
            "100%|██████████| 53/53 [00:00<00:00, 468.32it/s]\n"
          ]
        },
        {
          "name": "stdout",
          "output_type": "stream",
          "text": [
            "epoch: 33 validation: roc_auc_score: 0.9727031698641898\n"
          ]
        },
        {
          "name": "stderr",
          "output_type": "stream",
          "text": [
            "100%|██████████| 53/53 [00:00<00:00, 165.81it/s]\n",
            "100%|██████████| 53/53 [00:00<00:00, 468.62it/s]\n"
          ]
        },
        {
          "name": "stdout",
          "output_type": "stream",
          "text": [
            "epoch: 34 validation: roc_auc_score: 0.9821146118002149\n"
          ]
        },
        {
          "name": "stderr",
          "output_type": "stream",
          "text": [
            "100%|██████████| 53/53 [00:00<00:00, 167.47it/s]\n",
            "100%|██████████| 53/53 [00:00<00:00, 448.75it/s]\n"
          ]
        },
        {
          "name": "stdout",
          "output_type": "stream",
          "text": [
            "epoch: 35 validation: roc_auc_score: 0.999564052791447\n"
          ]
        },
        {
          "name": "stderr",
          "output_type": "stream",
          "text": [
            "100%|██████████| 53/53 [00:00<00:00, 171.31it/s]\n",
            "100%|██████████| 53/53 [00:00<00:00, 291.34it/s]\n"
          ]
        },
        {
          "name": "stdout",
          "output_type": "stream",
          "text": [
            "epoch: 36 validation: roc_auc_score: 0.999144731299567\n"
          ]
        },
        {
          "name": "stderr",
          "output_type": "stream",
          "text": [
            "100%|██████████| 53/53 [00:00<00:00, 164.68it/s]\n",
            "100%|██████████| 53/53 [00:00<00:00, 476.75it/s]\n"
          ]
        },
        {
          "name": "stdout",
          "output_type": "stream",
          "text": [
            "epoch: 37 validation: roc_auc_score: 0.9960415046170203\n"
          ]
        },
        {
          "name": "stderr",
          "output_type": "stream",
          "text": [
            "100%|██████████| 53/53 [00:00<00:00, 170.79it/s]\n",
            "100%|██████████| 53/53 [00:00<00:00, 473.70it/s]\n"
          ]
        },
        {
          "name": "stdout",
          "output_type": "stream",
          "text": [
            "epoch: 38 validation: roc_auc_score: 0.984828017720249\n"
          ]
        },
        {
          "name": "stderr",
          "output_type": "stream",
          "text": [
            "100%|██████████| 53/53 [00:00<00:00, 173.97it/s]\n",
            "100%|██████████| 53/53 [00:00<00:00, 471.01it/s]\n"
          ]
        },
        {
          "name": "stdout",
          "output_type": "stream",
          "text": [
            "epoch: 39 validation: roc_auc_score: 0.9982618612647298\n"
          ]
        },
        {
          "name": "stderr",
          "output_type": "stream",
          "text": [
            "100%|██████████| 53/53 [00:00<00:00, 172.75it/s]\n",
            "100%|██████████| 53/53 [00:00<00:00, 483.85it/s]\n"
          ]
        },
        {
          "name": "stdout",
          "output_type": "stream",
          "text": [
            "epoch: 40 validation: roc_auc_score: 0.8912649518448079\n"
          ]
        },
        {
          "name": "stderr",
          "output_type": "stream",
          "text": [
            "100%|██████████| 53/53 [00:00<00:00, 168.35it/s]\n",
            "100%|██████████| 53/53 [00:00<00:00, 480.67it/s]\n"
          ]
        },
        {
          "name": "stdout",
          "output_type": "stream",
          "text": [
            "epoch: 41 validation: roc_auc_score: 0.9987243519168212\n"
          ]
        },
        {
          "name": "stderr",
          "output_type": "stream",
          "text": [
            "100%|██████████| 53/53 [00:00<00:00, 164.42it/s]\n",
            "100%|██████████| 53/53 [00:00<00:00, 459.82it/s]\n"
          ]
        },
        {
          "name": "stdout",
          "output_type": "stream",
          "text": [
            "epoch: 42 validation: roc_auc_score: 0.9986985177410221\n"
          ]
        },
        {
          "name": "stderr",
          "output_type": "stream",
          "text": [
            "100%|██████████| 53/53 [00:00<00:00, 166.69it/s]\n",
            "100%|██████████| 53/53 [00:00<00:00, 478.80it/s]\n"
          ]
        },
        {
          "name": "stdout",
          "output_type": "stream",
          "text": [
            "epoch: 43 validation: roc_auc_score: 0.9983385222880294\n"
          ]
        },
        {
          "name": "stderr",
          "output_type": "stream",
          "text": [
            "100%|██████████| 53/53 [00:00<00:00, 135.65it/s]\n",
            "100%|██████████| 53/53 [00:00<00:00, 439.03it/s]\n"
          ]
        },
        {
          "name": "stdout",
          "output_type": "stream",
          "text": [
            "epoch: 44 validation: roc_auc_score: 0.9692587252915162\n"
          ]
        },
        {
          "name": "stderr",
          "output_type": "stream",
          "text": [
            "100%|██████████| 53/53 [00:00<00:00, 166.25it/s]\n",
            "100%|██████████| 53/53 [00:00<00:00, 457.86it/s]\n"
          ]
        },
        {
          "name": "stdout",
          "output_type": "stream",
          "text": [
            "epoch: 45 validation: roc_auc_score: 0.990803826833652\n"
          ]
        },
        {
          "name": "stderr",
          "output_type": "stream",
          "text": [
            "100%|██████████| 53/53 [00:00<00:00, 168.41it/s]\n",
            "100%|██████████| 53/53 [00:00<00:00, 489.46it/s]\n"
          ]
        },
        {
          "name": "stdout",
          "output_type": "stream",
          "text": [
            "epoch: 46 validation: roc_auc_score: 0.9870611171442948\n"
          ]
        },
        {
          "name": "stderr",
          "output_type": "stream",
          "text": [
            "100%|██████████| 53/53 [00:00<00:00, 170.91it/s]\n",
            "100%|██████████| 53/53 [00:00<00:00, 469.48it/s]\n"
          ]
        },
        {
          "name": "stdout",
          "output_type": "stream",
          "text": [
            "epoch: 47 validation: roc_auc_score: 0.9910511689309378\n"
          ]
        },
        {
          "name": "stderr",
          "output_type": "stream",
          "text": [
            "100%|██████████| 53/53 [00:00<00:00, 167.36it/s]\n",
            "100%|██████████| 53/53 [00:00<00:00, 480.10it/s]\n"
          ]
        },
        {
          "name": "stdout",
          "output_type": "stream",
          "text": [
            "epoch: 48 validation: roc_auc_score: 0.9997479094153057\n"
          ]
        },
        {
          "name": "stderr",
          "output_type": "stream",
          "text": [
            "100%|██████████| 53/53 [00:00<00:00, 170.86it/s]\n",
            "100%|██████████| 53/53 [00:00<00:00, 476.33it/s]\n"
          ]
        },
        {
          "name": "stdout",
          "output_type": "stream",
          "text": [
            "epoch: 49 validation: roc_auc_score: 0.9978430927612568\n"
          ]
        },
        {
          "name": "stderr",
          "output_type": "stream",
          "text": [
            "100%|██████████| 53/53 [00:00<00:00, 166.71it/s]\n",
            "100%|██████████| 53/53 [00:00<00:00, 458.84it/s]\n"
          ]
        },
        {
          "name": "stdout",
          "output_type": "stream",
          "text": [
            "epoch: 50 validation: roc_auc_score: 0.9954788148698679\n"
          ]
        },
        {
          "name": "stderr",
          "output_type": "stream",
          "text": [
            "100%|██████████| 53/53 [00:00<00:00, 164.20it/s]\n",
            "100%|██████████| 53/53 [00:00<00:00, 277.41it/s]\n"
          ]
        },
        {
          "name": "stdout",
          "output_type": "stream",
          "text": [
            "epoch: 51 validation: roc_auc_score: 0.9560943313591166\n"
          ]
        },
        {
          "name": "stderr",
          "output_type": "stream",
          "text": [
            "100%|██████████| 53/53 [00:00<00:00, 166.88it/s]\n",
            "100%|██████████| 53/53 [00:00<00:00, 478.88it/s]\n"
          ]
        },
        {
          "name": "stdout",
          "output_type": "stream",
          "text": [
            "epoch: 52 validation: roc_auc_score: 0.967352213607785\n"
          ]
        },
        {
          "name": "stderr",
          "output_type": "stream",
          "text": [
            "100%|██████████| 53/53 [00:00<00:00, 165.86it/s]\n",
            "100%|██████████| 53/53 [00:00<00:00, 459.89it/s]\n"
          ]
        },
        {
          "name": "stdout",
          "output_type": "stream",
          "text": [
            "epoch: 53 validation: roc_auc_score: 0.9926639836630875\n"
          ]
        },
        {
          "name": "stderr",
          "output_type": "stream",
          "text": [
            "100%|██████████| 53/53 [00:00<00:00, 163.34it/s]\n",
            "100%|██████████| 53/53 [00:00<00:00, 471.97it/s]\n"
          ]
        },
        {
          "name": "stdout",
          "output_type": "stream",
          "text": [
            "epoch: 54 validation: roc_auc_score: 0.9996182456553385\n"
          ]
        },
        {
          "name": "stderr",
          "output_type": "stream",
          "text": [
            "100%|██████████| 53/53 [00:00<00:00, 98.97it/s]\n",
            "100%|██████████| 53/53 [00:00<00:00, 483.06it/s]\n"
          ]
        },
        {
          "name": "stdout",
          "output_type": "stream",
          "text": [
            "epoch: 55 validation: roc_auc_score: 0.9920679583321792\n"
          ]
        },
        {
          "name": "stderr",
          "output_type": "stream",
          "text": [
            "100%|██████████| 53/53 [00:00<00:00, 110.78it/s]\n",
            "100%|██████████| 53/53 [00:00<00:00, 363.28it/s]\n"
          ]
        },
        {
          "name": "stdout",
          "output_type": "stream",
          "text": [
            "epoch: 56 validation: roc_auc_score: 0.9815694734242427\n"
          ]
        },
        {
          "name": "stderr",
          "output_type": "stream",
          "text": [
            "100%|██████████| 53/53 [00:00<00:00, 159.05it/s]\n",
            "100%|██████████| 53/53 [00:00<00:00, 472.78it/s]\n"
          ]
        },
        {
          "name": "stdout",
          "output_type": "stream",
          "text": [
            "epoch: 57 validation: roc_auc_score: 0.9981227245729198\n"
          ]
        },
        {
          "name": "stderr",
          "output_type": "stream",
          "text": [
            "100%|██████████| 53/53 [00:00<00:00, 107.84it/s]\n",
            "100%|██████████| 53/53 [00:00<00:00, 479.74it/s]\n"
          ]
        },
        {
          "name": "stdout",
          "output_type": "stream",
          "text": [
            "epoch: 58 validation: roc_auc_score: 0.9954757974766034\n"
          ]
        },
        {
          "name": "stderr",
          "output_type": "stream",
          "text": [
            "100%|██████████| 53/53 [00:00<00:00, 165.49it/s]\n",
            "100%|██████████| 53/53 [00:00<00:00, 276.54it/s]\n"
          ]
        },
        {
          "name": "stdout",
          "output_type": "stream",
          "text": [
            "epoch: 59 validation: roc_auc_score: 0.9958038638598321\n"
          ]
        },
        {
          "name": "stderr",
          "output_type": "stream",
          "text": [
            "100%|██████████| 53/53 [00:00<00:00, 161.87it/s]\n",
            "100%|██████████| 53/53 [00:00<00:00, 475.50it/s]\n"
          ]
        },
        {
          "name": "stdout",
          "output_type": "stream",
          "text": [
            "epoch: 60 validation: roc_auc_score: 0.9793361455919418\n"
          ]
        },
        {
          "name": "stderr",
          "output_type": "stream",
          "text": [
            "100%|██████████| 53/53 [00:00<00:00, 164.04it/s]\n",
            "100%|██████████| 53/53 [00:00<00:00, 445.08it/s]\n"
          ]
        },
        {
          "name": "stdout",
          "output_type": "stream",
          "text": [
            "epoch: 61 validation: roc_auc_score: 0.9783699426084587\n"
          ]
        },
        {
          "name": "stderr",
          "output_type": "stream",
          "text": [
            "100%|██████████| 53/53 [00:00<00:00, 161.04it/s]\n",
            "100%|██████████| 53/53 [00:00<00:00, 469.32it/s]\n"
          ]
        },
        {
          "name": "stdout",
          "output_type": "stream",
          "text": [
            "epoch: 62 validation: roc_auc_score: 0.9999017844503123\n"
          ]
        },
        {
          "name": "stderr",
          "output_type": "stream",
          "text": [
            "100%|██████████| 53/53 [00:00<00:00, 161.64it/s]\n",
            "100%|██████████| 53/53 [00:00<00:00, 467.95it/s]\n"
          ]
        },
        {
          "name": "stdout",
          "output_type": "stream",
          "text": [
            "epoch: 63 validation: roc_auc_score: 0.9780702589562965\n"
          ]
        },
        {
          "name": "stderr",
          "output_type": "stream",
          "text": [
            "100%|██████████| 53/53 [00:00<00:00, 164.16it/s]\n",
            "100%|██████████| 53/53 [00:00<00:00, 477.92it/s]\n"
          ]
        },
        {
          "name": "stdout",
          "output_type": "stream",
          "text": [
            "epoch: 64 validation: roc_auc_score: 0.990482660784024\n"
          ]
        },
        {
          "name": "stderr",
          "output_type": "stream",
          "text": [
            "100%|██████████| 53/53 [00:00<00:00, 158.99it/s]\n",
            "100%|██████████| 53/53 [00:00<00:00, 457.75it/s]\n"
          ]
        },
        {
          "name": "stdout",
          "output_type": "stream",
          "text": [
            "epoch: 65 validation: roc_auc_score: 0.9970721788358738\n"
          ]
        },
        {
          "name": "stderr",
          "output_type": "stream",
          "text": [
            "100%|██████████| 53/53 [00:00<00:00, 165.89it/s]\n",
            "100%|██████████| 53/53 [00:00<00:00, 430.78it/s]\n"
          ]
        },
        {
          "name": "stdout",
          "output_type": "stream",
          "text": [
            "epoch: 66 validation: roc_auc_score: 0.9989010918203108\n"
          ]
        },
        {
          "name": "stderr",
          "output_type": "stream",
          "text": [
            "100%|██████████| 53/53 [00:00<00:00, 128.67it/s]\n",
            "100%|██████████| 53/53 [00:00<00:00, 463.65it/s]\n"
          ]
        },
        {
          "name": "stdout",
          "output_type": "stream",
          "text": [
            "epoch: 67 validation: roc_auc_score: 0.9991317000075398\n"
          ]
        },
        {
          "name": "stderr",
          "output_type": "stream",
          "text": [
            "100%|██████████| 53/53 [00:00<00:00, 165.35it/s]\n",
            "100%|██████████| 53/53 [00:00<00:00, 453.84it/s]\n"
          ]
        },
        {
          "name": "stdout",
          "output_type": "stream",
          "text": [
            "epoch: 68 validation: roc_auc_score: 0.999213866871936\n"
          ]
        },
        {
          "name": "stderr",
          "output_type": "stream",
          "text": [
            "100%|██████████| 53/53 [00:00<00:00, 161.50it/s]\n",
            "100%|██████████| 53/53 [00:00<00:00, 461.70it/s]\n"
          ]
        },
        {
          "name": "stdout",
          "output_type": "stream",
          "text": [
            "epoch: 69 validation: roc_auc_score: 0.9994475886243265\n"
          ]
        },
        {
          "name": "stderr",
          "output_type": "stream",
          "text": [
            "100%|██████████| 53/53 [00:00<00:00, 161.68it/s]\n",
            "100%|██████████| 53/53 [00:00<00:00, 452.03it/s]\n"
          ]
        },
        {
          "name": "stdout",
          "output_type": "stream",
          "text": [
            "epoch: 70 validation: roc_auc_score: 0.9997160765174388\n"
          ]
        },
        {
          "name": "stderr",
          "output_type": "stream",
          "text": [
            "100%|██████████| 53/53 [00:00<00:00, 162.47it/s]\n",
            "100%|██████████| 53/53 [00:00<00:00, 461.89it/s]\n"
          ]
        },
        {
          "name": "stdout",
          "output_type": "stream",
          "text": [
            "epoch: 71 validation: roc_auc_score: 0.995742265759881\n"
          ]
        },
        {
          "name": "stderr",
          "output_type": "stream",
          "text": [
            "100%|██████████| 53/53 [00:00<00:00, 164.03it/s]\n",
            "100%|██████████| 53/53 [00:00<00:00, 489.80it/s]\n"
          ]
        },
        {
          "name": "stdout",
          "output_type": "stream",
          "text": [
            "epoch: 72 validation: roc_auc_score: 0.999751335539132\n"
          ]
        },
        {
          "name": "stderr",
          "output_type": "stream",
          "text": [
            "100%|██████████| 53/53 [00:00<00:00, 162.68it/s]\n",
            "100%|██████████| 53/53 [00:00<00:00, 457.12it/s]\n"
          ]
        },
        {
          "name": "stdout",
          "output_type": "stream",
          "text": [
            "epoch: 73 validation: roc_auc_score: 0.9977718414071565\n"
          ]
        },
        {
          "name": "stderr",
          "output_type": "stream",
          "text": [
            "100%|██████████| 53/53 [00:00<00:00, 168.44it/s]\n",
            "100%|██████████| 53/53 [00:00<00:00, 275.63it/s]\n"
          ]
        },
        {
          "name": "stdout",
          "output_type": "stream",
          "text": [
            "epoch: 74 validation: roc_auc_score: 0.9696320405522267\n"
          ]
        },
        {
          "name": "stderr",
          "output_type": "stream",
          "text": [
            "100%|██████████| 53/53 [00:00<00:00, 163.91it/s]\n",
            "100%|██████████| 53/53 [00:00<00:00, 458.01it/s]\n"
          ]
        },
        {
          "name": "stdout",
          "output_type": "stream",
          "text": [
            "epoch: 75 validation: roc_auc_score: 0.99741065582694\n"
          ]
        },
        {
          "name": "stderr",
          "output_type": "stream",
          "text": [
            "100%|██████████| 53/53 [00:00<00:00, 167.52it/s]\n",
            "100%|██████████| 53/53 [00:00<00:00, 475.77it/s]\n"
          ]
        },
        {
          "name": "stdout",
          "output_type": "stream",
          "text": [
            "epoch: 76 validation: roc_auc_score: 0.9920421481993543\n"
          ]
        },
        {
          "name": "stderr",
          "output_type": "stream",
          "text": [
            "100%|██████████| 53/53 [00:00<00:00, 161.36it/s]\n",
            "100%|██████████| 53/53 [00:00<00:00, 447.99it/s]\n"
          ]
        },
        {
          "name": "stdout",
          "output_type": "stream",
          "text": [
            "epoch: 77 validation: roc_auc_score: 0.9982102890850284\n"
          ]
        },
        {
          "name": "stderr",
          "output_type": "stream",
          "text": [
            "100%|██████████| 53/53 [00:00<00:00, 162.97it/s]\n",
            "100%|██████████| 53/53 [00:00<00:00, 478.58it/s]\n"
          ]
        },
        {
          "name": "stdout",
          "output_type": "stream",
          "text": [
            "epoch: 78 validation: roc_auc_score: 0.9989206868442999\n"
          ]
        },
        {
          "name": "stderr",
          "output_type": "stream",
          "text": [
            "100%|██████████| 53/53 [00:00<00:00, 155.64it/s]\n",
            "100%|██████████| 53/53 [00:00<00:00, 478.60it/s]\n"
          ]
        },
        {
          "name": "stdout",
          "output_type": "stream",
          "text": [
            "epoch: 79 validation: roc_auc_score: 0.9983019048382927\n"
          ]
        },
        {
          "name": "stderr",
          "output_type": "stream",
          "text": [
            "100%|██████████| 53/53 [00:00<00:00, 166.00it/s]\n",
            "100%|██████████| 53/53 [00:00<00:00, 453.62it/s]\n"
          ]
        },
        {
          "name": "stdout",
          "output_type": "stream",
          "text": [
            "epoch: 80 validation: roc_auc_score: 0.9998017296130967\n"
          ]
        },
        {
          "name": "stderr",
          "output_type": "stream",
          "text": [
            "100%|██████████| 53/53 [00:00<00:00, 169.23it/s]\n",
            "100%|██████████| 53/53 [00:00<00:00, 434.06it/s]\n"
          ]
        },
        {
          "name": "stdout",
          "output_type": "stream",
          "text": [
            "epoch: 81 validation: roc_auc_score: 0.999828573593813\n"
          ]
        },
        {
          "name": "stderr",
          "output_type": "stream",
          "text": [
            "100%|██████████| 53/53 [00:00<00:00, 135.62it/s]\n",
            "100%|██████████| 53/53 [00:00<00:00, 458.65it/s]\n"
          ]
        },
        {
          "name": "stdout",
          "output_type": "stream",
          "text": [
            "epoch: 82 validation: roc_auc_score: 0.988434295552396\n"
          ]
        },
        {
          "name": "stderr",
          "output_type": "stream",
          "text": [
            "100%|██████████| 53/53 [00:00<00:00, 166.23it/s]\n",
            "100%|██████████| 53/53 [00:00<00:00, 420.53it/s]\n"
          ]
        },
        {
          "name": "stdout",
          "output_type": "stream",
          "text": [
            "epoch: 83 validation: roc_auc_score: 0.9998651429576013\n"
          ]
        },
        {
          "name": "stderr",
          "output_type": "stream",
          "text": [
            "100%|██████████| 53/53 [00:00<00:00, 165.88it/s]\n",
            "100%|██████████| 53/53 [00:00<00:00, 466.26it/s]\n"
          ]
        },
        {
          "name": "stdout",
          "output_type": "stream",
          "text": [
            "epoch: 84 validation: roc_auc_score: 0.9980922741460705\n"
          ]
        },
        {
          "name": "stderr",
          "output_type": "stream",
          "text": [
            "100%|██████████| 53/53 [00:00<00:00, 171.85it/s]\n",
            "100%|██████████| 53/53 [00:00<00:00, 421.05it/s]\n"
          ]
        },
        {
          "name": "stdout",
          "output_type": "stream",
          "text": [
            "epoch: 85 validation: roc_auc_score: 0.9986190196467645\n"
          ]
        },
        {
          "name": "stderr",
          "output_type": "stream",
          "text": [
            "100%|██████████| 53/53 [00:00<00:00, 167.36it/s]\n",
            "100%|██████████| 53/53 [00:00<00:00, 481.02it/s]\n"
          ]
        },
        {
          "name": "stdout",
          "output_type": "stream",
          "text": [
            "epoch: 86 validation: roc_auc_score: 0.9997080221210749\n"
          ]
        },
        {
          "name": "stderr",
          "output_type": "stream",
          "text": [
            "100%|██████████| 53/53 [00:00<00:00, 164.20it/s]\n",
            "100%|██████████| 53/53 [00:00<00:00, 466.16it/s]\n"
          ]
        },
        {
          "name": "stdout",
          "output_type": "stream",
          "text": [
            "epoch: 87 validation: roc_auc_score: 0.9745454387208062\n"
          ]
        },
        {
          "name": "stderr",
          "output_type": "stream",
          "text": [
            "100%|██████████| 53/53 [00:00<00:00, 161.87it/s]\n",
            "100%|██████████| 53/53 [00:00<00:00, 478.06it/s]\n"
          ]
        },
        {
          "name": "stdout",
          "output_type": "stream",
          "text": [
            "epoch: 88 validation: roc_auc_score: 0.9990501702819606\n"
          ]
        },
        {
          "name": "stderr",
          "output_type": "stream",
          "text": [
            "100%|██████████| 53/53 [00:00<00:00, 166.50it/s]\n",
            "100%|██████████| 53/53 [00:00<00:00, 482.52it/s]\n"
          ]
        },
        {
          "name": "stdout",
          "output_type": "stream",
          "text": [
            "epoch: 89 validation: roc_auc_score: 0.9999806213627789\n"
          ]
        },
        {
          "name": "stderr",
          "output_type": "stream",
          "text": [
            "100%|██████████| 53/53 [00:00<00:00, 127.80it/s]\n",
            "100%|██████████| 53/53 [00:00<00:00, 468.79it/s]\n"
          ]
        },
        {
          "name": "stdout",
          "output_type": "stream",
          "text": [
            "epoch: 90 validation: roc_auc_score: 0.9887265018395759\n"
          ]
        },
        {
          "name": "stderr",
          "output_type": "stream",
          "text": [
            "100%|██████████| 53/53 [00:00<00:00, 165.58it/s]\n",
            "100%|██████████| 53/53 [00:00<00:00, 464.88it/s]\n"
          ]
        },
        {
          "name": "stdout",
          "output_type": "stream",
          "text": [
            "epoch: 91 validation: roc_auc_score: 0.9903598252287353\n"
          ]
        },
        {
          "name": "stderr",
          "output_type": "stream",
          "text": [
            "100%|██████████| 53/53 [00:00<00:00, 156.25it/s]\n",
            "100%|██████████| 53/53 [00:00<00:00, 472.31it/s]\n"
          ]
        },
        {
          "name": "stdout",
          "output_type": "stream",
          "text": [
            "epoch: 92 validation: roc_auc_score: 0.9939580005785701\n"
          ]
        },
        {
          "name": "stderr",
          "output_type": "stream",
          "text": [
            "100%|██████████| 53/53 [00:00<00:00, 165.40it/s]\n",
            "100%|██████████| 53/53 [00:00<00:00, 489.65it/s]\n"
          ]
        },
        {
          "name": "stdout",
          "output_type": "stream",
          "text": [
            "epoch: 93 validation: roc_auc_score: 0.9996857583269475\n"
          ]
        },
        {
          "name": "stderr",
          "output_type": "stream",
          "text": [
            "100%|██████████| 53/53 [00:00<00:00, 159.30it/s]\n",
            "100%|██████████| 53/53 [00:00<00:00, 473.68it/s]\n"
          ]
        },
        {
          "name": "stdout",
          "output_type": "stream",
          "text": [
            "epoch: 94 validation: roc_auc_score: 0.9998680040715334\n"
          ]
        },
        {
          "name": "stderr",
          "output_type": "stream",
          "text": [
            "100%|██████████| 53/53 [00:00<00:00, 166.35it/s]\n",
            "100%|██████████| 53/53 [00:00<00:00, 478.23it/s]\n"
          ]
        },
        {
          "name": "stdout",
          "output_type": "stream",
          "text": [
            "epoch: 95 validation: roc_auc_score: 0.9989634833384113\n"
          ]
        },
        {
          "name": "stderr",
          "output_type": "stream",
          "text": [
            "100%|██████████| 53/53 [00:00<00:00, 162.31it/s]\n",
            "100%|██████████| 53/53 [00:00<00:00, 466.36it/s]\n"
          ]
        },
        {
          "name": "stdout",
          "output_type": "stream",
          "text": [
            "epoch: 96 validation: roc_auc_score: 0.998141225641582\n"
          ]
        },
        {
          "name": "stderr",
          "output_type": "stream",
          "text": [
            "100%|██████████| 53/53 [00:00<00:00, 167.60it/s]\n",
            "100%|██████████| 53/53 [00:00<00:00, 281.47it/s]\n"
          ]
        },
        {
          "name": "stdout",
          "output_type": "stream",
          "text": [
            "epoch: 97 validation: roc_auc_score: 0.9996545745893844\n"
          ]
        },
        {
          "name": "stderr",
          "output_type": "stream",
          "text": [
            "100%|██████████| 53/53 [00:00<00:00, 163.03it/s]\n",
            "100%|██████████| 53/53 [00:00<00:00, 473.01it/s]\n"
          ]
        },
        {
          "name": "stdout",
          "output_type": "stream",
          "text": [
            "epoch: 98 validation: roc_auc_score: 0.9999129884762987\n"
          ]
        },
        {
          "name": "stderr",
          "output_type": "stream",
          "text": [
            "100%|██████████| 53/53 [00:00<00:00, 164.81it/s]\n",
            "100%|██████████| 53/53 [00:00<00:00, 469.64it/s]"
          ]
        },
        {
          "name": "stdout",
          "output_type": "stream",
          "text": [
            "epoch: 99 validation: roc_auc_score: 0.9996495736507468\n"
          ]
        },
        {
          "name": "stderr",
          "output_type": "stream",
          "text": [
            "\n"
          ]
        }
      ],
      "source": [
        "criterion = torch.nn.BCELoss()\n",
        "model = StackedDeepCrossNetworkModel(field_dims, embed_dim, num_layers=3, mlp_dims=(16, 16), dropout=0.2).to(device)\n",
        "optimizer = torch.optim.Adam(params=model.parameters(), lr=learning_rate, amsgrad=True, weight_decay=weight_decay)\n",
        "\n",
        "for epoch in range(epochs):\n",
        "    train(model, optimizer, r_train_dataloader, criterion, device)\n",
        "    auc_score = test(model, r_train_dataloader, device)\n",
        "    print('epoch:', epoch, 'validation: roc_auc_score:', auc_score)"
      ]
    },
    {
      "cell_type": "code",
      "execution_count": null,
      "metadata": {
        "colab": {
          "base_uri": "https://localhost:8080/"
        },
        "id": "7aYjSN1-2nob",
        "outputId": "d32db645-4606-4dc4-b2dd-c7ed838e1802"
      },
      "outputs": [
        {
          "name": "stderr",
          "output_type": "stream",
          "text": [
            "100%|██████████| 14/14 [00:00<00:00, 458.59it/s]\n"
          ]
        },
        {
          "data": {
            "text/plain": [
              "0.7146135661428352"
            ]
          },
          "execution_count": 26,
          "metadata": {},
          "output_type": "execute_result"
        }
      ],
      "source": [
        "test(model, r_test_dataloader, device)"
      ]
    },
    {
      "cell_type": "markdown",
      "metadata": {
        "id": "A5QslNkSWJdq"
      },
      "source": [
        "<font color='red'><b>**WARNING**</b></font> : **본 교육 콘텐츠의 지식재산권은 재단법인 네이버커넥트에 귀속됩니다. 본 콘텐츠를 어떠한 경로로든 외부로 유출 및 수정하는 행위를 엄격히 금합니다.** 다만, 비영리적 교육 및 연구활동에 한정되어 사용할 수 있으나 재단의 허락을 받아야 합니다. 이를 위반하는 경우, 관련 법률에 따라 책임을 질 수 있습니다.\n",
        "\n"
      ]
    }
  ],
  "metadata": {
    "colab": {
      "machine_shape": "hm",
      "provenance": [],
      "toc_visible": true
    },
    "gpuClass": "standard",
    "kernelspec": {
      "display_name": "Python 3",
      "name": "python3"
    },
    "language_info": {
      "name": "python"
    }
  },
  "nbformat": 4,
  "nbformat_minor": 0
}
