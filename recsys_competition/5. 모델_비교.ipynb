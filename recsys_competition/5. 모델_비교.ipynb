{
  "cells": [
    {
      "cell_type": "markdown",
      "metadata": {
        "id": "B6GUVgX1Bwtd"
      },
      "source": [
        "# [0] 미션 설명\n",
        "\n",
        "이번 시간에는 모델들을 구현하고 결과를 평가 돌리고 성능을 비교해 보는 과정을 진행합니다\n",
        "\n",
        "\n",
        "> **학습 목표**  \n",
        "> 직접 코드를 돌려보고 성능을 확인하면서 강의에서 다룬 이론적 내용과 장단점을 직접 경험한다."
      ]
    },
    {
      "cell_type": "markdown",
      "source": [
        "RecSys 기초 대회 강의에서는 Book Crossing 데이터를 사용하여, 모든 실습 및 미션, 대회를 진행합니다. [Kaggle Book-Crossing](https://www.kaggle.com/datasets/ruchi798/bookcrossing-dataset) 을 출처로 하며, 데이터는 재구성되어 제공되었습니다. 해당 데이터는 CC0: Public Domain 라이센스임을 밝힙니다."
      ],
      "metadata": {
        "id": "VyeC2aJgRxIo"
      }
    },
    {
      "cell_type": "code",
      "execution_count": null,
      "metadata": {
        "id": "K8RN0KCoWiTX"
      },
      "outputs": [],
      "source": [
        "import pandas as pd\n",
        "import numpy as np\n",
        "import torch\n",
        "import torch.nn as nn\n",
        "import torch.nn.functional as F\n",
        "from torch.utils.data import TensorDataset, DataLoader, Dataset\n",
        "from torch.autograd import Variable\n",
        "import math\n",
        "import tqdm\n",
        "import pdb\n",
        "from scipy.sparse import csr_matrix, linalg\n",
        "from sklearn.model_selection import train_test_split\n",
        "from sklearn.metrics import mean_squared_error\n",
        "import warnings\n",
        "\n",
        "warnings.filterwarnings(action='ignore')"
      ]
    },
    {
      "cell_type": "markdown",
      "metadata": {
        "id": "4IN_-XueWvCq"
      },
      "source": [
        "# [1] 데이터 불러오기"
      ]
    },
    {
      "cell_type": "markdown",
      "metadata": {
        "id": "MgqSKx36wmm5"
      },
      "source": [
        "지정된 경로에 미리 샘플링해 만들어놓은 데이터를 불러옵니다"
      ]
    },
    {
      "cell_type": "code",
      "execution_count": null,
      "metadata": {
        "colab": {
          "base_uri": "https://localhost:8080/"
        },
        "id": "crhi2OgIWuQV",
        "outputId": "f9d93774-1808-47de-ed41-98f83c4664b3"
      },
      "outputs": [
        {
          "output_type": "stream",
          "name": "stdout",
          "text": [
            "--2022-10-19 16:44:13--  https://docs.google.com/uc?export=download&confirm=&id=17Zbpx_Yn0ggLFVeijUalcnOUt5mCHeEH\n",
            "Resolving docs.google.com (docs.google.com)... 108.177.125.101, 108.177.125.139, 108.177.125.138, ...\n",
            "Connecting to docs.google.com (docs.google.com)|108.177.125.101|:443... connected.\n",
            "HTTP request sent, awaiting response... 303 See Other\n",
            "Location: https://doc-08-58-docs.googleusercontent.com/docs/securesc/ha0ro937gcuc7l7deffksulhg5h7mbp1/t2p9nk9l0mlo0qru5ifi33j61n0qtl6q/1666197825000/01233170983161563057/*/17Zbpx_Yn0ggLFVeijUalcnOUt5mCHeEH?e=download&uuid=dd8bd239-abf3-4924-aa5c-49c878b778ab [following]\n",
            "Warning: wildcards not supported in HTTP.\n",
            "--2022-10-19 16:44:15--  https://doc-08-58-docs.googleusercontent.com/docs/securesc/ha0ro937gcuc7l7deffksulhg5h7mbp1/t2p9nk9l0mlo0qru5ifi33j61n0qtl6q/1666197825000/01233170983161563057/*/17Zbpx_Yn0ggLFVeijUalcnOUt5mCHeEH?e=download&uuid=dd8bd239-abf3-4924-aa5c-49c878b778ab\n",
            "Resolving doc-08-58-docs.googleusercontent.com (doc-08-58-docs.googleusercontent.com)... 142.250.157.132, 2404:6800:4008:c13::84\n",
            "Connecting to doc-08-58-docs.googleusercontent.com (doc-08-58-docs.googleusercontent.com)|142.250.157.132|:443... connected.\n",
            "HTTP request sent, awaiting response... 200 OK\n",
            "Length: 569681 (556K) [text/csv]\n",
            "Saving to: ‘users.csv’\n",
            "\n",
            "users.csv           100%[===================>] 556.33K  --.-KB/s    in 0.005s  \n",
            "\n",
            "2022-10-19 16:44:15 (110 MB/s) - ‘users.csv’ saved [569681/569681]\n",
            "\n",
            "--2022-10-19 16:44:20--  https://docs.google.com/uc?export=download&confirm=&id=1JIxWPgC8JJkuZaWjk5FJBBKuqSX87HGE\n",
            "Resolving docs.google.com (docs.google.com)... 108.177.125.101, 108.177.125.139, 108.177.125.138, ...\n",
            "Connecting to docs.google.com (docs.google.com)|108.177.125.101|:443... connected.\n",
            "HTTP request sent, awaiting response... 303 See Other\n",
            "Location: https://doc-04-58-docs.googleusercontent.com/docs/securesc/ha0ro937gcuc7l7deffksulhg5h7mbp1/7tubicvetb58gbipuafiiigsqrcr7o35/1666197825000/01233170983161563057/*/1JIxWPgC8JJkuZaWjk5FJBBKuqSX87HGE?e=download&uuid=4d33499c-3bc5-42ba-b116-a75103d433e9 [following]\n",
            "Warning: wildcards not supported in HTTP.\n",
            "--2022-10-19 16:44:21--  https://doc-04-58-docs.googleusercontent.com/docs/securesc/ha0ro937gcuc7l7deffksulhg5h7mbp1/7tubicvetb58gbipuafiiigsqrcr7o35/1666197825000/01233170983161563057/*/1JIxWPgC8JJkuZaWjk5FJBBKuqSX87HGE?e=download&uuid=4d33499c-3bc5-42ba-b116-a75103d433e9\n",
            "Resolving doc-04-58-docs.googleusercontent.com (doc-04-58-docs.googleusercontent.com)... 142.250.157.132, 2404:6800:4008:c13::84\n",
            "Connecting to doc-04-58-docs.googleusercontent.com (doc-04-58-docs.googleusercontent.com)|142.250.157.132|:443... connected.\n",
            "HTTP request sent, awaiting response... 200 OK\n",
            "Length: 8758042 (8.4M) [text/csv]\n",
            "Saving to: ‘books.csv’\n",
            "\n",
            "books.csv           100%[===================>]   8.35M  --.-KB/s    in 0.04s   \n",
            "\n",
            "2022-10-19 16:44:22 (208 MB/s) - ‘books.csv’ saved [8758042/8758042]\n",
            "\n",
            "--2022-10-19 16:44:23--  https://docs.google.com/uc?export=download&confirm=&id=1B-8lw3a1KPJdhFAMXP58a7taJjpDvfw6\n",
            "Resolving docs.google.com (docs.google.com)... 108.177.125.101, 108.177.125.139, 108.177.125.138, ...\n",
            "Connecting to docs.google.com (docs.google.com)|108.177.125.101|:443... connected.\n",
            "HTTP request sent, awaiting response... 303 See Other\n",
            "Location: https://doc-0k-58-docs.googleusercontent.com/docs/securesc/ha0ro937gcuc7l7deffksulhg5h7mbp1/r7bhodtmd96tvgt11tu46a30jvu0g3sb/1666197825000/01233170983161563057/*/1B-8lw3a1KPJdhFAMXP58a7taJjpDvfw6?e=download&uuid=369631b7-926f-4f9d-8d38-a066f54ffd3a [following]\n",
            "Warning: wildcards not supported in HTTP.\n",
            "--2022-10-19 16:44:24--  https://doc-0k-58-docs.googleusercontent.com/docs/securesc/ha0ro937gcuc7l7deffksulhg5h7mbp1/r7bhodtmd96tvgt11tu46a30jvu0g3sb/1666197825000/01233170983161563057/*/1B-8lw3a1KPJdhFAMXP58a7taJjpDvfw6?e=download&uuid=369631b7-926f-4f9d-8d38-a066f54ffd3a\n",
            "Resolving doc-0k-58-docs.googleusercontent.com (doc-0k-58-docs.googleusercontent.com)... 142.250.157.132, 2404:6800:4008:c13::84\n",
            "Connecting to doc-0k-58-docs.googleusercontent.com (doc-0k-58-docs.googleusercontent.com)|142.250.157.132|:443... connected.\n",
            "HTTP request sent, awaiting response... 200 OK\n",
            "Length: 3418379 (3.3M) [text/csv]\n",
            "Saving to: ‘ratings.csv’\n",
            "\n",
            "ratings.csv         100%[===================>]   3.26M  --.-KB/s    in 0.02s   \n",
            "\n",
            "2022-10-19 16:44:24 (171 MB/s) - ‘ratings.csv’ saved [3418379/3418379]\n",
            "\n"
          ]
        }
      ],
      "source": [
        "!wget --load-cookies ~/cookies.txt \"https://docs.google.com/uc?export=download&confirm=$(wget --quiet --save-cookies ~/cookies.txt --keep-session-cookies --no-check-certificate 'https://docs.google.com/uc?export=download&id=17Zbpx_Yn0ggLFVeijUalcnOUt5mCHeEH' -O- | sed -rn 's/.*confirm=([0-9A-Za-z_]+).*/\\1\\n/p')&id=17Zbpx_Yn0ggLFVeijUalcnOUt5mCHeEH\" -O users.csv && rm -rf ~/cookies.txt\n",
        "!wget --load-cookies ~/cookies.txt \"https://docs.google.com/uc?export=download&confirm=$(wget --quiet --save-cookies ~/cookies.txt --keep-session-cookies --no-check-certificate 'https://docs.google.com/uc?export=download&id=1JIxWPgC8JJkuZaWjk5FJBBKuqSX87HGE' -O- | sed -rn 's/.*confirm=([0-9A-Za-z_]+).*/\\1\\n/p')&id=1JIxWPgC8JJkuZaWjk5FJBBKuqSX87HGE\" -O books.csv && rm -rf ~/cookies.txt\n",
        "!wget --load-cookies ~/cookies.txt \"https://docs.google.com/uc?export=download&confirm=$(wget --quiet --save-cookies ~/cookies.txt --keep-session-cookies --no-check-certificate 'https://docs.google.com/uc?export=download&id=1B-8lw3a1KPJdhFAMXP58a7taJjpDvfw6' -O- | sed -rn 's/.*confirm=([0-9A-Za-z_]+).*/\\1\\n/p')&id=1B-8lw3a1KPJdhFAMXP58a7taJjpDvfw6\" -O ratings.csv && rm -rf ~/cookies.txt"
      ]
    },
    {
      "cell_type": "code",
      "execution_count": null,
      "metadata": {
        "id": "WikQpyvgWwoM"
      },
      "outputs": [],
      "source": [
        "books = pd.read_csv('./books.csv')\n",
        "users = pd.read_csv('./users.csv')\n",
        "ratings = pd.read_csv('./ratings.csv')"
      ]
    },
    {
      "cell_type": "markdown",
      "metadata": {
        "id": "hFXS3JuVm6bh"
      },
      "source": [
        "# [2] 데이터 가공하기"
      ]
    },
    {
      "cell_type": "markdown",
      "metadata": {
        "id": "Vms9ej0oQkBW"
      },
      "source": [
        "원활한 미션 진행을 위해 미션용 데이터 중에서도 일부 데이터만 샘플링하여 사용하겠습니다"
      ]
    },
    {
      "cell_type": "code",
      "execution_count": null,
      "metadata": {
        "id": "ftP-eUlyyhTN"
      },
      "outputs": [],
      "source": [
        "seed=42"
      ]
    },
    {
      "cell_type": "markdown",
      "metadata": {
        "id": "OPPdQzuPGWnL"
      },
      "source": [
        "books 데이터 일부가 isbn이 잘못된 것이 있어 url에 있는 isbn으로 대체합니다"
      ]
    },
    {
      "cell_type": "code",
      "execution_count": null,
      "metadata": {
        "id": "6K2e0sg6FilR"
      },
      "outputs": [],
      "source": [
        "books['isbn'] = books['img_url'].apply(lambda x: x.split('P/')[1][:10])"
      ]
    },
    {
      "cell_type": "markdown",
      "metadata": {
        "id": "eJYsjhyipGLZ"
      },
      "source": [
        "고유 번호인 user_id와 isbn 대신 사용하기 편하게 인덱싱 처리를 해줍니다"
      ]
    },
    {
      "cell_type": "code",
      "execution_count": null,
      "metadata": {
        "colab": {
          "base_uri": "https://localhost:8080/",
          "height": 424
        },
        "id": "hYqEbAwao0TR",
        "outputId": "902b52eb-9efe-40e7-bb37-55c172ccd94d"
      },
      "outputs": [
        {
          "output_type": "execute_result",
          "data": {
            "text/plain": [
              "        user_id   isbn  rating\n",
              "0             0      0       1\n",
              "1             0      1       5\n",
              "2             1      2       1\n",
              "3             1      3       7\n",
              "4             1      4       5\n",
              "...         ...    ...     ...\n",
              "164724    14109   8793       1\n",
              "164725    14109  16652       7\n",
              "164726    14109   2912       1\n",
              "164727    14109   3184       8\n",
              "164728    14109  16751       7\n",
              "\n",
              "[164729 rows x 3 columns]"
            ],
            "text/html": [
              "\n",
              "  <div id=\"df-c3b92099-259f-4e4d-8206-0b3acc859840\">\n",
              "    <div class=\"colab-df-container\">\n",
              "      <div>\n",
              "<style scoped>\n",
              "    .dataframe tbody tr th:only-of-type {\n",
              "        vertical-align: middle;\n",
              "    }\n",
              "\n",
              "    .dataframe tbody tr th {\n",
              "        vertical-align: top;\n",
              "    }\n",
              "\n",
              "    .dataframe thead th {\n",
              "        text-align: right;\n",
              "    }\n",
              "</style>\n",
              "<table border=\"1\" class=\"dataframe\">\n",
              "  <thead>\n",
              "    <tr style=\"text-align: right;\">\n",
              "      <th></th>\n",
              "      <th>user_id</th>\n",
              "      <th>isbn</th>\n",
              "      <th>rating</th>\n",
              "    </tr>\n",
              "  </thead>\n",
              "  <tbody>\n",
              "    <tr>\n",
              "      <th>0</th>\n",
              "      <td>0</td>\n",
              "      <td>0</td>\n",
              "      <td>1</td>\n",
              "    </tr>\n",
              "    <tr>\n",
              "      <th>1</th>\n",
              "      <td>0</td>\n",
              "      <td>1</td>\n",
              "      <td>5</td>\n",
              "    </tr>\n",
              "    <tr>\n",
              "      <th>2</th>\n",
              "      <td>1</td>\n",
              "      <td>2</td>\n",
              "      <td>1</td>\n",
              "    </tr>\n",
              "    <tr>\n",
              "      <th>3</th>\n",
              "      <td>1</td>\n",
              "      <td>3</td>\n",
              "      <td>7</td>\n",
              "    </tr>\n",
              "    <tr>\n",
              "      <th>4</th>\n",
              "      <td>1</td>\n",
              "      <td>4</td>\n",
              "      <td>5</td>\n",
              "    </tr>\n",
              "    <tr>\n",
              "      <th>...</th>\n",
              "      <td>...</td>\n",
              "      <td>...</td>\n",
              "      <td>...</td>\n",
              "    </tr>\n",
              "    <tr>\n",
              "      <th>164724</th>\n",
              "      <td>14109</td>\n",
              "      <td>8793</td>\n",
              "      <td>1</td>\n",
              "    </tr>\n",
              "    <tr>\n",
              "      <th>164725</th>\n",
              "      <td>14109</td>\n",
              "      <td>16652</td>\n",
              "      <td>7</td>\n",
              "    </tr>\n",
              "    <tr>\n",
              "      <th>164726</th>\n",
              "      <td>14109</td>\n",
              "      <td>2912</td>\n",
              "      <td>1</td>\n",
              "    </tr>\n",
              "    <tr>\n",
              "      <th>164727</th>\n",
              "      <td>14109</td>\n",
              "      <td>3184</td>\n",
              "      <td>8</td>\n",
              "    </tr>\n",
              "    <tr>\n",
              "      <th>164728</th>\n",
              "      <td>14109</td>\n",
              "      <td>16751</td>\n",
              "      <td>7</td>\n",
              "    </tr>\n",
              "  </tbody>\n",
              "</table>\n",
              "<p>164729 rows × 3 columns</p>\n",
              "</div>\n",
              "      <button class=\"colab-df-convert\" onclick=\"convertToInteractive('df-c3b92099-259f-4e4d-8206-0b3acc859840')\"\n",
              "              title=\"Convert this dataframe to an interactive table.\"\n",
              "              style=\"display:none;\">\n",
              "        \n",
              "  <svg xmlns=\"http://www.w3.org/2000/svg\" height=\"24px\"viewBox=\"0 0 24 24\"\n",
              "       width=\"24px\">\n",
              "    <path d=\"M0 0h24v24H0V0z\" fill=\"none\"/>\n",
              "    <path d=\"M18.56 5.44l.94 2.06.94-2.06 2.06-.94-2.06-.94-.94-2.06-.94 2.06-2.06.94zm-11 1L8.5 8.5l.94-2.06 2.06-.94-2.06-.94L8.5 2.5l-.94 2.06-2.06.94zm10 10l.94 2.06.94-2.06 2.06-.94-2.06-.94-.94-2.06-.94 2.06-2.06.94z\"/><path d=\"M17.41 7.96l-1.37-1.37c-.4-.4-.92-.59-1.43-.59-.52 0-1.04.2-1.43.59L10.3 9.45l-7.72 7.72c-.78.78-.78 2.05 0 2.83L4 21.41c.39.39.9.59 1.41.59.51 0 1.02-.2 1.41-.59l7.78-7.78 2.81-2.81c.8-.78.8-2.07 0-2.86zM5.41 20L4 18.59l7.72-7.72 1.47 1.35L5.41 20z\"/>\n",
              "  </svg>\n",
              "      </button>\n",
              "      \n",
              "  <style>\n",
              "    .colab-df-container {\n",
              "      display:flex;\n",
              "      flex-wrap:wrap;\n",
              "      gap: 12px;\n",
              "    }\n",
              "\n",
              "    .colab-df-convert {\n",
              "      background-color: #E8F0FE;\n",
              "      border: none;\n",
              "      border-radius: 50%;\n",
              "      cursor: pointer;\n",
              "      display: none;\n",
              "      fill: #1967D2;\n",
              "      height: 32px;\n",
              "      padding: 0 0 0 0;\n",
              "      width: 32px;\n",
              "    }\n",
              "\n",
              "    .colab-df-convert:hover {\n",
              "      background-color: #E2EBFA;\n",
              "      box-shadow: 0px 1px 2px rgba(60, 64, 67, 0.3), 0px 1px 3px 1px rgba(60, 64, 67, 0.15);\n",
              "      fill: #174EA6;\n",
              "    }\n",
              "\n",
              "    [theme=dark] .colab-df-convert {\n",
              "      background-color: #3B4455;\n",
              "      fill: #D2E3FC;\n",
              "    }\n",
              "\n",
              "    [theme=dark] .colab-df-convert:hover {\n",
              "      background-color: #434B5C;\n",
              "      box-shadow: 0px 1px 3px 1px rgba(0, 0, 0, 0.15);\n",
              "      filter: drop-shadow(0px 1px 2px rgba(0, 0, 0, 0.3));\n",
              "      fill: #FFFFFF;\n",
              "    }\n",
              "  </style>\n",
              "\n",
              "      <script>\n",
              "        const buttonEl =\n",
              "          document.querySelector('#df-c3b92099-259f-4e4d-8206-0b3acc859840 button.colab-df-convert');\n",
              "        buttonEl.style.display =\n",
              "          google.colab.kernel.accessAllowed ? 'block' : 'none';\n",
              "\n",
              "        async function convertToInteractive(key) {\n",
              "          const element = document.querySelector('#df-c3b92099-259f-4e4d-8206-0b3acc859840');\n",
              "          const dataTable =\n",
              "            await google.colab.kernel.invokeFunction('convertToInteractive',\n",
              "                                                     [key], {});\n",
              "          if (!dataTable) return;\n",
              "\n",
              "          const docLinkHtml = 'Like what you see? Visit the ' +\n",
              "            '<a target=\"_blank\" href=https://colab.research.google.com/notebooks/data_table.ipynb>data table notebook</a>'\n",
              "            + ' to learn more about interactive tables.';\n",
              "          element.innerHTML = '';\n",
              "          dataTable['output_type'] = 'display_data';\n",
              "          await google.colab.output.renderOutput(dataTable, element);\n",
              "          const docLink = document.createElement('div');\n",
              "          docLink.innerHTML = docLinkHtml;\n",
              "          element.appendChild(docLink);\n",
              "        }\n",
              "      </script>\n",
              "    </div>\n",
              "  </div>\n",
              "  "
            ]
          },
          "metadata": {},
          "execution_count": 62
        }
      ],
      "source": [
        "user2idx = {v:k for k,v in enumerate(ratings['user_id'].unique())}\n",
        "book2idx = {v:k for k,v in enumerate(ratings['isbn'].unique())}\n",
        "\n",
        "ratings['isbn'] = ratings['isbn'].map(book2idx)\n",
        "ratings['user_id'] = ratings['user_id'].map(user2idx)\n",
        "ratings"
      ]
    },
    {
      "cell_type": "markdown",
      "metadata": {
        "id": "phiMYxK9qZLm"
      },
      "source": [
        "Train, Test를 스플릿 해주겠습니다\n",
        "\n",
        "- 전체 데이터셋에서는 A유저가 a, b, c 책을 평가했어도 Train 데이터에 a, b만 있고 c는 Test 데이터에 있다면 c는 평가하지 않은 것으로 생각합니다!\n",
        "- ratings 데이터에서 6:2:2 로 train:valid:test split을 하고 나눠진 데이터를 행렬 형태와 데이터프레임 형태 두 가지 저장해두겠습니다"
      ]
    },
    {
      "cell_type": "code",
      "execution_count": null,
      "metadata": {
        "id": "TvbojpG-xApu"
      },
      "outputs": [],
      "source": [
        "X_train, X_test_tmp, y_train, y_test_tmp = train_test_split(ratings[['user_id', 'isbn']], ratings['rating'], test_size=0.4, random_state=seed)\n",
        "X_valid, X_test, y_valid, y_test = train_test_split(X_test_tmp, y_test_tmp, test_size=0.5, random_state=seed)"
      ]
    },
    {
      "cell_type": "code",
      "execution_count": null,
      "metadata": {
        "id": "yXVZ2Bb8yCBI"
      },
      "outputs": [],
      "source": [
        "train = np.zeros((len(user2idx), len(book2idx)))\n",
        "valid = np.zeros((len(user2idx), len(book2idx)))\n",
        "test = np.zeros((len(user2idx), len(book2idx)))"
      ]
    },
    {
      "cell_type": "code",
      "source": [
        "train.shape"
      ],
      "metadata": {
        "colab": {
          "base_uri": "https://localhost:8080/"
        },
        "id": "eBTrLBoa1cSF",
        "outputId": "0e333d74-9f6b-4167-95fa-d765fc84a4bb"
      },
      "execution_count": null,
      "outputs": [
        {
          "output_type": "execute_result",
          "data": {
            "text/plain": [
              "(14110, 20871)"
            ]
          },
          "metadata": {},
          "execution_count": 71
        }
      ]
    },
    {
      "cell_type": "markdown",
      "metadata": {
        "id": "5BqFfg5IMtae"
      },
      "source": [
        "train, valid, test 데이터로 나눈 것을 행렬 형태로 변형합니다  \n",
        "pivot_table을 이용해 변형하지 않는 이유는 각 데이터에 포함되지 않는 user_id 혹은 isbn이 있을 수 있기 때문입니다"
      ]
    },
    {
      "cell_type": "code",
      "execution_count": null,
      "metadata": {
        "id": "P12GZauyzTSK"
      },
      "outputs": [],
      "source": [
        "def df_to_arr(X: pd.DataFrame, y: pd.Series, arr: np.ndarray) -> np.ndarray:\n",
        "  for i, value in enumerate(X.values):\n",
        "    arr[value[0], value[1]] += y.values[i]\n",
        "  \n",
        "  return arr"
      ]
    },
    {
      "cell_type": "code",
      "execution_count": null,
      "metadata": {
        "id": "EIqobsIIzKui"
      },
      "outputs": [],
      "source": [
        "train = df_to_arr(X_train, y_train, train)\n",
        "valid = df_to_arr(X_valid, y_valid, valid)\n",
        "test = df_to_arr(X_test, y_test, test)"
      ]
    },
    {
      "cell_type": "markdown",
      "metadata": {
        "id": "A8XdwOi6bYwR"
      },
      "source": [
        "FM/FFM용 데이터를 가공해줍니다  \n",
        "- FM/FFM용 데이터는 index 형태로 한 컬럼에 표현합니다"
      ]
    },
    {
      "cell_type": "code",
      "execution_count": null,
      "metadata": {
        "id": "-xxokrpfcG5c"
      },
      "outputs": [],
      "source": [
        "def age_map(x: int) -> int:\n",
        "    x = int(x)\n",
        "    if x < 20:\n",
        "        return 1\n",
        "    elif x >= 20 and x < 30:\n",
        "        return 2\n",
        "    elif x >= 30 and x < 40:\n",
        "        return 3\n",
        "    elif x >= 40 and x < 50:\n",
        "        return 4\n",
        "    elif x >= 50 and x < 60:\n",
        "        return 5\n",
        "    else:\n",
        "        return 6"
      ]
    },
    {
      "cell_type": "code",
      "execution_count": null,
      "metadata": {
        "colab": {
          "base_uri": "https://localhost:8080/",
          "height": 424
        },
        "id": "Qdwwy1byeBBy",
        "outputId": "49b22d78-0652-43dc-8cea-2f5debf42068"
      },
      "outputs": [
        {
          "output_type": "execute_result",
          "data": {
            "text/plain": [
              "        user_id   isbn  rating  age  location_city  location_state  \\\n",
              "0             0      0       1    3              0               0   \n",
              "1             0      1       5    3              0               0   \n",
              "2             1      2       1    3              1               1   \n",
              "3             1      3       7    3              1               1   \n",
              "4             1      4       5    3              1               1   \n",
              "...         ...    ...     ...  ...            ...             ...   \n",
              "164724    14109   8793       1    3             14              11   \n",
              "164725    14109  16652       7    3             14              11   \n",
              "164726    14109   2912       1    3             14              11   \n",
              "164727    14109   3184       8    3             14              11   \n",
              "164728    14109  16751       7    3             14              11   \n",
              "\n",
              "        location_country  language  \n",
              "0                      0         0  \n",
              "1                      0         0  \n",
              "2                      1         0  \n",
              "3                      1         0  \n",
              "4                      1         1  \n",
              "...                  ...       ...  \n",
              "164724                 1         1  \n",
              "164725                 1         1  \n",
              "164726                 1         0  \n",
              "164727                 1         0  \n",
              "164728                 1         0  \n",
              "\n",
              "[164729 rows x 8 columns]"
            ],
            "text/html": [
              "\n",
              "  <div id=\"df-c2c45dc3-70bf-44e6-9fdf-c4cc1c5f2b7d\">\n",
              "    <div class=\"colab-df-container\">\n",
              "      <div>\n",
              "<style scoped>\n",
              "    .dataframe tbody tr th:only-of-type {\n",
              "        vertical-align: middle;\n",
              "    }\n",
              "\n",
              "    .dataframe tbody tr th {\n",
              "        vertical-align: top;\n",
              "    }\n",
              "\n",
              "    .dataframe thead th {\n",
              "        text-align: right;\n",
              "    }\n",
              "</style>\n",
              "<table border=\"1\" class=\"dataframe\">\n",
              "  <thead>\n",
              "    <tr style=\"text-align: right;\">\n",
              "      <th></th>\n",
              "      <th>user_id</th>\n",
              "      <th>isbn</th>\n",
              "      <th>rating</th>\n",
              "      <th>age</th>\n",
              "      <th>location_city</th>\n",
              "      <th>location_state</th>\n",
              "      <th>location_country</th>\n",
              "      <th>language</th>\n",
              "    </tr>\n",
              "  </thead>\n",
              "  <tbody>\n",
              "    <tr>\n",
              "      <th>0</th>\n",
              "      <td>0</td>\n",
              "      <td>0</td>\n",
              "      <td>1</td>\n",
              "      <td>3</td>\n",
              "      <td>0</td>\n",
              "      <td>0</td>\n",
              "      <td>0</td>\n",
              "      <td>0</td>\n",
              "    </tr>\n",
              "    <tr>\n",
              "      <th>1</th>\n",
              "      <td>0</td>\n",
              "      <td>1</td>\n",
              "      <td>5</td>\n",
              "      <td>3</td>\n",
              "      <td>0</td>\n",
              "      <td>0</td>\n",
              "      <td>0</td>\n",
              "      <td>0</td>\n",
              "    </tr>\n",
              "    <tr>\n",
              "      <th>2</th>\n",
              "      <td>1</td>\n",
              "      <td>2</td>\n",
              "      <td>1</td>\n",
              "      <td>3</td>\n",
              "      <td>1</td>\n",
              "      <td>1</td>\n",
              "      <td>1</td>\n",
              "      <td>0</td>\n",
              "    </tr>\n",
              "    <tr>\n",
              "      <th>3</th>\n",
              "      <td>1</td>\n",
              "      <td>3</td>\n",
              "      <td>7</td>\n",
              "      <td>3</td>\n",
              "      <td>1</td>\n",
              "      <td>1</td>\n",
              "      <td>1</td>\n",
              "      <td>0</td>\n",
              "    </tr>\n",
              "    <tr>\n",
              "      <th>4</th>\n",
              "      <td>1</td>\n",
              "      <td>4</td>\n",
              "      <td>5</td>\n",
              "      <td>3</td>\n",
              "      <td>1</td>\n",
              "      <td>1</td>\n",
              "      <td>1</td>\n",
              "      <td>1</td>\n",
              "    </tr>\n",
              "    <tr>\n",
              "      <th>...</th>\n",
              "      <td>...</td>\n",
              "      <td>...</td>\n",
              "      <td>...</td>\n",
              "      <td>...</td>\n",
              "      <td>...</td>\n",
              "      <td>...</td>\n",
              "      <td>...</td>\n",
              "      <td>...</td>\n",
              "    </tr>\n",
              "    <tr>\n",
              "      <th>164724</th>\n",
              "      <td>14109</td>\n",
              "      <td>8793</td>\n",
              "      <td>1</td>\n",
              "      <td>3</td>\n",
              "      <td>14</td>\n",
              "      <td>11</td>\n",
              "      <td>1</td>\n",
              "      <td>1</td>\n",
              "    </tr>\n",
              "    <tr>\n",
              "      <th>164725</th>\n",
              "      <td>14109</td>\n",
              "      <td>16652</td>\n",
              "      <td>7</td>\n",
              "      <td>3</td>\n",
              "      <td>14</td>\n",
              "      <td>11</td>\n",
              "      <td>1</td>\n",
              "      <td>1</td>\n",
              "    </tr>\n",
              "    <tr>\n",
              "      <th>164726</th>\n",
              "      <td>14109</td>\n",
              "      <td>2912</td>\n",
              "      <td>1</td>\n",
              "      <td>3</td>\n",
              "      <td>14</td>\n",
              "      <td>11</td>\n",
              "      <td>1</td>\n",
              "      <td>0</td>\n",
              "    </tr>\n",
              "    <tr>\n",
              "      <th>164727</th>\n",
              "      <td>14109</td>\n",
              "      <td>3184</td>\n",
              "      <td>8</td>\n",
              "      <td>3</td>\n",
              "      <td>14</td>\n",
              "      <td>11</td>\n",
              "      <td>1</td>\n",
              "      <td>0</td>\n",
              "    </tr>\n",
              "    <tr>\n",
              "      <th>164728</th>\n",
              "      <td>14109</td>\n",
              "      <td>16751</td>\n",
              "      <td>7</td>\n",
              "      <td>3</td>\n",
              "      <td>14</td>\n",
              "      <td>11</td>\n",
              "      <td>1</td>\n",
              "      <td>0</td>\n",
              "    </tr>\n",
              "  </tbody>\n",
              "</table>\n",
              "<p>164729 rows × 8 columns</p>\n",
              "</div>\n",
              "      <button class=\"colab-df-convert\" onclick=\"convertToInteractive('df-c2c45dc3-70bf-44e6-9fdf-c4cc1c5f2b7d')\"\n",
              "              title=\"Convert this dataframe to an interactive table.\"\n",
              "              style=\"display:none;\">\n",
              "        \n",
              "  <svg xmlns=\"http://www.w3.org/2000/svg\" height=\"24px\"viewBox=\"0 0 24 24\"\n",
              "       width=\"24px\">\n",
              "    <path d=\"M0 0h24v24H0V0z\" fill=\"none\"/>\n",
              "    <path d=\"M18.56 5.44l.94 2.06.94-2.06 2.06-.94-2.06-.94-.94-2.06-.94 2.06-2.06.94zm-11 1L8.5 8.5l.94-2.06 2.06-.94-2.06-.94L8.5 2.5l-.94 2.06-2.06.94zm10 10l.94 2.06.94-2.06 2.06-.94-2.06-.94-.94-2.06-.94 2.06-2.06.94z\"/><path d=\"M17.41 7.96l-1.37-1.37c-.4-.4-.92-.59-1.43-.59-.52 0-1.04.2-1.43.59L10.3 9.45l-7.72 7.72c-.78.78-.78 2.05 0 2.83L4 21.41c.39.39.9.59 1.41.59.51 0 1.02-.2 1.41-.59l7.78-7.78 2.81-2.81c.8-.78.8-2.07 0-2.86zM5.41 20L4 18.59l7.72-7.72 1.47 1.35L5.41 20z\"/>\n",
              "  </svg>\n",
              "      </button>\n",
              "      \n",
              "  <style>\n",
              "    .colab-df-container {\n",
              "      display:flex;\n",
              "      flex-wrap:wrap;\n",
              "      gap: 12px;\n",
              "    }\n",
              "\n",
              "    .colab-df-convert {\n",
              "      background-color: #E8F0FE;\n",
              "      border: none;\n",
              "      border-radius: 50%;\n",
              "      cursor: pointer;\n",
              "      display: none;\n",
              "      fill: #1967D2;\n",
              "      height: 32px;\n",
              "      padding: 0 0 0 0;\n",
              "      width: 32px;\n",
              "    }\n",
              "\n",
              "    .colab-df-convert:hover {\n",
              "      background-color: #E2EBFA;\n",
              "      box-shadow: 0px 1px 2px rgba(60, 64, 67, 0.3), 0px 1px 3px 1px rgba(60, 64, 67, 0.15);\n",
              "      fill: #174EA6;\n",
              "    }\n",
              "\n",
              "    [theme=dark] .colab-df-convert {\n",
              "      background-color: #3B4455;\n",
              "      fill: #D2E3FC;\n",
              "    }\n",
              "\n",
              "    [theme=dark] .colab-df-convert:hover {\n",
              "      background-color: #434B5C;\n",
              "      box-shadow: 0px 1px 3px 1px rgba(0, 0, 0, 0.15);\n",
              "      filter: drop-shadow(0px 1px 2px rgba(0, 0, 0, 0.3));\n",
              "      fill: #FFFFFF;\n",
              "    }\n",
              "  </style>\n",
              "\n",
              "      <script>\n",
              "        const buttonEl =\n",
              "          document.querySelector('#df-c2c45dc3-70bf-44e6-9fdf-c4cc1c5f2b7d button.colab-df-convert');\n",
              "        buttonEl.style.display =\n",
              "          google.colab.kernel.accessAllowed ? 'block' : 'none';\n",
              "\n",
              "        async function convertToInteractive(key) {\n",
              "          const element = document.querySelector('#df-c2c45dc3-70bf-44e6-9fdf-c4cc1c5f2b7d');\n",
              "          const dataTable =\n",
              "            await google.colab.kernel.invokeFunction('convertToInteractive',\n",
              "                                                     [key], {});\n",
              "          if (!dataTable) return;\n",
              "\n",
              "          const docLinkHtml = 'Like what you see? Visit the ' +\n",
              "            '<a target=\"_blank\" href=https://colab.research.google.com/notebooks/data_table.ipynb>data table notebook</a>'\n",
              "            + ' to learn more about interactive tables.';\n",
              "          element.innerHTML = '';\n",
              "          dataTable['output_type'] = 'display_data';\n",
              "          await google.colab.output.renderOutput(dataTable, element);\n",
              "          const docLink = document.createElement('div');\n",
              "          docLink.innerHTML = docLinkHtml;\n",
              "          element.appendChild(docLink);\n",
              "        }\n",
              "      </script>\n",
              "    </div>\n",
              "  </div>\n",
              "  "
            ]
          },
          "metadata": {},
          "execution_count": 73
        }
      ],
      "source": [
        "users['location_city'] = users['location'].apply(lambda x: x.split(',')[0])\n",
        "users['location_state'] = users['location'].apply(lambda x: x.split(',')[1])\n",
        "users['location_country'] = users['location'].apply(lambda x: x.split(',')[2])\n",
        "users = users.drop(['location'], axis=1)\n",
        "\n",
        "# ratings는 user2idx로 인덱싱 처리해줬기 때문에 users에도 진행\n",
        "users_context = users.copy()\n",
        "users_context['user_id'] = users_context['user_id'].map(user2idx)\n",
        "\n",
        "# ratings는 \bbook2idx로 인덱싱 처리해줬기 때문에 books에도 진행\n",
        "books_context = books.copy()\n",
        "books_context['isbn'] = books_context['isbn'].map(book2idx)\n",
        "\n",
        "# 인덱싱 처리된 데이터 조인\n",
        "context_df = ratings.merge(users_context, on='user_id', how='left').merge(books_context[['isbn', 'language']], on='isbn', how='left')\n",
        "\n",
        "# 인덱싱 처리합니다\n",
        "loc_city2idx = {v:k for k,v in enumerate(context_df['location_city'].unique())}\n",
        "loc_state2idx = {v:k for k,v in enumerate(context_df['location_state'].unique())}\n",
        "loc_country2idx = {v:k for k,v in enumerate(context_df['location_country'].unique())}\n",
        "context_df['location_city'] = context_df['location_city'].map(loc_city2idx)\n",
        "context_df['location_state'] = context_df['location_state'].map(loc_state2idx)\n",
        "context_df['location_country'] = context_df['location_country'].map(loc_country2idx)\n",
        "\n",
        "context_df['age'] = context_df['age'].fillna(int(context_df['age'].mean()))\n",
        "context_df['age'] = context_df['age'].apply(age_map)\n",
        "\n",
        "language2idx = {v:k for k,v in enumerate(context_df['language'].unique())}\n",
        "context_df['language'] = context_df['language'].map(language2idx)\n",
        "\n",
        "context_df"
      ]
    },
    {
      "cell_type": "code",
      "execution_count": null,
      "metadata": {
        "id": "vmugdfM2gY5P"
      },
      "outputs": [],
      "source": [
        "X_train_context, X_test_tmp_context, y_train_context, y_test_tmp_context = train_test_split(context_df.drop(['rating'], axis=1), context_df['rating'], test_size=0.4, random_state=seed)\n",
        "X_valid_context, X_test_context, y_valid_context, y_test_context = train_test_split(X_test_tmp_context, y_test_tmp_context, test_size=0.5, random_state=seed)"
      ]
    },
    {
      "cell_type": "markdown",
      "metadata": {
        "id": "ejFXb_tbw9NT"
      },
      "source": [
        "원활한 RAM 사용을 위해 사용하지 않는 변수를 제거합니다"
      ]
    },
    {
      "cell_type": "code",
      "execution_count": null,
      "metadata": {
        "id": "-Wl2Gj0rTW2f"
      },
      "outputs": [],
      "source": [
        "del ratings, users, books"
      ]
    },
    {
      "cell_type": "markdown",
      "metadata": {
        "id": "QKwZy-FgPgGO"
      },
      "source": [
        "RMSE(Root Mean Square Error)를 구할 수 있는 함수를 만들고,   \n",
        "0점보다 낮게 예측값이 나온 경우 0으로 10점보다 높게 예측값이 나온 경우 10점으로 하겠습니다"
      ]
    },
    {
      "cell_type": "code",
      "execution_count": null,
      "metadata": {
        "id": "WtZ-hdly-imj"
      },
      "outputs": [],
      "source": [
        "def rmse(real: list, predict: list) -> float:\n",
        "  pred = np.array(predict)\n",
        "  pred[np.where(pred < 0)] = 0\n",
        "  pred[np.where(pred > 10)] = 10\n",
        "  \n",
        "  return np.sqrt(np.mean((real-pred) ** 2))"
      ]
    },
    {
      "cell_type": "code",
      "execution_count": null,
      "metadata": {
        "id": "CBHB8TlrDFcB"
      },
      "outputs": [],
      "source": [
        "def modify_range(rating: float) -> float:\n",
        "  if rating < 0:\n",
        "    return 0\n",
        "  elif rating > 10:\n",
        "    return 10\n",
        "  else:\n",
        "    return rating"
      ]
    },
    {
      "cell_type": "code",
      "execution_count": null,
      "metadata": {
        "id": "wWg1nQeo_EB8"
      },
      "outputs": [],
      "source": [
        "def matrix_rmse(real_mat: np.ndarray, predict_mat: np.ndarray) -> float:\n",
        "  indicator = np.stack(real_mat.nonzero(), axis=1)\n",
        "  \n",
        "  cost = 0\n",
        "  for i, ind in enumerate(indicator):\n",
        "    pred = predict_mat[ind[0], ind[1]]\n",
        "    real = real_mat[ind[0], ind[1]]\n",
        "    cost += pow(real - modify_range(pred), 2)\n",
        "\n",
        "  return np.sqrt(cost/ len(indicator)) "
      ]
    },
    {
      "cell_type": "markdown",
      "metadata": {
        "id": "uuqR1Zxqq5dt"
      },
      "source": [
        "# [3] 미션"
      ]
    },
    {
      "cell_type": "markdown",
      "metadata": {
        "id": "laVf0Ejaq_Fd"
      },
      "source": [
        "## SVD"
      ]
    },
    {
      "cell_type": "markdown",
      "metadata": {
        "id": "MtMbAcrlobwG"
      },
      "source": [
        "SVD를 이용해 평가해보도록 하겠습니다\n",
        "- SVD 중 Full SVD는 기존 행렬을 복원하기에 추천과는 무의미하므로 Truncated SVD를 사용해보겠습니다"
      ]
    },
    {
      "cell_type": "code",
      "execution_count": null,
      "metadata": {
        "id": "MDk13lr1q-q8"
      },
      "outputs": [],
      "source": [
        "def truncated_svd(mat: np.ndarray, k: int=100):\n",
        "  u, s, vh = linalg.svds(csr_matrix(train), k)\n",
        "  return u @ np.diag(s) @ vh"
      ]
    },
    {
      "cell_type": "code",
      "source": [
        "svd_output2 = truncated_svd(train, k=2)\n",
        "svd_output5 = truncated_svd(train, k=5)\n",
        "svd_output10 = truncated_svd(train, k=10)"
      ],
      "metadata": {
        "id": "H7o7xrl8vZBW"
      },
      "execution_count": null,
      "outputs": []
    },
    {
      "cell_type": "code",
      "execution_count": null,
      "metadata": {
        "colab": {
          "base_uri": "https://localhost:8080/"
        },
        "id": "1_0B7ZUH-B1p",
        "outputId": "d3a190b8-41d4-4296-90bd-63478e8d5d8b"
      },
      "outputs": [
        {
          "output_type": "stream",
          "name": "stdout",
          "text": [
            "k=2 :  6.982625105161013\n",
            "k=5 :  6.964931540028439\n",
            "k=10 :  6.955595642810603\n"
          ]
        }
      ],
      "source": [
        "print(\"k=2 : \", matrix_rmse(test, svd_output2))\n",
        "print(\"k=5 : \", matrix_rmse(test, svd_output5))\n",
        "print(\"k=10 : \", matrix_rmse(test, svd_output10))"
      ]
    },
    {
      "cell_type": "markdown",
      "metadata": {
        "id": "1RmA4yfYpjeY"
      },
      "source": [
        "SVD는 y 값에 맞춰 훈련한 Latent Factor가 아니고\n",
        "\n",
        "행렬 분해를 통해 차원 축소하는 기법에 가깝기 때문에 성능이 좋지 않은 것을 볼 수 있습니다"
      ]
    },
    {
      "cell_type": "markdown",
      "metadata": {
        "id": "ZPaiQzo4EoKT"
      },
      "source": [
        "## MF"
      ]
    },
    {
      "cell_type": "code",
      "execution_count": null,
      "metadata": {
        "id": "n0YlVb4FEpK-"
      },
      "outputs": [],
      "source": [
        "class MatrixFactorization:\n",
        "    def __init__(self, R: np.ndarray, k: int, lr: float, regularization: float, epochs: int, verbose: bool =False) -> None:\n",
        "        \"\"\"\n",
        "        :param R: rating matrix\n",
        "        :param k: latent parameter\n",
        "        :param lr: learning rate\n",
        "        :param regularization: regularization term for update\n",
        "        :param epochs: training epochs\n",
        "        :param verbose: print status\n",
        "        \"\"\"\n",
        "\n",
        "        self._R = csr_matrix(R)\n",
        "        self._ind, self._col = self._R.nonzero()\n",
        "        self._n_users, self._n_items = R.shape\n",
        "        self._k = k\n",
        "        self._lr = lr\n",
        "        self._regularization = regularization\n",
        "        self._epochs = epochs\n",
        "        self._verbose = verbose\n",
        "\n",
        "\n",
        "    def fit(self) -> None:\n",
        "\n",
        "        # latent features\n",
        "        self._P = np.random.normal(size=(self._n_users, self._k))\n",
        "        self._Q = np.random.normal(size=(self._n_items, self._k))\n",
        "\n",
        "        # biases\n",
        "        self._bu = np.zeros(self._n_users)\n",
        "        self._bi = np.zeros(self._n_items)\n",
        "        self._b = np.mean(self._R[self._R.nonzero()])\n",
        "\n",
        "        # train while epochs\n",
        "        self._training_process = []\n",
        "        for epoch in range(self._epochs):\n",
        "\n",
        "            for i in range(len(self._ind)):\n",
        "              self.gradient_descent(self._ind[i], self._col[i], self._R[self._ind[i], self._col[i]])\n",
        "            cost = self.cost()\n",
        "            self._training_process.append((epoch, cost))\n",
        "\n",
        "            # print status\n",
        "            if self._verbose == True and ((epoch + 1) % 1 == 0):\n",
        "                print(\"Iteration: %d ; cost = %.4f\" % (epoch + 1, cost))\n",
        "\n",
        "\n",
        "    def cost(self) -> None:\n",
        "        \"\"\"\n",
        "        compute root mean square error\n",
        "        :return: rmse cost\n",
        "        \"\"\"\n",
        "\n",
        "        # xi, yi: R[xi, yi]는 nonzero인 value를 의미한다.\n",
        "        xi, yi = self._R.nonzero()\n",
        "        # predicted = self.complete_matrix()\n",
        "        cost = 0\n",
        "        for x, y in zip(xi, yi):\n",
        "            cost += pow(self._R[x, y] - self.predict(x, y), 2)\n",
        "        return np.sqrt(cost / len(xi))\n",
        "\n",
        "\n",
        "    def gradient(self, error: float, i: int, j: int) -> tuple:\n",
        "        \"\"\"\n",
        "        gradient of latent feature for GD\n",
        "\n",
        "        :param error: rating - prediction error\n",
        "        :param i: user index\n",
        "        :param j: item index\n",
        "        :return: gradient of latent feature tuple\n",
        "        \"\"\"\n",
        "\n",
        "        dp = (error * self._Q[j, :]) - (self._regularization * self._P[i, :])\n",
        "        dq = (error * self._P[i, :]) - (self._regularization * self._Q[j, :])\n",
        "        return dp, dq\n",
        "\n",
        "\n",
        "    def gradient_descent(self, i: int, j: int, rating: int) -> None:\n",
        "        \"\"\"\n",
        "        graident descent function\n",
        "\n",
        "        :param i: user index of matrix\n",
        "        :param j: item index of matrix\n",
        "        :param rating: rating of (i,j)\n",
        "        \"\"\"\n",
        "\n",
        "        # get error\n",
        "        prediction = self.predict(i, j)\n",
        "        error = rating - prediction\n",
        "\n",
        "        # update biases\n",
        "        self._bu[i] += self._lr * (error - self._regularization * self._bu[i])\n",
        "        self._bi[j] += self._lr * (error - self._regularization * self._bi[j])\n",
        "\n",
        "        # update latent feature\n",
        "        dp, dq = self.gradient(error, i, j)\n",
        "        self._P[i, :] += self._lr * dp\n",
        "        self._Q[j, :] += self._lr * dq\n",
        "\n",
        "\n",
        "    def predict(self, i: int, j: int) -> float:\n",
        "        \"\"\"\n",
        "        get predicted rating: user_i, item_j\n",
        "        :return: prediction of r_ij\n",
        "        \"\"\"\n",
        "        return self._b + self._bu[i] + self._bi[j] + (csr_matrix(self._P[i, :]).dot(csr_matrix(self._Q[j, :].T).T)).toarray().reshape(-1)[0]\n",
        "\n",
        "\n",
        "    def complete_matrix(self) -> np.ndarray:\n",
        "        \"\"\"\n",
        "        computer complete matrix PXQ + P.bias + Q.bias + global bias\n",
        "\n",
        "        - PXQ 행렬에 _bu[:, np.newaxis]를 더하는 것은 각 열마다 bias를 더해주는 것\n",
        "        - _bi[np.newaxis:, ]를 더하는 것은 각 행마다 bias를 더해주는 것\n",
        "        - b를 더하는 것은 각 element마다 bias를 더해주는 것\n",
        "\n",
        "        - newaxis: 차원을 추가해줌. 1차원인 Latent들로 2차원의 R에 행/열 단위 연산을 해주기위해 차원을 추가하는 것.\n",
        "\n",
        "        :return: complete matrix R^\n",
        "        \"\"\"\n",
        "        return self._b + self._bu[:, np.newaxis] + self._bi[np.newaxis:, ] + (csr_matrix(self._P).dot(csr_matrix(self._Q.T))).toarray().reshape(-1)[0]\n"
      ]
    },
    {
      "cell_type": "code",
      "execution_count": null,
      "metadata": {
        "id": "-a8UeMFDEw6U",
        "colab": {
          "base_uri": "https://localhost:8080/"
        },
        "outputId": "8ef70938-7f87-4737-9bd1-d84143cf8b61"
      },
      "outputs": [
        {
          "output_type": "stream",
          "name": "stdout",
          "text": [
            "Iteration: 1 ; cost = 5.1086\n",
            "Iteration: 2 ; cost = 4.9495\n",
            "Iteration: 3 ; cost = 4.8493\n",
            "Iteration: 4 ; cost = 4.7851\n",
            "Iteration: 5 ; cost = 4.7446\n",
            "Iteration: 6 ; cost = 4.7206\n",
            "Iteration: 7 ; cost = 4.7089\n",
            "Iteration: 8 ; cost = 4.7065\n",
            "Iteration: 9 ; cost = 4.7116\n",
            "Iteration: 10 ; cost = 4.7227\n"
          ]
        },
        {
          "output_type": "execute_result",
          "data": {
            "text/plain": [
              "array([[ 9.24645479, 10.46988758,  9.75366269, ...,  9.49956015,\n",
              "         9.89476271, 10.28093395],\n",
              "       [ 8.50274883,  9.72618162,  9.00995673, ...,  8.75585419,\n",
              "         9.15105675,  9.53722798],\n",
              "       [ 9.16950315, 10.39293594,  9.67671104, ...,  9.42260851,\n",
              "         9.81781106, 10.2039823 ],\n",
              "       ...,\n",
              "       [ 8.85479183, 10.07822462,  9.36199972, ...,  9.10789719,\n",
              "         9.50309974,  9.88927098],\n",
              "       [ 8.76483742,  9.98827021,  9.27204531, ...,  9.01794278,\n",
              "         9.41314533,  9.79931657],\n",
              "       [ 8.84594847, 10.06938126,  9.35315637, ...,  9.09905383,\n",
              "         9.49425639,  9.88042763]])"
            ]
          },
          "metadata": {},
          "execution_count": 48
        }
      ],
      "source": [
        "mf = MatrixFactorization(train, k=3, lr=0.01, regularization=0.01, epochs=10, verbose=True)\n",
        "mf.fit()\n",
        "mf.complete_matrix()"
      ]
    },
    {
      "cell_type": "code",
      "execution_count": null,
      "metadata": {
        "id": "TJv7A4F8LCOZ",
        "colab": {
          "base_uri": "https://localhost:8080/"
        },
        "outputId": "2ecced0b-dceb-4a98-f8af-f0cbc3225576"
      },
      "outputs": [
        {
          "output_type": "stream",
          "name": "stdout",
          "text": [
            "mf :  4.667692780977086\n"
          ]
        }
      ],
      "source": [
        "print(\"mf : \", matrix_rmse(test, mf.complete_matrix()))"
      ]
    },
    {
      "cell_type": "markdown",
      "metadata": {
        "id": "mUXhXINyPKvj"
      },
      "source": [
        "MF는 SVD에 비해 개선되었을 뿐 아니라 결과값이 좋은 것을 확인할 수 있습니다"
      ]
    },
    {
      "cell_type": "markdown",
      "metadata": {
        "id": "3VU5T4aiOfz5"
      },
      "source": [
        "## ALS"
      ]
    },
    {
      "cell_type": "code",
      "execution_count": null,
      "metadata": {
        "id": "kL_PjN2vNupM"
      },
      "outputs": [],
      "source": [
        "class AlternatingLeastSquares:\n",
        "    def __init__(self, R: np.ndarray, k: int, regularization: float, epochs: int, verbose: bool =False) -> None:\n",
        "        \"\"\"\n",
        "        :param R: rating matrix\n",
        "        :param k: latent parameter\n",
        "        :param regularization: regularization term for update\n",
        "        :param epochs: training epochs\n",
        "        :param verbose: print status\n",
        "        \"\"\"\n",
        "        self._R = csr_matrix(R)\n",
        "        self._ind, self._col = self._R.nonzero()\n",
        "        self._n_users, self._n_items = R.shape\n",
        "        self._k = k\n",
        "        self._regularization = regularization\n",
        "        self._epochs = epochs\n",
        "        self._verbose = verbose\n",
        "\n",
        "\n",
        "    def fit(self) -> None:\n",
        "        # init latent features\n",
        "        self._users = np.random.normal(size=(self._n_users, self._k))\n",
        "        self._items = np.random.normal(size=(self._n_items, self._k))\n",
        "\n",
        "        # train while epochs\n",
        "        self._training_process = []\n",
        "        self._user_error = 0; self._item_error = 0; \n",
        "        for epoch in range(self._epochs):\n",
        "            for i, Ri in enumerate(self._R):\n",
        "                self._users[i] = self.user_latent(Ri)\n",
        "\n",
        "            for j, Rj in enumerate(self._R.T):\n",
        "                self._items[j] = self.item_latent(Rj)\n",
        "\n",
        "            cost = self.cost()\n",
        "            self._training_process.append((epoch, cost))\n",
        "\n",
        "            # print status\n",
        "            if self._verbose == True and ((epoch + 1) % 1 == 0):\n",
        "                print(\"Iteration: %d ; cost = %.4f\" % (epoch + 1, cost))\n",
        "\n",
        "\n",
        "    def cost(self) -> float:\n",
        "        \"\"\"\n",
        "        compute root mean square error\n",
        "        :return: rmse cost\n",
        "        \"\"\"\n",
        "        cost = 0\n",
        "        for x, y in zip(self._ind, self._col):\n",
        "            cost += pow(self._R[x, y] - self.predict(x, y), 2)\n",
        "        return np.sqrt(cost / len(self._ind))\n",
        "\n",
        "\n",
        "    def user_latent(self, Ri: csr_matrix) -> np.ndarray:\n",
        "        \"\"\"\n",
        "        :param i: user index\n",
        "        :param Ri: Rating of user index i\n",
        "        :return: convergence value of user latent of i index\n",
        "        \"\"\"\n",
        "        du = linalg.spsolve((self._items.T @ (self._items)) + \n",
        "                            self._regularization * np.eye(self._k),\n",
        "                            self._items.T @ (Ri.T)\n",
        "                            ).T\n",
        "        return du\n",
        "\n",
        "    def item_latent(self, Rj: csr_matrix) -> np.ndarray:\n",
        "        \"\"\"\n",
        "        :param j: item index\n",
        "        :param Rj: Rating of item index j\n",
        "        :return: convergence value of itemr latent of j index\n",
        "        \"\"\"\n",
        "\n",
        "        di = linalg.spsolve((self._users.T @ self._users) + \n",
        "                            self._regularization * np.eye(self._k),\n",
        "                            self._users.T @ (Rj.T)\n",
        "                            ).T\n",
        "        return di\n",
        "\n",
        "\n",
        "    def predict(self, i: int, j: int) -> float:\n",
        "        \"\"\"\n",
        "        get predicted rating: user_i, item_j\n",
        "        :return: prediction of r_ij\n",
        "        \"\"\"\n",
        "        return self._users[i, :].dot(self._items[j, :].T)\n",
        "\n",
        "\n",
        "    def complete_matrix(self) -> np.ndarray:\n",
        "        \"\"\"\n",
        "        :return: complete matrix R^\n",
        "        \"\"\"\n",
        "        return self._users.dot(self._items.T)"
      ]
    },
    {
      "cell_type": "code",
      "execution_count": null,
      "metadata": {
        "id": "HpSBH2vQOhMX",
        "colab": {
          "base_uri": "https://localhost:8080/"
        },
        "outputId": "771788a8-ae91-49e1-906e-ab5b25c4bd49"
      },
      "outputs": [
        {
          "output_type": "stream",
          "name": "stdout",
          "text": [
            "Iteration: 1 ; cost = 6.9775\n",
            "Iteration: 2 ; cost = 6.8765\n",
            "Iteration: 3 ; cost = 6.8666\n",
            "Iteration: 4 ; cost = 6.8631\n",
            "Iteration: 5 ; cost = 6.8607\n",
            "Iteration: 6 ; cost = 6.8584\n",
            "Iteration: 7 ; cost = 6.8558\n",
            "Iteration: 8 ; cost = 6.8536\n",
            "Iteration: 9 ; cost = 6.8520\n",
            "Iteration: 10 ; cost = 6.8510\n"
          ]
        },
        {
          "output_type": "execute_result",
          "data": {
            "text/plain": [
              "array([[-1.20888568e-07,  3.23376885e-03, -2.87718478e-05, ...,\n",
              "         3.10664864e-07, -1.94117205e-08, -6.53690895e-06],\n",
              "       [ 6.90859843e-07,  4.00761727e-03,  1.26352055e-04, ...,\n",
              "         3.87271605e-07,  5.18761658e-08,  1.65226262e-05],\n",
              "       [ 9.59983721e-07,  3.35240032e-03,  2.07935379e-04, ...,\n",
              "         3.11629066e-07,  7.68408726e-08,  2.60015667e-05],\n",
              "       ...,\n",
              "       [ 9.60437509e-06,  2.42331446e-03,  2.12934670e-03, ...,\n",
              "         1.27012248e-07,  8.50627666e-07,  2.88840462e-04],\n",
              "       [ 3.40984848e-07, -1.93916546e-04,  6.85929780e-05, ...,\n",
              "        -1.89221732e-08,  3.12133516e-08,  1.02555153e-05],\n",
              "       [ 2.51252277e-06, -1.71299374e-03,  5.12436079e-04, ...,\n",
              "        -1.69801061e-07,  2.30496562e-07,  7.60561280e-05]])"
            ]
          },
          "metadata": {},
          "execution_count": 80
        }
      ],
      "source": [
        "als = AlternatingLeastSquares(train, k=3, regularization=0.01, epochs=10, verbose=True)\n",
        "als.fit()\n",
        "als.complete_matrix()"
      ]
    },
    {
      "cell_type": "code",
      "source": [
        "print(\"als : \", matrix_rmse(test, als.complete_matrix()))"
      ],
      "metadata": {
        "id": "MQu9rYSM5Jyl",
        "colab": {
          "base_uri": "https://localhost:8080/"
        },
        "outputId": "fc0961c0-d69f-4ba7-d6d5-40f219be8265"
      },
      "execution_count": null,
      "outputs": [
        {
          "output_type": "stream",
          "name": "stdout",
          "text": [
            "als :  6.973062646056052\n"
          ]
        }
      ]
    },
    {
      "cell_type": "markdown",
      "metadata": {
        "id": "RdzzmtGNgNWx"
      },
      "source": [
        "## FM"
      ]
    },
    {
      "cell_type": "markdown",
      "metadata": {
        "id": "GNiQep5aPdgl"
      },
      "source": [
        "FM은 원래 제안된 모델은 0/1로 결과를 내지만 마지막 sigmoid 변환을 제거하고 시도해봤습니다"
      ]
    },
    {
      "cell_type": "code",
      "execution_count": null,
      "metadata": {
        "id": "pF4MHZ5f0Peq"
      },
      "outputs": [],
      "source": [
        "def train_fm(model: type, optimizer: torch.optim, data_loader: DataLoader, criterion: torch.nn, device: str, log_interval: int=100) -> None:\n",
        "    model.train()\n",
        "    total_loss = 0\n",
        "    tk0 = tqdm.tqdm(data_loader, smoothing=0, mininterval=1.0)\n",
        "    for i, (fields, target) in enumerate(tk0):\n",
        "        fields, target = fields.to(device), target.to(device)\n",
        "        y = model(fields)\n",
        "        loss = criterion(y, target.float())\n",
        "        model.zero_grad()\n",
        "        loss.backward()\n",
        "        optimizer.step()\n",
        "        total_loss += loss.item()\n",
        "        if (i + 1) % log_interval == 0:\n",
        "            tk0.set_postfix(loss=total_loss / log_interval)\n",
        "            total_loss = 0\n",
        "\n",
        "def test_fm(model: type, data_loader: DataLoader, device: str) -> float:\n",
        "    model.eval()\n",
        "    targets, predicts = list(), list()\n",
        "    with torch.no_grad():\n",
        "        for fields, target in tqdm.tqdm(data_loader, smoothing=0, mininterval=1.0):\n",
        "            fields, target = fields.to(device), target.to(device)\n",
        "            y = model(fields)\n",
        "            targets.extend(target.tolist())\n",
        "            predicts.extend(y.tolist())\n",
        "    # return roc_auc_score(targets, predicts)\n",
        "    return rmse(targets, predicts)"
      ]
    },
    {
      "cell_type": "code",
      "execution_count": null,
      "metadata": {
        "id": "cH9AyPF4glzK"
      },
      "outputs": [],
      "source": [
        "class FactorizationMachine(nn.Module):\n",
        "\n",
        "    def __init__(self, reduce_sum:bool=True):\n",
        "        super().__init__()\n",
        "        self.reduce_sum = reduce_sum\n",
        "\n",
        "    def forward(self, x: torch.Tensor):\n",
        "        \"\"\"\n",
        "        :param x: Float tensor of size ``(batch_size, num_fields, embed_dim)``\n",
        "        \"\"\"\n",
        "        square_of_sum = torch.sum(x, dim=1) ** 2\n",
        "        sum_of_square = torch.sum(x ** 2, dim=1)\n",
        "        ix = square_of_sum - sum_of_square\n",
        "        if self.reduce_sum:\n",
        "            ix = torch.sum(ix, dim=1, keepdim=True)\n",
        "        return 0.5 * ix"
      ]
    },
    {
      "cell_type": "code",
      "execution_count": null,
      "metadata": {
        "id": "wP0ESK3HglwB"
      },
      "outputs": [],
      "source": [
        "class FeaturesEmbedding(nn.Module):\n",
        "\n",
        "    def __init__(self, field_dims: np.ndarray, embed_dim: int):\n",
        "        super().__init__()\n",
        "        self.embedding = torch.nn.Embedding(sum(field_dims), embed_dim)\n",
        "        self.offsets = np.array((0, *np.cumsum(field_dims)[:-1]), dtype=np.long)\n",
        "        torch.nn.init.xavier_uniform_(self.embedding.weight.data)\n",
        "\n",
        "    def forward(self, x: torch.Tensor):\n",
        "        \"\"\"\n",
        "        :param x: Long tensor of size ``(batch_size, num_fields)``\n",
        "        \"\"\"\n",
        "        x = x + x.new_tensor(self.offsets).unsqueeze(0)\n",
        "        return self.embedding(x)"
      ]
    },
    {
      "cell_type": "code",
      "execution_count": null,
      "metadata": {
        "id": "CXvpqfxYglon"
      },
      "outputs": [],
      "source": [
        "class FeaturesLinear(nn.Module):\n",
        "\n",
        "    def __init__(self, field_dims: np.ndarray, output_dim: int=1):\n",
        "        super().__init__()\n",
        "        self.fc = torch.nn.Embedding(sum(field_dims), output_dim)\n",
        "        self.bias = torch.nn.Parameter(torch.zeros((output_dim,)))\n",
        "        self.offsets = np.array((0, *np.cumsum(field_dims)[:-1]), dtype=np.long)\n",
        "\n",
        "    def forward(self, x: torch.Tensor):\n",
        "        \"\"\"\n",
        "        :param x: Long tensor of size ``(batch_size, num_fields)``\n",
        "        \"\"\"\n",
        "        x = x + x.new_tensor(self.offsets).unsqueeze(0)\n",
        "        return torch.sum(self.fc(x), dim=1) + self.bias"
      ]
    },
    {
      "cell_type": "code",
      "execution_count": null,
      "metadata": {
        "id": "iRLzHRaxgSbO"
      },
      "outputs": [],
      "source": [
        "class FactorizationMachineModel(nn.Module):\n",
        "\n",
        "    def __init__(self, field_dims: np.ndarray, embed_dim: int):\n",
        "        super().__init__()\n",
        "        self.embedding = FeaturesEmbedding(field_dims, embed_dim)\n",
        "        self.linear = FeaturesLinear(field_dims)\n",
        "        self.fm = FactorizationMachine(reduce_sum=True)\n",
        "        self.output_linear = nn.Linear(1, 1, bias=False)\n",
        "\n",
        "    def forward(self, x: torch.Tensor):\n",
        "        \"\"\"\n",
        "        :param x: Long tensor of size ``(batch_size, num_fields)``\n",
        "        \"\"\"\n",
        "        x = self.linear(x) + self.fm(self.embedding(x))\n",
        "        # return torch.sigmoid(x.squeeze(1))\n",
        "        return x.squeeze(1)"
      ]
    },
    {
      "cell_type": "code",
      "execution_count": null,
      "metadata": {
        "id": "nO3Ay3R60tUn",
        "colab": {
          "base_uri": "https://localhost:8080/"
        },
        "outputId": "2ee0753d-12f6-42d5-bccc-ed28d965bb8d"
      },
      "outputs": [
        {
          "output_type": "stream",
          "name": "stdout",
          "text": [
            "cpu\n"
          ]
        }
      ],
      "source": [
        "######## Hyperparameter ########\n",
        "\n",
        "batch_size = 256\n",
        "data_shuffle = True\n",
        "embed_dim = 8\n",
        "epochs = 100\n",
        "learning_rate = 0.01\n",
        "weight_decay=1e-6\n",
        "gpu_idx = 0\n",
        "\n",
        "torch.manual_seed(seed)\n",
        "if torch.cuda.is_available():\n",
        "    torch.cuda.manual_seed_all(seed)\n",
        "    torch.backends.cudnn.deterministic = True\n",
        "\n",
        "device = torch.device(\"cuda:{}\".format(gpu_idx) if torch.cuda.is_available() else \"cpu\")\n",
        "print(device)"
      ]
    },
    {
      "cell_type": "code",
      "execution_count": null,
      "metadata": {
        "id": "LPgorYOfglQa"
      },
      "outputs": [],
      "source": [
        "# PyTorch의 DataLoader에서 사용할 수 있도록 변환 \n",
        "train_dataset = TensorDataset(torch.LongTensor(np.array(X_train_context)), torch.IntTensor(np.array(y_train)))\n",
        "valid_dataset = TensorDataset(torch.LongTensor(np.array(X_valid_context)), torch.IntTensor(np.array(y_valid)))\n",
        "test_dataset = TensorDataset(torch.LongTensor(np.array(X_test_context)), torch.IntTensor(np.array(y_test)))\n",
        "\n",
        "train_dataloader = DataLoader(train_dataset, batch_size=batch_size, shuffle=data_shuffle)\n",
        "valid_dataloader = DataLoader(valid_dataset, batch_size=batch_size, shuffle=data_shuffle)\n",
        "test_dataloader = DataLoader(test_dataset, batch_size=batch_size, shuffle=data_shuffle)"
      ]
    },
    {
      "cell_type": "code",
      "execution_count": null,
      "metadata": {
        "id": "8ilJWv69Q1sW",
        "colab": {
          "base_uri": "https://localhost:8080/"
        },
        "outputId": "a8e9a065-9b4b-42b9-c00a-f9a65fa3d72f"
      },
      "outputs": [
        {
          "output_type": "stream",
          "name": "stderr",
          "text": [
            "100%|██████████| 20/20 [00:00<00:00, 99.61it/s]\n",
            "100%|██████████| 7/7 [00:00<00:00, 441.31it/s]\n"
          ]
        },
        {
          "output_type": "stream",
          "name": "stdout",
          "text": [
            "epoch: 0 validation: rmse: 5.407682254188486\n"
          ]
        },
        {
          "output_type": "stream",
          "name": "stderr",
          "text": [
            "100%|██████████| 20/20 [00:00<00:00, 228.57it/s]\n",
            "100%|██████████| 7/7 [00:00<00:00, 426.29it/s]\n"
          ]
        },
        {
          "output_type": "stream",
          "name": "stdout",
          "text": [
            "epoch: 1 validation: rmse: 3.7913304863587247\n"
          ]
        },
        {
          "output_type": "stream",
          "name": "stderr",
          "text": [
            "100%|██████████| 20/20 [00:00<00:00, 230.79it/s]\n",
            "100%|██████████| 7/7 [00:00<00:00, 453.13it/s]\n"
          ]
        },
        {
          "output_type": "stream",
          "name": "stdout",
          "text": [
            "epoch: 2 validation: rmse: 3.814326501128399\n"
          ]
        },
        {
          "output_type": "stream",
          "name": "stderr",
          "text": [
            "100%|██████████| 20/20 [00:00<00:00, 254.67it/s]\n",
            "100%|██████████| 7/7 [00:00<00:00, 409.24it/s]\n"
          ]
        },
        {
          "output_type": "stream",
          "name": "stdout",
          "text": [
            "epoch: 3 validation: rmse: 3.6785202316028256\n"
          ]
        },
        {
          "output_type": "stream",
          "name": "stderr",
          "text": [
            "100%|██████████| 20/20 [00:00<00:00, 208.67it/s]\n",
            "100%|██████████| 7/7 [00:00<00:00, 297.55it/s]\n"
          ]
        },
        {
          "output_type": "stream",
          "name": "stdout",
          "text": [
            "epoch: 4 validation: rmse: 3.730616125616463\n"
          ]
        },
        {
          "output_type": "stream",
          "name": "stderr",
          "text": [
            "100%|██████████| 20/20 [00:00<00:00, 214.62it/s]\n",
            "100%|██████████| 7/7 [00:00<00:00, 476.32it/s]\n"
          ]
        },
        {
          "output_type": "stream",
          "name": "stdout",
          "text": [
            "epoch: 5 validation: rmse: 3.737225027399165\n"
          ]
        },
        {
          "output_type": "stream",
          "name": "stderr",
          "text": [
            "100%|██████████| 20/20 [00:00<00:00, 217.83it/s]\n",
            "100%|██████████| 7/7 [00:00<00:00, 438.92it/s]\n"
          ]
        },
        {
          "output_type": "stream",
          "name": "stdout",
          "text": [
            "epoch: 6 validation: rmse: 3.758667189019526\n"
          ]
        },
        {
          "output_type": "stream",
          "name": "stderr",
          "text": [
            "100%|██████████| 20/20 [00:00<00:00, 202.38it/s]\n",
            "100%|██████████| 7/7 [00:00<00:00, 380.47it/s]\n"
          ]
        },
        {
          "output_type": "stream",
          "name": "stdout",
          "text": [
            "epoch: 7 validation: rmse: 3.7763448044992205\n"
          ]
        },
        {
          "output_type": "stream",
          "name": "stderr",
          "text": [
            "100%|██████████| 20/20 [00:00<00:00, 226.33it/s]\n",
            "100%|██████████| 7/7 [00:00<00:00, 416.54it/s]\n"
          ]
        },
        {
          "output_type": "stream",
          "name": "stdout",
          "text": [
            "epoch: 8 validation: rmse: 3.808201160594672\n"
          ]
        },
        {
          "output_type": "stream",
          "name": "stderr",
          "text": [
            "100%|██████████| 20/20 [00:00<00:00, 219.94it/s]\n",
            "100%|██████████| 7/7 [00:00<00:00, 460.33it/s]\n"
          ]
        },
        {
          "output_type": "stream",
          "name": "stdout",
          "text": [
            "epoch: 9 validation: rmse: 3.8147862830588797\n"
          ]
        },
        {
          "output_type": "stream",
          "name": "stderr",
          "text": [
            "100%|██████████| 20/20 [00:00<00:00, 239.22it/s]\n",
            "100%|██████████| 7/7 [00:00<00:00, 435.00it/s]\n"
          ]
        },
        {
          "output_type": "stream",
          "name": "stdout",
          "text": [
            "epoch: 10 validation: rmse: 3.831486181750756\n"
          ]
        },
        {
          "output_type": "stream",
          "name": "stderr",
          "text": [
            "100%|██████████| 20/20 [00:00<00:00, 234.97it/s]\n",
            "100%|██████████| 7/7 [00:00<00:00, 462.63it/s]\n"
          ]
        },
        {
          "output_type": "stream",
          "name": "stdout",
          "text": [
            "epoch: 11 validation: rmse: 3.844232938701033\n"
          ]
        },
        {
          "output_type": "stream",
          "name": "stderr",
          "text": [
            "100%|██████████| 20/20 [00:00<00:00, 236.08it/s]\n",
            "100%|██████████| 7/7 [00:00<00:00, 388.51it/s]\n"
          ]
        },
        {
          "output_type": "stream",
          "name": "stdout",
          "text": [
            "epoch: 12 validation: rmse: 3.855861070974356\n"
          ]
        },
        {
          "output_type": "stream",
          "name": "stderr",
          "text": [
            "100%|██████████| 20/20 [00:00<00:00, 212.58it/s]\n",
            "100%|██████████| 7/7 [00:00<00:00, 406.64it/s]\n"
          ]
        },
        {
          "output_type": "stream",
          "name": "stdout",
          "text": [
            "epoch: 13 validation: rmse: 3.874597546496721\n"
          ]
        },
        {
          "output_type": "stream",
          "name": "stderr",
          "text": [
            "100%|██████████| 20/20 [00:00<00:00, 223.38it/s]\n",
            "100%|██████████| 7/7 [00:00<00:00, 424.38it/s]\n"
          ]
        },
        {
          "output_type": "stream",
          "name": "stdout",
          "text": [
            "epoch: 14 validation: rmse: 3.879337572497283\n"
          ]
        },
        {
          "output_type": "stream",
          "name": "stderr",
          "text": [
            "100%|██████████| 20/20 [00:00<00:00, 227.35it/s]\n",
            "100%|██████████| 7/7 [00:00<00:00, 413.46it/s]\n"
          ]
        },
        {
          "output_type": "stream",
          "name": "stdout",
          "text": [
            "epoch: 15 validation: rmse: 3.8931516131322397\n"
          ]
        },
        {
          "output_type": "stream",
          "name": "stderr",
          "text": [
            "100%|██████████| 20/20 [00:00<00:00, 239.53it/s]\n",
            "100%|██████████| 7/7 [00:00<00:00, 384.30it/s]\n"
          ]
        },
        {
          "output_type": "stream",
          "name": "stdout",
          "text": [
            "epoch: 16 validation: rmse: 3.9037061924733596\n"
          ]
        },
        {
          "output_type": "stream",
          "name": "stderr",
          "text": [
            "100%|██████████| 20/20 [00:00<00:00, 245.67it/s]\n",
            "100%|██████████| 7/7 [00:00<00:00, 382.10it/s]\n"
          ]
        },
        {
          "output_type": "stream",
          "name": "stdout",
          "text": [
            "epoch: 17 validation: rmse: 3.9127196646151807\n"
          ]
        },
        {
          "output_type": "stream",
          "name": "stderr",
          "text": [
            "100%|██████████| 20/20 [00:00<00:00, 237.73it/s]\n",
            "100%|██████████| 7/7 [00:00<00:00, 405.71it/s]\n"
          ]
        },
        {
          "output_type": "stream",
          "name": "stdout",
          "text": [
            "epoch: 18 validation: rmse: 3.9202132339140903\n"
          ]
        },
        {
          "output_type": "stream",
          "name": "stderr",
          "text": [
            "100%|██████████| 20/20 [00:00<00:00, 231.47it/s]\n",
            "100%|██████████| 7/7 [00:00<00:00, 426.42it/s]\n"
          ]
        },
        {
          "output_type": "stream",
          "name": "stdout",
          "text": [
            "epoch: 19 validation: rmse: 3.9318997759616217\n"
          ]
        },
        {
          "output_type": "stream",
          "name": "stderr",
          "text": [
            "100%|██████████| 20/20 [00:00<00:00, 215.02it/s]\n",
            "100%|██████████| 7/7 [00:00<00:00, 415.27it/s]\n"
          ]
        },
        {
          "output_type": "stream",
          "name": "stdout",
          "text": [
            "epoch: 20 validation: rmse: 3.933137002624359\n"
          ]
        },
        {
          "output_type": "stream",
          "name": "stderr",
          "text": [
            "100%|██████████| 20/20 [00:00<00:00, 209.33it/s]\n",
            "100%|██████████| 7/7 [00:00<00:00, 414.53it/s]\n"
          ]
        },
        {
          "output_type": "stream",
          "name": "stdout",
          "text": [
            "epoch: 21 validation: rmse: 3.947096330213175\n"
          ]
        },
        {
          "output_type": "stream",
          "name": "stderr",
          "text": [
            "100%|██████████| 20/20 [00:00<00:00, 234.38it/s]\n",
            "100%|██████████| 7/7 [00:00<00:00, 472.45it/s]\n"
          ]
        },
        {
          "output_type": "stream",
          "name": "stdout",
          "text": [
            "epoch: 22 validation: rmse: 3.950094944823998\n"
          ]
        },
        {
          "output_type": "stream",
          "name": "stderr",
          "text": [
            "100%|██████████| 20/20 [00:00<00:00, 238.80it/s]\n",
            "100%|██████████| 7/7 [00:00<00:00, 365.18it/s]\n"
          ]
        },
        {
          "output_type": "stream",
          "name": "stdout",
          "text": [
            "epoch: 23 validation: rmse: 3.959591896736254\n"
          ]
        },
        {
          "output_type": "stream",
          "name": "stderr",
          "text": [
            "100%|██████████| 20/20 [00:00<00:00, 214.15it/s]\n",
            "100%|██████████| 7/7 [00:00<00:00, 410.99it/s]\n"
          ]
        },
        {
          "output_type": "stream",
          "name": "stdout",
          "text": [
            "epoch: 24 validation: rmse: 3.956025611053299\n"
          ]
        },
        {
          "output_type": "stream",
          "name": "stderr",
          "text": [
            "100%|██████████| 20/20 [00:00<00:00, 218.39it/s]\n",
            "100%|██████████| 7/7 [00:00<00:00, 443.16it/s]\n"
          ]
        },
        {
          "output_type": "stream",
          "name": "stdout",
          "text": [
            "epoch: 25 validation: rmse: 3.9701516726644774\n"
          ]
        },
        {
          "output_type": "stream",
          "name": "stderr",
          "text": [
            "100%|██████████| 20/20 [00:00<00:00, 228.60it/s]\n",
            "100%|██████████| 7/7 [00:00<00:00, 451.18it/s]\n"
          ]
        },
        {
          "output_type": "stream",
          "name": "stdout",
          "text": [
            "epoch: 26 validation: rmse: 3.969741181118648\n"
          ]
        },
        {
          "output_type": "stream",
          "name": "stderr",
          "text": [
            "100%|██████████| 20/20 [00:00<00:00, 244.69it/s]\n",
            "100%|██████████| 7/7 [00:00<00:00, 433.74it/s]\n"
          ]
        },
        {
          "output_type": "stream",
          "name": "stdout",
          "text": [
            "epoch: 27 validation: rmse: 3.9762934811760355\n"
          ]
        },
        {
          "output_type": "stream",
          "name": "stderr",
          "text": [
            "100%|██████████| 20/20 [00:00<00:00, 120.25it/s]\n",
            "100%|██████████| 7/7 [00:00<00:00, 430.21it/s]\n"
          ]
        },
        {
          "output_type": "stream",
          "name": "stdout",
          "text": [
            "epoch: 28 validation: rmse: 3.9812961056277647\n"
          ]
        },
        {
          "output_type": "stream",
          "name": "stderr",
          "text": [
            "100%|██████████| 20/20 [00:00<00:00, 201.67it/s]\n",
            "100%|██████████| 7/7 [00:00<00:00, 441.91it/s]\n"
          ]
        },
        {
          "output_type": "stream",
          "name": "stdout",
          "text": [
            "epoch: 29 validation: rmse: 3.981729433970271\n"
          ]
        },
        {
          "output_type": "stream",
          "name": "stderr",
          "text": [
            "100%|██████████| 20/20 [00:00<00:00, 231.13it/s]\n",
            "100%|██████████| 7/7 [00:00<00:00, 391.88it/s]\n"
          ]
        },
        {
          "output_type": "stream",
          "name": "stdout",
          "text": [
            "epoch: 30 validation: rmse: 3.9915833203120283\n"
          ]
        },
        {
          "output_type": "stream",
          "name": "stderr",
          "text": [
            "100%|██████████| 20/20 [00:00<00:00, 245.56it/s]\n",
            "100%|██████████| 7/7 [00:00<00:00, 438.24it/s]\n"
          ]
        },
        {
          "output_type": "stream",
          "name": "stdout",
          "text": [
            "epoch: 31 validation: rmse: 3.990307060589058\n"
          ]
        },
        {
          "output_type": "stream",
          "name": "stderr",
          "text": [
            "100%|██████████| 20/20 [00:00<00:00, 234.84it/s]\n",
            "100%|██████████| 7/7 [00:00<00:00, 408.18it/s]\n"
          ]
        },
        {
          "output_type": "stream",
          "name": "stdout",
          "text": [
            "epoch: 32 validation: rmse: 3.9975453187428744\n"
          ]
        },
        {
          "output_type": "stream",
          "name": "stderr",
          "text": [
            "100%|██████████| 20/20 [00:00<00:00, 161.61it/s]\n",
            "100%|██████████| 7/7 [00:00<00:00, 386.03it/s]\n"
          ]
        },
        {
          "output_type": "stream",
          "name": "stdout",
          "text": [
            "epoch: 33 validation: rmse: 3.997993964695908\n"
          ]
        },
        {
          "output_type": "stream",
          "name": "stderr",
          "text": [
            "100%|██████████| 20/20 [00:00<00:00, 147.24it/s]\n",
            "100%|██████████| 7/7 [00:00<00:00, 257.13it/s]\n"
          ]
        },
        {
          "output_type": "stream",
          "name": "stdout",
          "text": [
            "epoch: 34 validation: rmse: 4.00450535500737\n"
          ]
        },
        {
          "output_type": "stream",
          "name": "stderr",
          "text": [
            "100%|██████████| 20/20 [00:00<00:00, 143.73it/s]\n",
            "100%|██████████| 7/7 [00:00<00:00, 331.12it/s]\n"
          ]
        },
        {
          "output_type": "stream",
          "name": "stdout",
          "text": [
            "epoch: 35 validation: rmse: 4.004693990817076\n"
          ]
        },
        {
          "output_type": "stream",
          "name": "stderr",
          "text": [
            "100%|██████████| 20/20 [00:00<00:00, 153.39it/s]\n",
            "100%|██████████| 7/7 [00:00<00:00, 283.37it/s]\n"
          ]
        },
        {
          "output_type": "stream",
          "name": "stdout",
          "text": [
            "epoch: 36 validation: rmse: 4.003215036686865\n"
          ]
        },
        {
          "output_type": "stream",
          "name": "stderr",
          "text": [
            "100%|██████████| 20/20 [00:00<00:00, 131.90it/s]\n",
            "100%|██████████| 7/7 [00:00<00:00, 132.18it/s]\n"
          ]
        },
        {
          "output_type": "stream",
          "name": "stdout",
          "text": [
            "epoch: 37 validation: rmse: 4.010793359717728\n"
          ]
        },
        {
          "output_type": "stream",
          "name": "stderr",
          "text": [
            "100%|██████████| 20/20 [00:00<00:00, 87.57it/s]\n",
            "100%|██████████| 7/7 [00:00<00:00, 431.93it/s]\n"
          ]
        },
        {
          "output_type": "stream",
          "name": "stdout",
          "text": [
            "epoch: 38 validation: rmse: 4.008293328519693\n"
          ]
        },
        {
          "output_type": "stream",
          "name": "stderr",
          "text": [
            "100%|██████████| 20/20 [00:00<00:00, 222.79it/s]\n",
            "100%|██████████| 7/7 [00:00<00:00, 405.94it/s]\n"
          ]
        },
        {
          "output_type": "stream",
          "name": "stdout",
          "text": [
            "epoch: 39 validation: rmse: 4.010600720556453\n"
          ]
        },
        {
          "output_type": "stream",
          "name": "stderr",
          "text": [
            "100%|██████████| 20/20 [00:00<00:00, 230.66it/s]\n",
            "100%|██████████| 7/7 [00:00<00:00, 350.39it/s]\n"
          ]
        },
        {
          "output_type": "stream",
          "name": "stdout",
          "text": [
            "epoch: 40 validation: rmse: 4.010733425498682\n"
          ]
        },
        {
          "output_type": "stream",
          "name": "stderr",
          "text": [
            "100%|██████████| 20/20 [00:00<00:00, 202.20it/s]\n",
            "100%|██████████| 7/7 [00:00<00:00, 275.40it/s]\n"
          ]
        },
        {
          "output_type": "stream",
          "name": "stdout",
          "text": [
            "epoch: 41 validation: rmse: 4.018150287407513\n"
          ]
        },
        {
          "output_type": "stream",
          "name": "stderr",
          "text": [
            "100%|██████████| 20/20 [00:00<00:00, 219.56it/s]\n",
            "100%|██████████| 7/7 [00:00<00:00, 364.51it/s]\n"
          ]
        },
        {
          "output_type": "stream",
          "name": "stdout",
          "text": [
            "epoch: 42 validation: rmse: 4.018509893106595\n"
          ]
        },
        {
          "output_type": "stream",
          "name": "stderr",
          "text": [
            "100%|██████████| 20/20 [00:00<00:00, 223.83it/s]\n",
            "100%|██████████| 7/7 [00:00<00:00, 370.59it/s]\n"
          ]
        },
        {
          "output_type": "stream",
          "name": "stdout",
          "text": [
            "epoch: 43 validation: rmse: 4.024425856026523\n"
          ]
        },
        {
          "output_type": "stream",
          "name": "stderr",
          "text": [
            "100%|██████████| 20/20 [00:00<00:00, 216.00it/s]\n",
            "100%|██████████| 7/7 [00:00<00:00, 412.88it/s]\n"
          ]
        },
        {
          "output_type": "stream",
          "name": "stdout",
          "text": [
            "epoch: 44 validation: rmse: 4.025320284002436\n"
          ]
        },
        {
          "output_type": "stream",
          "name": "stderr",
          "text": [
            "100%|██████████| 20/20 [00:00<00:00, 252.25it/s]\n",
            "100%|██████████| 7/7 [00:00<00:00, 402.13it/s]\n"
          ]
        },
        {
          "output_type": "stream",
          "name": "stdout",
          "text": [
            "epoch: 45 validation: rmse: 4.028153171467362\n"
          ]
        },
        {
          "output_type": "stream",
          "name": "stderr",
          "text": [
            "100%|██████████| 20/20 [00:00<00:00, 198.60it/s]\n",
            "100%|██████████| 7/7 [00:00<00:00, 380.64it/s]\n"
          ]
        },
        {
          "output_type": "stream",
          "name": "stdout",
          "text": [
            "epoch: 46 validation: rmse: 4.030270689965807\n"
          ]
        },
        {
          "output_type": "stream",
          "name": "stderr",
          "text": [
            "100%|██████████| 20/20 [00:00<00:00, 219.31it/s]\n",
            "100%|██████████| 7/7 [00:00<00:00, 416.90it/s]\n"
          ]
        },
        {
          "output_type": "stream",
          "name": "stdout",
          "text": [
            "epoch: 47 validation: rmse: 4.025623091014767\n"
          ]
        },
        {
          "output_type": "stream",
          "name": "stderr",
          "text": [
            "100%|██████████| 20/20 [00:00<00:00, 224.50it/s]\n",
            "100%|██████████| 7/7 [00:00<00:00, 277.86it/s]\n"
          ]
        },
        {
          "output_type": "stream",
          "name": "stdout",
          "text": [
            "epoch: 48 validation: rmse: 4.032306791323745\n"
          ]
        },
        {
          "output_type": "stream",
          "name": "stderr",
          "text": [
            "100%|██████████| 20/20 [00:00<00:00, 198.29it/s]\n",
            "100%|██████████| 7/7 [00:00<00:00, 378.34it/s]\n"
          ]
        },
        {
          "output_type": "stream",
          "name": "stdout",
          "text": [
            "epoch: 49 validation: rmse: 4.027745831411786\n"
          ]
        },
        {
          "output_type": "stream",
          "name": "stderr",
          "text": [
            "100%|██████████| 20/20 [00:00<00:00, 225.58it/s]\n",
            "100%|██████████| 7/7 [00:00<00:00, 472.56it/s]\n"
          ]
        },
        {
          "output_type": "stream",
          "name": "stdout",
          "text": [
            "epoch: 50 validation: rmse: 4.040821627550177\n"
          ]
        },
        {
          "output_type": "stream",
          "name": "stderr",
          "text": [
            "100%|██████████| 20/20 [00:00<00:00, 223.74it/s]\n",
            "100%|██████████| 7/7 [00:00<00:00, 349.64it/s]\n"
          ]
        },
        {
          "output_type": "stream",
          "name": "stdout",
          "text": [
            "epoch: 51 validation: rmse: 4.031630664070341\n"
          ]
        },
        {
          "output_type": "stream",
          "name": "stderr",
          "text": [
            "100%|██████████| 20/20 [00:00<00:00, 207.59it/s]\n",
            "100%|██████████| 7/7 [00:00<00:00, 404.60it/s]\n"
          ]
        },
        {
          "output_type": "stream",
          "name": "stdout",
          "text": [
            "epoch: 52 validation: rmse: 4.036665041607955\n"
          ]
        },
        {
          "output_type": "stream",
          "name": "stderr",
          "text": [
            "100%|██████████| 20/20 [00:00<00:00, 233.17it/s]\n",
            "100%|██████████| 7/7 [00:00<00:00, 374.88it/s]\n"
          ]
        },
        {
          "output_type": "stream",
          "name": "stdout",
          "text": [
            "epoch: 53 validation: rmse: 4.043917166573548\n"
          ]
        },
        {
          "output_type": "stream",
          "name": "stderr",
          "text": [
            "100%|██████████| 20/20 [00:00<00:00, 218.46it/s]\n",
            "100%|██████████| 7/7 [00:00<00:00, 388.79it/s]\n"
          ]
        },
        {
          "output_type": "stream",
          "name": "stdout",
          "text": [
            "epoch: 54 validation: rmse: 4.0374814554638565\n"
          ]
        },
        {
          "output_type": "stream",
          "name": "stderr",
          "text": [
            "100%|██████████| 20/20 [00:00<00:00, 209.17it/s]\n",
            "100%|██████████| 7/7 [00:00<00:00, 327.46it/s]\n"
          ]
        },
        {
          "output_type": "stream",
          "name": "stdout",
          "text": [
            "epoch: 55 validation: rmse: 4.033434111137018\n"
          ]
        },
        {
          "output_type": "stream",
          "name": "stderr",
          "text": [
            "100%|██████████| 20/20 [00:00<00:00, 181.82it/s]\n",
            "100%|██████████| 7/7 [00:00<00:00, 435.21it/s]\n"
          ]
        },
        {
          "output_type": "stream",
          "name": "stdout",
          "text": [
            "epoch: 56 validation: rmse: 4.044663194208719\n"
          ]
        },
        {
          "output_type": "stream",
          "name": "stderr",
          "text": [
            "100%|██████████| 20/20 [00:00<00:00, 208.10it/s]\n",
            "100%|██████████| 7/7 [00:00<00:00, 432.06it/s]\n"
          ]
        },
        {
          "output_type": "stream",
          "name": "stdout",
          "text": [
            "epoch: 57 validation: rmse: 4.039339802000822\n"
          ]
        },
        {
          "output_type": "stream",
          "name": "stderr",
          "text": [
            "100%|██████████| 20/20 [00:00<00:00, 110.93it/s]\n",
            "100%|██████████| 7/7 [00:00<00:00, 392.73it/s]\n"
          ]
        },
        {
          "output_type": "stream",
          "name": "stdout",
          "text": [
            "epoch: 58 validation: rmse: 4.051677783960629\n"
          ]
        },
        {
          "output_type": "stream",
          "name": "stderr",
          "text": [
            "100%|██████████| 20/20 [00:00<00:00, 204.31it/s]\n",
            "100%|██████████| 7/7 [00:00<00:00, 460.12it/s]\n"
          ]
        },
        {
          "output_type": "stream",
          "name": "stdout",
          "text": [
            "epoch: 59 validation: rmse: 4.043118174042672\n"
          ]
        },
        {
          "output_type": "stream",
          "name": "stderr",
          "text": [
            "100%|██████████| 20/20 [00:00<00:00, 199.10it/s]\n",
            "100%|██████████| 7/7 [00:00<00:00, 381.54it/s]\n"
          ]
        },
        {
          "output_type": "stream",
          "name": "stdout",
          "text": [
            "epoch: 60 validation: rmse: 4.052873351810811\n"
          ]
        },
        {
          "output_type": "stream",
          "name": "stderr",
          "text": [
            "100%|██████████| 20/20 [00:00<00:00, 173.51it/s]\n",
            "100%|██████████| 7/7 [00:00<00:00, 386.32it/s]\n"
          ]
        },
        {
          "output_type": "stream",
          "name": "stdout",
          "text": [
            "epoch: 61 validation: rmse: 4.042156495042388\n"
          ]
        },
        {
          "output_type": "stream",
          "name": "stderr",
          "text": [
            "100%|██████████| 20/20 [00:00<00:00, 182.24it/s]\n",
            "100%|██████████| 7/7 [00:00<00:00, 469.56it/s]\n"
          ]
        },
        {
          "output_type": "stream",
          "name": "stdout",
          "text": [
            "epoch: 62 validation: rmse: 4.050772009817608\n"
          ]
        },
        {
          "output_type": "stream",
          "name": "stderr",
          "text": [
            "100%|██████████| 20/20 [00:00<00:00, 175.67it/s]\n",
            "100%|██████████| 7/7 [00:00<00:00, 434.10it/s]\n"
          ]
        },
        {
          "output_type": "stream",
          "name": "stdout",
          "text": [
            "epoch: 63 validation: rmse: 4.0414178347657606\n"
          ]
        },
        {
          "output_type": "stream",
          "name": "stderr",
          "text": [
            "100%|██████████| 20/20 [00:00<00:00, 178.23it/s]\n",
            "100%|██████████| 7/7 [00:00<00:00, 338.37it/s]\n"
          ]
        },
        {
          "output_type": "stream",
          "name": "stdout",
          "text": [
            "epoch: 64 validation: rmse: 4.053136213410811\n"
          ]
        },
        {
          "output_type": "stream",
          "name": "stderr",
          "text": [
            "100%|██████████| 20/20 [00:00<00:00, 176.80it/s]\n",
            "100%|██████████| 7/7 [00:00<00:00, 362.45it/s]\n"
          ]
        },
        {
          "output_type": "stream",
          "name": "stdout",
          "text": [
            "epoch: 65 validation: rmse: 4.047714014294227\n"
          ]
        },
        {
          "output_type": "stream",
          "name": "stderr",
          "text": [
            "100%|██████████| 20/20 [00:00<00:00, 161.10it/s]\n",
            "100%|██████████| 7/7 [00:00<00:00, 389.78it/s]\n"
          ]
        },
        {
          "output_type": "stream",
          "name": "stdout",
          "text": [
            "epoch: 66 validation: rmse: 4.053835526604043\n"
          ]
        },
        {
          "output_type": "stream",
          "name": "stderr",
          "text": [
            "100%|██████████| 20/20 [00:00<00:00, 162.96it/s]\n",
            "100%|██████████| 7/7 [00:00<00:00, 445.81it/s]\n"
          ]
        },
        {
          "output_type": "stream",
          "name": "stdout",
          "text": [
            "epoch: 67 validation: rmse: 4.051007925449025\n"
          ]
        },
        {
          "output_type": "stream",
          "name": "stderr",
          "text": [
            "100%|██████████| 20/20 [00:00<00:00, 186.68it/s]\n",
            "100%|██████████| 7/7 [00:00<00:00, 348.08it/s]\n"
          ]
        },
        {
          "output_type": "stream",
          "name": "stdout",
          "text": [
            "epoch: 68 validation: rmse: 4.052011341252866\n"
          ]
        },
        {
          "output_type": "stream",
          "name": "stderr",
          "text": [
            "100%|██████████| 20/20 [00:00<00:00, 163.80it/s]\n",
            "100%|██████████| 7/7 [00:00<00:00, 283.00it/s]\n"
          ]
        },
        {
          "output_type": "stream",
          "name": "stdout",
          "text": [
            "epoch: 69 validation: rmse: 4.046813808679841\n"
          ]
        },
        {
          "output_type": "stream",
          "name": "stderr",
          "text": [
            "100%|██████████| 20/20 [00:00<00:00, 161.00it/s]\n",
            "100%|██████████| 7/7 [00:00<00:00, 451.83it/s]\n"
          ]
        },
        {
          "output_type": "stream",
          "name": "stdout",
          "text": [
            "epoch: 70 validation: rmse: 4.056671993064103\n"
          ]
        },
        {
          "output_type": "stream",
          "name": "stderr",
          "text": [
            "100%|██████████| 20/20 [00:00<00:00, 179.31it/s]\n",
            "100%|██████████| 7/7 [00:00<00:00, 406.45it/s]\n"
          ]
        },
        {
          "output_type": "stream",
          "name": "stdout",
          "text": [
            "epoch: 71 validation: rmse: 4.0538833632551246\n"
          ]
        },
        {
          "output_type": "stream",
          "name": "stderr",
          "text": [
            "100%|██████████| 20/20 [00:00<00:00, 176.72it/s]\n",
            "100%|██████████| 7/7 [00:00<00:00, 378.32it/s]\n"
          ]
        },
        {
          "output_type": "stream",
          "name": "stdout",
          "text": [
            "epoch: 72 validation: rmse: 4.064279450714897\n"
          ]
        },
        {
          "output_type": "stream",
          "name": "stderr",
          "text": [
            "100%|██████████| 20/20 [00:00<00:00, 163.35it/s]\n",
            "100%|██████████| 7/7 [00:00<00:00, 403.34it/s]\n"
          ]
        },
        {
          "output_type": "stream",
          "name": "stdout",
          "text": [
            "epoch: 73 validation: rmse: 4.054726708757726\n"
          ]
        },
        {
          "output_type": "stream",
          "name": "stderr",
          "text": [
            "100%|██████████| 20/20 [00:00<00:00, 171.25it/s]\n",
            "100%|██████████| 7/7 [00:00<00:00, 458.02it/s]\n"
          ]
        },
        {
          "output_type": "stream",
          "name": "stdout",
          "text": [
            "epoch: 74 validation: rmse: 4.066062545098244\n"
          ]
        },
        {
          "output_type": "stream",
          "name": "stderr",
          "text": [
            "100%|██████████| 20/20 [00:00<00:00, 173.35it/s]\n",
            "100%|██████████| 7/7 [00:00<00:00, 347.75it/s]\n"
          ]
        },
        {
          "output_type": "stream",
          "name": "stdout",
          "text": [
            "epoch: 75 validation: rmse: 4.057564454486017\n"
          ]
        },
        {
          "output_type": "stream",
          "name": "stderr",
          "text": [
            "100%|██████████| 20/20 [00:00<00:00, 174.22it/s]\n",
            "100%|██████████| 7/7 [00:00<00:00, 347.31it/s]\n"
          ]
        },
        {
          "output_type": "stream",
          "name": "stdout",
          "text": [
            "epoch: 76 validation: rmse: 4.067679244272529\n"
          ]
        },
        {
          "output_type": "stream",
          "name": "stderr",
          "text": [
            "100%|██████████| 20/20 [00:00<00:00, 171.23it/s]\n",
            "100%|██████████| 7/7 [00:00<00:00, 379.92it/s]\n"
          ]
        },
        {
          "output_type": "stream",
          "name": "stdout",
          "text": [
            "epoch: 77 validation: rmse: 4.0604911865983775\n"
          ]
        },
        {
          "output_type": "stream",
          "name": "stderr",
          "text": [
            "100%|██████████| 20/20 [00:00<00:00, 163.61it/s]\n",
            "100%|██████████| 7/7 [00:00<00:00, 401.87it/s]\n"
          ]
        },
        {
          "output_type": "stream",
          "name": "stdout",
          "text": [
            "epoch: 78 validation: rmse: 4.059410238853197\n"
          ]
        },
        {
          "output_type": "stream",
          "name": "stderr",
          "text": [
            "100%|██████████| 20/20 [00:00<00:00, 166.34it/s]\n",
            "100%|██████████| 7/7 [00:00<00:00, 400.96it/s]\n"
          ]
        },
        {
          "output_type": "stream",
          "name": "stdout",
          "text": [
            "epoch: 79 validation: rmse: 4.061712094134201\n"
          ]
        },
        {
          "output_type": "stream",
          "name": "stderr",
          "text": [
            "100%|██████████| 20/20 [00:00<00:00, 179.00it/s]\n",
            "100%|██████████| 7/7 [00:00<00:00, 448.43it/s]\n"
          ]
        },
        {
          "output_type": "stream",
          "name": "stdout",
          "text": [
            "epoch: 80 validation: rmse: 4.063576069602544\n"
          ]
        },
        {
          "output_type": "stream",
          "name": "stderr",
          "text": [
            "100%|██████████| 20/20 [00:00<00:00, 175.33it/s]\n",
            "100%|██████████| 7/7 [00:00<00:00, 439.46it/s]\n"
          ]
        },
        {
          "output_type": "stream",
          "name": "stdout",
          "text": [
            "epoch: 81 validation: rmse: 4.059309477876981\n"
          ]
        },
        {
          "output_type": "stream",
          "name": "stderr",
          "text": [
            "100%|██████████| 20/20 [00:00<00:00, 180.04it/s]\n",
            "100%|██████████| 7/7 [00:00<00:00, 333.72it/s]\n"
          ]
        },
        {
          "output_type": "stream",
          "name": "stdout",
          "text": [
            "epoch: 82 validation: rmse: 4.0652341371052545\n"
          ]
        },
        {
          "output_type": "stream",
          "name": "stderr",
          "text": [
            "100%|██████████| 20/20 [00:00<00:00, 159.31it/s]\n",
            "100%|██████████| 7/7 [00:00<00:00, 389.34it/s]\n"
          ]
        },
        {
          "output_type": "stream",
          "name": "stdout",
          "text": [
            "epoch: 83 validation: rmse: 4.060854671696189\n"
          ]
        },
        {
          "output_type": "stream",
          "name": "stderr",
          "text": [
            "100%|██████████| 20/20 [00:00<00:00, 169.90it/s]\n",
            "100%|██████████| 7/7 [00:00<00:00, 427.05it/s]\n"
          ]
        },
        {
          "output_type": "stream",
          "name": "stdout",
          "text": [
            "epoch: 84 validation: rmse: 4.064048697854228\n"
          ]
        },
        {
          "output_type": "stream",
          "name": "stderr",
          "text": [
            "100%|██████████| 20/20 [00:00<00:00, 183.85it/s]\n",
            "100%|██████████| 7/7 [00:00<00:00, 417.33it/s]\n"
          ]
        },
        {
          "output_type": "stream",
          "name": "stdout",
          "text": [
            "epoch: 85 validation: rmse: 4.064496228371447\n"
          ]
        },
        {
          "output_type": "stream",
          "name": "stderr",
          "text": [
            "100%|██████████| 20/20 [00:00<00:00, 185.12it/s]\n",
            "100%|██████████| 7/7 [00:00<00:00, 383.30it/s]\n"
          ]
        },
        {
          "output_type": "stream",
          "name": "stdout",
          "text": [
            "epoch: 86 validation: rmse: 4.061823256752565\n"
          ]
        },
        {
          "output_type": "stream",
          "name": "stderr",
          "text": [
            "100%|██████████| 20/20 [00:00<00:00, 177.09it/s]\n",
            "100%|██████████| 7/7 [00:00<00:00, 71.39it/s]\n"
          ]
        },
        {
          "output_type": "stream",
          "name": "stdout",
          "text": [
            "epoch: 87 validation: rmse: 4.062008498408222\n"
          ]
        },
        {
          "output_type": "stream",
          "name": "stderr",
          "text": [
            "100%|██████████| 20/20 [00:00<00:00, 136.36it/s]\n",
            "100%|██████████| 7/7 [00:00<00:00, 432.78it/s]\n"
          ]
        },
        {
          "output_type": "stream",
          "name": "stdout",
          "text": [
            "epoch: 88 validation: rmse: 4.06477064800194\n"
          ]
        },
        {
          "output_type": "stream",
          "name": "stderr",
          "text": [
            "100%|██████████| 20/20 [00:00<00:00, 166.30it/s]\n",
            "100%|██████████| 7/7 [00:00<00:00, 347.45it/s]\n"
          ]
        },
        {
          "output_type": "stream",
          "name": "stdout",
          "text": [
            "epoch: 89 validation: rmse: 4.060056425925819\n"
          ]
        },
        {
          "output_type": "stream",
          "name": "stderr",
          "text": [
            "100%|██████████| 20/20 [00:00<00:00, 190.74it/s]\n",
            "100%|██████████| 7/7 [00:00<00:00, 404.94it/s]\n"
          ]
        },
        {
          "output_type": "stream",
          "name": "stdout",
          "text": [
            "epoch: 90 validation: rmse: 4.070256656257085\n"
          ]
        },
        {
          "output_type": "stream",
          "name": "stderr",
          "text": [
            "100%|██████████| 20/20 [00:00<00:00, 174.85it/s]\n",
            "100%|██████████| 7/7 [00:00<00:00, 390.56it/s]\n"
          ]
        },
        {
          "output_type": "stream",
          "name": "stdout",
          "text": [
            "epoch: 91 validation: rmse: 4.058784924015037\n"
          ]
        },
        {
          "output_type": "stream",
          "name": "stderr",
          "text": [
            "100%|██████████| 20/20 [00:00<00:00, 179.18it/s]\n",
            "100%|██████████| 7/7 [00:00<00:00, 376.92it/s]\n"
          ]
        },
        {
          "output_type": "stream",
          "name": "stdout",
          "text": [
            "epoch: 92 validation: rmse: 4.071768738759604\n"
          ]
        },
        {
          "output_type": "stream",
          "name": "stderr",
          "text": [
            "100%|██████████| 20/20 [00:00<00:00, 179.94it/s]\n",
            "100%|██████████| 7/7 [00:00<00:00, 398.08it/s]\n"
          ]
        },
        {
          "output_type": "stream",
          "name": "stdout",
          "text": [
            "epoch: 93 validation: rmse: 4.066566876262739\n"
          ]
        },
        {
          "output_type": "stream",
          "name": "stderr",
          "text": [
            "100%|██████████| 20/20 [00:00<00:00, 187.17it/s]\n",
            "100%|██████████| 7/7 [00:00<00:00, 350.08it/s]\n"
          ]
        },
        {
          "output_type": "stream",
          "name": "stdout",
          "text": [
            "epoch: 94 validation: rmse: 4.066058464670307\n"
          ]
        },
        {
          "output_type": "stream",
          "name": "stderr",
          "text": [
            "100%|██████████| 20/20 [00:00<00:00, 175.99it/s]\n",
            "100%|██████████| 7/7 [00:00<00:00, 380.46it/s]\n"
          ]
        },
        {
          "output_type": "stream",
          "name": "stdout",
          "text": [
            "epoch: 95 validation: rmse: 4.064308722929516\n"
          ]
        },
        {
          "output_type": "stream",
          "name": "stderr",
          "text": [
            "100%|██████████| 20/20 [00:00<00:00, 162.73it/s]\n",
            "100%|██████████| 7/7 [00:00<00:00, 383.55it/s]\n"
          ]
        },
        {
          "output_type": "stream",
          "name": "stdout",
          "text": [
            "epoch: 96 validation: rmse: 4.062928090954277\n"
          ]
        },
        {
          "output_type": "stream",
          "name": "stderr",
          "text": [
            "100%|██████████| 20/20 [00:00<00:00, 175.02it/s]\n",
            "100%|██████████| 7/7 [00:00<00:00, 343.77it/s]\n"
          ]
        },
        {
          "output_type": "stream",
          "name": "stdout",
          "text": [
            "epoch: 97 validation: rmse: 4.065147316276448\n"
          ]
        },
        {
          "output_type": "stream",
          "name": "stderr",
          "text": [
            "100%|██████████| 20/20 [00:00<00:00, 177.42it/s]\n",
            "100%|██████████| 7/7 [00:00<00:00, 392.98it/s]\n"
          ]
        },
        {
          "output_type": "stream",
          "name": "stdout",
          "text": [
            "epoch: 98 validation: rmse: 4.066384805605086\n"
          ]
        },
        {
          "output_type": "stream",
          "name": "stderr",
          "text": [
            "100%|██████████| 20/20 [00:00<00:00, 176.88it/s]\n",
            "100%|██████████| 7/7 [00:00<00:00, 400.66it/s]"
          ]
        },
        {
          "output_type": "stream",
          "name": "stdout",
          "text": [
            "epoch: 99 validation: rmse: 4.064593470305713\n"
          ]
        },
        {
          "output_type": "stream",
          "name": "stderr",
          "text": [
            "\n"
          ]
        }
      ],
      "source": [
        "field_dims = np.array([len(user2idx), len(book2idx), 6, len(loc_city2idx), len(loc_state2idx), len(loc_country2idx), len(language2idx)], dtype=np.uint32)\n",
        "\n",
        "# criterion = torch.nn.BCELoss()\n",
        "criterion = torch.nn.MSELoss()\n",
        "model = FactorizationMachineModel(field_dims, embed_dim).to(device)\n",
        "optimizer = torch.optim.Adam(params=model.parameters(), lr=learning_rate, amsgrad=True, weight_decay=weight_decay)\n",
        "\n",
        "for epoch in range(epochs):\n",
        "    train_fm(model, optimizer, train_dataloader, criterion, device)\n",
        "    rmse_score = test_fm(model, valid_dataloader, device)\n",
        "    print('epoch:', epoch, 'validation: rmse:', rmse_score)"
      ]
    },
    {
      "cell_type": "code",
      "execution_count": null,
      "metadata": {
        "colab": {
          "base_uri": "https://localhost:8080/"
        },
        "id": "32iFCqafEOWH",
        "outputId": "580a4292-792c-4228-8e69-779c2ca40f7e"
      },
      "outputs": [
        {
          "output_type": "stream",
          "name": "stderr",
          "text": [
            "100%|██████████| 7/7 [00:00<00:00, 419.42it/s]\n"
          ]
        },
        {
          "output_type": "execute_result",
          "data": {
            "text/plain": [
              "3.9932752760165418"
            ]
          },
          "metadata": {},
          "execution_count": 63
        }
      ],
      "source": [
        "test_fm(model, test_dataloader, device)"
      ]
    },
    {
      "cell_type": "markdown",
      "metadata": {
        "id": "Mk8RLiO88APP"
      },
      "source": [
        "FM은 좋은 성능을 보이지는 못했습니다"
      ]
    },
    {
      "cell_type": "markdown",
      "metadata": {
        "id": "rUDM4KXoxY1j"
      },
      "source": [
        "## FFM"
      ]
    },
    {
      "cell_type": "markdown",
      "metadata": {
        "id": "eY5tj-MewtpL"
      },
      "source": [
        "FFM 역시 원래 제안된 모델은 0/1로 결과를 내지만 마지막 sigmoid 변환을 제거하고 시도해봤습니다"
      ]
    },
    {
      "cell_type": "code",
      "execution_count": null,
      "metadata": {
        "id": "ltGRg0oRxbhr"
      },
      "outputs": [],
      "source": [
        "class FieldAwareFactorizationMachine(nn.Module):\n",
        "\n",
        "    def __init__(self, field_dims: np.ndarray, embed_dim: int):\n",
        "        super().__init__()\n",
        "        self.num_fields = len(field_dims)\n",
        "        self.embeddings = torch.nn.ModuleList([\n",
        "            torch.nn.Embedding(sum(field_dims), embed_dim) for _ in range(self.num_fields)\n",
        "        ])\n",
        "        self.offsets = np.array((0, *np.cumsum(field_dims)[:-1]), dtype=np.long)\n",
        "        for embedding in self.embeddings:\n",
        "            torch.nn.init.xavier_uniform_(embedding.weight.data)\n",
        "\n",
        "    def forward(self, x: torch.Tensor):\n",
        "        \"\"\"\n",
        "        :param x: Long tensor of size ``(batch_size, num_fields)``\n",
        "        \"\"\"\n",
        "        x = x + x.new_tensor(self.offsets, dtype= np.long).unsqueeze(0)\n",
        "        xs = [self.embeddings[i](x) for i in range(self.num_fields)]\n",
        "        ix = list()\n",
        "        for i in range(self.num_fields - 1):\n",
        "            for j in range(i + 1, self.num_fields):\n",
        "                ix.append(xs[j][:, i] * xs[i][:, j])\n",
        "        ix = torch.stack(ix, dim=1)\n",
        "        return ix"
      ]
    },
    {
      "cell_type": "code",
      "execution_count": null,
      "metadata": {
        "id": "tiA2xNZGxbc3"
      },
      "outputs": [],
      "source": [
        "class FieldAwareFactorizationMachineModel(nn.Module):\n",
        "\n",
        "    def __init__(self, field_dims: np.ndarray, embed_dim: int):\n",
        "        super().__init__()\n",
        "        self.linear = FeaturesLinear(field_dims)\n",
        "        self.ffm = FieldAwareFactorizationMachine(field_dims, embed_dim)\n",
        "        self.output_linear = nn.Linear(1, 1, bias=False)\n",
        "\n",
        "    def forward(self, x: torch.Tensor):\n",
        "        \"\"\"\n",
        "        :param x: Long tensor of size ``(batch_size, num_fields)``\n",
        "        \"\"\"\n",
        "        ffm_term = torch.sum(torch.sum(self.ffm(x), dim=1), dim=1, keepdim=True)\n",
        "        x = self.linear(x) + ffm_term\n",
        "        # return torch.sigmoid(x.squeeze(1))\n",
        "        return x.squeeze(1)"
      ]
    },
    {
      "cell_type": "code",
      "execution_count": null,
      "metadata": {
        "colab": {
          "base_uri": "https://localhost:8080/"
        },
        "id": "KSesADEtxbWv",
        "outputId": "6243ea4f-4508-4729-e0e6-bd9b9ed9992b"
      },
      "outputs": [
        {
          "output_type": "stream",
          "name": "stdout",
          "text": [
            "cpu\n",
            "[    0  6764 15565 15571 18390 18760 18848]\n"
          ]
        },
        {
          "output_type": "stream",
          "name": "stderr",
          "text": [
            "100%|██████████| 39/39 [00:00<00:00, 62.67it/s]\n",
            "100%|██████████| 13/13 [00:00<00:00, 314.39it/s]\n"
          ]
        },
        {
          "output_type": "stream",
          "name": "stdout",
          "text": [
            "epoch: 0 validation: rmse: 3.690340814707598\n"
          ]
        },
        {
          "output_type": "stream",
          "name": "stderr",
          "text": [
            "100%|██████████| 39/39 [00:00<00:00, 65.37it/s]\n",
            "100%|██████████| 13/13 [00:00<00:00, 292.91it/s]\n"
          ]
        },
        {
          "output_type": "stream",
          "name": "stdout",
          "text": [
            "epoch: 1 validation: rmse: 3.406186943916107\n"
          ]
        },
        {
          "output_type": "stream",
          "name": "stderr",
          "text": [
            "100%|██████████| 39/39 [00:00<00:00, 65.14it/s]\n",
            "100%|██████████| 13/13 [00:00<00:00, 311.55it/s]\n"
          ]
        },
        {
          "output_type": "stream",
          "name": "stdout",
          "text": [
            "epoch: 2 validation: rmse: 3.6194663689891304\n"
          ]
        },
        {
          "output_type": "stream",
          "name": "stderr",
          "text": [
            "100%|██████████| 39/39 [00:00<00:00, 64.68it/s]\n",
            "100%|██████████| 13/13 [00:00<00:00, 297.18it/s]\n"
          ]
        },
        {
          "output_type": "stream",
          "name": "stdout",
          "text": [
            "epoch: 3 validation: rmse: 3.6626648405021918\n"
          ]
        },
        {
          "output_type": "stream",
          "name": "stderr",
          "text": [
            "100%|██████████| 39/39 [00:00<00:00, 65.15it/s]\n",
            "100%|██████████| 13/13 [00:00<00:00, 288.53it/s]\n"
          ]
        },
        {
          "output_type": "stream",
          "name": "stdout",
          "text": [
            "epoch: 4 validation: rmse: 3.7090349221289785\n"
          ]
        },
        {
          "output_type": "stream",
          "name": "stderr",
          "text": [
            "100%|██████████| 39/39 [00:00<00:00, 65.04it/s]\n",
            "100%|██████████| 13/13 [00:00<00:00, 294.44it/s]\n"
          ]
        },
        {
          "output_type": "stream",
          "name": "stdout",
          "text": [
            "epoch: 5 validation: rmse: 3.685722393025077\n"
          ]
        },
        {
          "output_type": "stream",
          "name": "stderr",
          "text": [
            "100%|██████████| 39/39 [00:00<00:00, 55.88it/s]\n",
            "100%|██████████| 13/13 [00:00<00:00, 286.59it/s]\n"
          ]
        },
        {
          "output_type": "stream",
          "name": "stdout",
          "text": [
            "epoch: 6 validation: rmse: 3.7009752859561975\n"
          ]
        },
        {
          "output_type": "stream",
          "name": "stderr",
          "text": [
            "100%|██████████| 39/39 [00:00<00:00, 52.48it/s]\n",
            "100%|██████████| 13/13 [00:00<00:00, 199.62it/s]\n"
          ]
        },
        {
          "output_type": "stream",
          "name": "stdout",
          "text": [
            "epoch: 7 validation: rmse: 3.675792244667678\n"
          ]
        },
        {
          "output_type": "stream",
          "name": "stderr",
          "text": [
            "100%|██████████| 39/39 [00:00<00:00, 57.32it/s]\n",
            "100%|██████████| 13/13 [00:00<00:00, 266.27it/s]\n"
          ]
        },
        {
          "output_type": "stream",
          "name": "stdout",
          "text": [
            "epoch: 8 validation: rmse: 3.6826994510558886\n"
          ]
        },
        {
          "output_type": "stream",
          "name": "stderr",
          "text": [
            "100%|██████████| 39/39 [00:00<00:00, 69.53it/s]\n",
            "100%|██████████| 13/13 [00:00<00:00, 329.67it/s]\n"
          ]
        },
        {
          "output_type": "stream",
          "name": "stdout",
          "text": [
            "epoch: 9 validation: rmse: 3.6678910704878884\n"
          ]
        },
        {
          "output_type": "stream",
          "name": "stderr",
          "text": [
            "100%|██████████| 39/39 [00:00<00:00, 68.46it/s]\n",
            "100%|██████████| 13/13 [00:00<00:00, 315.79it/s]\n"
          ]
        },
        {
          "output_type": "stream",
          "name": "stdout",
          "text": [
            "epoch: 10 validation: rmse: 3.671831145208015\n"
          ]
        },
        {
          "output_type": "stream",
          "name": "stderr",
          "text": [
            "100%|██████████| 39/39 [00:00<00:00, 67.24it/s]\n",
            "100%|██████████| 13/13 [00:00<00:00, 321.92it/s]\n"
          ]
        },
        {
          "output_type": "stream",
          "name": "stdout",
          "text": [
            "epoch: 11 validation: rmse: 3.6661280474866205\n"
          ]
        },
        {
          "output_type": "stream",
          "name": "stderr",
          "text": [
            "100%|██████████| 39/39 [00:00<00:00, 67.50it/s]\n",
            "100%|██████████| 13/13 [00:00<00:00, 329.18it/s]\n"
          ]
        },
        {
          "output_type": "stream",
          "name": "stdout",
          "text": [
            "epoch: 12 validation: rmse: 3.660840363850697\n"
          ]
        },
        {
          "output_type": "stream",
          "name": "stderr",
          "text": [
            "100%|██████████| 39/39 [00:00<00:00, 67.79it/s]\n",
            "100%|██████████| 13/13 [00:00<00:00, 309.28it/s]\n"
          ]
        },
        {
          "output_type": "stream",
          "name": "stdout",
          "text": [
            "epoch: 13 validation: rmse: 3.659725261413617\n"
          ]
        },
        {
          "output_type": "stream",
          "name": "stderr",
          "text": [
            "100%|██████████| 39/39 [00:00<00:00, 68.67it/s]\n",
            "100%|██████████| 13/13 [00:00<00:00, 304.30it/s]\n"
          ]
        },
        {
          "output_type": "stream",
          "name": "stdout",
          "text": [
            "epoch: 14 validation: rmse: 3.6520712924045635\n"
          ]
        },
        {
          "output_type": "stream",
          "name": "stderr",
          "text": [
            "100%|██████████| 39/39 [00:00<00:00, 68.24it/s]\n",
            "100%|██████████| 13/13 [00:00<00:00, 249.22it/s]\n"
          ]
        },
        {
          "output_type": "stream",
          "name": "stdout",
          "text": [
            "epoch: 15 validation: rmse: 3.6546791892855284\n"
          ]
        },
        {
          "output_type": "stream",
          "name": "stderr",
          "text": [
            "100%|██████████| 39/39 [00:00<00:00, 67.60it/s]\n",
            "100%|██████████| 13/13 [00:00<00:00, 280.52it/s]\n"
          ]
        },
        {
          "output_type": "stream",
          "name": "stdout",
          "text": [
            "epoch: 16 validation: rmse: 3.6458487885713806\n"
          ]
        },
        {
          "output_type": "stream",
          "name": "stderr",
          "text": [
            "100%|██████████| 39/39 [00:00<00:00, 68.15it/s]\n",
            "100%|██████████| 13/13 [00:00<00:00, 306.95it/s]\n"
          ]
        },
        {
          "output_type": "stream",
          "name": "stdout",
          "text": [
            "epoch: 17 validation: rmse: 3.6482365764401625\n"
          ]
        },
        {
          "output_type": "stream",
          "name": "stderr",
          "text": [
            "100%|██████████| 39/39 [00:00<00:00, 67.03it/s]\n",
            "100%|██████████| 13/13 [00:00<00:00, 319.55it/s]\n"
          ]
        },
        {
          "output_type": "stream",
          "name": "stdout",
          "text": [
            "epoch: 18 validation: rmse: 3.6408689130172704\n"
          ]
        },
        {
          "output_type": "stream",
          "name": "stderr",
          "text": [
            "100%|██████████| 39/39 [00:00<00:00, 67.69it/s]\n",
            "100%|██████████| 13/13 [00:00<00:00, 314.23it/s]\n"
          ]
        },
        {
          "output_type": "stream",
          "name": "stdout",
          "text": [
            "epoch: 19 validation: rmse: 3.6462101164284135\n"
          ]
        },
        {
          "output_type": "stream",
          "name": "stderr",
          "text": [
            "100%|██████████| 39/39 [00:00<00:00, 67.91it/s]\n",
            "100%|██████████| 13/13 [00:00<00:00, 294.53it/s]\n"
          ]
        },
        {
          "output_type": "stream",
          "name": "stdout",
          "text": [
            "epoch: 20 validation: rmse: 3.6369251073405238\n"
          ]
        },
        {
          "output_type": "stream",
          "name": "stderr",
          "text": [
            "100%|██████████| 39/39 [00:00<00:00, 66.35it/s]\n",
            "100%|██████████| 13/13 [00:00<00:00, 299.39it/s]\n"
          ]
        },
        {
          "output_type": "stream",
          "name": "stdout",
          "text": [
            "epoch: 21 validation: rmse: 3.6354874813015265\n"
          ]
        },
        {
          "output_type": "stream",
          "name": "stderr",
          "text": [
            "100%|██████████| 39/39 [00:00<00:00, 67.01it/s]\n",
            "100%|██████████| 13/13 [00:00<00:00, 305.84it/s]\n"
          ]
        },
        {
          "output_type": "stream",
          "name": "stdout",
          "text": [
            "epoch: 22 validation: rmse: 3.6369034641826437\n"
          ]
        },
        {
          "output_type": "stream",
          "name": "stderr",
          "text": [
            "100%|██████████| 39/39 [00:00<00:00, 57.91it/s]\n",
            "100%|██████████| 13/13 [00:00<00:00, 316.77it/s]\n"
          ]
        },
        {
          "output_type": "stream",
          "name": "stdout",
          "text": [
            "epoch: 23 validation: rmse: 3.6297044434051413\n"
          ]
        },
        {
          "output_type": "stream",
          "name": "stderr",
          "text": [
            "100%|██████████| 39/39 [00:00<00:00, 67.31it/s]\n",
            "100%|██████████| 13/13 [00:00<00:00, 307.82it/s]\n"
          ]
        },
        {
          "output_type": "stream",
          "name": "stdout",
          "text": [
            "epoch: 24 validation: rmse: 3.628826129082836\n"
          ]
        },
        {
          "output_type": "stream",
          "name": "stderr",
          "text": [
            "100%|██████████| 39/39 [00:00<00:00, 68.16it/s]\n",
            "100%|██████████| 13/13 [00:00<00:00, 296.13it/s]\n"
          ]
        },
        {
          "output_type": "stream",
          "name": "stdout",
          "text": [
            "epoch: 25 validation: rmse: 3.6232098634128227\n"
          ]
        },
        {
          "output_type": "stream",
          "name": "stderr",
          "text": [
            "100%|██████████| 39/39 [00:00<00:00, 66.88it/s]\n",
            "100%|██████████| 13/13 [00:00<00:00, 315.18it/s]\n"
          ]
        },
        {
          "output_type": "stream",
          "name": "stdout",
          "text": [
            "epoch: 26 validation: rmse: 3.625894556915917\n"
          ]
        },
        {
          "output_type": "stream",
          "name": "stderr",
          "text": [
            "100%|██████████| 39/39 [00:00<00:00, 62.46it/s]\n",
            "100%|██████████| 13/13 [00:00<00:00, 326.80it/s]\n"
          ]
        },
        {
          "output_type": "stream",
          "name": "stdout",
          "text": [
            "epoch: 27 validation: rmse: 3.625163034632328\n"
          ]
        },
        {
          "output_type": "stream",
          "name": "stderr",
          "text": [
            "100%|██████████| 39/39 [00:00<00:00, 53.36it/s]\n",
            "100%|██████████| 13/13 [00:00<00:00, 301.81it/s]\n"
          ]
        },
        {
          "output_type": "stream",
          "name": "stdout",
          "text": [
            "epoch: 28 validation: rmse: 3.6171495312040483\n"
          ]
        },
        {
          "output_type": "stream",
          "name": "stderr",
          "text": [
            "100%|██████████| 39/39 [00:00<00:00, 41.37it/s]\n",
            "100%|██████████| 13/13 [00:00<00:00, 276.29it/s]\n"
          ]
        },
        {
          "output_type": "stream",
          "name": "stdout",
          "text": [
            "epoch: 29 validation: rmse: 3.6241267191474384\n"
          ]
        },
        {
          "output_type": "stream",
          "name": "stderr",
          "text": [
            "100%|██████████| 39/39 [00:01<00:00, 37.44it/s]\n",
            "100%|██████████| 13/13 [00:00<00:00, 306.12it/s]\n"
          ]
        },
        {
          "output_type": "stream",
          "name": "stdout",
          "text": [
            "epoch: 30 validation: rmse: 3.6139350499114586\n"
          ]
        },
        {
          "output_type": "stream",
          "name": "stderr",
          "text": [
            "100%|██████████| 39/39 [00:01<00:00, 34.17it/s]\n",
            "100%|██████████| 13/13 [00:00<00:00, 345.87it/s]\n"
          ]
        },
        {
          "output_type": "stream",
          "name": "stdout",
          "text": [
            "epoch: 31 validation: rmse: 3.61223290821088\n"
          ]
        },
        {
          "output_type": "stream",
          "name": "stderr",
          "text": [
            "100%|██████████| 39/39 [00:01<00:00, 30.58it/s]\n",
            "100%|██████████| 13/13 [00:00<00:00, 279.20it/s]\n"
          ]
        },
        {
          "output_type": "stream",
          "name": "stdout",
          "text": [
            "epoch: 32 validation: rmse: 3.616586015389627\n"
          ]
        },
        {
          "output_type": "stream",
          "name": "stderr",
          "text": [
            "100%|██████████| 39/39 [00:01<00:00, 30.04it/s]\n",
            "100%|██████████| 13/13 [00:00<00:00, 305.61it/s]\n"
          ]
        },
        {
          "output_type": "stream",
          "name": "stdout",
          "text": [
            "epoch: 33 validation: rmse: 3.6158056120557776\n"
          ]
        },
        {
          "output_type": "stream",
          "name": "stderr",
          "text": [
            "100%|██████████| 39/39 [00:01<00:00, 27.49it/s]\n",
            "100%|██████████| 13/13 [00:00<00:00, 309.65it/s]\n"
          ]
        },
        {
          "output_type": "stream",
          "name": "stdout",
          "text": [
            "epoch: 34 validation: rmse: 3.607499003860395\n"
          ]
        },
        {
          "output_type": "stream",
          "name": "stderr",
          "text": [
            "100%|██████████| 39/39 [00:01<00:00, 30.04it/s]\n",
            "100%|██████████| 13/13 [00:00<00:00, 290.82it/s]\n"
          ]
        },
        {
          "output_type": "stream",
          "name": "stdout",
          "text": [
            "epoch: 35 validation: rmse: 3.6121682750844424\n"
          ]
        },
        {
          "output_type": "stream",
          "name": "stderr",
          "text": [
            "100%|██████████| 39/39 [00:01<00:00, 29.38it/s]\n",
            "100%|██████████| 13/13 [00:00<00:00, 296.74it/s]\n"
          ]
        },
        {
          "output_type": "stream",
          "name": "stdout",
          "text": [
            "epoch: 36 validation: rmse: 3.6075447495679884\n"
          ]
        },
        {
          "output_type": "stream",
          "name": "stderr",
          "text": [
            "100%|██████████| 39/39 [00:01<00:00, 28.25it/s]\n",
            "100%|██████████| 13/13 [00:00<00:00, 316.03it/s]\n"
          ]
        },
        {
          "output_type": "stream",
          "name": "stdout",
          "text": [
            "epoch: 37 validation: rmse: 3.611345896136915\n"
          ]
        },
        {
          "output_type": "stream",
          "name": "stderr",
          "text": [
            "100%|██████████| 39/39 [00:01<00:00, 32.34it/s]\n",
            "100%|██████████| 13/13 [00:00<00:00, 299.37it/s]\n"
          ]
        },
        {
          "output_type": "stream",
          "name": "stdout",
          "text": [
            "epoch: 38 validation: rmse: 3.60643365709017\n"
          ]
        },
        {
          "output_type": "stream",
          "name": "stderr",
          "text": [
            "100%|██████████| 39/39 [00:01<00:00, 35.51it/s]\n",
            "100%|██████████| 13/13 [00:00<00:00, 272.26it/s]\n"
          ]
        },
        {
          "output_type": "stream",
          "name": "stdout",
          "text": [
            "epoch: 39 validation: rmse: 3.6035101610516045\n"
          ]
        },
        {
          "output_type": "stream",
          "name": "stderr",
          "text": [
            "100%|██████████| 39/39 [00:01<00:00, 35.96it/s]\n",
            "100%|██████████| 13/13 [00:00<00:00, 308.42it/s]\n"
          ]
        },
        {
          "output_type": "stream",
          "name": "stdout",
          "text": [
            "epoch: 40 validation: rmse: 3.6082227121395998\n"
          ]
        },
        {
          "output_type": "stream",
          "name": "stderr",
          "text": [
            "100%|██████████| 39/39 [00:01<00:00, 33.16it/s]\n",
            "100%|██████████| 13/13 [00:00<00:00, 306.15it/s]\n"
          ]
        },
        {
          "output_type": "stream",
          "name": "stdout",
          "text": [
            "epoch: 41 validation: rmse: 3.5996454115720207\n"
          ]
        },
        {
          "output_type": "stream",
          "name": "stderr",
          "text": [
            "100%|██████████| 39/39 [00:01<00:00, 35.66it/s]\n",
            "100%|██████████| 13/13 [00:00<00:00, 323.90it/s]\n"
          ]
        },
        {
          "output_type": "stream",
          "name": "stdout",
          "text": [
            "epoch: 42 validation: rmse: 3.609364619144304\n"
          ]
        },
        {
          "output_type": "stream",
          "name": "stderr",
          "text": [
            "100%|██████████| 39/39 [00:01<00:00, 35.54it/s]\n",
            "100%|██████████| 13/13 [00:00<00:00, 307.33it/s]\n"
          ]
        },
        {
          "output_type": "stream",
          "name": "stdout",
          "text": [
            "epoch: 43 validation: rmse: 3.599863803609487\n"
          ]
        },
        {
          "output_type": "stream",
          "name": "stderr",
          "text": [
            "100%|██████████| 39/39 [00:01<00:00, 35.84it/s]\n",
            "100%|██████████| 13/13 [00:00<00:00, 322.58it/s]\n"
          ]
        },
        {
          "output_type": "stream",
          "name": "stdout",
          "text": [
            "epoch: 44 validation: rmse: 3.6029764920235245\n"
          ]
        },
        {
          "output_type": "stream",
          "name": "stderr",
          "text": [
            "100%|██████████| 39/39 [00:01<00:00, 36.02it/s]\n",
            "100%|██████████| 13/13 [00:00<00:00, 328.92it/s]\n"
          ]
        },
        {
          "output_type": "stream",
          "name": "stdout",
          "text": [
            "epoch: 45 validation: rmse: 3.5973001803697233\n"
          ]
        },
        {
          "output_type": "stream",
          "name": "stderr",
          "text": [
            "100%|██████████| 39/39 [00:01<00:00, 35.92it/s]\n",
            "100%|██████████| 13/13 [00:00<00:00, 292.00it/s]\n"
          ]
        },
        {
          "output_type": "stream",
          "name": "stdout",
          "text": [
            "epoch: 46 validation: rmse: 3.602996914073656\n"
          ]
        },
        {
          "output_type": "stream",
          "name": "stderr",
          "text": [
            "100%|██████████| 39/39 [00:01<00:00, 35.93it/s]\n",
            "100%|██████████| 13/13 [00:00<00:00, 292.70it/s]\n"
          ]
        },
        {
          "output_type": "stream",
          "name": "stdout",
          "text": [
            "epoch: 47 validation: rmse: 3.5968643139193133\n"
          ]
        },
        {
          "output_type": "stream",
          "name": "stderr",
          "text": [
            "100%|██████████| 39/39 [00:01<00:00, 36.42it/s]\n",
            "100%|██████████| 13/13 [00:00<00:00, 302.04it/s]\n"
          ]
        },
        {
          "output_type": "stream",
          "name": "stdout",
          "text": [
            "epoch: 48 validation: rmse: 3.601199067790042\n"
          ]
        },
        {
          "output_type": "stream",
          "name": "stderr",
          "text": [
            "100%|██████████| 39/39 [00:01<00:00, 36.01it/s]\n",
            "100%|██████████| 13/13 [00:00<00:00, 256.37it/s]\n"
          ]
        },
        {
          "output_type": "stream",
          "name": "stdout",
          "text": [
            "epoch: 49 validation: rmse: 3.5971006276765842\n"
          ]
        },
        {
          "output_type": "stream",
          "name": "stderr",
          "text": [
            "100%|██████████| 39/39 [00:01<00:00, 35.30it/s]\n",
            "100%|██████████| 13/13 [00:00<00:00, 322.68it/s]\n"
          ]
        },
        {
          "output_type": "stream",
          "name": "stdout",
          "text": [
            "epoch: 50 validation: rmse: 3.6005540492777537\n"
          ]
        },
        {
          "output_type": "stream",
          "name": "stderr",
          "text": [
            "100%|██████████| 39/39 [00:01<00:00, 35.93it/s]\n",
            "100%|██████████| 13/13 [00:00<00:00, 293.45it/s]\n"
          ]
        },
        {
          "output_type": "stream",
          "name": "stdout",
          "text": [
            "epoch: 51 validation: rmse: 3.595516230535131\n"
          ]
        },
        {
          "output_type": "stream",
          "name": "stderr",
          "text": [
            "100%|██████████| 39/39 [00:01<00:00, 35.94it/s]\n",
            "100%|██████████| 13/13 [00:00<00:00, 285.83it/s]\n"
          ]
        },
        {
          "output_type": "stream",
          "name": "stdout",
          "text": [
            "epoch: 52 validation: rmse: 3.597676981637772\n"
          ]
        },
        {
          "output_type": "stream",
          "name": "stderr",
          "text": [
            "100%|██████████| 39/39 [00:01<00:00, 36.12it/s]\n",
            "100%|██████████| 13/13 [00:00<00:00, 314.97it/s]\n"
          ]
        },
        {
          "output_type": "stream",
          "name": "stdout",
          "text": [
            "epoch: 53 validation: rmse: 3.5958662051829826\n"
          ]
        },
        {
          "output_type": "stream",
          "name": "stderr",
          "text": [
            "100%|██████████| 39/39 [00:01<00:00, 35.93it/s]\n",
            "100%|██████████| 13/13 [00:00<00:00, 303.36it/s]\n"
          ]
        },
        {
          "output_type": "stream",
          "name": "stdout",
          "text": [
            "epoch: 54 validation: rmse: 3.597913913617555\n"
          ]
        },
        {
          "output_type": "stream",
          "name": "stderr",
          "text": [
            "100%|██████████| 39/39 [00:01<00:00, 36.07it/s]\n",
            "100%|██████████| 13/13 [00:00<00:00, 317.80it/s]\n"
          ]
        },
        {
          "output_type": "stream",
          "name": "stdout",
          "text": [
            "epoch: 55 validation: rmse: 3.5955469713795503\n"
          ]
        },
        {
          "output_type": "stream",
          "name": "stderr",
          "text": [
            "100%|██████████| 39/39 [00:01<00:00, 36.06it/s]\n",
            "100%|██████████| 13/13 [00:00<00:00, 286.34it/s]\n"
          ]
        },
        {
          "output_type": "stream",
          "name": "stdout",
          "text": [
            "epoch: 56 validation: rmse: 3.596195972187346\n"
          ]
        },
        {
          "output_type": "stream",
          "name": "stderr",
          "text": [
            "100%|██████████| 39/39 [00:01<00:00, 36.17it/s]\n",
            "100%|██████████| 13/13 [00:00<00:00, 285.36it/s]\n"
          ]
        },
        {
          "output_type": "stream",
          "name": "stdout",
          "text": [
            "epoch: 57 validation: rmse: 3.5958882196808584\n"
          ]
        },
        {
          "output_type": "stream",
          "name": "stderr",
          "text": [
            "100%|██████████| 39/39 [00:01<00:00, 33.02it/s]\n",
            "100%|██████████| 13/13 [00:00<00:00, 275.59it/s]\n"
          ]
        },
        {
          "output_type": "stream",
          "name": "stdout",
          "text": [
            "epoch: 58 validation: rmse: 3.593807222962438\n"
          ]
        },
        {
          "output_type": "stream",
          "name": "stderr",
          "text": [
            "100%|██████████| 39/39 [00:01<00:00, 35.97it/s]\n",
            "100%|██████████| 13/13 [00:00<00:00, 325.22it/s]\n"
          ]
        },
        {
          "output_type": "stream",
          "name": "stdout",
          "text": [
            "epoch: 59 validation: rmse: 3.5923548477707863\n"
          ]
        },
        {
          "output_type": "stream",
          "name": "stderr",
          "text": [
            "100%|██████████| 39/39 [00:01<00:00, 36.04it/s]\n",
            "100%|██████████| 13/13 [00:00<00:00, 303.00it/s]\n"
          ]
        },
        {
          "output_type": "stream",
          "name": "stdout",
          "text": [
            "epoch: 60 validation: rmse: 3.5928497577819316\n"
          ]
        },
        {
          "output_type": "stream",
          "name": "stderr",
          "text": [
            "100%|██████████| 39/39 [00:01<00:00, 35.45it/s]\n",
            "100%|██████████| 13/13 [00:00<00:00, 278.94it/s]\n"
          ]
        },
        {
          "output_type": "stream",
          "name": "stdout",
          "text": [
            "epoch: 61 validation: rmse: 3.5918025936664497\n"
          ]
        },
        {
          "output_type": "stream",
          "name": "stderr",
          "text": [
            "100%|██████████| 39/39 [00:01<00:00, 35.29it/s]\n",
            "100%|██████████| 13/13 [00:00<00:00, 300.90it/s]\n"
          ]
        },
        {
          "output_type": "stream",
          "name": "stdout",
          "text": [
            "epoch: 62 validation: rmse: 3.5928699898856538\n"
          ]
        },
        {
          "output_type": "stream",
          "name": "stderr",
          "text": [
            "100%|██████████| 39/39 [00:01<00:00, 35.71it/s]\n",
            "100%|██████████| 13/13 [00:00<00:00, 261.15it/s]\n"
          ]
        },
        {
          "output_type": "stream",
          "name": "stdout",
          "text": [
            "epoch: 63 validation: rmse: 3.59489634472236\n"
          ]
        },
        {
          "output_type": "stream",
          "name": "stderr",
          "text": [
            "100%|██████████| 39/39 [00:01<00:00, 35.46it/s]\n",
            "100%|██████████| 13/13 [00:00<00:00, 293.90it/s]\n"
          ]
        },
        {
          "output_type": "stream",
          "name": "stdout",
          "text": [
            "epoch: 64 validation: rmse: 3.5904114556862416\n"
          ]
        },
        {
          "output_type": "stream",
          "name": "stderr",
          "text": [
            "100%|██████████| 39/39 [00:01<00:00, 36.29it/s]\n",
            "100%|██████████| 13/13 [00:00<00:00, 312.55it/s]\n"
          ]
        },
        {
          "output_type": "stream",
          "name": "stdout",
          "text": [
            "epoch: 65 validation: rmse: 3.592676021742504\n"
          ]
        },
        {
          "output_type": "stream",
          "name": "stderr",
          "text": [
            "100%|██████████| 39/39 [00:01<00:00, 35.84it/s]\n",
            "100%|██████████| 13/13 [00:00<00:00, 277.18it/s]\n"
          ]
        },
        {
          "output_type": "stream",
          "name": "stdout",
          "text": [
            "epoch: 66 validation: rmse: 3.588157565217664\n"
          ]
        },
        {
          "output_type": "stream",
          "name": "stderr",
          "text": [
            "100%|██████████| 39/39 [00:01<00:00, 35.84it/s]\n",
            "100%|██████████| 13/13 [00:00<00:00, 275.76it/s]\n"
          ]
        },
        {
          "output_type": "stream",
          "name": "stdout",
          "text": [
            "epoch: 67 validation: rmse: 3.5938016199984784\n"
          ]
        },
        {
          "output_type": "stream",
          "name": "stderr",
          "text": [
            "100%|██████████| 39/39 [00:01<00:00, 35.92it/s]\n",
            "100%|██████████| 13/13 [00:00<00:00, 342.59it/s]\n"
          ]
        },
        {
          "output_type": "stream",
          "name": "stdout",
          "text": [
            "epoch: 68 validation: rmse: 3.5893928631722156\n"
          ]
        },
        {
          "output_type": "stream",
          "name": "stderr",
          "text": [
            "100%|██████████| 39/39 [00:01<00:00, 35.83it/s]\n",
            "100%|██████████| 13/13 [00:00<00:00, 323.84it/s]\n"
          ]
        },
        {
          "output_type": "stream",
          "name": "stdout",
          "text": [
            "epoch: 69 validation: rmse: 3.5916197265097254\n"
          ]
        },
        {
          "output_type": "stream",
          "name": "stderr",
          "text": [
            "100%|██████████| 39/39 [00:01<00:00, 36.17it/s]\n",
            "100%|██████████| 13/13 [00:00<00:00, 263.13it/s]\n"
          ]
        },
        {
          "output_type": "stream",
          "name": "stdout",
          "text": [
            "epoch: 70 validation: rmse: 3.5897169779887443\n"
          ]
        },
        {
          "output_type": "stream",
          "name": "stderr",
          "text": [
            "100%|██████████| 39/39 [00:01<00:00, 35.94it/s]\n",
            "100%|██████████| 13/13 [00:00<00:00, 288.80it/s]\n"
          ]
        },
        {
          "output_type": "stream",
          "name": "stdout",
          "text": [
            "epoch: 71 validation: rmse: 3.5882750320913233\n"
          ]
        },
        {
          "output_type": "stream",
          "name": "stderr",
          "text": [
            "100%|██████████| 39/39 [00:01<00:00, 36.23it/s]\n",
            "100%|██████████| 13/13 [00:00<00:00, 285.81it/s]\n"
          ]
        },
        {
          "output_type": "stream",
          "name": "stdout",
          "text": [
            "epoch: 72 validation: rmse: 3.5893120806157235\n"
          ]
        },
        {
          "output_type": "stream",
          "name": "stderr",
          "text": [
            "100%|██████████| 39/39 [00:01<00:00, 35.62it/s]\n",
            "100%|██████████| 13/13 [00:00<00:00, 322.92it/s]\n"
          ]
        },
        {
          "output_type": "stream",
          "name": "stdout",
          "text": [
            "epoch: 73 validation: rmse: 3.5867694331787754\n"
          ]
        },
        {
          "output_type": "stream",
          "name": "stderr",
          "text": [
            "100%|██████████| 39/39 [00:01<00:00, 35.46it/s]\n",
            "100%|██████████| 13/13 [00:00<00:00, 307.36it/s]\n"
          ]
        },
        {
          "output_type": "stream",
          "name": "stdout",
          "text": [
            "epoch: 74 validation: rmse: 3.590052104720728\n"
          ]
        },
        {
          "output_type": "stream",
          "name": "stderr",
          "text": [
            "100%|██████████| 39/39 [00:01<00:00, 32.82it/s]\n",
            "100%|██████████| 13/13 [00:00<00:00, 313.75it/s]\n"
          ]
        },
        {
          "output_type": "stream",
          "name": "stdout",
          "text": [
            "epoch: 75 validation: rmse: 3.5863639989773017\n"
          ]
        },
        {
          "output_type": "stream",
          "name": "stderr",
          "text": [
            "100%|██████████| 39/39 [00:01<00:00, 35.66it/s]\n",
            "100%|██████████| 13/13 [00:00<00:00, 315.18it/s]\n"
          ]
        },
        {
          "output_type": "stream",
          "name": "stdout",
          "text": [
            "epoch: 76 validation: rmse: 3.587519375674115\n"
          ]
        },
        {
          "output_type": "stream",
          "name": "stderr",
          "text": [
            "100%|██████████| 39/39 [00:01<00:00, 35.91it/s]\n",
            "100%|██████████| 13/13 [00:00<00:00, 285.16it/s]\n"
          ]
        },
        {
          "output_type": "stream",
          "name": "stdout",
          "text": [
            "epoch: 77 validation: rmse: 3.585448489954782\n"
          ]
        },
        {
          "output_type": "stream",
          "name": "stderr",
          "text": [
            "100%|██████████| 39/39 [00:01<00:00, 35.89it/s]\n",
            "100%|██████████| 13/13 [00:00<00:00, 310.30it/s]\n"
          ]
        },
        {
          "output_type": "stream",
          "name": "stdout",
          "text": [
            "epoch: 78 validation: rmse: 3.588230829717853\n"
          ]
        },
        {
          "output_type": "stream",
          "name": "stderr",
          "text": [
            "100%|██████████| 39/39 [00:01<00:00, 35.79it/s]\n",
            "100%|██████████| 13/13 [00:00<00:00, 307.32it/s]\n"
          ]
        },
        {
          "output_type": "stream",
          "name": "stdout",
          "text": [
            "epoch: 79 validation: rmse: 3.5867151779270676\n"
          ]
        },
        {
          "output_type": "stream",
          "name": "stderr",
          "text": [
            "100%|██████████| 39/39 [00:01<00:00, 35.45it/s]\n",
            "100%|██████████| 13/13 [00:00<00:00, 291.38it/s]\n"
          ]
        },
        {
          "output_type": "stream",
          "name": "stdout",
          "text": [
            "epoch: 80 validation: rmse: 3.5857707825186766\n"
          ]
        },
        {
          "output_type": "stream",
          "name": "stderr",
          "text": [
            "100%|██████████| 39/39 [00:01<00:00, 35.81it/s]\n",
            "100%|██████████| 13/13 [00:00<00:00, 251.14it/s]\n"
          ]
        },
        {
          "output_type": "stream",
          "name": "stdout",
          "text": [
            "epoch: 81 validation: rmse: 3.5854240827399955\n"
          ]
        },
        {
          "output_type": "stream",
          "name": "stderr",
          "text": [
            "100%|██████████| 39/39 [00:01<00:00, 36.28it/s]\n",
            "100%|██████████| 13/13 [00:00<00:00, 284.24it/s]\n"
          ]
        },
        {
          "output_type": "stream",
          "name": "stdout",
          "text": [
            "epoch: 82 validation: rmse: 3.586424346282\n"
          ]
        },
        {
          "output_type": "stream",
          "name": "stderr",
          "text": [
            "100%|██████████| 39/39 [00:01<00:00, 35.33it/s]\n",
            "100%|██████████| 13/13 [00:00<00:00, 290.67it/s]\n"
          ]
        },
        {
          "output_type": "stream",
          "name": "stdout",
          "text": [
            "epoch: 83 validation: rmse: 3.5843546855801223\n"
          ]
        },
        {
          "output_type": "stream",
          "name": "stderr",
          "text": [
            "100%|██████████| 39/39 [00:01<00:00, 35.88it/s]\n",
            "100%|██████████| 13/13 [00:00<00:00, 291.74it/s]\n"
          ]
        },
        {
          "output_type": "stream",
          "name": "stdout",
          "text": [
            "epoch: 84 validation: rmse: 3.5873097614381466\n"
          ]
        },
        {
          "output_type": "stream",
          "name": "stderr",
          "text": [
            "100%|██████████| 39/39 [00:01<00:00, 36.01it/s]\n",
            "100%|██████████| 13/13 [00:00<00:00, 295.28it/s]\n"
          ]
        },
        {
          "output_type": "stream",
          "name": "stdout",
          "text": [
            "epoch: 85 validation: rmse: 3.5859570048208322\n"
          ]
        },
        {
          "output_type": "stream",
          "name": "stderr",
          "text": [
            "100%|██████████| 39/39 [00:01<00:00, 35.69it/s]\n",
            "100%|██████████| 13/13 [00:00<00:00, 307.04it/s]\n"
          ]
        },
        {
          "output_type": "stream",
          "name": "stdout",
          "text": [
            "epoch: 86 validation: rmse: 3.5829374295041387\n"
          ]
        },
        {
          "output_type": "stream",
          "name": "stderr",
          "text": [
            "100%|██████████| 39/39 [00:01<00:00, 35.60it/s]\n",
            "100%|██████████| 13/13 [00:00<00:00, 298.25it/s]\n"
          ]
        },
        {
          "output_type": "stream",
          "name": "stdout",
          "text": [
            "epoch: 87 validation: rmse: 3.5869689924631185\n"
          ]
        },
        {
          "output_type": "stream",
          "name": "stderr",
          "text": [
            "100%|██████████| 39/39 [00:01<00:00, 35.06it/s]\n",
            "100%|██████████| 13/13 [00:00<00:00, 276.65it/s]\n"
          ]
        },
        {
          "output_type": "stream",
          "name": "stdout",
          "text": [
            "epoch: 88 validation: rmse: 3.5836495731150233\n"
          ]
        },
        {
          "output_type": "stream",
          "name": "stderr",
          "text": [
            "100%|██████████| 39/39 [00:01<00:00, 35.52it/s]\n",
            "100%|██████████| 13/13 [00:00<00:00, 267.97it/s]\n"
          ]
        },
        {
          "output_type": "stream",
          "name": "stdout",
          "text": [
            "epoch: 89 validation: rmse: 3.5841934278698417\n"
          ]
        },
        {
          "output_type": "stream",
          "name": "stderr",
          "text": [
            "100%|██████████| 39/39 [00:01<00:00, 35.67it/s]\n",
            "100%|██████████| 13/13 [00:00<00:00, 301.41it/s]\n"
          ]
        },
        {
          "output_type": "stream",
          "name": "stdout",
          "text": [
            "epoch: 90 validation: rmse: 3.5858565843198758\n"
          ]
        },
        {
          "output_type": "stream",
          "name": "stderr",
          "text": [
            "100%|██████████| 39/39 [00:01<00:00, 35.53it/s]\n",
            "100%|██████████| 13/13 [00:00<00:00, 294.59it/s]\n"
          ]
        },
        {
          "output_type": "stream",
          "name": "stdout",
          "text": [
            "epoch: 91 validation: rmse: 3.5816186319813736\n"
          ]
        },
        {
          "output_type": "stream",
          "name": "stderr",
          "text": [
            "100%|██████████| 39/39 [00:01<00:00, 35.55it/s]\n",
            "100%|██████████| 13/13 [00:00<00:00, 92.16it/s]\n"
          ]
        },
        {
          "output_type": "stream",
          "name": "stdout",
          "text": [
            "epoch: 92 validation: rmse: 3.584096141715655\n"
          ]
        },
        {
          "output_type": "stream",
          "name": "stderr",
          "text": [
            "100%|██████████| 39/39 [00:01<00:00, 35.73it/s]\n",
            "100%|██████████| 13/13 [00:00<00:00, 296.94it/s]\n"
          ]
        },
        {
          "output_type": "stream",
          "name": "stdout",
          "text": [
            "epoch: 93 validation: rmse: 3.5864166254552545\n"
          ]
        },
        {
          "output_type": "stream",
          "name": "stderr",
          "text": [
            "100%|██████████| 39/39 [00:01<00:00, 35.57it/s]\n",
            "100%|██████████| 13/13 [00:00<00:00, 289.98it/s]\n"
          ]
        },
        {
          "output_type": "stream",
          "name": "stdout",
          "text": [
            "epoch: 94 validation: rmse: 3.5838420341414223\n"
          ]
        },
        {
          "output_type": "stream",
          "name": "stderr",
          "text": [
            "100%|██████████| 39/39 [00:01<00:00, 35.52it/s]\n",
            "100%|██████████| 13/13 [00:00<00:00, 253.35it/s]\n"
          ]
        },
        {
          "output_type": "stream",
          "name": "stdout",
          "text": [
            "epoch: 95 validation: rmse: 3.582898126626098\n"
          ]
        },
        {
          "output_type": "stream",
          "name": "stderr",
          "text": [
            "100%|██████████| 39/39 [00:01<00:00, 35.81it/s]\n",
            "100%|██████████| 13/13 [00:00<00:00, 314.76it/s]\n"
          ]
        },
        {
          "output_type": "stream",
          "name": "stdout",
          "text": [
            "epoch: 96 validation: rmse: 3.5843909014443063\n"
          ]
        },
        {
          "output_type": "stream",
          "name": "stderr",
          "text": [
            "100%|██████████| 39/39 [00:01<00:00, 35.70it/s]\n",
            "100%|██████████| 13/13 [00:00<00:00, 290.36it/s]\n"
          ]
        },
        {
          "output_type": "stream",
          "name": "stdout",
          "text": [
            "epoch: 97 validation: rmse: 3.5843751287543997\n"
          ]
        },
        {
          "output_type": "stream",
          "name": "stderr",
          "text": [
            "100%|██████████| 39/39 [00:01<00:00, 35.62it/s]\n",
            "100%|██████████| 13/13 [00:00<00:00, 283.23it/s]\n"
          ]
        },
        {
          "output_type": "stream",
          "name": "stdout",
          "text": [
            "epoch: 98 validation: rmse: 3.5838290410838343\n"
          ]
        },
        {
          "output_type": "stream",
          "name": "stderr",
          "text": [
            "100%|██████████| 39/39 [00:01<00:00, 35.54it/s]\n",
            "100%|██████████| 13/13 [00:00<00:00, 271.14it/s]"
          ]
        },
        {
          "output_type": "stream",
          "name": "stdout",
          "text": [
            "epoch: 99 validation: rmse: 3.5834300353380906\n"
          ]
        },
        {
          "output_type": "stream",
          "name": "stderr",
          "text": [
            "\n"
          ]
        }
      ],
      "source": [
        "device = torch.device(\"cuda:{}\".format(gpu_idx) if torch.cuda.is_available() else \"cpu\")\n",
        "print(device)\n",
        "field_dims = np.array([len(user2idx), len(book2idx), 6, len(loc_city2idx), len(loc_state2idx), len(loc_country2idx), len(language2idx)], dtype=np.uint32)\n",
        "\n",
        "# criterion = torch.nn.BCELoss()\n",
        "criterion = torch.nn.MSELoss()\n",
        "model = FieldAwareFactorizationMachineModel(field_dims, embed_dim).to(device)\n",
        "optimizer = torch.optim.Adam(params=model.parameters(), lr=learning_rate, amsgrad=True, weight_decay=weight_decay)\n",
        "\n",
        "for epoch in range(epochs):\n",
        "    train_fm(model, optimizer, train_dataloader, criterion, device)\n",
        "    rmse_score = test_fm(model, valid_dataloader, device)\n",
        "    print('epoch:', epoch, 'validation: rmse:', rmse_score)"
      ]
    },
    {
      "cell_type": "code",
      "execution_count": null,
      "metadata": {
        "colab": {
          "base_uri": "https://localhost:8080/"
        },
        "id": "uFhSqy3TxbTH",
        "outputId": "d5c40c34-01bc-42d2-c3b4-ee266a475c7e"
      },
      "outputs": [
        {
          "name": "stderr",
          "output_type": "stream",
          "text": [
            "100%|██████████| 25/25 [00:00<00:00, 321.07it/s]\n"
          ]
        },
        {
          "data": {
            "text/plain": [
              "3.566576112503476"
            ]
          },
          "execution_count": 64,
          "metadata": {},
          "output_type": "execute_result"
        }
      ],
      "source": [
        "test_fm(model, test_dataloader, device)"
      ]
    },
    {
      "cell_type": "markdown",
      "metadata": {
        "id": "D3zBVNU2mVd5"
      },
      "source": [
        "FFM은 FM보다는 \b나은 성능을 보였고 빠르게 학습할 수 있었습니다"
      ]
    },
    {
      "cell_type": "markdown",
      "metadata": {
        "id": "HF07mDOUQ1IY"
      },
      "source": [
        "<font color='red'><b>**WARNING**</b></font> : **본 교육 콘텐츠의 지식재산권은 재단법인 네이버커넥트에 귀속됩니다. 본 콘텐츠를 어떠한 경로로든 외부로 유출 및 수정하는 행위를 엄격히 금합니다.** 다만, 비영리적 교육 및 연구활동에 한정되어 사용할 수 있으나 재단의 허락을 받아야 합니다. 이를 위반하는 경우, 관련 법률에 따라 책임을 질 수 있습니다.\n",
        "\n",
        "\n"
      ]
    }
  ],
  "metadata": {
    "colab": {
      "machine_shape": "hm",
      "provenance": [],
      "toc_visible": true
    },
    "gpuClass": "standard",
    "kernelspec": {
      "display_name": "Python 3",
      "name": "python3"
    },
    "language_info": {
      "name": "python"
    }
  },
  "nbformat": 4,
  "nbformat_minor": 0
}
