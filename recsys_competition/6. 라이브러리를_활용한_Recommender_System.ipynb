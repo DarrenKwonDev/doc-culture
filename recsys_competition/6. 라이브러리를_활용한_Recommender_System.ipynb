{
  "cells": [
    {
      "cell_type": "markdown",
      "metadata": {
        "id": "EIlWhrq72fH5"
      },
      "source": [
        "# 라이브러리를 활용한 Recommeder System"
      ]
    },
    {
      "cell_type": "markdown",
      "metadata": {
        "id": "BhuEgl11-6cL"
      },
      "source": [
        "RecSys 기초 대회 강의에서는 Book Crossing 데이터를 사용하여, 모든 실습 및 미션, 대회를 진행합니다. [Kaggle Book-Crossing](https://www.kaggle.com/datasets/ruchi798/bookcrossing-dataset) 을 출처로 하며, 데이터는 재구성되어 제공되었습니다. 해당 데이터는 CC0: Public Domain 라이센스임을 밝힙니다.\n",
        "\n",
        "시작에 앞서, 상단 `[런타임] > [런타임 유형 변경] > [하드웨어 가속기 = GPU]` 로 변경하여 주세요.  \n",
        "\n",
        "그럼 본격적으로 **(실습-5)라이브러리를 활용한 Recommender System** 을 진행하여 보겠습니다.\n"
      ]
    },
    {
      "cell_type": "code",
      "execution_count": 1,
      "metadata": {
        "id": "5OxYxkN54Tjy"
      },
      "outputs": [],
      "source": [
        "# IPython 기본 설정 변경\n",
        "from IPython.core.interactiveshell import InteractiveShell\n",
        "InteractiveShell.ast_node_interactivity = \"all\""
      ]
    },
    {
      "cell_type": "code",
      "execution_count": 2,
      "metadata": {
        "id": "oQGYEXPcmJrg"
      },
      "outputs": [],
      "source": [
        "# 라이브러리 설치 (약 1분 소요)\n",
        "!pip install numpy -q\n",
        "!pip install scikit-surprise -q\n",
        "!pip install implicit -q\n",
        "!pip install lightfm -q\n",
        "!pip install recommenders -q\n",
        "!pip install tf_slim -q"
      ]
    },
    {
      "cell_type": "code",
      "execution_count": 3,
      "metadata": {
        "id": "UHfvFXbT6HD5"
      },
      "outputs": [],
      "source": [
        "# 기본 설정\n",
        "import os\n",
        "import sys\n",
        "import pandas as pd\n",
        "import numpy as np\n",
        "import torch\n",
        "import scipy\n",
        "import random\n",
        "import seaborn as sns\n",
        "\n",
        "# warning을 보고 싶지 않을 경우 아래 코드를 실행\n",
        "import warnings\n",
        "warnings.filterwarnings('ignore')"
      ]
    },
    {
      "cell_type": "markdown",
      "metadata": {
        "id": "WOqU8kuJoKUK"
      },
      "source": [
        "## [0] 실습 소개\n",
        "이번 실습에서 어떤 라이브러리를 배우게 되나요? \n",
        "\n",
        "  - 명시적 데이터를 대상으로 하는 라이브러리 `surprise`\n",
        "  - 암시적 데이터를 대상으로 하는 라이브러리 `implicit`\n",
        "  - 암시적, 명시적 데이터를 모두 지원하는 라이브러리 `lightfm`\n",
        "  - 콘텐츠부터 딥러닝 기반까지 모두 메타 라이브러리 `Recommenders`\n",
        "\n",
        "아래 4가지 라이브러리에 대해 배우게 될 예정입니다. 순서에 따라 살펴보도록 하겠습니다.\n"
      ]
    },
    {
      "cell_type": "markdown",
      "metadata": {
        "id": "-lqePyctNeLW"
      },
      "source": [
        "### 데이터 불러오기\n",
        "\n",
        "book data를 이용합니다. 5강 실습용으로 샘플링된 데이터를 이용하며, 아래 코드를 통해 불러올 수 있습니다."
      ]
    },
    {
      "cell_type": "code",
      "execution_count": 4,
      "metadata": {
        "colab": {
          "base_uri": "https://localhost:8080/"
        },
        "id": "Y_JC3-zFUZil",
        "outputId": "86edf16b-97eb-4329-df24-f0d50aea2d56"
      },
      "outputs": [
        {
          "name": "stdout",
          "output_type": "stream",
          "text": [
            "--2023-03-07 12:52:31--  https://docs.google.com/uc?export=download&confirm=&id=1QojoYUv4h5Zq9pWh61vRXEsId2dXW_lz\n",
            "Resolving docs.google.com (docs.google.com)... 172.253.118.102, 172.253.118.113, 172.253.118.139, ...\n",
            "Connecting to docs.google.com (docs.google.com)|172.253.118.102|:443... connected.\n",
            "HTTP request sent, awaiting response... 303 See Other\n",
            "Location: https://doc-0o-c0-docs.googleusercontent.com/docs/securesc/ha0ro937gcuc7l7deffksulhg5h7mbp1/nf36lemp7l6e0520qolidacbf00te03r/1678193550000/12150633280552813134/*/1QojoYUv4h5Zq9pWh61vRXEsId2dXW_lz?e=download&uuid=70d68c97-c313-4fe2-a434-dc16f8146574 [following]\n",
            "Warning: wildcards not supported in HTTP.\n",
            "--2023-03-07 12:52:31--  https://doc-0o-c0-docs.googleusercontent.com/docs/securesc/ha0ro937gcuc7l7deffksulhg5h7mbp1/nf36lemp7l6e0520qolidacbf00te03r/1678193550000/12150633280552813134/*/1QojoYUv4h5Zq9pWh61vRXEsId2dXW_lz?e=download&uuid=70d68c97-c313-4fe2-a434-dc16f8146574\n",
            "Resolving doc-0o-c0-docs.googleusercontent.com (doc-0o-c0-docs.googleusercontent.com)... 172.217.194.132, 2404:6800:4003:c04::84\n",
            "Connecting to doc-0o-c0-docs.googleusercontent.com (doc-0o-c0-docs.googleusercontent.com)|172.217.194.132|:443... connected.\n",
            "HTTP request sent, awaiting response... 200 OK\n",
            "Length: 9057 (8.8K) [text/csv]\n",
            "Saving to: ‘users.csv’\n",
            "\n",
            "users.csv           100%[===================>]   8.84K  --.-KB/s    in 0s      \n",
            "\n",
            "2023-03-07 12:52:32 (76.9 MB/s) - ‘users.csv’ saved [9057/9057]\n",
            "\n",
            "--2023-03-07 12:52:34--  https://docs.google.com/uc?export=download&confirm=&id=1lPcEfJYk8XMBYD3VbNmqlcCUzZCEdEzk\n",
            "Resolving docs.google.com (docs.google.com)... 172.253.118.102, 172.253.118.113, 172.253.118.139, ...\n",
            "Connecting to docs.google.com (docs.google.com)|172.253.118.102|:443... connected.\n",
            "HTTP request sent, awaiting response... 303 See Other\n",
            "Location: https://doc-0c-c0-docs.googleusercontent.com/docs/securesc/ha0ro937gcuc7l7deffksulhg5h7mbp1/k5l9ve37di6bs7f59sa5fqs7883hs1hu/1678193550000/12150633280552813134/*/1lPcEfJYk8XMBYD3VbNmqlcCUzZCEdEzk?e=download&uuid=89ea8b7e-968b-41ec-afb6-43d282b65bde [following]\n",
            "Warning: wildcards not supported in HTTP.\n",
            "--2023-03-07 12:52:36--  https://doc-0c-c0-docs.googleusercontent.com/docs/securesc/ha0ro937gcuc7l7deffksulhg5h7mbp1/k5l9ve37di6bs7f59sa5fqs7883hs1hu/1678193550000/12150633280552813134/*/1lPcEfJYk8XMBYD3VbNmqlcCUzZCEdEzk?e=download&uuid=89ea8b7e-968b-41ec-afb6-43d282b65bde\n",
            "Resolving doc-0c-c0-docs.googleusercontent.com (doc-0c-c0-docs.googleusercontent.com)... 172.217.194.132, 2404:6800:4003:c04::84\n",
            "Connecting to doc-0c-c0-docs.googleusercontent.com (doc-0c-c0-docs.googleusercontent.com)|172.217.194.132|:443... connected.\n",
            "HTTP request sent, awaiting response... 200 OK\n",
            "Length: 2535524 (2.4M) [text/csv]\n",
            "Saving to: ‘books.csv’\n",
            "\n",
            "books.csv           100%[===================>]   2.42M  --.-KB/s    in 0.03s   \n",
            "\n",
            "2023-03-07 12:52:36 (72.5 MB/s) - ‘books.csv’ saved [2535524/2535524]\n",
            "\n",
            "--2023-03-07 12:52:38--  https://docs.google.com/uc?export=download&confirm=&id=1BbG6l7lCxaoaBxe9PeA4Nbv0UqqzD6nw\n",
            "Resolving docs.google.com (docs.google.com)... 172.253.118.102, 172.253.118.113, 172.253.118.139, ...\n",
            "Connecting to docs.google.com (docs.google.com)|172.253.118.102|:443... connected.\n",
            "HTTP request sent, awaiting response... 303 See Other\n",
            "Location: https://doc-0s-c0-docs.googleusercontent.com/docs/securesc/ha0ro937gcuc7l7deffksulhg5h7mbp1/vq5698bkmdh8uevfgd4b90704ee3skc0/1678193550000/12150633280552813134/*/1BbG6l7lCxaoaBxe9PeA4Nbv0UqqzD6nw?e=download&uuid=28d8122c-a3ed-47a5-904b-541ad1e351ab [following]\n",
            "Warning: wildcards not supported in HTTP.\n",
            "--2023-03-07 12:52:39--  https://doc-0s-c0-docs.googleusercontent.com/docs/securesc/ha0ro937gcuc7l7deffksulhg5h7mbp1/vq5698bkmdh8uevfgd4b90704ee3skc0/1678193550000/12150633280552813134/*/1BbG6l7lCxaoaBxe9PeA4Nbv0UqqzD6nw?e=download&uuid=28d8122c-a3ed-47a5-904b-541ad1e351ab\n",
            "Resolving doc-0s-c0-docs.googleusercontent.com (doc-0s-c0-docs.googleusercontent.com)... 172.217.194.132, 2404:6800:4003:c04::84\n",
            "Connecting to doc-0s-c0-docs.googleusercontent.com (doc-0s-c0-docs.googleusercontent.com)|172.217.194.132|:443... connected.\n",
            "HTTP request sent, awaiting response... 200 OK\n",
            "Length: 671045 (655K) [text/csv]\n",
            "Saving to: ‘ratings.csv’\n",
            "\n",
            "ratings.csv         100%[===================>] 655.32K  --.-KB/s    in 0.01s   \n",
            "\n",
            "2023-03-07 12:52:39 (44.2 MB/s) - ‘ratings.csv’ saved [671045/671045]\n",
            "\n"
          ]
        }
      ],
      "source": [
        "!wget --load-cookies ~/cookies.txt \"https://docs.google.com/uc?export=download&confirm=$(wget --quiet --save-cookies ~/cookies.txt --keep-session-cookies --no-check-certificate 'https://docs.google.com/uc?export=download&id=1QojoYUv4h5Zq9pWh61vRXEsId2dXW_lz' -O- | sed -rn 's/.*confirm=([0-9A-Za-z_]+).*/\\1\\n/p')&id=1QojoYUv4h5Zq9pWh61vRXEsId2dXW_lz\" -O users.csv && rm -rf ~/cookies.txt\n",
        "!wget --load-cookies ~/cookies.txt \"https://docs.google.com/uc?export=download&confirm=$(wget --quiet --save-cookies ~/cookies.txt --keep-session-cookies --no-check-certificate 'https://docs.google.com/uc?export=download&id=1lPcEfJYk8XMBYD3VbNmqlcCUzZCEdEzk' -O- | sed -rn 's/.*confirm=([0-9A-Za-z_]+).*/\\1\\n/p')&id=1lPcEfJYk8XMBYD3VbNmqlcCUzZCEdEzk\" -O books.csv && rm -rf ~/cookies.txt\n",
        "!wget --load-cookies ~/cookies.txt \"https://docs.google.com/uc?export=download&confirm=$(wget --quiet --save-cookies ~/cookies.txt --keep-session-cookies --no-check-certificate 'https://docs.google.com/uc?export=download&id=1BbG6l7lCxaoaBxe9PeA4Nbv0UqqzD6nw' -O- | sed -rn 's/.*confirm=([0-9A-Za-z_]+).*/\\1\\n/p')&id=1BbG6l7lCxaoaBxe9PeA4Nbv0UqqzD6nw\" -O ratings.csv && rm -rf ~/cookies.txt"
      ]
    },
    {
      "cell_type": "code",
      "execution_count": 5,
      "metadata": {
        "id": "o6O9VPyQUflv"
      },
      "outputs": [],
      "source": [
        "import pandas as pd\n",
        "books = pd.read_csv('./books.csv')\n",
        "users = pd.read_csv('./users.csv')\n",
        "ratings = pd.read_csv('./ratings.csv')"
      ]
    },
    {
      "cell_type": "code",
      "execution_count": 6,
      "metadata": {
        "colab": {
          "base_uri": "https://localhost:8080/",
          "height": 206
        },
        "id": "LAV2p81DrNUI",
        "outputId": "daf37889-8cee-434e-c9f0-cc33c7849785"
      },
      "outputs": [
        {
          "data": {
            "text/html": [
              "\n",
              "  <div id=\"df-f56500ff-11dc-4acd-b760-a396f662505a\">\n",
              "    <div class=\"colab-df-container\">\n",
              "      <div>\n",
              "<style scoped>\n",
              "    .dataframe tbody tr th:only-of-type {\n",
              "        vertical-align: middle;\n",
              "    }\n",
              "\n",
              "    .dataframe tbody tr th {\n",
              "        vertical-align: top;\n",
              "    }\n",
              "\n",
              "    .dataframe thead th {\n",
              "        text-align: right;\n",
              "    }\n",
              "</style>\n",
              "<table border=\"1\" class=\"dataframe\">\n",
              "  <thead>\n",
              "    <tr style=\"text-align: right;\">\n",
              "      <th></th>\n",
              "      <th>isbn</th>\n",
              "      <th>book_title</th>\n",
              "      <th>book_author</th>\n",
              "      <th>publisher</th>\n",
              "      <th>language</th>\n",
              "      <th>category</th>\n",
              "    </tr>\n",
              "  </thead>\n",
              "  <tbody>\n",
              "    <tr>\n",
              "      <th>0</th>\n",
              "      <td>0374157065</td>\n",
              "      <td>Flu: The Story of the Great Influenza Pandemic...</td>\n",
              "      <td>Gina Bari Kolata</td>\n",
              "      <td>Farrar Straus Giroux</td>\n",
              "      <td>en</td>\n",
              "      <td>['Medical']</td>\n",
              "    </tr>\n",
              "    <tr>\n",
              "      <th>1</th>\n",
              "      <td>0440234743</td>\n",
              "      <td>The Testament</td>\n",
              "      <td>John Grisham</td>\n",
              "      <td>Dell</td>\n",
              "      <td>en</td>\n",
              "      <td>['Fiction']</td>\n",
              "    </tr>\n",
              "    <tr>\n",
              "      <th>2</th>\n",
              "      <td>0452264464</td>\n",
              "      <td>Beloved (Plume Contemporary Fiction)</td>\n",
              "      <td>Toni Morrison</td>\n",
              "      <td>Plume</td>\n",
              "      <td>en</td>\n",
              "      <td>['Fiction']</td>\n",
              "    </tr>\n",
              "    <tr>\n",
              "      <th>3</th>\n",
              "      <td>0609804618</td>\n",
              "      <td>Our Dumb Century: The Onion Presents 100 Years...</td>\n",
              "      <td>The Onion</td>\n",
              "      <td>Three Rivers Press</td>\n",
              "      <td>en</td>\n",
              "      <td>['Humor']</td>\n",
              "    </tr>\n",
              "    <tr>\n",
              "      <th>4</th>\n",
              "      <td>0345402871</td>\n",
              "      <td>Airframe</td>\n",
              "      <td>Michael Crichton</td>\n",
              "      <td>Ballantine Books</td>\n",
              "      <td>en</td>\n",
              "      <td>['Fiction']</td>\n",
              "    </tr>\n",
              "  </tbody>\n",
              "</table>\n",
              "</div>\n",
              "      <button class=\"colab-df-convert\" onclick=\"convertToInteractive('df-f56500ff-11dc-4acd-b760-a396f662505a')\"\n",
              "              title=\"Convert this dataframe to an interactive table.\"\n",
              "              style=\"display:none;\">\n",
              "        \n",
              "  <svg xmlns=\"http://www.w3.org/2000/svg\" height=\"24px\"viewBox=\"0 0 24 24\"\n",
              "       width=\"24px\">\n",
              "    <path d=\"M0 0h24v24H0V0z\" fill=\"none\"/>\n",
              "    <path d=\"M18.56 5.44l.94 2.06.94-2.06 2.06-.94-2.06-.94-.94-2.06-.94 2.06-2.06.94zm-11 1L8.5 8.5l.94-2.06 2.06-.94-2.06-.94L8.5 2.5l-.94 2.06-2.06.94zm10 10l.94 2.06.94-2.06 2.06-.94-2.06-.94-.94-2.06-.94 2.06-2.06.94z\"/><path d=\"M17.41 7.96l-1.37-1.37c-.4-.4-.92-.59-1.43-.59-.52 0-1.04.2-1.43.59L10.3 9.45l-7.72 7.72c-.78.78-.78 2.05 0 2.83L4 21.41c.39.39.9.59 1.41.59.51 0 1.02-.2 1.41-.59l7.78-7.78 2.81-2.81c.8-.78.8-2.07 0-2.86zM5.41 20L4 18.59l7.72-7.72 1.47 1.35L5.41 20z\"/>\n",
              "  </svg>\n",
              "      </button>\n",
              "      \n",
              "  <style>\n",
              "    .colab-df-container {\n",
              "      display:flex;\n",
              "      flex-wrap:wrap;\n",
              "      gap: 12px;\n",
              "    }\n",
              "\n",
              "    .colab-df-convert {\n",
              "      background-color: #E8F0FE;\n",
              "      border: none;\n",
              "      border-radius: 50%;\n",
              "      cursor: pointer;\n",
              "      display: none;\n",
              "      fill: #1967D2;\n",
              "      height: 32px;\n",
              "      padding: 0 0 0 0;\n",
              "      width: 32px;\n",
              "    }\n",
              "\n",
              "    .colab-df-convert:hover {\n",
              "      background-color: #E2EBFA;\n",
              "      box-shadow: 0px 1px 2px rgba(60, 64, 67, 0.3), 0px 1px 3px 1px rgba(60, 64, 67, 0.15);\n",
              "      fill: #174EA6;\n",
              "    }\n",
              "\n",
              "    [theme=dark] .colab-df-convert {\n",
              "      background-color: #3B4455;\n",
              "      fill: #D2E3FC;\n",
              "    }\n",
              "\n",
              "    [theme=dark] .colab-df-convert:hover {\n",
              "      background-color: #434B5C;\n",
              "      box-shadow: 0px 1px 3px 1px rgba(0, 0, 0, 0.15);\n",
              "      filter: drop-shadow(0px 1px 2px rgba(0, 0, 0, 0.3));\n",
              "      fill: #FFFFFF;\n",
              "    }\n",
              "  </style>\n",
              "\n",
              "      <script>\n",
              "        const buttonEl =\n",
              "          document.querySelector('#df-f56500ff-11dc-4acd-b760-a396f662505a button.colab-df-convert');\n",
              "        buttonEl.style.display =\n",
              "          google.colab.kernel.accessAllowed ? 'block' : 'none';\n",
              "\n",
              "        async function convertToInteractive(key) {\n",
              "          const element = document.querySelector('#df-f56500ff-11dc-4acd-b760-a396f662505a');\n",
              "          const dataTable =\n",
              "            await google.colab.kernel.invokeFunction('convertToInteractive',\n",
              "                                                     [key], {});\n",
              "          if (!dataTable) return;\n",
              "\n",
              "          const docLinkHtml = 'Like what you see? Visit the ' +\n",
              "            '<a target=\"_blank\" href=https://colab.research.google.com/notebooks/data_table.ipynb>data table notebook</a>'\n",
              "            + ' to learn more about interactive tables.';\n",
              "          element.innerHTML = '';\n",
              "          dataTable['output_type'] = 'display_data';\n",
              "          await google.colab.output.renderOutput(dataTable, element);\n",
              "          const docLink = document.createElement('div');\n",
              "          docLink.innerHTML = docLinkHtml;\n",
              "          element.appendChild(docLink);\n",
              "        }\n",
              "      </script>\n",
              "    </div>\n",
              "  </div>\n",
              "  "
            ],
            "text/plain": [
              "         isbn                                         book_title  \\\n",
              "0  0374157065  Flu: The Story of the Great Influenza Pandemic...   \n",
              "1  0440234743                                      The Testament   \n",
              "2  0452264464               Beloved (Plume Contemporary Fiction)   \n",
              "3  0609804618  Our Dumb Century: The Onion Presents 100 Years...   \n",
              "4  0345402871                                           Airframe   \n",
              "\n",
              "        book_author             publisher language     category  \n",
              "0  Gina Bari Kolata  Farrar Straus Giroux       en  ['Medical']  \n",
              "1      John Grisham                  Dell       en  ['Fiction']  \n",
              "2     Toni Morrison                 Plume       en  ['Fiction']  \n",
              "3         The Onion    Three Rivers Press       en    ['Humor']  \n",
              "4  Michael Crichton      Ballantine Books       en  ['Fiction']  "
            ]
          },
          "execution_count": 6,
          "metadata": {},
          "output_type": "execute_result"
        }
      ],
      "source": [
        "books.head()"
      ]
    },
    {
      "cell_type": "code",
      "execution_count": 7,
      "metadata": {
        "colab": {
          "base_uri": "https://localhost:8080/",
          "height": 206
        },
        "id": "MJDiPN0GrQK-",
        "outputId": "96452ec0-1867-4b37-f052-1b71e8e1bc7a"
      },
      "outputs": [
        {
          "data": {
            "text/html": [
              "\n",
              "  <div id=\"df-5ef20f9d-c24e-4122-8b9c-85d2e76de027\">\n",
              "    <div class=\"colab-df-container\">\n",
              "      <div>\n",
              "<style scoped>\n",
              "    .dataframe tbody tr th:only-of-type {\n",
              "        vertical-align: middle;\n",
              "    }\n",
              "\n",
              "    .dataframe tbody tr th {\n",
              "        vertical-align: top;\n",
              "    }\n",
              "\n",
              "    .dataframe thead th {\n",
              "        text-align: right;\n",
              "    }\n",
              "</style>\n",
              "<table border=\"1\" class=\"dataframe\">\n",
              "  <thead>\n",
              "    <tr style=\"text-align: right;\">\n",
              "      <th></th>\n",
              "      <th>user_id</th>\n",
              "      <th>age</th>\n",
              "      <th>location_country</th>\n",
              "      <th>location_state</th>\n",
              "      <th>location_city</th>\n",
              "    </tr>\n",
              "  </thead>\n",
              "  <tbody>\n",
              "    <tr>\n",
              "      <th>0</th>\n",
              "      <td>197659</td>\n",
              "      <td>49</td>\n",
              "      <td>usa</td>\n",
              "      <td>pennsylvania</td>\n",
              "      <td>indiana</td>\n",
              "    </tr>\n",
              "    <tr>\n",
              "      <th>1</th>\n",
              "      <td>48911</td>\n",
              "      <td>57</td>\n",
              "      <td>usa</td>\n",
              "      <td>louisiana</td>\n",
              "      <td>new orleans</td>\n",
              "    </tr>\n",
              "    <tr>\n",
              "      <th>2</th>\n",
              "      <td>70666</td>\n",
              "      <td>18</td>\n",
              "      <td>usa</td>\n",
              "      <td>rhode island</td>\n",
              "      <td>warwick</td>\n",
              "    </tr>\n",
              "    <tr>\n",
              "      <th>3</th>\n",
              "      <td>75819</td>\n",
              "      <td>34</td>\n",
              "      <td>usa</td>\n",
              "      <td>new york</td>\n",
              "      <td>west falls</td>\n",
              "    </tr>\n",
              "    <tr>\n",
              "      <th>4</th>\n",
              "      <td>78973</td>\n",
              "      <td>29</td>\n",
              "      <td>portugal</td>\n",
              "      <td>lisboa</td>\n",
              "      <td>amadora</td>\n",
              "    </tr>\n",
              "  </tbody>\n",
              "</table>\n",
              "</div>\n",
              "      <button class=\"colab-df-convert\" onclick=\"convertToInteractive('df-5ef20f9d-c24e-4122-8b9c-85d2e76de027')\"\n",
              "              title=\"Convert this dataframe to an interactive table.\"\n",
              "              style=\"display:none;\">\n",
              "        \n",
              "  <svg xmlns=\"http://www.w3.org/2000/svg\" height=\"24px\"viewBox=\"0 0 24 24\"\n",
              "       width=\"24px\">\n",
              "    <path d=\"M0 0h24v24H0V0z\" fill=\"none\"/>\n",
              "    <path d=\"M18.56 5.44l.94 2.06.94-2.06 2.06-.94-2.06-.94-.94-2.06-.94 2.06-2.06.94zm-11 1L8.5 8.5l.94-2.06 2.06-.94-2.06-.94L8.5 2.5l-.94 2.06-2.06.94zm10 10l.94 2.06.94-2.06 2.06-.94-2.06-.94-.94-2.06-.94 2.06-2.06.94z\"/><path d=\"M17.41 7.96l-1.37-1.37c-.4-.4-.92-.59-1.43-.59-.52 0-1.04.2-1.43.59L10.3 9.45l-7.72 7.72c-.78.78-.78 2.05 0 2.83L4 21.41c.39.39.9.59 1.41.59.51 0 1.02-.2 1.41-.59l7.78-7.78 2.81-2.81c.8-.78.8-2.07 0-2.86zM5.41 20L4 18.59l7.72-7.72 1.47 1.35L5.41 20z\"/>\n",
              "  </svg>\n",
              "      </button>\n",
              "      \n",
              "  <style>\n",
              "    .colab-df-container {\n",
              "      display:flex;\n",
              "      flex-wrap:wrap;\n",
              "      gap: 12px;\n",
              "    }\n",
              "\n",
              "    .colab-df-convert {\n",
              "      background-color: #E8F0FE;\n",
              "      border: none;\n",
              "      border-radius: 50%;\n",
              "      cursor: pointer;\n",
              "      display: none;\n",
              "      fill: #1967D2;\n",
              "      height: 32px;\n",
              "      padding: 0 0 0 0;\n",
              "      width: 32px;\n",
              "    }\n",
              "\n",
              "    .colab-df-convert:hover {\n",
              "      background-color: #E2EBFA;\n",
              "      box-shadow: 0px 1px 2px rgba(60, 64, 67, 0.3), 0px 1px 3px 1px rgba(60, 64, 67, 0.15);\n",
              "      fill: #174EA6;\n",
              "    }\n",
              "\n",
              "    [theme=dark] .colab-df-convert {\n",
              "      background-color: #3B4455;\n",
              "      fill: #D2E3FC;\n",
              "    }\n",
              "\n",
              "    [theme=dark] .colab-df-convert:hover {\n",
              "      background-color: #434B5C;\n",
              "      box-shadow: 0px 1px 3px 1px rgba(0, 0, 0, 0.15);\n",
              "      filter: drop-shadow(0px 1px 2px rgba(0, 0, 0, 0.3));\n",
              "      fill: #FFFFFF;\n",
              "    }\n",
              "  </style>\n",
              "\n",
              "      <script>\n",
              "        const buttonEl =\n",
              "          document.querySelector('#df-5ef20f9d-c24e-4122-8b9c-85d2e76de027 button.colab-df-convert');\n",
              "        buttonEl.style.display =\n",
              "          google.colab.kernel.accessAllowed ? 'block' : 'none';\n",
              "\n",
              "        async function convertToInteractive(key) {\n",
              "          const element = document.querySelector('#df-5ef20f9d-c24e-4122-8b9c-85d2e76de027');\n",
              "          const dataTable =\n",
              "            await google.colab.kernel.invokeFunction('convertToInteractive',\n",
              "                                                     [key], {});\n",
              "          if (!dataTable) return;\n",
              "\n",
              "          const docLinkHtml = 'Like what you see? Visit the ' +\n",
              "            '<a target=\"_blank\" href=https://colab.research.google.com/notebooks/data_table.ipynb>data table notebook</a>'\n",
              "            + ' to learn more about interactive tables.';\n",
              "          element.innerHTML = '';\n",
              "          dataTable['output_type'] = 'display_data';\n",
              "          await google.colab.output.renderOutput(dataTable, element);\n",
              "          const docLink = document.createElement('div');\n",
              "          docLink.innerHTML = docLinkHtml;\n",
              "          element.appendChild(docLink);\n",
              "        }\n",
              "      </script>\n",
              "    </div>\n",
              "  </div>\n",
              "  "
            ],
            "text/plain": [
              "   user_id  age location_country location_state location_city\n",
              "0   197659   49              usa   pennsylvania       indiana\n",
              "1    48911   57              usa      louisiana   new orleans\n",
              "2    70666   18              usa   rhode island       warwick\n",
              "3    75819   34              usa       new york    west falls\n",
              "4    78973   29         portugal         lisboa       amadora"
            ]
          },
          "execution_count": 7,
          "metadata": {},
          "output_type": "execute_result"
        }
      ],
      "source": [
        "users.head()"
      ]
    },
    {
      "cell_type": "code",
      "execution_count": 8,
      "metadata": {
        "colab": {
          "base_uri": "https://localhost:8080/",
          "height": 206
        },
        "id": "Yf4V0TLfrS81",
        "outputId": "f76cdcf4-bd82-4daf-9df6-4a78219058d4"
      },
      "outputs": [
        {
          "data": {
            "text/html": [
              "\n",
              "  <div id=\"df-ea1dc3b3-9ce0-4a45-9113-df0ec0cb2bbf\">\n",
              "    <div class=\"colab-df-container\">\n",
              "      <div>\n",
              "<style scoped>\n",
              "    .dataframe tbody tr th:only-of-type {\n",
              "        vertical-align: middle;\n",
              "    }\n",
              "\n",
              "    .dataframe tbody tr th {\n",
              "        vertical-align: top;\n",
              "    }\n",
              "\n",
              "    .dataframe thead th {\n",
              "        text-align: right;\n",
              "    }\n",
              "</style>\n",
              "<table border=\"1\" class=\"dataframe\">\n",
              "  <thead>\n",
              "    <tr style=\"text-align: right;\">\n",
              "      <th></th>\n",
              "      <th>user_id</th>\n",
              "      <th>isbn</th>\n",
              "      <th>rating</th>\n",
              "    </tr>\n",
              "  </thead>\n",
              "  <tbody>\n",
              "    <tr>\n",
              "      <th>0</th>\n",
              "      <td>638</td>\n",
              "      <td>0679603352</td>\n",
              "      <td>10</td>\n",
              "    </tr>\n",
              "    <tr>\n",
              "      <th>1</th>\n",
              "      <td>638</td>\n",
              "      <td>0140107649</td>\n",
              "      <td>10</td>\n",
              "    </tr>\n",
              "    <tr>\n",
              "      <th>2</th>\n",
              "      <td>638</td>\n",
              "      <td>0679419624</td>\n",
              "      <td>10</td>\n",
              "    </tr>\n",
              "    <tr>\n",
              "      <th>3</th>\n",
              "      <td>638</td>\n",
              "      <td>0679410430</td>\n",
              "      <td>10</td>\n",
              "    </tr>\n",
              "    <tr>\n",
              "      <th>4</th>\n",
              "      <td>638</td>\n",
              "      <td>0671042556</td>\n",
              "      <td>9</td>\n",
              "    </tr>\n",
              "  </tbody>\n",
              "</table>\n",
              "</div>\n",
              "      <button class=\"colab-df-convert\" onclick=\"convertToInteractive('df-ea1dc3b3-9ce0-4a45-9113-df0ec0cb2bbf')\"\n",
              "              title=\"Convert this dataframe to an interactive table.\"\n",
              "              style=\"display:none;\">\n",
              "        \n",
              "  <svg xmlns=\"http://www.w3.org/2000/svg\" height=\"24px\"viewBox=\"0 0 24 24\"\n",
              "       width=\"24px\">\n",
              "    <path d=\"M0 0h24v24H0V0z\" fill=\"none\"/>\n",
              "    <path d=\"M18.56 5.44l.94 2.06.94-2.06 2.06-.94-2.06-.94-.94-2.06-.94 2.06-2.06.94zm-11 1L8.5 8.5l.94-2.06 2.06-.94-2.06-.94L8.5 2.5l-.94 2.06-2.06.94zm10 10l.94 2.06.94-2.06 2.06-.94-2.06-.94-.94-2.06-.94 2.06-2.06.94z\"/><path d=\"M17.41 7.96l-1.37-1.37c-.4-.4-.92-.59-1.43-.59-.52 0-1.04.2-1.43.59L10.3 9.45l-7.72 7.72c-.78.78-.78 2.05 0 2.83L4 21.41c.39.39.9.59 1.41.59.51 0 1.02-.2 1.41-.59l7.78-7.78 2.81-2.81c.8-.78.8-2.07 0-2.86zM5.41 20L4 18.59l7.72-7.72 1.47 1.35L5.41 20z\"/>\n",
              "  </svg>\n",
              "      </button>\n",
              "      \n",
              "  <style>\n",
              "    .colab-df-container {\n",
              "      display:flex;\n",
              "      flex-wrap:wrap;\n",
              "      gap: 12px;\n",
              "    }\n",
              "\n",
              "    .colab-df-convert {\n",
              "      background-color: #E8F0FE;\n",
              "      border: none;\n",
              "      border-radius: 50%;\n",
              "      cursor: pointer;\n",
              "      display: none;\n",
              "      fill: #1967D2;\n",
              "      height: 32px;\n",
              "      padding: 0 0 0 0;\n",
              "      width: 32px;\n",
              "    }\n",
              "\n",
              "    .colab-df-convert:hover {\n",
              "      background-color: #E2EBFA;\n",
              "      box-shadow: 0px 1px 2px rgba(60, 64, 67, 0.3), 0px 1px 3px 1px rgba(60, 64, 67, 0.15);\n",
              "      fill: #174EA6;\n",
              "    }\n",
              "\n",
              "    [theme=dark] .colab-df-convert {\n",
              "      background-color: #3B4455;\n",
              "      fill: #D2E3FC;\n",
              "    }\n",
              "\n",
              "    [theme=dark] .colab-df-convert:hover {\n",
              "      background-color: #434B5C;\n",
              "      box-shadow: 0px 1px 3px 1px rgba(0, 0, 0, 0.15);\n",
              "      filter: drop-shadow(0px 1px 2px rgba(0, 0, 0, 0.3));\n",
              "      fill: #FFFFFF;\n",
              "    }\n",
              "  </style>\n",
              "\n",
              "      <script>\n",
              "        const buttonEl =\n",
              "          document.querySelector('#df-ea1dc3b3-9ce0-4a45-9113-df0ec0cb2bbf button.colab-df-convert');\n",
              "        buttonEl.style.display =\n",
              "          google.colab.kernel.accessAllowed ? 'block' : 'none';\n",
              "\n",
              "        async function convertToInteractive(key) {\n",
              "          const element = document.querySelector('#df-ea1dc3b3-9ce0-4a45-9113-df0ec0cb2bbf');\n",
              "          const dataTable =\n",
              "            await google.colab.kernel.invokeFunction('convertToInteractive',\n",
              "                                                     [key], {});\n",
              "          if (!dataTable) return;\n",
              "\n",
              "          const docLinkHtml = 'Like what you see? Visit the ' +\n",
              "            '<a target=\"_blank\" href=https://colab.research.google.com/notebooks/data_table.ipynb>data table notebook</a>'\n",
              "            + ' to learn more about interactive tables.';\n",
              "          element.innerHTML = '';\n",
              "          dataTable['output_type'] = 'display_data';\n",
              "          await google.colab.output.renderOutput(dataTable, element);\n",
              "          const docLink = document.createElement('div');\n",
              "          docLink.innerHTML = docLinkHtml;\n",
              "          element.appendChild(docLink);\n",
              "        }\n",
              "      </script>\n",
              "    </div>\n",
              "  </div>\n",
              "  "
            ],
            "text/plain": [
              "   user_id        isbn  rating\n",
              "0      638  0679603352      10\n",
              "1      638  0140107649      10\n",
              "2      638  0679419624      10\n",
              "3      638  0679410430      10\n",
              "4      638  0671042556       9"
            ]
          },
          "execution_count": 8,
          "metadata": {},
          "output_type": "execute_result"
        }
      ],
      "source": [
        "ratings.head()"
      ]
    },
    {
      "cell_type": "code",
      "execution_count": 9,
      "metadata": {
        "colab": {
          "base_uri": "https://localhost:8080/"
        },
        "id": "csO6o03BQ-X7",
        "outputId": "6838d0f9-d8ac-467d-b763-9cee2f3273bf"
      },
      "outputs": [
        {
          "data": {
            "text/plain": [
              "((27204, 6), (247, 5), (33941, 3))"
            ]
          },
          "execution_count": 9,
          "metadata": {},
          "output_type": "execute_result"
        }
      ],
      "source": [
        "# 각 데이터의 크기 확인\n",
        "books.shape, users.shape, ratings.shape"
      ]
    },
    {
      "cell_type": "code",
      "execution_count": 10,
      "metadata": {
        "id": "HYX3bRrZRFyG"
      },
      "outputs": [],
      "source": [
        "user_rating = ratings.merge(users, how='left',left_on = 'user_id', right_on = 'user_id')\n",
        "df = user_rating.merge(books, how='left', left_on = 'isbn', right_on = 'isbn')"
      ]
    },
    {
      "cell_type": "code",
      "execution_count": 11,
      "metadata": {
        "colab": {
          "base_uri": "https://localhost:8080/"
        },
        "id": "8JNRCR7iryk7",
        "outputId": "b64e323d-1ac8-4707-f18c-2624716a3a06"
      },
      "outputs": [
        {
          "data": {
            "text/plain": [
              "user_id             0\n",
              "isbn                0\n",
              "rating              0\n",
              "age                 0\n",
              "location_country    0\n",
              "location_state      0\n",
              "location_city       0\n",
              "book_title          0\n",
              "book_author         0\n",
              "publisher           0\n",
              "language            0\n",
              "category            0\n",
              "dtype: int64"
            ]
          },
          "execution_count": 11,
          "metadata": {},
          "output_type": "execute_result"
        }
      ],
      "source": [
        "#  결측치 확인\n",
        "df.isnull().sum()"
      ]
    },
    {
      "cell_type": "code",
      "execution_count": 12,
      "metadata": {
        "colab": {
          "base_uri": "https://localhost:8080/"
        },
        "id": "5FG8df6yRmqa",
        "outputId": "62816f85-b056-4638-e750-26e2eb88d9aa"
      },
      "outputs": [
        {
          "data": {
            "text/plain": [
              "(33941, 12)"
            ]
          },
          "execution_count": 12,
          "metadata": {},
          "output_type": "execute_result"
        }
      ],
      "source": [
        "df.shape"
      ]
    },
    {
      "cell_type": "code",
      "execution_count": 13,
      "metadata": {
        "colab": {
          "base_uri": "https://localhost:8080/",
          "height": 406
        },
        "id": "1G3djO5tsXjN",
        "outputId": "1b623c40-ba02-448f-8aa2-4aba5de25182"
      },
      "outputs": [
        {
          "data": {
            "text/html": [
              "\n",
              "  <div id=\"df-6634da93-4144-4ef8-9c8f-24fd155ad754\">\n",
              "    <div class=\"colab-df-container\">\n",
              "      <div>\n",
              "<style scoped>\n",
              "    .dataframe tbody tr th:only-of-type {\n",
              "        vertical-align: middle;\n",
              "    }\n",
              "\n",
              "    .dataframe tbody tr th {\n",
              "        vertical-align: top;\n",
              "    }\n",
              "\n",
              "    .dataframe thead th {\n",
              "        text-align: right;\n",
              "    }\n",
              "</style>\n",
              "<table border=\"1\" class=\"dataframe\">\n",
              "  <thead>\n",
              "    <tr style=\"text-align: right;\">\n",
              "      <th></th>\n",
              "      <th>user_id</th>\n",
              "      <th>isbn</th>\n",
              "      <th>rating</th>\n",
              "      <th>age</th>\n",
              "      <th>location_country</th>\n",
              "      <th>location_state</th>\n",
              "      <th>location_city</th>\n",
              "      <th>book_title</th>\n",
              "      <th>book_author</th>\n",
              "      <th>publisher</th>\n",
              "      <th>language</th>\n",
              "      <th>category</th>\n",
              "    </tr>\n",
              "  </thead>\n",
              "  <tbody>\n",
              "    <tr>\n",
              "      <th>0</th>\n",
              "      <td>638</td>\n",
              "      <td>0679603352</td>\n",
              "      <td>10</td>\n",
              "      <td>20</td>\n",
              "      <td>usa</td>\n",
              "      <td>california</td>\n",
              "      <td>san diego</td>\n",
              "      <td>The Cider House Rules: A Novel (Modern Library)</td>\n",
              "      <td>John Irving</td>\n",
              "      <td>Modern Library</td>\n",
              "      <td>en</td>\n",
              "      <td>['Fiction']</td>\n",
              "    </tr>\n",
              "    <tr>\n",
              "      <th>1</th>\n",
              "      <td>638</td>\n",
              "      <td>0140107649</td>\n",
              "      <td>10</td>\n",
              "      <td>20</td>\n",
              "      <td>usa</td>\n",
              "      <td>california</td>\n",
              "      <td>san diego</td>\n",
              "      <td>Blue Heaven (Contemporary American Fiction S.)</td>\n",
              "      <td>Joe Keenan</td>\n",
              "      <td>Penguin Books</td>\n",
              "      <td>en</td>\n",
              "      <td>['Fiction']</td>\n",
              "    </tr>\n",
              "    <tr>\n",
              "      <th>2</th>\n",
              "      <td>638</td>\n",
              "      <td>0679419624</td>\n",
              "      <td>10</td>\n",
              "      <td>20</td>\n",
              "      <td>usa</td>\n",
              "      <td>california</td>\n",
              "      <td>san diego</td>\n",
              "      <td>The Palace Thief</td>\n",
              "      <td>Ethan Canin</td>\n",
              "      <td>Random House Inc</td>\n",
              "      <td>en</td>\n",
              "      <td>['Fiction']</td>\n",
              "    </tr>\n",
              "    <tr>\n",
              "      <th>3</th>\n",
              "      <td>638</td>\n",
              "      <td>0679410430</td>\n",
              "      <td>10</td>\n",
              "      <td>20</td>\n",
              "      <td>usa</td>\n",
              "      <td>california</td>\n",
              "      <td>san diego</td>\n",
              "      <td>Lolita (Everyman's Library (Cloth))</td>\n",
              "      <td>VLADIMIR NABOKOV</td>\n",
              "      <td>Everyman's Library</td>\n",
              "      <td>en</td>\n",
              "      <td>['Fiction']</td>\n",
              "    </tr>\n",
              "    <tr>\n",
              "      <th>4</th>\n",
              "      <td>638</td>\n",
              "      <td>0671042556</td>\n",
              "      <td>9</td>\n",
              "      <td>20</td>\n",
              "      <td>usa</td>\n",
              "      <td>california</td>\n",
              "      <td>san diego</td>\n",
              "      <td>Blackbird: A Childhood Lost and Found</td>\n",
              "      <td>Jennifer Lauck</td>\n",
              "      <td>Atria</td>\n",
              "      <td>en</td>\n",
              "      <td>['Biography &amp; Autobiography']</td>\n",
              "    </tr>\n",
              "  </tbody>\n",
              "</table>\n",
              "</div>\n",
              "      <button class=\"colab-df-convert\" onclick=\"convertToInteractive('df-6634da93-4144-4ef8-9c8f-24fd155ad754')\"\n",
              "              title=\"Convert this dataframe to an interactive table.\"\n",
              "              style=\"display:none;\">\n",
              "        \n",
              "  <svg xmlns=\"http://www.w3.org/2000/svg\" height=\"24px\"viewBox=\"0 0 24 24\"\n",
              "       width=\"24px\">\n",
              "    <path d=\"M0 0h24v24H0V0z\" fill=\"none\"/>\n",
              "    <path d=\"M18.56 5.44l.94 2.06.94-2.06 2.06-.94-2.06-.94-.94-2.06-.94 2.06-2.06.94zm-11 1L8.5 8.5l.94-2.06 2.06-.94-2.06-.94L8.5 2.5l-.94 2.06-2.06.94zm10 10l.94 2.06.94-2.06 2.06-.94-2.06-.94-.94-2.06-.94 2.06-2.06.94z\"/><path d=\"M17.41 7.96l-1.37-1.37c-.4-.4-.92-.59-1.43-.59-.52 0-1.04.2-1.43.59L10.3 9.45l-7.72 7.72c-.78.78-.78 2.05 0 2.83L4 21.41c.39.39.9.59 1.41.59.51 0 1.02-.2 1.41-.59l7.78-7.78 2.81-2.81c.8-.78.8-2.07 0-2.86zM5.41 20L4 18.59l7.72-7.72 1.47 1.35L5.41 20z\"/>\n",
              "  </svg>\n",
              "      </button>\n",
              "      \n",
              "  <style>\n",
              "    .colab-df-container {\n",
              "      display:flex;\n",
              "      flex-wrap:wrap;\n",
              "      gap: 12px;\n",
              "    }\n",
              "\n",
              "    .colab-df-convert {\n",
              "      background-color: #E8F0FE;\n",
              "      border: none;\n",
              "      border-radius: 50%;\n",
              "      cursor: pointer;\n",
              "      display: none;\n",
              "      fill: #1967D2;\n",
              "      height: 32px;\n",
              "      padding: 0 0 0 0;\n",
              "      width: 32px;\n",
              "    }\n",
              "\n",
              "    .colab-df-convert:hover {\n",
              "      background-color: #E2EBFA;\n",
              "      box-shadow: 0px 1px 2px rgba(60, 64, 67, 0.3), 0px 1px 3px 1px rgba(60, 64, 67, 0.15);\n",
              "      fill: #174EA6;\n",
              "    }\n",
              "\n",
              "    [theme=dark] .colab-df-convert {\n",
              "      background-color: #3B4455;\n",
              "      fill: #D2E3FC;\n",
              "    }\n",
              "\n",
              "    [theme=dark] .colab-df-convert:hover {\n",
              "      background-color: #434B5C;\n",
              "      box-shadow: 0px 1px 3px 1px rgba(0, 0, 0, 0.15);\n",
              "      filter: drop-shadow(0px 1px 2px rgba(0, 0, 0, 0.3));\n",
              "      fill: #FFFFFF;\n",
              "    }\n",
              "  </style>\n",
              "\n",
              "      <script>\n",
              "        const buttonEl =\n",
              "          document.querySelector('#df-6634da93-4144-4ef8-9c8f-24fd155ad754 button.colab-df-convert');\n",
              "        buttonEl.style.display =\n",
              "          google.colab.kernel.accessAllowed ? 'block' : 'none';\n",
              "\n",
              "        async function convertToInteractive(key) {\n",
              "          const element = document.querySelector('#df-6634da93-4144-4ef8-9c8f-24fd155ad754');\n",
              "          const dataTable =\n",
              "            await google.colab.kernel.invokeFunction('convertToInteractive',\n",
              "                                                     [key], {});\n",
              "          if (!dataTable) return;\n",
              "\n",
              "          const docLinkHtml = 'Like what you see? Visit the ' +\n",
              "            '<a target=\"_blank\" href=https://colab.research.google.com/notebooks/data_table.ipynb>data table notebook</a>'\n",
              "            + ' to learn more about interactive tables.';\n",
              "          element.innerHTML = '';\n",
              "          dataTable['output_type'] = 'display_data';\n",
              "          await google.colab.output.renderOutput(dataTable, element);\n",
              "          const docLink = document.createElement('div');\n",
              "          docLink.innerHTML = docLinkHtml;\n",
              "          element.appendChild(docLink);\n",
              "        }\n",
              "      </script>\n",
              "    </div>\n",
              "  </div>\n",
              "  "
            ],
            "text/plain": [
              "   user_id        isbn  rating  age location_country location_state  \\\n",
              "0      638  0679603352      10   20              usa     california   \n",
              "1      638  0140107649      10   20              usa     california   \n",
              "2      638  0679419624      10   20              usa     california   \n",
              "3      638  0679410430      10   20              usa     california   \n",
              "4      638  0671042556       9   20              usa     california   \n",
              "\n",
              "  location_city                                       book_title  \\\n",
              "0     san diego  The Cider House Rules: A Novel (Modern Library)   \n",
              "1     san diego   Blue Heaven (Contemporary American Fiction S.)   \n",
              "2     san diego                                 The Palace Thief   \n",
              "3     san diego              Lolita (Everyman's Library (Cloth))   \n",
              "4     san diego            Blackbird: A Childhood Lost and Found   \n",
              "\n",
              "        book_author           publisher language  \\\n",
              "0       John Irving      Modern Library       en   \n",
              "1        Joe Keenan       Penguin Books       en   \n",
              "2       Ethan Canin    Random House Inc       en   \n",
              "3  VLADIMIR NABOKOV  Everyman's Library       en   \n",
              "4    Jennifer Lauck               Atria       en   \n",
              "\n",
              "                        category  \n",
              "0                    ['Fiction']  \n",
              "1                    ['Fiction']  \n",
              "2                    ['Fiction']  \n",
              "3                    ['Fiction']  \n",
              "4  ['Biography & Autobiography']  "
            ]
          },
          "execution_count": 13,
          "metadata": {},
          "output_type": "execute_result"
        }
      ],
      "source": [
        "df.head()"
      ]
    },
    {
      "cell_type": "markdown",
      "metadata": {
        "id": "9K_fxg06RshB"
      },
      "source": [
        "해당 데이터셋에서는 isbn을 item_id로 볼 수 있으며, user_id가 users_id로 볼 수 있습니다.\n",
        "\n",
        "본 실습에서는 편의를 위해 `uid`, `iid`라는 별도의 변수를 제작하여 사용합니다."
      ]
    },
    {
      "cell_type": "markdown",
      "metadata": {
        "id": "cBQoZMAdhyjL"
      },
      "source": [
        "- 먼저, 인덱싱을 위한 딕셔너리를 제작합니다."
      ]
    },
    {
      "cell_type": "code",
      "execution_count": 14,
      "metadata": {
        "id": "51QCiZfAzkwX"
      },
      "outputs": [],
      "source": [
        "userid_unique = df['user_id'].unique()\n",
        "book_unique = df['isbn'].unique()\n",
        "\n",
        "user_to_idx = {v:k for k,v in enumerate(userid_unique)}\n",
        "book_to_idx = {v:k for k,v in enumerate(book_unique)}"
      ]
    },
    {
      "cell_type": "markdown",
      "metadata": {
        "id": "FesxS3Sbhuz8"
      },
      "source": [
        "- 학습의 편의성을 위한 신규 변수, `uid`, `iid`를 추가합니다."
      ]
    },
    {
      "cell_type": "code",
      "execution_count": 15,
      "metadata": {
        "id": "uh6SJLWhDMAA"
      },
      "outputs": [],
      "source": [
        "df['uid'] = df['user_id'].map(user_to_idx)\n",
        "df['iid'] = df['isbn'].map(book_to_idx)"
      ]
    },
    {
      "cell_type": "code",
      "execution_count": 16,
      "metadata": {
        "colab": {
          "base_uri": "https://localhost:8080/",
          "height": 206
        },
        "id": "z9VaGlABEK97",
        "outputId": "2d008efd-d7cd-4e62-be6c-ae9e1c60f28d"
      },
      "outputs": [
        {
          "data": {
            "text/html": [
              "\n",
              "  <div id=\"df-3fa3794b-0ef4-4441-9d77-057c9688254f\">\n",
              "    <div class=\"colab-df-container\">\n",
              "      <div>\n",
              "<style scoped>\n",
              "    .dataframe tbody tr th:only-of-type {\n",
              "        vertical-align: middle;\n",
              "    }\n",
              "\n",
              "    .dataframe tbody tr th {\n",
              "        vertical-align: top;\n",
              "    }\n",
              "\n",
              "    .dataframe thead th {\n",
              "        text-align: right;\n",
              "    }\n",
              "</style>\n",
              "<table border=\"1\" class=\"dataframe\">\n",
              "  <thead>\n",
              "    <tr style=\"text-align: right;\">\n",
              "      <th></th>\n",
              "      <th>uid</th>\n",
              "      <th>iid</th>\n",
              "      <th>rating</th>\n",
              "    </tr>\n",
              "  </thead>\n",
              "  <tbody>\n",
              "    <tr>\n",
              "      <th>0</th>\n",
              "      <td>0</td>\n",
              "      <td>0</td>\n",
              "      <td>10</td>\n",
              "    </tr>\n",
              "    <tr>\n",
              "      <th>1</th>\n",
              "      <td>0</td>\n",
              "      <td>1</td>\n",
              "      <td>10</td>\n",
              "    </tr>\n",
              "    <tr>\n",
              "      <th>2</th>\n",
              "      <td>0</td>\n",
              "      <td>2</td>\n",
              "      <td>10</td>\n",
              "    </tr>\n",
              "    <tr>\n",
              "      <th>3</th>\n",
              "      <td>0</td>\n",
              "      <td>3</td>\n",
              "      <td>10</td>\n",
              "    </tr>\n",
              "    <tr>\n",
              "      <th>4</th>\n",
              "      <td>0</td>\n",
              "      <td>4</td>\n",
              "      <td>9</td>\n",
              "    </tr>\n",
              "  </tbody>\n",
              "</table>\n",
              "</div>\n",
              "      <button class=\"colab-df-convert\" onclick=\"convertToInteractive('df-3fa3794b-0ef4-4441-9d77-057c9688254f')\"\n",
              "              title=\"Convert this dataframe to an interactive table.\"\n",
              "              style=\"display:none;\">\n",
              "        \n",
              "  <svg xmlns=\"http://www.w3.org/2000/svg\" height=\"24px\"viewBox=\"0 0 24 24\"\n",
              "       width=\"24px\">\n",
              "    <path d=\"M0 0h24v24H0V0z\" fill=\"none\"/>\n",
              "    <path d=\"M18.56 5.44l.94 2.06.94-2.06 2.06-.94-2.06-.94-.94-2.06-.94 2.06-2.06.94zm-11 1L8.5 8.5l.94-2.06 2.06-.94-2.06-.94L8.5 2.5l-.94 2.06-2.06.94zm10 10l.94 2.06.94-2.06 2.06-.94-2.06-.94-.94-2.06-.94 2.06-2.06.94z\"/><path d=\"M17.41 7.96l-1.37-1.37c-.4-.4-.92-.59-1.43-.59-.52 0-1.04.2-1.43.59L10.3 9.45l-7.72 7.72c-.78.78-.78 2.05 0 2.83L4 21.41c.39.39.9.59 1.41.59.51 0 1.02-.2 1.41-.59l7.78-7.78 2.81-2.81c.8-.78.8-2.07 0-2.86zM5.41 20L4 18.59l7.72-7.72 1.47 1.35L5.41 20z\"/>\n",
              "  </svg>\n",
              "      </button>\n",
              "      \n",
              "  <style>\n",
              "    .colab-df-container {\n",
              "      display:flex;\n",
              "      flex-wrap:wrap;\n",
              "      gap: 12px;\n",
              "    }\n",
              "\n",
              "    .colab-df-convert {\n",
              "      background-color: #E8F0FE;\n",
              "      border: none;\n",
              "      border-radius: 50%;\n",
              "      cursor: pointer;\n",
              "      display: none;\n",
              "      fill: #1967D2;\n",
              "      height: 32px;\n",
              "      padding: 0 0 0 0;\n",
              "      width: 32px;\n",
              "    }\n",
              "\n",
              "    .colab-df-convert:hover {\n",
              "      background-color: #E2EBFA;\n",
              "      box-shadow: 0px 1px 2px rgba(60, 64, 67, 0.3), 0px 1px 3px 1px rgba(60, 64, 67, 0.15);\n",
              "      fill: #174EA6;\n",
              "    }\n",
              "\n",
              "    [theme=dark] .colab-df-convert {\n",
              "      background-color: #3B4455;\n",
              "      fill: #D2E3FC;\n",
              "    }\n",
              "\n",
              "    [theme=dark] .colab-df-convert:hover {\n",
              "      background-color: #434B5C;\n",
              "      box-shadow: 0px 1px 3px 1px rgba(0, 0, 0, 0.15);\n",
              "      filter: drop-shadow(0px 1px 2px rgba(0, 0, 0, 0.3));\n",
              "      fill: #FFFFFF;\n",
              "    }\n",
              "  </style>\n",
              "\n",
              "      <script>\n",
              "        const buttonEl =\n",
              "          document.querySelector('#df-3fa3794b-0ef4-4441-9d77-057c9688254f button.colab-df-convert');\n",
              "        buttonEl.style.display =\n",
              "          google.colab.kernel.accessAllowed ? 'block' : 'none';\n",
              "\n",
              "        async function convertToInteractive(key) {\n",
              "          const element = document.querySelector('#df-3fa3794b-0ef4-4441-9d77-057c9688254f');\n",
              "          const dataTable =\n",
              "            await google.colab.kernel.invokeFunction('convertToInteractive',\n",
              "                                                     [key], {});\n",
              "          if (!dataTable) return;\n",
              "\n",
              "          const docLinkHtml = 'Like what you see? Visit the ' +\n",
              "            '<a target=\"_blank\" href=https://colab.research.google.com/notebooks/data_table.ipynb>data table notebook</a>'\n",
              "            + ' to learn more about interactive tables.';\n",
              "          element.innerHTML = '';\n",
              "          dataTable['output_type'] = 'display_data';\n",
              "          await google.colab.output.renderOutput(dataTable, element);\n",
              "          const docLink = document.createElement('div');\n",
              "          docLink.innerHTML = docLinkHtml;\n",
              "          element.appendChild(docLink);\n",
              "        }\n",
              "      </script>\n",
              "    </div>\n",
              "  </div>\n",
              "  "
            ],
            "text/plain": [
              "   uid  iid  rating\n",
              "0    0    0      10\n",
              "1    0    1      10\n",
              "2    0    2      10\n",
              "3    0    3      10\n",
              "4    0    4       9"
            ]
          },
          "execution_count": 16,
          "metadata": {},
          "output_type": "execute_result"
        }
      ],
      "source": [
        "df[['uid','iid','rating']].head()"
      ]
    },
    {
      "cell_type": "markdown",
      "metadata": {
        "id": "qor2eW-jZdfp"
      },
      "source": [
        "## [1] Surprise\n",
        "### Surprise 패키지는 무엇인가요?\n",
        "> **Simple Python RecommendatIon System Engine.**  \n",
        "> Surprise is a Python scikit for building and analyzing recommender systems that deal with explicit rating data.   \n",
        ": Python에 기반하며 Scikit-learn API와 비슷한 형태로 제공을 하여 명시적 데이터에 대한 추천 시스템 구현을 도와주는 편리한 라이브러리\n",
        "\n",
        "![image](https://opengraph.githubassets.com/e12ab79c90191ecbac3f90fcd090521a0d5d082cc831e86db11c31883894701c/NicolasHug/Surprise)\n",
        "\n",
        "---\n",
        "\n",
        "우선 Surprise 라이브러리는 Scikit-learn 에서 제공하는 API 와 비슷한 형태를 지녔습니다.\n",
        "\n",
        "구현 프로세스는 일반적인 머신러닝 프로세스처럼 '데이터 로딩 - 모델 설정 및 학습 - 예측 및 평가' 단계로 진행됩니다. \n",
        "\n",
        "하지만 각 단계에서 사용하는 함수나 데이터 포맷 처리 과정에서 약간의 차이점이 존재합니다. 어떤 차이점이 있는지 살펴 보며 진행해 보겠습니다.\n",
        "\n",
        "```\n",
        "- 주요 패키지 및 모듈\n",
        "  - prediction_algorithms package\n",
        "  - model_selection package\n",
        "  - similarities module\n",
        "  - accuracy module\n",
        "```"
      ]
    },
    {
      "cell_type": "markdown",
      "metadata": {
        "id": "0BzWlQmCJ__w"
      },
      "source": [
        "### (1) Transform\n",
        "\n",
        "Surprise에서는 바로 데이터 프레임을 가지고 와서 사용하지 않습니다. 모델 학습에 이용하기 위해선 `Dataset` 형태로 넣어 주어야 합니다. \n",
        "\n",
        "---\n",
        "\n",
        "> `class Dataset`  \n",
        ": 데이터셋 로드를 위한 기본 클래스입니다.\n",
        "\n",
        "클래스를 직접 인스턴스화해서는 안됩니다. 파생 클래스도 동일합니다. 데이터 셋을 로드하는 데 아래 세 가지 방법 중 하나를 사용합니다.\n",
        "\n",
        "1. `load_builtin` : Surprise에 내장된 데이터셋을 가져오는 방법\n",
        "2. `load_from_file` : csv 파일 형태를 가져오는 방법\n",
        "3. `load_from_df` : Pandas의 DataFrame 상태로 되어있는 파일의 데이터를 가져오는 방법\n",
        "\n",
        "\n",
        "이번 수업에서는 가장 익숙한 형태인 데이터 프레임에서부터 surprise 데이터셋을 로드할 수 있는 `load_from_df`에 대해 알아 보겠습니다.\n",
        "\n",
        "\n",
        "```\n",
        "class method `load_from_df(df, reader)`\n",
        " \n",
        "- Parameters:\t\n",
        " - `df (Dataframe)` \n",
        "   - Surprise는 'Movielens'라는 데이터셋에 기초해서 만들어진 추천시스템입니다. \n",
        "   - Surprise를 활용하려는 데이터셋 포맷을 동일하게 해주어야 합니다. \n",
        "   - 반드시 순서를 'user - item - rating' 으로 맞춰 주어야 합니다.\n",
        " - `reader (Reader)` \n",
        "   - Reader 객체를 사용하며, rating_scale을 명시해 주어야 합니다.  \n",
        "   - Reader 클래스는 rating 포함하는 파일을 분해해 줍니다. 이 때, Reader에 rating_scale이 지정되어 있어야 합니다. default는 (1,5)의 범위입니다.\n",
        "```\n"
      ]
    },
    {
      "cell_type": "code",
      "execution_count": 17,
      "metadata": {
        "id": "T6oTjopbA4O2"
      },
      "outputs": [],
      "source": [
        "from surprise import Dataset\n",
        "from surprise import Reader\n",
        "\n",
        "reader = Reader(rating_scale=(1, 10))\n",
        "data = Dataset.load_from_df(df[['uid', 'iid', 'rating']], reader)"
      ]
    },
    {
      "cell_type": "markdown",
      "metadata": {
        "id": "pVf3cKgFPCOO"
      },
      "source": [
        "### (2) Split Data\n",
        "\n",
        "여러 가지 방법으로 할 수 있습니다. \n",
        "scikit-learn에서 데이터 분할하였던 것과 비슷합니다.\n",
        "\n",
        "surprise에서는 크게 아래 표에 명시되어 있는 iterators를 사용하여 데이터를 분할하는  방법과 train_test_split으로 분할하는 방법이 있습니다.\n",
        "\n",
        "| iterator | explanation |\n",
        "| --- | --- |\n",
        "| KFold | A basic cross-validation iterator. |\n",
        "| RepeatedKFold | Repeated KFold cross validator. |\n",
        "| ShuffleSplit | A basic cross-validation iterator with random trainsets and testsets. |\n",
        "| LeaveOneOut | Cross-validation iterator where each user has exactly one rating in the testset. |\n",
        "| PredefinedKFold | A cross-validation iterator to when a dataset has been loaded with the load_from_folds method. |\n",
        "\n",
        "보다 친숙한 train_test_split을 사용하겠습니다.\n"
      ]
    },
    {
      "cell_type": "code",
      "execution_count": 18,
      "metadata": {
        "id": "rddXV7Lynzct"
      },
      "outputs": [],
      "source": [
        "from surprise.model_selection import train_test_split\n",
        "\n",
        "train, test = train_test_split(data, test_size=0.2,\n",
        "                               random_state=42,shuffle=True)"
      ]
    },
    {
      "cell_type": "markdown",
      "metadata": {
        "id": "bUt3SKYgh9DD"
      },
      "source": [
        "- train_test_split로 생성한 두 데이터의 형태는 다릅니다."
      ]
    },
    {
      "cell_type": "code",
      "execution_count": 19,
      "metadata": {
        "colab": {
          "base_uri": "https://localhost:8080/"
        },
        "id": "nxnDgwlX3OE-",
        "outputId": "ffe39237-5752-4050-e318-b9d4fb684cfb"
      },
      "outputs": [
        {
          "data": {
            "text/plain": [
              "(surprise.trainset.Trainset, list)"
            ]
          },
          "execution_count": 19,
          "metadata": {},
          "output_type": "execute_result"
        }
      ],
      "source": [
        "type(train), type(test)"
      ]
    },
    {
      "cell_type": "markdown",
      "metadata": {
        "id": "pKlqKag4iHP4"
      },
      "source": [
        "- test 데이터의 경우, (uid, iid, rating) 형식의 list입니다.\n"
      ]
    },
    {
      "cell_type": "code",
      "execution_count": 20,
      "metadata": {
        "colab": {
          "base_uri": "https://localhost:8080/"
        },
        "id": "E6_HWId_3MQb",
        "outputId": "c9e461b5-6faf-4479-ece2-209afe77c1b0"
      },
      "outputs": [
        {
          "data": {
            "text/plain": [
              "(137, 3359, 6.0)"
            ]
          },
          "execution_count": 20,
          "metadata": {},
          "output_type": "execute_result"
        }
      ],
      "source": [
        "test[100]"
      ]
    },
    {
      "cell_type": "markdown",
      "metadata": {
        "id": "VPppYHZ7Qtw_"
      },
      "source": [
        "### (3) Build & Train Model\n",
        "\n",
        "Suprise에서 지원하는 모델 종류는 아래 표와 같습니다.\n",
        "\n",
        "\n",
        "| Model | explain |\n",
        "| --- | --- |\n",
        "| random_pred.NormalPredictor | Algorithm predicting a random rating based on the distribution of the training set, which is assumed to be normal. |\n",
        "| baseline_only.BaselineOnly | Algorithm predicting the baseline estimate for given user and item. |\n",
        "| knns.KNNBasic | A basic collaborative filtering algorithm. |\n",
        "| knns.KNNWithMeans | A basic collaborative filtering algorithm, taking into account the mean ratings of each user. |\n",
        "| knns.KNNWithZScore | A basic collaborative filtering algorithm, taking into account the z-score normalization of each user. |\n",
        "| knns.KNNBaseline | A basic collaborative filtering algorithm taking into account a baseline rating. |\n",
        "| matrix_factorization.SVD | The famous SVD algorithm, as popularized by Simon Funk during the Netflix Prize.When baselines are not used, this is equivalent to Probabilistic Matrix Factorization [salakhutdinov2008a] (see note below).. |\n",
        "| matrix_factorization.SVDpp | The SVD++ algorithm, an extension of SVD taking into account implicit ratings. |\n",
        "| matrix_factorization.NMF | A collaborative filtering algorithm based on Non-negative Matrix Factorization. |\n",
        "| slope_one.SlopeOne | A simple yet accurate collaborative filtering algorithm. |\n",
        "| co_clustering.CoClustering | A collaborative filtering algorithm based on co-clustering. |\n",
        "\n",
        "우리는 이중, MF 의 일종인 SVD의 예제를 살펴 보겠습니다.\n"
      ]
    },
    {
      "cell_type": "code",
      "execution_count": 21,
      "metadata": {
        "colab": {
          "base_uri": "https://localhost:8080/"
        },
        "id": "mU4gjjOjQvfH",
        "outputId": "60820dfc-5d7b-4dc9-ce5e-ea4104cd4282"
      },
      "outputs": [
        {
          "data": {
            "text/plain": [
              "<surprise.prediction_algorithms.matrix_factorization.SVD at 0x7f5ade0d66a0>"
            ]
          },
          "execution_count": 21,
          "metadata": {},
          "output_type": "execute_result"
        }
      ],
      "source": [
        "from surprise import SVD, SVDpp, KNNBasic\n",
        "\n",
        "model = SVD(random_state=42)\n",
        "model.fit(train)"
      ]
    },
    {
      "cell_type": "markdown",
      "metadata": {
        "id": "GAUk2dp7Q2kL"
      },
      "source": [
        "### (4) Predict\n",
        "\n",
        "model의 하위 메소드를 사용하여, 모델을 예측합니다. 이 때, 두 가지 방법이 있습니다.\n",
        "\n",
        "1.  `test()` 는 **모든** 테스트 데이터에 대한 평점 예측을 예측합니다.   \n",
        "2. `predict()` 는 예측하고 싶은 하나의 데이터의 'user'와 'item'을 인자로 넣어주어 **하나의 예측값**만 반환합니다.\n",
        "\n",
        "\n"
      ]
    },
    {
      "cell_type": "markdown",
      "metadata": {
        "id": "Byf2e8bFiQU6"
      },
      "source": [
        "먼저 test 메소드를 통해 test 데이터에 해당하는 예측해 봅시다."
      ]
    },
    {
      "cell_type": "code",
      "execution_count": 22,
      "metadata": {
        "colab": {
          "base_uri": "https://localhost:8080/"
        },
        "id": "bbNqkxGJ3ulR",
        "outputId": "6fdd114a-da88-4e1e-dd75-b33cda0f6986"
      },
      "outputs": [
        {
          "name": "stdout",
          "output_type": "stream",
          "text": [
            "prediction type:  <class 'list'>\n",
            "size:  6789\n"
          ]
        }
      ],
      "source": [
        "pred = model.test(test)\n",
        "print('prediction type: ', type(pred))\n",
        "print('size: ', len(pred))"
      ]
    },
    {
      "cell_type": "markdown",
      "metadata": {
        "id": "1Q_7eTU0TP3M"
      },
      "source": [
        "prediction에 대한 예시는 다음과 같습니다."
      ]
    },
    {
      "cell_type": "code",
      "execution_count": 23,
      "metadata": {
        "colab": {
          "base_uri": "https://localhost:8080/"
        },
        "id": "yazgRAjxTDjm",
        "outputId": "bc435ca3-5a66-4bf5-ce84-3a45f7f95a16"
      },
      "outputs": [
        {
          "data": {
            "text/plain": [
              "Prediction(uid=137, iid=3359, r_ui=6.0, est=7.5118580086969775, details={'was_impossible': False})"
            ]
          },
          "execution_count": 23,
          "metadata": {},
          "output_type": "execute_result"
        }
      ],
      "source": [
        "pred[100]"
      ]
    },
    {
      "cell_type": "markdown",
      "metadata": {
        "id": "Df0wIlWNxzzC"
      },
      "source": [
        "특이한 점은 리스트 [] 안에 Prediction이라는 객체가 있고, 그 안에 여러 개의 요소가 들어있다는 점입니다.\n",
        "\n",
        "prediction 객체는 유저 아이디(uid), 아이템 아이디(iid)와 실제 평점(r_ui)정보에 기반해 Surprise의 추천 예측 평점(est)데이터를 **튜플 형태**로 가지고 있습니다. \n",
        "\n",
        "- uid : 유저 아이디\n",
        "- iid : 아이템 아이디\n",
        "- r_ui : 실제 평점\n",
        "- est : 예측된 평점\n",
        "\n",
        "details 속성은 내부 처리 시 추천 예측을 할 수 없는 경우에 로그용으로 데이터를 남기는 데 사용합니다.  was_impossible이 true이면 생성 불가, false은 생성 가능하는 의미입니다."
      ]
    },
    {
      "cell_type": "markdown",
      "metadata": {
        "id": "IKQyrcnbVMZc"
      },
      "source": [
        "각 Prediction 객체에서 uid(사용자id), iid(아이템id), r_ui(사용자가 아이템을 평가한 실제 평점), est(예측 평점) 중 특정한 값들만 추출해서 보고 싶다면 아래 코드와 같은 형태를 통해 확인할 수 있습니다."
      ]
    },
    {
      "cell_type": "code",
      "execution_count": 24,
      "metadata": {
        "colab": {
          "base_uri": "https://localhost:8080/"
        },
        "id": "x9dGpViUdirp",
        "outputId": "2368a749-81d4-4d6b-819a-09fab08e927c"
      },
      "outputs": [
        {
          "name": "stdout",
          "output_type": "stream",
          "text": [
            "유저 id : 137\n",
            "아이템 id : 3359\n",
            "실제 평점 : 6.0\n",
            "예측 평점 : 7.5118580086969775\n"
          ]
        }
      ],
      "source": [
        "print(f'유저 id : {pred[100].uid}')\n",
        "print(f'아이템 id : {pred[100].iid}')\n",
        "print(f'실제 평점 : {pred[100].r_ui}')\n",
        "print(f'예측 평점 : {pred[100].est}')"
      ]
    },
    {
      "cell_type": "markdown",
      "metadata": {
        "id": "BdZA7O4aVYVm"
      },
      "source": [
        "model.predict의 경우, 하나의 값만을 반환하는데, 같은 user와 item에 대해 동일한 결과를 예측함을 확인할 수 있습니다.\n"
      ]
    },
    {
      "cell_type": "code",
      "execution_count": 25,
      "metadata": {
        "colab": {
          "base_uri": "https://localhost:8080/"
        },
        "id": "3kACfL3SVcUP",
        "outputId": "62f074c9-9603-44d2-dbfc-66d1f6d0faaf"
      },
      "outputs": [
        {
          "data": {
            "text/plain": [
              "Prediction(uid=137, iid=3359, r_ui=None, est=7.5118580086969775, details={'was_impossible': False})"
            ]
          },
          "execution_count": 25,
          "metadata": {},
          "output_type": "execute_result"
        }
      ],
      "source": [
        "model.predict(pred[100].uid, pred[100].iid)"
      ]
    },
    {
      "cell_type": "markdown",
      "metadata": {
        "id": "2jBA2Bx8Qyq1"
      },
      "source": [
        "### (5) Evaluate\n",
        "\n"
      ]
    },
    {
      "cell_type": "markdown",
      "metadata": {
        "id": "rQQNqlKyx_z_"
      },
      "source": [
        "다음은 평가에 대한 메소드입니다. 이는 accuracy 함수를 사용하면 됩니다. \n",
        "\n",
        "보통은 metric 함수에 테스트 데이터, 예측 데이터 2가지를 모두 넣었지만 Surprise에서는 예측 데이터만 넣어주면 됩니다.\n",
        "\n",
        "surprise에서는 명시적 데이터에 대한 분석만 진행하기 때문에 이를 위한 metric만을 지원합니다.\n",
        "\n",
        "surprise에서 자체적으로 지원하는 metric은 다음과 같습니다."
      ]
    },
    {
      "cell_type": "code",
      "execution_count": 26,
      "metadata": {
        "colab": {
          "base_uri": "https://localhost:8080/"
        },
        "id": "gETbU1aKx922",
        "outputId": "6be8b4ef-a287-498c-a586-5fd6f744ee05"
      },
      "outputs": [
        {
          "name": "stdout",
          "output_type": "stream",
          "text": [
            "RMSE: 2.7276\n"
          ]
        },
        {
          "data": {
            "text/plain": [
              "2.7276064431376854"
            ]
          },
          "execution_count": 26,
          "metadata": {},
          "output_type": "execute_result"
        }
      ],
      "source": [
        "from surprise import accuracy\n",
        "\n",
        "accuracy.rmse(pred)"
      ]
    },
    {
      "cell_type": "code",
      "execution_count": 27,
      "metadata": {
        "colab": {
          "base_uri": "https://localhost:8080/"
        },
        "id": "RwYiL4nhWem2",
        "outputId": "07f84bfd-64d4-4b72-cf90-922b835c2014"
      },
      "outputs": [
        {
          "name": "stdout",
          "output_type": "stream",
          "text": [
            "MAE:  2.0257\n"
          ]
        },
        {
          "data": {
            "text/plain": [
              "2.025678097058506"
            ]
          },
          "execution_count": 27,
          "metadata": {},
          "output_type": "execute_result"
        }
      ],
      "source": [
        "accuracy.mae(pred)"
      ]
    },
    {
      "cell_type": "code",
      "execution_count": 28,
      "metadata": {
        "colab": {
          "base_uri": "https://localhost:8080/"
        },
        "id": "SpPrPkB9Wehf",
        "outputId": "0b833b24-20fb-411c-b2be-a2e5ba07cc73"
      },
      "outputs": [
        {
          "name": "stdout",
          "output_type": "stream",
          "text": [
            "MSE: 7.4398\n"
          ]
        },
        {
          "data": {
            "text/plain": [
              "7.439836908646216"
            ]
          },
          "execution_count": 28,
          "metadata": {},
          "output_type": "execute_result"
        }
      ],
      "source": [
        "accuracy.mse(pred)"
      ]
    },
    {
      "cell_type": "code",
      "execution_count": 29,
      "metadata": {
        "colab": {
          "base_uri": "https://localhost:8080/"
        },
        "id": "rgfSWUXyWebZ",
        "outputId": "cd6696eb-23d8-481a-9c59-d66d41a1f37e"
      },
      "outputs": [
        {
          "name": "stdout",
          "output_type": "stream",
          "text": [
            "FCP:  0.2170\n"
          ]
        },
        {
          "data": {
            "text/plain": [
              "0.2170302784509323"
            ]
          },
          "execution_count": 29,
          "metadata": {},
          "output_type": "execute_result"
        }
      ],
      "source": [
        "accuracy.fcp(pred)"
      ]
    },
    {
      "cell_type": "markdown",
      "metadata": {
        "id": "v6k0xG-I-RBo"
      },
      "source": [
        "+) 추가 정보   \n",
        "\n",
        "하이퍼파라미터 튜닝도 같이하면서 교차검증을 할 수 있는 GridSearchCV를 사용하여 최적의 모델을 찾아 나갈 수도 있습니다.\n",
        "\n",
        "`GridSearchCV`가 cross_validate와 다른 차이점은 모델(알고리즘)을 넣어줄 때 모델을 할당한 변수를 넣지 않고 *모델 자체*를 넣어준다는 것입니다.\n",
        "\n",
        "> **GridSearchCV란?**   \n",
        "GridSearch 는 직접 지정해준 몇 가지 잠재적 Parameter들의 후보군들의 조합 중에서 가장 최적의 조합을 찾아줍니다. 하나씩 대입하며 loss를 확인하는 작업을 GridSearch가 대신해준다고 보면 됩니다.   \n",
        "주어진 하이퍼 파라미터의 값들로 만들어질 수 있는 모든 조합을 탐색합니다. 특정 값에 대한 하이퍼 파라미터 조합을 모두 탐색하고자 할 때 유리하지만, 지정해 준 hyperparameter 후보군의 갯수만큼 비례하여 시간이 늘어나 시간이 매우 오래 걸린다는 단점이 있습니다."
      ]
    },
    {
      "cell_type": "code",
      "execution_count": 30,
      "metadata": {
        "colab": {
          "base_uri": "https://localhost:8080/"
        },
        "id": "kWewcsfqDdsK",
        "outputId": "c02c40ba-67da-491d-8cf4-f4161d54a5ab"
      },
      "outputs": [
        {
          "name": "stdout",
          "output_type": "stream",
          "text": [
            "2.698022666736378\n",
            "{'n_epochs': 20, 'n_factors': 10, 'lr_all': 0.0025, 'reg_all': 0.02, 'random_state': 42}\n"
          ]
        }
      ],
      "source": [
        "from surprise.model_selection import GridSearchCV\n",
        "\n",
        "# GridSearch 할 파라미터 사전적으로 정의\n",
        "# 2 X 4 X 2 X 2 X 1 = N 개의 조합을 탐색\n",
        "param_grid = { 'n_epochs':[10, 20], 'n_factors':[10, 20, 50, 100],\n",
        "              'lr_all': [.0025, .005], 'reg_all':[0.01, 0.02],\n",
        "              'random_state':[42]}\n",
        "\n",
        "grid = GridSearchCV(SVD, param_grid=param_grid, # SVD라는 모델 자체\n",
        "                   measures=['rmse'], cv=3) # measure을 소문자로 작성\n",
        "\n",
        "# GridSearchCV로 데이터 학습시키기\n",
        "grid.fit(data)\n",
        "\n",
        "# 최고의 score와 그 때의 파라미터 출력\n",
        "print(grid.best_score['rmse'])\n",
        "print(grid.best_params['rmse'])"
      ]
    },
    {
      "cell_type": "markdown",
      "metadata": {
        "id": "bpZ9Yy6ZeLeD"
      },
      "source": [
        "refit이라는 파라미터를 통해 바로 predict할 수도 있습니다.\n",
        "\n",
        "> `class GridSearchCV`(algo_class, param_grid, measures=[u'rmse', u'mae'], cv=None, refit=False, return_train_measures=False, n_jobs=1, pre_dispatch=u'2*n_jobs', joblib_verbose=0)\n"
      ]
    },
    {
      "cell_type": "markdown",
      "metadata": {
        "id": "0HuK6I1M0r6T"
      },
      "source": [
        "**Benchmark**\n",
        "\n",
        "`cross_validate`를 통해 각 모델의 benchmark 또한, 살펴볼 수 있습니다."
      ]
    },
    {
      "cell_type": "code",
      "execution_count": 31,
      "metadata": {
        "colab": {
          "base_uri": "https://localhost:8080/",
          "height": 602
        },
        "id": "vbGMrjPFxzQR",
        "outputId": "229ac443-4693-4ede-a9c6-1e27c81d8d71"
      },
      "outputs": [
        {
          "name": "stdout",
          "output_type": "stream",
          "text": [
            "Evaluating RMSE of algorithm SVD on 3 split(s).\n",
            "\n",
            "                  Fold 1  Fold 2  Fold 3  Mean    Std     \n",
            "RMSE (testset)    2.7126  2.6811  2.7353  2.7096  0.0222  \n",
            "Fit time          0.47    0.47    0.45    0.46    0.01    \n",
            "Test time         0.09    0.08    0.08    0.09    0.00    \n",
            "Evaluating RMSE of algorithm SVDpp on 3 split(s).\n",
            "\n",
            "                  Fold 1  Fold 2  Fold 3  Mean    Std     \n",
            "RMSE (testset)    2.7488  2.7161  2.7258  2.7303  0.0137  \n",
            "Fit time          11.92   12.53   15.97   13.47   1.78    \n",
            "Test time         0.58    0.56    0.70    0.61    0.06    \n",
            "Computing the msd similarity matrix...\n",
            "Done computing similarity matrix.\n",
            "Computing the msd similarity matrix...\n",
            "Done computing similarity matrix.\n",
            "Computing the msd similarity matrix...\n",
            "Done computing similarity matrix.\n",
            "Evaluating RMSE of algorithm KNNBasic on 3 split(s).\n",
            "\n",
            "                  Fold 1  Fold 2  Fold 3  Mean    Std     \n",
            "RMSE (testset)    3.0884  3.0883  3.0580  3.0782  0.0143  \n",
            "Fit time          0.00    0.01    0.01    0.01    0.00    \n",
            "Test time         0.11    0.11    0.23    0.15    0.06    \n"
          ]
        },
        {
          "data": {
            "text/html": [
              "\n",
              "  <div id=\"df-c0e1be05-9c09-4efb-83ab-2b33a4b7957b\">\n",
              "    <div class=\"colab-df-container\">\n",
              "      <div>\n",
              "<style scoped>\n",
              "    .dataframe tbody tr th:only-of-type {\n",
              "        vertical-align: middle;\n",
              "    }\n",
              "\n",
              "    .dataframe tbody tr th {\n",
              "        vertical-align: top;\n",
              "    }\n",
              "\n",
              "    .dataframe thead th {\n",
              "        text-align: right;\n",
              "    }\n",
              "</style>\n",
              "<table border=\"1\" class=\"dataframe\">\n",
              "  <thead>\n",
              "    <tr style=\"text-align: right;\">\n",
              "      <th></th>\n",
              "      <th>test_rmse</th>\n",
              "      <th>fit_time</th>\n",
              "      <th>test_time</th>\n",
              "    </tr>\n",
              "    <tr>\n",
              "      <th>Algorithm</th>\n",
              "      <th></th>\n",
              "      <th></th>\n",
              "      <th></th>\n",
              "    </tr>\n",
              "  </thead>\n",
              "  <tbody>\n",
              "    <tr>\n",
              "      <th>SVD</th>\n",
              "      <td>2.709634</td>\n",
              "      <td>0.462376</td>\n",
              "      <td>0.085703</td>\n",
              "    </tr>\n",
              "    <tr>\n",
              "      <th>SVDpp</th>\n",
              "      <td>2.730264</td>\n",
              "      <td>13.472852</td>\n",
              "      <td>0.612299</td>\n",
              "    </tr>\n",
              "    <tr>\n",
              "      <th>KNNBasic</th>\n",
              "      <td>3.078240</td>\n",
              "      <td>0.006035</td>\n",
              "      <td>0.150200</td>\n",
              "    </tr>\n",
              "  </tbody>\n",
              "</table>\n",
              "</div>\n",
              "      <button class=\"colab-df-convert\" onclick=\"convertToInteractive('df-c0e1be05-9c09-4efb-83ab-2b33a4b7957b')\"\n",
              "              title=\"Convert this dataframe to an interactive table.\"\n",
              "              style=\"display:none;\">\n",
              "        \n",
              "  <svg xmlns=\"http://www.w3.org/2000/svg\" height=\"24px\"viewBox=\"0 0 24 24\"\n",
              "       width=\"24px\">\n",
              "    <path d=\"M0 0h24v24H0V0z\" fill=\"none\"/>\n",
              "    <path d=\"M18.56 5.44l.94 2.06.94-2.06 2.06-.94-2.06-.94-.94-2.06-.94 2.06-2.06.94zm-11 1L8.5 8.5l.94-2.06 2.06-.94-2.06-.94L8.5 2.5l-.94 2.06-2.06.94zm10 10l.94 2.06.94-2.06 2.06-.94-2.06-.94-.94-2.06-.94 2.06-2.06.94z\"/><path d=\"M17.41 7.96l-1.37-1.37c-.4-.4-.92-.59-1.43-.59-.52 0-1.04.2-1.43.59L10.3 9.45l-7.72 7.72c-.78.78-.78 2.05 0 2.83L4 21.41c.39.39.9.59 1.41.59.51 0 1.02-.2 1.41-.59l7.78-7.78 2.81-2.81c.8-.78.8-2.07 0-2.86zM5.41 20L4 18.59l7.72-7.72 1.47 1.35L5.41 20z\"/>\n",
              "  </svg>\n",
              "      </button>\n",
              "      \n",
              "  <style>\n",
              "    .colab-df-container {\n",
              "      display:flex;\n",
              "      flex-wrap:wrap;\n",
              "      gap: 12px;\n",
              "    }\n",
              "\n",
              "    .colab-df-convert {\n",
              "      background-color: #E8F0FE;\n",
              "      border: none;\n",
              "      border-radius: 50%;\n",
              "      cursor: pointer;\n",
              "      display: none;\n",
              "      fill: #1967D2;\n",
              "      height: 32px;\n",
              "      padding: 0 0 0 0;\n",
              "      width: 32px;\n",
              "    }\n",
              "\n",
              "    .colab-df-convert:hover {\n",
              "      background-color: #E2EBFA;\n",
              "      box-shadow: 0px 1px 2px rgba(60, 64, 67, 0.3), 0px 1px 3px 1px rgba(60, 64, 67, 0.15);\n",
              "      fill: #174EA6;\n",
              "    }\n",
              "\n",
              "    [theme=dark] .colab-df-convert {\n",
              "      background-color: #3B4455;\n",
              "      fill: #D2E3FC;\n",
              "    }\n",
              "\n",
              "    [theme=dark] .colab-df-convert:hover {\n",
              "      background-color: #434B5C;\n",
              "      box-shadow: 0px 1px 3px 1px rgba(0, 0, 0, 0.15);\n",
              "      filter: drop-shadow(0px 1px 2px rgba(0, 0, 0, 0.3));\n",
              "      fill: #FFFFFF;\n",
              "    }\n",
              "  </style>\n",
              "\n",
              "      <script>\n",
              "        const buttonEl =\n",
              "          document.querySelector('#df-c0e1be05-9c09-4efb-83ab-2b33a4b7957b button.colab-df-convert');\n",
              "        buttonEl.style.display =\n",
              "          google.colab.kernel.accessAllowed ? 'block' : 'none';\n",
              "\n",
              "        async function convertToInteractive(key) {\n",
              "          const element = document.querySelector('#df-c0e1be05-9c09-4efb-83ab-2b33a4b7957b');\n",
              "          const dataTable =\n",
              "            await google.colab.kernel.invokeFunction('convertToInteractive',\n",
              "                                                     [key], {});\n",
              "          if (!dataTable) return;\n",
              "\n",
              "          const docLinkHtml = 'Like what you see? Visit the ' +\n",
              "            '<a target=\"_blank\" href=https://colab.research.google.com/notebooks/data_table.ipynb>data table notebook</a>'\n",
              "            + ' to learn more about interactive tables.';\n",
              "          element.innerHTML = '';\n",
              "          dataTable['output_type'] = 'display_data';\n",
              "          await google.colab.output.renderOutput(dataTable, element);\n",
              "          const docLink = document.createElement('div');\n",
              "          docLink.innerHTML = docLinkHtml;\n",
              "          element.appendChild(docLink);\n",
              "        }\n",
              "      </script>\n",
              "    </div>\n",
              "  </div>\n",
              "  "
            ],
            "text/plain": [
              "           test_rmse   fit_time  test_time\n",
              "Algorithm                                 \n",
              "SVD         2.709634   0.462376   0.085703\n",
              "SVDpp       2.730264  13.472852   0.612299\n",
              "KNNBasic    3.078240   0.006035   0.150200"
            ]
          },
          "execution_count": 31,
          "metadata": {},
          "output_type": "execute_result"
        }
      ],
      "source": [
        "from surprise.model_selection import cross_validate\n",
        "\n",
        "# surprise 알고리즘 Benchmark\n",
        "benchmark = []\n",
        "for algorithm in [SVD(random_state=42), SVDpp(random_state=42), KNNBasic(random_state=42)]:\n",
        "    \n",
        "    # 교차검증 수행\n",
        "    result = cross_validate(algorithm, data, measures=['RMSE'], cv=3, verbose=True)\n",
        "    \n",
        "    # 결과 저장과 알고리즘 이름 추가\n",
        "    tmp = pd.DataFrame.from_dict(result).mean(axis=0)\n",
        "    tmp = tmp.append(pd.Series([str(algorithm).split(' ')[0].split('.')[-1]], index=['Algorithm']))\n",
        "    benchmark.append(tmp)\n",
        "\n",
        "pd.DataFrame(benchmark).set_index('Algorithm').sort_values('test_rmse')    "
      ]
    },
    {
      "cell_type": "markdown",
      "metadata": {
        "id": "54u-eZjjZddY"
      },
      "source": [
        "---\n",
        "## [2] implicit\n",
        "### implicit 패키지는 무엇인가요?\n",
        "> **Fast Python Collaborative Filtering for Implicit Datasets.**   \n",
        ": 암시적 피드백(implicit) 데이터에 대한 여러 가지 인기 있는 추천 알고리즘의 빠른 Python 구현을 제공합니다.\n",
        "\n",
        "---\n",
        "![image](https://opengraph.githubassets.com/91c5608562feaa210c6c2b827bc005dc304d1f3e1c8d5848ce28a1f220ea0677/benfred/implicit)\n",
        "\n"
      ]
    },
    {
      "cell_type": "markdown",
      "metadata": {
        "id": "C9Vp7chGhN3h"
      },
      "source": [
        "먼저 기존의 명시적 피드백을 암시적 피드백으로 바꾸어 생각해 봅시다. 평점 데이터는 대표적인 명시적 피드백 데이터입니다. 하지만 암시적 데이터로 간주하고 진행할 수 있습니다.\n",
        "\n",
        "우리에게 주어진 ratings 를 click으로 치환하여 생각해 봅시다."
      ]
    },
    {
      "cell_type": "code",
      "execution_count": 32,
      "metadata": {
        "id": "B9r894QhiF8V"
      },
      "outputs": [],
      "source": [
        "interaction = df.copy().reset_index(drop=True)\n",
        "interaction.rename({'rating':'click'},axis=1,inplace=True)"
      ]
    },
    {
      "cell_type": "markdown",
      "metadata": {
        "id": "IEbnbqBuMq-n"
      },
      "source": [
        "### (1) Transform\n",
        "우리는 보통 데이터프레임에서 희소 행렬을 만들 때, `pd.pivot_table()`을 통해 데이터를 변환하여 주었습니다. \n",
        "\n",
        "그러나 그 경우, 대부분의 행렬의 값이 0이기 때문에 연산 시 필요없는 부분이 상당히 많아집니다. 행렬 연산에 수많은 0을 연산하는 것은 비효율적인 뿐 아니라 계산에서도 비효율적입니다.\n",
        "\n",
        "implicit에서는 자체로 제공하고 있는 데이터셋 외에는 이에 대한 처리를 해주어야 합니다.\n",
        "\n",
        "이 때, 두 가지 방식을 살펴 볼 수 있습니다.\n",
        "- coo_matrix (user x item) : Coordinate list matrix의 약자\n",
        "  - `coo_matrix`의 경우,\n",
        " (row, column, value) tuples의 형태로 0 이 아닌 값을 저장합니다. tuple 에는 (row, column, data) 인 (i, j, v) 가 저장됩니다.\n",
        "- csr matrix (user x item) : Compressed Sparse Row matrix의 약자\n",
        "  - csr matrix의 경우, Row 순서대로 데이터를 저장합니다. 예시 행렬을 아래와 같은 형식으로 나타낼 수 있습니다. \n",
        "\n",
        "  \\begin{pmatrix}5&0&0&0\\\\0&8&0&0\\\\0&0&3&0\\\\0&6&0&0\\\\\\end{pmatrix}\n",
        "\n",
        "  ```\n",
        "  V         = [ 5 8 3 6 ]\n",
        "  COL_INDEX = [ 0 1 2 1 ]\n",
        "  ROW_INDEX = [ 0 1 2 3 4 ] \n",
        "  ```\n",
        "  Sparse한 matrix에서 0이 아닌 유효한 데이터로 채워지는 데이터의 값과 좌표 정보만으로 구성하여 메모리 사용량을 최소화하면서도 Sparse한 matrix와 동일한 행렬을 표현할 수 있도록 하는 데이터 구조입니다.\n",
        "\n",
        "  일반적으로 coo_matrix 방식에 비해 연산량이 적기 때문에 이번 실습에서는 scipy의 `csr_matrix`를 이용하여, 데이터를 변환하고 이를 모델 학습에 사용하도록 하겠습니다."
      ]
    },
    {
      "cell_type": "code",
      "execution_count": 33,
      "metadata": {
        "id": "O7NlnuY_H7Wo"
      },
      "outputs": [],
      "source": [
        "interaction_sparse = pd.pivot_table(interaction, \n",
        "                     index = 'uid',  \n",
        "                     columns = 'iid',  \n",
        "                     values = 'click').fillna(0)"
      ]
    },
    {
      "cell_type": "code",
      "execution_count": 34,
      "metadata": {
        "colab": {
          "base_uri": "https://localhost:8080/",
          "height": 206
        },
        "id": "1zyFYtwJt10M",
        "outputId": "b521bd93-0690-4863-e9ba-9d9f242c17e8"
      },
      "outputs": [
        {
          "data": {
            "text/html": [
              "\n",
              "  <div id=\"df-6732bafc-ce5e-4543-aa9c-fe3f8c2d70f7\">\n",
              "    <div class=\"colab-df-container\">\n",
              "      <div>\n",
              "<style scoped>\n",
              "    .dataframe tbody tr th:only-of-type {\n",
              "        vertical-align: middle;\n",
              "    }\n",
              "\n",
              "    .dataframe tbody tr th {\n",
              "        vertical-align: top;\n",
              "    }\n",
              "\n",
              "    .dataframe thead th {\n",
              "        text-align: right;\n",
              "    }\n",
              "</style>\n",
              "<table border=\"1\" class=\"dataframe\">\n",
              "  <thead>\n",
              "    <tr style=\"text-align: right;\">\n",
              "      <th></th>\n",
              "      <th>uid</th>\n",
              "      <th>iid</th>\n",
              "      <th>click</th>\n",
              "    </tr>\n",
              "  </thead>\n",
              "  <tbody>\n",
              "    <tr>\n",
              "      <th>0</th>\n",
              "      <td>0</td>\n",
              "      <td>0</td>\n",
              "      <td>10</td>\n",
              "    </tr>\n",
              "    <tr>\n",
              "      <th>1</th>\n",
              "      <td>0</td>\n",
              "      <td>1</td>\n",
              "      <td>10</td>\n",
              "    </tr>\n",
              "    <tr>\n",
              "      <th>2</th>\n",
              "      <td>0</td>\n",
              "      <td>2</td>\n",
              "      <td>10</td>\n",
              "    </tr>\n",
              "    <tr>\n",
              "      <th>3</th>\n",
              "      <td>0</td>\n",
              "      <td>3</td>\n",
              "      <td>10</td>\n",
              "    </tr>\n",
              "    <tr>\n",
              "      <th>4</th>\n",
              "      <td>0</td>\n",
              "      <td>4</td>\n",
              "      <td>9</td>\n",
              "    </tr>\n",
              "  </tbody>\n",
              "</table>\n",
              "</div>\n",
              "      <button class=\"colab-df-convert\" onclick=\"convertToInteractive('df-6732bafc-ce5e-4543-aa9c-fe3f8c2d70f7')\"\n",
              "              title=\"Convert this dataframe to an interactive table.\"\n",
              "              style=\"display:none;\">\n",
              "        \n",
              "  <svg xmlns=\"http://www.w3.org/2000/svg\" height=\"24px\"viewBox=\"0 0 24 24\"\n",
              "       width=\"24px\">\n",
              "    <path d=\"M0 0h24v24H0V0z\" fill=\"none\"/>\n",
              "    <path d=\"M18.56 5.44l.94 2.06.94-2.06 2.06-.94-2.06-.94-.94-2.06-.94 2.06-2.06.94zm-11 1L8.5 8.5l.94-2.06 2.06-.94-2.06-.94L8.5 2.5l-.94 2.06-2.06.94zm10 10l.94 2.06.94-2.06 2.06-.94-2.06-.94-.94-2.06-.94 2.06-2.06.94z\"/><path d=\"M17.41 7.96l-1.37-1.37c-.4-.4-.92-.59-1.43-.59-.52 0-1.04.2-1.43.59L10.3 9.45l-7.72 7.72c-.78.78-.78 2.05 0 2.83L4 21.41c.39.39.9.59 1.41.59.51 0 1.02-.2 1.41-.59l7.78-7.78 2.81-2.81c.8-.78.8-2.07 0-2.86zM5.41 20L4 18.59l7.72-7.72 1.47 1.35L5.41 20z\"/>\n",
              "  </svg>\n",
              "      </button>\n",
              "      \n",
              "  <style>\n",
              "    .colab-df-container {\n",
              "      display:flex;\n",
              "      flex-wrap:wrap;\n",
              "      gap: 12px;\n",
              "    }\n",
              "\n",
              "    .colab-df-convert {\n",
              "      background-color: #E8F0FE;\n",
              "      border: none;\n",
              "      border-radius: 50%;\n",
              "      cursor: pointer;\n",
              "      display: none;\n",
              "      fill: #1967D2;\n",
              "      height: 32px;\n",
              "      padding: 0 0 0 0;\n",
              "      width: 32px;\n",
              "    }\n",
              "\n",
              "    .colab-df-convert:hover {\n",
              "      background-color: #E2EBFA;\n",
              "      box-shadow: 0px 1px 2px rgba(60, 64, 67, 0.3), 0px 1px 3px 1px rgba(60, 64, 67, 0.15);\n",
              "      fill: #174EA6;\n",
              "    }\n",
              "\n",
              "    [theme=dark] .colab-df-convert {\n",
              "      background-color: #3B4455;\n",
              "      fill: #D2E3FC;\n",
              "    }\n",
              "\n",
              "    [theme=dark] .colab-df-convert:hover {\n",
              "      background-color: #434B5C;\n",
              "      box-shadow: 0px 1px 3px 1px rgba(0, 0, 0, 0.15);\n",
              "      filter: drop-shadow(0px 1px 2px rgba(0, 0, 0, 0.3));\n",
              "      fill: #FFFFFF;\n",
              "    }\n",
              "  </style>\n",
              "\n",
              "      <script>\n",
              "        const buttonEl =\n",
              "          document.querySelector('#df-6732bafc-ce5e-4543-aa9c-fe3f8c2d70f7 button.colab-df-convert');\n",
              "        buttonEl.style.display =\n",
              "          google.colab.kernel.accessAllowed ? 'block' : 'none';\n",
              "\n",
              "        async function convertToInteractive(key) {\n",
              "          const element = document.querySelector('#df-6732bafc-ce5e-4543-aa9c-fe3f8c2d70f7');\n",
              "          const dataTable =\n",
              "            await google.colab.kernel.invokeFunction('convertToInteractive',\n",
              "                                                     [key], {});\n",
              "          if (!dataTable) return;\n",
              "\n",
              "          const docLinkHtml = 'Like what you see? Visit the ' +\n",
              "            '<a target=\"_blank\" href=https://colab.research.google.com/notebooks/data_table.ipynb>data table notebook</a>'\n",
              "            + ' to learn more about interactive tables.';\n",
              "          element.innerHTML = '';\n",
              "          dataTable['output_type'] = 'display_data';\n",
              "          await google.colab.output.renderOutput(dataTable, element);\n",
              "          const docLink = document.createElement('div');\n",
              "          docLink.innerHTML = docLinkHtml;\n",
              "          element.appendChild(docLink);\n",
              "        }\n",
              "      </script>\n",
              "    </div>\n",
              "  </div>\n",
              "  "
            ],
            "text/plain": [
              "   uid  iid  click\n",
              "0    0    0     10\n",
              "1    0    1     10\n",
              "2    0    2     10\n",
              "3    0    3     10\n",
              "4    0    4      9"
            ]
          },
          "execution_count": 34,
          "metadata": {},
          "output_type": "execute_result"
        }
      ],
      "source": [
        "interaction[['uid','iid','click']].head()"
      ]
    },
    {
      "cell_type": "code",
      "execution_count": 35,
      "metadata": {
        "colab": {
          "base_uri": "https://localhost:8080/",
          "height": 285
        },
        "id": "wyRSQHtlIaaa",
        "outputId": "7cc76792-8ad0-4033-fda2-2c38185740f4"
      },
      "outputs": [
        {
          "data": {
            "text/html": [
              "\n",
              "  <div id=\"df-261e7522-3ee7-49f7-b29b-481361d9c3a4\">\n",
              "    <div class=\"colab-df-container\">\n",
              "      <div>\n",
              "<style scoped>\n",
              "    .dataframe tbody tr th:only-of-type {\n",
              "        vertical-align: middle;\n",
              "    }\n",
              "\n",
              "    .dataframe tbody tr th {\n",
              "        vertical-align: top;\n",
              "    }\n",
              "\n",
              "    .dataframe thead th {\n",
              "        text-align: right;\n",
              "    }\n",
              "</style>\n",
              "<table border=\"1\" class=\"dataframe\">\n",
              "  <thead>\n",
              "    <tr style=\"text-align: right;\">\n",
              "      <th>iid</th>\n",
              "      <th>0</th>\n",
              "      <th>1</th>\n",
              "      <th>2</th>\n",
              "      <th>3</th>\n",
              "      <th>4</th>\n",
              "      <th>5</th>\n",
              "      <th>6</th>\n",
              "      <th>7</th>\n",
              "      <th>8</th>\n",
              "      <th>9</th>\n",
              "      <th>...</th>\n",
              "      <th>27194</th>\n",
              "      <th>27195</th>\n",
              "      <th>27196</th>\n",
              "      <th>27197</th>\n",
              "      <th>27198</th>\n",
              "      <th>27199</th>\n",
              "      <th>27200</th>\n",
              "      <th>27201</th>\n",
              "      <th>27202</th>\n",
              "      <th>27203</th>\n",
              "    </tr>\n",
              "    <tr>\n",
              "      <th>uid</th>\n",
              "      <th></th>\n",
              "      <th></th>\n",
              "      <th></th>\n",
              "      <th></th>\n",
              "      <th></th>\n",
              "      <th></th>\n",
              "      <th></th>\n",
              "      <th></th>\n",
              "      <th></th>\n",
              "      <th></th>\n",
              "      <th></th>\n",
              "      <th></th>\n",
              "      <th></th>\n",
              "      <th></th>\n",
              "      <th></th>\n",
              "      <th></th>\n",
              "      <th></th>\n",
              "      <th></th>\n",
              "      <th></th>\n",
              "      <th></th>\n",
              "      <th></th>\n",
              "    </tr>\n",
              "  </thead>\n",
              "  <tbody>\n",
              "    <tr>\n",
              "      <th>0</th>\n",
              "      <td>10.0</td>\n",
              "      <td>10.0</td>\n",
              "      <td>10.0</td>\n",
              "      <td>10.0</td>\n",
              "      <td>9.0</td>\n",
              "      <td>7.0</td>\n",
              "      <td>8.0</td>\n",
              "      <td>8.0</td>\n",
              "      <td>10.0</td>\n",
              "      <td>1.0</td>\n",
              "      <td>...</td>\n",
              "      <td>0.0</td>\n",
              "      <td>0.0</td>\n",
              "      <td>0.0</td>\n",
              "      <td>0.0</td>\n",
              "      <td>0.0</td>\n",
              "      <td>0.0</td>\n",
              "      <td>0.0</td>\n",
              "      <td>0.0</td>\n",
              "      <td>0.0</td>\n",
              "      <td>0.0</td>\n",
              "    </tr>\n",
              "    <tr>\n",
              "      <th>1</th>\n",
              "      <td>0.0</td>\n",
              "      <td>0.0</td>\n",
              "      <td>0.0</td>\n",
              "      <td>0.0</td>\n",
              "      <td>0.0</td>\n",
              "      <td>0.0</td>\n",
              "      <td>0.0</td>\n",
              "      <td>0.0</td>\n",
              "      <td>0.0</td>\n",
              "      <td>0.0</td>\n",
              "      <td>...</td>\n",
              "      <td>0.0</td>\n",
              "      <td>0.0</td>\n",
              "      <td>0.0</td>\n",
              "      <td>0.0</td>\n",
              "      <td>0.0</td>\n",
              "      <td>0.0</td>\n",
              "      <td>0.0</td>\n",
              "      <td>0.0</td>\n",
              "      <td>0.0</td>\n",
              "      <td>0.0</td>\n",
              "    </tr>\n",
              "    <tr>\n",
              "      <th>2</th>\n",
              "      <td>0.0</td>\n",
              "      <td>0.0</td>\n",
              "      <td>0.0</td>\n",
              "      <td>0.0</td>\n",
              "      <td>0.0</td>\n",
              "      <td>0.0</td>\n",
              "      <td>0.0</td>\n",
              "      <td>0.0</td>\n",
              "      <td>0.0</td>\n",
              "      <td>0.0</td>\n",
              "      <td>...</td>\n",
              "      <td>0.0</td>\n",
              "      <td>0.0</td>\n",
              "      <td>0.0</td>\n",
              "      <td>0.0</td>\n",
              "      <td>0.0</td>\n",
              "      <td>0.0</td>\n",
              "      <td>0.0</td>\n",
              "      <td>0.0</td>\n",
              "      <td>0.0</td>\n",
              "      <td>0.0</td>\n",
              "    </tr>\n",
              "    <tr>\n",
              "      <th>3</th>\n",
              "      <td>0.0</td>\n",
              "      <td>0.0</td>\n",
              "      <td>0.0</td>\n",
              "      <td>0.0</td>\n",
              "      <td>0.0</td>\n",
              "      <td>8.0</td>\n",
              "      <td>0.0</td>\n",
              "      <td>0.0</td>\n",
              "      <td>0.0</td>\n",
              "      <td>0.0</td>\n",
              "      <td>...</td>\n",
              "      <td>0.0</td>\n",
              "      <td>0.0</td>\n",
              "      <td>0.0</td>\n",
              "      <td>0.0</td>\n",
              "      <td>0.0</td>\n",
              "      <td>0.0</td>\n",
              "      <td>0.0</td>\n",
              "      <td>0.0</td>\n",
              "      <td>0.0</td>\n",
              "      <td>0.0</td>\n",
              "    </tr>\n",
              "    <tr>\n",
              "      <th>4</th>\n",
              "      <td>0.0</td>\n",
              "      <td>0.0</td>\n",
              "      <td>0.0</td>\n",
              "      <td>0.0</td>\n",
              "      <td>0.0</td>\n",
              "      <td>0.0</td>\n",
              "      <td>0.0</td>\n",
              "      <td>0.0</td>\n",
              "      <td>0.0</td>\n",
              "      <td>0.0</td>\n",
              "      <td>...</td>\n",
              "      <td>0.0</td>\n",
              "      <td>0.0</td>\n",
              "      <td>0.0</td>\n",
              "      <td>0.0</td>\n",
              "      <td>0.0</td>\n",
              "      <td>0.0</td>\n",
              "      <td>0.0</td>\n",
              "      <td>0.0</td>\n",
              "      <td>0.0</td>\n",
              "      <td>0.0</td>\n",
              "    </tr>\n",
              "  </tbody>\n",
              "</table>\n",
              "<p>5 rows × 27204 columns</p>\n",
              "</div>\n",
              "      <button class=\"colab-df-convert\" onclick=\"convertToInteractive('df-261e7522-3ee7-49f7-b29b-481361d9c3a4')\"\n",
              "              title=\"Convert this dataframe to an interactive table.\"\n",
              "              style=\"display:none;\">\n",
              "        \n",
              "  <svg xmlns=\"http://www.w3.org/2000/svg\" height=\"24px\"viewBox=\"0 0 24 24\"\n",
              "       width=\"24px\">\n",
              "    <path d=\"M0 0h24v24H0V0z\" fill=\"none\"/>\n",
              "    <path d=\"M18.56 5.44l.94 2.06.94-2.06 2.06-.94-2.06-.94-.94-2.06-.94 2.06-2.06.94zm-11 1L8.5 8.5l.94-2.06 2.06-.94-2.06-.94L8.5 2.5l-.94 2.06-2.06.94zm10 10l.94 2.06.94-2.06 2.06-.94-2.06-.94-.94-2.06-.94 2.06-2.06.94z\"/><path d=\"M17.41 7.96l-1.37-1.37c-.4-.4-.92-.59-1.43-.59-.52 0-1.04.2-1.43.59L10.3 9.45l-7.72 7.72c-.78.78-.78 2.05 0 2.83L4 21.41c.39.39.9.59 1.41.59.51 0 1.02-.2 1.41-.59l7.78-7.78 2.81-2.81c.8-.78.8-2.07 0-2.86zM5.41 20L4 18.59l7.72-7.72 1.47 1.35L5.41 20z\"/>\n",
              "  </svg>\n",
              "      </button>\n",
              "      \n",
              "  <style>\n",
              "    .colab-df-container {\n",
              "      display:flex;\n",
              "      flex-wrap:wrap;\n",
              "      gap: 12px;\n",
              "    }\n",
              "\n",
              "    .colab-df-convert {\n",
              "      background-color: #E8F0FE;\n",
              "      border: none;\n",
              "      border-radius: 50%;\n",
              "      cursor: pointer;\n",
              "      display: none;\n",
              "      fill: #1967D2;\n",
              "      height: 32px;\n",
              "      padding: 0 0 0 0;\n",
              "      width: 32px;\n",
              "    }\n",
              "\n",
              "    .colab-df-convert:hover {\n",
              "      background-color: #E2EBFA;\n",
              "      box-shadow: 0px 1px 2px rgba(60, 64, 67, 0.3), 0px 1px 3px 1px rgba(60, 64, 67, 0.15);\n",
              "      fill: #174EA6;\n",
              "    }\n",
              "\n",
              "    [theme=dark] .colab-df-convert {\n",
              "      background-color: #3B4455;\n",
              "      fill: #D2E3FC;\n",
              "    }\n",
              "\n",
              "    [theme=dark] .colab-df-convert:hover {\n",
              "      background-color: #434B5C;\n",
              "      box-shadow: 0px 1px 3px 1px rgba(0, 0, 0, 0.15);\n",
              "      filter: drop-shadow(0px 1px 2px rgba(0, 0, 0, 0.3));\n",
              "      fill: #FFFFFF;\n",
              "    }\n",
              "  </style>\n",
              "\n",
              "      <script>\n",
              "        const buttonEl =\n",
              "          document.querySelector('#df-261e7522-3ee7-49f7-b29b-481361d9c3a4 button.colab-df-convert');\n",
              "        buttonEl.style.display =\n",
              "          google.colab.kernel.accessAllowed ? 'block' : 'none';\n",
              "\n",
              "        async function convertToInteractive(key) {\n",
              "          const element = document.querySelector('#df-261e7522-3ee7-49f7-b29b-481361d9c3a4');\n",
              "          const dataTable =\n",
              "            await google.colab.kernel.invokeFunction('convertToInteractive',\n",
              "                                                     [key], {});\n",
              "          if (!dataTable) return;\n",
              "\n",
              "          const docLinkHtml = 'Like what you see? Visit the ' +\n",
              "            '<a target=\"_blank\" href=https://colab.research.google.com/notebooks/data_table.ipynb>data table notebook</a>'\n",
              "            + ' to learn more about interactive tables.';\n",
              "          element.innerHTML = '';\n",
              "          dataTable['output_type'] = 'display_data';\n",
              "          await google.colab.output.renderOutput(dataTable, element);\n",
              "          const docLink = document.createElement('div');\n",
              "          docLink.innerHTML = docLinkHtml;\n",
              "          element.appendChild(docLink);\n",
              "        }\n",
              "      </script>\n",
              "    </div>\n",
              "  </div>\n",
              "  "
            ],
            "text/plain": [
              "iid  0      1      2      3      4      5      6      7      8      9      \\\n",
              "uid                                                                         \n",
              "0     10.0   10.0   10.0   10.0    9.0    7.0    8.0    8.0   10.0    1.0   \n",
              "1      0.0    0.0    0.0    0.0    0.0    0.0    0.0    0.0    0.0    0.0   \n",
              "2      0.0    0.0    0.0    0.0    0.0    0.0    0.0    0.0    0.0    0.0   \n",
              "3      0.0    0.0    0.0    0.0    0.0    8.0    0.0    0.0    0.0    0.0   \n",
              "4      0.0    0.0    0.0    0.0    0.0    0.0    0.0    0.0    0.0    0.0   \n",
              "\n",
              "iid  ...  27194  27195  27196  27197  27198  27199  27200  27201  27202  27203  \n",
              "uid  ...                                                                        \n",
              "0    ...    0.0    0.0    0.0    0.0    0.0    0.0    0.0    0.0    0.0    0.0  \n",
              "1    ...    0.0    0.0    0.0    0.0    0.0    0.0    0.0    0.0    0.0    0.0  \n",
              "2    ...    0.0    0.0    0.0    0.0    0.0    0.0    0.0    0.0    0.0    0.0  \n",
              "3    ...    0.0    0.0    0.0    0.0    0.0    0.0    0.0    0.0    0.0    0.0  \n",
              "4    ...    0.0    0.0    0.0    0.0    0.0    0.0    0.0    0.0    0.0    0.0  \n",
              "\n",
              "[5 rows x 27204 columns]"
            ]
          },
          "execution_count": 35,
          "metadata": {},
          "output_type": "execute_result"
        },
        {
          "data": {
            "text/plain": [
              "(247, 27204)"
            ]
          },
          "execution_count": 35,
          "metadata": {},
          "output_type": "execute_result"
        }
      ],
      "source": [
        "interaction_sparse.head()\n",
        "interaction_sparse.shape"
      ]
    },
    {
      "cell_type": "code",
      "execution_count": 36,
      "metadata": {
        "id": "3jYfJ9TL1dtI"
      },
      "outputs": [],
      "source": [
        "interaction.sort_values(by='uid',inplace=True)"
      ]
    },
    {
      "cell_type": "markdown",
      "metadata": {
        "id": "egcVYLL7GZqn"
      },
      "source": [
        "csr_matrix 를 사용하여 데이터를 변환하는 방법은 다음과 같습니다."
      ]
    },
    {
      "cell_type": "code",
      "execution_count": 37,
      "metadata": {
        "colab": {
          "base_uri": "https://localhost:8080/"
        },
        "id": "y-aekubsGf-q",
        "outputId": "061f4b9a-f0c6-40f5-ab8c-30a6f9c06c98"
      },
      "outputs": [
        {
          "data": {
            "text/plain": [
              "(247, 27204)"
            ]
          },
          "execution_count": 37,
          "metadata": {},
          "output_type": "execute_result"
        }
      ],
      "source": [
        "from scipy.sparse import csr_matrix\n",
        "\n",
        "n_user = interaction['uid'].nunique()\n",
        "n_book = interaction['iid'].nunique()\n",
        "n_user,n_book"
      ]
    },
    {
      "cell_type": "code",
      "execution_count": 38,
      "metadata": {
        "colab": {
          "base_uri": "https://localhost:8080/"
        },
        "id": "dBg_LWuERaY9",
        "outputId": "cf6812f3-e48f-4443-fef9-acb2cee02b51"
      },
      "outputs": [
        {
          "data": {
            "text/plain": [
              "<247x27204 sparse matrix of type '<class 'numpy.float64'>'\n",
              "\twith 33941 stored elements in Compressed Sparse Row format>"
            ]
          },
          "execution_count": 38,
          "metadata": {},
          "output_type": "execute_result"
        }
      ],
      "source": [
        "csr_data = csr_matrix(interaction_sparse)\n",
        "csr_data"
      ]
    },
    {
      "cell_type": "markdown",
      "metadata": {
        "id": "HudKQjkMS8mc"
      },
      "source": [
        "### (2) Split Data \n",
        "\n",
        "데이터를 분할하여 봅시다. Surprise에서 사용한 함수와 동일한 이름을 가진 train_test_split을 통해 진행하겠습니다.\n",
        "\n",
        "이 때, 내부적으로 coo_matrix로 변환하기 때문에 csr_data 혹은 coo_matrix가 들어가야 합니다.\n",
        "\n",
        "\n",
        "```python\n",
        "def train_test_split(ratings:coo_matrix, train_percentage=0.8, random_state=None):\n",
        "  return (train, test) : csr_matrix,csr_matrix\n",
        "```\n"
      ]
    },
    {
      "cell_type": "code",
      "execution_count": 39,
      "metadata": {
        "id": "B7nVC4-5pVKC"
      },
      "outputs": [],
      "source": [
        "from implicit.evaluation import train_test_split\n",
        "\n",
        "train, test = train_test_split(csr_data,\n",
        "                               train_percentage=0.8, random_state=42)"
      ]
    },
    {
      "cell_type": "code",
      "execution_count": 40,
      "metadata": {
        "colab": {
          "base_uri": "https://localhost:8080/"
        },
        "id": "1VY536b1gEk4",
        "outputId": "9dd9590d-50b3-40df-a7e8-b34c43d8755f"
      },
      "outputs": [
        {
          "data": {
            "text/plain": [
              "array([[10.,  0., 10., ...,  0.,  0.,  0.],\n",
              "       [ 0.,  0.,  0., ...,  0.,  0.,  0.],\n",
              "       [ 0.,  0.,  0., ...,  0.,  0.,  0.],\n",
              "       ...,\n",
              "       [ 0.,  0.,  0., ...,  0.,  0.,  0.],\n",
              "       [ 0.,  0.,  0., ...,  0.,  0.,  0.],\n",
              "       [ 0.,  0.,  0., ...,  8.,  0.,  7.]])"
            ]
          },
          "execution_count": 40,
          "metadata": {},
          "output_type": "execute_result"
        }
      ],
      "source": [
        "train.toarray()"
      ]
    },
    {
      "cell_type": "code",
      "execution_count": 41,
      "metadata": {
        "colab": {
          "base_uri": "https://localhost:8080/"
        },
        "id": "Xt3VItx6d-K6",
        "outputId": "43259908-70c1-4a93-d6e5-aee10de439e8"
      },
      "outputs": [
        {
          "data": {
            "text/plain": [
              "(247, 27204)"
            ]
          },
          "execution_count": 41,
          "metadata": {},
          "output_type": "execute_result"
        }
      ],
      "source": [
        "train.shape"
      ]
    },
    {
      "cell_type": "code",
      "execution_count": 42,
      "metadata": {
        "colab": {
          "base_uri": "https://localhost:8080/"
        },
        "id": "q12YPvB3gGqZ",
        "outputId": "2c79221d-d6e5-473e-eeac-7985b1b5efbe"
      },
      "outputs": [
        {
          "data": {
            "text/plain": [
              "array([[ 0., 10.,  0., ...,  0.,  0.,  0.],\n",
              "       [ 0.,  0.,  0., ...,  0.,  0.,  0.],\n",
              "       [ 0.,  0.,  0., ...,  0.,  0.,  0.],\n",
              "       ...,\n",
              "       [ 0.,  0.,  0., ...,  0.,  0.,  0.],\n",
              "       [ 0.,  0.,  0., ...,  0.,  0.,  0.],\n",
              "       [ 0.,  0.,  0., ...,  0.,  8.,  0.]])"
            ]
          },
          "execution_count": 42,
          "metadata": {},
          "output_type": "execute_result"
        }
      ],
      "source": [
        "test.toarray()"
      ]
    },
    {
      "cell_type": "code",
      "execution_count": 43,
      "metadata": {
        "colab": {
          "base_uri": "https://localhost:8080/"
        },
        "id": "PTm_QLTxeBAX",
        "outputId": "c728d2da-c288-45df-8eea-1fa43b47a6e8"
      },
      "outputs": [
        {
          "data": {
            "text/plain": [
              "(247, 27204)"
            ]
          },
          "execution_count": 43,
          "metadata": {},
          "output_type": "execute_result"
        }
      ],
      "source": [
        "test.shape"
      ]
    },
    {
      "cell_type": "code",
      "execution_count": 44,
      "metadata": {
        "colab": {
          "base_uri": "https://localhost:8080/"
        },
        "id": "UIHqrxWY25XI",
        "outputId": "22e50c27-9f91-4324-f92f-4edbfde5a356"
      },
      "outputs": [
        {
          "data": {
            "text/plain": [
              "(scipy.sparse._csr.csr_matrix, scipy.sparse._csr.csr_matrix)"
            ]
          },
          "execution_count": 44,
          "metadata": {},
          "output_type": "execute_result"
        }
      ],
      "source": [
        "# uid, iid, rating 형식\n",
        "type(train) , type(test)"
      ]
    },
    {
      "cell_type": "markdown",
      "metadata": {
        "id": "FFi88aNceLdn"
      },
      "source": [
        "이 때, 전통적인 ML 모델에서의 데이터 분할과는 다르게, train과 test가 같은 shape을 가지게 됩니다.\n",
        "\n",
        "```python\n",
        "shape = interaction['uid'] x interaction['iid']\n",
        "```"
      ]
    },
    {
      "cell_type": "markdown",
      "metadata": {
        "id": "vn3rQMx04V6r"
      },
      "source": [
        "그러나 이 경우, 데이터의 형식은 csr_matrix이기 때문에 test 데이터에 대한 uid, iid 정보를 뽑아내기 위해선 별도의 처리가 필요합니다."
      ]
    },
    {
      "cell_type": "code",
      "execution_count": 45,
      "metadata": {
        "colab": {
          "base_uri": "https://localhost:8080/",
          "height": 424
        },
        "id": "CX57Ls325IKm",
        "outputId": "acb1990e-eb1a-4951-a4c0-9bff3e23beb2"
      },
      "outputs": [
        {
          "data": {
            "text/html": [
              "\n",
              "  <div id=\"df-952cc397-8fb9-42a8-887d-04ccf9159e7e\">\n",
              "    <div class=\"colab-df-container\">\n",
              "      <div>\n",
              "<style scoped>\n",
              "    .dataframe tbody tr th:only-of-type {\n",
              "        vertical-align: middle;\n",
              "    }\n",
              "\n",
              "    .dataframe tbody tr th {\n",
              "        vertical-align: top;\n",
              "    }\n",
              "\n",
              "    .dataframe thead th {\n",
              "        text-align: right;\n",
              "    }\n",
              "</style>\n",
              "<table border=\"1\" class=\"dataframe\">\n",
              "  <thead>\n",
              "    <tr style=\"text-align: right;\">\n",
              "      <th></th>\n",
              "      <th>u_id</th>\n",
              "      <th>0</th>\n",
              "      <th>1</th>\n",
              "      <th>2</th>\n",
              "      <th>3</th>\n",
              "      <th>4</th>\n",
              "      <th>5</th>\n",
              "      <th>6</th>\n",
              "      <th>7</th>\n",
              "      <th>8</th>\n",
              "      <th>...</th>\n",
              "      <th>27194</th>\n",
              "      <th>27195</th>\n",
              "      <th>27196</th>\n",
              "      <th>27197</th>\n",
              "      <th>27198</th>\n",
              "      <th>27199</th>\n",
              "      <th>27200</th>\n",
              "      <th>27201</th>\n",
              "      <th>27202</th>\n",
              "      <th>27203</th>\n",
              "    </tr>\n",
              "  </thead>\n",
              "  <tbody>\n",
              "    <tr>\n",
              "      <th>0</th>\n",
              "      <td>0</td>\n",
              "      <td>0.0</td>\n",
              "      <td>10.0</td>\n",
              "      <td>0.0</td>\n",
              "      <td>0.0</td>\n",
              "      <td>0.0</td>\n",
              "      <td>0.0</td>\n",
              "      <td>0.0</td>\n",
              "      <td>8.0</td>\n",
              "      <td>0.0</td>\n",
              "      <td>...</td>\n",
              "      <td>0.0</td>\n",
              "      <td>0.0</td>\n",
              "      <td>0.0</td>\n",
              "      <td>0.0</td>\n",
              "      <td>0.0</td>\n",
              "      <td>0.0</td>\n",
              "      <td>0.0</td>\n",
              "      <td>0.0</td>\n",
              "      <td>0.0</td>\n",
              "      <td>0.0</td>\n",
              "    </tr>\n",
              "    <tr>\n",
              "      <th>1</th>\n",
              "      <td>1</td>\n",
              "      <td>0.0</td>\n",
              "      <td>0.0</td>\n",
              "      <td>0.0</td>\n",
              "      <td>0.0</td>\n",
              "      <td>0.0</td>\n",
              "      <td>0.0</td>\n",
              "      <td>0.0</td>\n",
              "      <td>0.0</td>\n",
              "      <td>0.0</td>\n",
              "      <td>...</td>\n",
              "      <td>0.0</td>\n",
              "      <td>0.0</td>\n",
              "      <td>0.0</td>\n",
              "      <td>0.0</td>\n",
              "      <td>0.0</td>\n",
              "      <td>0.0</td>\n",
              "      <td>0.0</td>\n",
              "      <td>0.0</td>\n",
              "      <td>0.0</td>\n",
              "      <td>0.0</td>\n",
              "    </tr>\n",
              "    <tr>\n",
              "      <th>2</th>\n",
              "      <td>2</td>\n",
              "      <td>0.0</td>\n",
              "      <td>0.0</td>\n",
              "      <td>0.0</td>\n",
              "      <td>0.0</td>\n",
              "      <td>0.0</td>\n",
              "      <td>0.0</td>\n",
              "      <td>0.0</td>\n",
              "      <td>0.0</td>\n",
              "      <td>0.0</td>\n",
              "      <td>...</td>\n",
              "      <td>0.0</td>\n",
              "      <td>0.0</td>\n",
              "      <td>0.0</td>\n",
              "      <td>0.0</td>\n",
              "      <td>0.0</td>\n",
              "      <td>0.0</td>\n",
              "      <td>0.0</td>\n",
              "      <td>0.0</td>\n",
              "      <td>0.0</td>\n",
              "      <td>0.0</td>\n",
              "    </tr>\n",
              "    <tr>\n",
              "      <th>3</th>\n",
              "      <td>3</td>\n",
              "      <td>0.0</td>\n",
              "      <td>0.0</td>\n",
              "      <td>0.0</td>\n",
              "      <td>0.0</td>\n",
              "      <td>0.0</td>\n",
              "      <td>0.0</td>\n",
              "      <td>0.0</td>\n",
              "      <td>0.0</td>\n",
              "      <td>0.0</td>\n",
              "      <td>...</td>\n",
              "      <td>0.0</td>\n",
              "      <td>0.0</td>\n",
              "      <td>0.0</td>\n",
              "      <td>0.0</td>\n",
              "      <td>0.0</td>\n",
              "      <td>0.0</td>\n",
              "      <td>0.0</td>\n",
              "      <td>0.0</td>\n",
              "      <td>0.0</td>\n",
              "      <td>0.0</td>\n",
              "    </tr>\n",
              "    <tr>\n",
              "      <th>4</th>\n",
              "      <td>4</td>\n",
              "      <td>0.0</td>\n",
              "      <td>0.0</td>\n",
              "      <td>0.0</td>\n",
              "      <td>0.0</td>\n",
              "      <td>0.0</td>\n",
              "      <td>0.0</td>\n",
              "      <td>0.0</td>\n",
              "      <td>0.0</td>\n",
              "      <td>0.0</td>\n",
              "      <td>...</td>\n",
              "      <td>0.0</td>\n",
              "      <td>0.0</td>\n",
              "      <td>0.0</td>\n",
              "      <td>0.0</td>\n",
              "      <td>0.0</td>\n",
              "      <td>0.0</td>\n",
              "      <td>0.0</td>\n",
              "      <td>0.0</td>\n",
              "      <td>0.0</td>\n",
              "      <td>0.0</td>\n",
              "    </tr>\n",
              "    <tr>\n",
              "      <th>...</th>\n",
              "      <td>...</td>\n",
              "      <td>...</td>\n",
              "      <td>...</td>\n",
              "      <td>...</td>\n",
              "      <td>...</td>\n",
              "      <td>...</td>\n",
              "      <td>...</td>\n",
              "      <td>...</td>\n",
              "      <td>...</td>\n",
              "      <td>...</td>\n",
              "      <td>...</td>\n",
              "      <td>...</td>\n",
              "      <td>...</td>\n",
              "      <td>...</td>\n",
              "      <td>...</td>\n",
              "      <td>...</td>\n",
              "      <td>...</td>\n",
              "      <td>...</td>\n",
              "      <td>...</td>\n",
              "      <td>...</td>\n",
              "      <td>...</td>\n",
              "    </tr>\n",
              "    <tr>\n",
              "      <th>242</th>\n",
              "      <td>242</td>\n",
              "      <td>0.0</td>\n",
              "      <td>0.0</td>\n",
              "      <td>0.0</td>\n",
              "      <td>0.0</td>\n",
              "      <td>0.0</td>\n",
              "      <td>0.0</td>\n",
              "      <td>0.0</td>\n",
              "      <td>0.0</td>\n",
              "      <td>0.0</td>\n",
              "      <td>...</td>\n",
              "      <td>0.0</td>\n",
              "      <td>0.0</td>\n",
              "      <td>0.0</td>\n",
              "      <td>0.0</td>\n",
              "      <td>0.0</td>\n",
              "      <td>0.0</td>\n",
              "      <td>0.0</td>\n",
              "      <td>0.0</td>\n",
              "      <td>0.0</td>\n",
              "      <td>0.0</td>\n",
              "    </tr>\n",
              "    <tr>\n",
              "      <th>243</th>\n",
              "      <td>243</td>\n",
              "      <td>0.0</td>\n",
              "      <td>0.0</td>\n",
              "      <td>0.0</td>\n",
              "      <td>0.0</td>\n",
              "      <td>0.0</td>\n",
              "      <td>0.0</td>\n",
              "      <td>0.0</td>\n",
              "      <td>0.0</td>\n",
              "      <td>0.0</td>\n",
              "      <td>...</td>\n",
              "      <td>0.0</td>\n",
              "      <td>0.0</td>\n",
              "      <td>0.0</td>\n",
              "      <td>0.0</td>\n",
              "      <td>0.0</td>\n",
              "      <td>0.0</td>\n",
              "      <td>0.0</td>\n",
              "      <td>0.0</td>\n",
              "      <td>0.0</td>\n",
              "      <td>0.0</td>\n",
              "    </tr>\n",
              "    <tr>\n",
              "      <th>244</th>\n",
              "      <td>244</td>\n",
              "      <td>0.0</td>\n",
              "      <td>0.0</td>\n",
              "      <td>0.0</td>\n",
              "      <td>0.0</td>\n",
              "      <td>0.0</td>\n",
              "      <td>0.0</td>\n",
              "      <td>0.0</td>\n",
              "      <td>0.0</td>\n",
              "      <td>0.0</td>\n",
              "      <td>...</td>\n",
              "      <td>0.0</td>\n",
              "      <td>0.0</td>\n",
              "      <td>0.0</td>\n",
              "      <td>0.0</td>\n",
              "      <td>0.0</td>\n",
              "      <td>0.0</td>\n",
              "      <td>0.0</td>\n",
              "      <td>0.0</td>\n",
              "      <td>0.0</td>\n",
              "      <td>0.0</td>\n",
              "    </tr>\n",
              "    <tr>\n",
              "      <th>245</th>\n",
              "      <td>245</td>\n",
              "      <td>0.0</td>\n",
              "      <td>0.0</td>\n",
              "      <td>0.0</td>\n",
              "      <td>0.0</td>\n",
              "      <td>0.0</td>\n",
              "      <td>0.0</td>\n",
              "      <td>0.0</td>\n",
              "      <td>0.0</td>\n",
              "      <td>0.0</td>\n",
              "      <td>...</td>\n",
              "      <td>0.0</td>\n",
              "      <td>0.0</td>\n",
              "      <td>0.0</td>\n",
              "      <td>0.0</td>\n",
              "      <td>0.0</td>\n",
              "      <td>0.0</td>\n",
              "      <td>0.0</td>\n",
              "      <td>0.0</td>\n",
              "      <td>0.0</td>\n",
              "      <td>0.0</td>\n",
              "    </tr>\n",
              "    <tr>\n",
              "      <th>246</th>\n",
              "      <td>246</td>\n",
              "      <td>0.0</td>\n",
              "      <td>0.0</td>\n",
              "      <td>0.0</td>\n",
              "      <td>0.0</td>\n",
              "      <td>0.0</td>\n",
              "      <td>0.0</td>\n",
              "      <td>0.0</td>\n",
              "      <td>0.0</td>\n",
              "      <td>0.0</td>\n",
              "      <td>...</td>\n",
              "      <td>0.0</td>\n",
              "      <td>10.0</td>\n",
              "      <td>0.0</td>\n",
              "      <td>0.0</td>\n",
              "      <td>0.0</td>\n",
              "      <td>0.0</td>\n",
              "      <td>7.0</td>\n",
              "      <td>0.0</td>\n",
              "      <td>8.0</td>\n",
              "      <td>0.0</td>\n",
              "    </tr>\n",
              "  </tbody>\n",
              "</table>\n",
              "<p>247 rows × 27205 columns</p>\n",
              "</div>\n",
              "      <button class=\"colab-df-convert\" onclick=\"convertToInteractive('df-952cc397-8fb9-42a8-887d-04ccf9159e7e')\"\n",
              "              title=\"Convert this dataframe to an interactive table.\"\n",
              "              style=\"display:none;\">\n",
              "        \n",
              "  <svg xmlns=\"http://www.w3.org/2000/svg\" height=\"24px\"viewBox=\"0 0 24 24\"\n",
              "       width=\"24px\">\n",
              "    <path d=\"M0 0h24v24H0V0z\" fill=\"none\"/>\n",
              "    <path d=\"M18.56 5.44l.94 2.06.94-2.06 2.06-.94-2.06-.94-.94-2.06-.94 2.06-2.06.94zm-11 1L8.5 8.5l.94-2.06 2.06-.94-2.06-.94L8.5 2.5l-.94 2.06-2.06.94zm10 10l.94 2.06.94-2.06 2.06-.94-2.06-.94-.94-2.06-.94 2.06-2.06.94z\"/><path d=\"M17.41 7.96l-1.37-1.37c-.4-.4-.92-.59-1.43-.59-.52 0-1.04.2-1.43.59L10.3 9.45l-7.72 7.72c-.78.78-.78 2.05 0 2.83L4 21.41c.39.39.9.59 1.41.59.51 0 1.02-.2 1.41-.59l7.78-7.78 2.81-2.81c.8-.78.8-2.07 0-2.86zM5.41 20L4 18.59l7.72-7.72 1.47 1.35L5.41 20z\"/>\n",
              "  </svg>\n",
              "      </button>\n",
              "      \n",
              "  <style>\n",
              "    .colab-df-container {\n",
              "      display:flex;\n",
              "      flex-wrap:wrap;\n",
              "      gap: 12px;\n",
              "    }\n",
              "\n",
              "    .colab-df-convert {\n",
              "      background-color: #E8F0FE;\n",
              "      border: none;\n",
              "      border-radius: 50%;\n",
              "      cursor: pointer;\n",
              "      display: none;\n",
              "      fill: #1967D2;\n",
              "      height: 32px;\n",
              "      padding: 0 0 0 0;\n",
              "      width: 32px;\n",
              "    }\n",
              "\n",
              "    .colab-df-convert:hover {\n",
              "      background-color: #E2EBFA;\n",
              "      box-shadow: 0px 1px 2px rgba(60, 64, 67, 0.3), 0px 1px 3px 1px rgba(60, 64, 67, 0.15);\n",
              "      fill: #174EA6;\n",
              "    }\n",
              "\n",
              "    [theme=dark] .colab-df-convert {\n",
              "      background-color: #3B4455;\n",
              "      fill: #D2E3FC;\n",
              "    }\n",
              "\n",
              "    [theme=dark] .colab-df-convert:hover {\n",
              "      background-color: #434B5C;\n",
              "      box-shadow: 0px 1px 3px 1px rgba(0, 0, 0, 0.15);\n",
              "      filter: drop-shadow(0px 1px 2px rgba(0, 0, 0, 0.3));\n",
              "      fill: #FFFFFF;\n",
              "    }\n",
              "  </style>\n",
              "\n",
              "      <script>\n",
              "        const buttonEl =\n",
              "          document.querySelector('#df-952cc397-8fb9-42a8-887d-04ccf9159e7e button.colab-df-convert');\n",
              "        buttonEl.style.display =\n",
              "          google.colab.kernel.accessAllowed ? 'block' : 'none';\n",
              "\n",
              "        async function convertToInteractive(key) {\n",
              "          const element = document.querySelector('#df-952cc397-8fb9-42a8-887d-04ccf9159e7e');\n",
              "          const dataTable =\n",
              "            await google.colab.kernel.invokeFunction('convertToInteractive',\n",
              "                                                     [key], {});\n",
              "          if (!dataTable) return;\n",
              "\n",
              "          const docLinkHtml = 'Like what you see? Visit the ' +\n",
              "            '<a target=\"_blank\" href=https://colab.research.google.com/notebooks/data_table.ipynb>data table notebook</a>'\n",
              "            + ' to learn more about interactive tables.';\n",
              "          element.innerHTML = '';\n",
              "          dataTable['output_type'] = 'display_data';\n",
              "          await google.colab.output.renderOutput(dataTable, element);\n",
              "          const docLink = document.createElement('div');\n",
              "          docLink.innerHTML = docLinkHtml;\n",
              "          element.appendChild(docLink);\n",
              "        }\n",
              "      </script>\n",
              "    </div>\n",
              "  </div>\n",
              "  "
            ],
            "text/plain": [
              "     u_id    0     1    2    3    4    5    6    7    8  ...  27194  27195  \\\n",
              "0       0  0.0  10.0  0.0  0.0  0.0  0.0  0.0  8.0  0.0  ...    0.0    0.0   \n",
              "1       1  0.0   0.0  0.0  0.0  0.0  0.0  0.0  0.0  0.0  ...    0.0    0.0   \n",
              "2       2  0.0   0.0  0.0  0.0  0.0  0.0  0.0  0.0  0.0  ...    0.0    0.0   \n",
              "3       3  0.0   0.0  0.0  0.0  0.0  0.0  0.0  0.0  0.0  ...    0.0    0.0   \n",
              "4       4  0.0   0.0  0.0  0.0  0.0  0.0  0.0  0.0  0.0  ...    0.0    0.0   \n",
              "..    ...  ...   ...  ...  ...  ...  ...  ...  ...  ...  ...    ...    ...   \n",
              "242   242  0.0   0.0  0.0  0.0  0.0  0.0  0.0  0.0  0.0  ...    0.0    0.0   \n",
              "243   243  0.0   0.0  0.0  0.0  0.0  0.0  0.0  0.0  0.0  ...    0.0    0.0   \n",
              "244   244  0.0   0.0  0.0  0.0  0.0  0.0  0.0  0.0  0.0  ...    0.0    0.0   \n",
              "245   245  0.0   0.0  0.0  0.0  0.0  0.0  0.0  0.0  0.0  ...    0.0    0.0   \n",
              "246   246  0.0   0.0  0.0  0.0  0.0  0.0  0.0  0.0  0.0  ...    0.0   10.0   \n",
              "\n",
              "     27196  27197  27198  27199  27200  27201  27202  27203  \n",
              "0      0.0    0.0    0.0    0.0    0.0    0.0    0.0    0.0  \n",
              "1      0.0    0.0    0.0    0.0    0.0    0.0    0.0    0.0  \n",
              "2      0.0    0.0    0.0    0.0    0.0    0.0    0.0    0.0  \n",
              "3      0.0    0.0    0.0    0.0    0.0    0.0    0.0    0.0  \n",
              "4      0.0    0.0    0.0    0.0    0.0    0.0    0.0    0.0  \n",
              "..     ...    ...    ...    ...    ...    ...    ...    ...  \n",
              "242    0.0    0.0    0.0    0.0    0.0    0.0    0.0    0.0  \n",
              "243    0.0    0.0    0.0    0.0    0.0    0.0    0.0    0.0  \n",
              "244    0.0    0.0    0.0    0.0    0.0    0.0    0.0    0.0  \n",
              "245    0.0    0.0    0.0    0.0    0.0    0.0    0.0    0.0  \n",
              "246    0.0    0.0    0.0    0.0    7.0    0.0    8.0    0.0  \n",
              "\n",
              "[247 rows x 27205 columns]"
            ]
          },
          "execution_count": 45,
          "metadata": {},
          "output_type": "execute_result"
        }
      ],
      "source": [
        "test_df = pd.DataFrame(test.toarray()).reset_index().rename({'index':'u_id'},axis=1)\n",
        "test_df"
      ]
    },
    {
      "cell_type": "markdown",
      "metadata": {
        "id": "HleT-Dqyhjua"
      },
      "source": [
        "이 중, 출연한 rating을 기준으로만 filtering하여 봅시다.\n"
      ]
    },
    {
      "cell_type": "code",
      "execution_count": 46,
      "metadata": {
        "id": "1ZybEsCp7Yxx"
      },
      "outputs": [],
      "source": [
        "test_df = pd.melt(test_df, \n",
        "        id_vars='u_id', \n",
        "        value_vars=list(test_df.columns[1:]),\n",
        "        var_name='i_id',\n",
        "        value_name='click')"
      ]
    },
    {
      "cell_type": "code",
      "execution_count": 47,
      "metadata": {
        "id": "PI-7W4Jp9Eqp"
      },
      "outputs": [],
      "source": [
        "test_df.drop(test_df[test_df['click'] == 0].index,axis=0,inplace=True)\n",
        "test_df.reset_index(drop=True,inplace=True)"
      ]
    },
    {
      "cell_type": "code",
      "execution_count": 48,
      "metadata": {
        "colab": {
          "base_uri": "https://localhost:8080/",
          "height": 143
        },
        "id": "kqFTaGJHwftp",
        "outputId": "39ede37b-960f-40dc-de17-4ddfd1dc731a"
      },
      "outputs": [
        {
          "data": {
            "text/html": [
              "\n",
              "  <div id=\"df-8348b0f4-ae88-46ba-8edc-3504c9ec1406\">\n",
              "    <div class=\"colab-df-container\">\n",
              "      <div>\n",
              "<style scoped>\n",
              "    .dataframe tbody tr th:only-of-type {\n",
              "        vertical-align: middle;\n",
              "    }\n",
              "\n",
              "    .dataframe tbody tr th {\n",
              "        vertical-align: top;\n",
              "    }\n",
              "\n",
              "    .dataframe thead th {\n",
              "        text-align: right;\n",
              "    }\n",
              "</style>\n",
              "<table border=\"1\" class=\"dataframe\">\n",
              "  <thead>\n",
              "    <tr style=\"text-align: right;\">\n",
              "      <th></th>\n",
              "      <th>u_id</th>\n",
              "      <th>i_id</th>\n",
              "      <th>click</th>\n",
              "    </tr>\n",
              "  </thead>\n",
              "  <tbody>\n",
              "    <tr>\n",
              "      <th>0</th>\n",
              "      <td>176</td>\n",
              "      <td>0</td>\n",
              "      <td>5.0</td>\n",
              "    </tr>\n",
              "    <tr>\n",
              "      <th>1</th>\n",
              "      <td>0</td>\n",
              "      <td>1</td>\n",
              "      <td>10.0</td>\n",
              "    </tr>\n",
              "    <tr>\n",
              "      <th>2</th>\n",
              "      <td>0</td>\n",
              "      <td>7</td>\n",
              "      <td>8.0</td>\n",
              "    </tr>\n",
              "  </tbody>\n",
              "</table>\n",
              "</div>\n",
              "      <button class=\"colab-df-convert\" onclick=\"convertToInteractive('df-8348b0f4-ae88-46ba-8edc-3504c9ec1406')\"\n",
              "              title=\"Convert this dataframe to an interactive table.\"\n",
              "              style=\"display:none;\">\n",
              "        \n",
              "  <svg xmlns=\"http://www.w3.org/2000/svg\" height=\"24px\"viewBox=\"0 0 24 24\"\n",
              "       width=\"24px\">\n",
              "    <path d=\"M0 0h24v24H0V0z\" fill=\"none\"/>\n",
              "    <path d=\"M18.56 5.44l.94 2.06.94-2.06 2.06-.94-2.06-.94-.94-2.06-.94 2.06-2.06.94zm-11 1L8.5 8.5l.94-2.06 2.06-.94-2.06-.94L8.5 2.5l-.94 2.06-2.06.94zm10 10l.94 2.06.94-2.06 2.06-.94-2.06-.94-.94-2.06-.94 2.06-2.06.94z\"/><path d=\"M17.41 7.96l-1.37-1.37c-.4-.4-.92-.59-1.43-.59-.52 0-1.04.2-1.43.59L10.3 9.45l-7.72 7.72c-.78.78-.78 2.05 0 2.83L4 21.41c.39.39.9.59 1.41.59.51 0 1.02-.2 1.41-.59l7.78-7.78 2.81-2.81c.8-.78.8-2.07 0-2.86zM5.41 20L4 18.59l7.72-7.72 1.47 1.35L5.41 20z\"/>\n",
              "  </svg>\n",
              "      </button>\n",
              "      \n",
              "  <style>\n",
              "    .colab-df-container {\n",
              "      display:flex;\n",
              "      flex-wrap:wrap;\n",
              "      gap: 12px;\n",
              "    }\n",
              "\n",
              "    .colab-df-convert {\n",
              "      background-color: #E8F0FE;\n",
              "      border: none;\n",
              "      border-radius: 50%;\n",
              "      cursor: pointer;\n",
              "      display: none;\n",
              "      fill: #1967D2;\n",
              "      height: 32px;\n",
              "      padding: 0 0 0 0;\n",
              "      width: 32px;\n",
              "    }\n",
              "\n",
              "    .colab-df-convert:hover {\n",
              "      background-color: #E2EBFA;\n",
              "      box-shadow: 0px 1px 2px rgba(60, 64, 67, 0.3), 0px 1px 3px 1px rgba(60, 64, 67, 0.15);\n",
              "      fill: #174EA6;\n",
              "    }\n",
              "\n",
              "    [theme=dark] .colab-df-convert {\n",
              "      background-color: #3B4455;\n",
              "      fill: #D2E3FC;\n",
              "    }\n",
              "\n",
              "    [theme=dark] .colab-df-convert:hover {\n",
              "      background-color: #434B5C;\n",
              "      box-shadow: 0px 1px 3px 1px rgba(0, 0, 0, 0.15);\n",
              "      filter: drop-shadow(0px 1px 2px rgba(0, 0, 0, 0.3));\n",
              "      fill: #FFFFFF;\n",
              "    }\n",
              "  </style>\n",
              "\n",
              "      <script>\n",
              "        const buttonEl =\n",
              "          document.querySelector('#df-8348b0f4-ae88-46ba-8edc-3504c9ec1406 button.colab-df-convert');\n",
              "        buttonEl.style.display =\n",
              "          google.colab.kernel.accessAllowed ? 'block' : 'none';\n",
              "\n",
              "        async function convertToInteractive(key) {\n",
              "          const element = document.querySelector('#df-8348b0f4-ae88-46ba-8edc-3504c9ec1406');\n",
              "          const dataTable =\n",
              "            await google.colab.kernel.invokeFunction('convertToInteractive',\n",
              "                                                     [key], {});\n",
              "          if (!dataTable) return;\n",
              "\n",
              "          const docLinkHtml = 'Like what you see? Visit the ' +\n",
              "            '<a target=\"_blank\" href=https://colab.research.google.com/notebooks/data_table.ipynb>data table notebook</a>'\n",
              "            + ' to learn more about interactive tables.';\n",
              "          element.innerHTML = '';\n",
              "          dataTable['output_type'] = 'display_data';\n",
              "          await google.colab.output.renderOutput(dataTable, element);\n",
              "          const docLink = document.createElement('div');\n",
              "          docLink.innerHTML = docLinkHtml;\n",
              "          element.appendChild(docLink);\n",
              "        }\n",
              "      </script>\n",
              "    </div>\n",
              "  </div>\n",
              "  "
            ],
            "text/plain": [
              "   u_id i_id  click\n",
              "0   176    0    5.0\n",
              "1     0    1   10.0\n",
              "2     0    7    8.0"
            ]
          },
          "execution_count": 48,
          "metadata": {},
          "output_type": "execute_result"
        }
      ],
      "source": [
        "test_df.head(3)"
      ]
    },
    {
      "cell_type": "markdown",
      "metadata": {
        "id": "dj1adjoFhnBI"
      },
      "source": [
        "uid, iid, rating 형식으로 나타남을 확인할 수 있습니다.\n"
      ]
    },
    {
      "cell_type": "code",
      "execution_count": 49,
      "metadata": {
        "id": "uognn-vJ2dsE"
      },
      "outputs": [],
      "source": [
        "test_uid = list(test_df['u_id'].unique())"
      ]
    },
    {
      "cell_type": "markdown",
      "metadata": {
        "id": "3dLstwURS8r8"
      },
      "source": [
        "\n",
        "### (3) Build & Train Model\n",
        "\n",
        "#### 지원 모델 종류\n",
        "\n",
        "- MF\n",
        "  - AlternatingLeastSquares (ALS)\n",
        "  - BayesianPersonalizedRanking (BPR)\n",
        "  - LogisticMatrixFactorization (LMF)\n",
        "---\n",
        "- Item-Item Nearest Neighbour models\n",
        "  - Cosine\n",
        "  - TFIDF\n",
        "  - BM25\n",
        "---\n",
        "\n",
        "우리는 이 중, ALS 모델을 만들어 보겠습니다.\n"
      ]
    },
    {
      "cell_type": "code",
      "execution_count": 50,
      "metadata": {
        "id": "IcjzB8_7XpRR"
      },
      "outputs": [],
      "source": [
        "from implicit.als import AlternatingLeastSquares"
      ]
    },
    {
      "cell_type": "markdown",
      "metadata": {
        "id": "rCmDb0NphcvZ"
      },
      "source": [
        "AlternatingLeastSquares 클래스는 MatrixFactorizationBase를 상속받고,\n",
        "\n",
        "MatrixFactorizationBase은 fit, recommend, rank_item 함수를 갖고 있는 RecommderBase 추상 클래스를 상속받습니다.\n",
        "\n",
        "\n",
        "1. factors : 유저와 아이템의 벡터를 몇 차원으로 할 것인지\n",
        "2. regularization : 과적합을 방지하기 위해 정규화 값을 얼마나 사용할 것인지 \n",
        "3. use_gpu : GPU를 사용할 것인지 \n",
        "4. iterations : epochs\n"
      ]
    },
    {
      "cell_type": "code",
      "execution_count": 51,
      "metadata": {
        "id": "qDO74yQAEjrw"
      },
      "outputs": [],
      "source": [
        "model = AlternatingLeastSquares(factors=100, regularization=0.01, use_gpu=True,\n",
        "                              iterations=20, dtype=np.float64)"
      ]
    },
    {
      "cell_type": "markdown",
      "metadata": {
        "id": "OUAhvK-7hbke"
      },
      "source": [
        "이 때, ALS의 fit 형식은 item_users 형식\b이라는 점입니다. 내부적으로 item_users라는 sparse matrix를 받아서 Ciu라는 변수명으로 선언하고, 이의 전치행렬을 Cui로 선언하여 처리합니다.\n",
        "\n",
        "먼저, ALS input으로 (item X user) 형태가 필요합니다. train데이터와 test 데이터를 Transpose를 해줍니다."
      ]
    },
    {
      "cell_type": "code",
      "execution_count": 52,
      "metadata": {
        "colab": {
          "base_uri": "https://localhost:8080/"
        },
        "id": "Pm5cGws2ykSg",
        "outputId": "bc51ce23-884f-4f7b-b9a5-49d1d6a783c9"
      },
      "outputs": [
        {
          "data": {
            "text/plain": [
              "<27204x247 sparse matrix of type '<class 'numpy.float64'>'\n",
              "\twith 27188 stored elements in Compressed Sparse Column format>"
            ]
          },
          "execution_count": 52,
          "metadata": {},
          "output_type": "execute_result"
        }
      ],
      "source": [
        "train_t = train.T\n",
        "train_t"
      ]
    },
    {
      "cell_type": "code",
      "execution_count": 53,
      "metadata": {
        "id": "BTIFQiV6Xci5"
      },
      "outputs": [],
      "source": [
        "alpha_val = 40\n",
        "train_conf = (train_t * alpha_val).astype('double')\n",
        "model.fit(train_conf, show_progress=False)"
      ]
    },
    {
      "cell_type": "markdown",
      "metadata": {
        "id": "XIQg7FrNTJIV"
      },
      "source": [
        "### (4) Predict\n",
        "\n",
        "model의 하위 메소드를 사용하여, 모델을 예측합니다. predict가 아닌 recommend라는 메소드를 사용합니다. 이 때, 반드시 들어가야 하는 파라미터는 아래와 같습니다.\n",
        "\n",
        "- userid (int) : userid 나 array 형태의 userid\n",
        "- user_items (csr_matrix) :  (number_users, number_items)형태의 sparse matrix를 넣으며, test[test_uid]와 같이 test_uid로 인덱싱한 형태를 주로 사용\n",
        "\n",
        "아래 description을 통해 각각의 파라미터를 확인해  봅시다.\n",
        "\n",
        "```\n",
        "model.recommend(\n",
        "        userid,\n",
        "        user_items,\n",
        "        N=10,\n",
        "        filter_already_liked_items=True,\n",
        "        filter_items=None,\n",
        "        recalculate_user=False,\n",
        "        items=None,\n",
        "    )\n",
        "```\n",
        "- user를 위한 item 추천  \n",
        "- 사용자에 대한 N개의 최상의 recommendation을 계산하고 itemid, rating list를 반환합니다.\n",
        "- 기존에 추천하지 않은 항목만을 추천 받도록 기본값이 잡혀 있습니다.\n",
        "\n",
        "[Parameters]\t\n",
        "userid (int) – The userid to calculate recommendations for\n",
        "user_items (csr_matrix) – A sparse matrix of shape (number_users, number_items). This lets us look up the liked items and their weights for the user. This is used to filter out items that have already been liked from the output, and to also potentially calculate the best items for this user.\n",
        "N (int, optional) – The number of results to return\n",
        "filter_already_liked_items (bool, optional) – When true, don’t return items present in the training set that were rated by the specificed user.\n",
        "filter_items (sequence of ints, optional) – List of extra item ids to filter out from the output\n",
        "recalculate_user (bool, optional) – When true, don’t rely on stored user state and instead recalculate from the passed in user_items\n",
        "Returns:\t\n",
        "List of (itemid, score) tuples\n",
        "\n",
        "Return type:\t\n",
        "list\n",
        "```"
      ]
    },
    {
      "cell_type": "code",
      "execution_count": 54,
      "metadata": {
        "colab": {
          "base_uri": "https://localhost:8080/"
        },
        "id": "AZUZYC7v3apc",
        "outputId": "78e1106a-6355-41b7-a35f-f9eecae90412"
      },
      "outputs": [
        {
          "data": {
            "text/plain": [
              "(<247x27204 sparse matrix of type '<class 'numpy.float64'>'\n",
              " \twith 27188 stored elements in Compressed Sparse Row format>,\n",
              " <247x27204 sparse matrix of type '<class 'numpy.float64'>'\n",
              " \twith 6753 stored elements in Compressed Sparse Row format>)"
            ]
          },
          "execution_count": 54,
          "metadata": {},
          "output_type": "execute_result"
        }
      ],
      "source": [
        "train,test"
      ]
    },
    {
      "cell_type": "code",
      "execution_count": 55,
      "metadata": {
        "id": "vGz4NGsi6vT9"
      },
      "outputs": [],
      "source": [
        "ids, scores = model.recommend(test_uid, test[test_uid], N=100)"
      ]
    },
    {
      "cell_type": "markdown",
      "metadata": {
        "id": "WFYmVkiPvoVo"
      },
      "source": [
        "예측한 값을 확인해 봅시다."
      ]
    },
    {
      "cell_type": "code",
      "execution_count": 56,
      "metadata": {
        "colab": {
          "base_uri": "https://localhost:8080/"
        },
        "id": "JIs08ZaNFS9c",
        "outputId": "12de32b2-001f-47dd-dd1c-f0db7a0a03d1"
      },
      "outputs": [
        {
          "data": {
            "text/plain": [
              "(array([[  2,  13,  40, ..., 114,  68, 161],\n",
              "        [  0, 245, 158, ...,  81,  17, 181],\n",
              "        [159,  31,  29, ...,  33,  34,  35],\n",
              "        ...,\n",
              "        [  3,   7,  36, ...,  60,  59, 221],\n",
              "        [139,  99,  81, ..., 108, 186,  25],\n",
              "        [  3,   7,  36, ...,  40, 223, 180]], dtype=int32),\n",
              " array([[0.99929225, 0.37478304, 0.25607064, ..., 0.02509454, 0.02484745,\n",
              "         0.02457568],\n",
              "        [0.9963048 , 0.27111816, 0.25271797, ..., 0.00672456, 0.00606296,\n",
              "         0.00567166],\n",
              "        [0.        , 0.        , 0.        , ..., 0.        , 0.        ,\n",
              "         0.        ],\n",
              "        ...,\n",
              "        [0.99955505, 0.34159577, 0.23082125, ..., 0.01095371, 0.01075096,\n",
              "         0.01046234],\n",
              "        [1.0017971 , 1.0004117 , 0.9954259 , ..., 0.05827543, 0.05729207,\n",
              "         0.05705708],\n",
              "        [0.99955505, 0.34159577, 0.23082128, ..., 0.00923925, 0.00885334,\n",
              "         0.00882039]], dtype=float32))"
            ]
          },
          "execution_count": 56,
          "metadata": {},
          "output_type": "execute_result"
        }
      ],
      "source": [
        "ids, scores"
      ]
    },
    {
      "cell_type": "code",
      "execution_count": 57,
      "metadata": {
        "colab": {
          "base_uri": "https://localhost:8080/"
        },
        "id": "z_NhTXMUh-vd",
        "outputId": "01287560-f0e0-4433-c74e-c7cfd7fa4f2c"
      },
      "outputs": [
        {
          "name": "stdout",
          "output_type": "stream",
          "text": [
            "< 유저 176 의 item 추천과 score > \n"
          ]
        }
      ],
      "source": [
        "print(f'< 유저 {test_uid[0]} 의 item 추천과 score > ')"
      ]
    },
    {
      "cell_type": "code",
      "execution_count": 58,
      "metadata": {
        "colab": {
          "base_uri": "https://localhost:8080/"
        },
        "id": "4gb6UdiJiR2Q",
        "outputId": "2d38631c-4c91-46d3-a733-6d7aadc8bd0d"
      },
      "outputs": [
        {
          "name": "stdout",
          "output_type": "stream",
          "text": [
            "Top-k(12) 아이템 : [  2  13  40 109 196  19 154  73  70 157 241 144 143 184  72 169 132 152\n",
            "  67 239 199 198 166 221  15 120  21  33  12 141 208 190 195  93 174 183\n",
            "  34 111 187 224 214 216  69 142 181  54 122  14  83 209  32  60 104 188\n",
            " 223 171   4  26 178 235  90 219 167 165 186  78 153 135 215 127 229  87\n",
            "  91 117  37  61  74 242 238 105  66 191 244  88  42 236 210 227  27 201\n",
            "  92  36  28 177  84 101 182 114  68 161] \n",
            "각 아이템의 score : [0.99929225 0.37478304 0.25607064 0.20765781 0.17257848 0.16050115\n",
            " 0.1576781  0.15518355 0.154659   0.14162788 0.13918318 0.13845344\n",
            " 0.1325835  0.12097308 0.12058699 0.12058352 0.11911857 0.11900008\n",
            " 0.11627941 0.11586175 0.11245435 0.11192305 0.10968417 0.10695055\n",
            " 0.10658518 0.10588484 0.10549802 0.10547306 0.10492489 0.10482007\n",
            " 0.10396205 0.10245094 0.1023792  0.09999453 0.09569642 0.09215251\n",
            " 0.08938588 0.08734182 0.08674547 0.08402216 0.08348306 0.08335564\n",
            " 0.08224874 0.08096756 0.08096537 0.07975435 0.07973483 0.07739988\n",
            " 0.06936714 0.06936579 0.06672011 0.06668646 0.06346536 0.06204099\n",
            " 0.05904421 0.05664974 0.05662861 0.05322461 0.05311962 0.05235403\n",
            " 0.05003564 0.04988347 0.04960591 0.04910301 0.04893581 0.04594206\n",
            " 0.04545395 0.04501077 0.04452256 0.04255574 0.0418431  0.04182319\n",
            " 0.04109066 0.03956069 0.03875151 0.0381038  0.03794152 0.03742762\n",
            " 0.03679257 0.03637228 0.03569812 0.03557313 0.03547764 0.03485675\n",
            " 0.03441333 0.03328785 0.03199195 0.03107623 0.03083311 0.03069958\n",
            " 0.03065076 0.03010632 0.03003085 0.02955756 0.02934271 0.02869253\n",
            " 0.02739907 0.02509454 0.02484745 0.02457568] \n"
          ]
        }
      ],
      "source": [
        "print(f'Top-k(12) 아이템 : {ids[0]} ')\n",
        "print(f'각 아이템의 score : {scores[0]} ')"
      ]
    },
    {
      "cell_type": "markdown",
      "metadata": {
        "id": "OHHDYGjyS8yJ"
      },
      "source": [
        "### (5) Evaluate\n"
      ]
    },
    {
      "cell_type": "markdown",
      "metadata": {
        "id": "5TnltAOWwkyC"
      },
      "source": [
        "implicit에서 지원하는 여러가지 평가 척도가 있습니다.\n",
        "- `mean_average_precision_at_k`\n",
        "- `precision_at_k`\n",
        "- `ndcg_at_k`\n",
        "- `AUC_at_k`\n",
        "\n",
        "각각의 함수를 import 하여 사용할 수 있지만, 아래 함수를 통해 한번에 확인 할 수 있습니다.\n",
        "> ranking_metrics_at_k(model, train_user_items, test_user_items) \n",
        "\n"
      ]
    },
    {
      "cell_type": "code",
      "execution_count": 59,
      "metadata": {
        "colab": {
          "base_uri": "https://localhost:8080/"
        },
        "id": "uC6pn33MwcQ1",
        "outputId": "c66ce212-f96d-4ba6-bc70-4d9527635685"
      },
      "outputs": [
        {
          "data": {
            "text/plain": [
              "{'precision': 0.0007109847138286527,\n",
              " 'map': 9.037015615962983e-05,\n",
              " 'ndcg': 0.000551522692005386,\n",
              " 'auc': 0.5002371106484167}"
            ]
          },
          "execution_count": 59,
          "metadata": {},
          "output_type": "execute_result"
        }
      ],
      "source": [
        "from implicit.evaluation import ranking_metrics_at_k\n",
        "\n",
        "ranking_metrics_at_k(model, train, test, K=12, show_progress=False)"
      ]
    },
    {
      "cell_type": "markdown",
      "metadata": {
        "id": "ebMd_iqg9fQw"
      },
      "source": [
        "## [3] lightfm\n",
        "### lightfm 라이브러리는 무엇인가요?\n",
        "> **LightFM is a Python implementation of a number of popular recommendation algorithms for both implicit and explicit feedback.**   \n",
        ": implicit 및 Explicit 모두 지원하는 Python 라이브러리\n",
        "\n",
        "![lightfm img](https://opengraph.githubassets.com/0edfc40d20e28a6e4023031968750ee2aa5508e02f314845c6857c8df24312fa/lyst/lightfm)\n",
        "\n",
        "가장 특징적인 것은 기존의 Classic한 행렬 분해 모델들과 다르게, User Feature와 Item Feature를 학습 과정에 포함하는 데에 적합한 구조로 만들어져 있다는 점입니다. 학습데이터에서 Collaborative 데이터와 User/Item Feature를 모두 사용합니다. LightFM에서 생성된 Embedding 벡터는 feature에 대한 중요한 의미 정보를 포함하고 있고, 이는 tag 추천과 같은 일에서 중요하게 사용될 수 있습니다.  "
      ]
    },
    {
      "cell_type": "markdown",
      "metadata": {
        "id": "qk8pVKNfTNLx"
      },
      "source": [
        "### (1) Transform\n",
        "먼저 모델에 대한 lightFM Dataset을 생성해야 합니다. Suprise의 케이스와 비슷합니다. LightFM Datset 클래스를 사용하면 matrix, weight 및 user/item feature를 매우 쉽게 생성할 수 있습니다.\n",
        "\n",
        "```\n",
        "(1) Dataset 객체 생성\n",
        "(2) Dataset.fit의 arguments를 통해 기본 정보 전달\n",
        "(3) build_interactions를 통해 \n",
        "(4) build_interactions\n",
        "(5) build_user_features\n",
        "```"
      ]
    },
    {
      "cell_type": "markdown",
      "metadata": {
        "id": "A-xTWn12nbN3"
      },
      "source": [
        "\n",
        "\n",
        "먼저 build_item_features 객체가 필요합니다. 이는 LightFM Dataset class의 build_interactions 메소드의 재료로 활용됩니다.\n",
        "\n",
        "이 때, item에 대한 정보와 user에 대한 정보를 함께 사용하기 위해 list of tuples 형태로 되어 있는 source를 만들어 주어야 합니다. \n",
        "\n",
        "item_source, user_source의 경우 build_item_features / build_user_features에서 사용됩니다.\n",
        "\n",
        "`build_item_features`\n",
        "> Build a item features matrix out of an iterable of the form (item id, [list of feature names]) or (item id, {feature name: feature weight}).\n",
        "\n",
        "아래 코드로 살펴 봅시다."
      ]
    },
    {
      "cell_type": "code",
      "execution_count": 60,
      "metadata": {
        "id": "i0CXLle3ZfvV"
      },
      "outputs": [],
      "source": [
        "data = df.copy().reset_index(drop=True)\n",
        "data.columns = data.columns.str.lower()"
      ]
    },
    {
      "cell_type": "markdown",
      "metadata": {
        "id": "WZ2M1Om-2Hbq"
      },
      "source": [
        "item에 대한 정보는\n",
        "  - category\n",
        "  - language\n",
        "  - book_author\n",
        "  - publisher\n",
        "\n",
        "user 에 대한 정보는\n",
        "  - age\n",
        "  - location_city\n",
        "  - location_state\n",
        "  - location_country   \n",
        "등이 담겼음을 확인할 수 있습니다."
      ]
    },
    {
      "cell_type": "code",
      "execution_count": 61,
      "metadata": {
        "colab": {
          "base_uri": "https://localhost:8080/"
        },
        "id": "Bl3Y5Pg0g9C_",
        "outputId": "897a4a7a-ba0b-4a8b-87a0-3a4e77ee40c2"
      },
      "outputs": [
        {
          "data": {
            "text/plain": [
              "user_id             0\n",
              "isbn                0\n",
              "rating              0\n",
              "age                 0\n",
              "location_country    0\n",
              "location_state      0\n",
              "location_city       0\n",
              "book_title          0\n",
              "book_author         0\n",
              "publisher           0\n",
              "language            0\n",
              "category            0\n",
              "uid                 0\n",
              "iid                 0\n",
              "dtype: int64"
            ]
          },
          "execution_count": 61,
          "metadata": {},
          "output_type": "execute_result"
        }
      ],
      "source": [
        "data.isnull().sum()"
      ]
    },
    {
      "cell_type": "markdown",
      "metadata": {
        "id": "Y6lqys55pgq5"
      },
      "source": [
        "여기서 중요한 것은, 이 때 argument로 들어가는 객체에 결측값은 없어야 한다는 것입니다.\n",
        "\n",
        "이제 본격적으로 정보 source를 작성해 봅시다."
      ]
    },
    {
      "cell_type": "code",
      "execution_count": 62,
      "metadata": {
        "id": "dUCZW9-Pnknh"
      },
      "outputs": [],
      "source": [
        "# ratings_source : build_interactions 에 사용\n",
        "# --> [(user1, item1), (user2, item5), ... ] \n",
        "ratings_source = [(data['uid'][i], data['iid'][i]) for i in range(data.shape[0])]\n",
        "\n",
        "# item_source: build_item_features 에 사용\n",
        "# --> [(item1, [feature, feature, ...]), (item2, [feature, feature, ...])]\n",
        "item_meta = data[['iid', 'category','language','book_author','publisher']]\n",
        "item_source = [(item_meta['iid'][i],\n",
        "                        [item_meta['category'][i],\n",
        "                         item_meta['language'][i],\n",
        "                         item_meta['book_author'][i],\n",
        "                         item_meta['publisher'][i]]) for i in range(item_meta.shape[0])]\n",
        "\n",
        "# user_source: build_iutem_features 에 사용\n",
        "# --> [(user1, [feature, feature, ...]), (user2, [feature, feature, ...])]\n",
        "user_meta = data[['uid','age','location_city','location_state','location_country']]\n",
        "user_source = [(user_meta['uid'][i],\n",
        "                [user_meta['age'][i],\n",
        "                 user_meta['location_city'][i],\n",
        "                 user_meta['location_state'][i],\n",
        "                 user_meta['location_country'][i]]) for i in range(user_meta.shape[0])]"
      ]
    },
    {
      "cell_type": "code",
      "execution_count": 63,
      "metadata": {
        "id": "BPz3pgdU2FxG"
      },
      "outputs": [],
      "source": [
        "from lightfm.data import Dataset\n",
        "\n",
        "dataset = Dataset()\n",
        "dataset.fit(users=data['uid'].unique(),\n",
        "            items=data['iid'].unique(),\n",
        "            item_features=item_meta[item_meta.columns[1:]].values.flatten(),\n",
        "            user_features=user_meta[user_meta.columns[1:]].values.flatten()\n",
        "            )"
      ]
    },
    {
      "cell_type": "markdown",
      "metadata": {
        "id": "LdyOsR7t9sHp"
      },
      "source": [
        "안에 담기는 feature는 다음과 같은 형태입니다."
      ]
    },
    {
      "cell_type": "code",
      "execution_count": 64,
      "metadata": {
        "colab": {
          "base_uri": "https://localhost:8080/"
        },
        "id": "PtP7_WmU-Lgp",
        "outputId": "c1144e4b-6d28-4d3e-834b-72fccad18f5e"
      },
      "outputs": [
        {
          "data": {
            "text/plain": [
              "Index(['category', 'language', 'book_author', 'publisher'], dtype='object')"
            ]
          },
          "execution_count": 64,
          "metadata": {},
          "output_type": "execute_result"
        }
      ],
      "source": [
        "item_meta.columns[1:]"
      ]
    },
    {
      "cell_type": "code",
      "execution_count": 65,
      "metadata": {
        "colab": {
          "base_uri": "https://localhost:8080/"
        },
        "id": "8wuM_XE7-HFO",
        "outputId": "504adc6f-375e-4130-981e-c46d568fff2c"
      },
      "outputs": [
        {
          "data": {
            "text/plain": [
              "array([\"['Fiction']\", 'en', 'John Irving', ..., 'en', 'Steve Perry',\n",
              "       'Berkley Publishing Group'], dtype=object)"
            ]
          },
          "execution_count": 65,
          "metadata": {},
          "output_type": "execute_result"
        }
      ],
      "source": [
        "item_meta[item_meta.columns[1:]].values.flatten()"
      ]
    },
    {
      "cell_type": "markdown",
      "metadata": {
        "id": "rkCT5-Luo8NR"
      },
      "source": [
        "> `dataset.build_interactions(data)`\n",
        ": Build an interaction matrix.\n",
        " (user_id, item_id) 의 형태로 전달되어야 합니다.\n",
        "\n",
        "\n"
      ]
    },
    {
      "cell_type": "code",
      "execution_count": 66,
      "metadata": {
        "id": "HMmlKIWYETNG"
      },
      "outputs": [],
      "source": [
        "interactions, weights = dataset.build_interactions(ratings_source)\n",
        "item_features = dataset.build_item_features(item_source)\n",
        "user_features = dataset.build_user_features(user_source)"
      ]
    },
    {
      "cell_type": "markdown",
      "metadata": {
        "id": "SeGxqN-eET4Z"
      },
      "source": [
        "각 argument 에 대한 설명은 다음과 같습니다.\n",
        "\n",
        "- interactions : User/Item 매트릭스입니다.\n",
        "- weights: interaction matrix의 가중치입니다. 가중치가 낮다는 것은 해당 interaction 대한 중요성이 적다는 것을 의미합니다.\n",
        "- item_features : 다음과 같이 제공되는 feature를 의미합니다. (item_id, ['feature_1', 'feature_2', 'feature_3'])\n",
        "- user_features : 다음과 같이 제공되는 feature를 의미합니다. (user_id, ['feature_1', 'feature_2', 'feature_3'])"
      ]
    },
    {
      "cell_type": "markdown",
      "metadata": {
        "id": "3eNXV7JCTNLx"
      },
      "source": [
        "### (2) Split\n",
        "\n",
        "마찬가지로 random_train_test_split을 이용하여, train, test를 분할하겠습니다.\n",
        "\n",
        "lightfm은 자체적으로 interaction을 0,1로 치환하여 활용하며, 등장의 경우 1, 등장하지 않은 경우, 0입니다. "
      ]
    },
    {
      "cell_type": "code",
      "execution_count": 67,
      "metadata": {
        "colab": {
          "base_uri": "https://localhost:8080/"
        },
        "id": "ZqgucU5ZEjZ5",
        "outputId": "2db13f7d-37a6-42a1-b3ed-6da0de1043a4"
      },
      "outputs": [
        {
          "data": {
            "text/plain": [
              "(<247x27204 sparse matrix of type '<class 'numpy.int32'>'\n",
              " \twith 27152 stored elements in COOrdinate format>,\n",
              " <247x27204 sparse matrix of type '<class 'numpy.int32'>'\n",
              " \twith 6789 stored elements in COOrdinate format>)"
            ]
          },
          "execution_count": 67,
          "metadata": {},
          "output_type": "execute_result"
        }
      ],
      "source": [
        "from lightfm.cross_validation import random_train_test_split \n",
        "\n",
        "train, test = random_train_test_split(interactions, test_percentage=0.2)\n",
        "train, test"
      ]
    },
    {
      "cell_type": "code",
      "execution_count": 68,
      "metadata": {
        "colab": {
          "base_uri": "https://localhost:8080/"
        },
        "id": "G9j1RaF64N3B",
        "outputId": "94d83b58-e9cf-43d9-b4e1-5e671e01ce98"
      },
      "outputs": [
        {
          "data": {
            "text/plain": [
              "array([[1, 1, 1, ..., 0, 0, 0],\n",
              "       [0, 0, 0, ..., 0, 0, 0],\n",
              "       [0, 0, 0, ..., 0, 0, 0],\n",
              "       ...,\n",
              "       [0, 0, 0, ..., 0, 0, 0],\n",
              "       [0, 0, 0, ..., 0, 0, 0],\n",
              "       [0, 0, 0, ..., 1, 1, 1]], dtype=int32)"
            ]
          },
          "execution_count": 68,
          "metadata": {},
          "output_type": "execute_result"
        }
      ],
      "source": [
        "train.toarray()"
      ]
    },
    {
      "cell_type": "code",
      "execution_count": 69,
      "metadata": {
        "colab": {
          "base_uri": "https://localhost:8080/"
        },
        "id": "vMB0gaOg3jQt",
        "outputId": "88ad4416-e8a9-4617-db69-c7db4c2769f4"
      },
      "outputs": [
        {
          "data": {
            "text/plain": [
              "array([[0, 0, 0, ..., 0, 0, 0],\n",
              "       [0, 0, 0, ..., 0, 0, 0],\n",
              "       [0, 0, 0, ..., 0, 0, 0],\n",
              "       ...,\n",
              "       [0, 0, 0, ..., 0, 0, 0],\n",
              "       [0, 0, 0, ..., 0, 0, 0],\n",
              "       [0, 0, 0, ..., 0, 0, 0]], dtype=int32)"
            ]
          },
          "execution_count": 69,
          "metadata": {},
          "output_type": "execute_result"
        }
      ],
      "source": [
        "test.toarray()"
      ]
    },
    {
      "cell_type": "code",
      "execution_count": 70,
      "metadata": {
        "id": "26Jl14s43DA7"
      },
      "outputs": [],
      "source": [
        "train, test = train.tocsr().tocoo(), test.tocsr().tocoo()\n",
        "train_weights = train.multiply(weights).tocoo()"
      ]
    },
    {
      "cell_type": "markdown",
      "metadata": {
        "id": "WGdeuqpxTNLy"
      },
      "source": [
        "### (3) Build & Train Model\n",
        "\n",
        "LightFM이라는 Hybrid형 모델을 단일제공하는 라이브러리입니다.\n",
        "\n",
        "행렬 분해 함수의 최적화를 위해 ALS, SGD와 같은 다양한 최적화 방법을 사용할 수 있습니다.\n",
        "\n",
        "lightfm 라이브러리의 가장 큰 장점은 암시적 피드백 학습을 위해 WARP(Weighted Approximate-Rank Pairwise) 손실을 구현한다는 것입니다.\n",
        "\n",
        "\n",
        "> WARP란?\n",
        "1. User, positive item pair에 대해 나머지 모든 항목에서 무작위로 negative item을 샘플링합니다.\n",
        "2. 두 항목에 대한 예측을 계산합니다. negative item의 예측이 긍정적인 항목에 여백을 더한 것의 예측을 초과하는 경우 긍정적인 항목의 순위를 높게 지정하고 부정적인 항목의 순위를 낮추기 위해 그래디언트 업데이트를 수행합니다. 순위 위반이 없으면 위반이 발견될 때까지 음수 항목 샘플링을 계속합니다."
      ]
    },
    {
      "cell_type": "code",
      "execution_count": 71,
      "metadata": {
        "colab": {
          "base_uri": "https://localhost:8080/"
        },
        "id": "bc7xnBuLRKyP",
        "outputId": "8b1c8a33-f5e7-43a2-9c02-db109598078f"
      },
      "outputs": [
        {
          "data": {
            "text/plain": [
              "<lightfm.lightfm.LightFM at 0x7f5adaff5ac0>"
            ]
          },
          "execution_count": 71,
          "metadata": {},
          "output_type": "execute_result"
        }
      ],
      "source": [
        "from lightfm import LightFM\n",
        "\n",
        "model = LightFM(no_components=10,\n",
        "              learning_schedule='adagrad', # ('adagrad', 'adadelta') 중 하나\n",
        "              loss='warp', # ('logistic', 'bpr', 'warp', 'warp-kos') 중 하나\n",
        "              learning_rate=0.05,\n",
        "              random_state=42)\n",
        "\n",
        "model.fit(interactions=train,\n",
        "          item_features=item_features,\n",
        "          user_features = user_features, \n",
        "          sample_weight=train_weights,\n",
        "          epochs=100,\n",
        "          verbose=False)"
      ]
    },
    {
      "cell_type": "markdown",
      "metadata": {
        "id": "KzfFM660TNLy"
      },
      "source": [
        "### (4) Predict"
      ]
    },
    {
      "cell_type": "markdown",
      "metadata": {
        "id": "35JPzTuF3VqU"
      },
      "source": [
        "model을 predict하는 방법은 다음과 같습니다.\n",
        "\n",
        "`model.predict(user_ids, item_ids, item_features=None, user_features=None, num_threads=1)`\n",
        "\n",
        "[parameter]\n",
        "- user_ids : user id\n",
        "- item_ids : item id\n",
        "- item_features : item feature\n",
        "- user_features : user feature\n",
        "- num_threads : 사용할 쓰레드 수"
      ]
    },
    {
      "cell_type": "code",
      "execution_count": 72,
      "metadata": {
        "colab": {
          "base_uri": "https://localhost:8080/"
        },
        "id": "fc8yrXLwhtgy",
        "outputId": "d78241c4-e3b5-4f4b-f8eb-82e0b5b45977"
      },
      "outputs": [
        {
          "data": {
            "text/plain": [
              "<247x27204 sparse matrix of type '<class 'numpy.int32'>'\n",
              "\twith 33941 stored elements in COOrdinate format>"
            ]
          },
          "execution_count": 72,
          "metadata": {},
          "output_type": "execute_result"
        }
      ],
      "source": [
        "interactions"
      ]
    },
    {
      "cell_type": "markdown",
      "metadata": {
        "id": "YcGhaDpTKeMW"
      },
      "source": [
        "1번 유저가 모든 item에 대해 predict한 score를 찾아봅니다."
      ]
    },
    {
      "cell_type": "code",
      "execution_count": 73,
      "metadata": {
        "id": "GSDWXxMz-olv"
      },
      "outputs": [],
      "source": [
        "scores = []\n",
        "\n",
        "for item_id in range(27204):\n",
        "    user_ids = np.array([1])\n",
        "    item_ids = np.array([item_id])\n",
        "    s = model.predict(user_ids, item_ids, \n",
        "                      item_features=item_features, user_features=user_features)\n",
        "    scores.append([item_ids[0], s[0]])"
      ]
    },
    {
      "cell_type": "markdown",
      "metadata": {
        "id": "f_ZVy3ekKkrk"
      },
      "source": [
        "상위 100개를 확인합니다. 이 때, score는 각 값 비교에 의의가 있습니다."
      ]
    },
    {
      "cell_type": "code",
      "execution_count": 74,
      "metadata": {
        "colab": {
          "base_uri": "https://localhost:8080/",
          "height": 424
        },
        "id": "J2QHot-PWl24",
        "outputId": "a44b4b13-f2da-42fa-b4ea-7e0ddc7cef9c"
      },
      "outputs": [
        {
          "data": {
            "text/html": [
              "\n",
              "  <div id=\"df-734e99e5-140d-4792-9d1c-bb9b302b3448\">\n",
              "    <div class=\"colab-df-container\">\n",
              "      <div>\n",
              "<style scoped>\n",
              "    .dataframe tbody tr th:only-of-type {\n",
              "        vertical-align: middle;\n",
              "    }\n",
              "\n",
              "    .dataframe tbody tr th {\n",
              "        vertical-align: top;\n",
              "    }\n",
              "\n",
              "    .dataframe thead th {\n",
              "        text-align: right;\n",
              "    }\n",
              "</style>\n",
              "<table border=\"1\" class=\"dataframe\">\n",
              "  <thead>\n",
              "    <tr style=\"text-align: right;\">\n",
              "      <th></th>\n",
              "      <th>item_id</th>\n",
              "      <th>score</th>\n",
              "    </tr>\n",
              "  </thead>\n",
              "  <tbody>\n",
              "    <tr>\n",
              "      <th>0</th>\n",
              "      <td>36</td>\n",
              "      <td>-31.123178</td>\n",
              "    </tr>\n",
              "    <tr>\n",
              "      <th>1</th>\n",
              "      <td>3065</td>\n",
              "      <td>-31.432581</td>\n",
              "    </tr>\n",
              "    <tr>\n",
              "      <th>2</th>\n",
              "      <td>1461</td>\n",
              "      <td>-31.466248</td>\n",
              "    </tr>\n",
              "    <tr>\n",
              "      <th>3</th>\n",
              "      <td>3483</td>\n",
              "      <td>-31.515038</td>\n",
              "    </tr>\n",
              "    <tr>\n",
              "      <th>4</th>\n",
              "      <td>1549</td>\n",
              "      <td>-31.530331</td>\n",
              "    </tr>\n",
              "    <tr>\n",
              "      <th>...</th>\n",
              "      <td>...</td>\n",
              "      <td>...</td>\n",
              "    </tr>\n",
              "    <tr>\n",
              "      <th>95</th>\n",
              "      <td>678</td>\n",
              "      <td>-32.536026</td>\n",
              "    </tr>\n",
              "    <tr>\n",
              "      <th>96</th>\n",
              "      <td>617</td>\n",
              "      <td>-32.547585</td>\n",
              "    </tr>\n",
              "    <tr>\n",
              "      <th>97</th>\n",
              "      <td>279</td>\n",
              "      <td>-32.548271</td>\n",
              "    </tr>\n",
              "    <tr>\n",
              "      <th>98</th>\n",
              "      <td>93</td>\n",
              "      <td>-32.553955</td>\n",
              "    </tr>\n",
              "    <tr>\n",
              "      <th>99</th>\n",
              "      <td>12</td>\n",
              "      <td>-32.562344</td>\n",
              "    </tr>\n",
              "  </tbody>\n",
              "</table>\n",
              "<p>100 rows × 2 columns</p>\n",
              "</div>\n",
              "      <button class=\"colab-df-convert\" onclick=\"convertToInteractive('df-734e99e5-140d-4792-9d1c-bb9b302b3448')\"\n",
              "              title=\"Convert this dataframe to an interactive table.\"\n",
              "              style=\"display:none;\">\n",
              "        \n",
              "  <svg xmlns=\"http://www.w3.org/2000/svg\" height=\"24px\"viewBox=\"0 0 24 24\"\n",
              "       width=\"24px\">\n",
              "    <path d=\"M0 0h24v24H0V0z\" fill=\"none\"/>\n",
              "    <path d=\"M18.56 5.44l.94 2.06.94-2.06 2.06-.94-2.06-.94-.94-2.06-.94 2.06-2.06.94zm-11 1L8.5 8.5l.94-2.06 2.06-.94-2.06-.94L8.5 2.5l-.94 2.06-2.06.94zm10 10l.94 2.06.94-2.06 2.06-.94-2.06-.94-.94-2.06-.94 2.06-2.06.94z\"/><path d=\"M17.41 7.96l-1.37-1.37c-.4-.4-.92-.59-1.43-.59-.52 0-1.04.2-1.43.59L10.3 9.45l-7.72 7.72c-.78.78-.78 2.05 0 2.83L4 21.41c.39.39.9.59 1.41.59.51 0 1.02-.2 1.41-.59l7.78-7.78 2.81-2.81c.8-.78.8-2.07 0-2.86zM5.41 20L4 18.59l7.72-7.72 1.47 1.35L5.41 20z\"/>\n",
              "  </svg>\n",
              "      </button>\n",
              "      \n",
              "  <style>\n",
              "    .colab-df-container {\n",
              "      display:flex;\n",
              "      flex-wrap:wrap;\n",
              "      gap: 12px;\n",
              "    }\n",
              "\n",
              "    .colab-df-convert {\n",
              "      background-color: #E8F0FE;\n",
              "      border: none;\n",
              "      border-radius: 50%;\n",
              "      cursor: pointer;\n",
              "      display: none;\n",
              "      fill: #1967D2;\n",
              "      height: 32px;\n",
              "      padding: 0 0 0 0;\n",
              "      width: 32px;\n",
              "    }\n",
              "\n",
              "    .colab-df-convert:hover {\n",
              "      background-color: #E2EBFA;\n",
              "      box-shadow: 0px 1px 2px rgba(60, 64, 67, 0.3), 0px 1px 3px 1px rgba(60, 64, 67, 0.15);\n",
              "      fill: #174EA6;\n",
              "    }\n",
              "\n",
              "    [theme=dark] .colab-df-convert {\n",
              "      background-color: #3B4455;\n",
              "      fill: #D2E3FC;\n",
              "    }\n",
              "\n",
              "    [theme=dark] .colab-df-convert:hover {\n",
              "      background-color: #434B5C;\n",
              "      box-shadow: 0px 1px 3px 1px rgba(0, 0, 0, 0.15);\n",
              "      filter: drop-shadow(0px 1px 2px rgba(0, 0, 0, 0.3));\n",
              "      fill: #FFFFFF;\n",
              "    }\n",
              "  </style>\n",
              "\n",
              "      <script>\n",
              "        const buttonEl =\n",
              "          document.querySelector('#df-734e99e5-140d-4792-9d1c-bb9b302b3448 button.colab-df-convert');\n",
              "        buttonEl.style.display =\n",
              "          google.colab.kernel.accessAllowed ? 'block' : 'none';\n",
              "\n",
              "        async function convertToInteractive(key) {\n",
              "          const element = document.querySelector('#df-734e99e5-140d-4792-9d1c-bb9b302b3448');\n",
              "          const dataTable =\n",
              "            await google.colab.kernel.invokeFunction('convertToInteractive',\n",
              "                                                     [key], {});\n",
              "          if (!dataTable) return;\n",
              "\n",
              "          const docLinkHtml = 'Like what you see? Visit the ' +\n",
              "            '<a target=\"_blank\" href=https://colab.research.google.com/notebooks/data_table.ipynb>data table notebook</a>'\n",
              "            + ' to learn more about interactive tables.';\n",
              "          element.innerHTML = '';\n",
              "          dataTable['output_type'] = 'display_data';\n",
              "          await google.colab.output.renderOutput(dataTable, element);\n",
              "          const docLink = document.createElement('div');\n",
              "          docLink.innerHTML = docLinkHtml;\n",
              "          element.appendChild(docLink);\n",
              "        }\n",
              "      </script>\n",
              "    </div>\n",
              "  </div>\n",
              "  "
            ],
            "text/plain": [
              "    item_id      score\n",
              "0        36 -31.123178\n",
              "1      3065 -31.432581\n",
              "2      1461 -31.466248\n",
              "3      3483 -31.515038\n",
              "4      1549 -31.530331\n",
              "..      ...        ...\n",
              "95      678 -32.536026\n",
              "96      617 -32.547585\n",
              "97      279 -32.548271\n",
              "98       93 -32.553955\n",
              "99       12 -32.562344\n",
              "\n",
              "[100 rows x 2 columns]"
            ]
          },
          "execution_count": 74,
          "metadata": {},
          "output_type": "execute_result"
        }
      ],
      "source": [
        "pd.DataFrame(scores, columns=['item_id', 'score']).sort_values('score', ascending=False).iloc[:100].reset_index(drop=True)"
      ]
    },
    {
      "cell_type": "code",
      "execution_count": 75,
      "metadata": {
        "colab": {
          "base_uri": "https://localhost:8080/"
        },
        "id": "P1oj7SYZWeCN",
        "outputId": "6e7d0b09-e266-446b-bed6-5616f337a307"
      },
      "outputs": [
        {
          "data": {
            "text/plain": [
              "array([-37.97103 , -36.065952, -36.24395 , -35.392395, -39.842567],\n",
              "      dtype=float32)"
            ]
          },
          "execution_count": 75,
          "metadata": {},
          "output_type": "execute_result"
        }
      ],
      "source": [
        "model.predict(user_ids=np.array([0,0,0,0,0]), item_ids=np.array([0,1,2,5,100]), \n",
        "                    item_features=item_features, user_features=user_features)"
      ]
    },
    {
      "cell_type": "markdown",
      "metadata": {
        "id": "jluAEmhoTNLy"
      },
      "source": [
        "### (5) Evaluate Model Perfomance\n"
      ]
    },
    {
      "cell_type": "code",
      "execution_count": 76,
      "metadata": {
        "colab": {
          "base_uri": "https://localhost:8080/"
        },
        "id": "3SkyrBpkn9KD",
        "outputId": "683592d7-a778-458c-c836-54f4ace2ffca"
      },
      "outputs": [
        {
          "data": {
            "text/plain": [
              "0.9827586"
            ]
          },
          "execution_count": 76,
          "metadata": {},
          "output_type": "execute_result"
        }
      ],
      "source": [
        "from lightfm.evaluation import auc_score, precision_at_k, recall_at_k\n",
        "\n",
        "auc_score(model, train, \n",
        "        item_features=item_features, \n",
        "        user_features=user_features).mean()"
      ]
    },
    {
      "cell_type": "code",
      "execution_count": 77,
      "metadata": {
        "id": "IlPd7q5Vf2qR"
      },
      "outputs": [],
      "source": [
        "test_auc = auc_score(model, test, \n",
        "        item_features=item_features, \n",
        "        user_features=user_features).mean()\n",
        "\n",
        "test_precision = precision_at_k(model, test, k=100, \n",
        "                                item_features=item_features,\n",
        "                                user_features=user_features).mean()\n",
        "\n",
        "test_recall = recall_at_k(model, test, k=100, \n",
        "                          item_features=item_features,\n",
        "                          user_features=user_features).mean()"
      ]
    },
    {
      "cell_type": "code",
      "execution_count": 78,
      "metadata": {
        "colab": {
          "base_uri": "https://localhost:8080/"
        },
        "id": "80EcW7Iqki2y",
        "outputId": "516f92af-473b-4b56-e7a6-586f4b3e8ce8"
      },
      "outputs": [
        {
          "data": {
            "text/plain": [
              "(0.6692846, 0.00854251, 0.043569662941678224)"
            ]
          },
          "execution_count": 78,
          "metadata": {},
          "output_type": "execute_result"
        }
      ],
      "source": [
        "test_auc, test_precision, test_recall"
      ]
    },
    {
      "cell_type": "markdown",
      "metadata": {
        "id": "4zk1idb5rlYu"
      },
      "source": [
        "## [4] Recommenders\n",
        "### Recommenders 라이브러리는 무엇인가요?\n",
        "> : Microsoft, MS가 자체 개발한 알고리즘이 아닌, 타 패키지에서 개발된 수십종의 추천 알고리즘 (콘텐츠 기반 ~ 딥러닝 기반까지)을 공통의 인터페이스로 사용할 수 있게 만든 메타패키지\n",
        "\n",
        "![recommenders img](https://opengraph.githubassets.com/0957518ae00c6775aef8678e462bc7b70ba8d5102a3294fff370259cb8b71ee6/microsoft/recommenders)\n",
        "\n",
        "제공되는 모델은 아래 표에서 확인할 수 있습니다. \n",
        "\n",
        "| Algorithm | Type |\n",
        "| --- | --- |\n",
        "| Alternating Least Squares (ALS) | Collaborative Filtering |\n",
        "| Attentive Asynchronous Singular Value Decomposition (A2SVD)* | Collaborative Filtering |\n",
        "| Cornac/Bayesian Personalized Ranking (BPR) | Collaborative Filtering |\n",
        "| Cornac/Bilateral Variational Autoencoder (BiVAE) | Collaborative Filtering |\n",
        "| Convolutional Sequence Embedding Recommendation (Caser) | Collaborative Filtering |\n",
        "| Deep Knowledge-Aware Network (DKN)* | Content-Based Filtering |\n",
        "| Extreme Deep Factorization Machine (xDeepFM)* | Hybrid |\n",
        "| FastAI Embedding Dot Bias (FAST) | Collaborative Filtering |\n",
        "| LightFM/Hybrid Matrix Factorization | Hybrid |\n",
        "| LightGBM/Gradient Boosting Tree* | Content-Based Filtering |\n",
        "| LightGCN | Collaborative Filtering |\n",
        "| GeoIMC* | Hybrid |\n",
        "| GRU4Rec | Collaborative Filtering |\n",
        "| Multinomial VAE | Collaborative Filtering |\n",
        "| Neural Recommendation with Long- and Short-term User Representations (LSTUR)* | Content-Based Filtering |\n",
        "| Neural Recommendation with Attentive Multi-View Learning (NAML)* | Content-Based Filtering |\n",
        "| Neural Collaborative Filtering (NCF) | Collaborative Filtering |\n",
        "| Neural Recommendation with Personalized Attention (NPA)* | Content-Based Filtering |\n",
        "| Neural Recommendation with Multi-Head Self-Attention (NRMS)* | Content-Based Filtering |\n",
        "| Next Item Recommendation (NextItNet) | Collaborative Filtering |\n",
        "| Restricted Boltzmann Machines (RBM) | Collaborative Filtering |\n",
        "| Riemannian Low-rank Matrix Completion (RLRMC)* | Collaborative Filtering |\n",
        "| Simple Algorithm for Recommendation (SAR)* | Collaborative Filtering |\n",
        "| Self-Attentive Sequential Recommendation (SASRec) | Collaborative Filtering |\n",
        "| Short-term and Long-term Preference Integrated Recommender (SLi-Rec)* | Collaborative Filtering |\n",
        "| Multi-Interest-Aware Sequential User Modeling (SUM)* | Collaborative Filtering |\n",
        "| Sequential Recommendation Via Personalized Transformer (SSEPT) | Collaborative Filtering |\n",
        "| Standard VAE | Collaborative Filtering |\n",
        "| Surprise/Singular Value Decomposition (SVD) | Collaborative Filtering |\n",
        "| Term Frequency - Inverse Document Frequency (TF-IDF) | Content-Based Filtering |\n",
        "| Vowpal Wabbit (VW)* | Content-Based Filtering |\n",
        "| Wide and Deep | Hybrid |\n",
        "| xLearn/Factorization Machine (FM) & Field-Aware FM (FFM) | Hybrid |"
      ]
    },
    {
      "cell_type": "code",
      "execution_count": 79,
      "metadata": {
        "colab": {
          "base_uri": "https://localhost:8080/"
        },
        "id": "qF8E1aHzI48t",
        "outputId": "de176309-584d-4bab-cc9e-16d966ae05e3"
      },
      "outputs": [
        {
          "name": "stdout",
          "output_type": "stream",
          "text": [
            "Tensorflow Version: 2.11.0\n",
            "GPUs:\n",
            " [{'device_name': 'Tesla T4', 'total_memory': 15101.8125, 'free_memory': 14194.8125}]\n"
          ]
        }
      ],
      "source": [
        "import tensorflow as tf\n",
        "from recommenders.utils import gpu_utils\n",
        "\n",
        "print(\"Tensorflow Version:\", tf.__version__)\n",
        "print(\"GPUs:\\n\", gpu_utils.get_gpu_info())"
      ]
    },
    {
      "cell_type": "markdown",
      "metadata": {
        "id": "IzubKpdBTVWX"
      },
      "source": [
        "### (1) Trnasform & Split Data"
      ]
    },
    {
      "cell_type": "code",
      "execution_count": 80,
      "metadata": {
        "id": "v3-znm8O16se"
      },
      "outputs": [],
      "source": [
        "# 파일이 사용자별로 정렬되었는지 확인합니다.\n",
        "data = df[['uid','iid','rating']].copy().reset_index(drop=True)\n",
        "data.columns = ['userID','itemID' , 'rating']"
      ]
    },
    {
      "cell_type": "markdown",
      "metadata": {
        "id": "p35jpObtyuD_"
      },
      "source": [
        "data의 컬럼명을 <u>'userID', 'itemID', 'rating'</u>으로 맞추어 줍니다.\n",
        "\n",
        "\b이 때, 컬럼명을 변경하지 않고 그대로 파일을 저장 후 데이터를 로드하게 되면\n",
        "```\n",
        "MissingFieldsException: Columns {'userID', 'itemID'} not in header of file ./train.csv\n",
        "```\n",
        " 이라는 오류가 발생하게 됩니다."
      ]
    },
    {
      "cell_type": "code",
      "execution_count": 81,
      "metadata": {
        "colab": {
          "base_uri": "https://localhost:8080/",
          "height": 206
        },
        "id": "6c13InVsEnMD",
        "outputId": "46791759-3cd8-4c85-b12e-017eec0dc444"
      },
      "outputs": [
        {
          "data": {
            "text/html": [
              "\n",
              "  <div id=\"df-9ed9cbb7-c2d5-48f0-920a-0e8f2818f854\">\n",
              "    <div class=\"colab-df-container\">\n",
              "      <div>\n",
              "<style scoped>\n",
              "    .dataframe tbody tr th:only-of-type {\n",
              "        vertical-align: middle;\n",
              "    }\n",
              "\n",
              "    .dataframe tbody tr th {\n",
              "        vertical-align: top;\n",
              "    }\n",
              "\n",
              "    .dataframe thead th {\n",
              "        text-align: right;\n",
              "    }\n",
              "</style>\n",
              "<table border=\"1\" class=\"dataframe\">\n",
              "  <thead>\n",
              "    <tr style=\"text-align: right;\">\n",
              "      <th></th>\n",
              "      <th>userID</th>\n",
              "      <th>itemID</th>\n",
              "      <th>rating</th>\n",
              "    </tr>\n",
              "  </thead>\n",
              "  <tbody>\n",
              "    <tr>\n",
              "      <th>0</th>\n",
              "      <td>0</td>\n",
              "      <td>0</td>\n",
              "      <td>10</td>\n",
              "    </tr>\n",
              "    <tr>\n",
              "      <th>1</th>\n",
              "      <td>0</td>\n",
              "      <td>1</td>\n",
              "      <td>10</td>\n",
              "    </tr>\n",
              "    <tr>\n",
              "      <th>2</th>\n",
              "      <td>0</td>\n",
              "      <td>2</td>\n",
              "      <td>10</td>\n",
              "    </tr>\n",
              "    <tr>\n",
              "      <th>3</th>\n",
              "      <td>0</td>\n",
              "      <td>3</td>\n",
              "      <td>10</td>\n",
              "    </tr>\n",
              "    <tr>\n",
              "      <th>4</th>\n",
              "      <td>0</td>\n",
              "      <td>4</td>\n",
              "      <td>9</td>\n",
              "    </tr>\n",
              "  </tbody>\n",
              "</table>\n",
              "</div>\n",
              "      <button class=\"colab-df-convert\" onclick=\"convertToInteractive('df-9ed9cbb7-c2d5-48f0-920a-0e8f2818f854')\"\n",
              "              title=\"Convert this dataframe to an interactive table.\"\n",
              "              style=\"display:none;\">\n",
              "        \n",
              "  <svg xmlns=\"http://www.w3.org/2000/svg\" height=\"24px\"viewBox=\"0 0 24 24\"\n",
              "       width=\"24px\">\n",
              "    <path d=\"M0 0h24v24H0V0z\" fill=\"none\"/>\n",
              "    <path d=\"M18.56 5.44l.94 2.06.94-2.06 2.06-.94-2.06-.94-.94-2.06-.94 2.06-2.06.94zm-11 1L8.5 8.5l.94-2.06 2.06-.94-2.06-.94L8.5 2.5l-.94 2.06-2.06.94zm10 10l.94 2.06.94-2.06 2.06-.94-2.06-.94-.94-2.06-.94 2.06-2.06.94z\"/><path d=\"M17.41 7.96l-1.37-1.37c-.4-.4-.92-.59-1.43-.59-.52 0-1.04.2-1.43.59L10.3 9.45l-7.72 7.72c-.78.78-.78 2.05 0 2.83L4 21.41c.39.39.9.59 1.41.59.51 0 1.02-.2 1.41-.59l7.78-7.78 2.81-2.81c.8-.78.8-2.07 0-2.86zM5.41 20L4 18.59l7.72-7.72 1.47 1.35L5.41 20z\"/>\n",
              "  </svg>\n",
              "      </button>\n",
              "      \n",
              "  <style>\n",
              "    .colab-df-container {\n",
              "      display:flex;\n",
              "      flex-wrap:wrap;\n",
              "      gap: 12px;\n",
              "    }\n",
              "\n",
              "    .colab-df-convert {\n",
              "      background-color: #E8F0FE;\n",
              "      border: none;\n",
              "      border-radius: 50%;\n",
              "      cursor: pointer;\n",
              "      display: none;\n",
              "      fill: #1967D2;\n",
              "      height: 32px;\n",
              "      padding: 0 0 0 0;\n",
              "      width: 32px;\n",
              "    }\n",
              "\n",
              "    .colab-df-convert:hover {\n",
              "      background-color: #E2EBFA;\n",
              "      box-shadow: 0px 1px 2px rgba(60, 64, 67, 0.3), 0px 1px 3px 1px rgba(60, 64, 67, 0.15);\n",
              "      fill: #174EA6;\n",
              "    }\n",
              "\n",
              "    [theme=dark] .colab-df-convert {\n",
              "      background-color: #3B4455;\n",
              "      fill: #D2E3FC;\n",
              "    }\n",
              "\n",
              "    [theme=dark] .colab-df-convert:hover {\n",
              "      background-color: #434B5C;\n",
              "      box-shadow: 0px 1px 3px 1px rgba(0, 0, 0, 0.15);\n",
              "      filter: drop-shadow(0px 1px 2px rgba(0, 0, 0, 0.3));\n",
              "      fill: #FFFFFF;\n",
              "    }\n",
              "  </style>\n",
              "\n",
              "      <script>\n",
              "        const buttonEl =\n",
              "          document.querySelector('#df-9ed9cbb7-c2d5-48f0-920a-0e8f2818f854 button.colab-df-convert');\n",
              "        buttonEl.style.display =\n",
              "          google.colab.kernel.accessAllowed ? 'block' : 'none';\n",
              "\n",
              "        async function convertToInteractive(key) {\n",
              "          const element = document.querySelector('#df-9ed9cbb7-c2d5-48f0-920a-0e8f2818f854');\n",
              "          const dataTable =\n",
              "            await google.colab.kernel.invokeFunction('convertToInteractive',\n",
              "                                                     [key], {});\n",
              "          if (!dataTable) return;\n",
              "\n",
              "          const docLinkHtml = 'Like what you see? Visit the ' +\n",
              "            '<a target=\"_blank\" href=https://colab.research.google.com/notebooks/data_table.ipynb>data table notebook</a>'\n",
              "            + ' to learn more about interactive tables.';\n",
              "          element.innerHTML = '';\n",
              "          dataTable['output_type'] = 'display_data';\n",
              "          await google.colab.output.renderOutput(dataTable, element);\n",
              "          const docLink = document.createElement('div');\n",
              "          docLink.innerHTML = docLinkHtml;\n",
              "          element.appendChild(docLink);\n",
              "        }\n",
              "      </script>\n",
              "    </div>\n",
              "  </div>\n",
              "  "
            ],
            "text/plain": [
              "   userID  itemID  rating\n",
              "0       0       0      10\n",
              "1       0       1      10\n",
              "2       0       2      10\n",
              "3       0       3      10\n",
              "4       0       4       9"
            ]
          },
          "execution_count": 81,
          "metadata": {},
          "output_type": "execute_result"
        }
      ],
      "source": [
        "data.head()"
      ]
    },
    {
      "cell_type": "markdown",
      "metadata": {
        "id": "7aQ4PtbNzN--"
      },
      "source": [
        "마찬가지로 다양한 전략을 사용하여 데이터를 분할할 수 있습니다.\n",
        "recommenders에서는 다양한 데이터 분할 함수를 지원합니다.\n",
        "\n",
        "- python_chrono_split : 시간에 따른 분할\n",
        "- python_random_split : 랜덤하게 분할\n",
        "- python_stratified_split : 계층적 분할\n",
        "\n",
        "recommeders는 메타 라이브러리로 각각의 함수 구현을 타 라이브러리에서 따온 경우가 많습니다. 여기서 python_random_split가 그 경우로, 이 때 scikitlearn의 train_test_split을 따서 가져왔습니다. \n",
        "\n",
        "여기서는 python_stratified_split을 사용하여 rating에 따라 데이터를 분할하여 봅시다.\n",
        "\n",
        "\\[parameters]\n",
        "- data : pandas.DataFrame, split할 데이터\n",
        "- ratio : float or list, split 비율\n",
        "- seed : int, random seed 값\n",
        "- filter_by : str, min_rating을 적용할 기준\n",
        "- col_user : str, user id 컬럼명\n",
        "- col_item : str, item id 컬럼명 \n",
        "등\n",
        "\n",
        "\\[return]\n",
        "- list : input data를 split한 pandas.DataFrame들\n"
      ]
    },
    {
      "cell_type": "code",
      "execution_count": 82,
      "metadata": {
        "id": "Y7W-5NXIKUDm"
      },
      "outputs": [],
      "source": [
        "from recommenders.datasets.python_splitters import python_random_split, python_stratified_split\n",
        "\n",
        "train, test = python_stratified_split(data, ratio=0.8, seed=42)"
      ]
    },
    {
      "cell_type": "code",
      "execution_count": 83,
      "metadata": {
        "colab": {
          "base_uri": "https://localhost:8080/",
          "height": 206
        },
        "id": "DzjNMpgU1uZz",
        "outputId": "1f08d398-ef6f-4955-f37b-c6b8fef6d715"
      },
      "outputs": [
        {
          "data": {
            "text/html": [
              "\n",
              "  <div id=\"df-f266c7cb-4b81-40e2-beb7-31b7d0daa184\">\n",
              "    <div class=\"colab-df-container\">\n",
              "      <div>\n",
              "<style scoped>\n",
              "    .dataframe tbody tr th:only-of-type {\n",
              "        vertical-align: middle;\n",
              "    }\n",
              "\n",
              "    .dataframe tbody tr th {\n",
              "        vertical-align: top;\n",
              "    }\n",
              "\n",
              "    .dataframe thead th {\n",
              "        text-align: right;\n",
              "    }\n",
              "</style>\n",
              "<table border=\"1\" class=\"dataframe\">\n",
              "  <thead>\n",
              "    <tr style=\"text-align: right;\">\n",
              "      <th></th>\n",
              "      <th>userID</th>\n",
              "      <th>itemID</th>\n",
              "      <th>rating</th>\n",
              "    </tr>\n",
              "  </thead>\n",
              "  <tbody>\n",
              "    <tr>\n",
              "      <th>0</th>\n",
              "      <td>0</td>\n",
              "      <td>0</td>\n",
              "      <td>10</td>\n",
              "    </tr>\n",
              "    <tr>\n",
              "      <th>5</th>\n",
              "      <td>0</td>\n",
              "      <td>5</td>\n",
              "      <td>7</td>\n",
              "    </tr>\n",
              "    <tr>\n",
              "      <th>46</th>\n",
              "      <td>0</td>\n",
              "      <td>46</td>\n",
              "      <td>8</td>\n",
              "    </tr>\n",
              "    <tr>\n",
              "      <th>31</th>\n",
              "      <td>0</td>\n",
              "      <td>31</td>\n",
              "      <td>10</td>\n",
              "    </tr>\n",
              "    <tr>\n",
              "      <th>13</th>\n",
              "      <td>0</td>\n",
              "      <td>13</td>\n",
              "      <td>9</td>\n",
              "    </tr>\n",
              "  </tbody>\n",
              "</table>\n",
              "</div>\n",
              "      <button class=\"colab-df-convert\" onclick=\"convertToInteractive('df-f266c7cb-4b81-40e2-beb7-31b7d0daa184')\"\n",
              "              title=\"Convert this dataframe to an interactive table.\"\n",
              "              style=\"display:none;\">\n",
              "        \n",
              "  <svg xmlns=\"http://www.w3.org/2000/svg\" height=\"24px\"viewBox=\"0 0 24 24\"\n",
              "       width=\"24px\">\n",
              "    <path d=\"M0 0h24v24H0V0z\" fill=\"none\"/>\n",
              "    <path d=\"M18.56 5.44l.94 2.06.94-2.06 2.06-.94-2.06-.94-.94-2.06-.94 2.06-2.06.94zm-11 1L8.5 8.5l.94-2.06 2.06-.94-2.06-.94L8.5 2.5l-.94 2.06-2.06.94zm10 10l.94 2.06.94-2.06 2.06-.94-2.06-.94-.94-2.06-.94 2.06-2.06.94z\"/><path d=\"M17.41 7.96l-1.37-1.37c-.4-.4-.92-.59-1.43-.59-.52 0-1.04.2-1.43.59L10.3 9.45l-7.72 7.72c-.78.78-.78 2.05 0 2.83L4 21.41c.39.39.9.59 1.41.59.51 0 1.02-.2 1.41-.59l7.78-7.78 2.81-2.81c.8-.78.8-2.07 0-2.86zM5.41 20L4 18.59l7.72-7.72 1.47 1.35L5.41 20z\"/>\n",
              "  </svg>\n",
              "      </button>\n",
              "      \n",
              "  <style>\n",
              "    .colab-df-container {\n",
              "      display:flex;\n",
              "      flex-wrap:wrap;\n",
              "      gap: 12px;\n",
              "    }\n",
              "\n",
              "    .colab-df-convert {\n",
              "      background-color: #E8F0FE;\n",
              "      border: none;\n",
              "      border-radius: 50%;\n",
              "      cursor: pointer;\n",
              "      display: none;\n",
              "      fill: #1967D2;\n",
              "      height: 32px;\n",
              "      padding: 0 0 0 0;\n",
              "      width: 32px;\n",
              "    }\n",
              "\n",
              "    .colab-df-convert:hover {\n",
              "      background-color: #E2EBFA;\n",
              "      box-shadow: 0px 1px 2px rgba(60, 64, 67, 0.3), 0px 1px 3px 1px rgba(60, 64, 67, 0.15);\n",
              "      fill: #174EA6;\n",
              "    }\n",
              "\n",
              "    [theme=dark] .colab-df-convert {\n",
              "      background-color: #3B4455;\n",
              "      fill: #D2E3FC;\n",
              "    }\n",
              "\n",
              "    [theme=dark] .colab-df-convert:hover {\n",
              "      background-color: #434B5C;\n",
              "      box-shadow: 0px 1px 3px 1px rgba(0, 0, 0, 0.15);\n",
              "      filter: drop-shadow(0px 1px 2px rgba(0, 0, 0, 0.3));\n",
              "      fill: #FFFFFF;\n",
              "    }\n",
              "  </style>\n",
              "\n",
              "      <script>\n",
              "        const buttonEl =\n",
              "          document.querySelector('#df-f266c7cb-4b81-40e2-beb7-31b7d0daa184 button.colab-df-convert');\n",
              "        buttonEl.style.display =\n",
              "          google.colab.kernel.accessAllowed ? 'block' : 'none';\n",
              "\n",
              "        async function convertToInteractive(key) {\n",
              "          const element = document.querySelector('#df-f266c7cb-4b81-40e2-beb7-31b7d0daa184');\n",
              "          const dataTable =\n",
              "            await google.colab.kernel.invokeFunction('convertToInteractive',\n",
              "                                                     [key], {});\n",
              "          if (!dataTable) return;\n",
              "\n",
              "          const docLinkHtml = 'Like what you see? Visit the ' +\n",
              "            '<a target=\"_blank\" href=https://colab.research.google.com/notebooks/data_table.ipynb>data table notebook</a>'\n",
              "            + ' to learn more about interactive tables.';\n",
              "          element.innerHTML = '';\n",
              "          dataTable['output_type'] = 'display_data';\n",
              "          await google.colab.output.renderOutput(dataTable, element);\n",
              "          const docLink = document.createElement('div');\n",
              "          docLink.innerHTML = docLinkHtml;\n",
              "          element.appendChild(docLink);\n",
              "        }\n",
              "      </script>\n",
              "    </div>\n",
              "  </div>\n",
              "  "
            ],
            "text/plain": [
              "    userID  itemID  rating\n",
              "0        0       0      10\n",
              "5        0       5       7\n",
              "46       0      46       8\n",
              "31       0      31      10\n",
              "13       0      13       9"
            ]
          },
          "execution_count": 83,
          "metadata": {},
          "output_type": "execute_result"
        }
      ],
      "source": [
        "train.head()"
      ]
    },
    {
      "cell_type": "code",
      "execution_count": 84,
      "metadata": {
        "colab": {
          "base_uri": "https://localhost:8080/",
          "height": 206
        },
        "id": "w6bmSQav2Pqq",
        "outputId": "94475cfd-bbb5-4cbe-9c98-c11be566aec8"
      },
      "outputs": [
        {
          "data": {
            "text/html": [
              "\n",
              "  <div id=\"df-3dfdbd96-6282-45d8-a94a-937dc8eb5f44\">\n",
              "    <div class=\"colab-df-container\">\n",
              "      <div>\n",
              "<style scoped>\n",
              "    .dataframe tbody tr th:only-of-type {\n",
              "        vertical-align: middle;\n",
              "    }\n",
              "\n",
              "    .dataframe tbody tr th {\n",
              "        vertical-align: top;\n",
              "    }\n",
              "\n",
              "    .dataframe thead th {\n",
              "        text-align: right;\n",
              "    }\n",
              "</style>\n",
              "<table border=\"1\" class=\"dataframe\">\n",
              "  <thead>\n",
              "    <tr style=\"text-align: right;\">\n",
              "      <th></th>\n",
              "      <th>userID</th>\n",
              "      <th>itemID</th>\n",
              "      <th>rating</th>\n",
              "    </tr>\n",
              "  </thead>\n",
              "  <tbody>\n",
              "    <tr>\n",
              "      <th>50</th>\n",
              "      <td>0</td>\n",
              "      <td>50</td>\n",
              "      <td>10</td>\n",
              "    </tr>\n",
              "    <tr>\n",
              "      <th>10</th>\n",
              "      <td>0</td>\n",
              "      <td>10</td>\n",
              "      <td>10</td>\n",
              "    </tr>\n",
              "    <tr>\n",
              "      <th>22</th>\n",
              "      <td>0</td>\n",
              "      <td>22</td>\n",
              "      <td>1</td>\n",
              "    </tr>\n",
              "    <tr>\n",
              "      <th>18</th>\n",
              "      <td>0</td>\n",
              "      <td>18</td>\n",
              "      <td>1</td>\n",
              "    </tr>\n",
              "    <tr>\n",
              "      <th>60</th>\n",
              "      <td>0</td>\n",
              "      <td>60</td>\n",
              "      <td>9</td>\n",
              "    </tr>\n",
              "  </tbody>\n",
              "</table>\n",
              "</div>\n",
              "      <button class=\"colab-df-convert\" onclick=\"convertToInteractive('df-3dfdbd96-6282-45d8-a94a-937dc8eb5f44')\"\n",
              "              title=\"Convert this dataframe to an interactive table.\"\n",
              "              style=\"display:none;\">\n",
              "        \n",
              "  <svg xmlns=\"http://www.w3.org/2000/svg\" height=\"24px\"viewBox=\"0 0 24 24\"\n",
              "       width=\"24px\">\n",
              "    <path d=\"M0 0h24v24H0V0z\" fill=\"none\"/>\n",
              "    <path d=\"M18.56 5.44l.94 2.06.94-2.06 2.06-.94-2.06-.94-.94-2.06-.94 2.06-2.06.94zm-11 1L8.5 8.5l.94-2.06 2.06-.94-2.06-.94L8.5 2.5l-.94 2.06-2.06.94zm10 10l.94 2.06.94-2.06 2.06-.94-2.06-.94-.94-2.06-.94 2.06-2.06.94z\"/><path d=\"M17.41 7.96l-1.37-1.37c-.4-.4-.92-.59-1.43-.59-.52 0-1.04.2-1.43.59L10.3 9.45l-7.72 7.72c-.78.78-.78 2.05 0 2.83L4 21.41c.39.39.9.59 1.41.59.51 0 1.02-.2 1.41-.59l7.78-7.78 2.81-2.81c.8-.78.8-2.07 0-2.86zM5.41 20L4 18.59l7.72-7.72 1.47 1.35L5.41 20z\"/>\n",
              "  </svg>\n",
              "      </button>\n",
              "      \n",
              "  <style>\n",
              "    .colab-df-container {\n",
              "      display:flex;\n",
              "      flex-wrap:wrap;\n",
              "      gap: 12px;\n",
              "    }\n",
              "\n",
              "    .colab-df-convert {\n",
              "      background-color: #E8F0FE;\n",
              "      border: none;\n",
              "      border-radius: 50%;\n",
              "      cursor: pointer;\n",
              "      display: none;\n",
              "      fill: #1967D2;\n",
              "      height: 32px;\n",
              "      padding: 0 0 0 0;\n",
              "      width: 32px;\n",
              "    }\n",
              "\n",
              "    .colab-df-convert:hover {\n",
              "      background-color: #E2EBFA;\n",
              "      box-shadow: 0px 1px 2px rgba(60, 64, 67, 0.3), 0px 1px 3px 1px rgba(60, 64, 67, 0.15);\n",
              "      fill: #174EA6;\n",
              "    }\n",
              "\n",
              "    [theme=dark] .colab-df-convert {\n",
              "      background-color: #3B4455;\n",
              "      fill: #D2E3FC;\n",
              "    }\n",
              "\n",
              "    [theme=dark] .colab-df-convert:hover {\n",
              "      background-color: #434B5C;\n",
              "      box-shadow: 0px 1px 3px 1px rgba(0, 0, 0, 0.15);\n",
              "      filter: drop-shadow(0px 1px 2px rgba(0, 0, 0, 0.3));\n",
              "      fill: #FFFFFF;\n",
              "    }\n",
              "  </style>\n",
              "\n",
              "      <script>\n",
              "        const buttonEl =\n",
              "          document.querySelector('#df-3dfdbd96-6282-45d8-a94a-937dc8eb5f44 button.colab-df-convert');\n",
              "        buttonEl.style.display =\n",
              "          google.colab.kernel.accessAllowed ? 'block' : 'none';\n",
              "\n",
              "        async function convertToInteractive(key) {\n",
              "          const element = document.querySelector('#df-3dfdbd96-6282-45d8-a94a-937dc8eb5f44');\n",
              "          const dataTable =\n",
              "            await google.colab.kernel.invokeFunction('convertToInteractive',\n",
              "                                                     [key], {});\n",
              "          if (!dataTable) return;\n",
              "\n",
              "          const docLinkHtml = 'Like what you see? Visit the ' +\n",
              "            '<a target=\"_blank\" href=https://colab.research.google.com/notebooks/data_table.ipynb>data table notebook</a>'\n",
              "            + ' to learn more about interactive tables.';\n",
              "          element.innerHTML = '';\n",
              "          dataTable['output_type'] = 'display_data';\n",
              "          await google.colab.output.renderOutput(dataTable, element);\n",
              "          const docLink = document.createElement('div');\n",
              "          docLink.innerHTML = docLinkHtml;\n",
              "          element.appendChild(docLink);\n",
              "        }\n",
              "      </script>\n",
              "    </div>\n",
              "  </div>\n",
              "  "
            ],
            "text/plain": [
              "    userID  itemID  rating\n",
              "50       0      50      10\n",
              "10       0      10      10\n",
              "22       0      22       1\n",
              "18       0      18       1\n",
              "60       0      60       9"
            ]
          },
          "execution_count": 84,
          "metadata": {},
          "output_type": "execute_result"
        }
      ],
      "source": [
        "test.head()"
      ]
    },
    {
      "cell_type": "markdown",
      "metadata": {
        "id": "hdT3g3QG3lg-"
      },
      "source": [
        "이번 실습에서는 cold start issue 를 방지하기 위해 test에는 train에서 나타난 ID들로만 필터링하여 사용하겠습니다."
      ]
    },
    {
      "cell_type": "code",
      "execution_count": 85,
      "metadata": {
        "id": "qAPpW5AxLZBj"
      },
      "outputs": [],
      "source": [
        "# train 데이터에 있는 유저와 아이템만 남기기\n",
        "test = test[test[\"userID\"].isin(train[\"userID\"].unique())]\n",
        "test = test[test[\"itemID\"].isin(train[\"itemID\"].unique())]"
      ]
    },
    {
      "cell_type": "code",
      "execution_count": 86,
      "metadata": {
        "id": "OoWv4CQyLMCo"
      },
      "outputs": [],
      "source": [
        "train.sort_values(by='userID',inplace=True)\n",
        "test.sort_values(by='userID',inplace=True)"
      ]
    },
    {
      "cell_type": "code",
      "execution_count": 87,
      "metadata": {
        "id": "8VkVJ3bKJ4AU"
      },
      "outputs": [],
      "source": [
        "train_file = \"./train.csv\"\n",
        "test_file = \"./test.csv\"\n",
        "\n",
        "train.to_csv(train_file, index=False)\n",
        "test.to_csv(test_file, index=False)"
      ]
    },
    {
      "cell_type": "markdown",
      "metadata": {
        "id": "Ike9m8_QGZqs"
      },
      "source": [
        "NCFDataset 클래스를 사용하여 데이터를 불러옵니다.\n",
        "이 때, train, test 데이터를 불러오는 형태는 file path를 넣어주는 것입니다.\n",
        "항상 같은 데이터를 사용하기 위해 seed를 고정해 줍니다."
      ]
    },
    {
      "cell_type": "code",
      "execution_count": 88,
      "metadata": {
        "colab": {
          "base_uri": "https://localhost:8080/"
        },
        "id": "86-rISvDIAqR",
        "outputId": "891f20da-5661-471b-8dce-47cdabf65b9c"
      },
      "outputs": [
        {
          "name": "stderr",
          "output_type": "stream",
          "text": [
            "100%|██████████| 243/243 [00:05<00:00, 41.92it/s]\n"
          ]
        }
      ],
      "source": [
        "#\n",
        "from recommenders.models.ncf.dataset import Dataset as NCFDataset\n",
        "\n",
        "data = NCFDataset(train_file=train_file, test_file=test_file, seed=42, overwrite_test_file_full=True)"
      ]
    },
    {
      "cell_type": "markdown",
      "metadata": {
        "id": "GuSV2uyhTVWY"
      },
      "source": [
        "### (2) Build & Train Model\n",
        "\n",
        "> **NCF**  \n",
        " : NCF는 GMF(Generalized Matrix Factorization)와 MLP(Multi-Layer Perceptron)를 앙상블하여 사용자 항목 잠재 구조를 모델링하기 위해 MF의 선형성과 MLP의 비선형성의 강점을 통합한 신경 행렬 분해 모델입니다."
      ]
    },
    {
      "cell_type": "markdown",
      "metadata": {
        "id": "9m66fWP_EZJZ"
      },
      "source": [
        "기본적인 seed를 고정해주고, 모델을 학습시켜 봅시다."
      ]
    },
    {
      "cell_type": "code",
      "execution_count": 89,
      "metadata": {
        "colab": {
          "base_uri": "https://localhost:8080/"
        },
        "id": "NNgo4kitEYgU",
        "outputId": "44950f7a-0189-4e40-af99-a155f29a74b4"
      },
      "outputs": [
        {
          "data": {
            "text/plain": [
              "<torch._C.Generator at 0x7f5ae76f3d90>"
            ]
          },
          "execution_count": 89,
          "metadata": {},
          "output_type": "execute_result"
        }
      ],
      "source": [
        "from recommenders.models.ncf.ncf_singlenode import NCF\n",
        "\n",
        "np.random.seed(42)\n",
        "torch.manual_seed(42)\n",
        "torch.cuda.manual_seed_all(42)"
      ]
    },
    {
      "cell_type": "markdown",
      "metadata": {
        "id": "Q3_0dxYvEW7f"
      },
      "source": [
        "NCF에는 많은 매개변수가 있으며, 가장 중요한 것은 아래와 같습니다.\n",
        "\n",
        "\\[parameters]\n",
        "- `n_factors` : latent vector의 차원\n",
        "- `layer_sizes` : MLP의 입력 레이어 및 은닉 레이어의 크기, 입력 유형은 list\n",
        "- `model_type` : 모델의 유형을 변경하여 단일 \"MLP\", \"GMF\" 혹은 두 모델이 결합된 모델 \"NCF\"를 훈련 가능\n",
        "\n",
        "여기서는 n_factor를 4로, layer_sizes를 [16,8,4]로, n_epochs를 10으로, batch_size를 256으로 설정하였습니다."
      ]
    },
    {
      "cell_type": "code",
      "execution_count": 90,
      "metadata": {
        "id": "eMlu3AcTFF6v"
      },
      "outputs": [],
      "source": [
        "model = NCF(\n",
        "    n_users=data.n_users, \n",
        "    n_items=data.n_items,\n",
        "    model_type=\"NeuMF\",\n",
        "    n_factors=4,\n",
        "    layer_sizes=[16,8,4],\n",
        "    n_epochs=10,\n",
        "    batch_size=256,\n",
        "    learning_rate=1e-3,\n",
        "    verbose=10,\n",
        "    seed=42\n",
        ")"
      ]
    },
    {
      "cell_type": "markdown",
      "metadata": {
        "id": "iu-JOi6SD6tV"
      },
      "source": [
        "모델을 훈련하려면 fit() 메서드를 호출하기만 하면 됩니다.\n",
        "model.fit 시, 입력받는 data의 형태는 NCFDataset임을 주의해야 합니다."
      ]
    },
    {
      "cell_type": "code",
      "execution_count": 91,
      "metadata": {
        "id": "1KMbYT31NgFb"
      },
      "outputs": [],
      "source": [
        "model.fit(data)"
      ]
    },
    {
      "cell_type": "markdown",
      "metadata": {
        "id": "7QUnSmc1TVWY"
      },
      "source": [
        "### (3) Predict\n",
        "\n",
        "이제 model.predict를 통해 테스트 데이터에 대한 prediction을 얻을 수 있습니다.\n",
        "\n",
        "`predict()` 는 예측하고 싶은 하나의 데이터의 'user'와 'item'을 인자로 넣어주어 예측 값을 반환합니다.   \n",
        "\n",
        "```python\n",
        "model.predict(user_input, item_input, is_list = False)\n",
        "```\n",
        "\n",
        "이를 데이터 프레임으로 변환하여 확인해 봅시다.\n",
        "\n",
        "is_list라는 인자를 True로 주어진 값들에 대한 예측을 한 번에 확인할 수도 있습니다.\n"
      ]
    },
    {
      "cell_type": "code",
      "execution_count": 92,
      "metadata": {
        "colab": {
          "base_uri": "https://localhost:8080/",
          "height": 206
        },
        "id": "o72jLMr9OQtj",
        "outputId": "225b9cc4-4a44-4929-a3a8-9c895f3f0860"
      },
      "outputs": [
        {
          "data": {
            "text/html": [
              "\n",
              "  <div id=\"df-5b602d63-785a-4056-9075-378770f20a51\">\n",
              "    <div class=\"colab-df-container\">\n",
              "      <div>\n",
              "<style scoped>\n",
              "    .dataframe tbody tr th:only-of-type {\n",
              "        vertical-align: middle;\n",
              "    }\n",
              "\n",
              "    .dataframe tbody tr th {\n",
              "        vertical-align: top;\n",
              "    }\n",
              "\n",
              "    .dataframe thead th {\n",
              "        text-align: right;\n",
              "    }\n",
              "</style>\n",
              "<table border=\"1\" class=\"dataframe\">\n",
              "  <thead>\n",
              "    <tr style=\"text-align: right;\">\n",
              "      <th></th>\n",
              "      <th>userID</th>\n",
              "      <th>itemID</th>\n",
              "      <th>prediction</th>\n",
              "    </tr>\n",
              "  </thead>\n",
              "  <tbody>\n",
              "    <tr>\n",
              "      <th>0</th>\n",
              "      <td>0</td>\n",
              "      <td>50</td>\n",
              "      <td>0.132397</td>\n",
              "    </tr>\n",
              "    <tr>\n",
              "      <th>1</th>\n",
              "      <td>0</td>\n",
              "      <td>10</td>\n",
              "      <td>0.087152</td>\n",
              "    </tr>\n",
              "    <tr>\n",
              "      <th>2</th>\n",
              "      <td>0</td>\n",
              "      <td>22</td>\n",
              "      <td>0.174145</td>\n",
              "    </tr>\n",
              "    <tr>\n",
              "      <th>3</th>\n",
              "      <td>0</td>\n",
              "      <td>60</td>\n",
              "      <td>0.118713</td>\n",
              "    </tr>\n",
              "    <tr>\n",
              "      <th>4</th>\n",
              "      <td>0</td>\n",
              "      <td>7</td>\n",
              "      <td>0.055059</td>\n",
              "    </tr>\n",
              "  </tbody>\n",
              "</table>\n",
              "</div>\n",
              "      <button class=\"colab-df-convert\" onclick=\"convertToInteractive('df-5b602d63-785a-4056-9075-378770f20a51')\"\n",
              "              title=\"Convert this dataframe to an interactive table.\"\n",
              "              style=\"display:none;\">\n",
              "        \n",
              "  <svg xmlns=\"http://www.w3.org/2000/svg\" height=\"24px\"viewBox=\"0 0 24 24\"\n",
              "       width=\"24px\">\n",
              "    <path d=\"M0 0h24v24H0V0z\" fill=\"none\"/>\n",
              "    <path d=\"M18.56 5.44l.94 2.06.94-2.06 2.06-.94-2.06-.94-.94-2.06-.94 2.06-2.06.94zm-11 1L8.5 8.5l.94-2.06 2.06-.94-2.06-.94L8.5 2.5l-.94 2.06-2.06.94zm10 10l.94 2.06.94-2.06 2.06-.94-2.06-.94-.94-2.06-.94 2.06-2.06.94z\"/><path d=\"M17.41 7.96l-1.37-1.37c-.4-.4-.92-.59-1.43-.59-.52 0-1.04.2-1.43.59L10.3 9.45l-7.72 7.72c-.78.78-.78 2.05 0 2.83L4 21.41c.39.39.9.59 1.41.59.51 0 1.02-.2 1.41-.59l7.78-7.78 2.81-2.81c.8-.78.8-2.07 0-2.86zM5.41 20L4 18.59l7.72-7.72 1.47 1.35L5.41 20z\"/>\n",
              "  </svg>\n",
              "      </button>\n",
              "      \n",
              "  <style>\n",
              "    .colab-df-container {\n",
              "      display:flex;\n",
              "      flex-wrap:wrap;\n",
              "      gap: 12px;\n",
              "    }\n",
              "\n",
              "    .colab-df-convert {\n",
              "      background-color: #E8F0FE;\n",
              "      border: none;\n",
              "      border-radius: 50%;\n",
              "      cursor: pointer;\n",
              "      display: none;\n",
              "      fill: #1967D2;\n",
              "      height: 32px;\n",
              "      padding: 0 0 0 0;\n",
              "      width: 32px;\n",
              "    }\n",
              "\n",
              "    .colab-df-convert:hover {\n",
              "      background-color: #E2EBFA;\n",
              "      box-shadow: 0px 1px 2px rgba(60, 64, 67, 0.3), 0px 1px 3px 1px rgba(60, 64, 67, 0.15);\n",
              "      fill: #174EA6;\n",
              "    }\n",
              "\n",
              "    [theme=dark] .colab-df-convert {\n",
              "      background-color: #3B4455;\n",
              "      fill: #D2E3FC;\n",
              "    }\n",
              "\n",
              "    [theme=dark] .colab-df-convert:hover {\n",
              "      background-color: #434B5C;\n",
              "      box-shadow: 0px 1px 3px 1px rgba(0, 0, 0, 0.15);\n",
              "      filter: drop-shadow(0px 1px 2px rgba(0, 0, 0, 0.3));\n",
              "      fill: #FFFFFF;\n",
              "    }\n",
              "  </style>\n",
              "\n",
              "      <script>\n",
              "        const buttonEl =\n",
              "          document.querySelector('#df-5b602d63-785a-4056-9075-378770f20a51 button.colab-df-convert');\n",
              "        buttonEl.style.display =\n",
              "          google.colab.kernel.accessAllowed ? 'block' : 'none';\n",
              "\n",
              "        async function convertToInteractive(key) {\n",
              "          const element = document.querySelector('#df-5b602d63-785a-4056-9075-378770f20a51');\n",
              "          const dataTable =\n",
              "            await google.colab.kernel.invokeFunction('convertToInteractive',\n",
              "                                                     [key], {});\n",
              "          if (!dataTable) return;\n",
              "\n",
              "          const docLinkHtml = 'Like what you see? Visit the ' +\n",
              "            '<a target=\"_blank\" href=https://colab.research.google.com/notebooks/data_table.ipynb>data table notebook</a>'\n",
              "            + ' to learn more about interactive tables.';\n",
              "          element.innerHTML = '';\n",
              "          dataTable['output_type'] = 'display_data';\n",
              "          await google.colab.output.renderOutput(dataTable, element);\n",
              "          const docLink = document.createElement('div');\n",
              "          docLink.innerHTML = docLinkHtml;\n",
              "          element.appendChild(docLink);\n",
              "        }\n",
              "      </script>\n",
              "    </div>\n",
              "  </div>\n",
              "  "
            ],
            "text/plain": [
              "   userID  itemID  prediction\n",
              "0       0      50    0.132397\n",
              "1       0      10    0.087152\n",
              "2       0      22    0.174145\n",
              "3       0      60    0.118713\n",
              "4       0       7    0.055059"
            ]
          },
          "execution_count": 92,
          "metadata": {},
          "output_type": "execute_result"
        }
      ],
      "source": [
        "predictions = [[row.userID, row.itemID, model.predict(row.userID, row.itemID)]\n",
        "               for (_, row) in test.iterrows()]\n",
        "\n",
        "predictions = pd.DataFrame(predictions, columns=['userID', 'itemID', 'prediction'])\n",
        "predictions.head()"
      ]
    },
    {
      "cell_type": "code",
      "execution_count": 93,
      "metadata": {
        "colab": {
          "base_uri": "https://localhost:8080/",
          "height": 301
        },
        "id": "X26d-gEP7PsI",
        "outputId": "6cc122bb-f007-4f6d-f119-58c3182e7578"
      },
      "outputs": [
        {
          "data": {
            "text/plain": [
              "<AxesSubplot:xlabel='prediction', ylabel='Density'>"
            ]
          },
          "execution_count": 93,
          "metadata": {},
          "output_type": "execute_result"
        },
        {
          "data": {
            "image/png": "[encoded data removed]",
            "text/plain": [
              "<Figure size 432x288 with 1 Axes>"
            ]
          },
          "metadata": {
            "needs_background": "light"
          },
          "output_type": "display_data"
        }
      ],
      "source": [
        "sns.distplot(predictions['prediction'])"
      ]
    },
    {
      "cell_type": "markdown",
      "metadata": {
        "id": "vV4qPo4QTVWY"
      },
      "source": [
        "### (4) Evaluate\n",
        "평가를 위해 상위 k개 추천에서 이미 평가된 책을 제거합니다. 순위 측정항목을 계산하려면 모든 user, item pair에 대한 예측이 필요합니다. 사용자가 이미 본 항목은 다시 추천하지 않기로 선택했기 때문에 제거합니다."
      ]
    },
    {
      "cell_type": "markdown",
      "metadata": {
        "id": "soFGCcNU-Jg3"
      },
      "source": [
        "rating이 null, 즉 이전에 평가하지 않았던 데이터를 기준으로 추천해 줍니다."
      ]
    },
    {
      "cell_type": "code",
      "execution_count": 94,
      "metadata": {
        "colab": {
          "base_uri": "https://localhost:8080/",
          "height": 424
        },
        "id": "Bxzr9qyHBF0q",
        "outputId": "038de6ee-4a12-4d1a-9f0d-4d432aec6585"
      },
      "outputs": [
        {
          "data": {
            "text/html": [
              "\n",
              "  <div id=\"df-1411a4f5-8b30-4526-a947-f26433d862d7\">\n",
              "    <div class=\"colab-df-container\">\n",
              "      <div>\n",
              "<style scoped>\n",
              "    .dataframe tbody tr th:only-of-type {\n",
              "        vertical-align: middle;\n",
              "    }\n",
              "\n",
              "    .dataframe tbody tr th {\n",
              "        vertical-align: top;\n",
              "    }\n",
              "\n",
              "    .dataframe thead th {\n",
              "        text-align: right;\n",
              "    }\n",
              "</style>\n",
              "<table border=\"1\" class=\"dataframe\">\n",
              "  <thead>\n",
              "    <tr style=\"text-align: right;\">\n",
              "      <th></th>\n",
              "      <th>userID</th>\n",
              "      <th>itemID</th>\n",
              "      <th>rating</th>\n",
              "    </tr>\n",
              "  </thead>\n",
              "  <tbody>\n",
              "    <tr>\n",
              "      <th>50</th>\n",
              "      <td>0</td>\n",
              "      <td>50</td>\n",
              "      <td>10</td>\n",
              "    </tr>\n",
              "    <tr>\n",
              "      <th>10</th>\n",
              "      <td>0</td>\n",
              "      <td>10</td>\n",
              "      <td>10</td>\n",
              "    </tr>\n",
              "    <tr>\n",
              "      <th>22</th>\n",
              "      <td>0</td>\n",
              "      <td>22</td>\n",
              "      <td>1</td>\n",
              "    </tr>\n",
              "    <tr>\n",
              "      <th>60</th>\n",
              "      <td>0</td>\n",
              "      <td>60</td>\n",
              "      <td>9</td>\n",
              "    </tr>\n",
              "    <tr>\n",
              "      <th>7</th>\n",
              "      <td>0</td>\n",
              "      <td>7</td>\n",
              "      <td>8</td>\n",
              "    </tr>\n",
              "    <tr>\n",
              "      <th>...</th>\n",
              "      <td>...</td>\n",
              "      <td>...</td>\n",
              "      <td>...</td>\n",
              "    </tr>\n",
              "    <tr>\n",
              "      <th>33860</th>\n",
              "      <td>245</td>\n",
              "      <td>8477</td>\n",
              "      <td>5</td>\n",
              "    </tr>\n",
              "    <tr>\n",
              "      <th>33904</th>\n",
              "      <td>246</td>\n",
              "      <td>3194</td>\n",
              "      <td>1</td>\n",
              "    </tr>\n",
              "    <tr>\n",
              "      <th>33940</th>\n",
              "      <td>246</td>\n",
              "      <td>15032</td>\n",
              "      <td>8</td>\n",
              "    </tr>\n",
              "    <tr>\n",
              "      <th>33896</th>\n",
              "      <td>246</td>\n",
              "      <td>17094</td>\n",
              "      <td>7</td>\n",
              "    </tr>\n",
              "    <tr>\n",
              "      <th>33937</th>\n",
              "      <td>246</td>\n",
              "      <td>8151</td>\n",
              "      <td>1</td>\n",
              "    </tr>\n",
              "  </tbody>\n",
              "</table>\n",
              "<p>1912 rows × 3 columns</p>\n",
              "</div>\n",
              "      <button class=\"colab-df-convert\" onclick=\"convertToInteractive('df-1411a4f5-8b30-4526-a947-f26433d862d7')\"\n",
              "              title=\"Convert this dataframe to an interactive table.\"\n",
              "              style=\"display:none;\">\n",
              "        \n",
              "  <svg xmlns=\"http://www.w3.org/2000/svg\" height=\"24px\"viewBox=\"0 0 24 24\"\n",
              "       width=\"24px\">\n",
              "    <path d=\"M0 0h24v24H0V0z\" fill=\"none\"/>\n",
              "    <path d=\"M18.56 5.44l.94 2.06.94-2.06 2.06-.94-2.06-.94-.94-2.06-.94 2.06-2.06.94zm-11 1L8.5 8.5l.94-2.06 2.06-.94-2.06-.94L8.5 2.5l-.94 2.06-2.06.94zm10 10l.94 2.06.94-2.06 2.06-.94-2.06-.94-.94-2.06-.94 2.06-2.06.94z\"/><path d=\"M17.41 7.96l-1.37-1.37c-.4-.4-.92-.59-1.43-.59-.52 0-1.04.2-1.43.59L10.3 9.45l-7.72 7.72c-.78.78-.78 2.05 0 2.83L4 21.41c.39.39.9.59 1.41.59.51 0 1.02-.2 1.41-.59l7.78-7.78 2.81-2.81c.8-.78.8-2.07 0-2.86zM5.41 20L4 18.59l7.72-7.72 1.47 1.35L5.41 20z\"/>\n",
              "  </svg>\n",
              "      </button>\n",
              "      \n",
              "  <style>\n",
              "    .colab-df-container {\n",
              "      display:flex;\n",
              "      flex-wrap:wrap;\n",
              "      gap: 12px;\n",
              "    }\n",
              "\n",
              "    .colab-df-convert {\n",
              "      background-color: #E8F0FE;\n",
              "      border: none;\n",
              "      border-radius: 50%;\n",
              "      cursor: pointer;\n",
              "      display: none;\n",
              "      fill: #1967D2;\n",
              "      height: 32px;\n",
              "      padding: 0 0 0 0;\n",
              "      width: 32px;\n",
              "    }\n",
              "\n",
              "    .colab-df-convert:hover {\n",
              "      background-color: #E2EBFA;\n",
              "      box-shadow: 0px 1px 2px rgba(60, 64, 67, 0.3), 0px 1px 3px 1px rgba(60, 64, 67, 0.15);\n",
              "      fill: #174EA6;\n",
              "    }\n",
              "\n",
              "    [theme=dark] .colab-df-convert {\n",
              "      background-color: #3B4455;\n",
              "      fill: #D2E3FC;\n",
              "    }\n",
              "\n",
              "    [theme=dark] .colab-df-convert:hover {\n",
              "      background-color: #434B5C;\n",
              "      box-shadow: 0px 1px 3px 1px rgba(0, 0, 0, 0.15);\n",
              "      filter: drop-shadow(0px 1px 2px rgba(0, 0, 0, 0.3));\n",
              "      fill: #FFFFFF;\n",
              "    }\n",
              "  </style>\n",
              "\n",
              "      <script>\n",
              "        const buttonEl =\n",
              "          document.querySelector('#df-1411a4f5-8b30-4526-a947-f26433d862d7 button.colab-df-convert');\n",
              "        buttonEl.style.display =\n",
              "          google.colab.kernel.accessAllowed ? 'block' : 'none';\n",
              "\n",
              "        async function convertToInteractive(key) {\n",
              "          const element = document.querySelector('#df-1411a4f5-8b30-4526-a947-f26433d862d7');\n",
              "          const dataTable =\n",
              "            await google.colab.kernel.invokeFunction('convertToInteractive',\n",
              "                                                     [key], {});\n",
              "          if (!dataTable) return;\n",
              "\n",
              "          const docLinkHtml = 'Like what you see? Visit the ' +\n",
              "            '<a target=\"_blank\" href=https://colab.research.google.com/notebooks/data_table.ipynb>data table notebook</a>'\n",
              "            + ' to learn more about interactive tables.';\n",
              "          element.innerHTML = '';\n",
              "          dataTable['output_type'] = 'display_data';\n",
              "          await google.colab.output.renderOutput(dataTable, element);\n",
              "          const docLink = document.createElement('div');\n",
              "          docLink.innerHTML = docLinkHtml;\n",
              "          element.appendChild(docLink);\n",
              "        }\n",
              "      </script>\n",
              "    </div>\n",
              "  </div>\n",
              "  "
            ],
            "text/plain": [
              "       userID  itemID  rating\n",
              "50          0      50      10\n",
              "10          0      10      10\n",
              "22          0      22       1\n",
              "60          0      60       9\n",
              "7           0       7       8\n",
              "...       ...     ...     ...\n",
              "33860     245    8477       5\n",
              "33904     246    3194       1\n",
              "33940     246   15032       8\n",
              "33896     246   17094       7\n",
              "33937     246    8151       1\n",
              "\n",
              "[1912 rows x 3 columns]"
            ]
          },
          "execution_count": 94,
          "metadata": {},
          "output_type": "execute_result"
        }
      ],
      "source": [
        "test"
      ]
    },
    {
      "cell_type": "code",
      "execution_count": 95,
      "metadata": {
        "id": "-XwNUbL8AZdg"
      },
      "outputs": [],
      "source": [
        "merged = pd.merge(train, predictions, on=[\"userID\", \"itemID\"], how=\"outer\")\n",
        "test_post = merged[merged['rating'].isnull()].drop('rating', axis=1)"
      ]
    },
    {
      "cell_type": "code",
      "execution_count": 96,
      "metadata": {
        "colab": {
          "base_uri": "https://localhost:8080/",
          "height": 424
        },
        "id": "t9R5-0LBCQMN",
        "outputId": "f37b3f7d-0e1b-4dcb-b2d8-93f4ea151fd4"
      },
      "outputs": [
        {
          "data": {
            "text/html": [
              "\n",
              "  <div id=\"df-d3ca73a1-45a2-4023-ab61-f305f274398e\">\n",
              "    <div class=\"colab-df-container\">\n",
              "      <div>\n",
              "<style scoped>\n",
              "    .dataframe tbody tr th:only-of-type {\n",
              "        vertical-align: middle;\n",
              "    }\n",
              "\n",
              "    .dataframe tbody tr th {\n",
              "        vertical-align: top;\n",
              "    }\n",
              "\n",
              "    .dataframe thead th {\n",
              "        text-align: right;\n",
              "    }\n",
              "</style>\n",
              "<table border=\"1\" class=\"dataframe\">\n",
              "  <thead>\n",
              "    <tr style=\"text-align: right;\">\n",
              "      <th></th>\n",
              "      <th>userID</th>\n",
              "      <th>itemID</th>\n",
              "      <th>rating</th>\n",
              "    </tr>\n",
              "  </thead>\n",
              "  <tbody>\n",
              "    <tr>\n",
              "      <th>50</th>\n",
              "      <td>0</td>\n",
              "      <td>50</td>\n",
              "      <td>10</td>\n",
              "    </tr>\n",
              "    <tr>\n",
              "      <th>10</th>\n",
              "      <td>0</td>\n",
              "      <td>10</td>\n",
              "      <td>10</td>\n",
              "    </tr>\n",
              "    <tr>\n",
              "      <th>22</th>\n",
              "      <td>0</td>\n",
              "      <td>22</td>\n",
              "      <td>1</td>\n",
              "    </tr>\n",
              "    <tr>\n",
              "      <th>60</th>\n",
              "      <td>0</td>\n",
              "      <td>60</td>\n",
              "      <td>9</td>\n",
              "    </tr>\n",
              "    <tr>\n",
              "      <th>7</th>\n",
              "      <td>0</td>\n",
              "      <td>7</td>\n",
              "      <td>8</td>\n",
              "    </tr>\n",
              "    <tr>\n",
              "      <th>...</th>\n",
              "      <td>...</td>\n",
              "      <td>...</td>\n",
              "      <td>...</td>\n",
              "    </tr>\n",
              "    <tr>\n",
              "      <th>33860</th>\n",
              "      <td>245</td>\n",
              "      <td>8477</td>\n",
              "      <td>5</td>\n",
              "    </tr>\n",
              "    <tr>\n",
              "      <th>33904</th>\n",
              "      <td>246</td>\n",
              "      <td>3194</td>\n",
              "      <td>1</td>\n",
              "    </tr>\n",
              "    <tr>\n",
              "      <th>33940</th>\n",
              "      <td>246</td>\n",
              "      <td>15032</td>\n",
              "      <td>8</td>\n",
              "    </tr>\n",
              "    <tr>\n",
              "      <th>33896</th>\n",
              "      <td>246</td>\n",
              "      <td>17094</td>\n",
              "      <td>7</td>\n",
              "    </tr>\n",
              "    <tr>\n",
              "      <th>33937</th>\n",
              "      <td>246</td>\n",
              "      <td>8151</td>\n",
              "      <td>1</td>\n",
              "    </tr>\n",
              "  </tbody>\n",
              "</table>\n",
              "<p>1912 rows × 3 columns</p>\n",
              "</div>\n",
              "      <button class=\"colab-df-convert\" onclick=\"convertToInteractive('df-d3ca73a1-45a2-4023-ab61-f305f274398e')\"\n",
              "              title=\"Convert this dataframe to an interactive table.\"\n",
              "              style=\"display:none;\">\n",
              "        \n",
              "  <svg xmlns=\"http://www.w3.org/2000/svg\" height=\"24px\"viewBox=\"0 0 24 24\"\n",
              "       width=\"24px\">\n",
              "    <path d=\"M0 0h24v24H0V0z\" fill=\"none\"/>\n",
              "    <path d=\"M18.56 5.44l.94 2.06.94-2.06 2.06-.94-2.06-.94-.94-2.06-.94 2.06-2.06.94zm-11 1L8.5 8.5l.94-2.06 2.06-.94-2.06-.94L8.5 2.5l-.94 2.06-2.06.94zm10 10l.94 2.06.94-2.06 2.06-.94-2.06-.94-.94-2.06-.94 2.06-2.06.94z\"/><path d=\"M17.41 7.96l-1.37-1.37c-.4-.4-.92-.59-1.43-.59-.52 0-1.04.2-1.43.59L10.3 9.45l-7.72 7.72c-.78.78-.78 2.05 0 2.83L4 21.41c.39.39.9.59 1.41.59.51 0 1.02-.2 1.41-.59l7.78-7.78 2.81-2.81c.8-.78.8-2.07 0-2.86zM5.41 20L4 18.59l7.72-7.72 1.47 1.35L5.41 20z\"/>\n",
              "  </svg>\n",
              "      </button>\n",
              "      \n",
              "  <style>\n",
              "    .colab-df-container {\n",
              "      display:flex;\n",
              "      flex-wrap:wrap;\n",
              "      gap: 12px;\n",
              "    }\n",
              "\n",
              "    .colab-df-convert {\n",
              "      background-color: #E8F0FE;\n",
              "      border: none;\n",
              "      border-radius: 50%;\n",
              "      cursor: pointer;\n",
              "      display: none;\n",
              "      fill: #1967D2;\n",
              "      height: 32px;\n",
              "      padding: 0 0 0 0;\n",
              "      width: 32px;\n",
              "    }\n",
              "\n",
              "    .colab-df-convert:hover {\n",
              "      background-color: #E2EBFA;\n",
              "      box-shadow: 0px 1px 2px rgba(60, 64, 67, 0.3), 0px 1px 3px 1px rgba(60, 64, 67, 0.15);\n",
              "      fill: #174EA6;\n",
              "    }\n",
              "\n",
              "    [theme=dark] .colab-df-convert {\n",
              "      background-color: #3B4455;\n",
              "      fill: #D2E3FC;\n",
              "    }\n",
              "\n",
              "    [theme=dark] .colab-df-convert:hover {\n",
              "      background-color: #434B5C;\n",
              "      box-shadow: 0px 1px 3px 1px rgba(0, 0, 0, 0.15);\n",
              "      filter: drop-shadow(0px 1px 2px rgba(0, 0, 0, 0.3));\n",
              "      fill: #FFFFFF;\n",
              "    }\n",
              "  </style>\n",
              "\n",
              "      <script>\n",
              "        const buttonEl =\n",
              "          document.querySelector('#df-d3ca73a1-45a2-4023-ab61-f305f274398e button.colab-df-convert');\n",
              "        buttonEl.style.display =\n",
              "          google.colab.kernel.accessAllowed ? 'block' : 'none';\n",
              "\n",
              "        async function convertToInteractive(key) {\n",
              "          const element = document.querySelector('#df-d3ca73a1-45a2-4023-ab61-f305f274398e');\n",
              "          const dataTable =\n",
              "            await google.colab.kernel.invokeFunction('convertToInteractive',\n",
              "                                                     [key], {});\n",
              "          if (!dataTable) return;\n",
              "\n",
              "          const docLinkHtml = 'Like what you see? Visit the ' +\n",
              "            '<a target=\"_blank\" href=https://colab.research.google.com/notebooks/data_table.ipynb>data table notebook</a>'\n",
              "            + ' to learn more about interactive tables.';\n",
              "          element.innerHTML = '';\n",
              "          dataTable['output_type'] = 'display_data';\n",
              "          await google.colab.output.renderOutput(dataTable, element);\n",
              "          const docLink = document.createElement('div');\n",
              "          docLink.innerHTML = docLinkHtml;\n",
              "          element.appendChild(docLink);\n",
              "        }\n",
              "      </script>\n",
              "    </div>\n",
              "  </div>\n",
              "  "
            ],
            "text/plain": [
              "       userID  itemID  rating\n",
              "50          0      50      10\n",
              "10          0      10      10\n",
              "22          0      22       1\n",
              "60          0      60       9\n",
              "7           0       7       8\n",
              "...       ...     ...     ...\n",
              "33860     245    8477       5\n",
              "33904     246    3194       1\n",
              "33940     246   15032       8\n",
              "33896     246   17094       7\n",
              "33937     246    8151       1\n",
              "\n",
              "[1912 rows x 3 columns]"
            ]
          },
          "execution_count": 96,
          "metadata": {},
          "output_type": "execute_result"
        }
      ],
      "source": [
        "test"
      ]
    },
    {
      "cell_type": "code",
      "execution_count": 97,
      "metadata": {
        "colab": {
          "base_uri": "https://localhost:8080/"
        },
        "id": "KW-fdh0U1-jt",
        "outputId": "721a16ca-9be8-42e6-91df-290bf5cbc1f0"
      },
      "outputs": [
        {
          "name": "stdout",
          "output_type": "stream",
          "text": [
            "MAP:\t0.941629\n",
            "NDCG:\t1.000000\n",
            "Precision@K:\t0.527778\n",
            "Recall@K:\t0.941629\n"
          ]
        }
      ],
      "source": [
        "from recommenders.evaluation.python_evaluation import (\n",
        "    map_at_k,\n",
        "    ndcg_at_k,\n",
        "    precision_at_k,\n",
        "    recall_at_k,\n",
        ")\n",
        "\n",
        "TOP_K = 12\n",
        "\n",
        "eval_map = map_at_k(test, predictions, col_rating='rating', col_prediction='prediction', k=TOP_K)\n",
        "eval_ndcg = ndcg_at_k(test, predictions, col_rating='rating', col_prediction='prediction', k=TOP_K)\n",
        "eval_precision = precision_at_k(test, predictions, col_rating='rating', col_prediction='prediction', k=TOP_K)\n",
        "eval_recall = recall_at_k(test, predictions, col_rating='rating', col_prediction='prediction', k=TOP_K)\n",
        "\n",
        "print(\"MAP:\\t%f\" % eval_map,\n",
        "      \"NDCG:\\t%f\" % eval_ndcg,\n",
        "      \"Precision@K:\\t%f\" % eval_precision,\n",
        "      \"Recall@K:\\t%f\" % eval_recall, sep='\\n')"
      ]
    },
    {
      "cell_type": "markdown",
      "metadata": {
        "id": "d4yR6SGhAEpz"
      },
      "source": [
        "cold starter를 제거하였기 때문에 점수가 높은 모습을 살펴 볼 수 있습니다."
      ]
    },
    {
      "cell_type": "markdown",
      "metadata": {
        "id": "8csoas-QHaJd"
      },
      "source": [
        "모델을 저장하고, 필요 시 다시 불러와서 사용할 수도 있습니다."
      ]
    },
    {
      "cell_type": "code",
      "execution_count": 98,
      "metadata": {
        "id": "nFg96FR2cg4p"
      },
      "outputs": [],
      "source": [
        "model.save(dir_name=\".pretrain/NCF\")"
      ]
    },
    {
      "cell_type": "markdown",
      "metadata": {
        "id": "-h2zqz1TF5nz"
      },
      "source": [
        "---"
      ]
    },
    {
      "cell_type": "markdown",
      "metadata": {
        "id": "NJUYJoxhDuxU"
      },
      "source": [
        "- Reference\n",
        "  - 공식 문서\n",
        "    - [surprise 공식문서](https://surprise.readthedocs.io/en/stable/index.html)\n",
        "    - [surprise github repository](https://github.com/NicolasHug/Surprise)\n",
        "    - [implicit 공식문서](https://implicit.readthedocs.io/en/latest/)\n",
        "    - [implicit github repository](https://github.com/benfred/implicit)\n",
        "    - [lightfm 공식문서](https://making.lyst.com/lightfm/docs/index.html)\n",
        "    - [lightfm github repository](https://github.com/lyst/lightfm)\n",
        "    - [Recommenders 공식문서](https://microsoft-recommenders.readthedocs.io/en/latest/index.html)\n",
        "    - [Recommenders github](https://github.com/microsoft/recommenders)\n",
        "\n",
        "  - 참고자료\n",
        "    - Himanshu Kriplani,Alternating Least Square for Implicit Dataset with code, 2019/6/25, https://towardsdatascience.com/alternating-least-square-for-implicit-dataset-with-code-8e7999277f4b\n",
        "    - Youwon Jang, LightFM 설명, 2020/06/01, https://greeksharifa.github.io/machine_learning/2020/06/01/LightFM/\n",
        "    - YounghunJo, [NLP] Surprise library를 활용한 추천시스템 구현하기\n",
        ", 2020/8/28, https://techblog-history-younghunjo1.tistory.com/117\n",
        "    - RandomWalker, 5.Surprise 라이브러리를 이용한 추천시스템 개발, 2021/4/10, https://big-dream-world.tistory.com/70\n",
        "    - Buomsoo Kim, Implementing Matrix Factorization models in Python - Collaborative filtering with Python 14\n",
        ", 2020/10/22, https://buomsoo-kim.github.io/recommender%20systems/2020/10/22/Recommender-systems-collab-filtering-14.md/\n",
        "\n",
        "    - susanli2016, Machine-Learning-with-Python, 2018/12/26, https://github.com/susanli2016/Machine-Learning-with-Python/blob/master/Building%20Recommender%20System%20with%20Surprise.ipynb"
      ]
    },
    {
      "cell_type": "markdown",
      "metadata": {
        "id": "61ppht-fGNgb"
      },
      "source": [
        "---"
      ]
    },
    {
      "cell_type": "markdown",
      "metadata": {
        "id": "BPi10TfFGK-s"
      },
      "source": [
        "<font color='red'><b>**WARNING**</b></font> : **본 교육 콘텐츠의 지식재산권은 재단법인 네이버커넥트에 귀속됩니다. 본 콘텐츠를 어떠한 경로로든 외부로 유출 및 수정하는 행위를 엄격히 금합니다.** 다만, 비영리적 교육 및 연구활동에 한정되어 사용할 수 있으나 재단의 허락을 받아야 합니다. 이를 위반하는 경우, 관련 법률에 따라 책임을 질 수 있습니다.\n",
        "\n"
      ]
    }
  ],
  "metadata": {
    "accelerator": "GPU",
    "colab": {
      "provenance": []
    },
    "gpuClass": "standard",
    "kernelspec": {
      "display_name": "recsys",
      "language": "python",
      "name": "python3"
    },
    "language_info": {
      "codemirror_mode": {
        "name": "ipython",
        "version": 3
      },
      "file_extension": ".py",
      "mimetype": "text/x-python",
      "name": "python",
      "nbconvert_exporter": "python",
      "pygments_lexer": "ipython3",
      "version": "3.7.13 (default, Mar 28 2022, 07:24:34) \n[Clang 12.0.0 ]"
    },
    "vscode": {
      "interpreter": {
        "hash": "c44531e5449a61cda637e1e1a842ccfc8a4e809cb5c56db328bb474fce4d77df"
      }
    }
  },
  "nbformat": 4,
  "nbformat_minor": 0
}
