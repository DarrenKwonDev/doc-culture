{
  "cells": [
    {
      "cell_type": "markdown",
      "metadata": {
        "id": "lnaQ3iGcx00i"
      },
      "source": [
        "## [0] 실습 소개\n",
        "\n",
        "이번 실습에서 해볼 내용\n",
        "- Latent Factor Model\n",
        "  - MF (Matrix Factorization)\n",
        "  - ALS (Alternating Least Squares)\n",
        "- Supervised Learning\n",
        "  - Naive Bayes\n",
        "  - Gradient Boosting Decision Tree\n",
        "    - XGBoost\n",
        "    - LightGBM\n",
        "    - CatBoost"
      ]
    },
    {
      "cell_type": "markdown",
      "metadata": {
        "id": "r34-1yHkRgn5"
      },
      "source": [
        "RecSys 기초 대회 강의에서는 Book Crossing 데이터를 사용하여, 모든 실습 및 미션, 대회를 진행합니다. [Kaggle Book-Crossing](https://www.kaggle.com/datasets/ruchi798/bookcrossing-dataset) 을 출처로 하며, 데이터는 재구성되어 제공되었습니다. 해당 데이터는 CC0: Public Domain 라이센스임을 밝힙니다."
      ]
    },
    {
      "cell_type": "code",
      "execution_count": 2,
      "metadata": {
        "colab": {
          "base_uri": "https://localhost:8080/"
        },
        "id": "h_ST8WA1H02L",
        "outputId": "437a4801-8e97-4ec3-be58-b9ca23a0c427"
      },
      "outputs": [],
      "source": [
        "import pandas as pd\n",
        "import numpy as np\n",
        "from scipy.sparse import csr_matrix, linalg\n",
        "from xgboost import XGBRegressor, XGBClassifier\n",
        "from lightgbm import LGBMRegressor, LGBMClassifier\n",
        "\n",
        "# !pip install catboost\n",
        "from catboost import CatBoostRegressor, CatBoostClassifier, Pool\n",
        "from sklearn.metrics import accuracy_score\n",
        "from sklearn.preprocessing import LabelEncoder\n",
        "\n",
        "import re\n",
        "import warnings\n",
        "\n",
        "warnings.filterwarnings(action='ignore')"
      ]
    },
    {
      "cell_type": "markdown",
      "metadata": {
        "id": "k3bji6FkKNhw"
      },
      "source": [
        "# [1] 데이터 불러오기\n",
        "book data를 이용합니다. 3강 실습용으로 샘플링된 데이터를 이용하며, 아래 코드를 통해 불러올 수 있습니다."
      ]
    },
    {
      "cell_type": "code",
      "execution_count": null,
      "metadata": {
        "colab": {
          "base_uri": "https://localhost:8080/"
        },
        "id": "_cTkl0vmqan_",
        "outputId": "71689ff1-7d92-42d7-8845-c5501262dfde"
      },
      "outputs": [],
      "source": [
        "!wget --load-cookies ~/cookies.txt \"https://docs.google.com/uc?export=download&confirm=$(wget --quiet --save-cookies ~/cookies.txt --keep-session-cookies --no-check-certificate 'https://docs.google.com/uc?export=download&id=1jdLFf4JyfWo1406LJ2f8no67YPf15X3f' -O- | sed -rn 's/.*confirm=([0-9A-Za-z_]+).*/\\1\\n/p')&id=1jdLFf4JyfWo1406LJ2f8no67YPf15X3f\" -O users.csv && rm -rf ~/cookies.txt\n",
        "!wget --load-cookies ~/cookies.txt \"https://docs.google.com/uc?export=download&confirm=$(wget --quiet --save-cookies ~/cookies.txt --keep-session-cookies --no-check-certificate 'https://docs.google.com/uc?export=download&id=1-EZ2fFCA5RNoqlyM69NeN-L4Y6qTLnQN' -O- | sed -rn 's/.*confirm=([0-9A-Za-z_]+).*/\\1\\n/p')&id=1-EZ2fFCA5RNoqlyM69NeN-L4Y6qTLnQN\" -O books.csv && rm -rf ~/cookies.txt\n",
        "!wget --load-cookies ~/cookies.txt \"https://docs.google.com/uc?export=download&confirm=$(wget --quiet --save-cookies ~/cookies.txt --keep-session-cookies --no-check-certificate 'https://docs.google.com/uc?export=download&id=1-I3YKtaJb5IPvOOFqkonQj5ikJQHfoUC' -O- | sed -rn 's/.*confirm=([0-9A-Za-z_]+).*/\\1\\n/p')&id=1-I3YKtaJb5IPvOOFqkonQj5ikJQHfoUC\" -O ratings.csv && rm -rf ~/cookies.txt"
      ]
    },
    {
      "cell_type": "code",
      "execution_count": 4,
      "metadata": {
        "id": "Q_mE60XW4hGX"
      },
      "outputs": [],
      "source": [
        "books = pd.read_csv('./books.csv')\n",
        "users = pd.read_csv('./users.csv')\n",
        "ratings = pd.read_csv('./ratings.csv')"
      ]
    },
    {
      "cell_type": "markdown",
      "metadata": {
        "id": "3xxx_BJRWtMW"
      },
      "source": [
        "해당 데이터셋에서는 isbn을 item_id로 볼 수 있으며, user_id가 users_id로 볼 수 있습니다."
      ]
    },
    {
      "cell_type": "code",
      "execution_count": 5,
      "metadata": {
        "id": "G7BKL6GMYxpK"
      },
      "outputs": [],
      "source": [
        "seed=42"
      ]
    },
    {
      "cell_type": "markdown",
      "metadata": {
        "id": "Vra1IdvyW6lW"
      },
      "source": [
        "Latent Factor 모델에서는 ratings 데이터[user, item, rating]를 그대로 사용하고\n",
        "\n",
        "Supervised Learning을 위해 books와 users 정보가 추가된 데이터를 만들어줍니다"
      ]
    },
    {
      "cell_type": "markdown",
      "metadata": {
        "id": "PaBNc7DkYfkZ"
      },
      "source": [
        "- users 데이터의 country, state, city 정보를 원핫인코딩 합니다"
      ]
    },
    {
      "cell_type": "code",
      "execution_count": 6,
      "metadata": {},
      "outputs": [
        {
          "data": {
            "text/html": [
              "<div>\n",
              "<style scoped>\n",
              "    .dataframe tbody tr th:only-of-type {\n",
              "        vertical-align: middle;\n",
              "    }\n",
              "\n",
              "    .dataframe tbody tr th {\n",
              "        vertical-align: top;\n",
              "    }\n",
              "\n",
              "    .dataframe thead th {\n",
              "        text-align: right;\n",
              "    }\n",
              "</style>\n",
              "<table border=\"1\" class=\"dataframe\">\n",
              "  <thead>\n",
              "    <tr style=\"text-align: right;\">\n",
              "      <th></th>\n",
              "      <th>user_id</th>\n",
              "      <th>age</th>\n",
              "      <th>location_country</th>\n",
              "      <th>location_state</th>\n",
              "      <th>location_city</th>\n",
              "    </tr>\n",
              "  </thead>\n",
              "  <tbody>\n",
              "    <tr>\n",
              "      <th>0</th>\n",
              "      <td>197659</td>\n",
              "      <td>49</td>\n",
              "      <td>usa</td>\n",
              "      <td>pennsylvania</td>\n",
              "      <td>indiana</td>\n",
              "    </tr>\n",
              "    <tr>\n",
              "      <th>1</th>\n",
              "      <td>48911</td>\n",
              "      <td>57</td>\n",
              "      <td>usa</td>\n",
              "      <td>louisiana</td>\n",
              "      <td>neworleans</td>\n",
              "    </tr>\n",
              "    <tr>\n",
              "      <th>2</th>\n",
              "      <td>70666</td>\n",
              "      <td>18</td>\n",
              "      <td>usa</td>\n",
              "      <td>rhodeisland</td>\n",
              "      <td>warwick</td>\n",
              "    </tr>\n",
              "    <tr>\n",
              "      <th>3</th>\n",
              "      <td>75819</td>\n",
              "      <td>34</td>\n",
              "      <td>usa</td>\n",
              "      <td>newyork</td>\n",
              "      <td>westfalls</td>\n",
              "    </tr>\n",
              "    <tr>\n",
              "      <th>4</th>\n",
              "      <td>78973</td>\n",
              "      <td>29</td>\n",
              "      <td>portugal</td>\n",
              "      <td>lisboa</td>\n",
              "      <td>amadora</td>\n",
              "    </tr>\n",
              "  </tbody>\n",
              "</table>\n",
              "</div>"
            ],
            "text/plain": [
              "   user_id  age location_country location_state location_city\n",
              "0   197659   49              usa   pennsylvania       indiana\n",
              "1    48911   57              usa      louisiana    neworleans\n",
              "2    70666   18              usa    rhodeisland       warwick\n",
              "3    75819   34              usa        newyork     westfalls\n",
              "4    78973   29         portugal         lisboa       amadora"
            ]
          },
          "execution_count": 6,
          "metadata": {},
          "output_type": "execute_result"
        }
      ],
      "source": [
        "users.head()"
      ]
    },
    {
      "cell_type": "code",
      "execution_count": 23,
      "metadata": {
        "colab": {
          "base_uri": "https://localhost:8080/",
          "height": 300
        },
        "id": "CfMqSxI8DWZt",
        "outputId": "56e4c873-ea89-4d7b-81d6-691f0267fd1e"
      },
      "outputs": [
        {
          "data": {
            "text/html": [
              "<div>\n",
              "<style scoped>\n",
              "    .dataframe tbody tr th:only-of-type {\n",
              "        vertical-align: middle;\n",
              "    }\n",
              "\n",
              "    .dataframe tbody tr th {\n",
              "        vertical-align: top;\n",
              "    }\n",
              "\n",
              "    .dataframe thead th {\n",
              "        text-align: right;\n",
              "    }\n",
              "</style>\n",
              "<table border=\"1\" class=\"dataframe\">\n",
              "  <thead>\n",
              "    <tr style=\"text-align: right;\">\n",
              "      <th></th>\n",
              "      <th>user_id</th>\n",
              "      <th>age</th>\n",
              "      <th>location_country_argentina</th>\n",
              "      <th>location_country_australia</th>\n",
              "      <th>location_country_austria</th>\n",
              "      <th>location_country_canada</th>\n",
              "      <th>location_country_england</th>\n",
              "      <th>location_country_faraway</th>\n",
              "      <th>location_country_france</th>\n",
              "      <th>location_country_germany</th>\n",
              "      <th>...</th>\n",
              "      <th>location_city_wangen</th>\n",
              "      <th>location_city_warwick</th>\n",
              "      <th>location_city_webster</th>\n",
              "      <th>location_city_westchester</th>\n",
              "      <th>location_city_westfalls</th>\n",
              "      <th>location_city_westpalmbeach</th>\n",
              "      <th>location_city_whiteplains</th>\n",
              "      <th>location_city_wichita</th>\n",
              "      <th>location_city_yulee</th>\n",
              "      <th>location_city_zaragoza</th>\n",
              "    </tr>\n",
              "  </thead>\n",
              "  <tbody>\n",
              "    <tr>\n",
              "      <th>107</th>\n",
              "      <td>28177</td>\n",
              "      <td>26</td>\n",
              "      <td>0</td>\n",
              "      <td>0</td>\n",
              "      <td>0</td>\n",
              "      <td>0</td>\n",
              "      <td>0</td>\n",
              "      <td>0</td>\n",
              "      <td>0</td>\n",
              "      <td>0</td>\n",
              "      <td>...</td>\n",
              "      <td>0</td>\n",
              "      <td>0</td>\n",
              "      <td>0</td>\n",
              "      <td>0</td>\n",
              "      <td>0</td>\n",
              "      <td>0</td>\n",
              "      <td>0</td>\n",
              "      <td>0</td>\n",
              "      <td>0</td>\n",
              "      <td>0</td>\n",
              "    </tr>\n",
              "    <tr>\n",
              "      <th>224</th>\n",
              "      <td>35921</td>\n",
              "      <td>8</td>\n",
              "      <td>0</td>\n",
              "      <td>0</td>\n",
              "      <td>0</td>\n",
              "      <td>0</td>\n",
              "      <td>0</td>\n",
              "      <td>0</td>\n",
              "      <td>0</td>\n",
              "      <td>0</td>\n",
              "      <td>...</td>\n",
              "      <td>0</td>\n",
              "      <td>0</td>\n",
              "      <td>0</td>\n",
              "      <td>0</td>\n",
              "      <td>0</td>\n",
              "      <td>0</td>\n",
              "      <td>0</td>\n",
              "      <td>0</td>\n",
              "      <td>0</td>\n",
              "      <td>0</td>\n",
              "    </tr>\n",
              "    <tr>\n",
              "      <th>40</th>\n",
              "      <td>220688</td>\n",
              "      <td>27</td>\n",
              "      <td>0</td>\n",
              "      <td>0</td>\n",
              "      <td>0</td>\n",
              "      <td>0</td>\n",
              "      <td>0</td>\n",
              "      <td>0</td>\n",
              "      <td>0</td>\n",
              "      <td>0</td>\n",
              "      <td>...</td>\n",
              "      <td>0</td>\n",
              "      <td>0</td>\n",
              "      <td>0</td>\n",
              "      <td>0</td>\n",
              "      <td>0</td>\n",
              "      <td>0</td>\n",
              "      <td>0</td>\n",
              "      <td>0</td>\n",
              "      <td>0</td>\n",
              "      <td>0</td>\n",
              "    </tr>\n",
              "    <tr>\n",
              "      <th>198</th>\n",
              "      <td>126814</td>\n",
              "      <td>32</td>\n",
              "      <td>0</td>\n",
              "      <td>0</td>\n",
              "      <td>0</td>\n",
              "      <td>0</td>\n",
              "      <td>0</td>\n",
              "      <td>0</td>\n",
              "      <td>0</td>\n",
              "      <td>0</td>\n",
              "      <td>...</td>\n",
              "      <td>0</td>\n",
              "      <td>0</td>\n",
              "      <td>0</td>\n",
              "      <td>1</td>\n",
              "      <td>0</td>\n",
              "      <td>0</td>\n",
              "      <td>0</td>\n",
              "      <td>0</td>\n",
              "      <td>0</td>\n",
              "      <td>0</td>\n",
              "    </tr>\n",
              "    <tr>\n",
              "      <th>121</th>\n",
              "      <td>83671</td>\n",
              "      <td>52</td>\n",
              "      <td>0</td>\n",
              "      <td>0</td>\n",
              "      <td>0</td>\n",
              "      <td>0</td>\n",
              "      <td>0</td>\n",
              "      <td>0</td>\n",
              "      <td>0</td>\n",
              "      <td>0</td>\n",
              "      <td>...</td>\n",
              "      <td>0</td>\n",
              "      <td>0</td>\n",
              "      <td>0</td>\n",
              "      <td>0</td>\n",
              "      <td>0</td>\n",
              "      <td>0</td>\n",
              "      <td>0</td>\n",
              "      <td>0</td>\n",
              "      <td>0</td>\n",
              "      <td>0</td>\n",
              "    </tr>\n",
              "  </tbody>\n",
              "</table>\n",
              "<p>5 rows × 318 columns</p>\n",
              "</div>"
            ],
            "text/plain": [
              "     user_id  age  location_country_argentina  location_country_australia  \\\n",
              "107    28177   26                           0                           0   \n",
              "224    35921    8                           0                           0   \n",
              "40    220688   27                           0                           0   \n",
              "198   126814   32                           0                           0   \n",
              "121    83671   52                           0                           0   \n",
              "\n",
              "     location_country_austria  location_country_canada  \\\n",
              "107                         0                        0   \n",
              "224                         0                        0   \n",
              "40                          0                        0   \n",
              "198                         0                        0   \n",
              "121                         0                        0   \n",
              "\n",
              "     location_country_england  location_country_faraway  \\\n",
              "107                         0                         0   \n",
              "224                         0                         0   \n",
              "40                          0                         0   \n",
              "198                         0                         0   \n",
              "121                         0                         0   \n",
              "\n",
              "     location_country_france  location_country_germany  ...  \\\n",
              "107                        0                         0  ...   \n",
              "224                        0                         0  ...   \n",
              "40                         0                         0  ...   \n",
              "198                        0                         0  ...   \n",
              "121                        0                         0  ...   \n",
              "\n",
              "     location_city_wangen  location_city_warwick  location_city_webster  \\\n",
              "107                     0                      0                      0   \n",
              "224                     0                      0                      0   \n",
              "40                      0                      0                      0   \n",
              "198                     0                      0                      0   \n",
              "121                     0                      0                      0   \n",
              "\n",
              "     location_city_westchester  location_city_westfalls  \\\n",
              "107                          0                        0   \n",
              "224                          0                        0   \n",
              "40                           0                        0   \n",
              "198                          1                        0   \n",
              "121                          0                        0   \n",
              "\n",
              "     location_city_westpalmbeach  location_city_whiteplains  \\\n",
              "107                            0                          0   \n",
              "224                            0                          0   \n",
              "40                             0                          0   \n",
              "198                            0                          0   \n",
              "121                            0                          0   \n",
              "\n",
              "     location_city_wichita  location_city_yulee  location_city_zaragoza  \n",
              "107                      0                    0                       0  \n",
              "224                      0                    0                       0  \n",
              "40                       0                    0                       0  \n",
              "198                      0                    0                       0  \n",
              "121                      0                    0                       0  \n",
              "\n",
              "[5 rows x 318 columns]"
            ]
          },
          "execution_count": 23,
          "metadata": {},
          "output_type": "execute_result"
        }
      ],
      "source": [
        "# get_dummies\n",
        "users_df = pd.get_dummies(\n",
        "    users,\n",
        "    columns=['location_country', 'location_state', 'location_city']\n",
        ")\n",
        "\n",
        "users_df.shape # users.shape (247, 5) -> (247, 318)\n",
        "# 왜 이렇게 되었느냐? \n",
        "# print(users['location_country'].nunique()) =  21\n",
        "# print(users['location_state'].nunique()) = 83\n",
        "# print(users['location_city'].nunique()) = 212\n",
        "# 모두 다 원 핫 벡터 처리 + 기존에 있던 기준 col 3개 제외 = 21 + 83 + 212 - 3 = 318\n",
        "\n",
        "# one-hot encoding된 거 하나만 확인해볼까.\n",
        "ser = users_df.iloc[0, :]\n",
        "ser[ser != 0]\n",
        "# user_id                        197659\n",
        "# age                                49\n",
        "# location_country_usa                1\n",
        "# location_state_pennsylvania         1\n",
        "# location_city_indiana               1\n",
        "\n",
        "users_df.sample(5)"
      ]
    },
    {
      "cell_type": "markdown",
      "metadata": {
        "id": "xDdVza61Yy2K"
      },
      "source": [
        "- books 데이터의 category, publisher, language를 원핫인코딩 합니다"
      ]
    },
    {
      "cell_type": "code",
      "execution_count": 39,
      "metadata": {},
      "outputs": [
        {
          "name": "stdout",
          "output_type": "stream",
          "text": [
            "Index(['isbn', 'book_title', 'book_author', 'publisher', 'language',\n",
            "       'category'],\n",
            "      dtype='object')\n"
          ]
        },
        {
          "data": {
            "text/plain": [
              "['CD-ROMs']                                   1\n",
              "['Motion picture producers and directors']    1\n",
              "['Parapsychology']                            1\n",
              "['Drawing, French']                           1\n",
              "['Runes']                                     1\n",
              "['Motion picture plays']                      1\n",
              "['Creative thinking']                         1\n",
              "['Horse-racing']                              1\n",
              "['Watercolor painting']                       1\n",
              "[\"Children's literature\"]                     1\n",
              "Name: category, dtype: int64"
            ]
          },
          "execution_count": 39,
          "metadata": {},
          "output_type": "execute_result"
        }
      ],
      "source": [
        "print(books.columns)\n",
        "\n",
        "cat_ser = books['category']\n",
        "\n",
        "# 하나 밖에 없는 카테고리들.\n",
        "cat_ser.value_counts()[cat_ser.value_counts() <= 1][:10]"
      ]
    },
    {
      "cell_type": "code",
      "execution_count": 40,
      "metadata": {
        "colab": {
          "base_uri": "https://localhost:8080/",
          "height": 300
        },
        "id": "Er6AwGYbSe1i",
        "outputId": "6a649c8d-f961-4554-eafc-7bb6e9949ed5"
      },
      "outputs": [
        {
          "data": {
            "text/html": [
              "<div>\n",
              "<style scoped>\n",
              "    .dataframe tbody tr th:only-of-type {\n",
              "        vertical-align: middle;\n",
              "    }\n",
              "\n",
              "    .dataframe tbody tr th {\n",
              "        vertical-align: top;\n",
              "    }\n",
              "\n",
              "    .dataframe thead th {\n",
              "        text-align: right;\n",
              "    }\n",
              "</style>\n",
              "<table border=\"1\" class=\"dataframe\">\n",
              "  <thead>\n",
              "    <tr style=\"text-align: right;\">\n",
              "      <th></th>\n",
              "      <th>isbn</th>\n",
              "      <th>category_11030fictioninEnglish1900194560030texts</th>\n",
              "      <th>category_9</th>\n",
              "      <th>category_AGrowandLearnLibrary</th>\n",
              "      <th>category_AIDSDisease</th>\n",
              "      <th>category_ANIMAUXSAUVAGES</th>\n",
              "      <th>category_Abortion</th>\n",
              "      <th>category_Abusedchildren</th>\n",
              "      <th>category_Abusedwives</th>\n",
              "      <th>category_Abusedwomen</th>\n",
              "      <th>...</th>\n",
              "      <th>language_da</th>\n",
              "      <th>language_de</th>\n",
              "      <th>language_en</th>\n",
              "      <th>language_es</th>\n",
              "      <th>language_fr</th>\n",
              "      <th>language_it</th>\n",
              "      <th>language_la</th>\n",
              "      <th>language_nl</th>\n",
              "      <th>language_pt</th>\n",
              "      <th>language_ru</th>\n",
              "    </tr>\n",
              "  </thead>\n",
              "  <tbody>\n",
              "    <tr>\n",
              "      <th>0</th>\n",
              "      <td>0374157065</td>\n",
              "      <td>0</td>\n",
              "      <td>0</td>\n",
              "      <td>0</td>\n",
              "      <td>0</td>\n",
              "      <td>0</td>\n",
              "      <td>0</td>\n",
              "      <td>0</td>\n",
              "      <td>0</td>\n",
              "      <td>0</td>\n",
              "      <td>...</td>\n",
              "      <td>0</td>\n",
              "      <td>0</td>\n",
              "      <td>1</td>\n",
              "      <td>0</td>\n",
              "      <td>0</td>\n",
              "      <td>0</td>\n",
              "      <td>0</td>\n",
              "      <td>0</td>\n",
              "      <td>0</td>\n",
              "      <td>0</td>\n",
              "    </tr>\n",
              "    <tr>\n",
              "      <th>1</th>\n",
              "      <td>0440234743</td>\n",
              "      <td>0</td>\n",
              "      <td>0</td>\n",
              "      <td>0</td>\n",
              "      <td>0</td>\n",
              "      <td>0</td>\n",
              "      <td>0</td>\n",
              "      <td>0</td>\n",
              "      <td>0</td>\n",
              "      <td>0</td>\n",
              "      <td>...</td>\n",
              "      <td>0</td>\n",
              "      <td>0</td>\n",
              "      <td>1</td>\n",
              "      <td>0</td>\n",
              "      <td>0</td>\n",
              "      <td>0</td>\n",
              "      <td>0</td>\n",
              "      <td>0</td>\n",
              "      <td>0</td>\n",
              "      <td>0</td>\n",
              "    </tr>\n",
              "    <tr>\n",
              "      <th>2</th>\n",
              "      <td>0452264464</td>\n",
              "      <td>0</td>\n",
              "      <td>0</td>\n",
              "      <td>0</td>\n",
              "      <td>0</td>\n",
              "      <td>0</td>\n",
              "      <td>0</td>\n",
              "      <td>0</td>\n",
              "      <td>0</td>\n",
              "      <td>0</td>\n",
              "      <td>...</td>\n",
              "      <td>0</td>\n",
              "      <td>0</td>\n",
              "      <td>1</td>\n",
              "      <td>0</td>\n",
              "      <td>0</td>\n",
              "      <td>0</td>\n",
              "      <td>0</td>\n",
              "      <td>0</td>\n",
              "      <td>0</td>\n",
              "      <td>0</td>\n",
              "    </tr>\n",
              "    <tr>\n",
              "      <th>3</th>\n",
              "      <td>0609804618</td>\n",
              "      <td>0</td>\n",
              "      <td>0</td>\n",
              "      <td>0</td>\n",
              "      <td>0</td>\n",
              "      <td>0</td>\n",
              "      <td>0</td>\n",
              "      <td>0</td>\n",
              "      <td>0</td>\n",
              "      <td>0</td>\n",
              "      <td>...</td>\n",
              "      <td>0</td>\n",
              "      <td>0</td>\n",
              "      <td>1</td>\n",
              "      <td>0</td>\n",
              "      <td>0</td>\n",
              "      <td>0</td>\n",
              "      <td>0</td>\n",
              "      <td>0</td>\n",
              "      <td>0</td>\n",
              "      <td>0</td>\n",
              "    </tr>\n",
              "    <tr>\n",
              "      <th>4</th>\n",
              "      <td>0345402871</td>\n",
              "      <td>0</td>\n",
              "      <td>0</td>\n",
              "      <td>0</td>\n",
              "      <td>0</td>\n",
              "      <td>0</td>\n",
              "      <td>0</td>\n",
              "      <td>0</td>\n",
              "      <td>0</td>\n",
              "      <td>0</td>\n",
              "      <td>...</td>\n",
              "      <td>0</td>\n",
              "      <td>0</td>\n",
              "      <td>1</td>\n",
              "      <td>0</td>\n",
              "      <td>0</td>\n",
              "      <td>0</td>\n",
              "      <td>0</td>\n",
              "      <td>0</td>\n",
              "      <td>0</td>\n",
              "      <td>0</td>\n",
              "    </tr>\n",
              "  </tbody>\n",
              "</table>\n",
              "<p>5 rows × 3146 columns</p>\n",
              "</div>"
            ],
            "text/plain": [
              "         isbn  category_11030fictioninEnglish1900194560030texts  category_9  \\\n",
              "0  0374157065                                                 0           0   \n",
              "1  0440234743                                                 0           0   \n",
              "2  0452264464                                                 0           0   \n",
              "3  0609804618                                                 0           0   \n",
              "4  0345402871                                                 0           0   \n",
              "\n",
              "   category_AGrowandLearnLibrary  category_AIDSDisease  \\\n",
              "0                              0                     0   \n",
              "1                              0                     0   \n",
              "2                              0                     0   \n",
              "3                              0                     0   \n",
              "4                              0                     0   \n",
              "\n",
              "   category_ANIMAUXSAUVAGES  category_Abortion  category_Abusedchildren  \\\n",
              "0                         0                  0                        0   \n",
              "1                         0                  0                        0   \n",
              "2                         0                  0                        0   \n",
              "3                         0                  0                        0   \n",
              "4                         0                  0                        0   \n",
              "\n",
              "   category_Abusedwives  category_Abusedwomen  ...  language_da  language_de  \\\n",
              "0                     0                     0  ...            0            0   \n",
              "1                     0                     0  ...            0            0   \n",
              "2                     0                     0  ...            0            0   \n",
              "3                     0                     0  ...            0            0   \n",
              "4                     0                     0  ...            0            0   \n",
              "\n",
              "   language_en  language_es  language_fr  language_it  language_la  \\\n",
              "0            1            0            0            0            0   \n",
              "1            1            0            0            0            0   \n",
              "2            1            0            0            0            0   \n",
              "3            1            0            0            0            0   \n",
              "4            1            0            0            0            0   \n",
              "\n",
              "   language_nl  language_pt  language_ru  \n",
              "0            0            0            0  \n",
              "1            0            0            0  \n",
              "2            0            0            0  \n",
              "3            0            0            0  \n",
              "4            0            0            0  \n",
              "\n",
              "[5 rows x 3146 columns]"
            ]
          },
          "execution_count": 40,
          "metadata": {},
          "output_type": "execute_result"
        }
      ],
      "source": [
        "# 간결성을 위해 category 첫번째만 사용\n",
        "\n",
        "# expand는 셀을 분리하라는 의미.\n",
        "books_cat = (pd.concat([\n",
        "  books, \n",
        "  books['category'].str.replace(r'[^0-9a-zA-Z:,]+', '').str.split(',', expand=True)\n",
        "  ], axis=1)\n",
        "  .drop(['category',1,2,3], axis=1)\n",
        "  .rename(columns={0:'category'}))\n",
        "\n",
        "# books_cat.head(2)\n",
        "books.head(2)\n",
        "\n",
        "books_df = pd.get_dummies(\n",
        "  books_cat, \n",
        "  columns=['category', 'publisher', 'language']\n",
        ").drop(['book_title', 'book_author'], axis=1)\n",
        "\n",
        "books_df.head()"
      ]
    },
    {
      "cell_type": "markdown",
      "metadata": {
        "id": "hNUBgq8-npTf"
      },
      "source": [
        "ratings에 book, user 데이터 가공한 것을 조인합니다"
      ]
    },
    {
      "cell_type": "code",
      "execution_count": null,
      "metadata": {
        "id": "c0poKSbbJYWf"
      },
      "outputs": [],
      "source": [
        "data = ratings.merge(books_df, on='isbn', how='inner').merge(users_df, on='user_id', how='inner')\n",
        "\n",
        "# catboost에 사용하기 위해 one-hot encoding 형태가 아닌 카테고리 변수를 그대로 사용하는 dataframe\n",
        "data_cat = ratings.merge(books_cat.drop(['book_title', 'book_author'], axis=1), on='isbn', how='inner').merge(users, on='user_id', how='inner')"
      ]
    },
    {
      "cell_type": "markdown",
      "metadata": {
        "id": "GD0nwQTknvck"
      },
      "source": [
        "train, test 데이터로 split 해줍니다"
      ]
    },
    {
      "cell_type": "code",
      "execution_count": null,
      "metadata": {
        "id": "OUJuLC9aS2Pk"
      },
      "outputs": [],
      "source": [
        "from sklearn.model_selection import train_test_split\n",
        "X_train, X_test, y_train, y_test = train_test_split(data.drop(['user_id', 'isbn', 'rating'], axis=1), data['rating'], \n",
        "                                                    test_size=0.2, shuffle=True, random_state=seed)\n",
        "\n",
        "X_train_cat, X_test_cat, y_train_cat, y_test_cat = train_test_split(data_cat.drop(['user_id', 'isbn', 'rating'], axis=1), data_cat['rating'], test_size=0.2, shuffle=True, random_state=seed)"
      ]
    },
    {
      "cell_type": "code",
      "execution_count": null,
      "metadata": {
        "id": "YdeJLKwVoQ-D"
      },
      "outputs": [],
      "source": [
        "R = np.array(ratings.pivot_table('rating', 'user_id', 'isbn').fillna(0))"
      ]
    },
    {
      "cell_type": "markdown",
      "metadata": {
        "id": "kPTigBZXoMjq"
      },
      "source": [
        "# [2] Latent Factor Model"
      ]
    },
    {
      "cell_type": "markdown",
      "metadata": {
        "id": "bq_RBvb7fI0l"
      },
      "source": [
        "## SVD"
      ]
    },
    {
      "cell_type": "markdown",
      "metadata": {
        "id": "zuyOZL2FgI_u"
      },
      "source": [
        "### dense matrix 형태"
      ]
    },
    {
      "cell_type": "code",
      "execution_count": null,
      "metadata": {
        "id": "bIYoTTTRfKgF"
      },
      "outputs": [],
      "source": [
        "def truncated_svd(mat: np.ndarray, k=10) -> np.ndarray:\n",
        "  u, s, vh = np.linalg.svd(mat)\n",
        "  truncated_u = u[:,:k]\n",
        "  truncated_s = s[:k]\n",
        "  truncated_vh = vh[:k, :]\n",
        "\n",
        "  return np.dot(truncated_u, np.dot(np.diag(truncated_s), truncated_vh))#.round().astype(int)"
      ]
    },
    {
      "cell_type": "code",
      "execution_count": null,
      "metadata": {
        "colab": {
          "base_uri": "https://localhost:8080/"
        },
        "id": "LRZ3rNsRgBKq",
        "outputId": "0f311c04-79ce-4644-845b-2e4562bf6e06"
      },
      "outputs": [
        {
          "data": {
            "text/plain": [
              "array([[-1.64283952e-02,  1.47110115e-02,  3.47940458e-03, ...,\n",
              "        -3.46471355e-18,  4.79888935e-02,  5.88137313e-02],\n",
              "       [ 3.85992965e-02,  9.46183043e-04,  7.45738720e-04, ...,\n",
              "        -1.08925618e-20, -3.18798281e-03, -7.22424152e-04],\n",
              "       [-1.36884399e-16,  6.32495156e-17, -4.53884000e-17, ...,\n",
              "        -3.31133696e-32, -2.89624872e-17,  3.14756755e-16],\n",
              "       ...,\n",
              "       [-1.10138344e-02,  2.92482476e-02,  5.94874982e-03, ...,\n",
              "        -1.63192331e-18, -5.81179138e-03,  2.05548740e-02],\n",
              "       [-2.55535480e-01,  1.30884665e-01, -3.62617942e-04, ...,\n",
              "         3.21568268e-18, -1.86423563e-01, -2.04495466e-02],\n",
              "       [ 1.26702819e-03,  1.84125756e-03,  3.08195398e-04, ...,\n",
              "        -2.48286211e-20,  3.98501467e-03,  4.99958441e-03]])"
            ]
          },
          "execution_count": 11,
          "metadata": {},
          "output_type": "execute_result"
        }
      ],
      "source": [
        "truncated_svd(R)"
      ]
    },
    {
      "cell_type": "markdown",
      "metadata": {
        "id": "28UjyE_ug2SW"
      },
      "source": [
        "### csr matrix 형태"
      ]
    },
    {
      "cell_type": "code",
      "execution_count": null,
      "metadata": {
        "id": "M1WtEQVlgVWu"
      },
      "outputs": [],
      "source": [
        "def truncated_svd_sparse(mat: np.ndarray, k: int=100) -> np.ndarray:\n",
        "  u, s, vh = linalg.svds(csr_matrix(mat), k)\n",
        "  return u @ np.diag(s) @ vh"
      ]
    },
    {
      "cell_type": "code",
      "execution_count": null,
      "metadata": {
        "colab": {
          "base_uri": "https://localhost:8080/"
        },
        "id": "ezEHn-gUgVUQ",
        "outputId": "ce9b42b2-80ba-48b8-c917-2f14188f2705"
      },
      "outputs": [
        {
          "data": {
            "text/plain": [
              "array([[-1.64283952e-02,  1.47110115e-02,  3.47940458e-03, ...,\n",
              "        -1.35642396e-17,  4.79888935e-02,  5.88137313e-02],\n",
              "       [ 3.85992965e-02,  9.46183043e-04,  7.45738720e-04, ...,\n",
              "        -2.58132512e-18, -3.18798281e-03, -7.22424152e-04],\n",
              "       [-5.84973667e-16,  1.51132828e-16,  3.28729279e-17, ...,\n",
              "         5.33570631e-30, -1.66725400e-15, -6.00220534e-15],\n",
              "       ...,\n",
              "       [-1.10138344e-02,  2.92482476e-02,  5.94874982e-03, ...,\n",
              "         1.69371755e-17, -5.81179138e-03,  2.05548740e-02],\n",
              "       [-2.55535480e-01,  1.30884665e-01, -3.62617942e-04, ...,\n",
              "         1.17285906e-16, -1.86423563e-01, -2.04495466e-02],\n",
              "       [ 1.26702819e-03,  1.84125756e-03,  3.08195398e-04, ...,\n",
              "        -2.31838376e-18,  3.98501467e-03,  4.99958441e-03]])"
            ]
          },
          "execution_count": 13,
          "metadata": {},
          "output_type": "execute_result"
        }
      ],
      "source": [
        "truncated_svd_sparse(R, k=10)"
      ]
    },
    {
      "cell_type": "markdown",
      "metadata": {
        "id": "k__S-f5xoPRi"
      },
      "source": [
        "## MF"
      ]
    },
    {
      "cell_type": "markdown",
      "metadata": {
        "id": "gq63amSuoGoo"
      },
      "source": [
        "MF는 점수 테이블인 R을 P와 Q 두 Latent Factor로 분해하여 학습하고 두 잠재행렬을 행렬곱하여 유저-아이템 선호도를 예측하는 방법론입니다\n",
        "\n",
        "---\n",
        "<img src=\"https://drive.google.com/uc?export=view&id=1KB0pUxES-GK5PUmAIMlSjmv8cqfceZLQ\" width=\"800\">\n"
      ]
    },
    {
      "cell_type": "markdown",
      "metadata": {
        "id": "L7y7AzIRhC4u"
      },
      "source": [
        "### dense matrix 형태"
      ]
    },
    {
      "cell_type": "code",
      "execution_count": null,
      "metadata": {
        "id": "-PVutq6noRAv"
      },
      "outputs": [],
      "source": [
        "class MatrixFactorization:\n",
        "    def __init__(self, R: np.ndarray, k: int, lr: float, regularization: float, epochs: int, verbose: bool =False) -> None:\n",
        "        \"\"\"\n",
        "        :param R: rating matrix\n",
        "        :param k: latent parameter\n",
        "        :param lr: learning rate\n",
        "        :param regularization: regularization term for update\n",
        "        :param epochs: training epochs\n",
        "        :param verbose: print status\n",
        "        \"\"\"\n",
        "\n",
        "        self._R = R\n",
        "        self._n_users, self._n_items = R.shape\n",
        "        self._k = k\n",
        "        self._lr = lr\n",
        "        self._regularization = regularization\n",
        "        self._epochs = epochs\n",
        "        self._verbose = verbose\n",
        "\n",
        "\n",
        "    def fit(self) -> None:\n",
        "\n",
        "        # latent features\n",
        "        self._P = np.random.normal(size=(self._n_users, self._k))\n",
        "        self._Q = np.random.normal(size=(self._n_items, self._k))\n",
        "\n",
        "        # biases\n",
        "        self._bu = np.zeros(self._n_users)\n",
        "        self._bi = np.zeros(self._n_items)\n",
        "        self._b = np.mean(self._R[np.where(self._R != 0)])\n",
        "\n",
        "        # train while epochs\n",
        "        self._training_process = []\n",
        "        for epoch in range(self._epochs):\n",
        "\n",
        "            # rating이 0이 아닌 index로 train\n",
        "            for i in range(self._n_users):\n",
        "                for j in range(self._n_items):\n",
        "                    if self._R[i, j] > 0:\n",
        "                        self.gradient_descent(i, j, self._R[i, j])\n",
        "            cost = self.cost()\n",
        "            self._training_process.append((epoch, cost))\n",
        "\n",
        "            # print status\n",
        "            if self._verbose == True and ((epoch + 1) % 10 == 0):\n",
        "                print(\"Iteration: %d ; cost = %.4f\" % (epoch + 1, cost))\n",
        "\n",
        "\n",
        "    def cost(self) -> None:\n",
        "        \"\"\"\n",
        "        compute root mean square error\n",
        "        :return: rmse cost\n",
        "        \"\"\"\n",
        "\n",
        "        # xi, yi: R[xi, yi]는 nonzero인 value를 의미한다.\n",
        "        xi, yi = self._R.nonzero()\n",
        "        cost = 0\n",
        "        for x, y in zip(xi, yi):\n",
        "            cost += pow(self._R[x, y] - self.predict(x, y), 2)\n",
        "        return np.sqrt(cost / len(xi))\n",
        "\n",
        "\n",
        "    def gradient(self, error: float, i: int, j: int) -> tuple:\n",
        "        \"\"\"\n",
        "        gradient of latent feature for GD\n",
        "\n",
        "        :param error: rating - prediction error\n",
        "        :param i: user index\n",
        "        :param j: item index\n",
        "        :return: gradient of latent feature tuple\n",
        "        \"\"\"\n",
        "\n",
        "        dp = (error * self._Q[j, :]) - (self._regularization * self._P[i, :])\n",
        "        dq = (error * self._P[i, :]) - (self._regularization * self._Q[j, :])\n",
        "        return dp, dq\n",
        "\n",
        "\n",
        "    def gradient_descent(self, i: int, j: int, rating: int) -> None:\n",
        "        \"\"\"\n",
        "        graident descent function\n",
        "\n",
        "        :param i: user index of matrix\n",
        "        :param j: item index of matrix\n",
        "        :param rating: rating of (i,j)\n",
        "        \"\"\"\n",
        "\n",
        "        # get error\n",
        "        prediction = self.predict(i, j)\n",
        "        error = rating - prediction\n",
        "\n",
        "        # update biases\n",
        "        self._bu[i] += self._lr * (error - self._regularization * self._bu[i])\n",
        "        self._bi[j] += self._lr * (error - self._regularization * self._bi[j])\n",
        "\n",
        "        # update latent feature\n",
        "        dp, dq = self.gradient(error, i, j)\n",
        "        self._P[i, :] += self._lr * dp\n",
        "        self._Q[j, :] += self._lr * dq\n",
        "\n",
        "\n",
        "    def predict(self, i: int, j: int) -> float:\n",
        "        \"\"\"\n",
        "        get predicted rating: user_i, item_j\n",
        "        :return: prediction of r_ij\n",
        "        \"\"\"\n",
        "        return self._b + self._bu[i] + self._bi[j] + self._P[i, :].dot(self._Q[j, :].T)\n",
        "\n",
        "\n",
        "    def complete_matrix(self) -> np.ndarray:\n",
        "        \"\"\"\n",
        "        computer complete matrix PXQ + P.bias + Q.bias + global bias\n",
        "\n",
        "        - PXQ 행렬에 _bu[:, np.newaxis]를 더하는 것은 각 열마다 bias를 더해주는 것\n",
        "        - _bi[np.newaxis:, ]를 더하는 것은 각 행마다 bias를 더해주는 것\n",
        "        - b를 더하는 것은 각 element마다 bias를 더해주는 것\n",
        "\n",
        "        - newaxis: 차원을 추가해줌. 1차원인 Latent들로 2차원의 R에 행/열 단위 연산을 해주기위해 차원을 추가하는 것.\n",
        "\n",
        "        :return: complete matrix R^\n",
        "        \"\"\"\n",
        "        return self._b + self._bu[:, np.newaxis] + self._bi[np.newaxis:, ] + self._P.dot(self._Q.T)"
      ]
    },
    {
      "cell_type": "code",
      "execution_count": null,
      "metadata": {
        "colab": {
          "base_uri": "https://localhost:8080/"
        },
        "id": "NqkwVwTKoQ7C",
        "outputId": "35b69739-6477-4cfd-bc23-0c43881009c5"
      },
      "outputs": [
        {
          "name": "stdout",
          "output_type": "stream",
          "text": [
            "Iteration: 10 ; cost = 2.1938\n"
          ]
        },
        {
          "data": {
            "text/plain": [
              "array([[ 2.24763975,  6.50443004,  3.17932721, ...,  6.36061056,\n",
              "         3.50218606,  3.14936372],\n",
              "       [10.50300803,  9.01721716, 10.33439981, ...,  9.43577893,\n",
              "         9.83294057, 10.75727496],\n",
              "       [ 6.4134851 ,  6.20132055,  7.30487491, ...,  5.16559364,\n",
              "         6.34699165,  5.8968536 ],\n",
              "       ...,\n",
              "       [ 4.50436179,  6.61980514,  6.06887039, ...,  5.64808008,\n",
              "         5.39246033,  4.00131457],\n",
              "       [ 5.05028549,  4.94542632,  5.46858607, ...,  5.03556709,\n",
              "         4.97567952,  5.10188016],\n",
              "       [ 9.61787864,  6.05378364, 10.00548607, ...,  3.29802447,\n",
              "         8.1130084 ,  8.55239389]])"
            ]
          },
          "execution_count": 15,
          "metadata": {},
          "output_type": "execute_result"
        }
      ],
      "source": [
        "mf = MatrixFactorization(R, k=3, lr=0.01, regularization=0.01, epochs=10, verbose=True)\n",
        "mf.fit()\n",
        "mf.complete_matrix()"
      ]
    },
    {
      "cell_type": "markdown",
      "metadata": {
        "id": "C_AgiI5qhHB-"
      },
      "source": [
        "### csr matrix 형태"
      ]
    },
    {
      "cell_type": "code",
      "execution_count": null,
      "metadata": {
        "id": "N-MTD1vjhJZQ"
      },
      "outputs": [],
      "source": [
        "class MatrixFactorization_sparse:\n",
        "    def __init__(self, R: np.ndarray, k: int, lr: float, regularization: float, epochs: int, verbose: bool =False) -> None:\n",
        "        \"\"\"\n",
        "        :param R: rating matrix\n",
        "        :param k: latent parameter\n",
        "        :param lr: learning rate\n",
        "        :param regularization: regularization term for update\n",
        "        :param epochs: training epochs\n",
        "        :param verbose: print status\n",
        "        \"\"\"\n",
        "\n",
        "        self._R = csr_matrix(R)\n",
        "        self._ind, self._col = self._R.nonzero()\n",
        "        self._n_users, self._n_items = R.shape\n",
        "        self._k = k\n",
        "        self._lr = lr\n",
        "        self._regularization = regularization\n",
        "        self._epochs = epochs\n",
        "        self._verbose = verbose\n",
        "\n",
        "\n",
        "    def fit(self) -> None:\n",
        "\n",
        "        # latent features\n",
        "        self._P = np.random.normal(size=(self._n_users, self._k))\n",
        "        self._Q = np.random.normal(size=(self._n_items, self._k))\n",
        "\n",
        "        # biases\n",
        "        self._bu = np.zeros(self._n_users)\n",
        "        self._bi = np.zeros(self._n_items)\n",
        "        self._b = np.mean(self._R[self._R.nonzero()])\n",
        "\n",
        "        # train while epochs\n",
        "        self._training_process = []\n",
        "        for epoch in range(self._epochs):\n",
        "\n",
        "            # rating이 0이 아닌 index로 train\n",
        "            for i in range(len(self._ind)):\n",
        "              self.gradient_descent(self._ind[i], self._col[i], self._R[self._ind[i], self._col[i]])\n",
        "            cost = self.cost()\n",
        "            self._training_process.append((epoch, cost))\n",
        "\n",
        "            # print status\n",
        "            if self._verbose == True and ((epoch + 1) % 1 == 0):\n",
        "                print(\"Iteration: %d ; cost = %.4f\" % (epoch + 1, cost))\n",
        "\n",
        "\n",
        "    def cost(self) -> None:\n",
        "        \"\"\"\n",
        "        compute root mean square error\n",
        "        :return: rmse cost\n",
        "        \"\"\"\n",
        "        cost = 0\n",
        "        for x, y in zip(self._ind, self._col):\n",
        "            cost += pow(self._R[x, y] - self.predict(x, y), 2)\n",
        "        return np.sqrt(cost / len(self._ind))\n",
        "\n",
        "\n",
        "    def gradient(self, error: float, i: int, j: int) -> tuple:\n",
        "        \"\"\"\n",
        "        gradient of latent feature for GD\n",
        "\n",
        "        :param error: rating - prediction error\n",
        "        :param i: user index\n",
        "        :param j: item index\n",
        "        :return: gradient of latent feature tuple\n",
        "        \"\"\"\n",
        "\n",
        "        dp = (error * self._Q[j, :]) - (self._regularization * self._P[i, :])\n",
        "        dq = (error * self._P[i, :]) - (self._regularization * self._Q[j, :])\n",
        "        return dp, dq\n",
        "\n",
        "\n",
        "    def gradient_descent(self, i: int, j: int, rating: int) -> None:\n",
        "        \"\"\"\n",
        "        graident descent function\n",
        "\n",
        "        :param i: user index of matrix\n",
        "        :param j: item index of matrix\n",
        "        :param rating: rating of (i,j)\n",
        "        \"\"\"\n",
        "\n",
        "        # get error\n",
        "        prediction = self.predict(i, j)\n",
        "        error = rating - prediction\n",
        "\n",
        "        # update biases\n",
        "        self._bu[i] += self._lr * (error - self._regularization * self._bu[i])\n",
        "        self._bi[j] += self._lr * (error - self._regularization * self._bi[j])\n",
        "\n",
        "        # update latent feature\n",
        "        dp, dq = self.gradient(error, i, j)\n",
        "        self._P[i, :] += self._lr * dp\n",
        "        self._Q[j, :] += self._lr * dq\n",
        "\n",
        "\n",
        "    def predict(self, i: int, j: int) -> float:\n",
        "        \"\"\"\n",
        "        get predicted rating: user_i, item_j\n",
        "        :return: prediction of r_ij\n",
        "        \"\"\"\n",
        "        return self._b + self._bu[i] + self._bi[j] + (csr_matrix(self._P[i, :]).dot(csr_matrix(self._Q[j, :].T).T)).toarray().reshape(-1)[0]\n",
        "\n",
        "\n",
        "    def complete_matrix(self) -> np.ndarray:\n",
        "        \"\"\"\n",
        "        computer complete matrix PXQ + P.bias + Q.bias + global bias\n",
        "\n",
        "        - PXQ 행렬에 _bu[:, np.newaxis]를 더하는 것은 각 열마다 bias를 더해주는 것\n",
        "        - _bi[np.newaxis:, ]를 더하는 것은 각 행마다 bias를 더해주는 것\n",
        "        - b를 더하는 것은 각 element마다 bias를 더해주는 것\n",
        "\n",
        "        - newaxis: 차원을 추가해줌. 1차원인 Latent들로 2차원의 R에 행/열 단위 연산을 해주기위해 차원을 추가하는 것.\n",
        "\n",
        "        :return: complete matrix R^\n",
        "        \"\"\"\n",
        "        return self._b + self._bu[:, np.newaxis] + self._bi[np.newaxis:, ] + (csr_matrix(self._P).dot(csr_matrix(self._Q.T))).toarray().reshape(-1)[0]\n"
      ]
    },
    {
      "cell_type": "code",
      "execution_count": null,
      "metadata": {
        "colab": {
          "base_uri": "https://localhost:8080/"
        },
        "id": "1Ts3_ONAhJWR",
        "outputId": "4f89e29e-958d-42b4-927f-e35f8a113385"
      },
      "outputs": [
        {
          "name": "stdout",
          "output_type": "stream",
          "text": [
            "Iteration: 1 ; cost = 2.7472\n",
            "Iteration: 2 ; cost = 2.6198\n",
            "Iteration: 3 ; cost = 2.5516\n",
            "Iteration: 4 ; cost = 2.5006\n",
            "Iteration: 5 ; cost = 2.4552\n",
            "Iteration: 6 ; cost = 2.4114\n",
            "Iteration: 7 ; cost = 2.3674\n",
            "Iteration: 8 ; cost = 2.3226\n",
            "Iteration: 9 ; cost = 2.2766\n",
            "Iteration: 10 ; cost = 2.2292\n"
          ]
        },
        {
          "data": {
            "text/plain": [
              "array([[ 8.58072755,  8.37458295,  8.69488867, ...,  8.47269015,\n",
              "         8.39836927,  8.65734614],\n",
              "       [10.37375781, 10.16761321, 10.48791893, ..., 10.26572041,\n",
              "        10.19139953, 10.4503764 ],\n",
              "       [ 7.80602495,  7.59988035,  7.92018607, ...,  7.69798755,\n",
              "         7.62366667,  7.88264354],\n",
              "       ...,\n",
              "       [ 8.27634147,  8.07019687,  8.39050259, ...,  8.16830407,\n",
              "         8.09398319,  8.35296007],\n",
              "       [ 6.7986166 ,  6.592472  ,  6.91277772, ...,  6.69057919,\n",
              "         6.61625832,  6.87523519],\n",
              "       [ 7.50477271,  7.29862811,  7.61893383, ...,  7.39673531,\n",
              "         7.32241443,  7.5813913 ]])"
            ]
          },
          "execution_count": 17,
          "metadata": {},
          "output_type": "execute_result"
        }
      ],
      "source": [
        "mf = MatrixFactorization_sparse(R, k=3, lr=0.01, regularization=0.01, epochs=10, verbose=True)\n",
        "mf.fit()\n",
        "mf.complete_matrix()"
      ]
    },
    {
      "cell_type": "markdown",
      "metadata": {
        "id": "5hHyObAHoRsR"
      },
      "source": [
        "## ALS"
      ]
    },
    {
      "cell_type": "markdown",
      "metadata": {
        "id": "FbuAP3eXzPVj"
      },
      "source": [
        "\bALS는 MF와 같이 점수 테이블인 R을 P와 Q 두 Latent Factor로 분해하여 학습하고 두 잠재행렬을 행렬곱하여 유저-아이템 선호도를 예측하는 방법론입니다 \n",
        "- MF와 다른 점은 잠재행렬 계산 과정에 P와 Q에 대해 번갈아가며 고정하고 최소제곱법으로 최적화 한다는 점입니다\n",
        "\n",
        "---\n",
        "<img src=\"https://drive.google.com/uc?export=view&id=1KB0pUxES-GK5PUmAIMlSjmv8cqfceZLQ\" width=\"800\">\n"
      ]
    },
    {
      "cell_type": "markdown",
      "metadata": {
        "id": "JE9lIuPOiNex"
      },
      "source": [
        "### dense matrix 형태"
      ]
    },
    {
      "cell_type": "code",
      "execution_count": null,
      "metadata": {
        "id": "9Hktk9JsoT9C"
      },
      "outputs": [],
      "source": [
        "class AlternatingLeastSquares:\n",
        "    def __init__(self, R: np.ndarray, k: int, regularization: float, epochs: int, verbose: bool =False) -> None:\n",
        "        \"\"\"\n",
        "        :param R: rating matrix\n",
        "        :param k: latent parameter\n",
        "        :param regularization: regularization term for update\n",
        "        :param epochs: training epochs\n",
        "        :param verbose: print status\n",
        "        \"\"\"\n",
        "        self._R = R\n",
        "        self._n_users, self._n_items = R.shape\n",
        "        self._k = k\n",
        "        self._regularization = regularization\n",
        "        self._epochs = epochs\n",
        "        self._verbose = verbose\n",
        "\n",
        "\n",
        "    def fit(self) -> None:\n",
        "        # init latent features\n",
        "        self._users = np.random.normal(size=(self._n_users, self._k))\n",
        "        self._items = np.random.normal(size=(self._n_items, self._k))\n",
        "\n",
        "        # train while epochs\n",
        "        self._training_process = []\n",
        "        self._user_error = 0; self._item_error = 0; \n",
        "        for epoch in range(self._epochs):\n",
        "            for i, Ri in enumerate(self._R):\n",
        "                self._users[i] = self.user_latent(Ri)\n",
        "\n",
        "            for j, Rj in enumerate(self._R.T):\n",
        "                self._items[j] = self.item_latent(Rj)\n",
        "\n",
        "            cost = self.cost()\n",
        "            self._training_process.append((epoch, cost))\n",
        "\n",
        "            # print status\n",
        "            if self._verbose == True and ((epoch + 1) % 1 == 0):\n",
        "                print(\"Iteration: %d ; cost = %.4f\" % (epoch + 1, cost))\n",
        "\n",
        "\n",
        "    def cost(self) -> float:\n",
        "        \"\"\"\n",
        "        compute root mean square error\n",
        "        :return: rmse cost\n",
        "        \"\"\"\n",
        "        xi, yi = self._R.nonzero()\n",
        "        cost = 0\n",
        "        for x, y in zip(xi, yi):\n",
        "            cost += pow(self._R[x, y] - self.predict(x, y), 2)\n",
        "        return np.sqrt(cost/len(xi))\n",
        "\n",
        "\n",
        "    def user_latent(self, Ri: np.ndarray) -> np.ndarray:\n",
        "        \"\"\"\n",
        "        :param Ri: Rating of user index i\n",
        "        :return: convergence value of user latent of i index\n",
        "        \"\"\"\n",
        "\n",
        "        du = np.linalg.solve(np.dot(self._items.T, self._items) + \n",
        "                             self._regularization * np.eye(self._k),\n",
        "                             np.dot(self._items.T, Ri.T)).T\n",
        "        return du\n",
        "\n",
        "    def item_latent(self, Rj: np.ndarray) -> np.ndarray:\n",
        "        \"\"\"\n",
        "        :param Rj: Rating of item index j\n",
        "        :return: convergence value of item latent of j index\n",
        "        \"\"\"\n",
        "\n",
        "        di = np.linalg.solve(np.dot(self._users.T, self._users) + \n",
        "                             self._regularization * np.eye(self._k),\n",
        "                             np.dot(self._users.T, Rj))\n",
        "        return di\n",
        "\n",
        "\n",
        "    def predict(self, i: int, j: int) -> float:\n",
        "        \"\"\"\n",
        "        get predicted rating: user_i, item_j\n",
        "        :return: prediction of r_ij\n",
        "        \"\"\"\n",
        "        return self._users[i, :].dot(self._items[j, :].T)\n",
        "\n",
        "\n",
        "    def complete_matrix(self) -> np.ndarray:\n",
        "        \"\"\"\n",
        "        :return: complete matrix R^\n",
        "        \"\"\"\n",
        "        return self._users.dot(self._items.T)"
      ]
    },
    {
      "cell_type": "code",
      "execution_count": null,
      "metadata": {
        "colab": {
          "base_uri": "https://localhost:8080/"
        },
        "id": "x98qu--SoT6T",
        "outputId": "efc0705c-be4c-4b6c-ba8d-f89bec64ee08"
      },
      "outputs": [
        {
          "name": "stdout",
          "output_type": "stream",
          "text": [
            "Iteration: 1 ; cost = 7.3325\n",
            "Iteration: 2 ; cost = 6.9303\n",
            "Iteration: 3 ; cost = 6.8407\n",
            "Iteration: 4 ; cost = 6.8433\n",
            "Iteration: 5 ; cost = 6.8514\n",
            "Iteration: 6 ; cost = 6.8587\n",
            "Iteration: 7 ; cost = 6.8664\n",
            "Iteration: 8 ; cost = 6.8751\n",
            "Iteration: 9 ; cost = 6.8842\n",
            "Iteration: 10 ; cost = 6.8927\n"
          ]
        },
        {
          "data": {
            "text/plain": [
              "array([[ 8.21955752e-04,  1.37443682e-04,  1.58859396e-04, ...,\n",
              "        -1.65185528e-23,  2.85284522e-04,  5.14093997e-04],\n",
              "       [ 8.82633776e-05,  1.60319186e-05,  1.74148452e-05, ...,\n",
              "        -1.73977300e-24,  3.18983282e-05,  5.68589361e-05],\n",
              "       [ 1.02870360e-16,  1.41515969e-17,  1.94753545e-17, ...,\n",
              "        -2.11530578e-36,  3.41190270e-17,  6.18192169e-17],\n",
              "       ...,\n",
              "       [ 1.20703994e-03,  1.79756020e-04,  2.33636468e-04, ...,\n",
              "        -2.43572840e-23,  4.18096565e-04,  7.47324288e-04],\n",
              "       [ 8.59362087e-04,  3.71473768e-04,  1.51692797e-04, ...,\n",
              "        -1.70489000e-23,  2.72209378e-04,  5.81364778e-04],\n",
              "       [ 7.63397495e-05,  1.00890831e-05,  1.52057108e-05, ...,\n",
              "        -1.51556900e-24,  2.77137369e-05,  4.81427799e-05]])"
            ]
          },
          "execution_count": 19,
          "metadata": {},
          "output_type": "execute_result"
        }
      ],
      "source": [
        "als = AlternatingLeastSquares(R, k=3, regularization=0.01, epochs=10, verbose=True)\n",
        "als.fit()\n",
        "als.complete_matrix()"
      ]
    },
    {
      "cell_type": "markdown",
      "metadata": {
        "id": "rPuzkpKZiQ2Y"
      },
      "source": [
        "### csr matrix 형태"
      ]
    },
    {
      "cell_type": "code",
      "execution_count": null,
      "metadata": {
        "id": "FF1FfwaqiUBH"
      },
      "outputs": [],
      "source": [
        "class AlternatingLeastSquares_sparse:\n",
        "    def __init__(self, R: np.ndarray, k: int, regularization: float, epochs: int, verbose: bool =False) -> None:\n",
        "        \"\"\"\n",
        "        :param R: rating matrix\n",
        "        :param k: latent parameter\n",
        "        :param regularization: regularization term for update\n",
        "        :param epochs: training epochs\n",
        "        :param verbose: print status\n",
        "        \"\"\"\n",
        "        self._R = csr_matrix(R)\n",
        "        self._ind, self._col = self._R.nonzero()\n",
        "        self._n_users, self._n_items = R.shape\n",
        "        self._k = k\n",
        "        self._regularization = regularization\n",
        "        self._epochs = epochs\n",
        "        self._verbose = verbose\n",
        "\n",
        "\n",
        "    def fit(self) -> None:\n",
        "        # init latent features\n",
        "        self._users = np.random.normal(size=(self._n_users, self._k))\n",
        "        self._items = np.random.normal(size=(self._n_items, self._k))\n",
        "\n",
        "        # train while epochs\n",
        "        self._training_process = []\n",
        "        self._user_error = 0; self._item_error = 0; \n",
        "        for epoch in range(self._epochs):\n",
        "            for i, Ri in enumerate(self._R):\n",
        "                self._users[i] = self.user_latent(Ri)\n",
        "\n",
        "            for j, Rj in enumerate(self._R.T):\n",
        "                self._items[j] = self.item_latent(Rj)\n",
        "\n",
        "            cost = self.cost()\n",
        "            self._training_process.append((epoch, cost))\n",
        "\n",
        "            # print status\n",
        "            if self._verbose == True and ((epoch + 1) % 1 == 0):\n",
        "                print(\"Iteration: %d ; cost = %.4f\" % (epoch + 1, cost))\n",
        "\n",
        "\n",
        "    def cost(self) -> float:\n",
        "        \"\"\"\n",
        "        compute root mean square error\n",
        "        :return: rmse cost\n",
        "        \"\"\"\n",
        "        cost = 0\n",
        "        for x, y in zip(self._ind, self._col):\n",
        "            cost += pow(self._R[x, y] - self.predict(x, y), 2)\n",
        "        return np.sqrt(cost / len(self._ind))\n",
        "\n",
        "\n",
        "    def user_latent(self, Ri: csr_matrix) -> np.ndarray:\n",
        "        \"\"\"\n",
        "        :param i: user index\n",
        "        :param Ri: Rating of user index i\n",
        "        :return: convergence value of user latent of i index\n",
        "        \"\"\"\n",
        "        du = linalg.spsolve((self._items.T @ (self._items)) + \n",
        "                            self._regularization * np.eye(self._k),\n",
        "                            self._items.T @ (Ri.T)\n",
        "                            ).T\n",
        "        return du\n",
        "\n",
        "    def item_latent(self, Rj: csr_matrix) -> np.ndarray:\n",
        "        \"\"\"\n",
        "        :param j: item index\n",
        "        :param Rj: Rating of item index j\n",
        "        :return: convergence value of itemr latent of j index\n",
        "        \"\"\"\n",
        "\n",
        "        di = linalg.spsolve((self._users.T @ self._users) + \n",
        "                            self._regularization * np.eye(self._k),\n",
        "                            self._users.T @ (Rj.T)\n",
        "                            ).T\n",
        "        return di\n",
        "\n",
        "\n",
        "    def predict(self, i: int, j: int) -> float:\n",
        "        \"\"\"\n",
        "        get predicted rating: user_i, item_j\n",
        "        :return: prediction of r_ij\n",
        "        \"\"\"\n",
        "        return self._users[i, :].dot(self._items[j, :].T)\n",
        "\n",
        "\n",
        "    def complete_matrix(self) -> np.ndarray:\n",
        "        \"\"\"\n",
        "        :return: complete matrix R^\n",
        "        \"\"\"\n",
        "        return self._users.dot(self._items.T)"
      ]
    },
    {
      "cell_type": "code",
      "execution_count": null,
      "metadata": {
        "colab": {
          "base_uri": "https://localhost:8080/"
        },
        "id": "2x5Bo1z_iT5C",
        "outputId": "9be13b08-fbae-4fe4-ddfc-d32e25c7c666"
      },
      "outputs": [
        {
          "name": "stdout",
          "output_type": "stream",
          "text": [
            "Iteration: 1 ; cost = 7.3105\n",
            "Iteration: 2 ; cost = 6.8870\n",
            "Iteration: 3 ; cost = 6.8619\n",
            "Iteration: 4 ; cost = 6.8692\n",
            "Iteration: 5 ; cost = 6.8800\n",
            "Iteration: 6 ; cost = 6.8902\n",
            "Iteration: 7 ; cost = 6.8985\n",
            "Iteration: 8 ; cost = 6.9049\n",
            "Iteration: 9 ; cost = 6.9097\n",
            "Iteration: 10 ; cost = 6.9132\n"
          ]
        },
        {
          "data": {
            "text/plain": [
              "array([[ 2.22899642e-04,  6.36814844e-05,  5.23916345e-05, ...,\n",
              "        -2.20215406e-25,  1.05048277e-04,  1.94455156e-04],\n",
              "       [ 3.94372322e-05,  1.06265787e-05,  9.30913231e-06, ...,\n",
              "        -3.75543805e-26,  1.86593951e-05,  3.43690058e-05],\n",
              "       [-5.83506934e-18, -1.17743122e-18, -1.21232438e-18, ...,\n",
              "         6.33204185e-39, -2.18713331e-18, -4.48959920e-18],\n",
              "       ...,\n",
              "       [ 4.51411100e-04,  8.12539868e-05,  1.04439513e-04, ...,\n",
              "        -3.81094768e-25,  2.03143984e-04,  3.77191969e-04],\n",
              "       [ 4.22662041e-04,  3.46901886e-04,  8.74693999e-05, ...,\n",
              "        -8.96506716e-25,  1.80132845e-04,  3.87647629e-04],\n",
              "       [ 3.98442643e-05,  6.39490984e-06,  9.31765061e-06, ...,\n",
              "        -3.14855360e-26,  1.81869557e-05,  3.34050155e-05]])"
            ]
          },
          "execution_count": 21,
          "metadata": {},
          "output_type": "execute_result"
        }
      ],
      "source": [
        "als = AlternatingLeastSquares_sparse(R, k=3, regularization=0.01, epochs=10, verbose=True)\n",
        "als.fit()\n",
        "als.complete_matrix()"
      ]
    },
    {
      "cell_type": "markdown",
      "metadata": {
        "id": "R7n1SpiXn7e5"
      },
      "source": [
        "# [3] Supervised Learning"
      ]
    },
    {
      "cell_type": "markdown",
      "metadata": {
        "id": "nGroaKZ4WgX_"
      },
      "source": [
        "## Naive Bayes"
      ]
    },
    {
      "cell_type": "markdown",
      "metadata": {
        "id": "XOG9Hjt70XDp"
      },
      "source": [
        "나이브베이즈는 X 변수가 서로 독립이라는 가정 하에 계산되는 베이즈 공식의 응용입니다\n",
        "- 자세한 개념은 강의나 [참고자료](https://towardsdatascience.com/introduction-to-na%C3%AFve-bayes-classifier-fa59e3e24aaf)를 확인 바랍니다"
      ]
    },
    {
      "cell_type": "code",
      "execution_count": null,
      "metadata": {
        "id": "jypU2bDEcc_q"
      },
      "outputs": [],
      "source": [
        "from sklearn.naive_bayes import GaussianNB, BernoulliNB"
      ]
    },
    {
      "cell_type": "markdown",
      "metadata": {
        "id": "2AClfkuEvR7T"
      },
      "source": [
        "- 사용하는 피쳐가 binary인 경우가 많아 binary 데이터일 때 좋은 것으로 알려진 BernoulliNB를 사용합니다"
      ]
    },
    {
      "cell_type": "code",
      "execution_count": null,
      "metadata": {
        "colab": {
          "base_uri": "https://localhost:8080/"
        },
        "id": "zHQAb6PXPonC",
        "outputId": "5efe6e89-5a33-434a-dd91-63920e5ddac1"
      },
      "outputs": [
        {
          "name": "stdout",
          "output_type": "stream",
          "text": [
            "most probable : [10  9 10 ...  8 10 10]\n",
            "proba : [[8.07173556e-03 4.88255355e-35 1.89842040e-24 ... 1.33434066e-02\n",
            "  8.57159267e-03 9.65943022e-01]\n",
            " [1.29038571e-01 1.08600205e-33 3.39917567e-22 ... 2.87643150e-01\n",
            "  3.71120528e-01 1.14236089e-01]\n",
            " [2.00001831e-01 2.83629201e-31 2.35323067e-21 ... 3.34871427e-02\n",
            "  4.46865717e-02 6.99158527e-01]\n",
            " ...\n",
            " [2.22942192e-02 6.30143148e-34 1.88638792e-24 ... 9.74328836e-01\n",
            "  6.02390484e-04 3.84895540e-04]\n",
            " [2.35831072e-01 2.59926120e-36 9.85744696e-26 ... 7.47444023e-03\n",
            "  4.21912651e-04 7.44009326e-01]\n",
            " [2.57528981e-01 5.82461987e-34 1.45100013e-23 ... 2.24708186e-01\n",
            "  1.28493593e-01 2.87365745e-01]]\n"
          ]
        }
      ],
      "source": [
        "# nb = GaussianNB() \n",
        "nb = BernoulliNB() \n",
        "nb.fit(X_train, y_train)\n",
        "print('most probable :', nb.predict(X_test))\n",
        "print('proba :', nb.predict_proba(X_test))"
      ]
    },
    {
      "cell_type": "code",
      "execution_count": null,
      "metadata": {
        "colab": {
          "base_uri": "https://localhost:8080/"
        },
        "id": "lTZrum6nTsDv",
        "outputId": "e6163d3f-352d-47b2-f67e-a5aa7337645c"
      },
      "outputs": [
        {
          "name": "stdout",
          "output_type": "stream",
          "text": [
            "accuracy :  0.41067700566656723\n",
            "nb score :  0.41067700566656723\n"
          ]
        }
      ],
      "source": [
        "# 두 함수의 결과는 같습니다\n",
        "print('accuracy : ', accuracy_score(y_test, nb.predict(X_test)))\n",
        "print('nb score : ', nb.score(X_test, y_test))"
      ]
    },
    {
      "cell_type": "code",
      "execution_count": null,
      "metadata": {
        "id": "D0pOUnuhsGnF"
      },
      "outputs": [],
      "source": [
        "def rmse(real, predict):\n",
        "  return np.sqrt(np.mean((real-predict) ** 2))"
      ]
    },
    {
      "cell_type": "code",
      "execution_count": null,
      "metadata": {
        "id": "S3cJuuBqtmUA"
      },
      "outputs": [],
      "source": [
        "def mae(real, predict):\n",
        "  return np.mean(np.abs(real-predict))"
      ]
    },
    {
      "cell_type": "code",
      "execution_count": null,
      "metadata": {
        "colab": {
          "base_uri": "https://localhost:8080/"
        },
        "id": "lhfhRY6QVE1K",
        "outputId": "824a2851-6432-49da-b6c1-8e6d917b7509"
      },
      "outputs": [
        {
          "name": "stdout",
          "output_type": "stream",
          "text": [
            "RMSE :  3.5162271351168686\n",
            "MAE :  2.1526990754548168\n"
          ]
        }
      ],
      "source": [
        "print('RMSE : ', rmse(y_test, nb.predict(X_test)))\n",
        "print('MAE : ', mae(y_test, nb.predict(X_test)))"
      ]
    },
    {
      "cell_type": "code",
      "execution_count": null,
      "metadata": {
        "colab": {
          "base_uri": "https://localhost:8080/",
          "height": 394
        },
        "id": "k0uQ50jlQ3fz",
        "outputId": "986885bf-c1ad-4ccb-a822-7596a57cdc00"
      },
      "outputs": [
        {
          "data": {
            "text/html": [
              "\n",
              "  <div id=\"df-dbba3edb-f8df-49c5-8b9a-22247673bec5\">\n",
              "    <div class=\"colab-df-container\">\n",
              "      <div>\n",
              "<style scoped>\n",
              "    .dataframe tbody tr th:only-of-type {\n",
              "        vertical-align: middle;\n",
              "    }\n",
              "\n",
              "    .dataframe tbody tr th {\n",
              "        vertical-align: top;\n",
              "    }\n",
              "\n",
              "    .dataframe thead th {\n",
              "        text-align: right;\n",
              "    }\n",
              "</style>\n",
              "<table border=\"1\" class=\"dataframe\">\n",
              "  <thead>\n",
              "    <tr style=\"text-align: right;\">\n",
              "      <th>col_0</th>\n",
              "      <th>1</th>\n",
              "      <th>5</th>\n",
              "      <th>6</th>\n",
              "      <th>7</th>\n",
              "      <th>8</th>\n",
              "      <th>9</th>\n",
              "      <th>10</th>\n",
              "    </tr>\n",
              "    <tr>\n",
              "      <th>rating</th>\n",
              "      <th></th>\n",
              "      <th></th>\n",
              "      <th></th>\n",
              "      <th></th>\n",
              "      <th></th>\n",
              "      <th></th>\n",
              "      <th></th>\n",
              "    </tr>\n",
              "  </thead>\n",
              "  <tbody>\n",
              "    <tr>\n",
              "      <th>1</th>\n",
              "      <td>83</td>\n",
              "      <td>41</td>\n",
              "      <td>0</td>\n",
              "      <td>41</td>\n",
              "      <td>103</td>\n",
              "      <td>49</td>\n",
              "      <td>129</td>\n",
              "    </tr>\n",
              "    <tr>\n",
              "      <th>2</th>\n",
              "      <td>1</td>\n",
              "      <td>1</td>\n",
              "      <td>0</td>\n",
              "      <td>0</td>\n",
              "      <td>3</td>\n",
              "      <td>3</td>\n",
              "      <td>0</td>\n",
              "    </tr>\n",
              "    <tr>\n",
              "      <th>3</th>\n",
              "      <td>3</td>\n",
              "      <td>2</td>\n",
              "      <td>1</td>\n",
              "      <td>1</td>\n",
              "      <td>5</td>\n",
              "      <td>5</td>\n",
              "      <td>11</td>\n",
              "    </tr>\n",
              "    <tr>\n",
              "      <th>4</th>\n",
              "      <td>3</td>\n",
              "      <td>13</td>\n",
              "      <td>0</td>\n",
              "      <td>1</td>\n",
              "      <td>5</td>\n",
              "      <td>6</td>\n",
              "      <td>6</td>\n",
              "    </tr>\n",
              "    <tr>\n",
              "      <th>5</th>\n",
              "      <td>29</td>\n",
              "      <td>381</td>\n",
              "      <td>0</td>\n",
              "      <td>14</td>\n",
              "      <td>55</td>\n",
              "      <td>18</td>\n",
              "      <td>82</td>\n",
              "    </tr>\n",
              "    <tr>\n",
              "      <th>6</th>\n",
              "      <td>13</td>\n",
              "      <td>20</td>\n",
              "      <td>0</td>\n",
              "      <td>31</td>\n",
              "      <td>54</td>\n",
              "      <td>10</td>\n",
              "      <td>34</td>\n",
              "    </tr>\n",
              "    <tr>\n",
              "      <th>7</th>\n",
              "      <td>32</td>\n",
              "      <td>27</td>\n",
              "      <td>0</td>\n",
              "      <td>62</td>\n",
              "      <td>125</td>\n",
              "      <td>34</td>\n",
              "      <td>68</td>\n",
              "    </tr>\n",
              "    <tr>\n",
              "      <th>8</th>\n",
              "      <td>35</td>\n",
              "      <td>29</td>\n",
              "      <td>0</td>\n",
              "      <td>38</td>\n",
              "      <td>200</td>\n",
              "      <td>84</td>\n",
              "      <td>145</td>\n",
              "    </tr>\n",
              "    <tr>\n",
              "      <th>9</th>\n",
              "      <td>40</td>\n",
              "      <td>18</td>\n",
              "      <td>0</td>\n",
              "      <td>27</td>\n",
              "      <td>117</td>\n",
              "      <td>162</td>\n",
              "      <td>124</td>\n",
              "    </tr>\n",
              "    <tr>\n",
              "      <th>10</th>\n",
              "      <td>65</td>\n",
              "      <td>28</td>\n",
              "      <td>0</td>\n",
              "      <td>16</td>\n",
              "      <td>72</td>\n",
              "      <td>59</td>\n",
              "      <td>489</td>\n",
              "    </tr>\n",
              "  </tbody>\n",
              "</table>\n",
              "</div>\n",
              "      <button class=\"colab-df-convert\" onclick=\"convertToInteractive('df-dbba3edb-f8df-49c5-8b9a-22247673bec5')\"\n",
              "              title=\"Convert this dataframe to an interactive table.\"\n",
              "              style=\"display:none;\">\n",
              "        \n",
              "  <svg xmlns=\"http://www.w3.org/2000/svg\" height=\"24px\"viewBox=\"0 0 24 24\"\n",
              "       width=\"24px\">\n",
              "    <path d=\"M0 0h24v24H0V0z\" fill=\"none\"/>\n",
              "    <path d=\"M18.56 5.44l.94 2.06.94-2.06 2.06-.94-2.06-.94-.94-2.06-.94 2.06-2.06.94zm-11 1L8.5 8.5l.94-2.06 2.06-.94-2.06-.94L8.5 2.5l-.94 2.06-2.06.94zm10 10l.94 2.06.94-2.06 2.06-.94-2.06-.94-.94-2.06-.94 2.06-2.06.94z\"/><path d=\"M17.41 7.96l-1.37-1.37c-.4-.4-.92-.59-1.43-.59-.52 0-1.04.2-1.43.59L10.3 9.45l-7.72 7.72c-.78.78-.78 2.05 0 2.83L4 21.41c.39.39.9.59 1.41.59.51 0 1.02-.2 1.41-.59l7.78-7.78 2.81-2.81c.8-.78.8-2.07 0-2.86zM5.41 20L4 18.59l7.72-7.72 1.47 1.35L5.41 20z\"/>\n",
              "  </svg>\n",
              "      </button>\n",
              "      \n",
              "  <style>\n",
              "    .colab-df-container {\n",
              "      display:flex;\n",
              "      flex-wrap:wrap;\n",
              "      gap: 12px;\n",
              "    }\n",
              "\n",
              "    .colab-df-convert {\n",
              "      background-color: #E8F0FE;\n",
              "      border: none;\n",
              "      border-radius: 50%;\n",
              "      cursor: pointer;\n",
              "      display: none;\n",
              "      fill: #1967D2;\n",
              "      height: 32px;\n",
              "      padding: 0 0 0 0;\n",
              "      width: 32px;\n",
              "    }\n",
              "\n",
              "    .colab-df-convert:hover {\n",
              "      background-color: #E2EBFA;\n",
              "      box-shadow: 0px 1px 2px rgba(60, 64, 67, 0.3), 0px 1px 3px 1px rgba(60, 64, 67, 0.15);\n",
              "      fill: #174EA6;\n",
              "    }\n",
              "\n",
              "    [theme=dark] .colab-df-convert {\n",
              "      background-color: #3B4455;\n",
              "      fill: #D2E3FC;\n",
              "    }\n",
              "\n",
              "    [theme=dark] .colab-df-convert:hover {\n",
              "      background-color: #434B5C;\n",
              "      box-shadow: 0px 1px 3px 1px rgba(0, 0, 0, 0.15);\n",
              "      filter: drop-shadow(0px 1px 2px rgba(0, 0, 0, 0.3));\n",
              "      fill: #FFFFFF;\n",
              "    }\n",
              "  </style>\n",
              "\n",
              "      <script>\n",
              "        const buttonEl =\n",
              "          document.querySelector('#df-dbba3edb-f8df-49c5-8b9a-22247673bec5 button.colab-df-convert');\n",
              "        buttonEl.style.display =\n",
              "          google.colab.kernel.accessAllowed ? 'block' : 'none';\n",
              "\n",
              "        async function convertToInteractive(key) {\n",
              "          const element = document.querySelector('#df-dbba3edb-f8df-49c5-8b9a-22247673bec5');\n",
              "          const dataTable =\n",
              "            await google.colab.kernel.invokeFunction('convertToInteractive',\n",
              "                                                     [key], {});\n",
              "          if (!dataTable) return;\n",
              "\n",
              "          const docLinkHtml = 'Like what you see? Visit the ' +\n",
              "            '<a target=\"_blank\" href=https://colab.research.google.com/notebooks/data_table.ipynb>data table notebook</a>'\n",
              "            + ' to learn more about interactive tables.';\n",
              "          element.innerHTML = '';\n",
              "          dataTable['output_type'] = 'display_data';\n",
              "          await google.colab.output.renderOutput(dataTable, element);\n",
              "          const docLink = document.createElement('div');\n",
              "          docLink.innerHTML = docLinkHtml;\n",
              "          element.appendChild(docLink);\n",
              "        }\n",
              "      </script>\n",
              "    </div>\n",
              "  </div>\n",
              "  "
            ],
            "text/plain": [
              "col_0   1    5   6   7    8    9    10\n",
              "rating                                \n",
              "1       83   41   0  41  103   49  129\n",
              "2        1    1   0   0    3    3    0\n",
              "3        3    2   1   1    5    5   11\n",
              "4        3   13   0   1    5    6    6\n",
              "5       29  381   0  14   55   18   82\n",
              "6       13   20   0  31   54   10   34\n",
              "7       32   27   0  62  125   34   68\n",
              "8       35   29   0  38  200   84  145\n",
              "9       40   18   0  27  117  162  124\n",
              "10      65   28   0  16   72   59  489"
            ]
          },
          "execution_count": 16,
          "metadata": {},
          "output_type": "execute_result"
        }
      ],
      "source": [
        "pd.crosstab(y_test, nb.predict(X_test))"
      ]
    },
    {
      "cell_type": "markdown",
      "metadata": {
        "id": "2v2V07T-hqxS"
      },
      "source": [
        "## GBDT"
      ]
    },
    {
      "cell_type": "markdown",
      "metadata": {
        "id": "tNC9w2sw4rMg"
      },
      "source": [
        "GBDT 모델은 weak tree 모델을 다수 만들어 잔차를 줄여나가는 방법론입니다\n",
        "- XGBoost와 LightGBM, CatBoost가 가장 많이 활용되고 있습니다"
      ]
    },
    {
      "cell_type": "markdown",
      "metadata": {
        "id": "SOx-kvctKQki"
      },
      "source": [
        "### XGBoost"
      ]
    },
    {
      "cell_type": "code",
      "execution_count": null,
      "metadata": {
        "id": "yqr5bZQdKSnT"
      },
      "outputs": [],
      "source": [
        "xgb_cl = XGBClassifier()"
      ]
    },
    {
      "cell_type": "markdown",
      "metadata": {
        "id": "alGWI433TTZR"
      },
      "source": [
        "- 이번 실습에서는 rating을 분류로 접근하고 있기 때문에 0부터 y값을 요구하는 XGBClassifier의 특성에 맞춰 LabelEncoder를 사용합니다  \n",
        "- LabelEncoder로 인코딩한 y값으로 훈련 및 예측을 진행하고 정확도를 판단할 때는 inverse_transform을 이용해 다시 원래 값으로 비교하겠습니다"
      ]
    },
    {
      "cell_type": "code",
      "execution_count": null,
      "metadata": {
        "colab": {
          "base_uri": "https://localhost:8080/",
          "height": 52
        },
        "id": "9zgPrZPnSTYx",
        "outputId": "bd478247-e539-4b28-af4a-c83634d3d633"
      },
      "outputs": [
        {
          "data": {
            "text/html": [
              "<style>#sk-container-id-1 {color: black;background-color: white;}#sk-container-id-1 pre{padding: 0;}#sk-container-id-1 div.sk-toggleable {background-color: white;}#sk-container-id-1 label.sk-toggleable__label {cursor: pointer;display: block;width: 100%;margin-bottom: 0;padding: 0.3em;box-sizing: border-box;text-align: center;}#sk-container-id-1 label.sk-toggleable__label-arrow:before {content: \"▸\";float: left;margin-right: 0.25em;color: #696969;}#sk-container-id-1 label.sk-toggleable__label-arrow:hover:before {color: black;}#sk-container-id-1 div.sk-estimator:hover label.sk-toggleable__label-arrow:before {color: black;}#sk-container-id-1 div.sk-toggleable__content {max-height: 0;max-width: 0;overflow: hidden;text-align: left;background-color: #f0f8ff;}#sk-container-id-1 div.sk-toggleable__content pre {margin: 0.2em;color: black;border-radius: 0.25em;background-color: #f0f8ff;}#sk-container-id-1 input.sk-toggleable__control:checked~div.sk-toggleable__content {max-height: 200px;max-width: 100%;overflow: auto;}#sk-container-id-1 input.sk-toggleable__control:checked~label.sk-toggleable__label-arrow:before {content: \"▾\";}#sk-container-id-1 div.sk-estimator input.sk-toggleable__control:checked~label.sk-toggleable__label {background-color: #d4ebff;}#sk-container-id-1 div.sk-label input.sk-toggleable__control:checked~label.sk-toggleable__label {background-color: #d4ebff;}#sk-container-id-1 input.sk-hidden--visually {border: 0;clip: rect(1px 1px 1px 1px);clip: rect(1px, 1px, 1px, 1px);height: 1px;margin: -1px;overflow: hidden;padding: 0;position: absolute;width: 1px;}#sk-container-id-1 div.sk-estimator {font-family: monospace;background-color: #f0f8ff;border: 1px dotted black;border-radius: 0.25em;box-sizing: border-box;margin-bottom: 0.5em;}#sk-container-id-1 div.sk-estimator:hover {background-color: #d4ebff;}#sk-container-id-1 div.sk-parallel-item::after {content: \"\";width: 100%;border-bottom: 1px solid gray;flex-grow: 1;}#sk-container-id-1 div.sk-label:hover label.sk-toggleable__label {background-color: #d4ebff;}#sk-container-id-1 div.sk-serial::before {content: \"\";position: absolute;border-left: 1px solid gray;box-sizing: border-box;top: 0;bottom: 0;left: 50%;z-index: 0;}#sk-container-id-1 div.sk-serial {display: flex;flex-direction: column;align-items: center;background-color: white;padding-right: 0.2em;padding-left: 0.2em;position: relative;}#sk-container-id-1 div.sk-item {position: relative;z-index: 1;}#sk-container-id-1 div.sk-parallel {display: flex;align-items: stretch;justify-content: center;background-color: white;position: relative;}#sk-container-id-1 div.sk-item::before, #sk-container-id-1 div.sk-parallel-item::before {content: \"\";position: absolute;border-left: 1px solid gray;box-sizing: border-box;top: 0;bottom: 0;left: 50%;z-index: -1;}#sk-container-id-1 div.sk-parallel-item {display: flex;flex-direction: column;z-index: 1;position: relative;background-color: white;}#sk-container-id-1 div.sk-parallel-item:first-child::after {align-self: flex-end;width: 50%;}#sk-container-id-1 div.sk-parallel-item:last-child::after {align-self: flex-start;width: 50%;}#sk-container-id-1 div.sk-parallel-item:only-child::after {width: 0;}#sk-container-id-1 div.sk-dashed-wrapped {border: 1px dashed gray;margin: 0 0.4em 0.5em 0.4em;box-sizing: border-box;padding-bottom: 0.4em;background-color: white;}#sk-container-id-1 div.sk-label label {font-family: monospace;font-weight: bold;display: inline-block;line-height: 1.2em;}#sk-container-id-1 div.sk-label-container {text-align: center;}#sk-container-id-1 div.sk-container {/* jupyter's `normalize.less` sets `[hidden] { display: none; }` but bootstrap.min.css set `[hidden] { display: none !important; }` so we also need the `!important` here to be able to override the default hidden behavior on the sphinx rendered scikit-learn.org. See: https://github.com/scikit-learn/scikit-learn/issues/21755 */display: inline-block !important;position: relative;}#sk-container-id-1 div.sk-text-repr-fallback {display: none;}</style><div id=\"sk-container-id-1\" class=\"sk-top-container\"><div class=\"sk-text-repr-fallback\"><pre>LabelEncoder()</pre><b>In a Jupyter environment, please rerun this cell to show the HTML representation or trust the notebook. <br />On GitHub, the HTML representation is unable to render, please try loading this page with nbviewer.org.</b></div><div class=\"sk-container\" hidden><div class=\"sk-item\"><div class=\"sk-estimator sk-toggleable\"><input class=\"sk-toggleable__control sk-hidden--visually\" id=\"sk-estimator-id-1\" type=\"checkbox\" checked><label for=\"sk-estimator-id-1\" class=\"sk-toggleable__label sk-toggleable__label-arrow\">LabelEncoder</label><div class=\"sk-toggleable__content\"><pre>LabelEncoder()</pre></div></div></div></div></div>"
            ],
            "text/plain": [
              "LabelEncoder()"
            ]
          },
          "execution_count": 23,
          "metadata": {},
          "output_type": "execute_result"
        }
      ],
      "source": [
        "label_encoder = LabelEncoder()\n",
        "label_encoder.fit(y_train)\n",
        "\n",
        "y_train_encoded = label_encoder.transform(y_train)\n",
        "y_test_encoded = label_encoder.transform(y_test)"
      ]
    },
    {
      "cell_type": "code",
      "execution_count": null,
      "metadata": {
        "colab": {
          "base_uri": "https://localhost:8080/",
          "height": 52
        },
        "id": "Ci6QXWj1KSlN",
        "outputId": "d44bf19f-e9af-47a0-c4aa-e1b3581c071c"
      },
      "outputs": [
        {
          "data": {
            "text/html": [
              "<style>#sk-container-id-2 {color: black;background-color: white;}#sk-container-id-2 pre{padding: 0;}#sk-container-id-2 div.sk-toggleable {background-color: white;}#sk-container-id-2 label.sk-toggleable__label {cursor: pointer;display: block;width: 100%;margin-bottom: 0;padding: 0.3em;box-sizing: border-box;text-align: center;}#sk-container-id-2 label.sk-toggleable__label-arrow:before {content: \"▸\";float: left;margin-right: 0.25em;color: #696969;}#sk-container-id-2 label.sk-toggleable__label-arrow:hover:before {color: black;}#sk-container-id-2 div.sk-estimator:hover label.sk-toggleable__label-arrow:before {color: black;}#sk-container-id-2 div.sk-toggleable__content {max-height: 0;max-width: 0;overflow: hidden;text-align: left;background-color: #f0f8ff;}#sk-container-id-2 div.sk-toggleable__content pre {margin: 0.2em;color: black;border-radius: 0.25em;background-color: #f0f8ff;}#sk-container-id-2 input.sk-toggleable__control:checked~div.sk-toggleable__content {max-height: 200px;max-width: 100%;overflow: auto;}#sk-container-id-2 input.sk-toggleable__control:checked~label.sk-toggleable__label-arrow:before {content: \"▾\";}#sk-container-id-2 div.sk-estimator input.sk-toggleable__control:checked~label.sk-toggleable__label {background-color: #d4ebff;}#sk-container-id-2 div.sk-label input.sk-toggleable__control:checked~label.sk-toggleable__label {background-color: #d4ebff;}#sk-container-id-2 input.sk-hidden--visually {border: 0;clip: rect(1px 1px 1px 1px);clip: rect(1px, 1px, 1px, 1px);height: 1px;margin: -1px;overflow: hidden;padding: 0;position: absolute;width: 1px;}#sk-container-id-2 div.sk-estimator {font-family: monospace;background-color: #f0f8ff;border: 1px dotted black;border-radius: 0.25em;box-sizing: border-box;margin-bottom: 0.5em;}#sk-container-id-2 div.sk-estimator:hover {background-color: #d4ebff;}#sk-container-id-2 div.sk-parallel-item::after {content: \"\";width: 100%;border-bottom: 1px solid gray;flex-grow: 1;}#sk-container-id-2 div.sk-label:hover label.sk-toggleable__label {background-color: #d4ebff;}#sk-container-id-2 div.sk-serial::before {content: \"\";position: absolute;border-left: 1px solid gray;box-sizing: border-box;top: 0;bottom: 0;left: 50%;z-index: 0;}#sk-container-id-2 div.sk-serial {display: flex;flex-direction: column;align-items: center;background-color: white;padding-right: 0.2em;padding-left: 0.2em;position: relative;}#sk-container-id-2 div.sk-item {position: relative;z-index: 1;}#sk-container-id-2 div.sk-parallel {display: flex;align-items: stretch;justify-content: center;background-color: white;position: relative;}#sk-container-id-2 div.sk-item::before, #sk-container-id-2 div.sk-parallel-item::before {content: \"\";position: absolute;border-left: 1px solid gray;box-sizing: border-box;top: 0;bottom: 0;left: 50%;z-index: -1;}#sk-container-id-2 div.sk-parallel-item {display: flex;flex-direction: column;z-index: 1;position: relative;background-color: white;}#sk-container-id-2 div.sk-parallel-item:first-child::after {align-self: flex-end;width: 50%;}#sk-container-id-2 div.sk-parallel-item:last-child::after {align-self: flex-start;width: 50%;}#sk-container-id-2 div.sk-parallel-item:only-child::after {width: 0;}#sk-container-id-2 div.sk-dashed-wrapped {border: 1px dashed gray;margin: 0 0.4em 0.5em 0.4em;box-sizing: border-box;padding-bottom: 0.4em;background-color: white;}#sk-container-id-2 div.sk-label label {font-family: monospace;font-weight: bold;display: inline-block;line-height: 1.2em;}#sk-container-id-2 div.sk-label-container {text-align: center;}#sk-container-id-2 div.sk-container {/* jupyter's `normalize.less` sets `[hidden] { display: none; }` but bootstrap.min.css set `[hidden] { display: none !important; }` so we also need the `!important` here to be able to override the default hidden behavior on the sphinx rendered scikit-learn.org. See: https://github.com/scikit-learn/scikit-learn/issues/21755 */display: inline-block !important;position: relative;}#sk-container-id-2 div.sk-text-repr-fallback {display: none;}</style><div id=\"sk-container-id-2\" class=\"sk-top-container\"><div class=\"sk-text-repr-fallback\"><pre>XGBClassifier(base_score=None, booster=None, callbacks=None,\n",
              "              colsample_bylevel=None, colsample_bynode=None,\n",
              "              colsample_bytree=None, early_stopping_rounds=None,\n",
              "              enable_categorical=False, eval_metric=None, feature_types=None,\n",
              "              gamma=None, gpu_id=None, grow_policy=None, importance_type=None,\n",
              "              interaction_constraints=None, learning_rate=None, max_bin=None,\n",
              "              max_cat_threshold=None, max_cat_to_onehot=None,\n",
              "              max_delta_step=None, max_depth=None, max_leaves=None,\n",
              "              min_child_weight=None, missing=nan, monotone_constraints=None,\n",
              "              n_estimators=100, n_jobs=None, num_parallel_tree=None,\n",
              "              objective=&#x27;multi:softprob&#x27;, predictor=None, ...)</pre><b>In a Jupyter environment, please rerun this cell to show the HTML representation or trust the notebook. <br />On GitHub, the HTML representation is unable to render, please try loading this page with nbviewer.org.</b></div><div class=\"sk-container\" hidden><div class=\"sk-item\"><div class=\"sk-estimator sk-toggleable\"><input class=\"sk-toggleable__control sk-hidden--visually\" id=\"sk-estimator-id-2\" type=\"checkbox\" checked><label for=\"sk-estimator-id-2\" class=\"sk-toggleable__label sk-toggleable__label-arrow\">XGBClassifier</label><div class=\"sk-toggleable__content\"><pre>XGBClassifier(base_score=None, booster=None, callbacks=None,\n",
              "              colsample_bylevel=None, colsample_bynode=None,\n",
              "              colsample_bytree=None, early_stopping_rounds=None,\n",
              "              enable_categorical=False, eval_metric=None, feature_types=None,\n",
              "              gamma=None, gpu_id=None, grow_policy=None, importance_type=None,\n",
              "              interaction_constraints=None, learning_rate=None, max_bin=None,\n",
              "              max_cat_threshold=None, max_cat_to_onehot=None,\n",
              "              max_delta_step=None, max_depth=None, max_leaves=None,\n",
              "              min_child_weight=None, missing=nan, monotone_constraints=None,\n",
              "              n_estimators=100, n_jobs=None, num_parallel_tree=None,\n",
              "              objective=&#x27;multi:softprob&#x27;, predictor=None, ...)</pre></div></div></div></div></div>"
            ],
            "text/plain": [
              "XGBClassifier(base_score=None, booster=None, callbacks=None,\n",
              "              colsample_bylevel=None, colsample_bynode=None,\n",
              "              colsample_bytree=None, early_stopping_rounds=None,\n",
              "              enable_categorical=False, eval_metric=None, feature_types=None,\n",
              "              gamma=None, gpu_id=None, grow_policy=None, importance_type=None,\n",
              "              interaction_constraints=None, learning_rate=None, max_bin=None,\n",
              "              max_cat_threshold=None, max_cat_to_onehot=None,\n",
              "              max_delta_step=None, max_depth=None, max_leaves=None,\n",
              "              min_child_weight=None, missing=nan, monotone_constraints=None,\n",
              "              n_estimators=100, n_jobs=None, num_parallel_tree=None,\n",
              "              objective='multi:softprob', predictor=None, ...)"
            ]
          },
          "execution_count": 28,
          "metadata": {},
          "output_type": "execute_result"
        }
      ],
      "source": [
        "# Fit\n",
        "xgb_cl.fit(X_train, y_train_encoded)"
      ]
    },
    {
      "cell_type": "code",
      "execution_count": null,
      "metadata": {
        "id": "_UZx7w-LKSie"
      },
      "outputs": [],
      "source": [
        "# Predict\n",
        "pred = xgb_cl.predict(X_test)\n",
        "y_pred = label_encoder.inverse_transform(pred)"
      ]
    },
    {
      "cell_type": "code",
      "execution_count": null,
      "metadata": {
        "colab": {
          "base_uri": "https://localhost:8080/"
        },
        "id": "OLqcf1EhVKk4",
        "outputId": "23787d7f-4214-492a-ee1c-e497e52ea012"
      },
      "outputs": [
        {
          "data": {
            "text/plain": [
              "0.3313450641216821"
            ]
          },
          "execution_count": 33,
          "metadata": {},
          "output_type": "execute_result"
        }
      ],
      "source": [
        "# Score\n",
        "accuracy_score(y_test, y_pred)"
      ]
    },
    {
      "cell_type": "code",
      "execution_count": null,
      "metadata": {
        "colab": {
          "base_uri": "https://localhost:8080/"
        },
        "id": "ylqTryLawsfR",
        "outputId": "a288be1f-e23e-4fb7-bc5c-934ddc49c423"
      },
      "outputs": [
        {
          "name": "stdout",
          "output_type": "stream",
          "text": [
            "RMSE :  3.7714690144150085\n",
            "MAE :  2.502535043244855\n"
          ]
        }
      ],
      "source": [
        "print('RMSE : ', rmse(y_test, y_pred))\n",
        "print('MAE : ', mae(y_test, y_pred))"
      ]
    },
    {
      "cell_type": "markdown",
      "metadata": {
        "id": "Zs6Z2urQKTHb"
      },
      "source": [
        "### LightGBM"
      ]
    },
    {
      "cell_type": "code",
      "execution_count": null,
      "metadata": {
        "id": "41zrp8ttKUeL"
      },
      "outputs": [],
      "source": [
        "lgbm_cl = LGBMClassifier()"
      ]
    },
    {
      "cell_type": "markdown",
      "metadata": {
        "id": "ZUlM6qYOUXfK"
      },
      "source": [
        "- category를 그대로 변수명으로 사용하여 일부 LGBMClassifier에 사용 불가능한 string값이 섞여있었습니다. 아래 단계를 통해 이를 제거합니다"
      ]
    },
    {
      "cell_type": "code",
      "execution_count": null,
      "metadata": {
        "id": "TwKLczEkUGTQ"
      },
      "outputs": [],
      "source": [
        "X_train_for_lgbm = X_train.rename(columns = lambda x:re.sub('[^A-Za-z0-9_]+', '', x))\n",
        "X_test_for_lgbm = X_test.rename(columns = lambda x:re.sub('[^A-Za-z0-9_]+', '', x))"
      ]
    },
    {
      "cell_type": "code",
      "execution_count": null,
      "metadata": {
        "colab": {
          "base_uri": "https://localhost:8080/",
          "height": 75
        },
        "id": "SaNWQIh6Kap_",
        "outputId": "2684e6e9-7ab2-45c8-926c-c0f1713fdc1b"
      },
      "outputs": [
        {
          "data": {
            "text/html": [
              "<style>#sk-container-id-5 {color: black;background-color: white;}#sk-container-id-5 pre{padding: 0;}#sk-container-id-5 div.sk-toggleable {background-color: white;}#sk-container-id-5 label.sk-toggleable__label {cursor: pointer;display: block;width: 100%;margin-bottom: 0;padding: 0.3em;box-sizing: border-box;text-align: center;}#sk-container-id-5 label.sk-toggleable__label-arrow:before {content: \"▸\";float: left;margin-right: 0.25em;color: #696969;}#sk-container-id-5 label.sk-toggleable__label-arrow:hover:before {color: black;}#sk-container-id-5 div.sk-estimator:hover label.sk-toggleable__label-arrow:before {color: black;}#sk-container-id-5 div.sk-toggleable__content {max-height: 0;max-width: 0;overflow: hidden;text-align: left;background-color: #f0f8ff;}#sk-container-id-5 div.sk-toggleable__content pre {margin: 0.2em;color: black;border-radius: 0.25em;background-color: #f0f8ff;}#sk-container-id-5 input.sk-toggleable__control:checked~div.sk-toggleable__content {max-height: 200px;max-width: 100%;overflow: auto;}#sk-container-id-5 input.sk-toggleable__control:checked~label.sk-toggleable__label-arrow:before {content: \"▾\";}#sk-container-id-5 div.sk-estimator input.sk-toggleable__control:checked~label.sk-toggleable__label {background-color: #d4ebff;}#sk-container-id-5 div.sk-label input.sk-toggleable__control:checked~label.sk-toggleable__label {background-color: #d4ebff;}#sk-container-id-5 input.sk-hidden--visually {border: 0;clip: rect(1px 1px 1px 1px);clip: rect(1px, 1px, 1px, 1px);height: 1px;margin: -1px;overflow: hidden;padding: 0;position: absolute;width: 1px;}#sk-container-id-5 div.sk-estimator {font-family: monospace;background-color: #f0f8ff;border: 1px dotted black;border-radius: 0.25em;box-sizing: border-box;margin-bottom: 0.5em;}#sk-container-id-5 div.sk-estimator:hover {background-color: #d4ebff;}#sk-container-id-5 div.sk-parallel-item::after {content: \"\";width: 100%;border-bottom: 1px solid gray;flex-grow: 1;}#sk-container-id-5 div.sk-label:hover label.sk-toggleable__label {background-color: #d4ebff;}#sk-container-id-5 div.sk-serial::before {content: \"\";position: absolute;border-left: 1px solid gray;box-sizing: border-box;top: 0;bottom: 0;left: 50%;z-index: 0;}#sk-container-id-5 div.sk-serial {display: flex;flex-direction: column;align-items: center;background-color: white;padding-right: 0.2em;padding-left: 0.2em;position: relative;}#sk-container-id-5 div.sk-item {position: relative;z-index: 1;}#sk-container-id-5 div.sk-parallel {display: flex;align-items: stretch;justify-content: center;background-color: white;position: relative;}#sk-container-id-5 div.sk-item::before, #sk-container-id-5 div.sk-parallel-item::before {content: \"\";position: absolute;border-left: 1px solid gray;box-sizing: border-box;top: 0;bottom: 0;left: 50%;z-index: -1;}#sk-container-id-5 div.sk-parallel-item {display: flex;flex-direction: column;z-index: 1;position: relative;background-color: white;}#sk-container-id-5 div.sk-parallel-item:first-child::after {align-self: flex-end;width: 50%;}#sk-container-id-5 div.sk-parallel-item:last-child::after {align-self: flex-start;width: 50%;}#sk-container-id-5 div.sk-parallel-item:only-child::after {width: 0;}#sk-container-id-5 div.sk-dashed-wrapped {border: 1px dashed gray;margin: 0 0.4em 0.5em 0.4em;box-sizing: border-box;padding-bottom: 0.4em;background-color: white;}#sk-container-id-5 div.sk-label label {font-family: monospace;font-weight: bold;display: inline-block;line-height: 1.2em;}#sk-container-id-5 div.sk-label-container {text-align: center;}#sk-container-id-5 div.sk-container {/* jupyter's `normalize.less` sets `[hidden] { display: none; }` but bootstrap.min.css set `[hidden] { display: none !important; }` so we also need the `!important` here to be able to override the default hidden behavior on the sphinx rendered scikit-learn.org. See: https://github.com/scikit-learn/scikit-learn/issues/21755 */display: inline-block !important;position: relative;}#sk-container-id-5 div.sk-text-repr-fallback {display: none;}</style><div id=\"sk-container-id-5\" class=\"sk-top-container\"><div class=\"sk-text-repr-fallback\"><pre>LGBMClassifier()</pre><b>In a Jupyter environment, please rerun this cell to show the HTML representation or trust the notebook. <br />On GitHub, the HTML representation is unable to render, please try loading this page with nbviewer.org.</b></div><div class=\"sk-container\" hidden><div class=\"sk-item\"><div class=\"sk-estimator sk-toggleable\"><input class=\"sk-toggleable__control sk-hidden--visually\" id=\"sk-estimator-id-5\" type=\"checkbox\" checked><label for=\"sk-estimator-id-5\" class=\"sk-toggleable__label sk-toggleable__label-arrow\">LGBMClassifier</label><div class=\"sk-toggleable__content\"><pre>LGBMClassifier()</pre></div></div></div></div></div>"
            ],
            "text/plain": [
              "LGBMClassifier()"
            ]
          },
          "execution_count": 59,
          "metadata": {},
          "output_type": "execute_result"
        }
      ],
      "source": [
        "# Fit\n",
        "lgbm_cl.fit(X_train_for_lgbm, y_train)"
      ]
    },
    {
      "cell_type": "code",
      "execution_count": null,
      "metadata": {
        "id": "Af8Oo17YKals"
      },
      "outputs": [],
      "source": [
        "# Predict\n",
        "y_pred = lgbm_cl.predict(X_test_for_lgbm)"
      ]
    },
    {
      "cell_type": "code",
      "execution_count": null,
      "metadata": {
        "colab": {
          "base_uri": "https://localhost:8080/"
        },
        "id": "iF7Ax10gKaju",
        "outputId": "cb6bfba5-e7a1-443b-e3a6-57b4c900ec04"
      },
      "outputs": [
        {
          "data": {
            "text/plain": [
              "0.443483447658813"
            ]
          },
          "execution_count": 61,
          "metadata": {},
          "output_type": "execute_result"
        }
      ],
      "source": [
        "# Score\n",
        "accuracy_score(y_test, y_pred)"
      ]
    },
    {
      "cell_type": "code",
      "execution_count": null,
      "metadata": {
        "colab": {
          "base_uri": "https://localhost:8080/"
        },
        "id": "ChvDCmL8uhIv",
        "outputId": "973771a6-b3a5-4c62-d42d-d7106ea3ad4e"
      },
      "outputs": [
        {
          "name": "stdout",
          "output_type": "stream",
          "text": [
            "RMSE :  3.5432229494725496\n",
            "MAE :  2.1225767968983\n"
          ]
        }
      ],
      "source": [
        "print('RMSE : ', rmse(y_test, y_pred))\n",
        "print('MAE : ', mae(y_test, y_pred))"
      ]
    },
    {
      "cell_type": "markdown",
      "metadata": {
        "id": "WG7VQZytKbEA"
      },
      "source": [
        "### CatBoost"
      ]
    },
    {
      "cell_type": "code",
      "execution_count": null,
      "metadata": {
        "id": "mWybqCH6Kb5i"
      },
      "outputs": [],
      "source": [
        "catboost_cl = CatBoostClassifier()"
      ]
    },
    {
      "cell_type": "code",
      "execution_count": null,
      "metadata": {
        "id": "oLQ0MRAQVOpB"
      },
      "outputs": [],
      "source": [
        "# Fit\n",
        "catboost_cl.fit(X_train, y_train)"
      ]
    },
    {
      "cell_type": "code",
      "execution_count": null,
      "metadata": {
        "id": "78Zo4FpZVOmj"
      },
      "outputs": [],
      "source": [
        "# Predict\n",
        "y_pred = catboost_cl.predict(X_test)"
      ]
    },
    {
      "cell_type": "code",
      "execution_count": null,
      "metadata": {
        "colab": {
          "base_uri": "https://localhost:8080/"
        },
        "id": "9NFFMyR6VOg8",
        "outputId": "36bcf4d2-f297-40d9-914d-335e75dc41d2"
      },
      "outputs": [
        {
          "data": {
            "text/plain": [
              "0.44437816880405606"
            ]
          },
          "execution_count": 83,
          "metadata": {},
          "output_type": "execute_result"
        }
      ],
      "source": [
        "# Score\n",
        "accuracy_score(y_test, y_pred)"
      ]
    },
    {
      "cell_type": "code",
      "execution_count": null,
      "metadata": {
        "colab": {
          "base_uri": "https://localhost:8080/"
        },
        "id": "uHbyAXaowU11",
        "outputId": "ef54a41c-16a9-45a1-8543-868aa5c74475"
      },
      "outputs": [
        {
          "name": "stdout",
          "output_type": "stream",
          "text": [
            "RMSE :  3.528842430527749\n",
            "MAE :  2.0990158067402325\n"
          ]
        }
      ],
      "source": [
        "print('RMSE : ', rmse(y_test, y_pred.squeeze(1)))\n",
        "print('MAE : ', mae(y_test, y_pred.squeeze(1)))"
      ]
    },
    {
      "cell_type": "code",
      "execution_count": null,
      "metadata": {
        "id": "ovVMQxwm0hEU"
      },
      "outputs": [],
      "source": [
        "# categorical 변수를 one-hot encoding 하지 않고 그대로 사용하는 방법\n",
        "\n",
        "# category 타입 cat_features에 선언하기 위한 작업\n",
        "cat_list = [x for x in X_train_cat.columns.tolist() if x not in ['age', 'year_of_publication']]\n",
        "                                \n",
        "catboost_cl = CatBoostClassifier(cat_features=cat_list)\n",
        "\n",
        "# Fit\n",
        "catboost_cl.fit(X_train_cat, y_train_cat)\n",
        "\n",
        "# Predict\n",
        "y_pred = catboost_cl.predict(X_test_cat)\n",
        "\n",
        "# Score\n",
        "accuracy_score(y_test_cat, y_pred)"
      ]
    },
    {
      "cell_type": "code",
      "execution_count": null,
      "metadata": {
        "colab": {
          "base_uri": "https://localhost:8080/"
        },
        "id": "ke-C3BTq4qka",
        "outputId": "26bfbda3-606b-4df0-b007-81fbcf2be286"
      },
      "outputs": [
        {
          "name": "stdout",
          "output_type": "stream",
          "text": [
            "RMSE :  3.4575091065089913\n",
            "MAE :  2.0605427974947808\n"
          ]
        }
      ],
      "source": [
        "print('RMSE : ', rmse(y_test, y_pred.squeeze(1)))\n",
        "print('MAE : ', mae(y_test, y_pred.squeeze(1)))"
      ]
    },
    {
      "cell_type": "markdown",
      "metadata": {
        "id": "t_L92am4U3k_"
      },
      "source": [
        "### parameter tuning"
      ]
    },
    {
      "cell_type": "markdown",
      "metadata": {
        "id": "c9fW2vLRcu_C"
      },
      "source": [
        "XGBoost  \n",
        "https://xgboost.readthedocs.io/en/stable/parameter.html 문서에 나온 파라미터를 참조하여 수정할 수 있습니다\n"
      ]
    },
    {
      "cell_type": "code",
      "execution_count": null,
      "metadata": {
        "id": "pkpTvODUKeHd"
      },
      "outputs": [],
      "source": [
        "xgb_cl = XGBClassifier(n_estimators=100, learning_rate=0.15, max_depth=5, num_parallel_tree=3)\n",
        "\n",
        "# Fit\n",
        "xgb_cl.fit(X_train, y_train_encoded, early_stopping_rounds=5,\n",
        "             eval_set=[(X_test, y_test_encoded)], verbose=True)\n",
        "\n",
        "# Predict\n",
        "pred = xgb_cl.predict(X_test)\n",
        "y_pred = label_encoder.inverse_transform(pred)\n",
        "\n",
        "# Score\n",
        "accuracy_score(y_test_encoded, y_pred)"
      ]
    },
    {
      "cell_type": "markdown",
      "metadata": {
        "id": "wrD1aTIZcxS7"
      },
      "source": [
        "\bLightGBM  \n",
        "https://lightgbm.readthedocs.io/en/latest/Parameters.html 문서에 나온 파라미터를 참조하여 수정할 수 있습니다 \n"
      ]
    },
    {
      "cell_type": "code",
      "execution_count": null,
      "metadata": {
        "colab": {
          "base_uri": "https://localhost:8080/"
        },
        "id": "OUFN3m8AxLan",
        "outputId": "c25fda8d-371b-4e92-c833-b14b3bbb477b"
      },
      "outputs": [
        {
          "name": "stdout",
          "output_type": "stream",
          "text": [
            "[LightGBM] [Warning] num_threads is set with nthread=4, will be overridden by n_jobs=-1. Current value: num_threads=-1\n"
          ]
        },
        {
          "data": {
            "text/plain": [
              "0.40620339994035193"
            ]
          },
          "execution_count": 85,
          "metadata": {},
          "output_type": "execute_result"
        }
      ],
      "source": [
        "lgbm_cl = LGBMClassifier(\n",
        "                        nthread=4,\n",
        "                        n_estimators=1000,\n",
        "                        learning_rate=0.02,\n",
        "                        num_leaves=34,\n",
        "                        colsample_bytree=0.94,\n",
        "                        subsample=0.87,\n",
        "                        max_depth=8,\n",
        "                        reg_alpha=0.04,\n",
        "                        reg_lambda=0.07,\n",
        "                        min_split_gain=0.02,\n",
        "                        min_child_weight=32,\n",
        "                        silent=-1,\n",
        "                        verbose=-1\n",
        "                        )\n",
        "\n",
        "# Fit\n",
        "lgbm_cl.fit(X_train_for_lgbm, y_train)\n",
        "\n",
        "# Predict\n",
        "y_pred = lgbm_cl.predict(X_test_for_lgbm)\n",
        "\n",
        "# Score\n",
        "accuracy_score(y_test, y_pred)"
      ]
    },
    {
      "cell_type": "markdown",
      "metadata": {
        "id": "ANbwjBIyc66b"
      },
      "source": [
        "CatBoost  \n",
        "https://catboost.ai/en/docs/references/training-parameters/ 문서에 나온 파라미터를 참조하여 수정할 수 있습니다 \n"
      ]
    },
    {
      "cell_type": "code",
      "execution_count": null,
      "metadata": {
        "colab": {
          "base_uri": "https://localhost:8080/"
        },
        "id": "pJybhGES5Jfc",
        "outputId": "56c8812b-e21e-4e41-967c-1d6e1944f816"
      },
      "outputs": [
        {
          "name": "stdout",
          "output_type": "stream",
          "text": [
            "Learning rate set to 0.090329\n",
            "0:\tlearn: 2.1702451\ttotal: 478ms\tremaining: 7m 57s\n",
            "200:\tlearn: 1.4117550\ttotal: 1m 21s\tremaining: 5m 22s\n",
            "400:\tlearn: 1.3036762\ttotal: 2m 42s\tremaining: 4m 2s\n",
            "600:\tlearn: 1.2036472\ttotal: 4m 3s\tremaining: 2m 41s\n",
            "800:\tlearn: 1.1116926\ttotal: 5m 25s\tremaining: 1m 20s\n",
            "999:\tlearn: 1.0213578\ttotal: 6m 45s\tremaining: 0us\n"
          ]
        },
        {
          "data": {
            "text/plain": [
              "0.43722039964211157"
            ]
          },
          "execution_count": 86,
          "metadata": {},
          "output_type": "execute_result"
        }
      ],
      "source": [
        "# category 타입 cat_features에 선언하기 위한 작업\n",
        "cat_list = [x for x in X_train_cat.columns.tolist() if x not in ['age', 'year_of_publication']]\n",
        "\n",
        "catboost_cl = CatBoostClassifier(\n",
        "                                loss_function='MultiClass',\n",
        "                                eval_metric='MultiClass',\n",
        "                                verbose=200,\n",
        "                                early_stopping_rounds=200,\n",
        "                                cat_features=cat_list,\n",
        "                                random_seed=101\n",
        "                                )\n",
        "\n",
        "# Fit\n",
        "catboost_cl.fit(X_train_cat, y_train_cat)\n",
        "\n",
        "# Predict\n",
        "y_pred = catboost_cl.predict(X_test_cat)\n",
        "\n",
        "# Score\n",
        "accuracy_score(y_test_cat, y_pred)"
      ]
    },
    {
      "cell_type": "markdown",
      "metadata": {
        "id": "_xRL8okd67vD"
      },
      "source": [
        "params를 미리 선언하여 학습도 가능합니다. (catboost뿐만 아니라 모든 모델에 해당)"
      ]
    },
    {
      "cell_type": "code",
      "execution_count": null,
      "metadata": {
        "colab": {
          "base_uri": "https://localhost:8080/"
        },
        "id": "xWqGs8C8WFpG",
        "outputId": "4f5fac08-d2c3-4be1-affe-44b3da49c4eb"
      },
      "outputs": [
        {
          "name": "stdout",
          "output_type": "stream",
          "text": [
            "Learning rate set to 0.090329\n",
            "0:\tlearn: 2.1702451\ttotal: 368ms\tremaining: 6m 7s\n",
            "200:\tlearn: 1.4117550\ttotal: 1m 20s\tremaining: 5m 19s\n",
            "400:\tlearn: 1.3036762\ttotal: 2m 41s\tremaining: 4m 1s\n",
            "600:\tlearn: 1.2036472\ttotal: 4m 2s\tremaining: 2m 40s\n",
            "800:\tlearn: 1.1116926\ttotal: 5m 23s\tremaining: 1m 20s\n",
            "999:\tlearn: 1.0213578\ttotal: 6m 43s\tremaining: 0us\n"
          ]
        },
        {
          "data": {
            "text/plain": [
              "0.43722039964211157"
            ]
          },
          "execution_count": 87,
          "metadata": {},
          "output_type": "execute_result"
        }
      ],
      "source": [
        "params = {'loss_function':'MultiClass', # objective function\n",
        "          'eval_metric':'MultiClass', # metric\n",
        "          'verbose': 200, # output to stdout info about training process every 200 iterations\n",
        "          'early_stopping_rounds': 200,\n",
        "          'cat_features': cat_list,\n",
        "          'random_seed': 101\n",
        "        }\n",
        "catboost_cl_params = CatBoostClassifier(**params)\n",
        "\n",
        "# Fit\n",
        "catboost_cl_params.fit(X_train_cat, y_train_cat)\n",
        "\n",
        "# Predict\n",
        "y_pred = catboost_cl_params.predict(X_test_cat)\n",
        "\n",
        "# Score\n",
        "accuracy_score(y_test_cat, y_pred)"
      ]
    },
    {
      "cell_type": "markdown",
      "metadata": {
        "id": "iNZMxkWtWMNL"
      },
      "source": [
        "<font color='red'><b>**WARNING**</b></font> : **본 교육 콘텐츠의 지식재산권은 재단법인 네이버커넥트에 귀속됩니다. 본 콘텐츠를 어떠한 경로로든 외부로 유출 및 수정하는 행위를 엄격히 금합니다.** 다만, 비영리적 교육 및 연구활동에 한정되어 사용할 수 있으나 재단의 허락을 받아야 합니다. 이를 위반하는 경우, 관련 법률에 따라 책임을 질 수 있습니다.\n",
        "\n",
        "\n"
      ]
    }
  ],
  "metadata": {
    "colab": {
      "collapsed_sections": [
        "kPTigBZXoMjq",
        "zuyOZL2FgI_u",
        "28UjyE_ug2SW",
        "L7y7AzIRhC4u",
        "C_AgiI5qhHB-",
        "JE9lIuPOiNex",
        "rPuzkpKZiQ2Y",
        "R7n1SpiXn7e5",
        "nGroaKZ4WgX_",
        "2v2V07T-hqxS",
        "SOx-kvctKQki",
        "Zs6Z2urQKTHb",
        "WG7VQZytKbEA",
        "t_L92am4U3k_"
      ],
      "machine_shape": "hm",
      "provenance": [],
      "toc_visible": true
    },
    "gpuClass": "standard",
    "kernelspec": {
      "display_name": "camp",
      "language": "python",
      "name": "camp"
    },
    "language_info": {
      "codemirror_mode": {
        "name": "ipython",
        "version": 3
      },
      "file_extension": ".py",
      "mimetype": "text/x-python",
      "name": "python",
      "nbconvert_exporter": "python",
      "pygments_lexer": "ipython3",
      "version": "3.10.9"
    }
  },
  "nbformat": 4,
  "nbformat_minor": 0
}
