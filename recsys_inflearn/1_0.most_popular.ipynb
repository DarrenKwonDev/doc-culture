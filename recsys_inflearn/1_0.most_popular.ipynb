{
 "cells": [
  {
   "cell_type": "code",
   "execution_count": 3,
   "metadata": {},
   "outputs": [
    {
     "name": "stdout",
     "output_type": "stream",
     "text": [
      "1.23.5\n",
      "1.5.3\n",
      "3.7.1\n"
     ]
    }
   ],
   "source": [
    "import numpy as np\n",
    "import pandas as pd\n",
    "import matplotlib as mpl\n",
    "import matplotlib.pyplot as plt # https://matplotlib.org/stable/api/pyplot_summary.html#module-matplotlib.pyplot\n",
    "\n",
    "%matplotlib inline\n",
    "\n",
    "# from IPython.display import set_matplotlib_formats\n",
    "# set_matplotlib_formats(\"retina\") \n",
    "%config InlineBackend.figure_format='retina'\n",
    "\n",
    "import warnings\n",
    "warnings.filterwarnings('ignore')\n",
    "\n",
    "print(f\"{np.__version__}\")\n",
    "print(f\"{pd.__version__}\")\n",
    "print(f\"{mpl.__version__}\")"
   ]
  },
  {
   "cell_type": "code",
   "execution_count": 4,
   "metadata": {},
   "outputs": [
    {
     "name": "stdout",
     "output_type": "stream",
     "text": [
      "1.1.3\n",
      "1.11.1\n",
      "1.10.0\n"
     ]
    }
   ],
   "source": [
    "import scipy as sp\n",
    "import sympy\n",
    "import sklearn\n",
    "\n",
    "sympy.init_printing(use_latex='mathjax') # Juypter 노트북에서 수학식의 LaTeX 표현을 위해 필요함\n",
    "\n",
    "print(f\"{sklearn.__version__}\")\n",
    "print(f\"{sympy.__version__}\")\n",
    "print(f\"{sp.__version__}\")"
   ]
  },
  {
   "cell_type": "code",
   "execution_count": 5,
   "metadata": {},
   "outputs": [
    {
     "data": {
      "text/latex": [
       "$\\displaystyle \\left( \\left( 943, \\  4\\right), \\  \\left( 1682, \\  23\\right), \\  \\left( 100000, \\  3\\right)\\right)$"
      ],
      "text/plain": [
       "((943, 4), (1682, 23), (100000, 3))"
      ]
     },
     "execution_count": 5,
     "metadata": {},
     "output_type": "execute_result"
    }
   ],
   "source": [
    "import os\n",
    "\n",
    "base_src = \"./data/\"\n",
    "\n",
    "# users\n",
    "u_user_src = os.path.join(base_src, \"u.user\")\n",
    "u_cols = [\"user_id\", \"age\", \"sex\", \"occupation\", \"zip_code\"]\n",
    "users = pd.read_csv(u_user_src, sep=\"|\", names=u_cols, encoding=\"latin-1\")\n",
    "users.set_index(\"user_id\", inplace=True)\n",
    "\n",
    "# items\n",
    "u_item_src = os.path.join(base_src, \"u.item\")\n",
    "i_cols = [\n",
    "    \"movie_id\", \"title\", \"release_date\", \"video_release_date\", \"imdb_url\", \n",
    "    \"unknown\", \"Action\", \"Adventure\", \"Animation\", \"Children\", \"Comedy\", \"Crime\",\n",
    "    \"Documentary\", \"Drama\", \"Fantasy\", \"Film-Noir\", \"Horror\", \"Musical\", \"Mystery\", \"Romance\", \"Sci-fi\", \"Thriller\", \"War\", \"Western\"\n",
    "    ]\n",
    "items = pd.read_csv(u_item_src, sep=\"|\", names=i_cols, encoding=\"latin-1\")\n",
    "items.set_index(\"movie_id\", inplace=True)\n",
    "\n",
    "# ratings\n",
    "u_data_src = os.path.join(base_src, \"u.data\")\n",
    "u_cols = [\"user_id\", \"movie_id\", \"rating\", \"timestamp\"]\n",
    "ratings = pd.read_csv(u_data_src, sep=\"\\t\", names=u_cols, encoding=\"latin-1\")\n",
    "ratings.set_index(\"user_id\", inplace=True)\n",
    "\n",
    "users.shape, items.shape, ratings.shape"
   ]
  },
  {
   "cell_type": "code",
   "execution_count": 49,
   "metadata": {},
   "outputs": [],
   "source": [
    "def recom_movie(n_items: int) -> pd.Series:\n",
    "    \"\"\"\n",
    "    단순한 rating 평균으로 top-k 추천\n",
    "    \"\"\"\n",
    "    movie_mean = ratings.groupby([\"movie_id\"])[\"rating\"].mean() # movie 별로 평균을 냄. movie_id를 index로, rating의 mean으로 value를 가짐\n",
    "    movie_sort = movie_mean.sort_values(ascending=False)[:n_items] # 평균을 기준으로 정렬\n",
    "    \n",
    "    # 전체 아이템 중 n_items개의 아이템을 추출\n",
    "    recom_movies = items.loc[movie_sort.index] # movie_id를 기준으로 items에서 추출\n",
    "    recommendations = recom_movies[\"title\"]\n",
    "    \n",
    "    return recommendations"
   ]
  },
  {
   "cell_type": "code",
   "execution_count": 51,
   "metadata": {},
   "outputs": [
    {
     "data": {
      "text/plain": [
       "movie_id\n",
       "814                         Great Day in Harlem, A (1994)\n",
       "1599                        Someone Else's America (1995)\n",
       "1201           Marlene Dietrich: Shadow and Light (1996) \n",
       "1122                       They Made Me a Criminal (1939)\n",
       "1653    Entertaining Angels: The Dorothy Day Story (1996)\n",
       "1293                                      Star Kid (1997)\n",
       "1500                            Santa with Muscles (1996)\n",
       "1189                                   Prefontaine (1997)\n",
       "1536                                 Aiqing wansui (1994)\n",
       "1467                 Saint of Fort Washington, The (1993)\n",
       "1449                               Pather Panchali (1955)\n",
       "119                Maya Lin: A Strong Clear Vision (1994)\n",
       "Name: title, dtype: object"
      ]
     },
     "execution_count": 51,
     "metadata": {},
     "output_type": "execute_result"
    }
   ],
   "source": [
    "recom_movie(12)"
   ]
  },
  {
   "cell_type": "code",
   "execution_count": 52,
   "metadata": {},
   "outputs": [],
   "source": [
    "def RMSE(y_true, y_pred):\n",
    "    \"\"\"\n",
    "    root mean squared error.\n",
    "    \"\"\"\n",
    "    return np.sqrt(np.mean((np.array(y_true) - np.array(y_pred))**2))"
   ]
  },
  {
   "cell_type": "code",
   "execution_count": 55,
   "metadata": {},
   "outputs": [
    {
     "data": {
      "text/latex": [
       "$\\displaystyle 0.996007224010567$"
      ],
      "text/plain": [
       "0.996007224010567"
      ]
     },
     "execution_count": 55,
     "metadata": {},
     "output_type": "execute_result"
    }
   ],
   "source": [
    "rmse = []\n",
    "\n",
    "movie_mean = ratings.groupby([\"movie_id\"])[\"rating\"].mean() # Series\n",
    "\n",
    "for user in set(ratings.index):\n",
    "    y_true = ratings.loc[user][\"rating\"]\n",
    "    y_pred = movie_mean[ratings.loc[user][\"movie_id\"]]\n",
    "    \n",
    "    rmse.append(RMSE(y_true, y_pred))\n",
    "    \n",
    "np.mean(rmse) # 0점에서 10점 척도인데 RMSE가 1."
   ]
  },
  {
   "cell_type": "code",
   "execution_count": null,
   "metadata": {},
   "outputs": [],
   "source": []
  }
 ],
 "metadata": {
  "kernelspec": {
   "display_name": "camp",
   "language": "python",
   "name": "camp"
  },
  "language_info": {
   "codemirror_mode": {
    "name": "ipython",
    "version": 3
   },
   "file_extension": ".py",
   "mimetype": "text/x-python",
   "name": "python",
   "nbconvert_exporter": "python",
   "pygments_lexer": "ipython3",
   "version": "3.10.9"
  },
  "orig_nbformat": 4
 },
 "nbformat": 4,
 "nbformat_minor": 2
}
