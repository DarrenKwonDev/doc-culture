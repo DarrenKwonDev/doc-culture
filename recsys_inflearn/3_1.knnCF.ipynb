{
 "cells": [
  {
   "cell_type": "code",
   "execution_count": 1,
   "metadata": {},
   "outputs": [
    {
     "name": "stdout",
     "output_type": "stream",
     "text": [
      "1.23.5\n",
      "1.5.3\n",
      "3.7.1\n"
     ]
    }
   ],
   "source": [
    "import numpy as np\n",
    "import pandas as pd\n",
    "import matplotlib as mpl\n",
    "import matplotlib.pyplot as plt # https://matplotlib.org/stable/api/pyplot_summary.html#module-matplotlib.pyplot\n",
    "\n",
    "%matplotlib inline\n",
    "\n",
    "# from IPython.display import set_matplotlib_formats\n",
    "# set_matplotlib_formats(\"retina\") \n",
    "%config InlineBackend.figure_format='retina'\n",
    "\n",
    "import warnings\n",
    "warnings.filterwarnings('ignore')\n",
    "\n",
    "print(f\"{np.__version__}\")\n",
    "print(f\"{pd.__version__}\")\n",
    "print(f\"{mpl.__version__}\")"
   ]
  },
  {
   "cell_type": "code",
   "execution_count": 2,
   "metadata": {},
   "outputs": [
    {
     "name": "stdout",
     "output_type": "stream",
     "text": [
      "1.1.3\n",
      "1.11.1\n",
      "1.10.0\n"
     ]
    }
   ],
   "source": [
    "import scipy as sp\n",
    "import sympy\n",
    "import sklearn\n",
    "\n",
    "sympy.init_printing(use_latex='mathjax') # Juypter 노트북에서 수학식의 LaTeX 표현을 위해 필요함\n",
    "\n",
    "print(f\"{sklearn.__version__}\")\n",
    "print(f\"{sympy.__version__}\")\n",
    "print(f\"{sp.__version__}\")"
   ]
  },
  {
   "cell_type": "code",
   "execution_count": 6,
   "metadata": {},
   "outputs": [
    {
     "data": {
      "text/latex": [
       "$\\displaystyle \\left( \\left( 943, \\  4\\right), \\  \\left( 1682, \\  24\\right), \\  \\left( 100000, \\  4\\right)\\right)$"
      ],
      "text/plain": [
       "((943, 4), (1682, 24), (100000, 4))"
      ]
     },
     "execution_count": 6,
     "metadata": {},
     "output_type": "execute_result"
    }
   ],
   "source": [
    "import os\n",
    "\n",
    "base_src = \"./data/\"\n",
    "\n",
    "# users\n",
    "u_user_src = os.path.join(base_src, \"u.user\")\n",
    "u_cols = [\"user_id\", \"age\", \"sex\", \"occupation\", \"zip_code\"]\n",
    "users = pd.read_csv(u_user_src, sep=\"|\", names=u_cols, encoding=\"latin-1\")\n",
    "users = users.set_index(\"user_id\")\n",
    "\n",
    "# items\n",
    "u_item_src = os.path.join(base_src, \"u.item\")\n",
    "i_cols = [\n",
    "    \"movie_id\", \"title\", \"release_date\", \"video_release_date\", \"imdb_url\", \n",
    "    \"unknown\", \"Action\", \"Adventure\", \"Animation\", \"Children\", \"Comedy\", \"Crime\",\n",
    "    \"Documentary\", \"Drama\", \"Fantasy\", \"Film-Noir\", \"Horror\", \"Musical\", \"Mystery\", \"Romance\", \"Sci-fi\", \"Thriller\", \"War\", \"Western\"\n",
    "    ]\n",
    "items = pd.read_csv(u_item_src, sep=\"|\", names=i_cols, encoding=\"latin-1\")\n",
    "items.set_index(\"movie_id\")\n",
    "\n",
    "# ratings\n",
    "u_data_src = os.path.join(base_src, \"u.data\")\n",
    "u_cols = [\"user_id\", \"movie_id\", \"rating\", \"timestamp\"]\n",
    "ratings = pd.read_csv(u_data_src, sep=\"\\t\", names=u_cols, encoding=\"latin-1\")\n",
    "\n",
    "users.shape, items.shape, ratings.shape"
   ]
  },
  {
   "cell_type": "code",
   "execution_count": 7,
   "metadata": {},
   "outputs": [],
   "source": [
    "def RMSE(y_true, y_pred):\n",
    "    return np.sqrt(np.mean((np.array(y_true) - np.array(y_pred))**2))\n",
    "\n",
    "def score(model, neighbor_size=0):\n",
    "    \"\"\"\n",
    "    이 섹션에서는 neighbor를 고려해야 하므로 여기서 모델에 주입해서 사용하기로 함.\n",
    "    \"\"\"\n",
    "    id_pairs:tuple[int, int] = zip(x_test[\"user_id\"], x_test[\"movie_id\"])\n",
    "    y_pred = np.array([model(user, movie, neighbor_size) for (user, movie) in id_pairs])\n",
    "    y_true = np.array(x_test[\"rating\"])\n",
    "    return RMSE(y_true, y_pred)"
   ]
  },
  {
   "cell_type": "code",
   "execution_count": 13,
   "metadata": {},
   "outputs": [
    {
     "data": {
      "text/html": [
       "<div>\n",
       "<style scoped>\n",
       "    .dataframe tbody tr th:only-of-type {\n",
       "        vertical-align: middle;\n",
       "    }\n",
       "\n",
       "    .dataframe tbody tr th {\n",
       "        vertical-align: top;\n",
       "    }\n",
       "\n",
       "    .dataframe thead th {\n",
       "        text-align: right;\n",
       "    }\n",
       "</style>\n",
       "<table border=\"1\" class=\"dataframe\">\n",
       "  <thead>\n",
       "    <tr style=\"text-align: right;\">\n",
       "      <th>movie_id</th>\n",
       "      <th>1</th>\n",
       "      <th>2</th>\n",
       "      <th>3</th>\n",
       "      <th>4</th>\n",
       "      <th>5</th>\n",
       "      <th>6</th>\n",
       "      <th>7</th>\n",
       "      <th>8</th>\n",
       "      <th>9</th>\n",
       "      <th>10</th>\n",
       "      <th>...</th>\n",
       "      <th>1669</th>\n",
       "      <th>1670</th>\n",
       "      <th>1671</th>\n",
       "      <th>1672</th>\n",
       "      <th>1674</th>\n",
       "      <th>1675</th>\n",
       "      <th>1676</th>\n",
       "      <th>1678</th>\n",
       "      <th>1679</th>\n",
       "      <th>1680</th>\n",
       "    </tr>\n",
       "    <tr>\n",
       "      <th>user_id</th>\n",
       "      <th></th>\n",
       "      <th></th>\n",
       "      <th></th>\n",
       "      <th></th>\n",
       "      <th></th>\n",
       "      <th></th>\n",
       "      <th></th>\n",
       "      <th></th>\n",
       "      <th></th>\n",
       "      <th></th>\n",
       "      <th></th>\n",
       "      <th></th>\n",
       "      <th></th>\n",
       "      <th></th>\n",
       "      <th></th>\n",
       "      <th></th>\n",
       "      <th></th>\n",
       "      <th></th>\n",
       "      <th></th>\n",
       "      <th></th>\n",
       "      <th></th>\n",
       "    </tr>\n",
       "  </thead>\n",
       "  <tbody>\n",
       "    <tr>\n",
       "      <th>1</th>\n",
       "      <td>5.0</td>\n",
       "      <td>NaN</td>\n",
       "      <td>4.0</td>\n",
       "      <td>3.0</td>\n",
       "      <td>3.0</td>\n",
       "      <td>5.0</td>\n",
       "      <td>4.0</td>\n",
       "      <td>1.0</td>\n",
       "      <td>5.0</td>\n",
       "      <td>3.0</td>\n",
       "      <td>...</td>\n",
       "      <td>NaN</td>\n",
       "      <td>NaN</td>\n",
       "      <td>NaN</td>\n",
       "      <td>NaN</td>\n",
       "      <td>NaN</td>\n",
       "      <td>NaN</td>\n",
       "      <td>NaN</td>\n",
       "      <td>NaN</td>\n",
       "      <td>NaN</td>\n",
       "      <td>NaN</td>\n",
       "    </tr>\n",
       "  </tbody>\n",
       "</table>\n",
       "<p>1 rows × 1641 columns</p>\n",
       "</div>"
      ],
      "text/plain": [
       "movie_id  1     2     3     4     5     6     7     8     9     10    ...  \\\n",
       "user_id                                                               ...   \n",
       "1          5.0   NaN   4.0   3.0   3.0   5.0   4.0   1.0   5.0   3.0  ...   \n",
       "\n",
       "movie_id  1669  1670  1671  1672  1674  1675  1676  1678  1679  1680  \n",
       "user_id                                                               \n",
       "1          NaN   NaN   NaN   NaN   NaN   NaN   NaN   NaN   NaN   NaN  \n",
       "\n",
       "[1 rows x 1641 columns]"
      ]
     },
     "execution_count": 13,
     "metadata": {},
     "output_type": "execute_result"
    }
   ],
   "source": [
    "from sklearn.model_selection import train_test_split\n",
    "\n",
    "x = ratings.copy()\n",
    "y = ratings[\"rating\"]\n",
    "\n",
    "x_train, x_test, y_train, y_test = train_test_split(x, y, \n",
    "                                                    test_size=0.26, \n",
    "                                                    stratify=y)\n",
    "\n",
    "ratings_matrix = x_train.pivot(\n",
    "    index=\"user_id\",\n",
    "    columns=\"movie_id\",\n",
    "    values=\"rating\"\n",
    ")\n",
    "\n",
    "ratings_matrix.head(1)"
   ]
  },
  {
   "cell_type": "code",
   "execution_count": 15,
   "metadata": {},
   "outputs": [
    {
     "data": {
      "text/html": [
       "<div>\n",
       "<style scoped>\n",
       "    .dataframe tbody tr th:only-of-type {\n",
       "        vertical-align: middle;\n",
       "    }\n",
       "\n",
       "    .dataframe tbody tr th {\n",
       "        vertical-align: top;\n",
       "    }\n",
       "\n",
       "    .dataframe thead th {\n",
       "        text-align: right;\n",
       "    }\n",
       "</style>\n",
       "<table border=\"1\" class=\"dataframe\">\n",
       "  <thead>\n",
       "    <tr style=\"text-align: right;\">\n",
       "      <th>user_id</th>\n",
       "      <th>1</th>\n",
       "      <th>2</th>\n",
       "      <th>3</th>\n",
       "      <th>4</th>\n",
       "      <th>5</th>\n",
       "      <th>6</th>\n",
       "      <th>7</th>\n",
       "      <th>8</th>\n",
       "      <th>9</th>\n",
       "      <th>10</th>\n",
       "      <th>...</th>\n",
       "      <th>934</th>\n",
       "      <th>935</th>\n",
       "      <th>936</th>\n",
       "      <th>937</th>\n",
       "      <th>938</th>\n",
       "      <th>939</th>\n",
       "      <th>940</th>\n",
       "      <th>941</th>\n",
       "      <th>942</th>\n",
       "      <th>943</th>\n",
       "    </tr>\n",
       "    <tr>\n",
       "      <th>user_id</th>\n",
       "      <th></th>\n",
       "      <th></th>\n",
       "      <th></th>\n",
       "      <th></th>\n",
       "      <th></th>\n",
       "      <th></th>\n",
       "      <th></th>\n",
       "      <th></th>\n",
       "      <th></th>\n",
       "      <th></th>\n",
       "      <th></th>\n",
       "      <th></th>\n",
       "      <th></th>\n",
       "      <th></th>\n",
       "      <th></th>\n",
       "      <th></th>\n",
       "      <th></th>\n",
       "      <th></th>\n",
       "      <th></th>\n",
       "      <th></th>\n",
       "      <th></th>\n",
       "    </tr>\n",
       "  </thead>\n",
       "  <tbody>\n",
       "    <tr>\n",
       "      <th>1</th>\n",
       "      <td>1.0</td>\n",
       "      <td>0.150902</td>\n",
       "      <td>0.04837</td>\n",
       "      <td>0.056544</td>\n",
       "      <td>0.282698</td>\n",
       "      <td>0.330634</td>\n",
       "      <td>0.307801</td>\n",
       "      <td>0.262602</td>\n",
       "      <td>0.076983</td>\n",
       "      <td>0.217574</td>\n",
       "      <td>...</td>\n",
       "      <td>0.235556</td>\n",
       "      <td>0.07782</td>\n",
       "      <td>0.220987</td>\n",
       "      <td>0.118935</td>\n",
       "      <td>0.119576</td>\n",
       "      <td>0.109512</td>\n",
       "      <td>0.245605</td>\n",
       "      <td>0.078027</td>\n",
       "      <td>0.130232</td>\n",
       "      <td>0.283038</td>\n",
       "    </tr>\n",
       "  </tbody>\n",
       "</table>\n",
       "<p>1 rows × 943 columns</p>\n",
       "</div>"
      ],
      "text/plain": [
       "user_id  1         2        3         4         5         6         7    \\\n",
       "user_id                                                                   \n",
       "1        1.0  0.150902  0.04837  0.056544  0.282698  0.330634  0.307801   \n",
       "\n",
       "user_id       8         9         10   ...       934      935       936  \\\n",
       "user_id                                ...                                \n",
       "1        0.262602  0.076983  0.217574  ...  0.235556  0.07782  0.220987   \n",
       "\n",
       "user_id       937       938       939       940       941       942       943  \n",
       "user_id                                                                        \n",
       "1        0.118935  0.119576  0.109512  0.245605  0.078027  0.130232  0.283038  \n",
       "\n",
       "[1 rows x 943 columns]"
      ]
     },
     "execution_count": 15,
     "metadata": {},
     "output_type": "execute_result"
    }
   ],
   "source": [
    "from sklearn.metrics.pairwise import cosine_similarity\n",
    "\n",
    "matrix_dummy = ratings_matrix.copy().fillna(0)\n",
    "user_similarity = cosine_similarity(matrix_dummy) # u-u sim\n",
    "user_similarity = pd.DataFrame(data=user_similarity, index=ratings_matrix.index, columns=ratings_matrix.index)\n",
    "\n",
    "user_similarity.head(1)"
   ]
  },
  {
   "cell_type": "code",
   "execution_count": 22,
   "metadata": {},
   "outputs": [],
   "source": [
    "def CF_knn(user_id, movie_id, neighbor_size=0):\n",
    "    if movie_id in ratings_matrix.columns:\n",
    "        sim_score = user_similarity[user_id].copy() # 유사도 점수\n",
    "        movie_ratings = ratings_matrix[movie_id].copy() # 영화 평점\n",
    "        \n",
    "        none_rating_idx = movie_ratings[movie_ratings.isnull()].index # 평점이 없는 사람들의 인덱스\n",
    "        movie_ratings = movie_ratings.dropna()\n",
    "        sim_score = sim_score.drop(none_rating_idx)\n",
    "        \n",
    "        if neighbor_size == 0: # 0이면 일반 CF\n",
    "            mean_rating = np.dot(sim_score, movie_ratings) / sim_score.sum()\n",
    "        \n",
    "        else:\n",
    "            if len(sim_score) > 1: # 일단 비슷한 유저 자체가 자기 자신 외에 더 있어야 하니까.\n",
    "                # 지정한 이웃 숫자보다 유사도 점수 대상 유저가 적을 수도 있으니까. 10 이웃 목표했는데 5명 밖에 없는 경우.\n",
    "                neighbor_size = min(neighbor_size, len(sim_score))\n",
    "                \n",
    "                sim_score = np.array(sim_score)\n",
    "                movie_ratings = np.array(movie_ratings)\n",
    "                user_idx = np.argsort(sim_score)\n",
    "                \n",
    "                sim_score = sim_score[user_idx][-neighbor_size:] # 오름차순으로 정렬 했으니까... 뒤에서부터 뽑아야 함.\n",
    "                movie_ratings = movie_ratings[user_idx][-neighbor_size:]\n",
    "                \n",
    "                mean_rating = np.dot(sim_score, movie_ratings) / sim_score.sum()\n",
    "            else:\n",
    "                mean_rating = 3.0\n",
    "    else:\n",
    "        mean_rating = 3.0\n",
    "        \n",
    "    return mean_rating"
   ]
  },
  {
   "cell_type": "code",
   "execution_count": 23,
   "metadata": {},
   "outputs": [
    {
     "data": {
      "text/latex": [
       "$\\displaystyle 1.00914434875982$"
      ],
      "text/plain": [
       "1.0091443487598184"
      ]
     },
     "execution_count": 23,
     "metadata": {},
     "output_type": "execute_result"
    }
   ],
   "source": [
    "# 모든 유저를 활용한 CF보다 미세하게 좋아졌다!\n",
    "score(CF_knn, neighbor_size=30)"
   ]
  },
  {
   "cell_type": "code",
   "execution_count": 29,
   "metadata": {},
   "outputs": [],
   "source": [
    "def recom_movie(user_id, n_items, neighbor_size=0):\n",
    "    user_movie = ratings_matrix.loc[user_id].copy() # u-i mat중 uid에 해당하는 행\n",
    "    # <user_id, movie_id, rating>\n",
    "\n",
    "    for movie in ratings_matrix.columns:\n",
    "        if pd.notnull(user_movie[movie]): # 이미 평점을 매긴 영화는 제외\n",
    "            user_movie[movie] = 0 \n",
    "        else: # 평점이 없다면 CF_knn을 적용하여 값을 채워 넣기.\n",
    "            user_movie.loc[movie] = CF_knn(user_id, movie, neighbor_size) # CF_knn을 통해 예측한 평점을 반영\n",
    "    \n",
    "    movie_sort = user_movie.sort_values(ascending=False)[:n_items] # 평점이 높은 순으로 정렬\n",
    "    recom_movies = items.loc[movie_sort.index] # 영화 정보를 가져옴.\n",
    "    return recom_movies"
   ]
  },
  {
   "cell_type": "code",
   "execution_count": 31,
   "metadata": {},
   "outputs": [
    {
     "data": {
      "text/plain": [
       "movie_id\n",
       "1500    Prisoner of the Mountains (Kavkazsky Plennik) ...\n",
       "1467                                     Cure, The (1995)\n",
       "1189                              That Old Feeling (1997)\n",
       "1656                                        Target (1995)\n",
       "173                        Raiders of the Lost Ark (1981)\n",
       "1449                               Golden Earrings (1947)\n",
       "1443                                That Darn Cat! (1965)\n",
       "1594                                      Shopping (1994)\n",
       "318                       Everyone Says I Love You (1996)\n",
       "64                     What's Eating Gilbert Grape (1993)\n",
       "Name: title, dtype: object"
      ]
     },
     "execution_count": 31,
     "metadata": {},
     "output_type": "execute_result"
    }
   ],
   "source": [
    "recom_movie(1, 10, neighbor_size=30)[\"title\"] # 이런 것들 추천해줄거야"
   ]
  },
  {
   "cell_type": "code",
   "execution_count": 33,
   "metadata": {},
   "outputs": [
    {
     "name": "stdout",
     "output_type": "stream",
     "text": [
      "1.02869478287237\n",
      "1.0122489273614521\n",
      "1.0091443487598184\n",
      "1.0083936390808643\n",
      "1.0087410376036225\n",
      "1.0091861884650746\n",
      "1.0100676052990607\n",
      "1.0106995316339382\n",
      "1.0114986313231975\n"
     ]
    }
   ],
   "source": [
    "# 대강 neighbor_size를 10~100까지 바꿔가면서 RMSE를 측정해보면 어느 정도로 해야 할지 감이 옴.\n",
    "# 해보니까 35~45 구간 사이가 가장 좋은 것 같다.\n",
    "for size in [*range(10, 100, 10)]:\n",
    "    print(score(CF_knn, neighbor_size=size))"
   ]
  },
  {
   "cell_type": "code",
   "execution_count": null,
   "metadata": {},
   "outputs": [],
   "source": []
  }
 ],
 "metadata": {
  "kernelspec": {
   "display_name": "camp",
   "language": "python",
   "name": "camp"
  },
  "language_info": {
   "codemirror_mode": {
    "name": "ipython",
    "version": 3
   },
   "file_extension": ".py",
   "mimetype": "text/x-python",
   "name": "python",
   "nbconvert_exporter": "python",
   "pygments_lexer": "ipython3",
   "version": "3.10.9"
  },
  "orig_nbformat": 4
 },
 "nbformat": 4,
 "nbformat_minor": 2
}
