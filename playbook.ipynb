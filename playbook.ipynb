{
 "cells": [
  {
   "cell_type": "code",
   "execution_count": 1,
   "metadata": {},
   "outputs": [
    {
     "name": "stdout",
     "output_type": "stream",
     "text": [
      "/Users/darrenkwon/statistics-and-data-driven/basic-math/linear_algebra/알고리즘으로_배우는_선형대수/.venv/bin/python\n"
     ]
    }
   ],
   "source": [
    "!which python"
   ]
  },
  {
   "cell_type": "code",
   "execution_count": 1,
   "metadata": {},
   "outputs": [
    {
     "name": "stdout",
     "output_type": "stream",
     "text": [
      "1.23.5\n",
      "1.5.3\n",
      "3.7.1\n"
     ]
    },
    {
     "data": {
      "text/plain": [
       "'/Users/darrenkwon/miniconda3/envs/camp/lib/python3.10/site-packages/matplotlib/mpl-data/matplotlibrc'"
      ]
     },
     "execution_count": 1,
     "metadata": {},
     "output_type": "execute_result"
    }
   ],
   "source": [
    "import numpy as np\n",
    "import pandas as pd\n",
    "import matplotlib as mpl\n",
    "import matplotlib.pyplot as plt # https://matplotlib.org/stable/api/pyplot_summary.html#module-matplotlib.pyplot\n",
    "import matplotlib.font_manager as fm\n",
    "\n",
    "%matplotlib inline\n",
    "\n",
    "# from IPython.display import set_matplotlib_formats\n",
    "# set_matplotlib_formats(\"retina\") \n",
    "%config InlineBackend.figure_format='retina'\n",
    "\n",
    "mpl.rcParams['axes.unicode_minus'] = False # graph에서 마이너스 폰트 깨지는 문제 해결\n",
    "\n",
    "import warnings\n",
    "warnings.filterwarnings('ignore')\n",
    "\n",
    "print(f\"{np.__version__}\")\n",
    "print(f\"{pd.__version__}\")\n",
    "print(f\"{mpl.__version__}\")\n",
    "\n",
    "# mpl.matplotlib_fname() # Get the location of the config file."
   ]
  },
  {
   "cell_type": "code",
   "execution_count": 6,
   "metadata": {},
   "outputs": [
    {
     "name": "stdout",
     "output_type": "stream",
     "text": [
      "1.2.1\n",
      "1.11.1\n",
      "1.10.0\n"
     ]
    }
   ],
   "source": [
    "import scipy as sp\n",
    "import sympy\n",
    "import sklearn\n",
    "\n",
    "sympy.init_printing(use_latex='mathjax') # Juypter 노트북에서 수학식의 LaTeX 표현을 위해 필요함\n",
    "\n",
    "print(f\"{sklearn.__version__}\")\n",
    "print(f\"{sympy.__version__}\")\n",
    "print(f\"{sp.__version__}\")"
   ]
  },
  {
   "cell_type": "code",
   "execution_count": 4,
   "metadata": {},
   "outputs": [
    {
     "name": "stdout",
     "output_type": "stream",
     "text": [
      "numpy version: 1.23.5\n",
      " sklearn version: 1.2.1\n",
      " torch version: 1.13.1\n",
      "\n",
      "device:[cpu].\n"
     ]
    }
   ],
   "source": [
    "import torch\n",
    "import torch.nn as nn\n",
    "import torch.nn.functional as F\n",
    "import torch.optim as optim\n",
    "\n",
    "print(\n",
    "    f'numpy version: {np.__version__}\\n',\n",
    "    f'sklearn version: {sklearn.__version__}\\n',\n",
    "    f'torch version: {torch.__version__}\\n',\n",
    ")\n",
    "\n",
    "device = torch.device('cuda:0' if torch.cuda.is_available() else 'cpu')\n",
    "print (\"device:[%s].\"%(device))"
   ]
  },
  {
   "cell_type": "code",
   "execution_count": 20,
   "metadata": {},
   "outputs": [
    {
     "data": {
      "text/latex": [
       "$\\displaystyle \\left( 8,\\right)$"
      ],
      "text/plain": [
       "(8,)"
      ]
     },
     "execution_count": 20,
     "metadata": {},
     "output_type": "execute_result"
    }
   ],
   "source": [
    "np.random.rand(8).shape # 0~1 사이의 값 균등 분포. (1, 8) 행렬로"
   ]
  },
  {
   "cell_type": "code",
   "execution_count": null,
   "metadata": {},
   "outputs": [],
   "source": []
  },
  {
   "cell_type": "code",
   "execution_count": null,
   "metadata": {},
   "outputs": [],
   "source": []
  }
 ],
 "metadata": {
  "kernelspec": {
   "display_name": "camp",
   "language": "python",
   "name": "camp"
  },
  "language_info": {
   "codemirror_mode": {
    "name": "ipython",
    "version": 3
   },
   "file_extension": ".py",
   "mimetype": "text/x-python",
   "name": "python",
   "nbconvert_exporter": "python",
   "pygments_lexer": "ipython3",
   "version": "3.10.8"
  },
  "orig_nbformat": 4,
  "vscode": {
   "interpreter": {
    "hash": "ab75e66f68e79a3186cf2454b6e5a8950ab3b526308e1b387d2eb8fdeb6fd15a"
   }
  }
 },
 "nbformat": 4,
 "nbformat_minor": 2
}
