{
 "cells": [
  {
   "cell_type": "code",
   "execution_count": 1,
   "metadata": {},
   "outputs": [],
   "source": [
    "import numpy as np\n",
    "import pandas as pd\n",
    "import scipy as sp\n",
    "import matplotlib.pylab as plt"
   ]
  },
  {
   "cell_type": "code",
   "execution_count": 5,
   "metadata": {},
   "outputs": [
    {
     "name": "stdout",
     "output_type": "stream",
     "text": [
      "/Users/darrenkwon/statistics-and-data-driven/.venv/bin/python\n"
     ]
    }
   ],
   "source": []
  },
  {
   "cell_type": "code",
   "execution_count": 37,
   "metadata": {},
   "outputs": [
    {
     "data": {
      "text/plain": [
       "array([[32]])"
      ]
     },
     "execution_count": 37,
     "metadata": {},
     "output_type": "execute_result"
    }
   ],
   "source": []
  },
  {
   "cell_type": "code",
   "execution_count": 32,
   "metadata": {},
   "outputs": [
    {
     "data": {
      "text/plain": [
       "array([[0., 0., 1., 0., 0.],\n",
       "       [0., 0., 0., 1., 0.],\n",
       "       [0., 0., 0., 0., 1.],\n",
       "       [0., 0., 0., 0., 0.],\n",
       "       [0., 0., 0., 0., 0.]])"
      ]
     },
     "execution_count": 32,
     "metadata": {},
     "output_type": "execute_result"
    }
   ],
   "source": []
  },
  {
   "cell_type": "code",
   "execution_count": 18,
   "metadata": {},
   "outputs": [
    {
     "name": "stderr",
     "output_type": "stream",
     "text": [
      "/var/folders/z0/9n2_5pyx1gz3mn_3mt7831qm0000gn/T/ipykernel_33670/2866496533.py:13: UserWarning: Glyph 48289 (\\N{HANGUL SYLLABLE BEG}) missing from current font.\n",
      "  plt.tight_layout(w_pad=7)\n",
      "/var/folders/z0/9n2_5pyx1gz3mn_3mt7831qm0000gn/T/ipykernel_33670/2866496533.py:13: UserWarning: Glyph 53552 (\\N{HANGUL SYLLABLE TEO}) missing from current font.\n",
      "  plt.tight_layout(w_pad=7)\n",
      "/var/folders/z0/9n2_5pyx1gz3mn_3mt7831qm0000gn/T/ipykernel_33670/2866496533.py:13: UserWarning: Glyph 54868 (\\N{HANGUL SYLLABLE HWA}) missing from current font.\n",
      "  plt.tight_layout(w_pad=7)\n",
      "/var/folders/z0/9n2_5pyx1gz3mn_3mt7831qm0000gn/T/ipykernel_33670/2866496533.py:13: UserWarning: Glyph 46108 (\\N{HANGUL SYLLABLE DOEN}) missing from current font.\n",
      "  plt.tight_layout(w_pad=7)\n",
      "/var/folders/z0/9n2_5pyx1gz3mn_3mt7831qm0000gn/T/ipykernel_33670/2866496533.py:13: UserWarning: Glyph 51060 (\\N{HANGUL SYLLABLE I}) missing from current font.\n",
      "  plt.tight_layout(w_pad=7)\n",
      "/var/folders/z0/9n2_5pyx1gz3mn_3mt7831qm0000gn/T/ipykernel_33670/2866496533.py:13: UserWarning: Glyph 48120 (\\N{HANGUL SYLLABLE MI}) missing from current font.\n",
      "  plt.tight_layout(w_pad=7)\n",
      "/var/folders/z0/9n2_5pyx1gz3mn_3mt7831qm0000gn/T/ipykernel_33670/2866496533.py:13: UserWarning: Glyph 51648 (\\N{HANGUL SYLLABLE JI}) missing from current font.\n",
      "  plt.tight_layout(w_pad=7)\n"
     ]
    },
    {
     "data": {
      "image/png": "[encoded data removed]",
      "text/plain": [
       "<Figure size 800x300 with 8 Axes>"
      ]
     },
     "metadata": {},
     "output_type": "display_data"
    }
   ],
   "source": []
  }
 ],
 "metadata": {
  "kernelspec": {
   "display_name": ".venv",
   "language": "python",
   "name": "python3"
  },
  "language_info": {
   "codemirror_mode": {
    "name": "ipython",
    "version": 3
   },
   "file_extension": ".py",
   "mimetype": "text/x-python",
   "name": "python",
   "nbconvert_exporter": "python",
   "pygments_lexer": "ipython3",
   "version": "3.10.6"
  },
  "orig_nbformat": 4,
  "vscode": {
   "interpreter": {
    "hash": "ab75e66f68e79a3186cf2454b6e5a8950ab3b526308e1b387d2eb8fdeb6fd15a"
   }
  }
 },
 "nbformat": 4,
 "nbformat_minor": 2
}
